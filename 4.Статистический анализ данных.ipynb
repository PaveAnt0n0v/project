{
 "cells": [
  {
   "cell_type": "markdown",
   "metadata": {},
   "source": [
    "# Описание проекта"
   ]
  },
  {
   "cell_type": "markdown",
   "metadata": {},
   "source": [
    "Вы аналитик компании «Мегалайн» — федерального оператора сотовой связи. Клиентам предлагают два тарифных плана: «Смарт» и «Ультра». Чтобы скорректировать рекламный бюджет, коммерческий департамент хочет понять, какой тариф приносит больше денег.\n",
    "Вам предстоит сделать предварительный анализ тарифов на небольшой выборке клиентов. В вашем распоряжении данные 500 пользователей «Мегалайна»: кто они, откуда, каким тарифом пользуются, сколько звонков и сообщений каждый отправил за 2018 год. Нужно проанализировать поведение клиентов и сделать вывод — какой тариф лучше."
   ]
  },
  {
   "cell_type": "markdown",
   "metadata": {},
   "source": [
    "## Изучение данных из файла"
   ]
  },
  {
   "cell_type": "code",
   "execution_count": null,
   "metadata": {},
   "outputs": [],
   "source": [
    "import pandas as pd # импорт библиотеки pandas\n",
    "import matplotlib.pyplot as plt # импорт библиотеки matplotlib.pyplot для работы с графиками\n",
    "import numpy as np # импорт библиотеки numpy"
   ]
  },
  {
   "cell_type": "code",
   "execution_count": 2,
   "metadata": {},
   "outputs": [],
   "source": [
    "calls = pd.read_csv('/datasets/calls.csv') # чтение файла с данными и сохранение в calls"
   ]
  },
  {
   "cell_type": "code",
   "execution_count": 3,
   "metadata": {},
   "outputs": [
    {
     "data": {
      "text/html": [
       "<div>\n",
       "<style scoped>\n",
       "    .dataframe tbody tr th:only-of-type {\n",
       "        vertical-align: middle;\n",
       "    }\n",
       "\n",
       "    .dataframe tbody tr th {\n",
       "        vertical-align: top;\n",
       "    }\n",
       "\n",
       "    .dataframe thead th {\n",
       "        text-align: right;\n",
       "    }\n",
       "</style>\n",
       "<table border=\"1\" class=\"dataframe\">\n",
       "  <thead>\n",
       "    <tr style=\"text-align: right;\">\n",
       "      <th></th>\n",
       "      <th>id</th>\n",
       "      <th>call_date</th>\n",
       "      <th>duration</th>\n",
       "      <th>user_id</th>\n",
       "    </tr>\n",
       "  </thead>\n",
       "  <tbody>\n",
       "    <tr>\n",
       "      <td>0</td>\n",
       "      <td>1000_0</td>\n",
       "      <td>2018-07-25</td>\n",
       "      <td>0.00</td>\n",
       "      <td>1000</td>\n",
       "    </tr>\n",
       "    <tr>\n",
       "      <td>1</td>\n",
       "      <td>1000_1</td>\n",
       "      <td>2018-08-17</td>\n",
       "      <td>0.00</td>\n",
       "      <td>1000</td>\n",
       "    </tr>\n",
       "    <tr>\n",
       "      <td>2</td>\n",
       "      <td>1000_2</td>\n",
       "      <td>2018-06-11</td>\n",
       "      <td>2.85</td>\n",
       "      <td>1000</td>\n",
       "    </tr>\n",
       "    <tr>\n",
       "      <td>3</td>\n",
       "      <td>1000_3</td>\n",
       "      <td>2018-09-21</td>\n",
       "      <td>13.80</td>\n",
       "      <td>1000</td>\n",
       "    </tr>\n",
       "    <tr>\n",
       "      <td>4</td>\n",
       "      <td>1000_4</td>\n",
       "      <td>2018-12-15</td>\n",
       "      <td>5.18</td>\n",
       "      <td>1000</td>\n",
       "    </tr>\n",
       "  </tbody>\n",
       "</table>\n",
       "</div>"
      ],
      "text/plain": [
       "       id   call_date  duration  user_id\n",
       "0  1000_0  2018-07-25      0.00     1000\n",
       "1  1000_1  2018-08-17      0.00     1000\n",
       "2  1000_2  2018-06-11      2.85     1000\n",
       "3  1000_3  2018-09-21     13.80     1000\n",
       "4  1000_4  2018-12-15      5.18     1000"
      ]
     },
     "execution_count": 3,
     "metadata": {},
     "output_type": "execute_result"
    }
   ],
   "source": [
    "calls.head() # получение первых 5 строк таблицы calls"
   ]
  },
  {
   "cell_type": "code",
   "execution_count": 4,
   "metadata": {},
   "outputs": [
    {
     "name": "stdout",
     "output_type": "stream",
     "text": [
      "<class 'pandas.core.frame.DataFrame'>\n",
      "RangeIndex: 202607 entries, 0 to 202606\n",
      "Data columns (total 4 columns):\n",
      "id           202607 non-null object\n",
      "call_date    202607 non-null object\n",
      "duration     202607 non-null float64\n",
      "user_id      202607 non-null int64\n",
      "dtypes: float64(1), int64(1), object(2)\n",
      "memory usage: 6.2+ MB\n"
     ]
    }
   ],
   "source": [
    "calls.info() # получение общей информации о данных в таблице calls"
   ]
  },
  {
   "cell_type": "code",
   "execution_count": 5,
   "metadata": {},
   "outputs": [],
   "source": [
    "internet = pd.read_csv('/datasets/internet.csv')# чтение файла с данными и сохранение в internet"
   ]
  },
  {
   "cell_type": "code",
   "execution_count": 6,
   "metadata": {},
   "outputs": [
    {
     "data": {
      "text/html": [
       "<div>\n",
       "<style scoped>\n",
       "    .dataframe tbody tr th:only-of-type {\n",
       "        vertical-align: middle;\n",
       "    }\n",
       "\n",
       "    .dataframe tbody tr th {\n",
       "        vertical-align: top;\n",
       "    }\n",
       "\n",
       "    .dataframe thead th {\n",
       "        text-align: right;\n",
       "    }\n",
       "</style>\n",
       "<table border=\"1\" class=\"dataframe\">\n",
       "  <thead>\n",
       "    <tr style=\"text-align: right;\">\n",
       "      <th></th>\n",
       "      <th>Unnamed: 0</th>\n",
       "      <th>id</th>\n",
       "      <th>mb_used</th>\n",
       "      <th>session_date</th>\n",
       "      <th>user_id</th>\n",
       "    </tr>\n",
       "  </thead>\n",
       "  <tbody>\n",
       "    <tr>\n",
       "      <td>0</td>\n",
       "      <td>0</td>\n",
       "      <td>1000_0</td>\n",
       "      <td>112.95</td>\n",
       "      <td>2018-11-25</td>\n",
       "      <td>1000</td>\n",
       "    </tr>\n",
       "    <tr>\n",
       "      <td>1</td>\n",
       "      <td>1</td>\n",
       "      <td>1000_1</td>\n",
       "      <td>1052.81</td>\n",
       "      <td>2018-09-07</td>\n",
       "      <td>1000</td>\n",
       "    </tr>\n",
       "    <tr>\n",
       "      <td>2</td>\n",
       "      <td>2</td>\n",
       "      <td>1000_2</td>\n",
       "      <td>1197.26</td>\n",
       "      <td>2018-06-25</td>\n",
       "      <td>1000</td>\n",
       "    </tr>\n",
       "    <tr>\n",
       "      <td>3</td>\n",
       "      <td>3</td>\n",
       "      <td>1000_3</td>\n",
       "      <td>550.27</td>\n",
       "      <td>2018-08-22</td>\n",
       "      <td>1000</td>\n",
       "    </tr>\n",
       "    <tr>\n",
       "      <td>4</td>\n",
       "      <td>4</td>\n",
       "      <td>1000_4</td>\n",
       "      <td>302.56</td>\n",
       "      <td>2018-09-24</td>\n",
       "      <td>1000</td>\n",
       "    </tr>\n",
       "  </tbody>\n",
       "</table>\n",
       "</div>"
      ],
      "text/plain": [
       "   Unnamed: 0      id  mb_used session_date  user_id\n",
       "0           0  1000_0   112.95   2018-11-25     1000\n",
       "1           1  1000_1  1052.81   2018-09-07     1000\n",
       "2           2  1000_2  1197.26   2018-06-25     1000\n",
       "3           3  1000_3   550.27   2018-08-22     1000\n",
       "4           4  1000_4   302.56   2018-09-24     1000"
      ]
     },
     "execution_count": 6,
     "metadata": {},
     "output_type": "execute_result"
    }
   ],
   "source": [
    "internet.head() # получение первых 5 строк таблицы internet"
   ]
  },
  {
   "cell_type": "code",
   "execution_count": 7,
   "metadata": {},
   "outputs": [
    {
     "name": "stdout",
     "output_type": "stream",
     "text": [
      "<class 'pandas.core.frame.DataFrame'>\n",
      "RangeIndex: 149396 entries, 0 to 149395\n",
      "Data columns (total 5 columns):\n",
      "Unnamed: 0      149396 non-null int64\n",
      "id              149396 non-null object\n",
      "mb_used         149396 non-null float64\n",
      "session_date    149396 non-null object\n",
      "user_id         149396 non-null int64\n",
      "dtypes: float64(1), int64(2), object(2)\n",
      "memory usage: 5.7+ MB\n"
     ]
    }
   ],
   "source": [
    "internet.info() # получение общей информации о данных в таблице internet"
   ]
  },
  {
   "cell_type": "code",
   "execution_count": 8,
   "metadata": {},
   "outputs": [],
   "source": [
    "messages = pd.read_csv('/datasets/messages.csv')# чтение файла с данными и сохранение в messages"
   ]
  },
  {
   "cell_type": "code",
   "execution_count": 9,
   "metadata": {},
   "outputs": [
    {
     "data": {
      "text/html": [
       "<div>\n",
       "<style scoped>\n",
       "    .dataframe tbody tr th:only-of-type {\n",
       "        vertical-align: middle;\n",
       "    }\n",
       "\n",
       "    .dataframe tbody tr th {\n",
       "        vertical-align: top;\n",
       "    }\n",
       "\n",
       "    .dataframe thead th {\n",
       "        text-align: right;\n",
       "    }\n",
       "</style>\n",
       "<table border=\"1\" class=\"dataframe\">\n",
       "  <thead>\n",
       "    <tr style=\"text-align: right;\">\n",
       "      <th></th>\n",
       "      <th>id</th>\n",
       "      <th>message_date</th>\n",
       "      <th>user_id</th>\n",
       "    </tr>\n",
       "  </thead>\n",
       "  <tbody>\n",
       "    <tr>\n",
       "      <td>0</td>\n",
       "      <td>1000_0</td>\n",
       "      <td>2018-06-27</td>\n",
       "      <td>1000</td>\n",
       "    </tr>\n",
       "    <tr>\n",
       "      <td>1</td>\n",
       "      <td>1000_1</td>\n",
       "      <td>2018-10-08</td>\n",
       "      <td>1000</td>\n",
       "    </tr>\n",
       "    <tr>\n",
       "      <td>2</td>\n",
       "      <td>1000_2</td>\n",
       "      <td>2018-08-04</td>\n",
       "      <td>1000</td>\n",
       "    </tr>\n",
       "    <tr>\n",
       "      <td>3</td>\n",
       "      <td>1000_3</td>\n",
       "      <td>2018-06-16</td>\n",
       "      <td>1000</td>\n",
       "    </tr>\n",
       "    <tr>\n",
       "      <td>4</td>\n",
       "      <td>1000_4</td>\n",
       "      <td>2018-12-05</td>\n",
       "      <td>1000</td>\n",
       "    </tr>\n",
       "  </tbody>\n",
       "</table>\n",
       "</div>"
      ],
      "text/plain": [
       "       id message_date  user_id\n",
       "0  1000_0   2018-06-27     1000\n",
       "1  1000_1   2018-10-08     1000\n",
       "2  1000_2   2018-08-04     1000\n",
       "3  1000_3   2018-06-16     1000\n",
       "4  1000_4   2018-12-05     1000"
      ]
     },
     "execution_count": 9,
     "metadata": {},
     "output_type": "execute_result"
    }
   ],
   "source": [
    "messages.head() # получение первых 5 строк таблицы messages"
   ]
  },
  {
   "cell_type": "code",
   "execution_count": 10,
   "metadata": {},
   "outputs": [
    {
     "name": "stdout",
     "output_type": "stream",
     "text": [
      "<class 'pandas.core.frame.DataFrame'>\n",
      "RangeIndex: 123036 entries, 0 to 123035\n",
      "Data columns (total 3 columns):\n",
      "id              123036 non-null object\n",
      "message_date    123036 non-null object\n",
      "user_id         123036 non-null int64\n",
      "dtypes: int64(1), object(2)\n",
      "memory usage: 2.8+ MB\n"
     ]
    }
   ],
   "source": [
    "messages.info() # получение общей информации о данных в таблице messages"
   ]
  },
  {
   "cell_type": "code",
   "execution_count": 11,
   "metadata": {},
   "outputs": [],
   "source": [
    "tariffs = pd.read_csv('/datasets/tariffs.csv') # чтение файла с данными и сохранение в tariffs"
   ]
  },
  {
   "cell_type": "code",
   "execution_count": 12,
   "metadata": {},
   "outputs": [
    {
     "data": {
      "text/html": [
       "<div>\n",
       "<style scoped>\n",
       "    .dataframe tbody tr th:only-of-type {\n",
       "        vertical-align: middle;\n",
       "    }\n",
       "\n",
       "    .dataframe tbody tr th {\n",
       "        vertical-align: top;\n",
       "    }\n",
       "\n",
       "    .dataframe thead th {\n",
       "        text-align: right;\n",
       "    }\n",
       "</style>\n",
       "<table border=\"1\" class=\"dataframe\">\n",
       "  <thead>\n",
       "    <tr style=\"text-align: right;\">\n",
       "      <th></th>\n",
       "      <th>messages_included</th>\n",
       "      <th>mb_per_month_included</th>\n",
       "      <th>minutes_included</th>\n",
       "      <th>rub_monthly_fee</th>\n",
       "      <th>rub_per_gb</th>\n",
       "      <th>rub_per_message</th>\n",
       "      <th>rub_per_minute</th>\n",
       "      <th>tariff_name</th>\n",
       "    </tr>\n",
       "  </thead>\n",
       "  <tbody>\n",
       "    <tr>\n",
       "      <td>0</td>\n",
       "      <td>50</td>\n",
       "      <td>15360</td>\n",
       "      <td>500</td>\n",
       "      <td>550</td>\n",
       "      <td>200</td>\n",
       "      <td>3</td>\n",
       "      <td>3</td>\n",
       "      <td>smart</td>\n",
       "    </tr>\n",
       "    <tr>\n",
       "      <td>1</td>\n",
       "      <td>1000</td>\n",
       "      <td>30720</td>\n",
       "      <td>3000</td>\n",
       "      <td>1950</td>\n",
       "      <td>150</td>\n",
       "      <td>1</td>\n",
       "      <td>1</td>\n",
       "      <td>ultra</td>\n",
       "    </tr>\n",
       "  </tbody>\n",
       "</table>\n",
       "</div>"
      ],
      "text/plain": [
       "   messages_included  mb_per_month_included  minutes_included  \\\n",
       "0                 50                  15360               500   \n",
       "1               1000                  30720              3000   \n",
       "\n",
       "   rub_monthly_fee  rub_per_gb  rub_per_message  rub_per_minute tariff_name  \n",
       "0              550         200                3               3       smart  \n",
       "1             1950         150                1               1       ultra  "
      ]
     },
     "execution_count": 12,
     "metadata": {},
     "output_type": "execute_result"
    }
   ],
   "source": [
    "tariffs.head() # получение первых 2 строк таблицы tariffs"
   ]
  },
  {
   "cell_type": "code",
   "execution_count": 13,
   "metadata": {},
   "outputs": [
    {
     "name": "stdout",
     "output_type": "stream",
     "text": [
      "<class 'pandas.core.frame.DataFrame'>\n",
      "RangeIndex: 2 entries, 0 to 1\n",
      "Data columns (total 8 columns):\n",
      "messages_included        2 non-null int64\n",
      "mb_per_month_included    2 non-null int64\n",
      "minutes_included         2 non-null int64\n",
      "rub_monthly_fee          2 non-null int64\n",
      "rub_per_gb               2 non-null int64\n",
      "rub_per_message          2 non-null int64\n",
      "rub_per_minute           2 non-null int64\n",
      "tariff_name              2 non-null object\n",
      "dtypes: int64(7), object(1)\n",
      "memory usage: 256.0+ bytes\n"
     ]
    }
   ],
   "source": [
    "tariffs.info() # получение общей информации о данных в таблице tariffs"
   ]
  },
  {
   "cell_type": "code",
   "execution_count": 14,
   "metadata": {},
   "outputs": [],
   "source": [
    "users = pd.read_csv('/datasets/users.csv') # чтение файла с данными и сохранение в usersusers"
   ]
  },
  {
   "cell_type": "code",
   "execution_count": 15,
   "metadata": {
    "scrolled": true
   },
   "outputs": [
    {
     "data": {
      "text/html": [
       "<div>\n",
       "<style scoped>\n",
       "    .dataframe tbody tr th:only-of-type {\n",
       "        vertical-align: middle;\n",
       "    }\n",
       "\n",
       "    .dataframe tbody tr th {\n",
       "        vertical-align: top;\n",
       "    }\n",
       "\n",
       "    .dataframe thead th {\n",
       "        text-align: right;\n",
       "    }\n",
       "</style>\n",
       "<table border=\"1\" class=\"dataframe\">\n",
       "  <thead>\n",
       "    <tr style=\"text-align: right;\">\n",
       "      <th></th>\n",
       "      <th>user_id</th>\n",
       "      <th>age</th>\n",
       "      <th>churn_date</th>\n",
       "      <th>city</th>\n",
       "      <th>first_name</th>\n",
       "      <th>last_name</th>\n",
       "      <th>reg_date</th>\n",
       "      <th>tariff</th>\n",
       "    </tr>\n",
       "  </thead>\n",
       "  <tbody>\n",
       "    <tr>\n",
       "      <td>0</td>\n",
       "      <td>1000</td>\n",
       "      <td>52</td>\n",
       "      <td>NaN</td>\n",
       "      <td>Краснодар</td>\n",
       "      <td>Рафаил</td>\n",
       "      <td>Верещагин</td>\n",
       "      <td>2018-05-25</td>\n",
       "      <td>ultra</td>\n",
       "    </tr>\n",
       "    <tr>\n",
       "      <td>1</td>\n",
       "      <td>1001</td>\n",
       "      <td>41</td>\n",
       "      <td>NaN</td>\n",
       "      <td>Москва</td>\n",
       "      <td>Иван</td>\n",
       "      <td>Ежов</td>\n",
       "      <td>2018-11-01</td>\n",
       "      <td>smart</td>\n",
       "    </tr>\n",
       "    <tr>\n",
       "      <td>2</td>\n",
       "      <td>1002</td>\n",
       "      <td>59</td>\n",
       "      <td>NaN</td>\n",
       "      <td>Стерлитамак</td>\n",
       "      <td>Евгений</td>\n",
       "      <td>Абрамович</td>\n",
       "      <td>2018-06-17</td>\n",
       "      <td>smart</td>\n",
       "    </tr>\n",
       "    <tr>\n",
       "      <td>3</td>\n",
       "      <td>1003</td>\n",
       "      <td>23</td>\n",
       "      <td>NaN</td>\n",
       "      <td>Москва</td>\n",
       "      <td>Белла</td>\n",
       "      <td>Белякова</td>\n",
       "      <td>2018-08-17</td>\n",
       "      <td>ultra</td>\n",
       "    </tr>\n",
       "    <tr>\n",
       "      <td>4</td>\n",
       "      <td>1004</td>\n",
       "      <td>68</td>\n",
       "      <td>NaN</td>\n",
       "      <td>Новокузнецк</td>\n",
       "      <td>Татьяна</td>\n",
       "      <td>Авдеенко</td>\n",
       "      <td>2018-05-14</td>\n",
       "      <td>ultra</td>\n",
       "    </tr>\n",
       "  </tbody>\n",
       "</table>\n",
       "</div>"
      ],
      "text/plain": [
       "   user_id  age churn_date         city first_name  last_name    reg_date  \\\n",
       "0     1000   52        NaN    Краснодар     Рафаил  Верещагин  2018-05-25   \n",
       "1     1001   41        NaN       Москва       Иван       Ежов  2018-11-01   \n",
       "2     1002   59        NaN  Стерлитамак    Евгений  Абрамович  2018-06-17   \n",
       "3     1003   23        NaN       Москва      Белла   Белякова  2018-08-17   \n",
       "4     1004   68        NaN  Новокузнецк    Татьяна   Авдеенко  2018-05-14   \n",
       "\n",
       "  tariff  \n",
       "0  ultra  \n",
       "1  smart  \n",
       "2  smart  \n",
       "3  ultra  \n",
       "4  ultra  "
      ]
     },
     "execution_count": 15,
     "metadata": {},
     "output_type": "execute_result"
    }
   ],
   "source": [
    "users.head() # получение первых 5 строк таблицы users"
   ]
  },
  {
   "cell_type": "code",
   "execution_count": 16,
   "metadata": {},
   "outputs": [
    {
     "name": "stdout",
     "output_type": "stream",
     "text": [
      "<class 'pandas.core.frame.DataFrame'>\n",
      "RangeIndex: 500 entries, 0 to 499\n",
      "Data columns (total 8 columns):\n",
      "user_id       500 non-null int64\n",
      "age           500 non-null int64\n",
      "churn_date    38 non-null object\n",
      "city          500 non-null object\n",
      "first_name    500 non-null object\n",
      "last_name     500 non-null object\n",
      "reg_date      500 non-null object\n",
      "tariff        500 non-null object\n",
      "dtypes: int64(2), object(6)\n",
      "memory usage: 31.4+ KB\n"
     ]
    }
   ],
   "source": [
    "users.info() # получение общей информации о данных в таблице users"
   ]
  },
  {
   "cell_type": "markdown",
   "metadata": {},
   "source": [
    "### Вывод"
   ]
  },
  {
   "cell_type": "markdown",
   "metadata": {},
   "source": [
    "Согласно документации к данным: \n",
    "\n",
    "Таблица `users` (информация о пользователях):\n",
    "\n",
    "* `user_id` — уникальный идентификатор пользователя;\n",
    "* `first_name` — имя пользователя;\n",
    "* `last_name` — фамилия пользователя;\n",
    "* `age` — возраст пользователя (годы);\n",
    "* `reg_date` — дата подключения тарифа (день, месяц, год);\n",
    "* `churn_date` — дата прекращения пользования тарифом (если значение пропущено, то тариф ещё действовал на момент выгрузки данных);\n",
    "* `city` — город проживания пользователя;\n",
    "* `tariff` — название тарифного плана.\n",
    "\n",
    "Таблица `calls` (информация о звонках):\n",
    "\n",
    "* `id` — уникальный номер звонка;\n",
    "* `call_date` — дата звонка;\n",
    "* `duration` — длительность звонка в минутах;\n",
    "* `user_id` — идентификатор пользователя, сделавшего звонок.\n",
    "\n",
    "Таблица `messages` (информация о сообщениях):\n",
    "\n",
    "* `id` — уникальный номер сообщения;\n",
    "* `message_date` — дата сообщения;\n",
    "* `user_id` — идентификатор пользователя, отправившего сообщение.\n",
    "\n",
    "Таблица `internet` (информация об интернет-сессиях):\n",
    "\n",
    "* `id` — уникальный номер сессии;\n",
    "* `mb_used` — объём потраченного за сессию интернет-трафика (в мегабайтах);\n",
    "* `session_date` — дата интернет-сессии;\n",
    "* `user_id` — идентификатор пользователя.\n",
    "\n",
    "Таблица `tariffs` (информация о тарифах):\n",
    "\n",
    "* `tariff_name` — название тарифа;\n",
    "* `rub_monthly_fee` — ежемесячная абонентская плата в рублях;\n",
    "* `minutes_included` — количество минут разговора в месяц, включённых в абонентскую плату;\n",
    "* `messages_included` — количество сообщений в месяц, включённых в абонентскую плату;\n",
    "* `mb_per_month_included` — объём интернет-трафика, включённого в абонентскую плату (в мегабайтах);\n",
    "* `rub_per_minute` — стоимость минуты разговора сверх тарифного пакета (например, если в тарифе 100 минут разговора в месяц, то со 101 минуты будет взиматься плата);\n",
    "* `rub_per_message` — стоимость отправки сообщения сверх тарифного пакета;\n",
    "* `rub_per_gb` — стоимость дополнительного гигабайта интернет-трафика сверх тарифного пакета (1 гигабайт = 1024 мегабайта)."
   ]
  },
  {
   "cell_type": "markdown",
   "metadata": {},
   "source": [
    "Описание тарифов\n",
    "\n",
    "Тариф `Смарт`\n",
    "\n",
    "Ежемесячная плата: 550 рублей\n",
    "* Включено 500 минут разговора, 50 сообщений и 15 Гб интернет-трафика\n",
    "* Стоимость услуг сверх тарифного пакета: 1. минута разговора: 3 рубля («Мегалайн» всегда округляет вверх значения минут и мегабайтов. Если пользователь проговорил всего 1 секунду, в тарифе засчитывается целая минута); 2. сообщение: 3 рубля; 3. 1 Гб интернет-трафика: 200 рублей.\n",
    "\n",
    "Тариф `Ультра`\n",
    "\n",
    "* Ежемесячная плата: 1950 рублей\n",
    "* Включено 3000 минут разговора, 1000 сообщений и 30 Гб интернет-трафика\n",
    "Стоимость услуг сверх тарифного пакета: 1. минута разговора: 1 рубль; 2. сообщение: 1 рубль; 3. 1 Гб интернет-трафика: 150 рублей."
   ]
  },
  {
   "cell_type": "markdown",
   "metadata": {},
   "source": [
    "Во всех пяти талбицах отсуствует пропуски,за исключение таблицы `users`,в которой присуствует пропускив колонке `churn_date`. Отсуствие значения обусловлено тем, что пользователь не прекратил использовать тариф на момент выгрузки данных.\n",
    "\n",
    "Для  дальнейшего анализа необходимо преобразовать данные в таких столбцах как  `duration` (округлить до целых чисел) , `reg_date`(изменить тип данных), `mb_used` (перевод единицы измерения)"
   ]
  },
  {
   "cell_type": "markdown",
   "metadata": {},
   "source": [
    "## Предобработка данных"
   ]
  },
  {
   "cell_type": "code",
   "execution_count": 17,
   "metadata": {},
   "outputs": [],
   "source": [
    "calls['duration'] =  np.ceil(calls['duration']) # округление минут в большую сторону и меняем тип данных на int"
   ]
  },
  {
   "cell_type": "code",
   "execution_count": 18,
   "metadata": {},
   "outputs": [],
   "source": [
    "users['reg_date'] = pd.to_datetime(users['reg_date'],format = '%Y-%m-%d') # изменение формата даты и время"
   ]
  },
  {
   "cell_type": "code",
   "execution_count": 19,
   "metadata": {},
   "outputs": [],
   "source": [
    "users['month_reg'] = users['reg_date'].dt.month # создание столбца 'month_reg' и внесение в него месяца подлючения тарифа"
   ]
  },
  {
   "cell_type": "code",
   "execution_count": 20,
   "metadata": {},
   "outputs": [],
   "source": [
    "calls['call_date'] =  pd.to_datetime(calls['call_date'],format = '%Y-%m-%d') # изменение формата даты и время"
   ]
  },
  {
   "cell_type": "code",
   "execution_count": 21,
   "metadata": {},
   "outputs": [],
   "source": [
    "calls['month'] = calls['call_date'].dt.month # создание столбца 'month' и внесение в него месяца осуществеления звонка"
   ]
  },
  {
   "cell_type": "code",
   "execution_count": 22,
   "metadata": {},
   "outputs": [],
   "source": [
    "messages['message_date'] = pd.to_datetime(messages['message_date'],format = '%Y-%m-%d') # изменение формата даты и время"
   ]
  },
  {
   "cell_type": "code",
   "execution_count": 23,
   "metadata": {},
   "outputs": [],
   "source": [
    "messages['month'] = messages['message_date'].dt.month # создание столбца 'month' и внесение в него месяца осуществеления отправления смс"
   ]
  },
  {
   "cell_type": "code",
   "execution_count": 24,
   "metadata": {},
   "outputs": [],
   "source": [
    "internet['session_date'] = pd.to_datetime(internet['session_date'],format = '%Y-%m-%d') # изменение формата даты и время"
   ]
  },
  {
   "cell_type": "code",
   "execution_count": 25,
   "metadata": {},
   "outputs": [],
   "source": [
    "internet['month'] = internet['session_date'].dt.month # создание столбца 'month' и внесение в него месяца использования интернета"
   ]
  },
  {
   "cell_type": "code",
   "execution_count": 26,
   "metadata": {},
   "outputs": [],
   "source": [
    "internet = internet.drop(['Unnamed: 0'], axis = 1) # удаления стоолбца 'Unnamed: 0' из датафрейма internet"
   ]
  },
  {
   "cell_type": "code",
   "execution_count": 27,
   "metadata": {},
   "outputs": [],
   "source": [
    "calls = calls.groupby(['user_id', 'month']).agg({'duration':['count', 'sum',]}).reset_index() # группируем данные по столбцам 'user_id', 'month' \n",
    "# и подчитываем количесвто и сумму минут  потраченные на звонки звонков"
   ]
  },
  {
   "cell_type": "code",
   "execution_count": 28,
   "metadata": {},
   "outputs": [],
   "source": [
    "calls.columns = ['user_id','month','duration_count','duration_sum'] # переименовали столбцы в датафрейме calls"
   ]
  },
  {
   "cell_type": "code",
   "execution_count": 29,
   "metadata": {},
   "outputs": [
    {
     "data": {
      "text/html": [
       "<div>\n",
       "<style scoped>\n",
       "    .dataframe tbody tr th:only-of-type {\n",
       "        vertical-align: middle;\n",
       "    }\n",
       "\n",
       "    .dataframe tbody tr th {\n",
       "        vertical-align: top;\n",
       "    }\n",
       "\n",
       "    .dataframe thead th {\n",
       "        text-align: right;\n",
       "    }\n",
       "</style>\n",
       "<table border=\"1\" class=\"dataframe\">\n",
       "  <thead>\n",
       "    <tr style=\"text-align: right;\">\n",
       "      <th></th>\n",
       "      <th>user_id</th>\n",
       "      <th>month</th>\n",
       "      <th>duration_count</th>\n",
       "      <th>duration_sum</th>\n",
       "    </tr>\n",
       "  </thead>\n",
       "  <tbody>\n",
       "    <tr>\n",
       "      <td>0</td>\n",
       "      <td>1000</td>\n",
       "      <td>5</td>\n",
       "      <td>22</td>\n",
       "      <td>159.0</td>\n",
       "    </tr>\n",
       "    <tr>\n",
       "      <td>1</td>\n",
       "      <td>1000</td>\n",
       "      <td>6</td>\n",
       "      <td>43</td>\n",
       "      <td>172.0</td>\n",
       "    </tr>\n",
       "    <tr>\n",
       "      <td>2</td>\n",
       "      <td>1000</td>\n",
       "      <td>7</td>\n",
       "      <td>47</td>\n",
       "      <td>340.0</td>\n",
       "    </tr>\n",
       "    <tr>\n",
       "      <td>3</td>\n",
       "      <td>1000</td>\n",
       "      <td>8</td>\n",
       "      <td>52</td>\n",
       "      <td>408.0</td>\n",
       "    </tr>\n",
       "    <tr>\n",
       "      <td>4</td>\n",
       "      <td>1000</td>\n",
       "      <td>9</td>\n",
       "      <td>58</td>\n",
       "      <td>466.0</td>\n",
       "    </tr>\n",
       "    <tr>\n",
       "      <td>...</td>\n",
       "      <td>...</td>\n",
       "      <td>...</td>\n",
       "      <td>...</td>\n",
       "      <td>...</td>\n",
       "    </tr>\n",
       "    <tr>\n",
       "      <td>3169</td>\n",
       "      <td>1498</td>\n",
       "      <td>10</td>\n",
       "      <td>41</td>\n",
       "      <td>247.0</td>\n",
       "    </tr>\n",
       "    <tr>\n",
       "      <td>3170</td>\n",
       "      <td>1499</td>\n",
       "      <td>9</td>\n",
       "      <td>9</td>\n",
       "      <td>70.0</td>\n",
       "    </tr>\n",
       "    <tr>\n",
       "      <td>3171</td>\n",
       "      <td>1499</td>\n",
       "      <td>10</td>\n",
       "      <td>68</td>\n",
       "      <td>449.0</td>\n",
       "    </tr>\n",
       "    <tr>\n",
       "      <td>3172</td>\n",
       "      <td>1499</td>\n",
       "      <td>11</td>\n",
       "      <td>74</td>\n",
       "      <td>612.0</td>\n",
       "    </tr>\n",
       "    <tr>\n",
       "      <td>3173</td>\n",
       "      <td>1499</td>\n",
       "      <td>12</td>\n",
       "      <td>69</td>\n",
       "      <td>492.0</td>\n",
       "    </tr>\n",
       "  </tbody>\n",
       "</table>\n",
       "<p>3174 rows × 4 columns</p>\n",
       "</div>"
      ],
      "text/plain": [
       "      user_id  month  duration_count  duration_sum\n",
       "0        1000      5              22         159.0\n",
       "1        1000      6              43         172.0\n",
       "2        1000      7              47         340.0\n",
       "3        1000      8              52         408.0\n",
       "4        1000      9              58         466.0\n",
       "...       ...    ...             ...           ...\n",
       "3169     1498     10              41         247.0\n",
       "3170     1499      9               9          70.0\n",
       "3171     1499     10              68         449.0\n",
       "3172     1499     11              74         612.0\n",
       "3173     1499     12              69         492.0\n",
       "\n",
       "[3174 rows x 4 columns]"
      ]
     },
     "execution_count": 29,
     "metadata": {},
     "output_type": "execute_result"
    }
   ],
   "source": [
    "calls # вывод на экран датафрейма calls"
   ]
  },
  {
   "cell_type": "code",
   "execution_count": 30,
   "metadata": {},
   "outputs": [],
   "source": [
    "internet = internet.groupby(['user_id', 'month'])['mb_used'].sum().reset_index()# группируем данные по столбцам 'user_id', 'month' \n",
    "# и подчитываем сумму мегабайт потраченные на использования интернета"
   ]
  },
  {
   "cell_type": "code",
   "execution_count": 31,
   "metadata": {},
   "outputs": [
    {
     "data": {
      "text/html": [
       "<div>\n",
       "<style scoped>\n",
       "    .dataframe tbody tr th:only-of-type {\n",
       "        vertical-align: middle;\n",
       "    }\n",
       "\n",
       "    .dataframe tbody tr th {\n",
       "        vertical-align: top;\n",
       "    }\n",
       "\n",
       "    .dataframe thead th {\n",
       "        text-align: right;\n",
       "    }\n",
       "</style>\n",
       "<table border=\"1\" class=\"dataframe\">\n",
       "  <thead>\n",
       "    <tr style=\"text-align: right;\">\n",
       "      <th></th>\n",
       "      <th>user_id</th>\n",
       "      <th>month</th>\n",
       "      <th>mb_used</th>\n",
       "    </tr>\n",
       "  </thead>\n",
       "  <tbody>\n",
       "    <tr>\n",
       "      <td>0</td>\n",
       "      <td>1000</td>\n",
       "      <td>5</td>\n",
       "      <td>2253.49</td>\n",
       "    </tr>\n",
       "    <tr>\n",
       "      <td>1</td>\n",
       "      <td>1000</td>\n",
       "      <td>6</td>\n",
       "      <td>23233.77</td>\n",
       "    </tr>\n",
       "    <tr>\n",
       "      <td>2</td>\n",
       "      <td>1000</td>\n",
       "      <td>7</td>\n",
       "      <td>14003.64</td>\n",
       "    </tr>\n",
       "    <tr>\n",
       "      <td>3</td>\n",
       "      <td>1000</td>\n",
       "      <td>8</td>\n",
       "      <td>14055.93</td>\n",
       "    </tr>\n",
       "    <tr>\n",
       "      <td>4</td>\n",
       "      <td>1000</td>\n",
       "      <td>9</td>\n",
       "      <td>14568.91</td>\n",
       "    </tr>\n",
       "    <tr>\n",
       "      <td>...</td>\n",
       "      <td>...</td>\n",
       "      <td>...</td>\n",
       "      <td>...</td>\n",
       "    </tr>\n",
       "    <tr>\n",
       "      <td>3198</td>\n",
       "      <td>1498</td>\n",
       "      <td>10</td>\n",
       "      <td>20579.36</td>\n",
       "    </tr>\n",
       "    <tr>\n",
       "      <td>3199</td>\n",
       "      <td>1499</td>\n",
       "      <td>9</td>\n",
       "      <td>1845.75</td>\n",
       "    </tr>\n",
       "    <tr>\n",
       "      <td>3200</td>\n",
       "      <td>1499</td>\n",
       "      <td>10</td>\n",
       "      <td>17788.51</td>\n",
       "    </tr>\n",
       "    <tr>\n",
       "      <td>3201</td>\n",
       "      <td>1499</td>\n",
       "      <td>11</td>\n",
       "      <td>17963.31</td>\n",
       "    </tr>\n",
       "    <tr>\n",
       "      <td>3202</td>\n",
       "      <td>1499</td>\n",
       "      <td>12</td>\n",
       "      <td>13055.58</td>\n",
       "    </tr>\n",
       "  </tbody>\n",
       "</table>\n",
       "<p>3203 rows × 3 columns</p>\n",
       "</div>"
      ],
      "text/plain": [
       "      user_id  month   mb_used\n",
       "0        1000      5   2253.49\n",
       "1        1000      6  23233.77\n",
       "2        1000      7  14003.64\n",
       "3        1000      8  14055.93\n",
       "4        1000      9  14568.91\n",
       "...       ...    ...       ...\n",
       "3198     1498     10  20579.36\n",
       "3199     1499      9   1845.75\n",
       "3200     1499     10  17788.51\n",
       "3201     1499     11  17963.31\n",
       "3202     1499     12  13055.58\n",
       "\n",
       "[3203 rows x 3 columns]"
      ]
     },
     "execution_count": 31,
     "metadata": {},
     "output_type": "execute_result"
    }
   ],
   "source": [
    "internet  # вывод на экран датафрейма internet "
   ]
  },
  {
   "cell_type": "code",
   "execution_count": 32,
   "metadata": {},
   "outputs": [],
   "source": [
    "messages = messages.groupby(['user_id', 'month'])['id'].count().reset_index()# группируем данные по столбцам 'user_id', 'month' \n",
    "# и подчитываем сумму смс"
   ]
  },
  {
   "cell_type": "code",
   "execution_count": 33,
   "metadata": {},
   "outputs": [
    {
     "data": {
      "text/html": [
       "<div>\n",
       "<style scoped>\n",
       "    .dataframe tbody tr th:only-of-type {\n",
       "        vertical-align: middle;\n",
       "    }\n",
       "\n",
       "    .dataframe tbody tr th {\n",
       "        vertical-align: top;\n",
       "    }\n",
       "\n",
       "    .dataframe thead th {\n",
       "        text-align: right;\n",
       "    }\n",
       "</style>\n",
       "<table border=\"1\" class=\"dataframe\">\n",
       "  <thead>\n",
       "    <tr style=\"text-align: right;\">\n",
       "      <th></th>\n",
       "      <th>user_id</th>\n",
       "      <th>month</th>\n",
       "      <th>id</th>\n",
       "    </tr>\n",
       "  </thead>\n",
       "  <tbody>\n",
       "    <tr>\n",
       "      <td>0</td>\n",
       "      <td>1000</td>\n",
       "      <td>5</td>\n",
       "      <td>22</td>\n",
       "    </tr>\n",
       "    <tr>\n",
       "      <td>1</td>\n",
       "      <td>1000</td>\n",
       "      <td>6</td>\n",
       "      <td>60</td>\n",
       "    </tr>\n",
       "    <tr>\n",
       "      <td>2</td>\n",
       "      <td>1000</td>\n",
       "      <td>7</td>\n",
       "      <td>75</td>\n",
       "    </tr>\n",
       "    <tr>\n",
       "      <td>3</td>\n",
       "      <td>1000</td>\n",
       "      <td>8</td>\n",
       "      <td>81</td>\n",
       "    </tr>\n",
       "    <tr>\n",
       "      <td>4</td>\n",
       "      <td>1000</td>\n",
       "      <td>9</td>\n",
       "      <td>57</td>\n",
       "    </tr>\n",
       "    <tr>\n",
       "      <td>...</td>\n",
       "      <td>...</td>\n",
       "      <td>...</td>\n",
       "      <td>...</td>\n",
       "    </tr>\n",
       "    <tr>\n",
       "      <td>2712</td>\n",
       "      <td>1498</td>\n",
       "      <td>10</td>\n",
       "      <td>42</td>\n",
       "    </tr>\n",
       "    <tr>\n",
       "      <td>2713</td>\n",
       "      <td>1499</td>\n",
       "      <td>9</td>\n",
       "      <td>11</td>\n",
       "    </tr>\n",
       "    <tr>\n",
       "      <td>2714</td>\n",
       "      <td>1499</td>\n",
       "      <td>10</td>\n",
       "      <td>48</td>\n",
       "    </tr>\n",
       "    <tr>\n",
       "      <td>2715</td>\n",
       "      <td>1499</td>\n",
       "      <td>11</td>\n",
       "      <td>59</td>\n",
       "    </tr>\n",
       "    <tr>\n",
       "      <td>2716</td>\n",
       "      <td>1499</td>\n",
       "      <td>12</td>\n",
       "      <td>66</td>\n",
       "    </tr>\n",
       "  </tbody>\n",
       "</table>\n",
       "<p>2717 rows × 3 columns</p>\n",
       "</div>"
      ],
      "text/plain": [
       "      user_id  month  id\n",
       "0        1000      5  22\n",
       "1        1000      6  60\n",
       "2        1000      7  75\n",
       "3        1000      8  81\n",
       "4        1000      9  57\n",
       "...       ...    ...  ..\n",
       "2712     1498     10  42\n",
       "2713     1499      9  11\n",
       "2714     1499     10  48\n",
       "2715     1499     11  59\n",
       "2716     1499     12  66\n",
       "\n",
       "[2717 rows x 3 columns]"
      ]
     },
     "execution_count": 33,
     "metadata": {},
     "output_type": "execute_result"
    }
   ],
   "source": [
    "messages # вывод на экран датафрейма messages"
   ]
  },
  {
   "cell_type": "code",
   "execution_count": 34,
   "metadata": {},
   "outputs": [],
   "source": [
    "df = calls.merge(messages,on=['user_id','month'], how = 'outer')# объединяем два датафрейма в одно таблицу"
   ]
  },
  {
   "cell_type": "code",
   "execution_count": 35,
   "metadata": {
    "scrolled": true
   },
   "outputs": [
    {
     "data": {
      "text/html": [
       "<div>\n",
       "<style scoped>\n",
       "    .dataframe tbody tr th:only-of-type {\n",
       "        vertical-align: middle;\n",
       "    }\n",
       "\n",
       "    .dataframe tbody tr th {\n",
       "        vertical-align: top;\n",
       "    }\n",
       "\n",
       "    .dataframe thead th {\n",
       "        text-align: right;\n",
       "    }\n",
       "</style>\n",
       "<table border=\"1\" class=\"dataframe\">\n",
       "  <thead>\n",
       "    <tr style=\"text-align: right;\">\n",
       "      <th></th>\n",
       "      <th>user_id</th>\n",
       "      <th>month</th>\n",
       "      <th>duration_count</th>\n",
       "      <th>duration_sum</th>\n",
       "      <th>id</th>\n",
       "    </tr>\n",
       "  </thead>\n",
       "  <tbody>\n",
       "    <tr>\n",
       "      <td>0</td>\n",
       "      <td>1000</td>\n",
       "      <td>5</td>\n",
       "      <td>22.0</td>\n",
       "      <td>159.0</td>\n",
       "      <td>22.0</td>\n",
       "    </tr>\n",
       "    <tr>\n",
       "      <td>1</td>\n",
       "      <td>1000</td>\n",
       "      <td>6</td>\n",
       "      <td>43.0</td>\n",
       "      <td>172.0</td>\n",
       "      <td>60.0</td>\n",
       "    </tr>\n",
       "    <tr>\n",
       "      <td>2</td>\n",
       "      <td>1000</td>\n",
       "      <td>7</td>\n",
       "      <td>47.0</td>\n",
       "      <td>340.0</td>\n",
       "      <td>75.0</td>\n",
       "    </tr>\n",
       "    <tr>\n",
       "      <td>3</td>\n",
       "      <td>1000</td>\n",
       "      <td>8</td>\n",
       "      <td>52.0</td>\n",
       "      <td>408.0</td>\n",
       "      <td>81.0</td>\n",
       "    </tr>\n",
       "    <tr>\n",
       "      <td>4</td>\n",
       "      <td>1000</td>\n",
       "      <td>9</td>\n",
       "      <td>58.0</td>\n",
       "      <td>466.0</td>\n",
       "      <td>57.0</td>\n",
       "    </tr>\n",
       "    <tr>\n",
       "      <td>...</td>\n",
       "      <td>...</td>\n",
       "      <td>...</td>\n",
       "      <td>...</td>\n",
       "      <td>...</td>\n",
       "      <td>...</td>\n",
       "    </tr>\n",
       "    <tr>\n",
       "      <td>3208</td>\n",
       "      <td>1489</td>\n",
       "      <td>8</td>\n",
       "      <td>NaN</td>\n",
       "      <td>NaN</td>\n",
       "      <td>17.0</td>\n",
       "    </tr>\n",
       "    <tr>\n",
       "      <td>3209</td>\n",
       "      <td>1489</td>\n",
       "      <td>9</td>\n",
       "      <td>NaN</td>\n",
       "      <td>NaN</td>\n",
       "      <td>32.0</td>\n",
       "    </tr>\n",
       "    <tr>\n",
       "      <td>3210</td>\n",
       "      <td>1489</td>\n",
       "      <td>10</td>\n",
       "      <td>NaN</td>\n",
       "      <td>NaN</td>\n",
       "      <td>21.0</td>\n",
       "    </tr>\n",
       "    <tr>\n",
       "      <td>3211</td>\n",
       "      <td>1489</td>\n",
       "      <td>11</td>\n",
       "      <td>NaN</td>\n",
       "      <td>NaN</td>\n",
       "      <td>20.0</td>\n",
       "    </tr>\n",
       "    <tr>\n",
       "      <td>3212</td>\n",
       "      <td>1489</td>\n",
       "      <td>12</td>\n",
       "      <td>NaN</td>\n",
       "      <td>NaN</td>\n",
       "      <td>35.0</td>\n",
       "    </tr>\n",
       "  </tbody>\n",
       "</table>\n",
       "<p>3213 rows × 5 columns</p>\n",
       "</div>"
      ],
      "text/plain": [
       "      user_id  month  duration_count  duration_sum    id\n",
       "0        1000      5            22.0         159.0  22.0\n",
       "1        1000      6            43.0         172.0  60.0\n",
       "2        1000      7            47.0         340.0  75.0\n",
       "3        1000      8            52.0         408.0  81.0\n",
       "4        1000      9            58.0         466.0  57.0\n",
       "...       ...    ...             ...           ...   ...\n",
       "3208     1489      8             NaN           NaN  17.0\n",
       "3209     1489      9             NaN           NaN  32.0\n",
       "3210     1489     10             NaN           NaN  21.0\n",
       "3211     1489     11             NaN           NaN  20.0\n",
       "3212     1489     12             NaN           NaN  35.0\n",
       "\n",
       "[3213 rows x 5 columns]"
      ]
     },
     "execution_count": 35,
     "metadata": {},
     "output_type": "execute_result"
    }
   ],
   "source": [
    "df # вывод на экран датафрейма df"
   ]
  },
  {
   "cell_type": "code",
   "execution_count": 36,
   "metadata": {},
   "outputs": [],
   "source": [
    "df = df.merge(internet,on=['user_id','month'],how = 'outer')# объединяем два датафрейма в одно таблицу"
   ]
  },
  {
   "cell_type": "code",
   "execution_count": 37,
   "metadata": {},
   "outputs": [
    {
     "data": {
      "text/html": [
       "<div>\n",
       "<style scoped>\n",
       "    .dataframe tbody tr th:only-of-type {\n",
       "        vertical-align: middle;\n",
       "    }\n",
       "\n",
       "    .dataframe tbody tr th {\n",
       "        vertical-align: top;\n",
       "    }\n",
       "\n",
       "    .dataframe thead th {\n",
       "        text-align: right;\n",
       "    }\n",
       "</style>\n",
       "<table border=\"1\" class=\"dataframe\">\n",
       "  <thead>\n",
       "    <tr style=\"text-align: right;\">\n",
       "      <th></th>\n",
       "      <th>user_id</th>\n",
       "      <th>month</th>\n",
       "      <th>duration_count</th>\n",
       "      <th>duration_sum</th>\n",
       "      <th>id</th>\n",
       "      <th>mb_used</th>\n",
       "    </tr>\n",
       "  </thead>\n",
       "  <tbody>\n",
       "    <tr>\n",
       "      <td>0</td>\n",
       "      <td>1000</td>\n",
       "      <td>5</td>\n",
       "      <td>22.0</td>\n",
       "      <td>159.0</td>\n",
       "      <td>22.0</td>\n",
       "      <td>2253.49</td>\n",
       "    </tr>\n",
       "    <tr>\n",
       "      <td>1</td>\n",
       "      <td>1000</td>\n",
       "      <td>6</td>\n",
       "      <td>43.0</td>\n",
       "      <td>172.0</td>\n",
       "      <td>60.0</td>\n",
       "      <td>23233.77</td>\n",
       "    </tr>\n",
       "    <tr>\n",
       "      <td>2</td>\n",
       "      <td>1000</td>\n",
       "      <td>7</td>\n",
       "      <td>47.0</td>\n",
       "      <td>340.0</td>\n",
       "      <td>75.0</td>\n",
       "      <td>14003.64</td>\n",
       "    </tr>\n",
       "    <tr>\n",
       "      <td>3</td>\n",
       "      <td>1000</td>\n",
       "      <td>8</td>\n",
       "      <td>52.0</td>\n",
       "      <td>408.0</td>\n",
       "      <td>81.0</td>\n",
       "      <td>14055.93</td>\n",
       "    </tr>\n",
       "    <tr>\n",
       "      <td>4</td>\n",
       "      <td>1000</td>\n",
       "      <td>9</td>\n",
       "      <td>58.0</td>\n",
       "      <td>466.0</td>\n",
       "      <td>57.0</td>\n",
       "      <td>14568.91</td>\n",
       "    </tr>\n",
       "    <tr>\n",
       "      <td>...</td>\n",
       "      <td>...</td>\n",
       "      <td>...</td>\n",
       "      <td>...</td>\n",
       "      <td>...</td>\n",
       "      <td>...</td>\n",
       "      <td>...</td>\n",
       "    </tr>\n",
       "    <tr>\n",
       "      <td>3209</td>\n",
       "      <td>1489</td>\n",
       "      <td>9</td>\n",
       "      <td>NaN</td>\n",
       "      <td>NaN</td>\n",
       "      <td>32.0</td>\n",
       "      <td>17206.30</td>\n",
       "    </tr>\n",
       "    <tr>\n",
       "      <td>3210</td>\n",
       "      <td>1489</td>\n",
       "      <td>10</td>\n",
       "      <td>NaN</td>\n",
       "      <td>NaN</td>\n",
       "      <td>21.0</td>\n",
       "      <td>19559.44</td>\n",
       "    </tr>\n",
       "    <tr>\n",
       "      <td>3211</td>\n",
       "      <td>1489</td>\n",
       "      <td>11</td>\n",
       "      <td>NaN</td>\n",
       "      <td>NaN</td>\n",
       "      <td>20.0</td>\n",
       "      <td>17491.56</td>\n",
       "    </tr>\n",
       "    <tr>\n",
       "      <td>3212</td>\n",
       "      <td>1489</td>\n",
       "      <td>12</td>\n",
       "      <td>NaN</td>\n",
       "      <td>NaN</td>\n",
       "      <td>35.0</td>\n",
       "      <td>17322.51</td>\n",
       "    </tr>\n",
       "    <tr>\n",
       "      <td>3213</td>\n",
       "      <td>1476</td>\n",
       "      <td>4</td>\n",
       "      <td>NaN</td>\n",
       "      <td>NaN</td>\n",
       "      <td>NaN</td>\n",
       "      <td>530.78</td>\n",
       "    </tr>\n",
       "  </tbody>\n",
       "</table>\n",
       "<p>3214 rows × 6 columns</p>\n",
       "</div>"
      ],
      "text/plain": [
       "      user_id  month  duration_count  duration_sum    id   mb_used\n",
       "0        1000      5            22.0         159.0  22.0   2253.49\n",
       "1        1000      6            43.0         172.0  60.0  23233.77\n",
       "2        1000      7            47.0         340.0  75.0  14003.64\n",
       "3        1000      8            52.0         408.0  81.0  14055.93\n",
       "4        1000      9            58.0         466.0  57.0  14568.91\n",
       "...       ...    ...             ...           ...   ...       ...\n",
       "3209     1489      9             NaN           NaN  32.0  17206.30\n",
       "3210     1489     10             NaN           NaN  21.0  19559.44\n",
       "3211     1489     11             NaN           NaN  20.0  17491.56\n",
       "3212     1489     12             NaN           NaN  35.0  17322.51\n",
       "3213     1476      4             NaN           NaN   NaN    530.78\n",
       "\n",
       "[3214 rows x 6 columns]"
      ]
     },
     "execution_count": 37,
     "metadata": {},
     "output_type": "execute_result"
    }
   ],
   "source": [
    "df # вывод на экран датафрейма df"
   ]
  },
  {
   "cell_type": "code",
   "execution_count": 38,
   "metadata": {},
   "outputs": [],
   "source": [
    "df = df.merge(users,on = 'user_id', how = 'left')#  к текущему датафрейму дополняем фатафрейм users"
   ]
  },
  {
   "cell_type": "code",
   "execution_count": 39,
   "metadata": {
    "scrolled": false
   },
   "outputs": [
    {
     "data": {
      "text/html": [
       "<div>\n",
       "<style scoped>\n",
       "    .dataframe tbody tr th:only-of-type {\n",
       "        vertical-align: middle;\n",
       "    }\n",
       "\n",
       "    .dataframe tbody tr th {\n",
       "        vertical-align: top;\n",
       "    }\n",
       "\n",
       "    .dataframe thead th {\n",
       "        text-align: right;\n",
       "    }\n",
       "</style>\n",
       "<table border=\"1\" class=\"dataframe\">\n",
       "  <thead>\n",
       "    <tr style=\"text-align: right;\">\n",
       "      <th></th>\n",
       "      <th>user_id</th>\n",
       "      <th>month</th>\n",
       "      <th>duration_count</th>\n",
       "      <th>duration_sum</th>\n",
       "      <th>id</th>\n",
       "      <th>mb_used</th>\n",
       "      <th>age</th>\n",
       "      <th>churn_date</th>\n",
       "      <th>city</th>\n",
       "      <th>first_name</th>\n",
       "      <th>last_name</th>\n",
       "      <th>reg_date</th>\n",
       "      <th>tariff</th>\n",
       "      <th>month_reg</th>\n",
       "    </tr>\n",
       "  </thead>\n",
       "  <tbody>\n",
       "    <tr>\n",
       "      <td>0</td>\n",
       "      <td>1000</td>\n",
       "      <td>5</td>\n",
       "      <td>22.0</td>\n",
       "      <td>159.0</td>\n",
       "      <td>22.0</td>\n",
       "      <td>2253.49</td>\n",
       "      <td>52</td>\n",
       "      <td>NaN</td>\n",
       "      <td>Краснодар</td>\n",
       "      <td>Рафаил</td>\n",
       "      <td>Верещагин</td>\n",
       "      <td>2018-05-25</td>\n",
       "      <td>ultra</td>\n",
       "      <td>5</td>\n",
       "    </tr>\n",
       "    <tr>\n",
       "      <td>1</td>\n",
       "      <td>1000</td>\n",
       "      <td>6</td>\n",
       "      <td>43.0</td>\n",
       "      <td>172.0</td>\n",
       "      <td>60.0</td>\n",
       "      <td>23233.77</td>\n",
       "      <td>52</td>\n",
       "      <td>NaN</td>\n",
       "      <td>Краснодар</td>\n",
       "      <td>Рафаил</td>\n",
       "      <td>Верещагин</td>\n",
       "      <td>2018-05-25</td>\n",
       "      <td>ultra</td>\n",
       "      <td>5</td>\n",
       "    </tr>\n",
       "    <tr>\n",
       "      <td>2</td>\n",
       "      <td>1000</td>\n",
       "      <td>7</td>\n",
       "      <td>47.0</td>\n",
       "      <td>340.0</td>\n",
       "      <td>75.0</td>\n",
       "      <td>14003.64</td>\n",
       "      <td>52</td>\n",
       "      <td>NaN</td>\n",
       "      <td>Краснодар</td>\n",
       "      <td>Рафаил</td>\n",
       "      <td>Верещагин</td>\n",
       "      <td>2018-05-25</td>\n",
       "      <td>ultra</td>\n",
       "      <td>5</td>\n",
       "    </tr>\n",
       "    <tr>\n",
       "      <td>3</td>\n",
       "      <td>1000</td>\n",
       "      <td>8</td>\n",
       "      <td>52.0</td>\n",
       "      <td>408.0</td>\n",
       "      <td>81.0</td>\n",
       "      <td>14055.93</td>\n",
       "      <td>52</td>\n",
       "      <td>NaN</td>\n",
       "      <td>Краснодар</td>\n",
       "      <td>Рафаил</td>\n",
       "      <td>Верещагин</td>\n",
       "      <td>2018-05-25</td>\n",
       "      <td>ultra</td>\n",
       "      <td>5</td>\n",
       "    </tr>\n",
       "    <tr>\n",
       "      <td>4</td>\n",
       "      <td>1000</td>\n",
       "      <td>9</td>\n",
       "      <td>58.0</td>\n",
       "      <td>466.0</td>\n",
       "      <td>57.0</td>\n",
       "      <td>14568.91</td>\n",
       "      <td>52</td>\n",
       "      <td>NaN</td>\n",
       "      <td>Краснодар</td>\n",
       "      <td>Рафаил</td>\n",
       "      <td>Верещагин</td>\n",
       "      <td>2018-05-25</td>\n",
       "      <td>ultra</td>\n",
       "      <td>5</td>\n",
       "    </tr>\n",
       "    <tr>\n",
       "      <td>...</td>\n",
       "      <td>...</td>\n",
       "      <td>...</td>\n",
       "      <td>...</td>\n",
       "      <td>...</td>\n",
       "      <td>...</td>\n",
       "      <td>...</td>\n",
       "      <td>...</td>\n",
       "      <td>...</td>\n",
       "      <td>...</td>\n",
       "      <td>...</td>\n",
       "      <td>...</td>\n",
       "      <td>...</td>\n",
       "      <td>...</td>\n",
       "      <td>...</td>\n",
       "    </tr>\n",
       "    <tr>\n",
       "      <td>3209</td>\n",
       "      <td>1489</td>\n",
       "      <td>9</td>\n",
       "      <td>NaN</td>\n",
       "      <td>NaN</td>\n",
       "      <td>32.0</td>\n",
       "      <td>17206.30</td>\n",
       "      <td>35</td>\n",
       "      <td>NaN</td>\n",
       "      <td>Санкт-Петербург</td>\n",
       "      <td>Павел</td>\n",
       "      <td>Гончаров</td>\n",
       "      <td>2018-08-15</td>\n",
       "      <td>smart</td>\n",
       "      <td>8</td>\n",
       "    </tr>\n",
       "    <tr>\n",
       "      <td>3210</td>\n",
       "      <td>1489</td>\n",
       "      <td>10</td>\n",
       "      <td>NaN</td>\n",
       "      <td>NaN</td>\n",
       "      <td>21.0</td>\n",
       "      <td>19559.44</td>\n",
       "      <td>35</td>\n",
       "      <td>NaN</td>\n",
       "      <td>Санкт-Петербург</td>\n",
       "      <td>Павел</td>\n",
       "      <td>Гончаров</td>\n",
       "      <td>2018-08-15</td>\n",
       "      <td>smart</td>\n",
       "      <td>8</td>\n",
       "    </tr>\n",
       "    <tr>\n",
       "      <td>3211</td>\n",
       "      <td>1489</td>\n",
       "      <td>11</td>\n",
       "      <td>NaN</td>\n",
       "      <td>NaN</td>\n",
       "      <td>20.0</td>\n",
       "      <td>17491.56</td>\n",
       "      <td>35</td>\n",
       "      <td>NaN</td>\n",
       "      <td>Санкт-Петербург</td>\n",
       "      <td>Павел</td>\n",
       "      <td>Гончаров</td>\n",
       "      <td>2018-08-15</td>\n",
       "      <td>smart</td>\n",
       "      <td>8</td>\n",
       "    </tr>\n",
       "    <tr>\n",
       "      <td>3212</td>\n",
       "      <td>1489</td>\n",
       "      <td>12</td>\n",
       "      <td>NaN</td>\n",
       "      <td>NaN</td>\n",
       "      <td>35.0</td>\n",
       "      <td>17322.51</td>\n",
       "      <td>35</td>\n",
       "      <td>NaN</td>\n",
       "      <td>Санкт-Петербург</td>\n",
       "      <td>Павел</td>\n",
       "      <td>Гончаров</td>\n",
       "      <td>2018-08-15</td>\n",
       "      <td>smart</td>\n",
       "      <td>8</td>\n",
       "    </tr>\n",
       "    <tr>\n",
       "      <td>3213</td>\n",
       "      <td>1476</td>\n",
       "      <td>4</td>\n",
       "      <td>NaN</td>\n",
       "      <td>NaN</td>\n",
       "      <td>NaN</td>\n",
       "      <td>530.78</td>\n",
       "      <td>50</td>\n",
       "      <td>NaN</td>\n",
       "      <td>Москва</td>\n",
       "      <td>Валентина</td>\n",
       "      <td>Семенова</td>\n",
       "      <td>2018-04-30</td>\n",
       "      <td>ultra</td>\n",
       "      <td>4</td>\n",
       "    </tr>\n",
       "  </tbody>\n",
       "</table>\n",
       "<p>3214 rows × 14 columns</p>\n",
       "</div>"
      ],
      "text/plain": [
       "      user_id  month  duration_count  duration_sum    id   mb_used  age  \\\n",
       "0        1000      5            22.0         159.0  22.0   2253.49   52   \n",
       "1        1000      6            43.0         172.0  60.0  23233.77   52   \n",
       "2        1000      7            47.0         340.0  75.0  14003.64   52   \n",
       "3        1000      8            52.0         408.0  81.0  14055.93   52   \n",
       "4        1000      9            58.0         466.0  57.0  14568.91   52   \n",
       "...       ...    ...             ...           ...   ...       ...  ...   \n",
       "3209     1489      9             NaN           NaN  32.0  17206.30   35   \n",
       "3210     1489     10             NaN           NaN  21.0  19559.44   35   \n",
       "3211     1489     11             NaN           NaN  20.0  17491.56   35   \n",
       "3212     1489     12             NaN           NaN  35.0  17322.51   35   \n",
       "3213     1476      4             NaN           NaN   NaN    530.78   50   \n",
       "\n",
       "     churn_date             city first_name  last_name   reg_date tariff  \\\n",
       "0           NaN        Краснодар     Рафаил  Верещагин 2018-05-25  ultra   \n",
       "1           NaN        Краснодар     Рафаил  Верещагин 2018-05-25  ultra   \n",
       "2           NaN        Краснодар     Рафаил  Верещагин 2018-05-25  ultra   \n",
       "3           NaN        Краснодар     Рафаил  Верещагин 2018-05-25  ultra   \n",
       "4           NaN        Краснодар     Рафаил  Верещагин 2018-05-25  ultra   \n",
       "...         ...              ...        ...        ...        ...    ...   \n",
       "3209        NaN  Санкт-Петербург      Павел   Гончаров 2018-08-15  smart   \n",
       "3210        NaN  Санкт-Петербург      Павел   Гончаров 2018-08-15  smart   \n",
       "3211        NaN  Санкт-Петербург      Павел   Гончаров 2018-08-15  smart   \n",
       "3212        NaN  Санкт-Петербург      Павел   Гончаров 2018-08-15  smart   \n",
       "3213        NaN           Москва  Валентина   Семенова 2018-04-30  ultra   \n",
       "\n",
       "      month_reg  \n",
       "0             5  \n",
       "1             5  \n",
       "2             5  \n",
       "3             5  \n",
       "4             5  \n",
       "...         ...  \n",
       "3209          8  \n",
       "3210          8  \n",
       "3211          8  \n",
       "3212          8  \n",
       "3213          4  \n",
       "\n",
       "[3214 rows x 14 columns]"
      ]
     },
     "execution_count": 39,
     "metadata": {},
     "output_type": "execute_result"
    }
   ],
   "source": [
    "df # вывод на экран датафрейма df"
   ]
  },
  {
   "cell_type": "code",
   "execution_count": 40,
   "metadata": {},
   "outputs": [],
   "source": [
    "df = df.drop(['age','first_name','last_name','reg_date','month_reg'], axis = 1) # удаления стоолбцы  из датафрейма df"
   ]
  },
  {
   "cell_type": "code",
   "execution_count": 41,
   "metadata": {
    "scrolled": true
   },
   "outputs": [
    {
     "data": {
      "text/html": [
       "<div>\n",
       "<style scoped>\n",
       "    .dataframe tbody tr th:only-of-type {\n",
       "        vertical-align: middle;\n",
       "    }\n",
       "\n",
       "    .dataframe tbody tr th {\n",
       "        vertical-align: top;\n",
       "    }\n",
       "\n",
       "    .dataframe thead th {\n",
       "        text-align: right;\n",
       "    }\n",
       "</style>\n",
       "<table border=\"1\" class=\"dataframe\">\n",
       "  <thead>\n",
       "    <tr style=\"text-align: right;\">\n",
       "      <th></th>\n",
       "      <th>user_id</th>\n",
       "      <th>month</th>\n",
       "      <th>duration_count</th>\n",
       "      <th>duration_sum</th>\n",
       "      <th>id</th>\n",
       "      <th>mb_used</th>\n",
       "      <th>churn_date</th>\n",
       "      <th>city</th>\n",
       "      <th>tariff</th>\n",
       "    </tr>\n",
       "  </thead>\n",
       "  <tbody>\n",
       "    <tr>\n",
       "      <td>0</td>\n",
       "      <td>1000</td>\n",
       "      <td>5</td>\n",
       "      <td>22.0</td>\n",
       "      <td>159.0</td>\n",
       "      <td>22.0</td>\n",
       "      <td>2253.49</td>\n",
       "      <td>NaN</td>\n",
       "      <td>Краснодар</td>\n",
       "      <td>ultra</td>\n",
       "    </tr>\n",
       "    <tr>\n",
       "      <td>1</td>\n",
       "      <td>1000</td>\n",
       "      <td>6</td>\n",
       "      <td>43.0</td>\n",
       "      <td>172.0</td>\n",
       "      <td>60.0</td>\n",
       "      <td>23233.77</td>\n",
       "      <td>NaN</td>\n",
       "      <td>Краснодар</td>\n",
       "      <td>ultra</td>\n",
       "    </tr>\n",
       "    <tr>\n",
       "      <td>2</td>\n",
       "      <td>1000</td>\n",
       "      <td>7</td>\n",
       "      <td>47.0</td>\n",
       "      <td>340.0</td>\n",
       "      <td>75.0</td>\n",
       "      <td>14003.64</td>\n",
       "      <td>NaN</td>\n",
       "      <td>Краснодар</td>\n",
       "      <td>ultra</td>\n",
       "    </tr>\n",
       "    <tr>\n",
       "      <td>3</td>\n",
       "      <td>1000</td>\n",
       "      <td>8</td>\n",
       "      <td>52.0</td>\n",
       "      <td>408.0</td>\n",
       "      <td>81.0</td>\n",
       "      <td>14055.93</td>\n",
       "      <td>NaN</td>\n",
       "      <td>Краснодар</td>\n",
       "      <td>ultra</td>\n",
       "    </tr>\n",
       "    <tr>\n",
       "      <td>4</td>\n",
       "      <td>1000</td>\n",
       "      <td>9</td>\n",
       "      <td>58.0</td>\n",
       "      <td>466.0</td>\n",
       "      <td>57.0</td>\n",
       "      <td>14568.91</td>\n",
       "      <td>NaN</td>\n",
       "      <td>Краснодар</td>\n",
       "      <td>ultra</td>\n",
       "    </tr>\n",
       "    <tr>\n",
       "      <td>...</td>\n",
       "      <td>...</td>\n",
       "      <td>...</td>\n",
       "      <td>...</td>\n",
       "      <td>...</td>\n",
       "      <td>...</td>\n",
       "      <td>...</td>\n",
       "      <td>...</td>\n",
       "      <td>...</td>\n",
       "      <td>...</td>\n",
       "    </tr>\n",
       "    <tr>\n",
       "      <td>3209</td>\n",
       "      <td>1489</td>\n",
       "      <td>9</td>\n",
       "      <td>NaN</td>\n",
       "      <td>NaN</td>\n",
       "      <td>32.0</td>\n",
       "      <td>17206.30</td>\n",
       "      <td>NaN</td>\n",
       "      <td>Санкт-Петербург</td>\n",
       "      <td>smart</td>\n",
       "    </tr>\n",
       "    <tr>\n",
       "      <td>3210</td>\n",
       "      <td>1489</td>\n",
       "      <td>10</td>\n",
       "      <td>NaN</td>\n",
       "      <td>NaN</td>\n",
       "      <td>21.0</td>\n",
       "      <td>19559.44</td>\n",
       "      <td>NaN</td>\n",
       "      <td>Санкт-Петербург</td>\n",
       "      <td>smart</td>\n",
       "    </tr>\n",
       "    <tr>\n",
       "      <td>3211</td>\n",
       "      <td>1489</td>\n",
       "      <td>11</td>\n",
       "      <td>NaN</td>\n",
       "      <td>NaN</td>\n",
       "      <td>20.0</td>\n",
       "      <td>17491.56</td>\n",
       "      <td>NaN</td>\n",
       "      <td>Санкт-Петербург</td>\n",
       "      <td>smart</td>\n",
       "    </tr>\n",
       "    <tr>\n",
       "      <td>3212</td>\n",
       "      <td>1489</td>\n",
       "      <td>12</td>\n",
       "      <td>NaN</td>\n",
       "      <td>NaN</td>\n",
       "      <td>35.0</td>\n",
       "      <td>17322.51</td>\n",
       "      <td>NaN</td>\n",
       "      <td>Санкт-Петербург</td>\n",
       "      <td>smart</td>\n",
       "    </tr>\n",
       "    <tr>\n",
       "      <td>3213</td>\n",
       "      <td>1476</td>\n",
       "      <td>4</td>\n",
       "      <td>NaN</td>\n",
       "      <td>NaN</td>\n",
       "      <td>NaN</td>\n",
       "      <td>530.78</td>\n",
       "      <td>NaN</td>\n",
       "      <td>Москва</td>\n",
       "      <td>ultra</td>\n",
       "    </tr>\n",
       "  </tbody>\n",
       "</table>\n",
       "<p>3214 rows × 9 columns</p>\n",
       "</div>"
      ],
      "text/plain": [
       "      user_id  month  duration_count  duration_sum    id   mb_used churn_date  \\\n",
       "0        1000      5            22.0         159.0  22.0   2253.49        NaN   \n",
       "1        1000      6            43.0         172.0  60.0  23233.77        NaN   \n",
       "2        1000      7            47.0         340.0  75.0  14003.64        NaN   \n",
       "3        1000      8            52.0         408.0  81.0  14055.93        NaN   \n",
       "4        1000      9            58.0         466.0  57.0  14568.91        NaN   \n",
       "...       ...    ...             ...           ...   ...       ...        ...   \n",
       "3209     1489      9             NaN           NaN  32.0  17206.30        NaN   \n",
       "3210     1489     10             NaN           NaN  21.0  19559.44        NaN   \n",
       "3211     1489     11             NaN           NaN  20.0  17491.56        NaN   \n",
       "3212     1489     12             NaN           NaN  35.0  17322.51        NaN   \n",
       "3213     1476      4             NaN           NaN   NaN    530.78        NaN   \n",
       "\n",
       "                 city tariff  \n",
       "0           Краснодар  ultra  \n",
       "1           Краснодар  ultra  \n",
       "2           Краснодар  ultra  \n",
       "3           Краснодар  ultra  \n",
       "4           Краснодар  ultra  \n",
       "...               ...    ...  \n",
       "3209  Санкт-Петербург  smart  \n",
       "3210  Санкт-Петербург  smart  \n",
       "3211  Санкт-Петербург  smart  \n",
       "3212  Санкт-Петербург  smart  \n",
       "3213           Москва  ultra  \n",
       "\n",
       "[3214 rows x 9 columns]"
      ]
     },
     "execution_count": 41,
     "metadata": {},
     "output_type": "execute_result"
    }
   ],
   "source": [
    "df # вывод на экран датафрейма df"
   ]
  },
  {
   "cell_type": "code",
   "execution_count": 67,
   "metadata": {},
   "outputs": [
    {
     "data": {
      "text/plain": [
       "(3214, 10)"
      ]
     },
     "execution_count": 67,
     "metadata": {},
     "output_type": "execute_result"
    }
   ],
   "source": [
    "df.shape"
   ]
  },
  {
   "cell_type": "code",
   "execution_count": 68,
   "metadata": {},
   "outputs": [
    {
     "data": {
      "text/plain": [
       "498"
      ]
     },
     "execution_count": 68,
     "metadata": {},
     "output_type": "execute_result"
    }
   ],
   "source": [
    "df.user_id.nunique()"
   ]
  },
  {
   "cell_type": "code",
   "execution_count": 42,
   "metadata": {},
   "outputs": [],
   "source": [
    "df['mb_used'] = (df['mb_used'] / 1024) # перевели колонку 'mb_used' в другую еденицу измерения"
   ]
  },
  {
   "cell_type": "code",
   "execution_count": 43,
   "metadata": {},
   "outputs": [],
   "source": [
    "df['mb_used'] = np.ceil(df['mb_used']) # округлили в большую сторону"
   ]
  },
  {
   "cell_type": "code",
   "execution_count": 44,
   "metadata": {},
   "outputs": [],
   "source": [
    "df.columns = ['user_id','month','duration_count','duration_sum','message_sum','gb_used','churn_date','city','tariff']# переименовали столбцы"
   ]
  },
  {
   "cell_type": "code",
   "execution_count": 45,
   "metadata": {},
   "outputs": [],
   "source": [
    "df['city'] = df['city'].str.lower()# приведение строк в колонке к нижнему регистру"
   ]
  },
  {
   "cell_type": "code",
   "execution_count": 46,
   "metadata": {
    "scrolled": true
   },
   "outputs": [
    {
     "data": {
      "text/html": [
       "<div>\n",
       "<style scoped>\n",
       "    .dataframe tbody tr th:only-of-type {\n",
       "        vertical-align: middle;\n",
       "    }\n",
       "\n",
       "    .dataframe tbody tr th {\n",
       "        vertical-align: top;\n",
       "    }\n",
       "\n",
       "    .dataframe thead th {\n",
       "        text-align: right;\n",
       "    }\n",
       "</style>\n",
       "<table border=\"1\" class=\"dataframe\">\n",
       "  <thead>\n",
       "    <tr style=\"text-align: right;\">\n",
       "      <th></th>\n",
       "      <th>user_id</th>\n",
       "      <th>month</th>\n",
       "      <th>duration_count</th>\n",
       "      <th>duration_sum</th>\n",
       "      <th>message_sum</th>\n",
       "      <th>gb_used</th>\n",
       "      <th>churn_date</th>\n",
       "      <th>city</th>\n",
       "      <th>tariff</th>\n",
       "    </tr>\n",
       "  </thead>\n",
       "  <tbody>\n",
       "    <tr>\n",
       "      <td>0</td>\n",
       "      <td>1000</td>\n",
       "      <td>5</td>\n",
       "      <td>22.0</td>\n",
       "      <td>159.0</td>\n",
       "      <td>22.0</td>\n",
       "      <td>3.0</td>\n",
       "      <td>NaN</td>\n",
       "      <td>краснодар</td>\n",
       "      <td>ultra</td>\n",
       "    </tr>\n",
       "    <tr>\n",
       "      <td>1</td>\n",
       "      <td>1000</td>\n",
       "      <td>6</td>\n",
       "      <td>43.0</td>\n",
       "      <td>172.0</td>\n",
       "      <td>60.0</td>\n",
       "      <td>23.0</td>\n",
       "      <td>NaN</td>\n",
       "      <td>краснодар</td>\n",
       "      <td>ultra</td>\n",
       "    </tr>\n",
       "    <tr>\n",
       "      <td>2</td>\n",
       "      <td>1000</td>\n",
       "      <td>7</td>\n",
       "      <td>47.0</td>\n",
       "      <td>340.0</td>\n",
       "      <td>75.0</td>\n",
       "      <td>14.0</td>\n",
       "      <td>NaN</td>\n",
       "      <td>краснодар</td>\n",
       "      <td>ultra</td>\n",
       "    </tr>\n",
       "    <tr>\n",
       "      <td>3</td>\n",
       "      <td>1000</td>\n",
       "      <td>8</td>\n",
       "      <td>52.0</td>\n",
       "      <td>408.0</td>\n",
       "      <td>81.0</td>\n",
       "      <td>14.0</td>\n",
       "      <td>NaN</td>\n",
       "      <td>краснодар</td>\n",
       "      <td>ultra</td>\n",
       "    </tr>\n",
       "    <tr>\n",
       "      <td>4</td>\n",
       "      <td>1000</td>\n",
       "      <td>9</td>\n",
       "      <td>58.0</td>\n",
       "      <td>466.0</td>\n",
       "      <td>57.0</td>\n",
       "      <td>15.0</td>\n",
       "      <td>NaN</td>\n",
       "      <td>краснодар</td>\n",
       "      <td>ultra</td>\n",
       "    </tr>\n",
       "    <tr>\n",
       "      <td>...</td>\n",
       "      <td>...</td>\n",
       "      <td>...</td>\n",
       "      <td>...</td>\n",
       "      <td>...</td>\n",
       "      <td>...</td>\n",
       "      <td>...</td>\n",
       "      <td>...</td>\n",
       "      <td>...</td>\n",
       "      <td>...</td>\n",
       "    </tr>\n",
       "    <tr>\n",
       "      <td>3209</td>\n",
       "      <td>1489</td>\n",
       "      <td>9</td>\n",
       "      <td>NaN</td>\n",
       "      <td>NaN</td>\n",
       "      <td>32.0</td>\n",
       "      <td>17.0</td>\n",
       "      <td>NaN</td>\n",
       "      <td>санкт-петербург</td>\n",
       "      <td>smart</td>\n",
       "    </tr>\n",
       "    <tr>\n",
       "      <td>3210</td>\n",
       "      <td>1489</td>\n",
       "      <td>10</td>\n",
       "      <td>NaN</td>\n",
       "      <td>NaN</td>\n",
       "      <td>21.0</td>\n",
       "      <td>20.0</td>\n",
       "      <td>NaN</td>\n",
       "      <td>санкт-петербург</td>\n",
       "      <td>smart</td>\n",
       "    </tr>\n",
       "    <tr>\n",
       "      <td>3211</td>\n",
       "      <td>1489</td>\n",
       "      <td>11</td>\n",
       "      <td>NaN</td>\n",
       "      <td>NaN</td>\n",
       "      <td>20.0</td>\n",
       "      <td>18.0</td>\n",
       "      <td>NaN</td>\n",
       "      <td>санкт-петербург</td>\n",
       "      <td>smart</td>\n",
       "    </tr>\n",
       "    <tr>\n",
       "      <td>3212</td>\n",
       "      <td>1489</td>\n",
       "      <td>12</td>\n",
       "      <td>NaN</td>\n",
       "      <td>NaN</td>\n",
       "      <td>35.0</td>\n",
       "      <td>17.0</td>\n",
       "      <td>NaN</td>\n",
       "      <td>санкт-петербург</td>\n",
       "      <td>smart</td>\n",
       "    </tr>\n",
       "    <tr>\n",
       "      <td>3213</td>\n",
       "      <td>1476</td>\n",
       "      <td>4</td>\n",
       "      <td>NaN</td>\n",
       "      <td>NaN</td>\n",
       "      <td>NaN</td>\n",
       "      <td>1.0</td>\n",
       "      <td>NaN</td>\n",
       "      <td>москва</td>\n",
       "      <td>ultra</td>\n",
       "    </tr>\n",
       "  </tbody>\n",
       "</table>\n",
       "<p>3214 rows × 9 columns</p>\n",
       "</div>"
      ],
      "text/plain": [
       "      user_id  month  duration_count  duration_sum  message_sum  gb_used  \\\n",
       "0        1000      5            22.0         159.0         22.0      3.0   \n",
       "1        1000      6            43.0         172.0         60.0     23.0   \n",
       "2        1000      7            47.0         340.0         75.0     14.0   \n",
       "3        1000      8            52.0         408.0         81.0     14.0   \n",
       "4        1000      9            58.0         466.0         57.0     15.0   \n",
       "...       ...    ...             ...           ...          ...      ...   \n",
       "3209     1489      9             NaN           NaN         32.0     17.0   \n",
       "3210     1489     10             NaN           NaN         21.0     20.0   \n",
       "3211     1489     11             NaN           NaN         20.0     18.0   \n",
       "3212     1489     12             NaN           NaN         35.0     17.0   \n",
       "3213     1476      4             NaN           NaN          NaN      1.0   \n",
       "\n",
       "     churn_date             city tariff  \n",
       "0           NaN        краснодар  ultra  \n",
       "1           NaN        краснодар  ultra  \n",
       "2           NaN        краснодар  ultra  \n",
       "3           NaN        краснодар  ultra  \n",
       "4           NaN        краснодар  ultra  \n",
       "...         ...              ...    ...  \n",
       "3209        NaN  санкт-петербург  smart  \n",
       "3210        NaN  санкт-петербург  smart  \n",
       "3211        NaN  санкт-петербург  smart  \n",
       "3212        NaN  санкт-петербург  smart  \n",
       "3213        NaN           москва  ultra  \n",
       "\n",
       "[3214 rows x 9 columns]"
      ]
     },
     "execution_count": 46,
     "metadata": {},
     "output_type": "execute_result"
    }
   ],
   "source": [
    "df # вывод на экран датафрейма df"
   ]
  },
  {
   "cell_type": "code",
   "execution_count": 47,
   "metadata": {},
   "outputs": [],
   "source": [
    "def revenue(row): # функция для подсчета выручки по тарифам \n",
    "    if row['tariff'] == 'smart':\n",
    "        if row['duration_sum'] > 500: \n",
    "            calls = (row['duration_sum'] - 500) * 3\n",
    "        else:\n",
    "            calls = 0\n",
    "        \n",
    "        if row['message_sum'] > 50: \n",
    "             sms = (row['message_sum'] - 50) * 3\n",
    "        else:\n",
    "            sms = 0\n",
    "        \n",
    "        if row['gb_used'] > 15: \n",
    "            inet =  (row['gb_used'] - 15) * 200\n",
    "        else:\n",
    "            inet = 0\n",
    "            \n",
    "        rev = 550 + calls + sms + inet   \n",
    "        \n",
    "        return rev\n",
    "    \n",
    "    if row['tariff'] == 'ultra': \n",
    "        \n",
    "        if row['duration_sum'] > 3000:\n",
    "             calls = (row['duration_sum'] - 3000) * 1\n",
    "        else:\n",
    "            calls = 0\n",
    "        \n",
    "        if row['message_sum'] > 1000: \n",
    "            sms = (row['message_sum'] - 1000) * 1\n",
    "        else:\n",
    "            sms = 0\n",
    "        \n",
    "        if row['gb_used'] > 30: \n",
    "             inet = (row['gb_used'] - 30) * 150        \n",
    "        else:\n",
    "            inet = 0\n",
    "            \n",
    "        rev = 1950 + calls + sms + inet\n",
    "        \n",
    "        return  rev  "
   ]
  },
  {
   "cell_type": "code",
   "execution_count": 48,
   "metadata": {},
   "outputs": [],
   "source": [
    "df['revenue'] = df.apply(revenue, axis=1) # с помощью функции apply принимаем функцию revenue(row)"
   ]
  },
  {
   "cell_type": "code",
   "execution_count": 49,
   "metadata": {},
   "outputs": [],
   "source": [
    "df['revenue'] = df['revenue'].astype('int') # изменения типа данных"
   ]
  },
  {
   "cell_type": "code",
   "execution_count": 69,
   "metadata": {},
   "outputs": [
    {
     "data": {
      "text/plain": [
       "count    3214.000000\n",
       "mean     1529.076229\n",
       "std       798.251091\n",
       "min       550.000000\n",
       "25%       750.000000\n",
       "50%      1653.500000\n",
       "75%      1950.000000\n",
       "max      6770.000000\n",
       "Name: revenue, dtype: float64"
      ]
     },
     "execution_count": 69,
     "metadata": {},
     "output_type": "execute_result"
    }
   ],
   "source": [
    "df['revenue'].describe()"
   ]
  },
  {
   "cell_type": "code",
   "execution_count": 50,
   "metadata": {},
   "outputs": [
    {
     "name": "stdout",
     "output_type": "stream",
     "text": [
      "<class 'pandas.core.frame.DataFrame'>\n",
      "Int64Index: 3214 entries, 0 to 3213\n",
      "Data columns (total 10 columns):\n",
      "user_id           3214 non-null int64\n",
      "month             3214 non-null int64\n",
      "duration_count    3174 non-null float64\n",
      "duration_sum      3174 non-null float64\n",
      "message_sum       2717 non-null float64\n",
      "gb_used           3203 non-null float64\n",
      "churn_date        187 non-null object\n",
      "city              3214 non-null object\n",
      "tariff            3214 non-null object\n",
      "revenue           3214 non-null int64\n",
      "dtypes: float64(4), int64(3), object(3)\n",
      "memory usage: 276.2+ KB\n"
     ]
    }
   ],
   "source": [
    "df.info() # вывод информации по датафрейму"
   ]
  },
  {
   "cell_type": "code",
   "execution_count": 51,
   "metadata": {},
   "outputs": [
    {
     "data": {
      "text/plain": [
       "user_id              0\n",
       "month                0\n",
       "duration_count      40\n",
       "duration_sum        40\n",
       "message_sum        497\n",
       "gb_used             11\n",
       "churn_date        3027\n",
       "city                 0\n",
       "tariff               0\n",
       "revenue              0\n",
       "dtype: int64"
      ]
     },
     "execution_count": 51,
     "metadata": {},
     "output_type": "execute_result"
    }
   ],
   "source": [
    "df.isna().sum() # подсчёт пропусков"
   ]
  },
  {
   "cell_type": "markdown",
   "metadata": {},
   "source": [
    "### Вывод"
   ]
  },
  {
   "cell_type": "markdown",
   "metadata": {},
   "source": [
    "Для таблица `calls` произвели изменения. Теперь в этой таблице данные по месяцам и идентификационный номер пользователя сгруппирован по количеству звонков и продолжительности общения,округленного до минут."
   ]
  },
  {
   "cell_type": "markdown",
   "metadata": {},
   "source": [
    "Таблица `internet` аналогично  сгруппирована  только по использованных гигабайтах интернета и округлена в большую сторону."
   ]
  },
  {
   "cell_type": "markdown",
   "metadata": {},
   "source": [
    "В таблице `message` находятся данные группировки месяца и  идентификационного номера пользователя по использованию смс."
   ]
  },
  {
   "cell_type": "markdown",
   "metadata": {},
   "source": [
    "Объединили `calls`,`internet`, `message`, `users` датафреймы в один (`df`)"
   ]
  },
  {
   "cell_type": "markdown",
   "metadata": {},
   "source": [
    " Добавили в датафрейм `df` столбец `revenue` ,в котором указана выручка с каждого пользователя."
   ]
  },
  {
   "cell_type": "markdown",
   "metadata": {},
   "source": [
    "В столбцах `duration_count`, `duration_sum` ,`message_sum`, `gb_used` обнаружены пропуски. Объясняется это тем, что пользователь предпочел вообще не использовать полностью предоставленный лимит, который входит в пакет при оплате тарифа."
   ]
  },
  {
   "cell_type": "markdown",
   "metadata": {},
   "source": [
    "## Исследовательский анализ данных"
   ]
  },
  {
   "cell_type": "code",
   "execution_count": 52,
   "metadata": {},
   "outputs": [],
   "source": [
    "df_smart = df.query('tariff == \"smart\"') # срез данных по значению \"smart\""
   ]
  },
  {
   "cell_type": "code",
   "execution_count": 53,
   "metadata": {},
   "outputs": [],
   "source": [
    "df_ultra = df.query('tariff == \"ultra\"') # срез данных по значению \"smart\""
   ]
  },
  {
   "cell_type": "code",
   "execution_count": 54,
   "metadata": {
    "scrolled": true
   },
   "outputs": [
    {
     "data": {
      "text/html": [
       "<div>\n",
       "<style scoped>\n",
       "    .dataframe tbody tr th:only-of-type {\n",
       "        vertical-align: middle;\n",
       "    }\n",
       "\n",
       "    .dataframe tbody tr th {\n",
       "        vertical-align: top;\n",
       "    }\n",
       "\n",
       "    .dataframe thead th {\n",
       "        text-align: right;\n",
       "    }\n",
       "</style>\n",
       "<table border=\"1\" class=\"dataframe\">\n",
       "  <thead>\n",
       "    <tr style=\"text-align: right;\">\n",
       "      <th></th>\n",
       "      <th>user_id</th>\n",
       "      <th>month</th>\n",
       "      <th>duration_count</th>\n",
       "      <th>duration_sum</th>\n",
       "      <th>message_sum</th>\n",
       "      <th>gb_used</th>\n",
       "      <th>revenue</th>\n",
       "    </tr>\n",
       "  </thead>\n",
       "  <tbody>\n",
       "    <tr>\n",
       "      <td>count</td>\n",
       "      <td>2229.000000</td>\n",
       "      <td>2229.000000</td>\n",
       "      <td>2223.000000</td>\n",
       "      <td>2223.000000</td>\n",
       "      <td>1922.000000</td>\n",
       "      <td>2228.000000</td>\n",
       "      <td>2229.000000</td>\n",
       "    </tr>\n",
       "    <tr>\n",
       "      <td>mean</td>\n",
       "      <td>1246.506505</td>\n",
       "      <td>8.346792</td>\n",
       "      <td>58.621233</td>\n",
       "      <td>419.062978</td>\n",
       "      <td>38.716441</td>\n",
       "      <td>16.336176</td>\n",
       "      <td>1289.973531</td>\n",
       "    </tr>\n",
       "    <tr>\n",
       "      <td>std</td>\n",
       "      <td>146.119496</td>\n",
       "      <td>2.920316</td>\n",
       "      <td>25.796101</td>\n",
       "      <td>189.325618</td>\n",
       "      <td>26.787949</td>\n",
       "      <td>5.737923</td>\n",
       "      <td>818.404367</td>\n",
       "    </tr>\n",
       "    <tr>\n",
       "      <td>min</td>\n",
       "      <td>1001.000000</td>\n",
       "      <td>1.000000</td>\n",
       "      <td>1.000000</td>\n",
       "      <td>0.000000</td>\n",
       "      <td>1.000000</td>\n",
       "      <td>0.000000</td>\n",
       "      <td>550.000000</td>\n",
       "    </tr>\n",
       "    <tr>\n",
       "      <td>25%</td>\n",
       "      <td>1121.000000</td>\n",
       "      <td>6.000000</td>\n",
       "      <td>40.000000</td>\n",
       "      <td>285.000000</td>\n",
       "      <td>17.000000</td>\n",
       "      <td>13.000000</td>\n",
       "      <td>550.000000</td>\n",
       "    </tr>\n",
       "    <tr>\n",
       "      <td>50%</td>\n",
       "      <td>1239.000000</td>\n",
       "      <td>9.000000</td>\n",
       "      <td>60.000000</td>\n",
       "      <td>423.000000</td>\n",
       "      <td>34.000000</td>\n",
       "      <td>17.000000</td>\n",
       "      <td>1023.000000</td>\n",
       "    </tr>\n",
       "    <tr>\n",
       "      <td>75%</td>\n",
       "      <td>1376.000000</td>\n",
       "      <td>11.000000</td>\n",
       "      <td>76.000000</td>\n",
       "      <td>545.500000</td>\n",
       "      <td>55.000000</td>\n",
       "      <td>20.000000</td>\n",
       "      <td>1750.000000</td>\n",
       "    </tr>\n",
       "    <tr>\n",
       "      <td>max</td>\n",
       "      <td>1499.000000</td>\n",
       "      <td>12.000000</td>\n",
       "      <td>198.000000</td>\n",
       "      <td>1435.000000</td>\n",
       "      <td>143.000000</td>\n",
       "      <td>38.000000</td>\n",
       "      <td>6770.000000</td>\n",
       "    </tr>\n",
       "  </tbody>\n",
       "</table>\n",
       "</div>"
      ],
      "text/plain": [
       "           user_id        month  duration_count  duration_sum  message_sum  \\\n",
       "count  2229.000000  2229.000000     2223.000000   2223.000000  1922.000000   \n",
       "mean   1246.506505     8.346792       58.621233    419.062978    38.716441   \n",
       "std     146.119496     2.920316       25.796101    189.325618    26.787949   \n",
       "min    1001.000000     1.000000        1.000000      0.000000     1.000000   \n",
       "25%    1121.000000     6.000000       40.000000    285.000000    17.000000   \n",
       "50%    1239.000000     9.000000       60.000000    423.000000    34.000000   \n",
       "75%    1376.000000    11.000000       76.000000    545.500000    55.000000   \n",
       "max    1499.000000    12.000000      198.000000   1435.000000   143.000000   \n",
       "\n",
       "           gb_used      revenue  \n",
       "count  2228.000000  2229.000000  \n",
       "mean     16.336176  1289.973531  \n",
       "std       5.737923   818.404367  \n",
       "min       0.000000   550.000000  \n",
       "25%      13.000000   550.000000  \n",
       "50%      17.000000  1023.000000  \n",
       "75%      20.000000  1750.000000  \n",
       "max      38.000000  6770.000000  "
      ]
     },
     "execution_count": 54,
     "metadata": {},
     "output_type": "execute_result"
    }
   ],
   "source": [
    "df_smart.describe() # просмотр статистических данных"
   ]
  },
  {
   "cell_type": "markdown",
   "metadata": {},
   "source": [
    "По тарифу смарт:\n",
    "* В колонке `duration_count` среднее значение равно 58.62, стандартное отклонение 25.79;\n",
    "* В колонке `duration_sum` среднее значение равно 419.06, стандартное отклонение 189.32;\n",
    "* В колонке `message_sum` среднее значение равно 38.71, стандартное отклонение 26.78;\n",
    "* В колонке `gb_used` среднее значение равно 16.33, стандартное отклонение 5.73."
   ]
  },
  {
   "cell_type": "code",
   "execution_count": 55,
   "metadata": {},
   "outputs": [
    {
     "data": {
      "text/plain": [
       "user_id            21341.328468\n",
       "month                  8.524419\n",
       "duration_count       665.139486\n",
       "duration_sum       35828.065310\n",
       "message_sum          717.220843\n",
       "gb_used               32.908979\n",
       "revenue           669485.220923\n",
       "dtype: float64"
      ]
     },
     "execution_count": 55,
     "metadata": {},
     "output_type": "execute_result"
    }
   ],
   "source": [
    "np.var(df_smart) # расчет дисперсии для датафрейма df_smart"
   ]
  },
  {
   "cell_type": "code",
   "execution_count": 56,
   "metadata": {
    "scrolled": false
   },
   "outputs": [
    {
     "data": {
      "text/html": [
       "<div>\n",
       "<style scoped>\n",
       "    .dataframe tbody tr th:only-of-type {\n",
       "        vertical-align: middle;\n",
       "    }\n",
       "\n",
       "    .dataframe tbody tr th {\n",
       "        vertical-align: top;\n",
       "    }\n",
       "\n",
       "    .dataframe thead th {\n",
       "        text-align: right;\n",
       "    }\n",
       "</style>\n",
       "<table border=\"1\" class=\"dataframe\">\n",
       "  <thead>\n",
       "    <tr style=\"text-align: right;\">\n",
       "      <th></th>\n",
       "      <th>user_id</th>\n",
       "      <th>month</th>\n",
       "      <th>duration_count</th>\n",
       "      <th>duration_sum</th>\n",
       "      <th>message_sum</th>\n",
       "      <th>gb_used</th>\n",
       "      <th>revenue</th>\n",
       "    </tr>\n",
       "  </thead>\n",
       "  <tbody>\n",
       "    <tr>\n",
       "      <td>count</td>\n",
       "      <td>985.000000</td>\n",
       "      <td>985.000000</td>\n",
       "      <td>951.000000</td>\n",
       "      <td>951.000000</td>\n",
       "      <td>795.000000</td>\n",
       "      <td>975.000000</td>\n",
       "      <td>985.000000</td>\n",
       "    </tr>\n",
       "    <tr>\n",
       "      <td>mean</td>\n",
       "      <td>1263.094416</td>\n",
       "      <td>8.250761</td>\n",
       "      <td>76.016824</td>\n",
       "      <td>545.451104</td>\n",
       "      <td>61.161006</td>\n",
       "      <td>19.694359</td>\n",
       "      <td>2070.152284</td>\n",
       "    </tr>\n",
       "    <tr>\n",
       "      <td>std</td>\n",
       "      <td>140.694908</td>\n",
       "      <td>2.871762</td>\n",
       "      <td>42.403348</td>\n",
       "      <td>306.925754</td>\n",
       "      <td>45.931026</td>\n",
       "      <td>9.702924</td>\n",
       "      <td>376.187114</td>\n",
       "    </tr>\n",
       "    <tr>\n",
       "      <td>min</td>\n",
       "      <td>1000.000000</td>\n",
       "      <td>1.000000</td>\n",
       "      <td>1.000000</td>\n",
       "      <td>0.000000</td>\n",
       "      <td>1.000000</td>\n",
       "      <td>0.000000</td>\n",
       "      <td>1950.000000</td>\n",
       "    </tr>\n",
       "    <tr>\n",
       "      <td>25%</td>\n",
       "      <td>1143.000000</td>\n",
       "      <td>6.000000</td>\n",
       "      <td>43.000000</td>\n",
       "      <td>310.000000</td>\n",
       "      <td>24.000000</td>\n",
       "      <td>12.000000</td>\n",
       "      <td>1950.000000</td>\n",
       "    </tr>\n",
       "    <tr>\n",
       "      <td>50%</td>\n",
       "      <td>1277.000000</td>\n",
       "      <td>9.000000</td>\n",
       "      <td>75.000000</td>\n",
       "      <td>528.000000</td>\n",
       "      <td>51.000000</td>\n",
       "      <td>19.000000</td>\n",
       "      <td>1950.000000</td>\n",
       "    </tr>\n",
       "    <tr>\n",
       "      <td>75%</td>\n",
       "      <td>1381.000000</td>\n",
       "      <td>11.000000</td>\n",
       "      <td>105.000000</td>\n",
       "      <td>756.500000</td>\n",
       "      <td>87.500000</td>\n",
       "      <td>27.000000</td>\n",
       "      <td>1950.000000</td>\n",
       "    </tr>\n",
       "    <tr>\n",
       "      <td>max</td>\n",
       "      <td>1495.000000</td>\n",
       "      <td>12.000000</td>\n",
       "      <td>244.000000</td>\n",
       "      <td>1673.000000</td>\n",
       "      <td>224.000000</td>\n",
       "      <td>49.000000</td>\n",
       "      <td>4800.000000</td>\n",
       "    </tr>\n",
       "  </tbody>\n",
       "</table>\n",
       "</div>"
      ],
      "text/plain": [
       "           user_id       month  duration_count  duration_sum  message_sum  \\\n",
       "count   985.000000  985.000000      951.000000    951.000000   795.000000   \n",
       "mean   1263.094416    8.250761       76.016824    545.451104    61.161006   \n",
       "std     140.694908    2.871762       42.403348    306.925754    45.931026   \n",
       "min    1000.000000    1.000000        1.000000      0.000000     1.000000   \n",
       "25%    1143.000000    6.000000       43.000000    310.000000    24.000000   \n",
       "50%    1277.000000    9.000000       75.000000    528.000000    51.000000   \n",
       "75%    1381.000000   11.000000      105.000000    756.500000    87.500000   \n",
       "max    1495.000000   12.000000      244.000000   1673.000000   224.000000   \n",
       "\n",
       "          gb_used      revenue  \n",
       "count  975.000000   985.000000  \n",
       "mean    19.694359  2070.152284  \n",
       "std      9.702924   376.187114  \n",
       "min      0.000000  1950.000000  \n",
       "25%     12.000000  1950.000000  \n",
       "50%     19.000000  1950.000000  \n",
       "75%     27.000000  1950.000000  \n",
       "max     49.000000  4800.000000  "
      ]
     },
     "execution_count": 56,
     "metadata": {},
     "output_type": "execute_result"
    }
   ],
   "source": [
    "df_ultra.describe() # просмотр статистических данных"
   ]
  },
  {
   "cell_type": "markdown",
   "metadata": {},
   "source": [
    "По тарифу ультра:\n",
    "* В колонке `duration_count` среднее значение равно 76.01, стандартное отклонение 42.40;\n",
    "* В колонке `duration_sum` среднее значение равно 545.45, стандартное отклонение 306.92;\n",
    "* В колонке `message_sum` среднее значение равно 61.16, стандартное отклонение 45.93;\n",
    "* В колонке `gb_used` среднее значение равно 19.69, стандартное отклонение 9.70."
   ]
  },
  {
   "cell_type": "code",
   "execution_count": 57,
   "metadata": {},
   "outputs": [
    {
     "data": {
      "text/plain": [
       "user_id            19774.960629\n",
       "month                  8.238642\n",
       "duration_count      1796.153240\n",
       "duration_sum       94104.361174\n",
       "message_sum         2107.005524\n",
       "gb_used               94.050173\n",
       "revenue           141373.073256\n",
       "dtype: float64"
      ]
     },
     "execution_count": 57,
     "metadata": {},
     "output_type": "execute_result"
    }
   ],
   "source": [
    "np.var(df_ultra) # расчет дисперсии для датафрейма df_ultra"
   ]
  },
  {
   "cell_type": "code",
   "execution_count": 58,
   "metadata": {},
   "outputs": [],
   "source": [
    "%config InlineBackend.figure_format = 'retina'# графики сделали лучше"
   ]
  },
  {
   "cell_type": "code",
   "execution_count": 59,
   "metadata": {
    "scrolled": true
   },
   "outputs": [
    {
     "data": {
      "image/png": "[encoded data removed]",
      "text/plain": [
       "<Figure size 1080x288 with 2 Axes>"
      ]
     },
     "metadata": {
      "image/png": {
       "height": 263,
       "width": 889
      },
      "needs_background": "light"
     },
     "output_type": "display_data"
    }
   ],
   "source": [
    "fig, axes = plt.subplots(1,2,figsize=(15,4)) # постоение гистрограммы \n",
    "\n",
    "df_smart['duration_sum'].hist(bins=40, ax=axes[0])\n",
    "df_ultra['duration_sum'].hist(bins=40, ax=axes[1])\n",
    "axes[0].set_title('Распределение использования минут в тарифе smart')\n",
    "axes[1].set_title('Распределение использования минут в тарифе ultra')\n",
    "\n",
    "plt.show()"
   ]
  },
  {
   "cell_type": "markdown",
   "metadata": {},
   "source": [
    "По гистограмма видно ,что распределении использования минут находится нормальное распределение. Мода по тарифу смарт находится в диапозоне 450 - 500 минут.Таких значений чуть больше 250. В свою очередь по тарифу ультра мода чуть больше в диапозоне от 500 до 550. Но значений входящих в этот диапозон меньше и равно 70."
   ]
  },
  {
   "cell_type": "code",
   "execution_count": 60,
   "metadata": {},
   "outputs": [
    {
     "data": {
      "image/png": "[encoded data removed]",
      "text/plain": [
       "<Figure size 1080x288 with 2 Axes>"
      ]
     },
     "metadata": {
      "image/png": {
       "height": 263,
       "width": 877
      },
      "needs_background": "light"
     },
     "output_type": "display_data"
    }
   ],
   "source": [
    "fig, axes = plt.subplots(1,2,figsize=(15,4))# постоение гистрограммы \n",
    "\n",
    "df_smart['message_sum'].hist(bins=20, ax=axes[0])\n",
    "df_ultra['message_sum'].hist(bins=20, ax=axes[1])\n",
    "\n",
    "axes[0].set_title('Распределение использования смс в тарифе smart')\n",
    "axes[1].set_title('Распределение использования смс в тарифе ultra')\n",
    "\n",
    "plt.show()"
   ]
  },
  {
   "cell_type": "markdown",
   "metadata": {},
   "source": [
    "В обоих гистограммах имеет место ассиметрия, скошенность в право. В обоих случаях медиана и среднее значение будет смещено в правую сторону от моды. Мода в тарифе смарт от 15 до 30, в тарифе ультра от 15 до 30."
   ]
  },
  {
   "cell_type": "code",
   "execution_count": 61,
   "metadata": {
    "scrolled": true
   },
   "outputs": [
    {
     "data": {
      "image/png": "[encoded data removed]",
      "text/plain": [
       "<Figure size 1080x288 with 2 Axes>"
      ]
     },
     "metadata": {
      "image/png": {
       "height": 264,
       "width": 877
      },
      "needs_background": "light"
     },
     "output_type": "display_data"
    }
   ],
   "source": [
    "fig, axes = plt.subplots(1,2,figsize=(15,4))# постоение гистрограммы \n",
    "\n",
    "df_smart['gb_used'].hist(bins=20,ax=axes[0])\n",
    "df_ultra['gb_used'].hist(bins=20, ax=axes[1])\n",
    "\n",
    "axes[0].set_title('Распределение использования гигабайтов в тарифе smart')\n",
    "axes[1].set_title('Распределение использования гигабайтов в тарифе ultra')\n",
    "\n",
    "plt.show()"
   ]
  },
  {
   "cell_type": "markdown",
   "metadata": {},
   "source": [
    "Нормальное распределение  гистограмм. Мода в тарифе смарт находится в пределах от 15 до 17. А в тарифе ультра в о 20 до 22. "
   ]
  },
  {
   "cell_type": "code",
   "execution_count": 62,
   "metadata": {
    "scrolled": false
   },
   "outputs": [
    {
     "data": {
      "image/png": "[encoded data removed]",
      "text/plain": [
       "<Figure size 1080x288 with 2 Axes>"
      ]
     },
     "metadata": {
      "image/png": {
       "height": 263,
       "width": 884
      },
      "needs_background": "light"
     },
     "output_type": "display_data"
    }
   ],
   "source": [
    "fig, axes = plt.subplots(1,2,figsize=(15,4))# постоение гистрограммы \n",
    "\n",
    "df_smart['revenue'].hist(ax=axes[0])\n",
    "df_ultra['revenue'].hist(ax=axes[1])\n",
    "\n",
    "axes[0].set_title('Распределение использования минут в тарифе smart')\n",
    "axes[1].set_title('Распределение использования минут в тарифе ultra')\n",
    "\n",
    "plt.show()"
   ]
  },
  {
   "cell_type": "markdown",
   "metadata": {},
   "source": [
    "Обе гистограмма скошена в право.Мода по выручки в тарифе смарт варьируется от  550 до 1100. В тарифе ультра мода чуть выше от 1950 до 2200."
   ]
  },
  {
   "cell_type": "code",
   "execution_count": 63,
   "metadata": {
    "scrolled": true
   },
   "outputs": [
    {
     "data": {
      "image/png": "[encoded data removed]",
      "text/plain": [
       "<Figure size 1080x288 with 2 Axes>"
      ]
     },
     "metadata": {
      "image/png": {
       "height": 263,
       "width": 878
      },
      "needs_background": "light"
     },
     "output_type": "display_data"
    }
   ],
   "source": [
    "fig, axes = plt.subplots(1,2,figsize=(15,4))# постоение гистрограммы \n",
    "\n",
    "df_smart['duration_count'].hist(bins=20, ax=axes[0])\n",
    "df_ultra['duration_count'].hist(bins=20, ax=axes[1])\n",
    "\n",
    "axes[0].set_title('Распределение количества звонков в тарифе smart')\n",
    "axes[1].set_title('Распределение количества звонков в тарифе ultra')\n",
    "\n",
    "plt.show()"
   ]
  },
  {
   "cell_type": "markdown",
   "metadata": {},
   "source": [
    "Гистограммы по количества произведенных звонков скошены влево. Наибольшее количесво звонков по тарифу смарт от 55 до 65. В тарифе ультра мода находится от 60 до 70. "
   ]
  },
  {
   "cell_type": "markdown",
   "metadata": {},
   "source": [
    "### Вывод"
   ]
  },
  {
   "cell_type": "markdown",
   "metadata": {},
   "source": [
    "Чаще всего пользователь по тарифу `смарт` тратит:\n",
    "*  минут от 450 до 500;\n",
    "*  смс  от 15 до 30;\n",
    "*  интернета от 15 до 17;\n",
    "*  совершает звонков от 55 до 65 в месяц. "
   ]
  },
  {
   "cell_type": "markdown",
   "metadata": {},
   "source": [
    "Чаще всего пользователь по тарифу `ультра` тратит:\n",
    "*  минут от 500 до 550;\n",
    "*  смс  от 15 до 30;\n",
    "*  интернета от 20 до 22;\n",
    "*  совершает звонков от 60 до 70 в месяц. "
   ]
  },
  {
   "cell_type": "markdown",
   "metadata": {},
   "source": [
    "## Проверка гипотез"
   ]
  },
  {
   "cell_type": "markdown",
   "metadata": {},
   "source": [
    "* Нулевая гипотеза Н0:  нет разница между средней выручкой пользователей тарифов `ультра` и `смарт`.\n",
    "* Альтернативная гипотеза Н1 :  разница существует между средней выручкой пользователей тарифов `ультра` и `смарт`.\n"
   ]
  },
  {
   "cell_type": "code",
   "execution_count": 64,
   "metadata": {},
   "outputs": [],
   "source": [
    "from scipy import stats as st"
   ]
  },
  {
   "cell_type": "code",
   "execution_count": 65,
   "metadata": {
    "scrolled": false
   },
   "outputs": [
    {
     "name": "stdout",
     "output_type": "stream",
     "text": [
      "p-значение: 4.2606313931076085e-250\n",
      "Отвергаем нулевую гипотезу\n"
     ]
    }
   ],
   "source": [
    "#гипотеза о равенстве средних двух  генеральных совокупностей\n",
    "sample_1 = df.loc[(df['tariff'] == 'smart'),'revenue']\n",
    "sample_2 = df.loc[(df['tariff'] == 'ultra'),'revenue']\n",
    "alpha = 0.05 # критический уровень статистической значимости\n",
    "# если p-value окажется меньше него - отвегнем гипотезу\n",
    "results = st.ttest_ind(\n",
    "    sample_1, \n",
    "    sample_2,equal_var = False)\n",
    "\n",
    "print('p-значение:', results.pvalue)\n",
    "\n",
    "if results.pvalue < alpha:\n",
    "    print(\"Отвергаем нулевую гипотезу\")\n",
    "else:\n",
    "    print(\"Не получилось отвергнуть нулевую гипотезу\") "
   ]
  },
  {
   "cell_type": "markdown",
   "metadata": {},
   "source": [
    "Значение p-value низкое,поэтому гипотезу о равенстве отвергаем.Статистически значимая разница между двумя тарифами существует."
   ]
  },
  {
   "cell_type": "markdown",
   "metadata": {},
   "source": [
    "* Нулевая гипотеза Н0: средняя выручка пользователей из Москвы  от выручки пользователей из других регионов равна.\n",
    "* Альтернативная гипотеза Н1 : средняя выручка пользователей из Москвы  от выручки пользователей из других регионов  не равна."
   ]
  },
  {
   "cell_type": "code",
   "execution_count": 66,
   "metadata": {},
   "outputs": [
    {
     "name": "stdout",
     "output_type": "stream",
     "text": [
      "p-значение: 0.5257376663729298\n",
      "Не получилось отвергнуть нулевую гипотезу\n"
     ]
    }
   ],
   "source": [
    "#гипотеза о равенстве средних двух  генеральных совокупностей\n",
    "sample_1 = df.loc[(df['city'] == 'москва'),'revenue']\n",
    "sample_2 = df.loc[(df['city'] != 'москва'),'revenue']\n",
    "alpha = 0.05 # критический уровень статистической значимости\n",
    "# если p-value окажется меньше него - отвегнем гипотезу\n",
    "results = st.ttest_ind(\n",
    "    sample_1, \n",
    "    sample_2,equal_var = False)\n",
    "\n",
    "print('p-значение:', results.pvalue)\n",
    "\n",
    "if results.pvalue < alpha:\n",
    "    print(\"Отвергаем нулевую гипотезу\")\n",
    "else:\n",
    "    print(\"Не получилось отвергнуть нулевую гипотезу\") "
   ]
  },
  {
   "cell_type": "markdown",
   "metadata": {},
   "source": [
    "Значение p-value  получилось достоточно большим ,поэтому оснований отвергнуть нулевую гипотезу о равенстве долей нет. Средняя выручка различается незначимо."
   ]
  },
  {
   "cell_type": "markdown",
   "metadata": {},
   "source": [
    "### Вывод"
   ]
  },
  {
   "cell_type": "markdown",
   "metadata": {},
   "source": [
    "Нулевая гипотеза о равенстве средней выручки между тарифами `ультра` и `смарт` не подтвердилось.  На уровне значимости 0.05 гипотеза о равенстве средней выручки пользователей из Москвы от выручки пользователей из других регионов подтвердилась."
   ]
  },
  {
   "cell_type": "markdown",
   "metadata": {},
   "source": [
    "## Общий вывод"
   ]
  },
  {
   "cell_type": "markdown",
   "metadata": {},
   "source": [
    "На основе полученных данных можно сделать вывод, что:\n",
    "\n",
    "1. Большая группа пользователей тарифа `смарт`  доплачивают за дополнительные услуги ,помимо установленного лимита. Чаще всего доплата происходит в категории `интернет`.\n",
    "\n",
    "2. Зачастую пользователи тарифа `ультра` полностью не используют свой пакет услуг.\n",
    "\n",
    "3. Пользователи похожи в категории сообщения.\n",
    "\n",
    "4. Данные между средней выручкой  пользователей тарифов `ультра` и `смарт` различны.\n",
    "\n",
    "5. Средняя выручка не зависит от местоположения пользователя.\n",
    "\n",
    "6. Пользователей тарифом `ультра` на 45 % меньше, чем пользователей тарифом `смарт`\n",
    "\n",
    "\n",
    "\n",
    "Утверждать точно по полученным данным какой тариф приносит больше денег не предоставляется возможным. Можно предположить,так как  в тарифе `смарт`, больше пользователей, нежели в тарифе `ультра`. А также пользователи тарифа `сматр` доплачивают за дополнительные гигабайты интернета, тариф `смарт` выглядит наиболее целесообразным для продвижения в рекламной компании."
   ]
  }
 ],
 "metadata": {
  "ExecuteTimeLog": [
   {
    "duration": 3,
    "start_time": "2022-02-02T08:36:07.765Z"
   },
   {
    "duration": 1620,
    "start_time": "2022-02-02T08:36:41.566Z"
   },
   {
    "duration": 188,
    "start_time": "2022-02-02T08:37:59.118Z"
   },
   {
    "duration": 10,
    "start_time": "2022-02-02T08:38:15.026Z"
   },
   {
    "duration": 32,
    "start_time": "2022-02-02T08:38:36.080Z"
   },
   {
    "duration": 116,
    "start_time": "2022-02-02T08:39:18.012Z"
   },
   {
    "duration": 378,
    "start_time": "2022-02-02T08:39:31.736Z"
   },
   {
    "duration": 8,
    "start_time": "2022-02-02T08:39:39.716Z"
   },
   {
    "duration": 17,
    "start_time": "2022-02-02T08:39:48.380Z"
   },
   {
    "duration": 77,
    "start_time": "2022-02-02T08:40:29.428Z"
   },
   {
    "duration": 7,
    "start_time": "2022-02-02T08:40:43.062Z"
   },
   {
    "duration": 15,
    "start_time": "2022-02-02T08:40:50.502Z"
   },
   {
    "duration": 17,
    "start_time": "2022-02-02T08:41:24.727Z"
   },
   {
    "duration": 8,
    "start_time": "2022-02-02T08:41:36.561Z"
   },
   {
    "duration": 8,
    "start_time": "2022-02-02T08:41:47.158Z"
   },
   {
    "duration": 28,
    "start_time": "2022-02-02T08:42:23.685Z"
   },
   {
    "duration": 9,
    "start_time": "2022-02-02T08:42:34.499Z"
   },
   {
    "duration": 6,
    "start_time": "2022-02-02T08:42:41.377Z"
   },
   {
    "duration": 5,
    "start_time": "2022-02-02T09:23:41.771Z"
   },
   {
    "duration": 352,
    "start_time": "2022-02-02T09:23:59.002Z"
   },
   {
    "duration": 309,
    "start_time": "2022-02-02T09:24:06.339Z"
   },
   {
    "duration": 9,
    "start_time": "2022-02-02T09:24:14.708Z"
   },
   {
    "duration": 5,
    "start_time": "2022-02-02T09:25:35.372Z"
   },
   {
    "duration": 2341,
    "start_time": "2022-02-02T09:28:17.116Z"
   },
   {
    "duration": 5,
    "start_time": "2022-02-02T09:29:02.524Z"
   },
   {
    "duration": 5,
    "start_time": "2022-02-02T09:30:24.453Z"
   },
   {
    "duration": 45,
    "start_time": "2022-02-02T09:32:57.140Z"
   },
   {
    "duration": 28,
    "start_time": "2022-02-02T09:34:03.515Z"
   },
   {
    "duration": 448,
    "start_time": "2022-02-02T09:37:27.207Z"
   },
   {
    "duration": 311,
    "start_time": "2022-02-02T09:37:33.474Z"
   },
   {
    "duration": 25,
    "start_time": "2022-02-02T09:37:40.624Z"
   },
   {
    "duration": 14,
    "start_time": "2022-02-02T09:38:27.891Z"
   },
   {
    "duration": 17,
    "start_time": "2022-02-02T09:39:35.330Z"
   },
   {
    "duration": 7,
    "start_time": "2022-02-02T09:40:31.683Z"
   },
   {
    "duration": 31,
    "start_time": "2022-02-02T09:42:07.251Z"
   },
   {
    "duration": 16,
    "start_time": "2022-02-02T09:44:28.646Z"
   },
   {
    "duration": 15,
    "start_time": "2022-02-02T09:47:43.401Z"
   },
   {
    "duration": 299,
    "start_time": "2022-02-02T09:47:53.257Z"
   },
   {
    "duration": 332,
    "start_time": "2022-02-02T09:48:16.472Z"
   },
   {
    "duration": 289,
    "start_time": "2022-02-02T09:49:09.541Z"
   },
   {
    "duration": 302,
    "start_time": "2022-02-02T09:49:29.090Z"
   },
   {
    "duration": 115,
    "start_time": "2022-02-02T09:49:35.798Z"
   },
   {
    "duration": 8,
    "start_time": "2022-02-02T09:49:36.909Z"
   },
   {
    "duration": 16,
    "start_time": "2022-02-02T09:49:37.737Z"
   },
   {
    "duration": 6,
    "start_time": "2022-02-02T09:49:42.750Z"
   },
   {
    "duration": 15,
    "start_time": "2022-02-02T09:49:43.500Z"
   },
   {
    "duration": 1051,
    "start_time": "2022-02-02T09:50:02.965Z"
   },
   {
    "duration": 134,
    "start_time": "2022-02-02T09:50:04.018Z"
   },
   {
    "duration": 10,
    "start_time": "2022-02-02T09:50:04.155Z"
   },
   {
    "duration": 27,
    "start_time": "2022-02-02T09:50:04.167Z"
   },
   {
    "duration": 111,
    "start_time": "2022-02-02T09:50:04.196Z"
   },
   {
    "duration": 7,
    "start_time": "2022-02-02T09:50:04.309Z"
   },
   {
    "duration": 18,
    "start_time": "2022-02-02T09:50:04.318Z"
   },
   {
    "duration": 109,
    "start_time": "2022-02-02T09:50:04.339Z"
   },
   {
    "duration": 9,
    "start_time": "2022-02-02T09:50:04.451Z"
   },
   {
    "duration": 15,
    "start_time": "2022-02-02T09:50:04.461Z"
   },
   {
    "duration": 16,
    "start_time": "2022-02-02T09:50:04.477Z"
   },
   {
    "duration": 10,
    "start_time": "2022-02-02T09:50:04.495Z"
   },
   {
    "duration": 8,
    "start_time": "2022-02-02T09:50:04.506Z"
   },
   {
    "duration": 39,
    "start_time": "2022-02-02T09:50:04.515Z"
   },
   {
    "duration": 12,
    "start_time": "2022-02-02T09:50:04.555Z"
   },
   {
    "duration": 7,
    "start_time": "2022-02-02T09:50:04.568Z"
   },
   {
    "duration": 6,
    "start_time": "2022-02-02T09:50:04.577Z"
   },
   {
    "duration": 4,
    "start_time": "2022-02-02T09:50:04.585Z"
   },
   {
    "duration": 7,
    "start_time": "2022-02-02T09:50:04.591Z"
   },
   {
    "duration": 35,
    "start_time": "2022-02-02T09:50:04.600Z"
   },
   {
    "duration": 20,
    "start_time": "2022-02-02T09:50:04.636Z"
   },
   {
    "duration": 15,
    "start_time": "2022-02-02T09:50:04.658Z"
   },
   {
    "duration": 12,
    "start_time": "2022-02-02T09:50:04.676Z"
   },
   {
    "duration": 19,
    "start_time": "2022-02-02T09:50:04.690Z"
   },
   {
    "duration": 18,
    "start_time": "2022-02-02T09:50:04.727Z"
   },
   {
    "duration": 22,
    "start_time": "2022-02-02T09:50:04.747Z"
   },
   {
    "duration": 16,
    "start_time": "2022-02-02T09:50:04.771Z"
   },
   {
    "duration": 366,
    "start_time": "2022-02-02T09:50:50.416Z"
   },
   {
    "duration": 326,
    "start_time": "2022-02-02T09:51:09.770Z"
   },
   {
    "duration": 313,
    "start_time": "2022-02-02T09:51:40.918Z"
   },
   {
    "duration": 1101,
    "start_time": "2022-02-02T09:51:49.742Z"
   },
   {
    "duration": 196,
    "start_time": "2022-02-02T09:51:50.845Z"
   },
   {
    "duration": 13,
    "start_time": "2022-02-02T09:51:51.044Z"
   },
   {
    "duration": 23,
    "start_time": "2022-02-02T09:51:51.059Z"
   },
   {
    "duration": 124,
    "start_time": "2022-02-02T09:51:51.083Z"
   },
   {
    "duration": 15,
    "start_time": "2022-02-02T09:51:51.209Z"
   },
   {
    "duration": 16,
    "start_time": "2022-02-02T09:51:51.226Z"
   },
   {
    "duration": 97,
    "start_time": "2022-02-02T09:51:51.245Z"
   },
   {
    "duration": 8,
    "start_time": "2022-02-02T09:51:51.345Z"
   },
   {
    "duration": 28,
    "start_time": "2022-02-02T09:51:51.355Z"
   },
   {
    "duration": 16,
    "start_time": "2022-02-02T09:51:51.384Z"
   },
   {
    "duration": 9,
    "start_time": "2022-02-02T09:51:51.401Z"
   },
   {
    "duration": 18,
    "start_time": "2022-02-02T09:51:51.412Z"
   },
   {
    "duration": 33,
    "start_time": "2022-02-02T09:51:51.432Z"
   },
   {
    "duration": 12,
    "start_time": "2022-02-02T09:51:51.467Z"
   },
   {
    "duration": 8,
    "start_time": "2022-02-02T09:51:51.481Z"
   },
   {
    "duration": 10,
    "start_time": "2022-02-02T09:51:51.491Z"
   },
   {
    "duration": 4,
    "start_time": "2022-02-02T09:51:51.503Z"
   },
   {
    "duration": 6,
    "start_time": "2022-02-02T09:51:51.508Z"
   },
   {
    "duration": 48,
    "start_time": "2022-02-02T09:51:51.515Z"
   },
   {
    "duration": 28,
    "start_time": "2022-02-02T09:51:51.565Z"
   },
   {
    "duration": 33,
    "start_time": "2022-02-02T09:51:51.594Z"
   },
   {
    "duration": 16,
    "start_time": "2022-02-02T09:51:51.630Z"
   },
   {
    "duration": 21,
    "start_time": "2022-02-02T09:51:51.647Z"
   },
   {
    "duration": 17,
    "start_time": "2022-02-02T09:51:51.670Z"
   },
   {
    "duration": 46,
    "start_time": "2022-02-02T09:51:51.688Z"
   },
   {
    "duration": 13,
    "start_time": "2022-02-02T09:52:18.846Z"
   },
   {
    "duration": 16,
    "start_time": "2022-02-02T09:52:29.268Z"
   },
   {
    "duration": 66,
    "start_time": "2022-02-02T09:57:21.422Z"
   },
   {
    "duration": 29,
    "start_time": "2022-02-02T09:57:24.181Z"
   },
   {
    "duration": 1407,
    "start_time": "2022-02-02T09:58:35.759Z"
   },
   {
    "duration": 130,
    "start_time": "2022-02-02T09:58:37.168Z"
   },
   {
    "duration": 11,
    "start_time": "2022-02-02T09:58:37.300Z"
   },
   {
    "duration": 30,
    "start_time": "2022-02-02T09:58:37.312Z"
   },
   {
    "duration": 108,
    "start_time": "2022-02-02T09:58:37.344Z"
   },
   {
    "duration": 9,
    "start_time": "2022-02-02T09:58:37.453Z"
   },
   {
    "duration": 19,
    "start_time": "2022-02-02T09:58:37.464Z"
   },
   {
    "duration": 111,
    "start_time": "2022-02-02T09:58:37.486Z"
   },
   {
    "duration": 8,
    "start_time": "2022-02-02T09:58:37.599Z"
   },
   {
    "duration": 33,
    "start_time": "2022-02-02T09:58:37.608Z"
   },
   {
    "duration": 16,
    "start_time": "2022-02-02T09:58:37.643Z"
   },
   {
    "duration": 10,
    "start_time": "2022-02-02T09:58:37.660Z"
   },
   {
    "duration": 11,
    "start_time": "2022-02-02T09:58:37.672Z"
   },
   {
    "duration": 30,
    "start_time": "2022-02-02T09:58:37.685Z"
   },
   {
    "duration": 9,
    "start_time": "2022-02-02T09:58:37.717Z"
   },
   {
    "duration": 11,
    "start_time": "2022-02-02T09:58:37.727Z"
   },
   {
    "duration": 8,
    "start_time": "2022-02-02T09:58:37.739Z"
   },
   {
    "duration": 5,
    "start_time": "2022-02-02T09:58:37.748Z"
   },
   {
    "duration": 5,
    "start_time": "2022-02-02T09:58:37.755Z"
   },
   {
    "duration": 28,
    "start_time": "2022-02-02T09:58:37.761Z"
   },
   {
    "duration": 36,
    "start_time": "2022-02-02T09:58:37.791Z"
   },
   {
    "duration": 14,
    "start_time": "2022-02-02T09:58:37.829Z"
   },
   {
    "duration": 13,
    "start_time": "2022-02-02T09:58:37.846Z"
   },
   {
    "duration": 21,
    "start_time": "2022-02-02T09:58:37.860Z"
   },
   {
    "duration": 16,
    "start_time": "2022-02-02T09:58:37.882Z"
   },
   {
    "duration": 35,
    "start_time": "2022-02-02T09:58:37.900Z"
   },
   {
    "duration": 346,
    "start_time": "2022-02-02T09:59:57.305Z"
   },
   {
    "duration": 1133,
    "start_time": "2022-02-02T10:00:10.996Z"
   },
   {
    "duration": 135,
    "start_time": "2022-02-02T10:00:12.131Z"
   },
   {
    "duration": 12,
    "start_time": "2022-02-02T10:00:12.268Z"
   },
   {
    "duration": 21,
    "start_time": "2022-02-02T10:00:12.282Z"
   },
   {
    "duration": 117,
    "start_time": "2022-02-02T10:00:12.305Z"
   },
   {
    "duration": 9,
    "start_time": "2022-02-02T10:00:12.423Z"
   },
   {
    "duration": 16,
    "start_time": "2022-02-02T10:00:12.434Z"
   },
   {
    "duration": 85,
    "start_time": "2022-02-02T10:00:12.453Z"
   },
   {
    "duration": 6,
    "start_time": "2022-02-02T10:00:12.541Z"
   },
   {
    "duration": 16,
    "start_time": "2022-02-02T10:00:12.548Z"
   },
   {
    "duration": 15,
    "start_time": "2022-02-02T10:00:12.566Z"
   },
   {
    "duration": 12,
    "start_time": "2022-02-02T10:00:12.583Z"
   },
   {
    "duration": 6,
    "start_time": "2022-02-02T10:00:12.596Z"
   },
   {
    "duration": 29,
    "start_time": "2022-02-02T10:00:12.604Z"
   },
   {
    "duration": 8,
    "start_time": "2022-02-02T10:00:12.635Z"
   },
   {
    "duration": 24,
    "start_time": "2022-02-02T10:00:12.644Z"
   },
   {
    "duration": 10,
    "start_time": "2022-02-02T10:00:12.669Z"
   },
   {
    "duration": 5,
    "start_time": "2022-02-02T10:00:12.680Z"
   },
   {
    "duration": 12,
    "start_time": "2022-02-02T10:00:12.687Z"
   },
   {
    "duration": 31,
    "start_time": "2022-02-02T10:00:12.700Z"
   },
   {
    "duration": 21,
    "start_time": "2022-02-02T10:00:12.732Z"
   },
   {
    "duration": 15,
    "start_time": "2022-02-02T10:00:12.755Z"
   },
   {
    "duration": 13,
    "start_time": "2022-02-02T10:00:12.773Z"
   },
   {
    "duration": 39,
    "start_time": "2022-02-02T10:00:12.788Z"
   },
   {
    "duration": 15,
    "start_time": "2022-02-02T10:00:12.829Z"
   },
   {
    "duration": 13,
    "start_time": "2022-02-02T10:00:12.845Z"
   },
   {
    "duration": 395,
    "start_time": "2022-02-02T10:00:40.540Z"
   },
   {
    "duration": 1392,
    "start_time": "2022-02-02T10:00:47.080Z"
   },
   {
    "duration": 134,
    "start_time": "2022-02-02T10:00:48.474Z"
   },
   {
    "duration": 10,
    "start_time": "2022-02-02T10:00:48.610Z"
   },
   {
    "duration": 22,
    "start_time": "2022-02-02T10:00:48.622Z"
   },
   {
    "duration": 110,
    "start_time": "2022-02-02T10:00:48.646Z"
   },
   {
    "duration": 7,
    "start_time": "2022-02-02T10:00:48.758Z"
   },
   {
    "duration": 18,
    "start_time": "2022-02-02T10:00:48.767Z"
   },
   {
    "duration": 86,
    "start_time": "2022-02-02T10:00:48.787Z"
   },
   {
    "duration": 7,
    "start_time": "2022-02-02T10:00:48.875Z"
   },
   {
    "duration": 17,
    "start_time": "2022-02-02T10:00:48.883Z"
   },
   {
    "duration": 16,
    "start_time": "2022-02-02T10:00:48.901Z"
   },
   {
    "duration": 12,
    "start_time": "2022-02-02T10:00:48.918Z"
   },
   {
    "duration": 6,
    "start_time": "2022-02-02T10:00:48.932Z"
   },
   {
    "duration": 28,
    "start_time": "2022-02-02T10:00:48.940Z"
   },
   {
    "duration": 8,
    "start_time": "2022-02-02T10:00:48.970Z"
   },
   {
    "duration": 9,
    "start_time": "2022-02-02T10:00:48.979Z"
   },
   {
    "duration": 14,
    "start_time": "2022-02-02T10:00:48.989Z"
   },
   {
    "duration": 3,
    "start_time": "2022-02-02T10:00:49.005Z"
   },
   {
    "duration": 5,
    "start_time": "2022-02-02T10:00:49.010Z"
   },
   {
    "duration": 29,
    "start_time": "2022-02-02T10:00:49.016Z"
   },
   {
    "duration": 20,
    "start_time": "2022-02-02T10:00:49.047Z"
   },
   {
    "duration": 16,
    "start_time": "2022-02-02T10:00:49.068Z"
   },
   {
    "duration": 13,
    "start_time": "2022-02-02T10:00:49.087Z"
   },
   {
    "duration": 37,
    "start_time": "2022-02-02T10:00:49.102Z"
   },
   {
    "duration": 17,
    "start_time": "2022-02-02T10:00:49.141Z"
   },
   {
    "duration": 14,
    "start_time": "2022-02-02T10:00:49.159Z"
   },
   {
    "duration": 91,
    "start_time": "2022-02-02T10:00:49.175Z"
   },
   {
    "duration": 20,
    "start_time": "2022-02-02T10:00:49.268Z"
   },
   {
    "duration": 1136,
    "start_time": "2022-02-02T10:04:09.691Z"
   },
   {
    "duration": 135,
    "start_time": "2022-02-02T10:04:10.829Z"
   },
   {
    "duration": 11,
    "start_time": "2022-02-02T10:04:10.966Z"
   },
   {
    "duration": 22,
    "start_time": "2022-02-02T10:04:10.979Z"
   },
   {
    "duration": 118,
    "start_time": "2022-02-02T10:04:11.003Z"
   },
   {
    "duration": 10,
    "start_time": "2022-02-02T10:04:11.123Z"
   },
   {
    "duration": 17,
    "start_time": "2022-02-02T10:04:11.134Z"
   },
   {
    "duration": 82,
    "start_time": "2022-02-02T10:04:11.153Z"
   },
   {
    "duration": 6,
    "start_time": "2022-02-02T10:04:11.237Z"
   },
   {
    "duration": 15,
    "start_time": "2022-02-02T10:04:11.245Z"
   },
   {
    "duration": 15,
    "start_time": "2022-02-02T10:04:11.262Z"
   },
   {
    "duration": 9,
    "start_time": "2022-02-02T10:04:11.279Z"
   },
   {
    "duration": 7,
    "start_time": "2022-02-02T10:04:11.289Z"
   },
   {
    "duration": 29,
    "start_time": "2022-02-02T10:04:11.297Z"
   },
   {
    "duration": 10,
    "start_time": "2022-02-02T10:04:11.327Z"
   },
   {
    "duration": 6,
    "start_time": "2022-02-02T10:04:11.339Z"
   },
   {
    "duration": 11,
    "start_time": "2022-02-02T10:04:11.347Z"
   },
   {
    "duration": 3,
    "start_time": "2022-02-02T10:04:11.360Z"
   },
   {
    "duration": 7,
    "start_time": "2022-02-02T10:04:11.365Z"
   },
   {
    "duration": 28,
    "start_time": "2022-02-02T10:04:11.374Z"
   },
   {
    "duration": 33,
    "start_time": "2022-02-02T10:04:11.404Z"
   },
   {
    "duration": 16,
    "start_time": "2022-02-02T10:04:11.438Z"
   },
   {
    "duration": 13,
    "start_time": "2022-02-02T10:04:11.457Z"
   },
   {
    "duration": 20,
    "start_time": "2022-02-02T10:04:11.472Z"
   },
   {
    "duration": 36,
    "start_time": "2022-02-02T10:04:11.494Z"
   },
   {
    "duration": 13,
    "start_time": "2022-02-02T10:04:11.531Z"
   },
   {
    "duration": 66,
    "start_time": "2022-02-02T10:04:11.545Z"
   },
   {
    "duration": 198,
    "start_time": "2022-02-02T10:04:11.613Z"
   },
   {
    "duration": 27,
    "start_time": "2022-02-02T10:04:11.813Z"
   },
   {
    "duration": 1423,
    "start_time": "2022-02-02T10:06:32.935Z"
   },
   {
    "duration": 196,
    "start_time": "2022-02-02T10:06:34.361Z"
   },
   {
    "duration": 14,
    "start_time": "2022-02-02T10:06:34.559Z"
   },
   {
    "duration": 32,
    "start_time": "2022-02-02T10:06:34.576Z"
   },
   {
    "duration": 169,
    "start_time": "2022-02-02T10:06:34.610Z"
   },
   {
    "duration": 8,
    "start_time": "2022-02-02T10:06:34.781Z"
   },
   {
    "duration": 22,
    "start_time": "2022-02-02T10:06:34.791Z"
   },
   {
    "duration": 90,
    "start_time": "2022-02-02T10:06:34.815Z"
   },
   {
    "duration": 7,
    "start_time": "2022-02-02T10:06:34.908Z"
   },
   {
    "duration": 20,
    "start_time": "2022-02-02T10:06:34.917Z"
   },
   {
    "duration": 17,
    "start_time": "2022-02-02T10:06:34.939Z"
   },
   {
    "duration": 9,
    "start_time": "2022-02-02T10:06:34.957Z"
   },
   {
    "duration": 6,
    "start_time": "2022-02-02T10:06:34.968Z"
   },
   {
    "duration": 27,
    "start_time": "2022-02-02T10:06:34.975Z"
   },
   {
    "duration": 9,
    "start_time": "2022-02-02T10:06:35.004Z"
   },
   {
    "duration": 7,
    "start_time": "2022-02-02T10:06:35.014Z"
   },
   {
    "duration": 9,
    "start_time": "2022-02-02T10:06:35.023Z"
   },
   {
    "duration": 4,
    "start_time": "2022-02-02T10:06:35.033Z"
   },
   {
    "duration": 7,
    "start_time": "2022-02-02T10:06:35.038Z"
   },
   {
    "duration": 30,
    "start_time": "2022-02-02T10:06:35.046Z"
   },
   {
    "duration": 21,
    "start_time": "2022-02-02T10:06:35.078Z"
   },
   {
    "duration": 28,
    "start_time": "2022-02-02T10:06:35.100Z"
   },
   {
    "duration": 13,
    "start_time": "2022-02-02T10:06:35.130Z"
   },
   {
    "duration": 20,
    "start_time": "2022-02-02T10:06:35.145Z"
   },
   {
    "duration": 16,
    "start_time": "2022-02-02T10:06:35.166Z"
   },
   {
    "duration": 13,
    "start_time": "2022-02-02T10:06:35.183Z"
   },
   {
    "duration": 347,
    "start_time": "2022-02-02T10:07:02.205Z"
   },
   {
    "duration": 1160,
    "start_time": "2022-02-02T10:07:07.966Z"
   },
   {
    "duration": 138,
    "start_time": "2022-02-02T10:07:09.128Z"
   },
   {
    "duration": 10,
    "start_time": "2022-02-02T10:07:09.268Z"
   },
   {
    "duration": 19,
    "start_time": "2022-02-02T10:07:09.280Z"
   },
   {
    "duration": 118,
    "start_time": "2022-02-02T10:07:09.300Z"
   },
   {
    "duration": 10,
    "start_time": "2022-02-02T10:07:09.420Z"
   },
   {
    "duration": 16,
    "start_time": "2022-02-02T10:07:09.432Z"
   },
   {
    "duration": 87,
    "start_time": "2022-02-02T10:07:09.451Z"
   },
   {
    "duration": 6,
    "start_time": "2022-02-02T10:07:09.540Z"
   },
   {
    "duration": 15,
    "start_time": "2022-02-02T10:07:09.548Z"
   },
   {
    "duration": 16,
    "start_time": "2022-02-02T10:07:09.564Z"
   },
   {
    "duration": 9,
    "start_time": "2022-02-02T10:07:09.581Z"
   },
   {
    "duration": 7,
    "start_time": "2022-02-02T10:07:09.591Z"
   },
   {
    "duration": 38,
    "start_time": "2022-02-02T10:07:09.599Z"
   },
   {
    "duration": 9,
    "start_time": "2022-02-02T10:07:09.639Z"
   },
   {
    "duration": 12,
    "start_time": "2022-02-02T10:07:09.650Z"
   },
   {
    "duration": 15,
    "start_time": "2022-02-02T10:07:09.664Z"
   },
   {
    "duration": 5,
    "start_time": "2022-02-02T10:07:09.681Z"
   },
   {
    "duration": 5,
    "start_time": "2022-02-02T10:07:09.688Z"
   },
   {
    "duration": 37,
    "start_time": "2022-02-02T10:07:09.695Z"
   },
   {
    "duration": 22,
    "start_time": "2022-02-02T10:07:09.734Z"
   },
   {
    "duration": 18,
    "start_time": "2022-02-02T10:07:09.757Z"
   },
   {
    "duration": 14,
    "start_time": "2022-02-02T10:07:09.778Z"
   },
   {
    "duration": 43,
    "start_time": "2022-02-02T10:07:09.794Z"
   },
   {
    "duration": 15,
    "start_time": "2022-02-02T10:07:09.839Z"
   },
   {
    "duration": 13,
    "start_time": "2022-02-02T10:07:09.856Z"
   },
   {
    "duration": 535,
    "start_time": "2022-02-02T10:08:23.799Z"
   },
   {
    "duration": 1107,
    "start_time": "2022-02-02T10:08:31.115Z"
   },
   {
    "duration": 135,
    "start_time": "2022-02-02T10:08:32.224Z"
   },
   {
    "duration": 11,
    "start_time": "2022-02-02T10:08:32.361Z"
   },
   {
    "duration": 19,
    "start_time": "2022-02-02T10:08:32.375Z"
   },
   {
    "duration": 112,
    "start_time": "2022-02-02T10:08:32.396Z"
   },
   {
    "duration": 7,
    "start_time": "2022-02-02T10:08:32.510Z"
   },
   {
    "duration": 25,
    "start_time": "2022-02-02T10:08:32.527Z"
   },
   {
    "duration": 112,
    "start_time": "2022-02-02T10:08:32.555Z"
   },
   {
    "duration": 9,
    "start_time": "2022-02-02T10:08:32.670Z"
   },
   {
    "duration": 35,
    "start_time": "2022-02-02T10:08:32.680Z"
   },
   {
    "duration": 17,
    "start_time": "2022-02-02T10:08:32.717Z"
   },
   {
    "duration": 19,
    "start_time": "2022-02-02T10:08:32.736Z"
   },
   {
    "duration": 18,
    "start_time": "2022-02-02T10:08:32.757Z"
   },
   {
    "duration": 29,
    "start_time": "2022-02-02T10:08:32.777Z"
   },
   {
    "duration": 12,
    "start_time": "2022-02-02T10:08:32.808Z"
   },
   {
    "duration": 8,
    "start_time": "2022-02-02T10:08:32.822Z"
   },
   {
    "duration": 11,
    "start_time": "2022-02-02T10:08:32.832Z"
   },
   {
    "duration": 3,
    "start_time": "2022-02-02T10:08:32.845Z"
   },
   {
    "duration": 6,
    "start_time": "2022-02-02T10:08:32.850Z"
   },
   {
    "duration": 32,
    "start_time": "2022-02-02T10:08:32.857Z"
   },
   {
    "duration": 20,
    "start_time": "2022-02-02T10:08:32.891Z"
   },
   {
    "duration": 25,
    "start_time": "2022-02-02T10:08:32.912Z"
   },
   {
    "duration": 14,
    "start_time": "2022-02-02T10:08:32.939Z"
   },
   {
    "duration": 20,
    "start_time": "2022-02-02T10:08:32.954Z"
   },
   {
    "duration": 16,
    "start_time": "2022-02-02T10:08:32.976Z"
   },
   {
    "duration": 38,
    "start_time": "2022-02-02T10:08:32.993Z"
   },
   {
    "duration": 384,
    "start_time": "2022-02-02T10:08:33.033Z"
   },
   {
    "duration": -15,
    "start_time": "2022-02-02T10:08:33.434Z"
   },
   {
    "duration": -18,
    "start_time": "2022-02-02T10:08:33.438Z"
   },
   {
    "duration": 14,
    "start_time": "2022-02-02T10:15:56.623Z"
   },
   {
    "duration": 342,
    "start_time": "2022-02-02T10:16:09.482Z"
   },
   {
    "duration": 376,
    "start_time": "2022-02-02T10:16:16.821Z"
   },
   {
    "duration": 323,
    "start_time": "2022-02-02T10:19:23.439Z"
   },
   {
    "duration": 4769,
    "start_time": "2022-02-02T10:19:56.695Z"
   },
   {
    "duration": 29,
    "start_time": "2022-02-02T10:20:06.001Z"
   },
   {
    "duration": 484,
    "start_time": "2022-02-02T10:20:35.980Z"
   },
   {
    "duration": -32,
    "start_time": "2022-02-02T10:20:36.498Z"
   },
   {
    "duration": 490,
    "start_time": "2022-02-02T10:25:00.566Z"
   },
   {
    "duration": 1174,
    "start_time": "2022-02-02T10:25:06.153Z"
   },
   {
    "duration": 143,
    "start_time": "2022-02-02T10:25:07.329Z"
   },
   {
    "duration": 10,
    "start_time": "2022-02-02T10:25:07.475Z"
   },
   {
    "duration": 20,
    "start_time": "2022-02-02T10:25:07.487Z"
   },
   {
    "duration": 131,
    "start_time": "2022-02-02T10:25:07.509Z"
   },
   {
    "duration": 8,
    "start_time": "2022-02-02T10:25:07.642Z"
   },
   {
    "duration": 17,
    "start_time": "2022-02-02T10:25:07.651Z"
   },
   {
    "duration": 85,
    "start_time": "2022-02-02T10:25:07.670Z"
   },
   {
    "duration": 7,
    "start_time": "2022-02-02T10:25:07.757Z"
   },
   {
    "duration": 23,
    "start_time": "2022-02-02T10:25:07.766Z"
   },
   {
    "duration": 16,
    "start_time": "2022-02-02T10:25:07.791Z"
   },
   {
    "duration": 11,
    "start_time": "2022-02-02T10:25:07.808Z"
   },
   {
    "duration": 10,
    "start_time": "2022-02-02T10:25:07.827Z"
   },
   {
    "duration": 33,
    "start_time": "2022-02-02T10:25:07.838Z"
   },
   {
    "duration": 22,
    "start_time": "2022-02-02T10:25:07.873Z"
   },
   {
    "duration": 12,
    "start_time": "2022-02-02T10:25:07.897Z"
   },
   {
    "duration": 9,
    "start_time": "2022-02-02T10:25:07.911Z"
   },
   {
    "duration": 6,
    "start_time": "2022-02-02T10:25:07.922Z"
   },
   {
    "duration": 5,
    "start_time": "2022-02-02T10:25:07.930Z"
   },
   {
    "duration": 43,
    "start_time": "2022-02-02T10:25:07.937Z"
   },
   {
    "duration": 45,
    "start_time": "2022-02-02T10:25:07.982Z"
   },
   {
    "duration": 25,
    "start_time": "2022-02-02T10:25:08.029Z"
   },
   {
    "duration": 17,
    "start_time": "2022-02-02T10:25:08.058Z"
   },
   {
    "duration": 50,
    "start_time": "2022-02-02T10:25:08.077Z"
   },
   {
    "duration": 21,
    "start_time": "2022-02-02T10:25:08.129Z"
   },
   {
    "duration": 17,
    "start_time": "2022-02-02T10:25:08.152Z"
   },
   {
    "duration": 36,
    "start_time": "2022-02-02T10:25:08.171Z"
   },
   {
    "duration": 30,
    "start_time": "2022-02-02T10:25:08.209Z"
   },
   {
    "duration": 441,
    "start_time": "2022-02-02T10:25:08.241Z"
   },
   {
    "duration": 331,
    "start_time": "2022-02-02T10:27:40.160Z"
   },
   {
    "duration": 14,
    "start_time": "2022-02-02T10:27:56.726Z"
   },
   {
    "duration": 12,
    "start_time": "2022-02-02T10:28:02.197Z"
   },
   {
    "duration": -38,
    "start_time": "2022-02-02T10:29:19.458Z"
   },
   {
    "duration": -56,
    "start_time": "2022-02-02T10:29:19.477Z"
   },
   {
    "duration": 10153,
    "start_time": "2022-02-02T10:29:31.627Z"
   },
   {
    "duration": -106,
    "start_time": "2022-02-02T10:30:59.816Z"
   },
   {
    "duration": 100,
    "start_time": "2022-02-02T10:31:05.172Z"
   },
   {
    "duration": 149,
    "start_time": "2022-02-02T10:33:51.490Z"
   },
   {
    "duration": 9284,
    "start_time": "2022-02-02T10:34:04.997Z"
   },
   {
    "duration": 1114,
    "start_time": "2022-02-02T10:34:26.489Z"
   },
   {
    "duration": 143,
    "start_time": "2022-02-02T10:34:27.605Z"
   },
   {
    "duration": 10,
    "start_time": "2022-02-02T10:34:27.751Z"
   },
   {
    "duration": 21,
    "start_time": "2022-02-02T10:34:27.762Z"
   },
   {
    "duration": 111,
    "start_time": "2022-02-02T10:34:27.785Z"
   },
   {
    "duration": 8,
    "start_time": "2022-02-02T10:34:27.898Z"
   },
   {
    "duration": 28,
    "start_time": "2022-02-02T10:34:27.907Z"
   },
   {
    "duration": 82,
    "start_time": "2022-02-02T10:34:27.937Z"
   },
   {
    "duration": 7,
    "start_time": "2022-02-02T10:34:28.021Z"
   },
   {
    "duration": 14,
    "start_time": "2022-02-02T10:34:28.030Z"
   },
   {
    "duration": 16,
    "start_time": "2022-02-02T10:34:28.045Z"
   },
   {
    "duration": 9,
    "start_time": "2022-02-02T10:34:28.062Z"
   },
   {
    "duration": 6,
    "start_time": "2022-02-02T10:34:28.072Z"
   },
   {
    "duration": 35,
    "start_time": "2022-02-02T10:34:28.080Z"
   },
   {
    "duration": 20,
    "start_time": "2022-02-02T10:34:28.116Z"
   },
   {
    "duration": 8,
    "start_time": "2022-02-02T10:34:28.138Z"
   },
   {
    "duration": 7,
    "start_time": "2022-02-02T10:34:28.148Z"
   },
   {
    "duration": 4,
    "start_time": "2022-02-02T10:34:28.156Z"
   },
   {
    "duration": 5,
    "start_time": "2022-02-02T10:34:28.162Z"
   },
   {
    "duration": 29,
    "start_time": "2022-02-02T10:34:28.169Z"
   },
   {
    "duration": 38,
    "start_time": "2022-02-02T10:34:28.200Z"
   },
   {
    "duration": 18,
    "start_time": "2022-02-02T10:34:28.239Z"
   },
   {
    "duration": 14,
    "start_time": "2022-02-02T10:34:28.261Z"
   },
   {
    "duration": 21,
    "start_time": "2022-02-02T10:34:28.277Z"
   },
   {
    "duration": 36,
    "start_time": "2022-02-02T10:34:28.300Z"
   },
   {
    "duration": 14,
    "start_time": "2022-02-02T10:34:28.337Z"
   },
   {
    "duration": 27,
    "start_time": "2022-02-02T10:34:28.352Z"
   },
   {
    "duration": 10,
    "start_time": "2022-02-02T10:34:28.380Z"
   },
   {
    "duration": 36,
    "start_time": "2022-02-02T10:34:28.391Z"
   },
   {
    "duration": 9,
    "start_time": "2022-02-02T10:34:28.429Z"
   },
   {
    "duration": 359,
    "start_time": "2022-02-02T10:35:43.923Z"
   },
   {
    "duration": 10,
    "start_time": "2022-02-02T10:35:48.340Z"
   },
   {
    "duration": 8,
    "start_time": "2022-02-02T10:36:00.850Z"
   },
   {
    "duration": 9,
    "start_time": "2022-02-02T10:36:01.301Z"
   },
   {
    "duration": 372,
    "start_time": "2022-02-02T10:37:47.247Z"
   },
   {
    "duration": 320,
    "start_time": "2022-02-02T10:37:55.316Z"
   },
   {
    "duration": 5,
    "start_time": "2022-02-02T10:40:05.908Z"
   },
   {
    "duration": 8,
    "start_time": "2022-02-02T10:40:13.363Z"
   },
   {
    "duration": 4197,
    "start_time": "2022-02-02T10:40:25.120Z"
   },
   {
    "duration": 141,
    "start_time": "2022-02-02T10:40:29.319Z"
   },
   {
    "duration": 11,
    "start_time": "2022-02-02T10:40:29.462Z"
   },
   {
    "duration": 22,
    "start_time": "2022-02-02T10:40:29.475Z"
   },
   {
    "duration": 113,
    "start_time": "2022-02-02T10:40:29.499Z"
   },
   {
    "duration": 7,
    "start_time": "2022-02-02T10:40:29.614Z"
   },
   {
    "duration": 18,
    "start_time": "2022-02-02T10:40:29.623Z"
   },
   {
    "duration": 79,
    "start_time": "2022-02-02T10:40:29.643Z"
   },
   {
    "duration": 7,
    "start_time": "2022-02-02T10:40:29.729Z"
   },
   {
    "duration": 14,
    "start_time": "2022-02-02T10:40:29.738Z"
   },
   {
    "duration": 16,
    "start_time": "2022-02-02T10:40:29.754Z"
   },
   {
    "duration": 10,
    "start_time": "2022-02-02T10:40:29.772Z"
   },
   {
    "duration": 6,
    "start_time": "2022-02-02T10:40:29.783Z"
   },
   {
    "duration": 28,
    "start_time": "2022-02-02T10:40:29.791Z"
   },
   {
    "duration": 7,
    "start_time": "2022-02-02T10:40:29.821Z"
   },
   {
    "duration": 6,
    "start_time": "2022-02-02T10:40:29.830Z"
   },
   {
    "duration": 8,
    "start_time": "2022-02-02T10:40:29.838Z"
   },
   {
    "duration": 4,
    "start_time": "2022-02-02T10:40:29.848Z"
   },
   {
    "duration": 7,
    "start_time": "2022-02-02T10:40:29.853Z"
   },
   {
    "duration": 29,
    "start_time": "2022-02-02T10:40:29.862Z"
   },
   {
    "duration": 45,
    "start_time": "2022-02-02T10:40:29.892Z"
   },
   {
    "duration": 17,
    "start_time": "2022-02-02T10:40:29.938Z"
   },
   {
    "duration": 14,
    "start_time": "2022-02-02T10:40:29.956Z"
   },
   {
    "duration": 21,
    "start_time": "2022-02-02T10:40:29.972Z"
   },
   {
    "duration": 41,
    "start_time": "2022-02-02T10:40:29.994Z"
   },
   {
    "duration": 14,
    "start_time": "2022-02-02T10:40:30.036Z"
   },
   {
    "duration": 26,
    "start_time": "2022-02-02T10:40:30.053Z"
   },
   {
    "duration": 12,
    "start_time": "2022-02-02T10:40:30.081Z"
   },
   {
    "duration": 37,
    "start_time": "2022-02-02T10:40:30.095Z"
   },
   {
    "duration": 8,
    "start_time": "2022-02-02T10:40:30.134Z"
   },
   {
    "duration": 19,
    "start_time": "2022-02-02T10:40:30.144Z"
   },
   {
    "duration": 21,
    "start_time": "2022-02-02T10:40:30.164Z"
   },
   {
    "duration": 8,
    "start_time": "2022-02-02T10:40:30.187Z"
   },
   {
    "duration": 374,
    "start_time": "2022-02-02T10:48:05.449Z"
   },
   {
    "duration": 7,
    "start_time": "2022-02-02T10:48:45.229Z"
   },
   {
    "duration": 9,
    "start_time": "2022-02-02T10:48:47.337Z"
   },
   {
    "duration": 360,
    "start_time": "2022-02-02T10:48:55.430Z"
   },
   {
    "duration": 3,
    "start_time": "2022-02-02T10:49:09.637Z"
   },
   {
    "duration": 4,
    "start_time": "2022-02-02T10:49:11.629Z"
   },
   {
    "duration": 313,
    "start_time": "2022-02-02T10:49:28.549Z"
   },
   {
    "duration": 9,
    "start_time": "2022-02-02T10:50:52.972Z"
   },
   {
    "duration": 11,
    "start_time": "2022-02-02T10:50:58.266Z"
   },
   {
    "duration": 8,
    "start_time": "2022-02-02T10:53:03.885Z"
   },
   {
    "duration": 13,
    "start_time": "2022-02-02T10:53:04.866Z"
   },
   {
    "duration": 5,
    "start_time": "2022-02-02T10:56:05.718Z"
   },
   {
    "duration": 18,
    "start_time": "2022-02-02T10:56:06.632Z"
   },
   {
    "duration": 20,
    "start_time": "2022-02-02T10:56:23.551Z"
   },
   {
    "duration": 7,
    "start_time": "2022-02-02T10:57:46.352Z"
   },
   {
    "duration": 11,
    "start_time": "2022-02-02T10:57:47.103Z"
   },
   {
    "duration": 1397,
    "start_time": "2022-02-02T10:58:48.964Z"
   },
   {
    "duration": 201,
    "start_time": "2022-02-02T10:58:50.364Z"
   },
   {
    "duration": 14,
    "start_time": "2022-02-02T10:58:50.570Z"
   },
   {
    "duration": 52,
    "start_time": "2022-02-02T10:58:50.586Z"
   },
   {
    "duration": 167,
    "start_time": "2022-02-02T10:58:50.639Z"
   },
   {
    "duration": 17,
    "start_time": "2022-02-02T10:58:50.809Z"
   },
   {
    "duration": 26,
    "start_time": "2022-02-02T10:58:50.829Z"
   },
   {
    "duration": 117,
    "start_time": "2022-02-02T10:58:50.857Z"
   },
   {
    "duration": 9,
    "start_time": "2022-02-02T10:58:50.975Z"
   },
   {
    "duration": 26,
    "start_time": "2022-02-02T10:58:50.986Z"
   },
   {
    "duration": 28,
    "start_time": "2022-02-02T10:58:51.015Z"
   },
   {
    "duration": 13,
    "start_time": "2022-02-02T10:58:51.045Z"
   },
   {
    "duration": 10,
    "start_time": "2022-02-02T10:58:51.060Z"
   },
   {
    "duration": 42,
    "start_time": "2022-02-02T10:58:51.071Z"
   },
   {
    "duration": 10,
    "start_time": "2022-02-02T10:58:51.114Z"
   },
   {
    "duration": 7,
    "start_time": "2022-02-02T10:58:51.126Z"
   },
   {
    "duration": 8,
    "start_time": "2022-02-02T10:58:51.135Z"
   },
   {
    "duration": 7,
    "start_time": "2022-02-02T10:58:51.145Z"
   },
   {
    "duration": 5,
    "start_time": "2022-02-02T10:58:51.154Z"
   },
   {
    "duration": 31,
    "start_time": "2022-02-02T10:58:51.160Z"
   },
   {
    "duration": 41,
    "start_time": "2022-02-02T10:58:51.192Z"
   },
   {
    "duration": 25,
    "start_time": "2022-02-02T10:58:51.238Z"
   },
   {
    "duration": 17,
    "start_time": "2022-02-02T10:58:51.265Z"
   },
   {
    "duration": 47,
    "start_time": "2022-02-02T10:58:51.284Z"
   },
   {
    "duration": 20,
    "start_time": "2022-02-02T10:58:51.333Z"
   },
   {
    "duration": 17,
    "start_time": "2022-02-02T10:58:51.354Z"
   },
   {
    "duration": 442,
    "start_time": "2022-02-02T10:58:51.373Z"
   },
   {
    "duration": -65,
    "start_time": "2022-02-02T10:58:51.882Z"
   },
   {
    "duration": -69,
    "start_time": "2022-02-02T10:58:51.887Z"
   },
   {
    "duration": -83,
    "start_time": "2022-02-02T10:58:51.902Z"
   },
   {
    "duration": -99,
    "start_time": "2022-02-02T10:58:51.919Z"
   },
   {
    "duration": -108,
    "start_time": "2022-02-02T10:58:51.929Z"
   },
   {
    "duration": -110,
    "start_time": "2022-02-02T10:58:51.932Z"
   },
   {
    "duration": -111,
    "start_time": "2022-02-02T10:58:51.935Z"
   },
   {
    "duration": -120,
    "start_time": "2022-02-02T10:58:51.945Z"
   },
   {
    "duration": 22,
    "start_time": "2022-02-02T10:58:57.231Z"
   },
   {
    "duration": 12,
    "start_time": "2022-02-02T10:58:59.130Z"
   },
   {
    "duration": 92,
    "start_time": "2022-02-02T10:59:11.161Z"
   },
   {
    "duration": 16,
    "start_time": "2022-02-02T10:59:11.542Z"
   },
   {
    "duration": 115,
    "start_time": "2022-02-02T10:59:45.812Z"
   },
   {
    "duration": 10,
    "start_time": "2022-02-02T10:59:47.665Z"
   },
   {
    "duration": 12,
    "start_time": "2022-02-02T11:00:31.231Z"
   },
   {
    "duration": 10,
    "start_time": "2022-02-02T11:00:32.947Z"
   },
   {
    "duration": 16,
    "start_time": "2022-02-02T11:00:39.413Z"
   },
   {
    "duration": 391,
    "start_time": "2022-02-02T11:00:40.764Z"
   },
   {
    "duration": 14,
    "start_time": "2022-02-02T11:00:45.908Z"
   },
   {
    "duration": 9,
    "start_time": "2022-02-02T11:00:48.209Z"
   },
   {
    "duration": 7,
    "start_time": "2022-02-02T11:00:54.180Z"
   },
   {
    "duration": 12,
    "start_time": "2022-02-02T11:00:55.808Z"
   },
   {
    "duration": 9,
    "start_time": "2022-02-02T11:02:26.981Z"
   },
   {
    "duration": 11,
    "start_time": "2022-02-02T11:02:30.468Z"
   },
   {
    "duration": 7,
    "start_time": "2022-02-02T11:03:05.209Z"
   },
   {
    "duration": 8,
    "start_time": "2022-02-02T11:03:24.763Z"
   },
   {
    "duration": 9,
    "start_time": "2022-02-02T11:04:30.280Z"
   },
   {
    "duration": 14,
    "start_time": "2022-02-02T11:04:35.127Z"
   },
   {
    "duration": 7,
    "start_time": "2022-02-02T11:04:46.871Z"
   },
   {
    "duration": 5,
    "start_time": "2022-02-02T11:05:41.322Z"
   },
   {
    "duration": 8,
    "start_time": "2022-02-02T11:06:06.552Z"
   },
   {
    "duration": 7,
    "start_time": "2022-02-02T11:06:19.350Z"
   },
   {
    "duration": 14,
    "start_time": "2022-02-02T11:07:10.055Z"
   },
   {
    "duration": 11,
    "start_time": "2022-02-02T11:07:10.932Z"
   },
   {
    "duration": 11,
    "start_time": "2022-02-02T11:07:26.772Z"
   },
   {
    "duration": 99,
    "start_time": "2022-02-02T11:08:52.094Z"
   },
   {
    "duration": 18,
    "start_time": "2022-02-02T11:09:05.581Z"
   },
   {
    "duration": 15,
    "start_time": "2022-02-02T11:09:06.455Z"
   },
   {
    "duration": 14,
    "start_time": "2022-02-02T11:10:06.824Z"
   },
   {
    "duration": 18,
    "start_time": "2022-02-02T11:10:57.386Z"
   },
   {
    "duration": 14,
    "start_time": "2022-02-02T11:10:57.966Z"
   },
   {
    "duration": 5,
    "start_time": "2022-02-02T11:13:38.913Z"
   },
   {
    "duration": 15,
    "start_time": "2022-02-02T11:13:40.845Z"
   },
   {
    "duration": 349,
    "start_time": "2022-02-02T11:14:20.003Z"
   },
   {
    "duration": 15,
    "start_time": "2022-02-02T11:14:20.510Z"
   },
   {
    "duration": 13,
    "start_time": "2022-02-02T11:15:16.404Z"
   },
   {
    "duration": 11,
    "start_time": "2022-02-02T11:15:16.922Z"
   },
   {
    "duration": 7,
    "start_time": "2022-02-02T11:15:27.273Z"
   },
   {
    "duration": 307,
    "start_time": "2022-02-02T11:16:42.376Z"
   },
   {
    "duration": 282,
    "start_time": "2022-02-02T11:16:47.520Z"
   },
   {
    "duration": 6,
    "start_time": "2022-02-02T11:17:10.186Z"
   },
   {
    "duration": 298,
    "start_time": "2022-02-02T11:17:40.696Z"
   },
   {
    "duration": 9659,
    "start_time": "2022-02-02T11:18:05.058Z"
   },
   {
    "duration": -148,
    "start_time": "2022-02-02T11:18:14.867Z"
   },
   {
    "duration": 1039,
    "start_time": "2022-02-02T11:18:18.379Z"
   },
   {
    "duration": 134,
    "start_time": "2022-02-02T11:18:19.420Z"
   },
   {
    "duration": 9,
    "start_time": "2022-02-02T11:18:19.556Z"
   },
   {
    "duration": 20,
    "start_time": "2022-02-02T11:18:19.567Z"
   },
   {
    "duration": 111,
    "start_time": "2022-02-02T11:18:19.588Z"
   },
   {
    "duration": 8,
    "start_time": "2022-02-02T11:18:19.701Z"
   },
   {
    "duration": 27,
    "start_time": "2022-02-02T11:18:19.711Z"
   },
   {
    "duration": 93,
    "start_time": "2022-02-02T11:18:19.741Z"
   },
   {
    "duration": 9,
    "start_time": "2022-02-02T11:18:19.836Z"
   },
   {
    "duration": 21,
    "start_time": "2022-02-02T11:18:19.850Z"
   },
   {
    "duration": 18,
    "start_time": "2022-02-02T11:18:19.872Z"
   },
   {
    "duration": 12,
    "start_time": "2022-02-02T11:18:19.891Z"
   },
   {
    "duration": 7,
    "start_time": "2022-02-02T11:18:19.904Z"
   },
   {
    "duration": 27,
    "start_time": "2022-02-02T11:18:19.913Z"
   },
   {
    "duration": 8,
    "start_time": "2022-02-02T11:18:19.942Z"
   },
   {
    "duration": 7,
    "start_time": "2022-02-02T11:18:19.951Z"
   },
   {
    "duration": 6,
    "start_time": "2022-02-02T11:18:19.959Z"
   },
   {
    "duration": 3,
    "start_time": "2022-02-02T11:18:19.967Z"
   },
   {
    "duration": 5,
    "start_time": "2022-02-02T11:18:19.971Z"
   },
   {
    "duration": 28,
    "start_time": "2022-02-02T11:18:19.978Z"
   },
   {
    "duration": 29,
    "start_time": "2022-02-02T11:18:20.007Z"
   },
   {
    "duration": 16,
    "start_time": "2022-02-02T11:18:20.038Z"
   },
   {
    "duration": 13,
    "start_time": "2022-02-02T11:18:20.058Z"
   },
   {
    "duration": 21,
    "start_time": "2022-02-02T11:18:20.073Z"
   },
   {
    "duration": 40,
    "start_time": "2022-02-02T11:18:20.095Z"
   },
   {
    "duration": 12,
    "start_time": "2022-02-02T11:18:20.137Z"
   },
   {
    "duration": 26,
    "start_time": "2022-02-02T11:18:20.151Z"
   },
   {
    "duration": 6,
    "start_time": "2022-02-02T11:18:20.178Z"
   },
   {
    "duration": 15,
    "start_time": "2022-02-02T11:18:20.186Z"
   },
   {
    "duration": 29,
    "start_time": "2022-02-02T11:18:20.202Z"
   },
   {
    "duration": 16,
    "start_time": "2022-02-02T11:18:20.233Z"
   },
   {
    "duration": 15,
    "start_time": "2022-02-02T11:18:20.251Z"
   },
   {
    "duration": 5,
    "start_time": "2022-02-02T11:18:20.268Z"
   },
   {
    "duration": 15,
    "start_time": "2022-02-02T11:18:20.274Z"
   },
   {
    "duration": 6,
    "start_time": "2022-02-02T11:18:20.291Z"
   },
   {
    "duration": 408,
    "start_time": "2022-02-02T11:18:20.299Z"
   },
   {
    "duration": -1,
    "start_time": "2022-02-02T11:18:20.710Z"
   },
   {
    "duration": -4,
    "start_time": "2022-02-02T11:18:20.714Z"
   },
   {
    "duration": 9,
    "start_time": "2022-02-02T11:18:37.637Z"
   },
   {
    "duration": 2417,
    "start_time": "2022-02-02T11:20:03.064Z"
   },
   {
    "duration": -58,
    "start_time": "2022-02-02T11:20:05.540Z"
   },
   {
    "duration": 4715,
    "start_time": "2022-02-02T11:20:12.798Z"
   },
   {
    "duration": 1434,
    "start_time": "2022-02-02T11:20:33.848Z"
   },
   {
    "duration": 2,
    "start_time": "2022-02-02T11:20:50.530Z"
   },
   {
    "duration": 6,
    "start_time": "2022-02-02T11:20:52.151Z"
   },
   {
    "duration": 3,
    "start_time": "2022-02-02T11:21:25.854Z"
   },
   {
    "duration": 6,
    "start_time": "2022-02-02T11:21:26.688Z"
   },
   {
    "duration": 8,
    "start_time": "2022-02-02T11:21:29.493Z"
   },
   {
    "duration": 11,
    "start_time": "2022-02-02T11:21:30.035Z"
   },
   {
    "duration": 4,
    "start_time": "2022-02-02T11:21:32.298Z"
   },
   {
    "duration": 7,
    "start_time": "2022-02-02T11:21:32.755Z"
   },
   {
    "duration": 6,
    "start_time": "2022-02-02T11:21:33.430Z"
   },
   {
    "duration": 13,
    "start_time": "2022-02-02T11:21:34.428Z"
   },
   {
    "duration": 6,
    "start_time": "2022-02-02T11:21:45.783Z"
   },
   {
    "duration": 11,
    "start_time": "2022-02-02T11:22:31.062Z"
   },
   {
    "duration": 5,
    "start_time": "2022-02-02T11:23:05.571Z"
   },
   {
    "duration": 7,
    "start_time": "2022-02-02T11:23:06.019Z"
   },
   {
    "duration": 5,
    "start_time": "2022-02-02T11:23:06.514Z"
   },
   {
    "duration": 11,
    "start_time": "2022-02-02T11:23:07.107Z"
   },
   {
    "duration": 7,
    "start_time": "2022-02-02T11:23:07.637Z"
   },
   {
    "duration": 10,
    "start_time": "2022-02-02T11:23:08.270Z"
   },
   {
    "duration": 6,
    "start_time": "2022-02-02T11:23:31.701Z"
   },
   {
    "duration": 9,
    "start_time": "2022-02-02T11:23:39.087Z"
   },
   {
    "duration": 1311,
    "start_time": "2022-02-02T11:23:56.917Z"
   },
   {
    "duration": 142,
    "start_time": "2022-02-02T11:23:58.230Z"
   },
   {
    "duration": 10,
    "start_time": "2022-02-02T11:23:58.374Z"
   },
   {
    "duration": 27,
    "start_time": "2022-02-02T11:23:58.386Z"
   },
   {
    "duration": 130,
    "start_time": "2022-02-02T11:23:58.415Z"
   },
   {
    "duration": 9,
    "start_time": "2022-02-02T11:23:58.546Z"
   },
   {
    "duration": 18,
    "start_time": "2022-02-02T11:23:58.557Z"
   },
   {
    "duration": 93,
    "start_time": "2022-02-02T11:23:58.578Z"
   },
   {
    "duration": 7,
    "start_time": "2022-02-02T11:23:58.673Z"
   },
   {
    "duration": 14,
    "start_time": "2022-02-02T11:23:58.682Z"
   },
   {
    "duration": 16,
    "start_time": "2022-02-02T11:23:58.698Z"
   },
   {
    "duration": 17,
    "start_time": "2022-02-02T11:23:58.715Z"
   },
   {
    "duration": 7,
    "start_time": "2022-02-02T11:23:58.734Z"
   },
   {
    "duration": 28,
    "start_time": "2022-02-02T11:23:58.742Z"
   },
   {
    "duration": 8,
    "start_time": "2022-02-02T11:23:58.771Z"
   },
   {
    "duration": 7,
    "start_time": "2022-02-02T11:23:58.781Z"
   },
   {
    "duration": 6,
    "start_time": "2022-02-02T11:23:58.789Z"
   },
   {
    "duration": 3,
    "start_time": "2022-02-02T11:23:58.797Z"
   },
   {
    "duration": 5,
    "start_time": "2022-02-02T11:23:58.802Z"
   },
   {
    "duration": 38,
    "start_time": "2022-02-02T11:23:58.808Z"
   },
   {
    "duration": 21,
    "start_time": "2022-02-02T11:23:58.847Z"
   },
   {
    "duration": 17,
    "start_time": "2022-02-02T11:23:58.869Z"
   },
   {
    "duration": 13,
    "start_time": "2022-02-02T11:23:58.888Z"
   },
   {
    "duration": 37,
    "start_time": "2022-02-02T11:23:58.903Z"
   },
   {
    "duration": 16,
    "start_time": "2022-02-02T11:23:58.941Z"
   },
   {
    "duration": 14,
    "start_time": "2022-02-02T11:23:58.959Z"
   },
   {
    "duration": 26,
    "start_time": "2022-02-02T11:23:58.975Z"
   },
   {
    "duration": 3,
    "start_time": "2022-02-02T11:23:59.002Z"
   },
   {
    "duration": 5,
    "start_time": "2022-02-02T11:23:59.027Z"
   },
   {
    "duration": 15,
    "start_time": "2022-02-02T11:23:59.034Z"
   },
   {
    "duration": 8,
    "start_time": "2022-02-02T11:23:59.051Z"
   },
   {
    "duration": 14,
    "start_time": "2022-02-02T11:23:59.061Z"
   },
   {
    "duration": 18,
    "start_time": "2022-02-02T11:23:59.077Z"
   },
   {
    "duration": 31,
    "start_time": "2022-02-02T11:23:59.097Z"
   },
   {
    "duration": 11,
    "start_time": "2022-02-02T11:23:59.130Z"
   },
   {
    "duration": 7,
    "start_time": "2022-02-02T11:23:59.143Z"
   },
   {
    "duration": 10,
    "start_time": "2022-02-02T11:23:59.152Z"
   },
   {
    "duration": 3,
    "start_time": "2022-02-02T11:23:59.164Z"
   },
   {
    "duration": 12,
    "start_time": "2022-02-02T11:23:59.169Z"
   },
   {
    "duration": 377,
    "start_time": "2022-02-02T11:25:18.086Z"
   },
   {
    "duration": 326,
    "start_time": "2022-02-02T11:26:08.216Z"
   },
   {
    "duration": 304,
    "start_time": "2022-02-02T11:26:29.006Z"
   },
   {
    "duration": 346,
    "start_time": "2022-02-02T11:26:45.211Z"
   },
   {
    "duration": 7,
    "start_time": "2022-02-02T11:26:54.221Z"
   },
   {
    "duration": 8,
    "start_time": "2022-02-02T11:27:03.663Z"
   },
   {
    "duration": 30,
    "start_time": "2022-02-02T11:27:06.318Z"
   },
   {
    "duration": 313,
    "start_time": "2022-02-02T11:28:07.836Z"
   },
   {
    "duration": 13,
    "start_time": "2022-02-02T11:28:24.904Z"
   },
   {
    "duration": 7,
    "start_time": "2022-02-02T11:28:25.773Z"
   },
   {
    "duration": 310,
    "start_time": "2022-02-02T11:28:29.285Z"
   },
   {
    "duration": 8,
    "start_time": "2022-02-02T11:29:04.643Z"
   },
   {
    "duration": 18,
    "start_time": "2022-02-02T11:29:06.952Z"
   },
   {
    "duration": 11,
    "start_time": "2022-02-02T11:29:21.132Z"
   },
   {
    "duration": 6,
    "start_time": "2022-02-02T11:29:21.611Z"
   },
   {
    "duration": 6,
    "start_time": "2022-02-02T11:29:22.480Z"
   },
   {
    "duration": 18,
    "start_time": "2022-02-02T11:29:24.920Z"
   },
   {
    "duration": 289,
    "start_time": "2022-02-02T11:29:49.251Z"
   },
   {
    "duration": 10,
    "start_time": "2022-02-02T11:30:20.151Z"
   },
   {
    "duration": 29,
    "start_time": "2022-02-02T11:30:23.461Z"
   },
   {
    "duration": 31,
    "start_time": "2022-02-02T11:30:40.767Z"
   },
   {
    "duration": 1132,
    "start_time": "2022-02-02T11:30:50.215Z"
   },
   {
    "duration": 139,
    "start_time": "2022-02-02T11:30:51.350Z"
   },
   {
    "duration": 9,
    "start_time": "2022-02-02T11:30:51.491Z"
   },
   {
    "duration": 28,
    "start_time": "2022-02-02T11:30:51.502Z"
   },
   {
    "duration": 117,
    "start_time": "2022-02-02T11:30:51.532Z"
   },
   {
    "duration": 8,
    "start_time": "2022-02-02T11:30:51.651Z"
   },
   {
    "duration": 17,
    "start_time": "2022-02-02T11:30:51.660Z"
   },
   {
    "duration": 84,
    "start_time": "2022-02-02T11:30:51.680Z"
   },
   {
    "duration": 7,
    "start_time": "2022-02-02T11:30:51.766Z"
   },
   {
    "duration": 14,
    "start_time": "2022-02-02T11:30:51.775Z"
   },
   {
    "duration": 16,
    "start_time": "2022-02-02T11:30:51.791Z"
   },
   {
    "duration": 18,
    "start_time": "2022-02-02T11:30:51.809Z"
   },
   {
    "duration": 7,
    "start_time": "2022-02-02T11:30:51.828Z"
   },
   {
    "duration": 30,
    "start_time": "2022-02-02T11:30:51.837Z"
   },
   {
    "duration": 9,
    "start_time": "2022-02-02T11:30:51.868Z"
   },
   {
    "duration": 7,
    "start_time": "2022-02-02T11:30:51.879Z"
   },
   {
    "duration": 12,
    "start_time": "2022-02-02T11:30:51.888Z"
   },
   {
    "duration": 5,
    "start_time": "2022-02-02T11:30:51.902Z"
   },
   {
    "duration": 7,
    "start_time": "2022-02-02T11:30:51.909Z"
   },
   {
    "duration": 41,
    "start_time": "2022-02-02T11:30:51.917Z"
   },
   {
    "duration": 25,
    "start_time": "2022-02-02T11:30:51.960Z"
   },
   {
    "duration": 16,
    "start_time": "2022-02-02T11:30:51.987Z"
   },
   {
    "duration": 29,
    "start_time": "2022-02-02T11:30:52.006Z"
   },
   {
    "duration": 21,
    "start_time": "2022-02-02T11:30:52.037Z"
   },
   {
    "duration": 16,
    "start_time": "2022-02-02T11:30:52.059Z"
   },
   {
    "duration": 14,
    "start_time": "2022-02-02T11:30:52.076Z"
   },
   {
    "duration": 51,
    "start_time": "2022-02-02T11:30:52.091Z"
   },
   {
    "duration": 3,
    "start_time": "2022-02-02T11:30:52.143Z"
   },
   {
    "duration": 8,
    "start_time": "2022-02-02T11:30:52.147Z"
   },
   {
    "duration": 12,
    "start_time": "2022-02-02T11:30:52.156Z"
   },
   {
    "duration": 9,
    "start_time": "2022-02-02T11:30:52.170Z"
   },
   {
    "duration": 16,
    "start_time": "2022-02-02T11:30:52.180Z"
   },
   {
    "duration": 17,
    "start_time": "2022-02-02T11:30:52.227Z"
   },
   {
    "duration": 6,
    "start_time": "2022-02-02T11:30:52.246Z"
   },
   {
    "duration": 14,
    "start_time": "2022-02-02T11:30:52.254Z"
   },
   {
    "duration": 6,
    "start_time": "2022-02-02T11:30:52.270Z"
   },
   {
    "duration": 7,
    "start_time": "2022-02-02T11:30:52.278Z"
   },
   {
    "duration": 2,
    "start_time": "2022-02-02T11:30:52.287Z"
   },
   {
    "duration": 53,
    "start_time": "2022-02-02T11:30:52.291Z"
   },
   {
    "duration": 19,
    "start_time": "2022-02-02T11:31:51.389Z"
   },
   {
    "duration": 8,
    "start_time": "2022-02-02T11:32:28.238Z"
   },
   {
    "duration": 19,
    "start_time": "2022-02-02T11:33:13.886Z"
   },
   {
    "duration": 6,
    "start_time": "2022-02-02T11:33:35.887Z"
   },
   {
    "duration": 7,
    "start_time": "2022-02-02T11:33:36.752Z"
   },
   {
    "duration": 13,
    "start_time": "2022-02-02T11:33:37.487Z"
   },
   {
    "duration": 12,
    "start_time": "2022-02-02T11:33:38.666Z"
   },
   {
    "duration": 11,
    "start_time": "2022-02-02T11:34:13.967Z"
   },
   {
    "duration": 12,
    "start_time": "2022-02-02T11:34:14.634Z"
   },
   {
    "duration": 8,
    "start_time": "2022-02-02T11:34:55.675Z"
   },
   {
    "duration": 12,
    "start_time": "2022-02-02T11:35:31.400Z"
   },
   {
    "duration": 9,
    "start_time": "2022-02-02T11:36:32.944Z"
   },
   {
    "duration": 11,
    "start_time": "2022-02-02T11:36:34.362Z"
   },
   {
    "duration": 11,
    "start_time": "2022-02-02T11:37:18.835Z"
   },
   {
    "duration": 12,
    "start_time": "2022-02-02T11:37:19.940Z"
   },
   {
    "duration": 1073,
    "start_time": "2022-02-02T11:37:41.752Z"
   },
   {
    "duration": 138,
    "start_time": "2022-02-02T11:37:42.827Z"
   },
   {
    "duration": 10,
    "start_time": "2022-02-02T11:37:42.967Z"
   },
   {
    "duration": 21,
    "start_time": "2022-02-02T11:37:42.979Z"
   },
   {
    "duration": 128,
    "start_time": "2022-02-02T11:37:43.001Z"
   },
   {
    "duration": 7,
    "start_time": "2022-02-02T11:37:43.131Z"
   },
   {
    "duration": 17,
    "start_time": "2022-02-02T11:37:43.139Z"
   },
   {
    "duration": 87,
    "start_time": "2022-02-02T11:37:43.159Z"
   },
   {
    "duration": 6,
    "start_time": "2022-02-02T11:37:43.248Z"
   },
   {
    "duration": 15,
    "start_time": "2022-02-02T11:37:43.256Z"
   },
   {
    "duration": 16,
    "start_time": "2022-02-02T11:37:43.272Z"
   },
   {
    "duration": 8,
    "start_time": "2022-02-02T11:37:43.290Z"
   },
   {
    "duration": 7,
    "start_time": "2022-02-02T11:37:43.300Z"
   },
   {
    "duration": 29,
    "start_time": "2022-02-02T11:37:43.309Z"
   },
   {
    "duration": 8,
    "start_time": "2022-02-02T11:37:43.340Z"
   },
   {
    "duration": 9,
    "start_time": "2022-02-02T11:37:43.349Z"
   },
   {
    "duration": 8,
    "start_time": "2022-02-02T11:37:43.359Z"
   },
   {
    "duration": 6,
    "start_time": "2022-02-02T11:37:43.369Z"
   },
   {
    "duration": 5,
    "start_time": "2022-02-02T11:37:43.377Z"
   },
   {
    "duration": 28,
    "start_time": "2022-02-02T11:37:43.384Z"
   },
   {
    "duration": 28,
    "start_time": "2022-02-02T11:37:43.414Z"
   },
   {
    "duration": 15,
    "start_time": "2022-02-02T11:37:43.443Z"
   },
   {
    "duration": 13,
    "start_time": "2022-02-02T11:37:43.461Z"
   },
   {
    "duration": 20,
    "start_time": "2022-02-02T11:37:43.475Z"
   },
   {
    "duration": 36,
    "start_time": "2022-02-02T11:37:43.496Z"
   },
   {
    "duration": 14,
    "start_time": "2022-02-02T11:37:43.534Z"
   },
   {
    "duration": 28,
    "start_time": "2022-02-02T11:37:43.549Z"
   },
   {
    "duration": 2,
    "start_time": "2022-02-02T11:37:43.578Z"
   },
   {
    "duration": 11,
    "start_time": "2022-02-02T11:37:43.581Z"
   },
   {
    "duration": 33,
    "start_time": "2022-02-02T11:37:43.594Z"
   },
   {
    "duration": 8,
    "start_time": "2022-02-02T11:37:43.628Z"
   },
   {
    "duration": 17,
    "start_time": "2022-02-02T11:37:43.637Z"
   },
   {
    "duration": 19,
    "start_time": "2022-02-02T11:37:43.655Z"
   },
   {
    "duration": 6,
    "start_time": "2022-02-02T11:37:43.675Z"
   },
   {
    "duration": 12,
    "start_time": "2022-02-02T11:37:43.682Z"
   },
   {
    "duration": 35,
    "start_time": "2022-02-02T11:37:43.695Z"
   },
   {
    "duration": 7,
    "start_time": "2022-02-02T11:37:43.732Z"
   },
   {
    "duration": 18,
    "start_time": "2022-02-02T11:37:43.740Z"
   },
   {
    "duration": 10,
    "start_time": "2022-02-02T11:38:53.880Z"
   },
   {
    "duration": 9,
    "start_time": "2022-02-02T11:39:06.540Z"
   },
   {
    "duration": 9,
    "start_time": "2022-02-02T11:40:26.872Z"
   },
   {
    "duration": 11,
    "start_time": "2022-02-02T11:40:30.428Z"
   },
   {
    "duration": 9,
    "start_time": "2022-02-02T11:40:39.342Z"
   },
   {
    "duration": 11,
    "start_time": "2022-02-02T11:40:41.813Z"
   },
   {
    "duration": 8,
    "start_time": "2022-02-02T11:41:12.246Z"
   },
   {
    "duration": 19,
    "start_time": "2022-02-02T11:41:15.878Z"
   },
   {
    "duration": 18,
    "start_time": "2022-02-02T11:41:38.603Z"
   },
   {
    "duration": 5,
    "start_time": "2022-02-02T11:43:14.820Z"
   },
   {
    "duration": 13,
    "start_time": "2022-02-02T11:43:17.400Z"
   },
   {
    "duration": 1444,
    "start_time": "2022-02-02T11:44:42.802Z"
   },
   {
    "duration": 3,
    "start_time": "2022-02-02T11:45:14.585Z"
   },
   {
    "duration": 11,
    "start_time": "2022-02-02T11:45:18.166Z"
   },
   {
    "duration": 9,
    "start_time": "2022-02-02T11:46:50.861Z"
   },
   {
    "duration": 13,
    "start_time": "2022-02-02T11:46:54.364Z"
   },
   {
    "duration": 3,
    "start_time": "2022-02-02T11:47:17.660Z"
   },
   {
    "duration": 13,
    "start_time": "2022-02-02T11:47:21.790Z"
   },
   {
    "duration": 2,
    "start_time": "2022-02-02T11:48:32.494Z"
   },
   {
    "duration": 316,
    "start_time": "2022-02-02T11:48:54.106Z"
   },
   {
    "duration": 296,
    "start_time": "2022-02-02T11:53:32.771Z"
   },
   {
    "duration": 1164,
    "start_time": "2022-02-02T11:53:52.307Z"
   },
   {
    "duration": 163,
    "start_time": "2022-02-02T11:53:53.473Z"
   },
   {
    "duration": 14,
    "start_time": "2022-02-02T11:53:53.639Z"
   },
   {
    "duration": 20,
    "start_time": "2022-02-02T11:53:53.656Z"
   },
   {
    "duration": 129,
    "start_time": "2022-02-02T11:53:53.677Z"
   },
   {
    "duration": 10,
    "start_time": "2022-02-02T11:53:53.807Z"
   },
   {
    "duration": 32,
    "start_time": "2022-02-02T11:53:53.819Z"
   },
   {
    "duration": 90,
    "start_time": "2022-02-02T11:53:53.853Z"
   },
   {
    "duration": 8,
    "start_time": "2022-02-02T11:53:53.945Z"
   },
   {
    "duration": 16,
    "start_time": "2022-02-02T11:53:53.955Z"
   },
   {
    "duration": 19,
    "start_time": "2022-02-02T11:53:53.973Z"
   },
   {
    "duration": 10,
    "start_time": "2022-02-02T11:53:53.993Z"
   },
   {
    "duration": 6,
    "start_time": "2022-02-02T11:53:54.004Z"
   },
   {
    "duration": 28,
    "start_time": "2022-02-02T11:53:54.011Z"
   },
   {
    "duration": 10,
    "start_time": "2022-02-02T11:53:54.040Z"
   },
   {
    "duration": 8,
    "start_time": "2022-02-02T11:53:54.051Z"
   },
   {
    "duration": 8,
    "start_time": "2022-02-02T11:53:54.061Z"
   },
   {
    "duration": 10,
    "start_time": "2022-02-02T11:53:54.071Z"
   },
   {
    "duration": 6,
    "start_time": "2022-02-02T11:53:54.083Z"
   },
   {
    "duration": 47,
    "start_time": "2022-02-02T11:53:54.091Z"
   },
   {
    "duration": 25,
    "start_time": "2022-02-02T11:53:54.140Z"
   },
   {
    "duration": 24,
    "start_time": "2022-02-02T11:53:54.167Z"
   },
   {
    "duration": 15,
    "start_time": "2022-02-02T11:53:54.195Z"
   },
   {
    "duration": 45,
    "start_time": "2022-02-02T11:53:54.213Z"
   },
   {
    "duration": 20,
    "start_time": "2022-02-02T11:53:54.260Z"
   },
   {
    "duration": 17,
    "start_time": "2022-02-02T11:53:54.281Z"
   },
   {
    "duration": 57,
    "start_time": "2022-02-02T11:53:54.300Z"
   },
   {
    "duration": 3,
    "start_time": "2022-02-02T11:53:54.360Z"
   },
   {
    "duration": 12,
    "start_time": "2022-02-02T11:53:54.365Z"
   },
   {
    "duration": 15,
    "start_time": "2022-02-02T11:53:54.378Z"
   },
   {
    "duration": 9,
    "start_time": "2022-02-02T11:53:54.395Z"
   },
   {
    "duration": 43,
    "start_time": "2022-02-02T11:53:54.405Z"
   },
   {
    "duration": 20,
    "start_time": "2022-02-02T11:53:54.450Z"
   },
   {
    "duration": 8,
    "start_time": "2022-02-02T11:53:54.471Z"
   },
   {
    "duration": 14,
    "start_time": "2022-02-02T11:53:54.481Z"
   },
   {
    "duration": 48,
    "start_time": "2022-02-02T11:53:54.497Z"
   },
   {
    "duration": 13,
    "start_time": "2022-02-02T11:53:54.547Z"
   },
   {
    "duration": 26,
    "start_time": "2022-02-02T11:53:54.562Z"
   },
   {
    "duration": 5,
    "start_time": "2022-02-02T11:53:54.590Z"
   },
   {
    "duration": 34,
    "start_time": "2022-02-02T11:53:54.597Z"
   },
   {
    "duration": 3,
    "start_time": "2022-02-02T11:53:54.633Z"
   },
   {
    "duration": 16,
    "start_time": "2022-02-02T11:53:54.638Z"
   },
   {
    "duration": 8,
    "start_time": "2022-02-02T11:53:54.655Z"
   },
   {
    "duration": 19,
    "start_time": "2022-02-02T11:53:54.665Z"
   },
   {
    "duration": 389,
    "start_time": "2022-02-02T11:53:54.686Z"
   },
   {
    "duration": -34,
    "start_time": "2022-02-02T11:53:55.111Z"
   },
   {
    "duration": 3,
    "start_time": "2022-02-02T11:55:15.603Z"
   },
   {
    "duration": 15,
    "start_time": "2022-02-02T11:55:19.761Z"
   },
   {
    "duration": 7604,
    "start_time": "2022-02-02T11:56:02.399Z"
   },
   {
    "duration": 7439,
    "start_time": "2022-02-02T11:56:16.623Z"
   },
   {
    "duration": 1167,
    "start_time": "2022-02-02T11:56:34.200Z"
   },
   {
    "duration": 147,
    "start_time": "2022-02-02T11:56:35.369Z"
   },
   {
    "duration": 10,
    "start_time": "2022-02-02T11:56:35.518Z"
   },
   {
    "duration": 32,
    "start_time": "2022-02-02T11:56:35.530Z"
   },
   {
    "duration": 112,
    "start_time": "2022-02-02T11:56:35.564Z"
   },
   {
    "duration": 7,
    "start_time": "2022-02-02T11:56:35.678Z"
   },
   {
    "duration": 18,
    "start_time": "2022-02-02T11:56:35.687Z"
   },
   {
    "duration": 83,
    "start_time": "2022-02-02T11:56:35.707Z"
   },
   {
    "duration": 6,
    "start_time": "2022-02-02T11:56:35.792Z"
   },
   {
    "duration": 16,
    "start_time": "2022-02-02T11:56:35.799Z"
   },
   {
    "duration": 19,
    "start_time": "2022-02-02T11:56:35.816Z"
   },
   {
    "duration": 10,
    "start_time": "2022-02-02T11:56:35.837Z"
   },
   {
    "duration": 7,
    "start_time": "2022-02-02T11:56:35.849Z"
   },
   {
    "duration": 28,
    "start_time": "2022-02-02T11:56:35.857Z"
   },
   {
    "duration": 9,
    "start_time": "2022-02-02T11:56:35.887Z"
   },
   {
    "duration": 6,
    "start_time": "2022-02-02T11:56:35.898Z"
   },
   {
    "duration": 11,
    "start_time": "2022-02-02T11:56:35.906Z"
   },
   {
    "duration": 14,
    "start_time": "2022-02-02T11:56:35.919Z"
   },
   {
    "duration": 7,
    "start_time": "2022-02-02T11:56:35.936Z"
   },
   {
    "duration": 30,
    "start_time": "2022-02-02T11:56:35.945Z"
   },
   {
    "duration": 19,
    "start_time": "2022-02-02T11:56:35.977Z"
   },
   {
    "duration": 16,
    "start_time": "2022-02-02T11:56:35.998Z"
   },
   {
    "duration": 25,
    "start_time": "2022-02-02T11:56:36.017Z"
   },
   {
    "duration": 22,
    "start_time": "2022-02-02T11:56:36.045Z"
   },
   {
    "duration": 15,
    "start_time": "2022-02-02T11:56:36.068Z"
   },
   {
    "duration": 13,
    "start_time": "2022-02-02T11:56:36.085Z"
   },
   {
    "duration": 51,
    "start_time": "2022-02-02T11:56:36.099Z"
   },
   {
    "duration": 3,
    "start_time": "2022-02-02T11:56:36.152Z"
   },
   {
    "duration": 12,
    "start_time": "2022-02-02T11:56:36.157Z"
   },
   {
    "duration": 12,
    "start_time": "2022-02-02T11:56:36.171Z"
   },
   {
    "duration": 8,
    "start_time": "2022-02-02T11:56:36.185Z"
   },
   {
    "duration": 38,
    "start_time": "2022-02-02T11:56:36.194Z"
   },
   {
    "duration": 17,
    "start_time": "2022-02-02T11:56:36.233Z"
   },
   {
    "duration": 8,
    "start_time": "2022-02-02T11:56:36.252Z"
   },
   {
    "duration": 13,
    "start_time": "2022-02-02T11:56:36.261Z"
   },
   {
    "duration": 11,
    "start_time": "2022-02-02T11:56:36.276Z"
   },
   {
    "duration": 7,
    "start_time": "2022-02-02T11:56:36.288Z"
   },
   {
    "duration": 50,
    "start_time": "2022-02-02T11:56:36.297Z"
   },
   {
    "duration": 6,
    "start_time": "2022-02-02T11:56:36.348Z"
   },
   {
    "duration": 13,
    "start_time": "2022-02-02T11:56:36.356Z"
   },
   {
    "duration": 2,
    "start_time": "2022-02-02T11:56:36.370Z"
   },
   {
    "duration": 13,
    "start_time": "2022-02-02T11:56:36.373Z"
   },
   {
    "duration": 6,
    "start_time": "2022-02-02T11:56:36.388Z"
   },
   {
    "duration": 41,
    "start_time": "2022-02-02T11:56:36.395Z"
   },
   {
    "duration": 4,
    "start_time": "2022-02-02T11:56:36.439Z"
   },
   {
    "duration": 15,
    "start_time": "2022-02-02T11:56:36.445Z"
   },
   {
    "duration": 8,
    "start_time": "2022-02-02T11:57:26.942Z"
   },
   {
    "duration": 7,
    "start_time": "2022-02-02T11:59:07.061Z"
   },
   {
    "duration": 5,
    "start_time": "2022-02-02T11:59:15.280Z"
   },
   {
    "duration": 126,
    "start_time": "2022-02-02T12:00:22.254Z"
   },
   {
    "duration": 93,
    "start_time": "2022-02-02T12:00:26.995Z"
   },
   {
    "duration": 108,
    "start_time": "2022-02-02T12:00:45.444Z"
   },
   {
    "duration": 95,
    "start_time": "2022-02-02T12:01:05.537Z"
   },
   {
    "duration": 4,
    "start_time": "2022-02-02T12:01:25.571Z"
   },
   {
    "duration": 6,
    "start_time": "2022-02-02T12:01:26.604Z"
   },
   {
    "duration": 1200,
    "start_time": "2022-02-02T12:04:35.614Z"
   },
   {
    "duration": 163,
    "start_time": "2022-02-02T12:04:36.816Z"
   },
   {
    "duration": 10,
    "start_time": "2022-02-02T12:04:36.981Z"
   },
   {
    "duration": 23,
    "start_time": "2022-02-02T12:04:36.992Z"
   },
   {
    "duration": 168,
    "start_time": "2022-02-02T12:04:37.016Z"
   },
   {
    "duration": 11,
    "start_time": "2022-02-02T12:04:37.186Z"
   },
   {
    "duration": 35,
    "start_time": "2022-02-02T12:04:37.198Z"
   },
   {
    "duration": 83,
    "start_time": "2022-02-02T12:04:37.237Z"
   },
   {
    "duration": 9,
    "start_time": "2022-02-02T12:04:37.322Z"
   },
   {
    "duration": 28,
    "start_time": "2022-02-02T12:04:37.333Z"
   },
   {
    "duration": 17,
    "start_time": "2022-02-02T12:04:37.363Z"
   },
   {
    "duration": 10,
    "start_time": "2022-02-02T12:04:37.382Z"
   },
   {
    "duration": 7,
    "start_time": "2022-02-02T12:04:37.394Z"
   },
   {
    "duration": 31,
    "start_time": "2022-02-02T12:04:37.402Z"
   },
   {
    "duration": 19,
    "start_time": "2022-02-02T12:04:37.435Z"
   },
   {
    "duration": 7,
    "start_time": "2022-02-02T12:04:37.456Z"
   },
   {
    "duration": 8,
    "start_time": "2022-02-02T12:04:37.465Z"
   },
   {
    "duration": 6,
    "start_time": "2022-02-02T12:04:37.475Z"
   },
   {
    "duration": 5,
    "start_time": "2022-02-02T12:04:37.482Z"
   },
   {
    "duration": 42,
    "start_time": "2022-02-02T12:04:37.488Z"
   },
   {
    "duration": 26,
    "start_time": "2022-02-02T12:04:37.533Z"
   },
   {
    "duration": 16,
    "start_time": "2022-02-02T12:04:37.561Z"
   },
   {
    "duration": 13,
    "start_time": "2022-02-02T12:04:37.580Z"
   },
   {
    "duration": 45,
    "start_time": "2022-02-02T12:04:37.595Z"
   },
   {
    "duration": 23,
    "start_time": "2022-02-02T12:04:37.642Z"
   },
   {
    "duration": 13,
    "start_time": "2022-02-02T12:04:37.667Z"
   },
   {
    "duration": 24,
    "start_time": "2022-02-02T12:04:37.681Z"
   },
   {
    "duration": 5,
    "start_time": "2022-02-02T12:04:37.727Z"
   },
   {
    "duration": 22,
    "start_time": "2022-02-02T12:04:37.735Z"
   },
   {
    "duration": 8,
    "start_time": "2022-02-02T12:04:37.759Z"
   },
   {
    "duration": 18,
    "start_time": "2022-02-02T12:04:37.769Z"
   },
   {
    "duration": 15,
    "start_time": "2022-02-02T12:04:37.789Z"
   },
   {
    "duration": 5,
    "start_time": "2022-02-02T12:04:37.806Z"
   },
   {
    "duration": 34,
    "start_time": "2022-02-02T12:04:37.812Z"
   },
   {
    "duration": 12,
    "start_time": "2022-02-02T12:04:37.852Z"
   },
   {
    "duration": 8,
    "start_time": "2022-02-02T12:04:37.866Z"
   },
   {
    "duration": 19,
    "start_time": "2022-02-02T12:04:37.876Z"
   },
   {
    "duration": 30,
    "start_time": "2022-02-02T12:04:37.897Z"
   },
   {
    "duration": 16,
    "start_time": "2022-02-02T12:04:37.930Z"
   },
   {
    "duration": 4,
    "start_time": "2022-02-02T12:04:37.948Z"
   },
   {
    "duration": 13,
    "start_time": "2022-02-02T12:04:37.954Z"
   },
   {
    "duration": 7,
    "start_time": "2022-02-02T12:04:37.968Z"
   },
   {
    "duration": 10,
    "start_time": "2022-02-02T12:04:37.976Z"
   },
   {
    "duration": 2,
    "start_time": "2022-02-02T12:04:37.988Z"
   },
   {
    "duration": 7,
    "start_time": "2022-02-02T12:04:37.992Z"
   },
   {
    "duration": 27,
    "start_time": "2022-02-02T12:04:38.000Z"
   },
   {
    "duration": 11,
    "start_time": "2022-02-02T12:04:54.703Z"
   },
   {
    "duration": 3,
    "start_time": "2022-02-02T12:06:46.108Z"
   },
   {
    "duration": 4,
    "start_time": "2022-02-02T12:06:46.738Z"
   },
   {
    "duration": 3,
    "start_time": "2022-02-02T12:06:47.759Z"
   },
   {
    "duration": 10,
    "start_time": "2022-02-02T12:06:48.951Z"
   },
   {
    "duration": 1071,
    "start_time": "2022-02-02T12:06:59.562Z"
   },
   {
    "duration": 150,
    "start_time": "2022-02-02T12:07:00.635Z"
   },
   {
    "duration": 12,
    "start_time": "2022-02-02T12:07:00.787Z"
   },
   {
    "duration": 29,
    "start_time": "2022-02-02T12:07:00.801Z"
   },
   {
    "duration": 122,
    "start_time": "2022-02-02T12:07:00.833Z"
   },
   {
    "duration": 8,
    "start_time": "2022-02-02T12:07:00.956Z"
   },
   {
    "duration": 35,
    "start_time": "2022-02-02T12:07:00.965Z"
   },
   {
    "duration": 90,
    "start_time": "2022-02-02T12:07:01.002Z"
   },
   {
    "duration": 6,
    "start_time": "2022-02-02T12:07:01.094Z"
   },
   {
    "duration": 35,
    "start_time": "2022-02-02T12:07:01.102Z"
   },
   {
    "duration": 39,
    "start_time": "2022-02-02T12:07:01.140Z"
   },
   {
    "duration": 36,
    "start_time": "2022-02-02T12:07:01.180Z"
   },
   {
    "duration": 30,
    "start_time": "2022-02-02T12:07:01.217Z"
   },
   {
    "duration": 30,
    "start_time": "2022-02-02T12:07:01.249Z"
   },
   {
    "duration": 9,
    "start_time": "2022-02-02T12:07:01.280Z"
   },
   {
    "duration": 8,
    "start_time": "2022-02-02T12:07:01.291Z"
   },
   {
    "duration": 15,
    "start_time": "2022-02-02T12:07:01.300Z"
   },
   {
    "duration": 10,
    "start_time": "2022-02-02T12:07:01.316Z"
   },
   {
    "duration": 10,
    "start_time": "2022-02-02T12:07:01.327Z"
   },
   {
    "duration": 35,
    "start_time": "2022-02-02T12:07:01.338Z"
   },
   {
    "duration": 21,
    "start_time": "2022-02-02T12:07:01.374Z"
   },
   {
    "duration": 16,
    "start_time": "2022-02-02T12:07:01.396Z"
   },
   {
    "duration": 24,
    "start_time": "2022-02-02T12:07:01.415Z"
   },
   {
    "duration": 23,
    "start_time": "2022-02-02T12:07:01.442Z"
   },
   {
    "duration": 17,
    "start_time": "2022-02-02T12:07:01.467Z"
   },
   {
    "duration": 14,
    "start_time": "2022-02-02T12:07:01.486Z"
   },
   {
    "duration": 62,
    "start_time": "2022-02-02T12:07:01.501Z"
   },
   {
    "duration": 2,
    "start_time": "2022-02-02T12:07:01.564Z"
   },
   {
    "duration": 26,
    "start_time": "2022-02-02T12:07:01.568Z"
   },
   {
    "duration": 37,
    "start_time": "2022-02-02T12:07:01.596Z"
   },
   {
    "duration": 26,
    "start_time": "2022-02-02T12:07:01.635Z"
   },
   {
    "duration": 42,
    "start_time": "2022-02-02T12:07:01.663Z"
   },
   {
    "duration": 18,
    "start_time": "2022-02-02T12:07:01.706Z"
   },
   {
    "duration": 42,
    "start_time": "2022-02-02T12:07:01.725Z"
   },
   {
    "duration": 34,
    "start_time": "2022-02-02T12:07:01.769Z"
   },
   {
    "duration": 20,
    "start_time": "2022-02-02T12:07:01.804Z"
   },
   {
    "duration": 57,
    "start_time": "2022-02-02T12:07:01.825Z"
   },
   {
    "duration": 10,
    "start_time": "2022-02-02T12:07:01.884Z"
   },
   {
    "duration": 34,
    "start_time": "2022-02-02T12:07:01.895Z"
   },
   {
    "duration": 31,
    "start_time": "2022-02-02T12:07:01.935Z"
   },
   {
    "duration": 14,
    "start_time": "2022-02-02T12:07:01.968Z"
   },
   {
    "duration": 37,
    "start_time": "2022-02-02T12:07:01.984Z"
   },
   {
    "duration": 31,
    "start_time": "2022-02-02T12:07:02.023Z"
   },
   {
    "duration": 28,
    "start_time": "2022-02-02T12:07:02.056Z"
   },
   {
    "duration": 25,
    "start_time": "2022-02-02T12:07:02.085Z"
   },
   {
    "duration": 12,
    "start_time": "2022-02-02T12:26:53.400Z"
   },
   {
    "duration": 12,
    "start_time": "2022-02-02T12:27:21.920Z"
   },
   {
    "duration": 9,
    "start_time": "2022-02-02T12:27:41.243Z"
   },
   {
    "duration": 35,
    "start_time": "2022-02-02T12:27:42.593Z"
   },
   {
    "duration": 11,
    "start_time": "2022-02-02T12:28:26.673Z"
   },
   {
    "duration": 13,
    "start_time": "2022-02-02T12:28:27.943Z"
   },
   {
    "duration": 8,
    "start_time": "2022-02-02T12:28:32.230Z"
   },
   {
    "duration": 19,
    "start_time": "2022-02-02T12:28:33.333Z"
   },
   {
    "duration": 5,
    "start_time": "2022-02-02T12:31:09.518Z"
   },
   {
    "duration": 13,
    "start_time": "2022-02-02T12:32:21.794Z"
   },
   {
    "duration": 12,
    "start_time": "2022-02-02T12:32:22.823Z"
   },
   {
    "duration": 9,
    "start_time": "2022-02-02T12:32:24.843Z"
   },
   {
    "duration": 22,
    "start_time": "2022-02-02T12:32:25.760Z"
   },
   {
    "duration": 4,
    "start_time": "2022-02-02T12:32:38.780Z"
   },
   {
    "duration": 12,
    "start_time": "2022-02-02T12:32:39.290Z"
   },
   {
    "duration": 432,
    "start_time": "2022-02-02T12:40:56.213Z"
   },
   {
    "duration": 4,
    "start_time": "2022-02-02T12:41:35.313Z"
   },
   {
    "duration": 9115,
    "start_time": "2022-02-02T12:41:58.781Z"
   },
   {
    "duration": 5,
    "start_time": "2022-02-02T12:44:43.753Z"
   },
   {
    "duration": 63,
    "start_time": "2022-02-02T12:44:48.800Z"
   },
   {
    "duration": 15,
    "start_time": "2022-02-02T12:44:53.682Z"
   },
   {
    "duration": 1118,
    "start_time": "2022-02-02T12:45:54.209Z"
   },
   {
    "duration": 144,
    "start_time": "2022-02-02T12:45:55.329Z"
   },
   {
    "duration": 10,
    "start_time": "2022-02-02T12:45:55.475Z"
   },
   {
    "duration": 22,
    "start_time": "2022-02-02T12:45:55.487Z"
   },
   {
    "duration": 111,
    "start_time": "2022-02-02T12:45:55.511Z"
   },
   {
    "duration": 7,
    "start_time": "2022-02-02T12:45:55.624Z"
   },
   {
    "duration": 18,
    "start_time": "2022-02-02T12:45:55.633Z"
   },
   {
    "duration": 78,
    "start_time": "2022-02-02T12:45:55.653Z"
   },
   {
    "duration": 6,
    "start_time": "2022-02-02T12:45:55.733Z"
   },
   {
    "duration": 15,
    "start_time": "2022-02-02T12:45:55.740Z"
   },
   {
    "duration": 15,
    "start_time": "2022-02-02T12:45:55.756Z"
   },
   {
    "duration": 8,
    "start_time": "2022-02-02T12:45:55.773Z"
   },
   {
    "duration": 7,
    "start_time": "2022-02-02T12:45:55.783Z"
   },
   {
    "duration": 68,
    "start_time": "2022-02-02T12:45:55.792Z"
   },
   {
    "duration": 10,
    "start_time": "2022-02-02T12:45:55.861Z"
   },
   {
    "duration": 7,
    "start_time": "2022-02-02T12:45:55.873Z"
   },
   {
    "duration": 9,
    "start_time": "2022-02-02T12:45:55.882Z"
   },
   {
    "duration": 4,
    "start_time": "2022-02-02T12:45:55.892Z"
   },
   {
    "duration": 9,
    "start_time": "2022-02-02T12:45:55.898Z"
   },
   {
    "duration": 33,
    "start_time": "2022-02-02T12:45:55.908Z"
   },
   {
    "duration": 21,
    "start_time": "2022-02-02T12:45:55.943Z"
   },
   {
    "duration": 16,
    "start_time": "2022-02-02T12:45:55.965Z"
   },
   {
    "duration": 13,
    "start_time": "2022-02-02T12:45:55.984Z"
   },
   {
    "duration": 46,
    "start_time": "2022-02-02T12:45:55.999Z"
   },
   {
    "duration": 16,
    "start_time": "2022-02-02T12:45:56.046Z"
   },
   {
    "duration": 13,
    "start_time": "2022-02-02T12:45:56.064Z"
   },
   {
    "duration": 24,
    "start_time": "2022-02-02T12:45:56.079Z"
   },
   {
    "duration": 3,
    "start_time": "2022-02-02T12:45:56.104Z"
   },
   {
    "duration": 16,
    "start_time": "2022-02-02T12:45:56.126Z"
   },
   {
    "duration": 9,
    "start_time": "2022-02-02T12:45:56.143Z"
   },
   {
    "duration": 18,
    "start_time": "2022-02-02T12:45:56.153Z"
   },
   {
    "duration": 19,
    "start_time": "2022-02-02T12:45:56.173Z"
   },
   {
    "duration": 5,
    "start_time": "2022-02-02T12:45:56.193Z"
   },
   {
    "duration": 36,
    "start_time": "2022-02-02T12:45:56.200Z"
   },
   {
    "duration": 11,
    "start_time": "2022-02-02T12:45:56.237Z"
   },
   {
    "duration": 8,
    "start_time": "2022-02-02T12:45:56.249Z"
   },
   {
    "duration": 18,
    "start_time": "2022-02-02T12:45:56.258Z"
   },
   {
    "duration": 4,
    "start_time": "2022-02-02T12:45:56.277Z"
   },
   {
    "duration": 11,
    "start_time": "2022-02-02T12:45:56.283Z"
   },
   {
    "duration": 37,
    "start_time": "2022-02-02T12:45:56.295Z"
   },
   {
    "duration": 3,
    "start_time": "2022-02-02T12:45:56.333Z"
   },
   {
    "duration": 4,
    "start_time": "2022-02-02T12:45:56.337Z"
   },
   {
    "duration": 13,
    "start_time": "2022-02-02T12:45:56.342Z"
   },
   {
    "duration": 383,
    "start_time": "2022-02-02T12:45:56.356Z"
   },
   {
    "duration": 14,
    "start_time": "2022-02-02T12:45:56.727Z"
   },
   {
    "duration": 10,
    "start_time": "2022-02-02T12:45:56.732Z"
   },
   {
    "duration": 6,
    "start_time": "2022-02-02T12:45:56.738Z"
   },
   {
    "duration": 3,
    "start_time": "2022-02-02T12:45:56.742Z"
   },
   {
    "duration": 13,
    "start_time": "2022-02-02T12:46:27.231Z"
   },
   {
    "duration": 5,
    "start_time": "2022-02-02T12:46:27.988Z"
   },
   {
    "duration": 62,
    "start_time": "2022-02-02T12:46:28.686Z"
   },
   {
    "duration": 15,
    "start_time": "2022-02-02T12:46:29.089Z"
   },
   {
    "duration": 5,
    "start_time": "2022-02-02T12:47:04.560Z"
   },
   {
    "duration": 6,
    "start_time": "2022-02-02T12:47:14.540Z"
   },
   {
    "duration": 330,
    "start_time": "2022-02-02T12:48:32.017Z"
   },
   {
    "duration": 93,
    "start_time": "2022-02-02T12:48:40.079Z"
   },
   {
    "duration": 345,
    "start_time": "2022-02-02T12:51:06.797Z"
   },
   {
    "duration": 286,
    "start_time": "2022-02-02T12:51:14.325Z"
   },
   {
    "duration": 7,
    "start_time": "2022-02-02T12:51:23.020Z"
   },
   {
    "duration": 1143,
    "start_time": "2022-02-02T12:52:42.234Z"
   },
   {
    "duration": 1094,
    "start_time": "2022-02-02T12:52:55.261Z"
   },
   {
    "duration": 149,
    "start_time": "2022-02-02T12:52:56.357Z"
   },
   {
    "duration": 12,
    "start_time": "2022-02-02T12:52:56.508Z"
   },
   {
    "duration": 22,
    "start_time": "2022-02-02T12:52:56.522Z"
   },
   {
    "duration": 110,
    "start_time": "2022-02-02T12:52:56.545Z"
   },
   {
    "duration": 7,
    "start_time": "2022-02-02T12:52:56.657Z"
   },
   {
    "duration": 19,
    "start_time": "2022-02-02T12:52:56.665Z"
   },
   {
    "duration": 82,
    "start_time": "2022-02-02T12:52:56.686Z"
   },
   {
    "duration": 6,
    "start_time": "2022-02-02T12:52:56.770Z"
   },
   {
    "duration": 19,
    "start_time": "2022-02-02T12:52:56.777Z"
   },
   {
    "duration": 17,
    "start_time": "2022-02-02T12:52:56.797Z"
   },
   {
    "duration": 9,
    "start_time": "2022-02-02T12:52:56.815Z"
   },
   {
    "duration": 7,
    "start_time": "2022-02-02T12:52:56.825Z"
   },
   {
    "duration": 51,
    "start_time": "2022-02-02T12:52:56.834Z"
   },
   {
    "duration": 8,
    "start_time": "2022-02-02T12:52:56.886Z"
   },
   {
    "duration": 7,
    "start_time": "2022-02-02T12:52:56.895Z"
   },
   {
    "duration": 6,
    "start_time": "2022-02-02T12:52:56.904Z"
   },
   {
    "duration": 3,
    "start_time": "2022-02-02T12:52:56.912Z"
   },
   {
    "duration": 19,
    "start_time": "2022-02-02T12:52:56.916Z"
   },
   {
    "duration": 33,
    "start_time": "2022-02-02T12:52:56.936Z"
   },
   {
    "duration": 20,
    "start_time": "2022-02-02T12:52:56.970Z"
   },
   {
    "duration": 17,
    "start_time": "2022-02-02T12:52:56.992Z"
   },
   {
    "duration": 14,
    "start_time": "2022-02-02T12:52:57.012Z"
   },
   {
    "duration": 20,
    "start_time": "2022-02-02T12:52:57.028Z"
   },
   {
    "duration": 17,
    "start_time": "2022-02-02T12:52:57.050Z"
   },
   {
    "duration": 25,
    "start_time": "2022-02-02T12:52:57.068Z"
   },
   {
    "duration": 26,
    "start_time": "2022-02-02T12:52:57.095Z"
   },
   {
    "duration": 2,
    "start_time": "2022-02-02T12:52:57.123Z"
   },
   {
    "duration": 25,
    "start_time": "2022-02-02T12:52:57.127Z"
   },
   {
    "duration": 8,
    "start_time": "2022-02-02T12:52:57.153Z"
   },
   {
    "duration": 15,
    "start_time": "2022-02-02T12:52:57.163Z"
   },
   {
    "duration": 36,
    "start_time": "2022-02-02T12:52:57.179Z"
   },
   {
    "duration": 5,
    "start_time": "2022-02-02T12:52:57.217Z"
   },
   {
    "duration": 22,
    "start_time": "2022-02-02T12:52:57.224Z"
   },
   {
    "duration": 11,
    "start_time": "2022-02-02T12:52:57.247Z"
   },
   {
    "duration": 8,
    "start_time": "2022-02-02T12:52:57.259Z"
   },
   {
    "duration": 17,
    "start_time": "2022-02-02T12:52:57.269Z"
   },
   {
    "duration": 4,
    "start_time": "2022-02-02T12:52:57.287Z"
   },
   {
    "duration": 39,
    "start_time": "2022-02-02T12:52:57.292Z"
   },
   {
    "duration": 15,
    "start_time": "2022-02-02T12:52:57.333Z"
   },
   {
    "duration": 3,
    "start_time": "2022-02-02T12:52:57.349Z"
   },
   {
    "duration": 1489,
    "start_time": "2022-02-02T12:52:57.353Z"
   },
   {
    "duration": 32,
    "start_time": "2022-02-02T12:52:58.812Z"
   },
   {
    "duration": 29,
    "start_time": "2022-02-02T12:52:58.816Z"
   },
   {
    "duration": 24,
    "start_time": "2022-02-02T12:52:58.821Z"
   },
   {
    "duration": 21,
    "start_time": "2022-02-02T12:52:58.825Z"
   },
   {
    "duration": 18,
    "start_time": "2022-02-02T12:52:58.829Z"
   },
   {
    "duration": 297,
    "start_time": "2022-02-02T12:53:44.355Z"
   },
   {
    "duration": 346,
    "start_time": "2022-02-02T12:53:58.209Z"
   },
   {
    "duration": 3,
    "start_time": "2022-02-02T12:54:19.832Z"
   },
   {
    "duration": 272,
    "start_time": "2022-02-02T12:54:23.229Z"
   },
   {
    "duration": 292,
    "start_time": "2022-02-02T12:54:36.444Z"
   },
   {
    "duration": 4,
    "start_time": "2022-02-02T12:54:41.156Z"
   },
   {
    "duration": 59,
    "start_time": "2022-02-02T12:54:42.955Z"
   },
   {
    "duration": 14,
    "start_time": "2022-02-02T12:54:46.665Z"
   },
   {
    "duration": 1131,
    "start_time": "2022-02-02T12:55:08.689Z"
   },
   {
    "duration": 145,
    "start_time": "2022-02-02T12:55:09.824Z"
   },
   {
    "duration": 10,
    "start_time": "2022-02-02T12:55:09.971Z"
   },
   {
    "duration": 19,
    "start_time": "2022-02-02T12:55:09.982Z"
   },
   {
    "duration": 115,
    "start_time": "2022-02-02T12:55:10.002Z"
   },
   {
    "duration": 11,
    "start_time": "2022-02-02T12:55:10.119Z"
   },
   {
    "duration": 16,
    "start_time": "2022-02-02T12:55:10.133Z"
   },
   {
    "duration": 81,
    "start_time": "2022-02-02T12:55:10.150Z"
   },
   {
    "duration": 7,
    "start_time": "2022-02-02T12:55:10.233Z"
   },
   {
    "duration": 16,
    "start_time": "2022-02-02T12:55:10.241Z"
   },
   {
    "duration": 21,
    "start_time": "2022-02-02T12:55:10.258Z"
   },
   {
    "duration": 10,
    "start_time": "2022-02-02T12:55:10.281Z"
   },
   {
    "duration": 7,
    "start_time": "2022-02-02T12:55:10.292Z"
   },
   {
    "duration": 41,
    "start_time": "2022-02-02T12:55:10.301Z"
   },
   {
    "duration": 8,
    "start_time": "2022-02-02T12:55:10.344Z"
   },
   {
    "duration": 5,
    "start_time": "2022-02-02T12:55:10.354Z"
   },
   {
    "duration": 7,
    "start_time": "2022-02-02T12:55:10.361Z"
   },
   {
    "duration": 4,
    "start_time": "2022-02-02T12:55:10.370Z"
   },
   {
    "duration": 4,
    "start_time": "2022-02-02T12:55:10.375Z"
   },
   {
    "duration": 28,
    "start_time": "2022-02-02T12:55:10.381Z"
   },
   {
    "duration": 29,
    "start_time": "2022-02-02T12:55:10.410Z"
   },
   {
    "duration": 16,
    "start_time": "2022-02-02T12:55:10.442Z"
   },
   {
    "duration": 13,
    "start_time": "2022-02-02T12:55:10.460Z"
   },
   {
    "duration": 20,
    "start_time": "2022-02-02T12:55:10.474Z"
   },
   {
    "duration": 35,
    "start_time": "2022-02-02T12:55:10.496Z"
   },
   {
    "duration": 14,
    "start_time": "2022-02-02T12:55:10.533Z"
   },
   {
    "duration": 25,
    "start_time": "2022-02-02T12:55:10.548Z"
   },
   {
    "duration": 3,
    "start_time": "2022-02-02T12:55:10.574Z"
   },
   {
    "duration": 17,
    "start_time": "2022-02-02T12:55:10.578Z"
   },
   {
    "duration": 8,
    "start_time": "2022-02-02T12:55:10.596Z"
   },
   {
    "duration": 33,
    "start_time": "2022-02-02T12:55:10.606Z"
   },
   {
    "duration": 16,
    "start_time": "2022-02-02T12:55:10.641Z"
   },
   {
    "duration": 5,
    "start_time": "2022-02-02T12:55:10.659Z"
   },
   {
    "duration": 14,
    "start_time": "2022-02-02T12:55:10.665Z"
   },
   {
    "duration": 14,
    "start_time": "2022-02-02T12:55:10.680Z"
   },
   {
    "duration": 7,
    "start_time": "2022-02-02T12:55:10.696Z"
   },
   {
    "duration": 39,
    "start_time": "2022-02-02T12:55:10.704Z"
   },
   {
    "duration": 5,
    "start_time": "2022-02-02T12:55:10.744Z"
   },
   {
    "duration": 10,
    "start_time": "2022-02-02T12:55:10.750Z"
   },
   {
    "duration": 6,
    "start_time": "2022-02-02T12:55:10.762Z"
   },
   {
    "duration": 3,
    "start_time": "2022-02-02T12:55:10.769Z"
   },
   {
    "duration": 3,
    "start_time": "2022-02-02T12:55:10.774Z"
   },
   {
    "duration": 13,
    "start_time": "2022-02-02T12:55:10.778Z"
   },
   {
    "duration": 36,
    "start_time": "2022-02-02T12:55:10.792Z"
   },
   {
    "duration": 5,
    "start_time": "2022-02-02T12:55:10.829Z"
   },
   {
    "duration": 63,
    "start_time": "2022-02-02T12:55:10.835Z"
   },
   {
    "duration": 13,
    "start_time": "2022-02-02T12:55:10.899Z"
   },
   {
    "duration": 1288,
    "start_time": "2022-02-02T12:57:05.838Z"
   },
   {
    "duration": -69,
    "start_time": "2022-02-02T12:57:07.197Z"
   },
   {
    "duration": 290,
    "start_time": "2022-02-02T12:57:21.867Z"
   },
   {
    "duration": 1088,
    "start_time": "2022-02-02T12:57:31.335Z"
   },
   {
    "duration": 136,
    "start_time": "2022-02-02T12:57:32.425Z"
   },
   {
    "duration": 11,
    "start_time": "2022-02-02T12:57:32.563Z"
   },
   {
    "duration": 19,
    "start_time": "2022-02-02T12:57:32.576Z"
   },
   {
    "duration": 116,
    "start_time": "2022-02-02T12:57:32.597Z"
   },
   {
    "duration": 7,
    "start_time": "2022-02-02T12:57:32.715Z"
   },
   {
    "duration": 15,
    "start_time": "2022-02-02T12:57:32.727Z"
   },
   {
    "duration": 84,
    "start_time": "2022-02-02T12:57:32.744Z"
   },
   {
    "duration": 6,
    "start_time": "2022-02-02T12:57:32.830Z"
   },
   {
    "duration": 14,
    "start_time": "2022-02-02T12:57:32.838Z"
   },
   {
    "duration": 15,
    "start_time": "2022-02-02T12:57:32.854Z"
   },
   {
    "duration": 9,
    "start_time": "2022-02-02T12:57:32.871Z"
   },
   {
    "duration": 8,
    "start_time": "2022-02-02T12:57:32.881Z"
   },
   {
    "duration": 39,
    "start_time": "2022-02-02T12:57:32.890Z"
   },
   {
    "duration": 10,
    "start_time": "2022-02-02T12:57:32.931Z"
   },
   {
    "duration": 8,
    "start_time": "2022-02-02T12:57:32.942Z"
   },
   {
    "duration": 10,
    "start_time": "2022-02-02T12:57:32.951Z"
   },
   {
    "duration": 4,
    "start_time": "2022-02-02T12:57:32.963Z"
   },
   {
    "duration": 6,
    "start_time": "2022-02-02T12:57:32.968Z"
   },
   {
    "duration": 29,
    "start_time": "2022-02-02T12:57:32.975Z"
   },
   {
    "duration": 32,
    "start_time": "2022-02-02T12:57:33.005Z"
   },
   {
    "duration": 16,
    "start_time": "2022-02-02T12:57:33.039Z"
   },
   {
    "duration": 13,
    "start_time": "2022-02-02T12:57:33.058Z"
   },
   {
    "duration": 20,
    "start_time": "2022-02-02T12:57:33.072Z"
   },
   {
    "duration": 40,
    "start_time": "2022-02-02T12:57:33.094Z"
   },
   {
    "duration": 14,
    "start_time": "2022-02-02T12:57:33.135Z"
   },
   {
    "duration": 25,
    "start_time": "2022-02-02T12:57:33.151Z"
   },
   {
    "duration": 3,
    "start_time": "2022-02-02T12:57:33.177Z"
   },
   {
    "duration": 15,
    "start_time": "2022-02-02T12:57:33.181Z"
   },
   {
    "duration": 8,
    "start_time": "2022-02-02T12:57:33.197Z"
   },
   {
    "duration": 33,
    "start_time": "2022-02-02T12:57:33.206Z"
   },
   {
    "duration": 15,
    "start_time": "2022-02-02T12:57:33.241Z"
   },
   {
    "duration": 5,
    "start_time": "2022-02-02T12:57:33.257Z"
   },
   {
    "duration": 12,
    "start_time": "2022-02-02T12:57:33.263Z"
   },
   {
    "duration": 13,
    "start_time": "2022-02-02T12:57:33.277Z"
   },
   {
    "duration": 8,
    "start_time": "2022-02-02T12:57:33.292Z"
   },
   {
    "duration": 41,
    "start_time": "2022-02-02T12:57:33.301Z"
   },
   {
    "duration": 5,
    "start_time": "2022-02-02T12:57:33.343Z"
   },
   {
    "duration": 11,
    "start_time": "2022-02-02T12:57:33.349Z"
   },
   {
    "duration": 9,
    "start_time": "2022-02-02T12:57:33.361Z"
   },
   {
    "duration": 2,
    "start_time": "2022-02-02T12:57:33.371Z"
   },
   {
    "duration": 5,
    "start_time": "2022-02-02T12:57:33.375Z"
   },
   {
    "duration": 11,
    "start_time": "2022-02-02T12:57:33.382Z"
   },
   {
    "duration": 11,
    "start_time": "2022-02-02T12:57:33.395Z"
   },
   {
    "duration": 5,
    "start_time": "2022-02-02T12:57:33.427Z"
   },
   {
    "duration": 64,
    "start_time": "2022-02-02T12:57:33.433Z"
   },
   {
    "duration": 14,
    "start_time": "2022-02-02T12:57:33.499Z"
   },
   {
    "duration": 1171,
    "start_time": "2022-02-02T12:58:12.132Z"
   },
   {
    "duration": -104,
    "start_time": "2022-02-02T12:58:13.409Z"
   },
   {
    "duration": 1101,
    "start_time": "2022-02-02T12:58:34.921Z"
   },
   {
    "duration": 136,
    "start_time": "2022-02-02T12:58:36.024Z"
   },
   {
    "duration": 10,
    "start_time": "2022-02-02T12:58:36.161Z"
   },
   {
    "duration": 20,
    "start_time": "2022-02-02T12:58:36.173Z"
   },
   {
    "duration": 116,
    "start_time": "2022-02-02T12:58:36.195Z"
   },
   {
    "duration": 15,
    "start_time": "2022-02-02T12:58:36.313Z"
   },
   {
    "duration": 15,
    "start_time": "2022-02-02T12:58:36.329Z"
   },
   {
    "duration": 81,
    "start_time": "2022-02-02T12:58:36.346Z"
   },
   {
    "duration": 6,
    "start_time": "2022-02-02T12:58:36.429Z"
   },
   {
    "duration": 14,
    "start_time": "2022-02-02T12:58:36.437Z"
   },
   {
    "duration": 16,
    "start_time": "2022-02-02T12:58:36.452Z"
   },
   {
    "duration": 9,
    "start_time": "2022-02-02T12:58:36.469Z"
   },
   {
    "duration": 10,
    "start_time": "2022-02-02T12:58:36.479Z"
   },
   {
    "duration": 59,
    "start_time": "2022-02-02T12:58:36.490Z"
   },
   {
    "duration": 8,
    "start_time": "2022-02-02T12:58:36.550Z"
   },
   {
    "duration": 7,
    "start_time": "2022-02-02T12:58:36.559Z"
   },
   {
    "duration": 8,
    "start_time": "2022-02-02T12:58:36.567Z"
   },
   {
    "duration": 4,
    "start_time": "2022-02-02T12:58:36.576Z"
   },
   {
    "duration": 5,
    "start_time": "2022-02-02T12:58:36.581Z"
   },
   {
    "duration": 28,
    "start_time": "2022-02-02T12:58:36.588Z"
   },
   {
    "duration": 21,
    "start_time": "2022-02-02T12:58:36.617Z"
   },
   {
    "duration": 16,
    "start_time": "2022-02-02T12:58:36.639Z"
   },
   {
    "duration": 13,
    "start_time": "2022-02-02T12:58:36.658Z"
   },
   {
    "duration": 20,
    "start_time": "2022-02-02T12:58:36.672Z"
   },
   {
    "duration": 35,
    "start_time": "2022-02-02T12:58:36.694Z"
   },
   {
    "duration": 14,
    "start_time": "2022-02-02T12:58:36.731Z"
   },
   {
    "duration": 25,
    "start_time": "2022-02-02T12:58:36.747Z"
   },
   {
    "duration": 2,
    "start_time": "2022-02-02T12:58:36.774Z"
   },
   {
    "duration": 15,
    "start_time": "2022-02-02T12:58:36.777Z"
   },
   {
    "duration": 8,
    "start_time": "2022-02-02T12:58:36.793Z"
   },
   {
    "duration": 36,
    "start_time": "2022-02-02T12:58:36.802Z"
   },
   {
    "duration": 16,
    "start_time": "2022-02-02T12:58:36.840Z"
   },
   {
    "duration": 5,
    "start_time": "2022-02-02T12:58:36.857Z"
   },
   {
    "duration": 15,
    "start_time": "2022-02-02T12:58:36.863Z"
   },
   {
    "duration": 11,
    "start_time": "2022-02-02T12:58:36.879Z"
   },
   {
    "duration": 38,
    "start_time": "2022-02-02T12:58:36.891Z"
   },
   {
    "duration": 20,
    "start_time": "2022-02-02T12:58:36.930Z"
   },
   {
    "duration": 5,
    "start_time": "2022-02-02T12:58:36.952Z"
   },
   {
    "duration": 13,
    "start_time": "2022-02-02T12:58:36.959Z"
   },
   {
    "duration": 8,
    "start_time": "2022-02-02T12:58:36.973Z"
   },
   {
    "duration": 3,
    "start_time": "2022-02-02T12:58:36.983Z"
   },
   {
    "duration": 4,
    "start_time": "2022-02-02T12:58:36.988Z"
   },
   {
    "duration": 45,
    "start_time": "2022-02-02T12:58:36.994Z"
   },
   {
    "duration": 12,
    "start_time": "2022-02-02T12:58:37.040Z"
   },
   {
    "duration": 4,
    "start_time": "2022-02-02T12:58:37.053Z"
   },
   {
    "duration": 73,
    "start_time": "2022-02-02T12:58:37.059Z"
   },
   {
    "duration": 14,
    "start_time": "2022-02-02T12:58:37.133Z"
   },
   {
    "duration": 4,
    "start_time": "2022-02-02T12:59:54.680Z"
   },
   {
    "duration": 14,
    "start_time": "2022-02-02T13:00:00.978Z"
   },
   {
    "duration": 4,
    "start_time": "2022-02-02T13:00:21.905Z"
   },
   {
    "duration": 6,
    "start_time": "2022-02-02T13:00:36.984Z"
   },
   {
    "duration": 16,
    "start_time": "2022-02-02T13:01:14.328Z"
   },
   {
    "duration": 5,
    "start_time": "2022-02-02T13:05:08.527Z"
   },
   {
    "duration": 62,
    "start_time": "2022-02-02T13:05:11.001Z"
   },
   {
    "duration": 3,
    "start_time": "2022-02-02T13:05:17.746Z"
   },
   {
    "duration": 8,
    "start_time": "2022-02-02T13:05:45.007Z"
   },
   {
    "duration": 11,
    "start_time": "2022-02-02T13:05:58.634Z"
   },
   {
    "duration": 10,
    "start_time": "2022-02-02T13:08:17.792Z"
   },
   {
    "duration": 3,
    "start_time": "2022-02-02T13:12:12.273Z"
   },
   {
    "duration": 14,
    "start_time": "2022-02-02T13:12:14.139Z"
   },
   {
    "duration": 5,
    "start_time": "2022-02-02T13:12:18.723Z"
   },
   {
    "duration": 4,
    "start_time": "2022-02-02T13:12:23.423Z"
   },
   {
    "duration": 5,
    "start_time": "2022-02-02T13:12:25.545Z"
   },
   {
    "duration": 11,
    "start_time": "2022-02-02T13:12:28.757Z"
   },
   {
    "duration": 3,
    "start_time": "2022-02-02T13:12:51.026Z"
   },
   {
    "duration": 13,
    "start_time": "2022-02-02T13:12:52.174Z"
   },
   {
    "duration": 4,
    "start_time": "2022-02-02T13:13:49.120Z"
   },
   {
    "duration": 9,
    "start_time": "2022-02-02T13:13:53.558Z"
   },
   {
    "duration": 17,
    "start_time": "2022-02-02T13:13:54.071Z"
   },
   {
    "duration": 7,
    "start_time": "2022-02-02T13:13:56.666Z"
   },
   {
    "duration": 61,
    "start_time": "2022-02-02T13:13:59.214Z"
   },
   {
    "duration": 6,
    "start_time": "2022-02-02T13:14:01.241Z"
   },
   {
    "duration": 12,
    "start_time": "2022-02-02T13:14:04.645Z"
   },
   {
    "duration": 136,
    "start_time": "2022-02-02T13:19:35.164Z"
   },
   {
    "duration": 108,
    "start_time": "2022-02-02T13:20:36.680Z"
   },
   {
    "duration": 4,
    "start_time": "2022-02-02T13:21:07.027Z"
   },
   {
    "duration": 60,
    "start_time": "2022-02-02T13:21:08.434Z"
   },
   {
    "duration": 4,
    "start_time": "2022-02-02T13:21:11.053Z"
   },
   {
    "duration": 6,
    "start_time": "2022-02-02T13:21:12.013Z"
   },
   {
    "duration": 11,
    "start_time": "2022-02-02T13:21:21.179Z"
   },
   {
    "duration": 11,
    "start_time": "2022-02-02T13:21:44.300Z"
   },
   {
    "duration": 6,
    "start_time": "2022-02-02T13:30:15.687Z"
   },
   {
    "duration": 68,
    "start_time": "2022-02-02T13:30:16.961Z"
   },
   {
    "duration": 365,
    "start_time": "2022-02-02T13:30:18.138Z"
   },
   {
    "duration": 7,
    "start_time": "2022-02-02T13:30:18.872Z"
   },
   {
    "duration": 3,
    "start_time": "2022-02-02T13:30:27.206Z"
   },
   {
    "duration": 5,
    "start_time": "2022-02-02T13:30:46.099Z"
   },
   {
    "duration": 8533,
    "start_time": "2022-02-02T13:30:46.891Z"
   },
   {
    "duration": -185,
    "start_time": "2022-02-02T13:30:55.611Z"
   },
   {
    "duration": -189,
    "start_time": "2022-02-02T13:30:55.616Z"
   },
   {
    "duration": 5,
    "start_time": "2022-02-02T13:31:08.856Z"
   },
   {
    "duration": 8049,
    "start_time": "2022-02-02T13:31:11.959Z"
   },
   {
    "duration": 6,
    "start_time": "2022-02-02T13:31:56.074Z"
   },
   {
    "duration": 8694,
    "start_time": "2022-02-02T13:31:58.542Z"
   },
   {
    "duration": 4,
    "start_time": "2022-02-02T16:22:25.444Z"
   },
   {
    "duration": 5,
    "start_time": "2022-02-02T16:22:31.528Z"
   },
   {
    "duration": 8754,
    "start_time": "2022-02-02T16:22:32.536Z"
   },
   {
    "duration": 91,
    "start_time": "2022-02-02T16:23:50.092Z"
   },
   {
    "duration": 4,
    "start_time": "2022-02-02T16:24:04.947Z"
   },
   {
    "duration": 8118,
    "start_time": "2022-02-02T16:24:06.025Z"
   },
   {
    "duration": 1057,
    "start_time": "2022-02-02T16:24:27.162Z"
   },
   {
    "duration": 146,
    "start_time": "2022-02-02T16:24:28.221Z"
   },
   {
    "duration": 10,
    "start_time": "2022-02-02T16:24:28.369Z"
   },
   {
    "duration": 29,
    "start_time": "2022-02-02T16:24:28.381Z"
   },
   {
    "duration": 119,
    "start_time": "2022-02-02T16:24:28.411Z"
   },
   {
    "duration": 7,
    "start_time": "2022-02-02T16:24:28.532Z"
   },
   {
    "duration": 17,
    "start_time": "2022-02-02T16:24:28.541Z"
   },
   {
    "duration": 83,
    "start_time": "2022-02-02T16:24:28.560Z"
   },
   {
    "duration": 7,
    "start_time": "2022-02-02T16:24:28.645Z"
   },
   {
    "duration": 16,
    "start_time": "2022-02-02T16:24:28.653Z"
   },
   {
    "duration": 17,
    "start_time": "2022-02-02T16:24:28.670Z"
   },
   {
    "duration": 9,
    "start_time": "2022-02-02T16:24:28.688Z"
   },
   {
    "duration": 7,
    "start_time": "2022-02-02T16:24:28.699Z"
   },
   {
    "duration": 30,
    "start_time": "2022-02-02T16:24:28.707Z"
   },
   {
    "duration": 10,
    "start_time": "2022-02-02T16:24:28.738Z"
   },
   {
    "duration": 7,
    "start_time": "2022-02-02T16:24:28.749Z"
   },
   {
    "duration": 8,
    "start_time": "2022-02-02T16:24:28.758Z"
   },
   {
    "duration": 4,
    "start_time": "2022-02-02T16:24:28.767Z"
   },
   {
    "duration": 5,
    "start_time": "2022-02-02T16:24:28.773Z"
   },
   {
    "duration": 28,
    "start_time": "2022-02-02T16:24:28.779Z"
   },
   {
    "duration": 37,
    "start_time": "2022-02-02T16:24:28.809Z"
   },
   {
    "duration": 15,
    "start_time": "2022-02-02T16:24:28.848Z"
   },
   {
    "duration": 13,
    "start_time": "2022-02-02T16:24:28.866Z"
   },
   {
    "duration": 19,
    "start_time": "2022-02-02T16:24:28.881Z"
   },
   {
    "duration": 32,
    "start_time": "2022-02-02T16:24:28.901Z"
   },
   {
    "duration": 14,
    "start_time": "2022-02-02T16:24:28.935Z"
   },
   {
    "duration": 27,
    "start_time": "2022-02-02T16:24:28.951Z"
   },
   {
    "duration": 3,
    "start_time": "2022-02-02T16:24:28.979Z"
   },
   {
    "duration": 17,
    "start_time": "2022-02-02T16:24:28.983Z"
   },
   {
    "duration": 25,
    "start_time": "2022-02-02T16:24:29.002Z"
   },
   {
    "duration": 14,
    "start_time": "2022-02-02T16:24:29.029Z"
   },
   {
    "duration": 16,
    "start_time": "2022-02-02T16:24:29.044Z"
   },
   {
    "duration": 5,
    "start_time": "2022-02-02T16:24:29.062Z"
   },
   {
    "duration": 12,
    "start_time": "2022-02-02T16:24:29.068Z"
   },
   {
    "duration": 12,
    "start_time": "2022-02-02T16:24:29.082Z"
   },
   {
    "duration": 9,
    "start_time": "2022-02-02T16:24:29.128Z"
   },
   {
    "duration": 21,
    "start_time": "2022-02-02T16:24:29.139Z"
   },
   {
    "duration": 5,
    "start_time": "2022-02-02T16:24:29.161Z"
   },
   {
    "duration": 12,
    "start_time": "2022-02-02T16:24:29.167Z"
   },
   {
    "duration": 7,
    "start_time": "2022-02-02T16:24:29.180Z"
   },
   {
    "duration": 3,
    "start_time": "2022-02-02T16:24:29.188Z"
   },
   {
    "duration": 35,
    "start_time": "2022-02-02T16:24:29.192Z"
   },
   {
    "duration": 13,
    "start_time": "2022-02-02T16:24:29.229Z"
   },
   {
    "duration": 5,
    "start_time": "2022-02-02T16:24:29.243Z"
   },
   {
    "duration": 4,
    "start_time": "2022-02-02T16:24:29.250Z"
   },
   {
    "duration": 17,
    "start_time": "2022-02-02T16:24:29.256Z"
   },
   {
    "duration": 6,
    "start_time": "2022-02-02T16:24:29.274Z"
   },
   {
    "duration": 8862,
    "start_time": "2022-02-02T16:24:29.282Z"
   },
   {
    "duration": 90,
    "start_time": "2022-02-02T16:24:38.055Z"
   },
   {
    "duration": 86,
    "start_time": "2022-02-02T16:24:38.060Z"
   },
   {
    "duration": 81,
    "start_time": "2022-02-02T16:24:38.066Z"
   },
   {
    "duration": 5,
    "start_time": "2022-02-02T16:25:22.019Z"
   },
   {
    "duration": 8355,
    "start_time": "2022-02-02T16:25:23.791Z"
   },
   {
    "duration": 3,
    "start_time": "2022-02-02T16:26:02.236Z"
   },
   {
    "duration": 11,
    "start_time": "2022-02-02T16:26:03.033Z"
   },
   {
    "duration": 4,
    "start_time": "2022-02-02T16:26:53.408Z"
   },
   {
    "duration": 9147,
    "start_time": "2022-02-02T16:26:55.870Z"
   },
   {
    "duration": 4,
    "start_time": "2022-02-02T16:28:49.555Z"
   },
   {
    "duration": 89,
    "start_time": "2022-02-02T16:28:51.217Z"
   },
   {
    "duration": 5,
    "start_time": "2022-02-02T16:28:56.152Z"
   },
   {
    "duration": 11,
    "start_time": "2022-02-02T16:29:14.914Z"
   },
   {
    "duration": 9,
    "start_time": "2022-02-02T16:30:16.647Z"
   },
   {
    "duration": 6,
    "start_time": "2022-02-02T16:30:47.276Z"
   },
   {
    "duration": 10,
    "start_time": "2022-02-02T16:31:01.120Z"
   },
   {
    "duration": 4,
    "start_time": "2022-02-02T16:32:17.652Z"
   },
   {
    "duration": 88,
    "start_time": "2022-02-02T16:32:18.501Z"
   },
   {
    "duration": 7,
    "start_time": "2022-02-02T16:32:21.895Z"
   },
   {
    "duration": 11,
    "start_time": "2022-02-02T16:32:33.713Z"
   },
   {
    "duration": 110,
    "start_time": "2022-02-02T16:32:52.828Z"
   },
   {
    "duration": 6,
    "start_time": "2022-02-02T16:42:06.248Z"
   },
   {
    "duration": 96,
    "start_time": "2022-02-02T16:42:11.105Z"
   },
   {
    "duration": 8,
    "start_time": "2022-02-02T16:42:14.041Z"
   },
   {
    "duration": 10,
    "start_time": "2022-02-02T16:42:22.655Z"
   },
   {
    "duration": 14,
    "start_time": "2022-02-02T16:42:47.845Z"
   },
   {
    "duration": 13,
    "start_time": "2022-02-02T16:43:24.368Z"
   },
   {
    "duration": 11,
    "start_time": "2022-02-02T16:43:38.893Z"
   },
   {
    "duration": 11,
    "start_time": "2022-02-02T16:43:56.255Z"
   },
   {
    "duration": 11,
    "start_time": "2022-02-02T16:44:34.457Z"
   },
   {
    "duration": 12,
    "start_time": "2022-02-02T16:45:01.698Z"
   },
   {
    "duration": 13,
    "start_time": "2022-02-02T16:45:09.501Z"
   },
   {
    "duration": 10,
    "start_time": "2022-02-02T16:45:32.814Z"
   },
   {
    "duration": 8,
    "start_time": "2022-02-02T16:45:52.601Z"
   },
   {
    "duration": 6,
    "start_time": "2022-02-02T16:46:08.258Z"
   },
   {
    "duration": 10,
    "start_time": "2022-02-02T16:47:28.720Z"
   },
   {
    "duration": 12,
    "start_time": "2022-02-02T16:47:29.722Z"
   },
   {
    "duration": 9,
    "start_time": "2022-02-02T16:47:31.682Z"
   },
   {
    "duration": 19,
    "start_time": "2022-02-02T16:47:33.222Z"
   },
   {
    "duration": 4,
    "start_time": "2022-02-02T16:51:52.148Z"
   },
   {
    "duration": 9268,
    "start_time": "2022-02-02T16:51:56.359Z"
   },
   {
    "duration": 58,
    "start_time": "2022-02-02T16:52:05.571Z"
   },
   {
    "duration": 5,
    "start_time": "2022-02-02T16:52:52.400Z"
   },
   {
    "duration": 8703,
    "start_time": "2022-02-02T16:52:53.413Z"
   },
   {
    "duration": 4,
    "start_time": "2022-02-02T16:53:58.574Z"
   },
   {
    "duration": 8631,
    "start_time": "2022-02-02T16:54:01.531Z"
   },
   {
    "duration": 5,
    "start_time": "2022-02-02T16:55:00.322Z"
   },
   {
    "duration": 8368,
    "start_time": "2022-02-02T16:55:01.304Z"
   },
   {
    "duration": 4,
    "start_time": "2022-02-02T16:55:30.479Z"
   },
   {
    "duration": 8246,
    "start_time": "2022-02-02T16:55:31.144Z"
   },
   {
    "duration": 1074,
    "start_time": "2022-02-02T16:55:46.046Z"
   },
   {
    "duration": 137,
    "start_time": "2022-02-02T16:55:47.122Z"
   },
   {
    "duration": 9,
    "start_time": "2022-02-02T16:55:47.261Z"
   },
   {
    "duration": 19,
    "start_time": "2022-02-02T16:55:47.272Z"
   },
   {
    "duration": 114,
    "start_time": "2022-02-02T16:55:47.293Z"
   },
   {
    "duration": 7,
    "start_time": "2022-02-02T16:55:47.409Z"
   },
   {
    "duration": 24,
    "start_time": "2022-02-02T16:55:47.417Z"
   },
   {
    "duration": 84,
    "start_time": "2022-02-02T16:55:47.443Z"
   },
   {
    "duration": 6,
    "start_time": "2022-02-02T16:55:47.529Z"
   },
   {
    "duration": 15,
    "start_time": "2022-02-02T16:55:47.536Z"
   },
   {
    "duration": 15,
    "start_time": "2022-02-02T16:55:47.552Z"
   },
   {
    "duration": 7,
    "start_time": "2022-02-02T16:55:47.569Z"
   },
   {
    "duration": 7,
    "start_time": "2022-02-02T16:55:47.578Z"
   },
   {
    "duration": 38,
    "start_time": "2022-02-02T16:55:47.586Z"
   },
   {
    "duration": 8,
    "start_time": "2022-02-02T16:55:47.626Z"
   },
   {
    "duration": 7,
    "start_time": "2022-02-02T16:55:47.636Z"
   },
   {
    "duration": 5,
    "start_time": "2022-02-02T16:55:47.645Z"
   },
   {
    "duration": 4,
    "start_time": "2022-02-02T16:55:47.652Z"
   },
   {
    "duration": 5,
    "start_time": "2022-02-02T16:55:47.658Z"
   },
   {
    "duration": 29,
    "start_time": "2022-02-02T16:55:47.664Z"
   },
   {
    "duration": 48,
    "start_time": "2022-02-02T16:55:47.695Z"
   },
   {
    "duration": 15,
    "start_time": "2022-02-02T16:55:47.745Z"
   },
   {
    "duration": 13,
    "start_time": "2022-02-02T16:55:47.763Z"
   },
   {
    "duration": 20,
    "start_time": "2022-02-02T16:55:47.778Z"
   },
   {
    "duration": 37,
    "start_time": "2022-02-02T16:55:47.800Z"
   },
   {
    "duration": 15,
    "start_time": "2022-02-02T16:55:47.838Z"
   },
   {
    "duration": 26,
    "start_time": "2022-02-02T16:55:47.854Z"
   },
   {
    "duration": 3,
    "start_time": "2022-02-02T16:55:47.881Z"
   },
   {
    "duration": 14,
    "start_time": "2022-02-02T16:55:47.885Z"
   },
   {
    "duration": 30,
    "start_time": "2022-02-02T16:55:47.900Z"
   },
   {
    "duration": 20,
    "start_time": "2022-02-02T16:55:47.932Z"
   },
   {
    "duration": 17,
    "start_time": "2022-02-02T16:55:47.954Z"
   },
   {
    "duration": 5,
    "start_time": "2022-02-02T16:55:47.973Z"
   },
   {
    "duration": 11,
    "start_time": "2022-02-02T16:55:47.980Z"
   },
   {
    "duration": 11,
    "start_time": "2022-02-02T16:55:47.992Z"
   },
   {
    "duration": 8,
    "start_time": "2022-02-02T16:55:48.027Z"
   },
   {
    "duration": 19,
    "start_time": "2022-02-02T16:55:48.037Z"
   },
   {
    "duration": 5,
    "start_time": "2022-02-02T16:55:48.057Z"
   },
   {
    "duration": 11,
    "start_time": "2022-02-02T16:55:48.063Z"
   },
   {
    "duration": 7,
    "start_time": "2022-02-02T16:55:48.076Z"
   },
   {
    "duration": 2,
    "start_time": "2022-02-02T16:55:48.085Z"
   },
   {
    "duration": 6,
    "start_time": "2022-02-02T16:55:48.088Z"
   },
   {
    "duration": 38,
    "start_time": "2022-02-02T16:55:48.095Z"
   },
   {
    "duration": 4,
    "start_time": "2022-02-02T16:55:48.134Z"
   },
   {
    "duration": 6,
    "start_time": "2022-02-02T16:55:48.139Z"
   },
   {
    "duration": 6,
    "start_time": "2022-02-02T16:55:48.146Z"
   },
   {
    "duration": 14,
    "start_time": "2022-02-02T16:55:48.153Z"
   },
   {
    "duration": 5,
    "start_time": "2022-02-02T16:55:48.168Z"
   },
   {
    "duration": 113,
    "start_time": "2022-02-02T16:55:48.174Z"
   },
   {
    "duration": 2,
    "start_time": "2022-02-02T16:55:48.288Z"
   },
   {
    "duration": 8,
    "start_time": "2022-02-02T16:55:48.292Z"
   },
   {
    "duration": 8,
    "start_time": "2022-02-02T16:55:48.301Z"
   },
   {
    "duration": 16,
    "start_time": "2022-02-02T16:56:16.323Z"
   },
   {
    "duration": 15,
    "start_time": "2022-02-02T16:56:40.933Z"
   },
   {
    "duration": 4,
    "start_time": "2022-02-02T16:57:04.416Z"
   },
   {
    "duration": 72,
    "start_time": "2022-02-02T16:57:05.398Z"
   },
   {
    "duration": 7,
    "start_time": "2022-02-02T16:57:12.540Z"
   },
   {
    "duration": 10,
    "start_time": "2022-02-02T16:57:25.414Z"
   },
   {
    "duration": 10,
    "start_time": "2022-02-02T16:57:39.436Z"
   },
   {
    "duration": 5,
    "start_time": "2022-02-02T16:59:31.506Z"
   },
   {
    "duration": 88,
    "start_time": "2022-02-02T16:59:32.108Z"
   },
   {
    "duration": 2,
    "start_time": "2022-02-02T16:59:33.227Z"
   },
   {
    "duration": 6,
    "start_time": "2022-02-02T16:59:33.923Z"
   },
   {
    "duration": 7,
    "start_time": "2022-02-02T16:59:51.840Z"
   },
   {
    "duration": 11,
    "start_time": "2022-02-02T17:00:06.390Z"
   },
   {
    "duration": 11,
    "start_time": "2022-02-02T17:00:21.594Z"
   },
   {
    "duration": 10,
    "start_time": "2022-02-02T17:00:42.011Z"
   },
   {
    "duration": 1179,
    "start_time": "2022-02-03T07:39:01.887Z"
   },
   {
    "duration": 168,
    "start_time": "2022-02-03T07:39:03.069Z"
   },
   {
    "duration": 12,
    "start_time": "2022-02-03T07:39:03.239Z"
   },
   {
    "duration": 26,
    "start_time": "2022-02-03T07:39:03.253Z"
   },
   {
    "duration": 147,
    "start_time": "2022-02-03T07:39:03.281Z"
   },
   {
    "duration": 9,
    "start_time": "2022-02-03T07:39:03.430Z"
   },
   {
    "duration": 21,
    "start_time": "2022-02-03T07:39:03.441Z"
   },
   {
    "duration": 96,
    "start_time": "2022-02-03T07:39:03.465Z"
   },
   {
    "duration": 8,
    "start_time": "2022-02-03T07:39:03.563Z"
   },
   {
    "duration": 30,
    "start_time": "2022-02-03T07:39:03.573Z"
   },
   {
    "duration": 15,
    "start_time": "2022-02-03T07:39:03.604Z"
   },
   {
    "duration": 21,
    "start_time": "2022-02-03T07:39:03.621Z"
   },
   {
    "duration": 23,
    "start_time": "2022-02-03T07:39:03.644Z"
   },
   {
    "duration": 35,
    "start_time": "2022-02-03T07:39:03.669Z"
   },
   {
    "duration": 11,
    "start_time": "2022-02-03T07:39:03.706Z"
   },
   {
    "duration": 9,
    "start_time": "2022-02-03T07:39:03.719Z"
   },
   {
    "duration": 12,
    "start_time": "2022-02-03T07:39:03.730Z"
   },
   {
    "duration": 5,
    "start_time": "2022-02-03T07:39:03.744Z"
   },
   {
    "duration": 8,
    "start_time": "2022-02-03T07:39:03.751Z"
   },
   {
    "duration": 48,
    "start_time": "2022-02-03T07:39:03.761Z"
   },
   {
    "duration": 24,
    "start_time": "2022-02-03T07:39:03.811Z"
   },
   {
    "duration": 20,
    "start_time": "2022-02-03T07:39:03.837Z"
   },
   {
    "duration": 37,
    "start_time": "2022-02-03T07:39:03.861Z"
   },
   {
    "duration": 26,
    "start_time": "2022-02-03T07:39:03.901Z"
   },
   {
    "duration": 21,
    "start_time": "2022-02-03T07:39:03.929Z"
   },
   {
    "duration": 18,
    "start_time": "2022-02-03T07:39:03.952Z"
   },
   {
    "duration": 57,
    "start_time": "2022-02-03T07:39:03.971Z"
   },
   {
    "duration": 3,
    "start_time": "2022-02-03T07:39:04.030Z"
   },
   {
    "duration": 20,
    "start_time": "2022-02-03T07:39:04.035Z"
   },
   {
    "duration": 12,
    "start_time": "2022-02-03T07:39:04.056Z"
   },
   {
    "duration": 45,
    "start_time": "2022-02-03T07:39:04.070Z"
   },
   {
    "duration": 19,
    "start_time": "2022-02-03T07:39:04.117Z"
   },
   {
    "duration": 7,
    "start_time": "2022-02-03T07:39:04.138Z"
   },
   {
    "duration": 21,
    "start_time": "2022-02-03T07:39:04.152Z"
   },
   {
    "duration": 45,
    "start_time": "2022-02-03T07:39:04.176Z"
   },
   {
    "duration": 10,
    "start_time": "2022-02-03T07:39:04.223Z"
   },
   {
    "duration": 25,
    "start_time": "2022-02-03T07:39:04.235Z"
   },
   {
    "duration": 6,
    "start_time": "2022-02-03T07:39:04.263Z"
   },
   {
    "duration": 38,
    "start_time": "2022-02-03T07:39:04.272Z"
   },
   {
    "duration": 4,
    "start_time": "2022-02-03T07:39:04.312Z"
   },
   {
    "duration": 5,
    "start_time": "2022-02-03T07:39:04.318Z"
   },
   {
    "duration": 5,
    "start_time": "2022-02-03T07:39:04.325Z"
   },
   {
    "duration": 16,
    "start_time": "2022-02-03T07:39:04.332Z"
   },
   {
    "duration": 6,
    "start_time": "2022-02-03T07:39:04.350Z"
   },
   {
    "duration": 6,
    "start_time": "2022-02-03T07:39:04.358Z"
   },
   {
    "duration": 32,
    "start_time": "2022-02-03T07:39:04.366Z"
   },
   {
    "duration": 18,
    "start_time": "2022-02-03T07:39:04.400Z"
   },
   {
    "duration": 5,
    "start_time": "2022-02-03T07:39:04.420Z"
   },
   {
    "duration": 128,
    "start_time": "2022-02-03T07:39:04.427Z"
   },
   {
    "duration": 3,
    "start_time": "2022-02-03T07:39:04.557Z"
   },
   {
    "duration": 15,
    "start_time": "2022-02-03T07:39:04.562Z"
   },
   {
    "duration": 27,
    "start_time": "2022-02-03T07:39:04.579Z"
   },
   {
    "duration": 16,
    "start_time": "2022-02-03T07:40:38.086Z"
   },
   {
    "duration": 2,
    "start_time": "2022-02-03T07:40:41.480Z"
   },
   {
    "duration": 16,
    "start_time": "2022-02-03T07:40:42.058Z"
   },
   {
    "duration": 1237,
    "start_time": "2022-02-03T07:40:49.920Z"
   },
   {
    "duration": 161,
    "start_time": "2022-02-03T07:40:51.159Z"
   },
   {
    "duration": 11,
    "start_time": "2022-02-03T07:40:51.322Z"
   },
   {
    "duration": 26,
    "start_time": "2022-02-03T07:40:51.335Z"
   },
   {
    "duration": 139,
    "start_time": "2022-02-03T07:40:51.363Z"
   },
   {
    "duration": 9,
    "start_time": "2022-02-03T07:40:51.504Z"
   },
   {
    "duration": 24,
    "start_time": "2022-02-03T07:40:51.515Z"
   },
   {
    "duration": 101,
    "start_time": "2022-02-03T07:40:51.542Z"
   },
   {
    "duration": 7,
    "start_time": "2022-02-03T07:40:51.646Z"
   },
   {
    "duration": 20,
    "start_time": "2022-02-03T07:40:51.655Z"
   },
   {
    "duration": 20,
    "start_time": "2022-02-03T07:40:51.678Z"
   },
   {
    "duration": 8,
    "start_time": "2022-02-03T07:40:51.700Z"
   },
   {
    "duration": 8,
    "start_time": "2022-02-03T07:40:51.710Z"
   },
   {
    "duration": 31,
    "start_time": "2022-02-03T07:40:51.720Z"
   },
   {
    "duration": 14,
    "start_time": "2022-02-03T07:40:51.753Z"
   },
   {
    "duration": 8,
    "start_time": "2022-02-03T07:40:51.769Z"
   },
   {
    "duration": 8,
    "start_time": "2022-02-03T07:40:51.779Z"
   },
   {
    "duration": 10,
    "start_time": "2022-02-03T07:40:51.789Z"
   },
   {
    "duration": 6,
    "start_time": "2022-02-03T07:40:51.801Z"
   },
   {
    "duration": 34,
    "start_time": "2022-02-03T07:40:51.809Z"
   },
   {
    "duration": 25,
    "start_time": "2022-02-03T07:40:51.845Z"
   },
   {
    "duration": 41,
    "start_time": "2022-02-03T07:40:51.872Z"
   },
   {
    "duration": 16,
    "start_time": "2022-02-03T07:40:51.917Z"
   },
   {
    "duration": 24,
    "start_time": "2022-02-03T07:40:51.935Z"
   },
   {
    "duration": 41,
    "start_time": "2022-02-03T07:40:51.961Z"
   },
   {
    "duration": 17,
    "start_time": "2022-02-03T07:40:52.003Z"
   },
   {
    "duration": 31,
    "start_time": "2022-02-03T07:40:52.022Z"
   },
   {
    "duration": 3,
    "start_time": "2022-02-03T07:40:52.054Z"
   },
   {
    "duration": 40,
    "start_time": "2022-02-03T07:40:52.059Z"
   },
   {
    "duration": 11,
    "start_time": "2022-02-03T07:40:52.101Z"
   },
   {
    "duration": 22,
    "start_time": "2022-02-03T07:40:52.114Z"
   },
   {
    "duration": 19,
    "start_time": "2022-02-03T07:40:52.138Z"
   },
   {
    "duration": 6,
    "start_time": "2022-02-03T07:40:52.159Z"
   },
   {
    "duration": 39,
    "start_time": "2022-02-03T07:40:52.167Z"
   },
   {
    "duration": 13,
    "start_time": "2022-02-03T07:40:52.208Z"
   },
   {
    "duration": 10,
    "start_time": "2022-02-03T07:40:52.223Z"
   },
   {
    "duration": 23,
    "start_time": "2022-02-03T07:40:52.234Z"
   },
   {
    "duration": 2,
    "start_time": "2022-02-03T07:40:52.259Z"
   },
   {
    "duration": 52,
    "start_time": "2022-02-03T07:40:52.263Z"
   },
   {
    "duration": 5,
    "start_time": "2022-02-03T07:40:52.316Z"
   },
   {
    "duration": 4,
    "start_time": "2022-02-03T07:40:52.322Z"
   },
   {
    "duration": 2044,
    "start_time": "2022-02-03T07:40:52.327Z"
   },
   {
    "duration": 547,
    "start_time": "2022-02-03T07:40:53.826Z"
   },
   {
    "duration": 543,
    "start_time": "2022-02-03T07:40:53.831Z"
   },
   {
    "duration": 540,
    "start_time": "2022-02-03T07:40:53.836Z"
   },
   {
    "duration": 537,
    "start_time": "2022-02-03T07:40:53.840Z"
   },
   {
    "duration": 533,
    "start_time": "2022-02-03T07:40:53.845Z"
   },
   {
    "duration": 527,
    "start_time": "2022-02-03T07:40:53.852Z"
   },
   {
    "duration": 524,
    "start_time": "2022-02-03T07:40:53.856Z"
   },
   {
    "duration": 520,
    "start_time": "2022-02-03T07:40:53.861Z"
   },
   {
    "duration": 517,
    "start_time": "2022-02-03T07:40:53.865Z"
   },
   {
    "duration": 513,
    "start_time": "2022-02-03T07:40:53.870Z"
   },
   {
    "duration": 6,
    "start_time": "2022-02-03T07:41:33.944Z"
   },
   {
    "duration": 17,
    "start_time": "2022-02-03T07:41:34.649Z"
   },
   {
    "duration": 4,
    "start_time": "2022-02-03T07:42:10.791Z"
   },
   {
    "duration": 15,
    "start_time": "2022-02-03T07:42:13.523Z"
   },
   {
    "duration": 3,
    "start_time": "2022-02-03T07:42:31.626Z"
   },
   {
    "duration": 4,
    "start_time": "2022-02-03T07:42:32.077Z"
   },
   {
    "duration": 5,
    "start_time": "2022-02-03T07:42:32.459Z"
   },
   {
    "duration": 16,
    "start_time": "2022-02-03T07:42:32.901Z"
   },
   {
    "duration": 5,
    "start_time": "2022-02-03T07:54:51.429Z"
   },
   {
    "duration": 129,
    "start_time": "2022-02-03T07:54:52.478Z"
   },
   {
    "duration": 11,
    "start_time": "2022-02-03T07:54:55.300Z"
   },
   {
    "duration": 14,
    "start_time": "2022-02-03T07:55:08.131Z"
   },
   {
    "duration": 123,
    "start_time": "2022-02-03T07:56:25.299Z"
   },
   {
    "duration": 14,
    "start_time": "2022-02-03T07:59:03.611Z"
   },
   {
    "duration": 15,
    "start_time": "2022-02-03T07:59:04.954Z"
   },
   {
    "duration": 10,
    "start_time": "2022-02-03T07:59:15.356Z"
   },
   {
    "duration": 23,
    "start_time": "2022-02-03T07:59:16.580Z"
   },
   {
    "duration": 6,
    "start_time": "2022-02-03T07:59:22.721Z"
   },
   {
    "duration": 19,
    "start_time": "2022-02-03T07:59:23.388Z"
   },
   {
    "duration": 3,
    "start_time": "2022-02-03T07:59:26.329Z"
   },
   {
    "duration": 3,
    "start_time": "2022-02-03T07:59:27.185Z"
   },
   {
    "duration": 3,
    "start_time": "2022-02-03T07:59:28.639Z"
   },
   {
    "duration": 16,
    "start_time": "2022-02-03T07:59:29.884Z"
   },
   {
    "duration": 3,
    "start_time": "2022-02-03T07:59:33.208Z"
   },
   {
    "duration": 4,
    "start_time": "2022-02-03T07:59:34.100Z"
   },
   {
    "duration": 3,
    "start_time": "2022-02-03T07:59:34.676Z"
   },
   {
    "duration": 15,
    "start_time": "2022-02-03T07:59:37.392Z"
   },
   {
    "duration": 6,
    "start_time": "2022-02-03T07:59:43.189Z"
   },
   {
    "duration": 124,
    "start_time": "2022-02-03T07:59:43.661Z"
   },
   {
    "duration": 20,
    "start_time": "2022-02-03T07:59:49.315Z"
   },
   {
    "duration": 311,
    "start_time": "2022-02-03T08:03:59.175Z"
   },
   {
    "duration": 6,
    "start_time": "2022-02-03T08:04:11.680Z"
   },
   {
    "duration": 18,
    "start_time": "2022-02-03T08:04:17.243Z"
   },
   {
    "duration": 6,
    "start_time": "2022-02-03T08:04:50.897Z"
   },
   {
    "duration": 526,
    "start_time": "2022-02-03T08:09:03.724Z"
   },
   {
    "duration": 4,
    "start_time": "2022-02-03T08:11:15.329Z"
   },
   {
    "duration": 86,
    "start_time": "2022-02-03T08:13:09.997Z"
   },
   {
    "duration": 70,
    "start_time": "2022-02-03T08:13:21.963Z"
   },
   {
    "duration": 218,
    "start_time": "2022-02-03T08:13:25.171Z"
   },
   {
    "duration": 5303,
    "start_time": "2022-02-03T08:13:33.562Z"
   },
   {
    "duration": 11,
    "start_time": "2022-02-03T08:13:57.166Z"
   },
   {
    "duration": 79,
    "start_time": "2022-02-03T08:14:43.689Z"
   },
   {
    "duration": 221,
    "start_time": "2022-02-03T08:14:48.566Z"
   },
   {
    "duration": 13,
    "start_time": "2022-02-03T08:15:18.415Z"
   },
   {
    "duration": 685,
    "start_time": "2022-02-03T08:17:15.814Z"
   },
   {
    "duration": 6,
    "start_time": "2022-02-03T08:17:21.640Z"
   },
   {
    "duration": 6,
    "start_time": "2022-02-03T08:17:22.120Z"
   },
   {
    "duration": 522,
    "start_time": "2022-02-03T08:17:22.774Z"
   },
   {
    "duration": 10,
    "start_time": "2022-02-03T08:18:05.089Z"
   },
   {
    "duration": 1227,
    "start_time": "2022-02-03T08:18:56.325Z"
   },
   {
    "duration": 184,
    "start_time": "2022-02-03T08:18:57.554Z"
   },
   {
    "duration": 13,
    "start_time": "2022-02-03T08:18:57.740Z"
   },
   {
    "duration": 25,
    "start_time": "2022-02-03T08:18:57.755Z"
   },
   {
    "duration": 140,
    "start_time": "2022-02-03T08:18:57.782Z"
   },
   {
    "duration": 8,
    "start_time": "2022-02-03T08:18:57.924Z"
   },
   {
    "duration": 22,
    "start_time": "2022-02-03T08:18:57.934Z"
   },
   {
    "duration": 103,
    "start_time": "2022-02-03T08:18:57.959Z"
   },
   {
    "duration": 8,
    "start_time": "2022-02-03T08:18:58.064Z"
   },
   {
    "duration": 30,
    "start_time": "2022-02-03T08:18:58.073Z"
   },
   {
    "duration": 17,
    "start_time": "2022-02-03T08:18:58.104Z"
   },
   {
    "duration": 23,
    "start_time": "2022-02-03T08:18:58.123Z"
   },
   {
    "duration": 8,
    "start_time": "2022-02-03T08:18:58.148Z"
   },
   {
    "duration": 29,
    "start_time": "2022-02-03T08:18:58.158Z"
   },
   {
    "duration": 19,
    "start_time": "2022-02-03T08:18:58.189Z"
   },
   {
    "duration": 9,
    "start_time": "2022-02-03T08:18:58.210Z"
   },
   {
    "duration": 10,
    "start_time": "2022-02-03T08:18:58.221Z"
   },
   {
    "duration": 5,
    "start_time": "2022-02-03T08:18:58.233Z"
   },
   {
    "duration": 8,
    "start_time": "2022-02-03T08:18:58.239Z"
   },
   {
    "duration": 50,
    "start_time": "2022-02-03T08:18:58.249Z"
   },
   {
    "duration": 25,
    "start_time": "2022-02-03T08:18:58.301Z"
   },
   {
    "duration": 19,
    "start_time": "2022-02-03T08:18:58.328Z"
   },
   {
    "duration": 16,
    "start_time": "2022-02-03T08:18:58.351Z"
   },
   {
    "duration": 43,
    "start_time": "2022-02-03T08:18:58.369Z"
   },
   {
    "duration": 20,
    "start_time": "2022-02-03T08:18:58.413Z"
   },
   {
    "duration": 16,
    "start_time": "2022-02-03T08:18:58.434Z"
   },
   {
    "duration": 55,
    "start_time": "2022-02-03T08:18:58.452Z"
   },
   {
    "duration": 3,
    "start_time": "2022-02-03T08:18:58.509Z"
   },
   {
    "duration": 16,
    "start_time": "2022-02-03T08:18:58.514Z"
   },
   {
    "duration": 17,
    "start_time": "2022-02-03T08:18:58.532Z"
   },
   {
    "duration": 20,
    "start_time": "2022-02-03T08:18:58.551Z"
   },
   {
    "duration": 38,
    "start_time": "2022-02-03T08:18:58.572Z"
   },
   {
    "duration": 14,
    "start_time": "2022-02-03T08:18:58.612Z"
   },
   {
    "duration": 10,
    "start_time": "2022-02-03T08:18:58.627Z"
   },
   {
    "duration": 22,
    "start_time": "2022-02-03T08:18:58.639Z"
   },
   {
    "duration": 36,
    "start_time": "2022-02-03T08:18:58.663Z"
   },
   {
    "duration": 18,
    "start_time": "2022-02-03T08:18:58.701Z"
   },
   {
    "duration": 4,
    "start_time": "2022-02-03T08:18:58.721Z"
   },
   {
    "duration": 4,
    "start_time": "2022-02-03T08:18:58.727Z"
   },
   {
    "duration": 6,
    "start_time": "2022-02-03T08:18:58.732Z"
   },
   {
    "duration": 17,
    "start_time": "2022-02-03T08:18:58.740Z"
   },
   {
    "duration": 5,
    "start_time": "2022-02-03T08:18:58.758Z"
   },
   {
    "duration": 6,
    "start_time": "2022-02-03T08:18:58.764Z"
   },
   {
    "duration": 3,
    "start_time": "2022-02-03T08:18:58.799Z"
   },
   {
    "duration": 19,
    "start_time": "2022-02-03T08:18:58.804Z"
   },
   {
    "duration": 5,
    "start_time": "2022-02-03T08:18:58.825Z"
   },
   {
    "duration": 142,
    "start_time": "2022-02-03T08:18:58.832Z"
   },
   {
    "duration": 11,
    "start_time": "2022-02-03T08:18:58.976Z"
   },
   {
    "duration": 24,
    "start_time": "2022-02-03T08:18:58.989Z"
   },
   {
    "duration": 10,
    "start_time": "2022-02-03T08:18:59.015Z"
   },
   {
    "duration": 8,
    "start_time": "2022-02-03T08:18:59.026Z"
   },
   {
    "duration": 10,
    "start_time": "2022-02-03T08:18:59.036Z"
   },
   {
    "duration": 5,
    "start_time": "2022-02-03T08:18:59.048Z"
   },
   {
    "duration": 553,
    "start_time": "2022-02-03T08:18:59.055Z"
   },
   {
    "duration": 511,
    "start_time": "2022-02-03T08:19:19.399Z"
   },
   {
    "duration": 529,
    "start_time": "2022-02-03T08:21:45.698Z"
   },
   {
    "duration": 11,
    "start_time": "2022-02-03T08:22:35.417Z"
   },
   {
    "duration": 791,
    "start_time": "2022-02-03T08:22:36.442Z"
   },
   {
    "duration": 767,
    "start_time": "2022-02-03T08:23:04.405Z"
   },
   {
    "duration": 1121,
    "start_time": "2022-02-03T08:23:16.225Z"
   },
   {
    "duration": 162,
    "start_time": "2022-02-03T08:23:17.349Z"
   },
   {
    "duration": 11,
    "start_time": "2022-02-03T08:23:17.513Z"
   },
   {
    "duration": 36,
    "start_time": "2022-02-03T08:23:17.526Z"
   },
   {
    "duration": 152,
    "start_time": "2022-02-03T08:23:17.564Z"
   },
   {
    "duration": 10,
    "start_time": "2022-02-03T08:23:17.718Z"
   },
   {
    "duration": 36,
    "start_time": "2022-02-03T08:23:17.729Z"
   },
   {
    "duration": 91,
    "start_time": "2022-02-03T08:23:17.768Z"
   },
   {
    "duration": 7,
    "start_time": "2022-02-03T08:23:17.861Z"
   },
   {
    "duration": 23,
    "start_time": "2022-02-03T08:23:17.870Z"
   },
   {
    "duration": 17,
    "start_time": "2022-02-03T08:23:17.895Z"
   },
   {
    "duration": 18,
    "start_time": "2022-02-03T08:23:17.914Z"
   },
   {
    "duration": 25,
    "start_time": "2022-02-03T08:23:17.934Z"
   },
   {
    "duration": 49,
    "start_time": "2022-02-03T08:23:17.961Z"
   },
   {
    "duration": 14,
    "start_time": "2022-02-03T08:23:18.012Z"
   },
   {
    "duration": 24,
    "start_time": "2022-02-03T08:23:18.028Z"
   },
   {
    "duration": 14,
    "start_time": "2022-02-03T08:23:18.054Z"
   },
   {
    "duration": 18,
    "start_time": "2022-02-03T08:23:18.070Z"
   },
   {
    "duration": 9,
    "start_time": "2022-02-03T08:23:18.089Z"
   },
   {
    "duration": 66,
    "start_time": "2022-02-03T08:23:18.100Z"
   },
   {
    "duration": 26,
    "start_time": "2022-02-03T08:23:18.168Z"
   },
   {
    "duration": 19,
    "start_time": "2022-02-03T08:23:18.196Z"
   },
   {
    "duration": 19,
    "start_time": "2022-02-03T08:23:18.219Z"
   },
   {
    "duration": 25,
    "start_time": "2022-02-03T08:23:18.240Z"
   },
   {
    "duration": 33,
    "start_time": "2022-02-03T08:23:18.267Z"
   },
   {
    "duration": 17,
    "start_time": "2022-02-03T08:23:18.301Z"
   },
   {
    "duration": 41,
    "start_time": "2022-02-03T08:23:18.319Z"
   },
   {
    "duration": 12,
    "start_time": "2022-02-03T08:23:18.362Z"
   },
   {
    "duration": 37,
    "start_time": "2022-02-03T08:23:18.376Z"
   },
   {
    "duration": 17,
    "start_time": "2022-02-03T08:23:18.415Z"
   },
   {
    "duration": 37,
    "start_time": "2022-02-03T08:23:18.434Z"
   },
   {
    "duration": 27,
    "start_time": "2022-02-03T08:23:18.473Z"
   },
   {
    "duration": 16,
    "start_time": "2022-02-03T08:23:18.502Z"
   },
   {
    "duration": 14,
    "start_time": "2022-02-03T08:23:18.520Z"
   },
   {
    "duration": 23,
    "start_time": "2022-02-03T08:23:18.536Z"
   },
   {
    "duration": 5,
    "start_time": "2022-02-03T08:23:18.561Z"
   },
   {
    "duration": 42,
    "start_time": "2022-02-03T08:23:18.567Z"
   },
   {
    "duration": 11,
    "start_time": "2022-02-03T08:23:18.611Z"
   },
   {
    "duration": 16,
    "start_time": "2022-02-03T08:23:18.623Z"
   },
   {
    "duration": 15,
    "start_time": "2022-02-03T08:23:18.640Z"
   },
   {
    "duration": 25,
    "start_time": "2022-02-03T08:23:18.657Z"
   },
   {
    "duration": 12,
    "start_time": "2022-02-03T08:23:18.684Z"
   },
   {
    "duration": 12,
    "start_time": "2022-02-03T08:23:18.698Z"
   },
   {
    "duration": 23,
    "start_time": "2022-02-03T08:23:18.711Z"
   },
   {
    "duration": 36,
    "start_time": "2022-02-03T08:23:18.736Z"
   },
   {
    "duration": 6,
    "start_time": "2022-02-03T08:23:18.773Z"
   },
   {
    "duration": 135,
    "start_time": "2022-02-03T08:23:18.781Z"
   },
   {
    "duration": 12,
    "start_time": "2022-02-03T08:23:18.918Z"
   },
   {
    "duration": 20,
    "start_time": "2022-02-03T08:23:18.932Z"
   },
   {
    "duration": 12,
    "start_time": "2022-02-03T08:23:18.954Z"
   },
   {
    "duration": 14,
    "start_time": "2022-02-03T08:23:18.968Z"
   },
   {
    "duration": 22,
    "start_time": "2022-02-03T08:23:18.984Z"
   },
   {
    "duration": 28,
    "start_time": "2022-02-03T08:23:19.008Z"
   },
   {
    "duration": 25,
    "start_time": "2022-02-03T08:23:19.037Z"
   },
   {
    "duration": 759,
    "start_time": "2022-02-03T08:23:19.064Z"
   },
   {
    "duration": 718,
    "start_time": "2022-02-03T08:23:19.825Z"
   },
   {
    "duration": 707,
    "start_time": "2022-02-03T08:24:20.677Z"
   },
   {
    "duration": 722,
    "start_time": "2022-02-03T08:25:23.086Z"
   },
   {
    "duration": 683,
    "start_time": "2022-02-03T08:25:56.597Z"
   },
   {
    "duration": 703,
    "start_time": "2022-02-03T08:26:04.975Z"
   },
   {
    "duration": 699,
    "start_time": "2022-02-03T08:27:02.387Z"
   },
   {
    "duration": 717,
    "start_time": "2022-02-03T08:27:10.689Z"
   },
   {
    "duration": 848,
    "start_time": "2022-02-03T08:27:29.960Z"
   },
   {
    "duration": 728,
    "start_time": "2022-02-03T08:27:39.363Z"
   },
   {
    "duration": 30,
    "start_time": "2022-02-03T08:29:47.540Z"
   },
   {
    "duration": 30,
    "start_time": "2022-02-03T08:30:29.436Z"
   },
   {
    "duration": 3,
    "start_time": "2022-02-03T08:51:34.446Z"
   },
   {
    "duration": 6,
    "start_time": "2022-02-03T08:54:35.506Z"
   },
   {
    "duration": 7,
    "start_time": "2022-02-03T08:55:17.154Z"
   },
   {
    "duration": 8,
    "start_time": "2022-02-03T08:59:58.011Z"
   },
   {
    "duration": 6,
    "start_time": "2022-02-03T09:01:39.142Z"
   },
   {
    "duration": 18,
    "start_time": "2022-02-03T09:01:39.832Z"
   },
   {
    "duration": 2,
    "start_time": "2022-02-03T09:01:46.050Z"
   },
   {
    "duration": 3,
    "start_time": "2022-02-03T09:01:46.244Z"
   },
   {
    "duration": 3,
    "start_time": "2022-02-03T09:01:46.439Z"
   },
   {
    "duration": 18,
    "start_time": "2022-02-03T09:01:46.653Z"
   },
   {
    "duration": 6,
    "start_time": "2022-02-03T09:01:47.058Z"
   },
   {
    "duration": 125,
    "start_time": "2022-02-03T09:01:47.834Z"
   },
   {
    "duration": 13,
    "start_time": "2022-02-03T09:01:48.111Z"
   },
   {
    "duration": 19,
    "start_time": "2022-02-03T09:01:48.660Z"
   },
   {
    "duration": 6,
    "start_time": "2022-02-03T09:01:49.610Z"
   },
   {
    "duration": 7,
    "start_time": "2022-02-03T09:01:49.930Z"
   },
   {
    "duration": 11,
    "start_time": "2022-02-03T09:01:50.189Z"
   },
   {
    "duration": 5,
    "start_time": "2022-02-03T09:01:50.416Z"
   },
   {
    "duration": 34,
    "start_time": "2022-02-03T09:01:50.632Z"
   },
   {
    "duration": 34,
    "start_time": "2022-02-03T09:01:51.097Z"
   },
   {
    "duration": 9,
    "start_time": "2022-02-03T09:01:51.359Z"
   },
   {
    "duration": 773,
    "start_time": "2022-02-03T09:01:52.169Z"
   },
   {
    "duration": 797,
    "start_time": "2022-02-03T09:01:52.944Z"
   },
   {
    "duration": 746,
    "start_time": "2022-02-03T09:01:53.743Z"
   },
   {
    "duration": 8,
    "start_time": "2022-02-03T09:02:05.273Z"
   },
   {
    "duration": 5,
    "start_time": "2022-02-03T09:05:18.490Z"
   },
   {
    "duration": 7,
    "start_time": "2022-02-03T09:07:06.134Z"
   },
   {
    "duration": 6,
    "start_time": "2022-02-03T09:08:11.142Z"
   },
   {
    "duration": 8,
    "start_time": "2022-02-03T09:08:11.825Z"
   },
   {
    "duration": 991,
    "start_time": "2022-02-03T09:08:20.503Z"
   },
   {
    "duration": 4,
    "start_time": "2022-02-03T09:08:52.905Z"
   },
   {
    "duration": 8,
    "start_time": "2022-02-03T09:08:54.561Z"
   },
   {
    "duration": 7,
    "start_time": "2022-02-03T09:10:52.582Z"
   },
   {
    "duration": 7,
    "start_time": "2022-02-03T09:10:52.889Z"
   },
   {
    "duration": 10,
    "start_time": "2022-02-03T09:10:53.129Z"
   },
   {
    "duration": 7,
    "start_time": "2022-02-03T09:10:53.477Z"
   },
   {
    "duration": 29,
    "start_time": "2022-02-03T09:10:54.036Z"
   },
   {
    "duration": 5,
    "start_time": "2022-02-03T09:10:56.077Z"
   },
   {
    "duration": 30,
    "start_time": "2022-02-03T09:10:56.542Z"
   },
   {
    "duration": 10,
    "start_time": "2022-02-03T09:10:57.048Z"
   },
   {
    "duration": 823,
    "start_time": "2022-02-03T09:10:57.599Z"
   },
   {
    "duration": 912,
    "start_time": "2022-02-03T09:10:58.424Z"
   },
   {
    "duration": 785,
    "start_time": "2022-02-03T09:10:59.338Z"
   },
   {
    "duration": 3,
    "start_time": "2022-02-03T09:11:01.464Z"
   },
   {
    "duration": 7,
    "start_time": "2022-02-03T09:11:01.942Z"
   },
   {
    "duration": 9,
    "start_time": "2022-02-03T09:11:03.150Z"
   },
   {
    "duration": 5,
    "start_time": "2022-02-03T09:12:30.189Z"
   },
   {
    "duration": 7,
    "start_time": "2022-02-03T09:12:53.828Z"
   },
   {
    "duration": 5,
    "start_time": "2022-02-03T09:13:03.392Z"
   },
   {
    "duration": 8,
    "start_time": "2022-02-03T09:13:37.203Z"
   },
   {
    "duration": 228,
    "start_time": "2022-02-03T09:13:53.402Z"
   },
   {
    "duration": 84,
    "start_time": "2022-02-03T09:24:24.641Z"
   },
   {
    "duration": 8,
    "start_time": "2022-02-03T09:24:40.076Z"
   },
   {
    "duration": 8,
    "start_time": "2022-02-03T09:25:00.693Z"
   },
   {
    "duration": 7,
    "start_time": "2022-02-03T09:25:07.856Z"
   },
   {
    "duration": 2,
    "start_time": "2022-02-03T09:32:16.885Z"
   },
   {
    "duration": 721,
    "start_time": "2022-02-03T09:33:01.519Z"
   },
   {
    "duration": 1013,
    "start_time": "2022-02-03T09:33:13.270Z"
   },
   {
    "duration": 938,
    "start_time": "2022-02-03T09:33:22.899Z"
   },
   {
    "duration": 675,
    "start_time": "2022-02-03T09:33:31.774Z"
   },
   {
    "duration": 615,
    "start_time": "2022-02-03T09:33:39.528Z"
   },
   {
    "duration": 631,
    "start_time": "2022-02-03T09:34:41.899Z"
   },
   {
    "duration": 605,
    "start_time": "2022-02-03T09:34:48.562Z"
   },
   {
    "duration": 725,
    "start_time": "2022-02-03T09:35:02.151Z"
   },
   {
    "duration": 722,
    "start_time": "2022-02-03T09:42:14.597Z"
   },
   {
    "duration": 166,
    "start_time": "2022-02-03T09:42:15.320Z"
   },
   {
    "duration": 14,
    "start_time": "2022-02-03T09:42:15.489Z"
   },
   {
    "duration": 31,
    "start_time": "2022-02-03T09:42:15.505Z"
   },
   {
    "duration": 150,
    "start_time": "2022-02-03T09:42:15.539Z"
   },
   {
    "duration": 10,
    "start_time": "2022-02-03T09:42:15.691Z"
   },
   {
    "duration": 24,
    "start_time": "2022-02-03T09:42:15.703Z"
   },
   {
    "duration": 97,
    "start_time": "2022-02-03T09:42:15.730Z"
   },
   {
    "duration": 8,
    "start_time": "2022-02-03T09:42:15.829Z"
   },
   {
    "duration": 20,
    "start_time": "2022-02-03T09:42:15.838Z"
   },
   {
    "duration": 17,
    "start_time": "2022-02-03T09:42:15.860Z"
   },
   {
    "duration": 23,
    "start_time": "2022-02-03T09:42:15.879Z"
   },
   {
    "duration": 8,
    "start_time": "2022-02-03T09:42:15.904Z"
   },
   {
    "duration": 31,
    "start_time": "2022-02-03T09:42:15.914Z"
   },
   {
    "duration": 11,
    "start_time": "2022-02-03T09:42:15.947Z"
   },
   {
    "duration": 8,
    "start_time": "2022-02-03T09:42:15.960Z"
   },
   {
    "duration": 9,
    "start_time": "2022-02-03T09:42:15.969Z"
   },
   {
    "duration": 8,
    "start_time": "2022-02-03T09:42:15.980Z"
   },
   {
    "duration": 11,
    "start_time": "2022-02-03T09:42:15.990Z"
   },
   {
    "duration": 36,
    "start_time": "2022-02-03T09:42:16.003Z"
   },
   {
    "duration": 26,
    "start_time": "2022-02-03T09:42:16.041Z"
   },
   {
    "duration": 38,
    "start_time": "2022-02-03T09:42:16.069Z"
   },
   {
    "duration": 17,
    "start_time": "2022-02-03T09:42:16.111Z"
   },
   {
    "duration": 25,
    "start_time": "2022-02-03T09:42:16.131Z"
   },
   {
    "duration": 41,
    "start_time": "2022-02-03T09:42:16.158Z"
   },
   {
    "duration": 18,
    "start_time": "2022-02-03T09:42:16.201Z"
   },
   {
    "duration": 30,
    "start_time": "2022-02-03T09:42:16.221Z"
   },
   {
    "duration": 3,
    "start_time": "2022-02-03T09:42:16.253Z"
   },
   {
    "duration": 46,
    "start_time": "2022-02-03T09:42:16.257Z"
   },
   {
    "duration": 2,
    "start_time": "2022-02-03T09:42:16.305Z"
   },
   {
    "duration": 23,
    "start_time": "2022-02-03T09:42:16.309Z"
   },
   {
    "duration": 16,
    "start_time": "2022-02-03T09:42:16.334Z"
   },
   {
    "duration": 15,
    "start_time": "2022-02-03T09:42:16.352Z"
   },
   {
    "duration": 36,
    "start_time": "2022-02-03T09:42:16.369Z"
   },
   {
    "duration": 23,
    "start_time": "2022-02-03T09:42:16.407Z"
   },
   {
    "duration": 5,
    "start_time": "2022-02-03T09:42:16.431Z"
   },
   {
    "duration": 17,
    "start_time": "2022-02-03T09:42:16.437Z"
   },
   {
    "duration": 4,
    "start_time": "2022-02-03T09:42:16.456Z"
   },
   {
    "duration": 6,
    "start_time": "2022-02-03T09:42:16.461Z"
   },
   {
    "duration": 32,
    "start_time": "2022-02-03T09:42:16.468Z"
   },
   {
    "duration": 9,
    "start_time": "2022-02-03T09:42:16.501Z"
   },
   {
    "duration": 18,
    "start_time": "2022-02-03T09:42:16.511Z"
   },
   {
    "duration": 2,
    "start_time": "2022-02-03T09:42:16.531Z"
   },
   {
    "duration": 6,
    "start_time": "2022-02-03T09:42:16.534Z"
   },
   {
    "duration": 6,
    "start_time": "2022-02-03T09:42:16.542Z"
   },
   {
    "duration": 19,
    "start_time": "2022-02-03T09:42:16.550Z"
   },
   {
    "duration": 28,
    "start_time": "2022-02-03T09:42:16.571Z"
   },
   {
    "duration": 131,
    "start_time": "2022-02-03T09:42:16.601Z"
   },
   {
    "duration": 11,
    "start_time": "2022-02-03T09:42:16.734Z"
   },
   {
    "duration": 4,
    "start_time": "2022-02-03T09:42:16.746Z"
   },
   {
    "duration": 11,
    "start_time": "2022-02-03T09:42:16.751Z"
   },
   {
    "duration": 6,
    "start_time": "2022-02-03T09:42:16.763Z"
   },
   {
    "duration": 32,
    "start_time": "2022-02-03T09:42:16.770Z"
   },
   {
    "duration": 15,
    "start_time": "2022-02-03T09:42:16.803Z"
   },
   {
    "duration": 8,
    "start_time": "2022-02-03T09:42:16.820Z"
   },
   {
    "duration": 30,
    "start_time": "2022-02-03T09:42:16.830Z"
   },
   {
    "duration": 306,
    "start_time": "2022-02-03T09:42:16.862Z"
   },
   {
    "duration": 493,
    "start_time": "2022-02-03T09:42:16.677Z"
   },
   {
    "duration": 487,
    "start_time": "2022-02-03T09:42:16.684Z"
   },
   {
    "duration": 480,
    "start_time": "2022-02-03T09:42:16.692Z"
   },
   {
    "duration": 468,
    "start_time": "2022-02-03T09:42:16.705Z"
   },
   {
    "duration": 463,
    "start_time": "2022-02-03T09:42:16.711Z"
   },
   {
    "duration": 457,
    "start_time": "2022-02-03T09:42:16.718Z"
   },
   {
    "duration": 455,
    "start_time": "2022-02-03T09:42:16.721Z"
   },
   {
    "duration": 451,
    "start_time": "2022-02-03T09:42:16.726Z"
   },
   {
    "duration": 446,
    "start_time": "2022-02-03T09:42:16.732Z"
   },
   {
    "duration": 11,
    "start_time": "2022-02-03T09:45:22.746Z"
   },
   {
    "duration": 10,
    "start_time": "2022-02-03T09:45:56.496Z"
   },
   {
    "duration": 9,
    "start_time": "2022-02-03T09:46:26.616Z"
   },
   {
    "duration": 14,
    "start_time": "2022-02-03T09:46:31.702Z"
   },
   {
    "duration": 15,
    "start_time": "2022-02-03T09:46:32.504Z"
   },
   {
    "duration": 225,
    "start_time": "2022-02-03T09:46:59.318Z"
   },
   {
    "duration": 726,
    "start_time": "2022-02-03T09:47:26.223Z"
   },
   {
    "duration": 174,
    "start_time": "2022-02-03T09:47:26.952Z"
   },
   {
    "duration": 12,
    "start_time": "2022-02-03T09:47:27.129Z"
   },
   {
    "duration": 23,
    "start_time": "2022-02-03T09:47:27.144Z"
   },
   {
    "duration": 149,
    "start_time": "2022-02-03T09:47:27.169Z"
   },
   {
    "duration": 9,
    "start_time": "2022-02-03T09:47:27.319Z"
   },
   {
    "duration": 20,
    "start_time": "2022-02-03T09:47:27.330Z"
   },
   {
    "duration": 107,
    "start_time": "2022-02-03T09:47:27.352Z"
   },
   {
    "duration": 7,
    "start_time": "2022-02-03T09:47:27.462Z"
   },
   {
    "duration": 31,
    "start_time": "2022-02-03T09:47:27.471Z"
   },
   {
    "duration": 16,
    "start_time": "2022-02-03T09:47:27.504Z"
   },
   {
    "duration": 14,
    "start_time": "2022-02-03T09:47:27.522Z"
   },
   {
    "duration": 9,
    "start_time": "2022-02-03T09:47:27.537Z"
   },
   {
    "duration": 35,
    "start_time": "2022-02-03T09:47:27.548Z"
   },
   {
    "duration": 10,
    "start_time": "2022-02-03T09:47:27.585Z"
   },
   {
    "duration": 10,
    "start_time": "2022-02-03T09:47:27.596Z"
   },
   {
    "duration": 10,
    "start_time": "2022-02-03T09:47:27.608Z"
   },
   {
    "duration": 7,
    "start_time": "2022-02-03T09:47:27.619Z"
   },
   {
    "duration": 7,
    "start_time": "2022-02-03T09:47:27.628Z"
   },
   {
    "duration": 35,
    "start_time": "2022-02-03T09:47:27.636Z"
   },
   {
    "duration": 38,
    "start_time": "2022-02-03T09:47:27.673Z"
   },
   {
    "duration": 18,
    "start_time": "2022-02-03T09:47:27.713Z"
   },
   {
    "duration": 16,
    "start_time": "2022-02-03T09:47:27.736Z"
   },
   {
    "duration": 46,
    "start_time": "2022-02-03T09:47:27.755Z"
   },
   {
    "duration": 19,
    "start_time": "2022-02-03T09:47:27.803Z"
   },
   {
    "duration": 16,
    "start_time": "2022-02-03T09:47:27.824Z"
   },
   {
    "duration": 29,
    "start_time": "2022-02-03T09:47:27.842Z"
   },
   {
    "duration": 3,
    "start_time": "2022-02-03T09:47:27.873Z"
   },
   {
    "duration": 13,
    "start_time": "2022-02-03T09:47:27.898Z"
   },
   {
    "duration": 15,
    "start_time": "2022-02-03T09:47:27.912Z"
   },
   {
    "duration": 11,
    "start_time": "2022-02-03T09:47:27.929Z"
   },
   {
    "duration": 6,
    "start_time": "2022-02-03T09:47:27.942Z"
   },
   {
    "duration": 54,
    "start_time": "2022-02-03T09:47:27.949Z"
   },
   {
    "duration": 10,
    "start_time": "2022-02-03T09:47:28.005Z"
   },
   {
    "duration": 19,
    "start_time": "2022-02-03T09:47:28.016Z"
   },
   {
    "duration": 14,
    "start_time": "2022-02-03T09:47:28.037Z"
   },
   {
    "duration": 13,
    "start_time": "2022-02-03T09:47:28.053Z"
   },
   {
    "duration": 49,
    "start_time": "2022-02-03T09:47:28.067Z"
   },
   {
    "duration": 5,
    "start_time": "2022-02-03T09:47:28.118Z"
   },
   {
    "duration": 25,
    "start_time": "2022-02-03T09:47:28.125Z"
   },
   {
    "duration": 10,
    "start_time": "2022-02-03T09:47:28.152Z"
   },
   {
    "duration": 8,
    "start_time": "2022-02-03T09:47:28.163Z"
   },
   {
    "duration": 6,
    "start_time": "2022-02-03T09:47:28.173Z"
   },
   {
    "duration": 19,
    "start_time": "2022-02-03T09:47:28.180Z"
   },
   {
    "duration": 20,
    "start_time": "2022-02-03T09:47:28.200Z"
   },
   {
    "duration": 6,
    "start_time": "2022-02-03T09:47:28.222Z"
   },
   {
    "duration": 5,
    "start_time": "2022-02-03T09:47:28.230Z"
   },
   {
    "duration": 6,
    "start_time": "2022-02-03T09:47:28.237Z"
   },
   {
    "duration": 18,
    "start_time": "2022-02-03T09:47:28.245Z"
   },
   {
    "duration": 6,
    "start_time": "2022-02-03T09:47:28.265Z"
   },
   {
    "duration": 146,
    "start_time": "2022-02-03T09:47:28.273Z"
   },
   {
    "duration": 13,
    "start_time": "2022-02-03T09:47:28.421Z"
   },
   {
    "duration": 4,
    "start_time": "2022-02-03T09:47:28.436Z"
   },
   {
    "duration": 9,
    "start_time": "2022-02-03T09:47:28.442Z"
   },
   {
    "duration": 7,
    "start_time": "2022-02-03T09:47:28.453Z"
   },
   {
    "duration": 36,
    "start_time": "2022-02-03T09:47:28.462Z"
   },
   {
    "duration": 10,
    "start_time": "2022-02-03T09:47:28.500Z"
   },
   {
    "duration": 16,
    "start_time": "2022-02-03T09:47:28.512Z"
   },
   {
    "duration": 32,
    "start_time": "2022-02-03T09:47:28.530Z"
   },
   {
    "duration": 304,
    "start_time": "2022-02-03T09:47:28.563Z"
   },
   {
    "duration": 342,
    "start_time": "2022-02-03T09:47:28.527Z"
   },
   {
    "duration": 338,
    "start_time": "2022-02-03T09:47:28.533Z"
   },
   {
    "duration": 333,
    "start_time": "2022-02-03T09:47:28.539Z"
   },
   {
    "duration": 305,
    "start_time": "2022-02-03T09:47:28.568Z"
   },
   {
    "duration": 301,
    "start_time": "2022-02-03T09:47:28.573Z"
   },
   {
    "duration": 297,
    "start_time": "2022-02-03T09:47:28.579Z"
   },
   {
    "duration": 265,
    "start_time": "2022-02-03T09:47:28.612Z"
   },
   {
    "duration": 261,
    "start_time": "2022-02-03T09:47:28.617Z"
   },
   {
    "duration": 256,
    "start_time": "2022-02-03T09:47:28.623Z"
   },
   {
    "duration": 8,
    "start_time": "2022-02-03T09:50:00.201Z"
   },
   {
    "duration": 5,
    "start_time": "2022-02-03T09:51:10.440Z"
   },
   {
    "duration": 5327,
    "start_time": "2022-02-03T09:52:52.112Z"
   },
   {
    "duration": 231,
    "start_time": "2022-02-03T09:53:03.429Z"
   },
   {
    "duration": 214,
    "start_time": "2022-02-03T09:53:14.670Z"
   },
   {
    "duration": 318,
    "start_time": "2022-02-03T09:53:36.549Z"
   },
   {
    "duration": 13,
    "start_time": "2022-02-03T09:54:04.449Z"
   },
   {
    "duration": 13,
    "start_time": "2022-02-03T09:56:07.383Z"
   },
   {
    "duration": 12,
    "start_time": "2022-02-03T09:56:57.702Z"
   },
   {
    "duration": 8,
    "start_time": "2022-02-03T09:57:31.572Z"
   },
   {
    "duration": 28,
    "start_time": "2022-02-03T09:57:32.929Z"
   },
   {
    "duration": 12,
    "start_time": "2022-02-03T09:57:50.299Z"
   },
   {
    "duration": 14,
    "start_time": "2022-02-03T09:57:51.245Z"
   },
   {
    "duration": 9,
    "start_time": "2022-02-03T09:57:54.485Z"
   },
   {
    "duration": 22,
    "start_time": "2022-02-03T09:57:56.045Z"
   },
   {
    "duration": 14,
    "start_time": "2022-02-03T09:58:12.441Z"
   },
   {
    "duration": 11,
    "start_time": "2022-02-03T09:58:23.067Z"
   },
   {
    "duration": 35,
    "start_time": "2022-02-03T09:58:24.207Z"
   },
   {
    "duration": 24,
    "start_time": "2022-02-03T09:58:37.265Z"
   },
   {
    "duration": 7,
    "start_time": "2022-02-03T09:59:52.829Z"
   },
   {
    "duration": 13,
    "start_time": "2022-02-03T09:59:53.477Z"
   },
   {
    "duration": 8,
    "start_time": "2022-02-03T10:00:26.265Z"
   },
   {
    "duration": 14,
    "start_time": "2022-02-03T10:00:28.311Z"
   },
   {
    "duration": 9,
    "start_time": "2022-02-03T10:00:45.824Z"
   },
   {
    "duration": 14,
    "start_time": "2022-02-03T10:00:47.356Z"
   },
   {
    "duration": 12,
    "start_time": "2022-02-03T10:00:57.487Z"
   },
   {
    "duration": 15,
    "start_time": "2022-02-03T10:01:01.289Z"
   },
   {
    "duration": 10,
    "start_time": "2022-02-03T10:01:09.659Z"
   },
   {
    "duration": 23,
    "start_time": "2022-02-03T10:01:10.771Z"
   },
   {
    "duration": 9,
    "start_time": "2022-02-03T10:01:28.425Z"
   },
   {
    "duration": 37,
    "start_time": "2022-02-03T10:01:29.077Z"
   },
   {
    "duration": 714,
    "start_time": "2022-02-03T10:02:51.714Z"
   },
   {
    "duration": 181,
    "start_time": "2022-02-03T10:02:52.430Z"
   },
   {
    "duration": 14,
    "start_time": "2022-02-03T10:02:52.616Z"
   },
   {
    "duration": 32,
    "start_time": "2022-02-03T10:02:52.632Z"
   },
   {
    "duration": 154,
    "start_time": "2022-02-03T10:02:52.666Z"
   },
   {
    "duration": 9,
    "start_time": "2022-02-03T10:02:52.822Z"
   },
   {
    "duration": 20,
    "start_time": "2022-02-03T10:02:52.834Z"
   },
   {
    "duration": 101,
    "start_time": "2022-02-03T10:02:52.856Z"
   },
   {
    "duration": 7,
    "start_time": "2022-02-03T10:02:52.959Z"
   },
   {
    "duration": 19,
    "start_time": "2022-02-03T10:02:52.968Z"
   },
   {
    "duration": 17,
    "start_time": "2022-02-03T10:02:52.998Z"
   },
   {
    "duration": 13,
    "start_time": "2022-02-03T10:02:53.017Z"
   },
   {
    "duration": 10,
    "start_time": "2022-02-03T10:02:53.032Z"
   },
   {
    "duration": 31,
    "start_time": "2022-02-03T10:02:53.044Z"
   },
   {
    "duration": 12,
    "start_time": "2022-02-03T10:02:53.077Z"
   },
   {
    "duration": 9,
    "start_time": "2022-02-03T10:02:53.091Z"
   },
   {
    "duration": 16,
    "start_time": "2022-02-03T10:02:53.102Z"
   },
   {
    "duration": 11,
    "start_time": "2022-02-03T10:02:53.120Z"
   },
   {
    "duration": 18,
    "start_time": "2022-02-03T10:02:53.133Z"
   },
   {
    "duration": 50,
    "start_time": "2022-02-03T10:02:53.153Z"
   },
   {
    "duration": 27,
    "start_time": "2022-02-03T10:02:53.205Z"
   },
   {
    "duration": 20,
    "start_time": "2022-02-03T10:02:53.237Z"
   },
   {
    "duration": 17,
    "start_time": "2022-02-03T10:02:53.260Z"
   },
   {
    "duration": 44,
    "start_time": "2022-02-03T10:02:53.279Z"
   },
   {
    "duration": 20,
    "start_time": "2022-02-03T10:02:53.325Z"
   },
   {
    "duration": 19,
    "start_time": "2022-02-03T10:02:53.347Z"
   },
   {
    "duration": 58,
    "start_time": "2022-02-03T10:02:53.368Z"
   },
   {
    "duration": 3,
    "start_time": "2022-02-03T10:02:53.428Z"
   },
   {
    "duration": 23,
    "start_time": "2022-02-03T10:02:53.433Z"
   },
   {
    "duration": 30,
    "start_time": "2022-02-03T10:02:53.458Z"
   },
   {
    "duration": 21,
    "start_time": "2022-02-03T10:02:53.490Z"
   },
   {
    "duration": 14,
    "start_time": "2022-02-03T10:02:53.512Z"
   },
   {
    "duration": 47,
    "start_time": "2022-02-03T10:02:53.527Z"
   },
   {
    "duration": 13,
    "start_time": "2022-02-03T10:02:53.575Z"
   },
   {
    "duration": 30,
    "start_time": "2022-02-03T10:02:53.590Z"
   },
   {
    "duration": 31,
    "start_time": "2022-02-03T10:02:53.622Z"
   },
   {
    "duration": 16,
    "start_time": "2022-02-03T10:02:53.654Z"
   },
   {
    "duration": 21,
    "start_time": "2022-02-03T10:02:53.671Z"
   },
   {
    "duration": 15,
    "start_time": "2022-02-03T10:02:53.694Z"
   },
   {
    "duration": 37,
    "start_time": "2022-02-03T10:02:53.711Z"
   },
   {
    "duration": 6,
    "start_time": "2022-02-03T10:02:53.750Z"
   },
   {
    "duration": 30,
    "start_time": "2022-02-03T10:02:53.758Z"
   },
   {
    "duration": 25,
    "start_time": "2022-02-03T10:02:53.790Z"
   },
   {
    "duration": 34,
    "start_time": "2022-02-03T10:02:53.817Z"
   },
   {
    "duration": 7,
    "start_time": "2022-02-03T10:02:53.853Z"
   },
   {
    "duration": 15,
    "start_time": "2022-02-03T10:02:53.862Z"
   },
   {
    "duration": 21,
    "start_time": "2022-02-03T10:02:53.878Z"
   },
   {
    "duration": 16,
    "start_time": "2022-02-03T10:02:53.901Z"
   },
   {
    "duration": 23,
    "start_time": "2022-02-03T10:02:53.919Z"
   },
   {
    "duration": 14,
    "start_time": "2022-02-03T10:02:53.944Z"
   },
   {
    "duration": 13,
    "start_time": "2022-02-03T10:02:53.960Z"
   },
   {
    "duration": 10,
    "start_time": "2022-02-03T10:02:53.975Z"
   },
   {
    "duration": 143,
    "start_time": "2022-02-03T10:02:53.987Z"
   },
   {
    "duration": 12,
    "start_time": "2022-02-03T10:02:54.132Z"
   },
   {
    "duration": 7,
    "start_time": "2022-02-03T10:02:54.146Z"
   },
   {
    "duration": 27,
    "start_time": "2022-02-03T10:02:54.155Z"
   },
   {
    "duration": 8,
    "start_time": "2022-02-03T10:02:54.184Z"
   },
   {
    "duration": 12,
    "start_time": "2022-02-03T10:02:54.193Z"
   },
   {
    "duration": 12,
    "start_time": "2022-02-03T10:02:54.207Z"
   },
   {
    "duration": 13,
    "start_time": "2022-02-03T10:02:54.221Z"
   },
   {
    "duration": 35,
    "start_time": "2022-02-03T10:02:54.236Z"
   },
   {
    "duration": 293,
    "start_time": "2022-02-03T10:02:54.273Z"
   },
   {
    "duration": 412,
    "start_time": "2022-02-03T10:02:54.156Z"
   },
   {
    "duration": 409,
    "start_time": "2022-02-03T10:02:54.160Z"
   },
   {
    "duration": 360,
    "start_time": "2022-02-03T10:02:54.210Z"
   },
   {
    "duration": 356,
    "start_time": "2022-02-03T10:02:54.215Z"
   },
   {
    "duration": 354,
    "start_time": "2022-02-03T10:02:54.218Z"
   },
   {
    "duration": 351,
    "start_time": "2022-02-03T10:02:54.223Z"
   },
   {
    "duration": 349,
    "start_time": "2022-02-03T10:02:54.226Z"
   },
   {
    "duration": 344,
    "start_time": "2022-02-03T10:02:54.232Z"
   },
   {
    "duration": 341,
    "start_time": "2022-02-03T10:02:54.236Z"
   },
   {
    "duration": 11,
    "start_time": "2022-02-03T10:03:34.756Z"
   },
   {
    "duration": 30,
    "start_time": "2022-02-03T10:03:36.827Z"
   },
   {
    "duration": 10,
    "start_time": "2022-02-03T10:12:17.926Z"
   },
   {
    "duration": 37,
    "start_time": "2022-02-03T10:12:18.856Z"
   },
   {
    "duration": 12,
    "start_time": "2022-02-03T10:12:43.036Z"
   },
   {
    "duration": 10,
    "start_time": "2022-02-03T10:12:53.775Z"
   },
   {
    "duration": 17,
    "start_time": "2022-02-03T10:12:54.473Z"
   },
   {
    "duration": 17,
    "start_time": "2022-02-03T10:12:59.702Z"
   },
   {
    "duration": 10,
    "start_time": "2022-02-03T10:13:12.902Z"
   },
   {
    "duration": 28,
    "start_time": "2022-02-03T10:13:13.997Z"
   },
   {
    "duration": 9,
    "start_time": "2022-02-03T10:13:24.407Z"
   },
   {
    "duration": 15,
    "start_time": "2022-02-03T10:13:25.209Z"
   },
   {
    "duration": 9,
    "start_time": "2022-02-03T10:13:30.693Z"
   },
   {
    "duration": 14,
    "start_time": "2022-02-03T10:13:31.653Z"
   },
   {
    "duration": 9,
    "start_time": "2022-02-03T10:13:43.741Z"
   },
   {
    "duration": 25,
    "start_time": "2022-02-03T10:13:44.470Z"
   },
   {
    "duration": 738,
    "start_time": "2022-02-03T10:16:12.287Z"
   },
   {
    "duration": 176,
    "start_time": "2022-02-03T10:16:13.028Z"
   },
   {
    "duration": 13,
    "start_time": "2022-02-03T10:16:13.206Z"
   },
   {
    "duration": 25,
    "start_time": "2022-02-03T10:16:13.221Z"
   },
   {
    "duration": 150,
    "start_time": "2022-02-03T10:16:13.248Z"
   },
   {
    "duration": 8,
    "start_time": "2022-02-03T10:16:13.400Z"
   },
   {
    "duration": 21,
    "start_time": "2022-02-03T10:16:13.410Z"
   },
   {
    "duration": 96,
    "start_time": "2022-02-03T10:16:13.434Z"
   },
   {
    "duration": 8,
    "start_time": "2022-02-03T10:16:13.532Z"
   },
   {
    "duration": 21,
    "start_time": "2022-02-03T10:16:13.541Z"
   },
   {
    "duration": 19,
    "start_time": "2022-02-03T10:16:13.563Z"
   },
   {
    "duration": 20,
    "start_time": "2022-02-03T10:16:13.584Z"
   },
   {
    "duration": 9,
    "start_time": "2022-02-03T10:16:13.605Z"
   },
   {
    "duration": 32,
    "start_time": "2022-02-03T10:16:13.615Z"
   },
   {
    "duration": 10,
    "start_time": "2022-02-03T10:16:13.649Z"
   },
   {
    "duration": 10,
    "start_time": "2022-02-03T10:16:13.661Z"
   },
   {
    "duration": 10,
    "start_time": "2022-02-03T10:16:13.672Z"
   },
   {
    "duration": 5,
    "start_time": "2022-02-03T10:16:13.684Z"
   },
   {
    "duration": 4,
    "start_time": "2022-02-03T10:16:13.699Z"
   },
   {
    "duration": 41,
    "start_time": "2022-02-03T10:16:13.705Z"
   },
   {
    "duration": 26,
    "start_time": "2022-02-03T10:16:13.748Z"
   },
   {
    "duration": 37,
    "start_time": "2022-02-03T10:16:13.776Z"
   },
   {
    "duration": 16,
    "start_time": "2022-02-03T10:16:13.818Z"
   },
   {
    "duration": 25,
    "start_time": "2022-02-03T10:16:13.837Z"
   },
   {
    "duration": 40,
    "start_time": "2022-02-03T10:16:13.864Z"
   },
   {
    "duration": 16,
    "start_time": "2022-02-03T10:16:13.906Z"
   },
   {
    "duration": 30,
    "start_time": "2022-02-03T10:16:13.924Z"
   },
   {
    "duration": 3,
    "start_time": "2022-02-03T10:16:13.955Z"
   },
   {
    "duration": 16,
    "start_time": "2022-02-03T10:16:13.960Z"
   },
   {
    "duration": 16,
    "start_time": "2022-02-03T10:16:13.999Z"
   },
   {
    "duration": 10,
    "start_time": "2022-02-03T10:16:14.017Z"
   },
   {
    "duration": 5,
    "start_time": "2022-02-03T10:16:14.029Z"
   },
   {
    "duration": 28,
    "start_time": "2022-02-03T10:16:14.036Z"
   },
   {
    "duration": 36,
    "start_time": "2022-02-03T10:16:14.065Z"
   },
   {
    "duration": 10,
    "start_time": "2022-02-03T10:16:14.102Z"
   },
   {
    "duration": 15,
    "start_time": "2022-02-03T10:16:14.114Z"
   },
   {
    "duration": 13,
    "start_time": "2022-02-03T10:16:14.131Z"
   },
   {
    "duration": 15,
    "start_time": "2022-02-03T10:16:14.146Z"
   },
   {
    "duration": 11,
    "start_time": "2022-02-03T10:16:14.198Z"
   },
   {
    "duration": 22,
    "start_time": "2022-02-03T10:16:14.211Z"
   },
   {
    "duration": 285,
    "start_time": "2022-02-03T10:16:14.235Z"
   },
   {
    "duration": 234,
    "start_time": "2022-02-03T10:16:14.288Z"
   },
   {
    "duration": 227,
    "start_time": "2022-02-03T10:16:14.296Z"
   },
   {
    "duration": 221,
    "start_time": "2022-02-03T10:16:14.303Z"
   },
   {
    "duration": 217,
    "start_time": "2022-02-03T10:16:14.308Z"
   },
   {
    "duration": 213,
    "start_time": "2022-02-03T10:16:14.313Z"
   },
   {
    "duration": 210,
    "start_time": "2022-02-03T10:16:14.317Z"
   },
   {
    "duration": 206,
    "start_time": "2022-02-03T10:16:14.322Z"
   },
   {
    "duration": 203,
    "start_time": "2022-02-03T10:16:14.326Z"
   },
   {
    "duration": 198,
    "start_time": "2022-02-03T10:16:14.332Z"
   },
   {
    "duration": 196,
    "start_time": "2022-02-03T10:16:14.336Z"
   },
   {
    "duration": 191,
    "start_time": "2022-02-03T10:16:14.342Z"
   },
   {
    "duration": 147,
    "start_time": "2022-02-03T10:16:14.387Z"
   },
   {
    "duration": 140,
    "start_time": "2022-02-03T10:16:14.395Z"
   },
   {
    "duration": 134,
    "start_time": "2022-02-03T10:16:14.402Z"
   },
   {
    "duration": 129,
    "start_time": "2022-02-03T10:16:14.409Z"
   },
   {
    "duration": 122,
    "start_time": "2022-02-03T10:16:14.417Z"
   },
   {
    "duration": 116,
    "start_time": "2022-02-03T10:16:14.424Z"
   },
   {
    "duration": 111,
    "start_time": "2022-02-03T10:16:14.430Z"
   },
   {
    "duration": 105,
    "start_time": "2022-02-03T10:16:14.437Z"
   },
   {
    "duration": 100,
    "start_time": "2022-02-03T10:16:14.443Z"
   },
   {
    "duration": 94,
    "start_time": "2022-02-03T10:16:14.451Z"
   },
   {
    "duration": 89,
    "start_time": "2022-02-03T10:16:14.457Z"
   },
   {
    "duration": 84,
    "start_time": "2022-02-03T10:16:14.463Z"
   },
   {
    "duration": 81,
    "start_time": "2022-02-03T10:16:14.467Z"
   },
   {
    "duration": 77,
    "start_time": "2022-02-03T10:16:14.472Z"
   },
   {
    "duration": 71,
    "start_time": "2022-02-03T10:16:14.479Z"
   },
   {
    "duration": 42,
    "start_time": "2022-02-03T10:16:14.509Z"
   },
   {
    "duration": 34,
    "start_time": "2022-02-03T10:16:14.518Z"
   },
   {
    "duration": 27,
    "start_time": "2022-02-03T10:16:14.526Z"
   },
   {
    "duration": 20,
    "start_time": "2022-02-03T10:16:14.534Z"
   },
   {
    "duration": 6,
    "start_time": "2022-02-03T10:16:30.493Z"
   },
   {
    "duration": 15,
    "start_time": "2022-02-03T10:16:41.524Z"
   },
   {
    "duration": 5,
    "start_time": "2022-02-03T10:16:48.465Z"
   },
   {
    "duration": 3,
    "start_time": "2022-02-03T10:16:48.726Z"
   },
   {
    "duration": 3,
    "start_time": "2022-02-03T10:16:49.265Z"
   },
   {
    "duration": 5,
    "start_time": "2022-02-03T10:16:49.805Z"
   },
   {
    "duration": 17,
    "start_time": "2022-02-03T10:16:54.215Z"
   },
   {
    "duration": 11,
    "start_time": "2022-02-03T10:16:58.085Z"
   },
   {
    "duration": 12,
    "start_time": "2022-02-03T10:17:42.646Z"
   },
   {
    "duration": 29,
    "start_time": "2022-02-03T10:17:43.566Z"
   },
   {
    "duration": 11,
    "start_time": "2022-02-03T10:17:58.558Z"
   },
   {
    "duration": 35,
    "start_time": "2022-02-03T10:17:59.233Z"
   },
   {
    "duration": 36,
    "start_time": "2022-02-03T10:18:05.435Z"
   },
   {
    "duration": 669,
    "start_time": "2022-02-03T10:20:12.608Z"
   },
   {
    "duration": 6,
    "start_time": "2022-02-03T10:20:17.648Z"
   },
   {
    "duration": 150,
    "start_time": "2022-02-03T10:20:27.735Z"
   },
   {
    "duration": 10,
    "start_time": "2022-02-03T10:20:38.040Z"
   },
   {
    "duration": 733,
    "start_time": "2022-02-03T10:20:49.006Z"
   },
   {
    "duration": 170,
    "start_time": "2022-02-03T10:20:49.741Z"
   },
   {
    "duration": 13,
    "start_time": "2022-02-03T10:20:49.914Z"
   },
   {
    "duration": 23,
    "start_time": "2022-02-03T10:20:49.930Z"
   },
   {
    "duration": 158,
    "start_time": "2022-02-03T10:20:49.955Z"
   },
   {
    "duration": 10,
    "start_time": "2022-02-03T10:20:50.115Z"
   },
   {
    "duration": 39,
    "start_time": "2022-02-03T10:20:50.127Z"
   },
   {
    "duration": 93,
    "start_time": "2022-02-03T10:20:50.170Z"
   },
   {
    "duration": 8,
    "start_time": "2022-02-03T10:20:50.266Z"
   },
   {
    "duration": 30,
    "start_time": "2022-02-03T10:20:50.276Z"
   },
   {
    "duration": 17,
    "start_time": "2022-02-03T10:20:50.308Z"
   },
   {
    "duration": 14,
    "start_time": "2022-02-03T10:20:50.327Z"
   },
   {
    "duration": 10,
    "start_time": "2022-02-03T10:20:50.343Z"
   },
   {
    "duration": 33,
    "start_time": "2022-02-03T10:20:50.355Z"
   },
   {
    "duration": 11,
    "start_time": "2022-02-03T10:20:50.390Z"
   },
   {
    "duration": 9,
    "start_time": "2022-02-03T10:20:50.403Z"
   },
   {
    "duration": 8,
    "start_time": "2022-02-03T10:20:50.414Z"
   },
   {
    "duration": 12,
    "start_time": "2022-02-03T10:20:50.424Z"
   },
   {
    "duration": 17,
    "start_time": "2022-02-03T10:20:50.438Z"
   },
   {
    "duration": 42,
    "start_time": "2022-02-03T10:20:50.457Z"
   },
   {
    "duration": 25,
    "start_time": "2022-02-03T10:20:50.501Z"
   },
   {
    "duration": 18,
    "start_time": "2022-02-03T10:20:50.528Z"
   },
   {
    "duration": 16,
    "start_time": "2022-02-03T10:20:50.551Z"
   },
   {
    "duration": 52,
    "start_time": "2022-02-03T10:20:50.569Z"
   },
   {
    "duration": 20,
    "start_time": "2022-02-03T10:20:50.622Z"
   },
   {
    "duration": 17,
    "start_time": "2022-02-03T10:20:50.643Z"
   },
   {
    "duration": 55,
    "start_time": "2022-02-03T10:20:50.662Z"
   },
   {
    "duration": 3,
    "start_time": "2022-02-03T10:20:50.719Z"
   },
   {
    "duration": 17,
    "start_time": "2022-02-03T10:20:50.723Z"
   },
   {
    "duration": 15,
    "start_time": "2022-02-03T10:20:50.742Z"
   },
   {
    "duration": 11,
    "start_time": "2022-02-03T10:20:50.759Z"
   },
   {
    "duration": 3,
    "start_time": "2022-02-03T10:20:50.772Z"
   },
   {
    "duration": 28,
    "start_time": "2022-02-03T10:20:50.799Z"
   },
   {
    "duration": 10,
    "start_time": "2022-02-03T10:20:50.829Z"
   },
   {
    "duration": 16,
    "start_time": "2022-02-03T10:20:50.841Z"
   },
   {
    "duration": 14,
    "start_time": "2022-02-03T10:20:50.858Z"
   },
   {
    "duration": 31,
    "start_time": "2022-02-03T10:20:50.874Z"
   },
   {
    "duration": 15,
    "start_time": "2022-02-03T10:20:50.907Z"
   },
   {
    "duration": 11,
    "start_time": "2022-02-03T10:20:50.924Z"
   },
   {
    "duration": 23,
    "start_time": "2022-02-03T10:20:50.937Z"
   },
   {
    "duration": 39,
    "start_time": "2022-02-03T10:20:50.962Z"
   },
   {
    "duration": 18,
    "start_time": "2022-02-03T10:20:51.003Z"
   },
   {
    "duration": 5,
    "start_time": "2022-02-03T10:20:51.023Z"
   },
   {
    "duration": 8,
    "start_time": "2022-02-03T10:20:51.030Z"
   },
   {
    "duration": 7,
    "start_time": "2022-02-03T10:20:51.040Z"
   },
   {
    "duration": 9,
    "start_time": "2022-02-03T10:20:51.049Z"
   },
   {
    "duration": 41,
    "start_time": "2022-02-03T10:20:51.060Z"
   },
   {
    "duration": 7,
    "start_time": "2022-02-03T10:20:51.103Z"
   },
   {
    "duration": 142,
    "start_time": "2022-02-03T10:20:51.112Z"
   },
   {
    "duration": 4,
    "start_time": "2022-02-03T10:20:51.255Z"
   },
   {
    "duration": 13,
    "start_time": "2022-02-03T10:20:51.260Z"
   },
   {
    "duration": 5,
    "start_time": "2022-02-03T10:20:51.275Z"
   },
   {
    "duration": 19,
    "start_time": "2022-02-03T10:20:51.282Z"
   },
   {
    "duration": 9,
    "start_time": "2022-02-03T10:20:51.303Z"
   },
   {
    "duration": 10,
    "start_time": "2022-02-03T10:20:51.313Z"
   },
   {
    "duration": 36,
    "start_time": "2022-02-03T10:20:51.325Z"
   },
   {
    "duration": 287,
    "start_time": "2022-02-03T10:20:51.363Z"
   },
   {
    "duration": 149,
    "start_time": "2022-02-03T10:20:51.503Z"
   },
   {
    "duration": 144,
    "start_time": "2022-02-03T10:20:51.509Z"
   },
   {
    "duration": 121,
    "start_time": "2022-02-03T10:20:51.533Z"
   },
   {
    "duration": 116,
    "start_time": "2022-02-03T10:20:51.539Z"
   },
   {
    "duration": 110,
    "start_time": "2022-02-03T10:20:51.546Z"
   },
   {
    "duration": 107,
    "start_time": "2022-02-03T10:20:51.551Z"
   },
   {
    "duration": 102,
    "start_time": "2022-02-03T10:20:51.557Z"
   },
   {
    "duration": 97,
    "start_time": "2022-02-03T10:20:51.563Z"
   },
   {
    "duration": 94,
    "start_time": "2022-02-03T10:20:51.567Z"
   },
   {
    "duration": 236,
    "start_time": "2022-02-03T10:21:11.651Z"
   },
   {
    "duration": 5,
    "start_time": "2022-02-03T10:24:49.237Z"
   },
   {
    "duration": 8,
    "start_time": "2022-02-03T10:24:50.550Z"
   },
   {
    "duration": 69,
    "start_time": "2022-02-03T10:25:05.137Z"
   },
   {
    "duration": 70,
    "start_time": "2022-02-03T10:25:18.810Z"
   },
   {
    "duration": 5,
    "start_time": "2022-02-03T10:25:26.542Z"
   },
   {
    "duration": 10,
    "start_time": "2022-02-03T10:25:33.787Z"
   },
   {
    "duration": 7,
    "start_time": "2022-02-03T10:28:21.692Z"
   },
   {
    "duration": 8,
    "start_time": "2022-02-03T10:28:22.944Z"
   },
   {
    "duration": 8,
    "start_time": "2022-02-03T10:28:39.737Z"
   },
   {
    "duration": 10,
    "start_time": "2022-02-03T10:28:40.366Z"
   },
   {
    "duration": 10,
    "start_time": "2022-02-03T10:28:41.146Z"
   },
   {
    "duration": 8,
    "start_time": "2022-02-03T10:28:50.004Z"
   },
   {
    "duration": 34,
    "start_time": "2022-02-03T10:28:50.492Z"
   },
   {
    "duration": 31,
    "start_time": "2022-02-03T10:29:01.435Z"
   },
   {
    "duration": 12,
    "start_time": "2022-02-03T10:29:02.822Z"
   },
   {
    "duration": 757,
    "start_time": "2022-02-03T10:29:03.880Z"
   },
   {
    "duration": 778,
    "start_time": "2022-02-03T10:29:16.532Z"
   },
   {
    "duration": 699,
    "start_time": "2022-02-03T10:29:39.033Z"
   },
   {
    "duration": 637,
    "start_time": "2022-02-03T10:29:43.758Z"
   },
   {
    "duration": 410,
    "start_time": "2022-02-03T10:30:00.146Z"
   },
   {
    "duration": 10,
    "start_time": "2022-02-03T10:30:02.163Z"
   },
   {
    "duration": 10,
    "start_time": "2022-02-03T10:30:36.972Z"
   },
   {
    "duration": 5,
    "start_time": "2022-02-03T10:30:51.978Z"
   },
   {
    "duration": 8,
    "start_time": "2022-02-03T10:30:52.488Z"
   },
   {
    "duration": 737,
    "start_time": "2022-02-03T10:32:47.218Z"
   },
   {
    "duration": 175,
    "start_time": "2022-02-03T10:32:47.957Z"
   },
   {
    "duration": 12,
    "start_time": "2022-02-03T10:32:48.137Z"
   },
   {
    "duration": 33,
    "start_time": "2022-02-03T10:32:48.150Z"
   },
   {
    "duration": 144,
    "start_time": "2022-02-03T10:32:48.185Z"
   },
   {
    "duration": 9,
    "start_time": "2022-02-03T10:32:48.331Z"
   },
   {
    "duration": 31,
    "start_time": "2022-02-03T10:32:48.343Z"
   },
   {
    "duration": 96,
    "start_time": "2022-02-03T10:32:48.376Z"
   },
   {
    "duration": 7,
    "start_time": "2022-02-03T10:32:48.474Z"
   },
   {
    "duration": 23,
    "start_time": "2022-02-03T10:32:48.483Z"
   },
   {
    "duration": 19,
    "start_time": "2022-02-03T10:32:48.508Z"
   },
   {
    "duration": 14,
    "start_time": "2022-02-03T10:32:48.528Z"
   },
   {
    "duration": 9,
    "start_time": "2022-02-03T10:32:48.544Z"
   },
   {
    "duration": 30,
    "start_time": "2022-02-03T10:32:48.555Z"
   },
   {
    "duration": 10,
    "start_time": "2022-02-03T10:32:48.587Z"
   },
   {
    "duration": 8,
    "start_time": "2022-02-03T10:32:48.599Z"
   },
   {
    "duration": 10,
    "start_time": "2022-02-03T10:32:48.609Z"
   },
   {
    "duration": 8,
    "start_time": "2022-02-03T10:32:48.621Z"
   },
   {
    "duration": 12,
    "start_time": "2022-02-03T10:32:48.631Z"
   },
   {
    "duration": 63,
    "start_time": "2022-02-03T10:32:48.645Z"
   },
   {
    "duration": 25,
    "start_time": "2022-02-03T10:32:48.710Z"
   },
   {
    "duration": 61,
    "start_time": "2022-02-03T10:32:48.739Z"
   },
   {
    "duration": 17,
    "start_time": "2022-02-03T10:32:48.803Z"
   },
   {
    "duration": 27,
    "start_time": "2022-02-03T10:32:48.822Z"
   },
   {
    "duration": 50,
    "start_time": "2022-02-03T10:32:48.851Z"
   },
   {
    "duration": 17,
    "start_time": "2022-02-03T10:32:48.903Z"
   },
   {
    "duration": 84,
    "start_time": "2022-02-03T10:32:48.922Z"
   },
   {
    "duration": 3,
    "start_time": "2022-02-03T10:32:49.008Z"
   },
   {
    "duration": 18,
    "start_time": "2022-02-03T10:32:49.012Z"
   },
   {
    "duration": 67,
    "start_time": "2022-02-03T10:32:49.032Z"
   },
   {
    "duration": 11,
    "start_time": "2022-02-03T10:32:49.101Z"
   },
   {
    "duration": 4,
    "start_time": "2022-02-03T10:32:49.114Z"
   },
   {
    "duration": 24,
    "start_time": "2022-02-03T10:32:49.120Z"
   },
   {
    "duration": 14,
    "start_time": "2022-02-03T10:32:49.147Z"
   },
   {
    "duration": 44,
    "start_time": "2022-02-03T10:32:49.163Z"
   },
   {
    "duration": 18,
    "start_time": "2022-02-03T10:32:49.210Z"
   },
   {
    "duration": 10,
    "start_time": "2022-02-03T10:32:49.229Z"
   },
   {
    "duration": 14,
    "start_time": "2022-02-03T10:32:49.241Z"
   },
   {
    "duration": 46,
    "start_time": "2022-02-03T10:32:49.257Z"
   },
   {
    "duration": 23,
    "start_time": "2022-02-03T10:32:49.305Z"
   },
   {
    "duration": 5,
    "start_time": "2022-02-03T10:32:49.330Z"
   },
   {
    "duration": 16,
    "start_time": "2022-02-03T10:32:49.337Z"
   },
   {
    "duration": 7,
    "start_time": "2022-02-03T10:32:49.355Z"
   },
   {
    "duration": 35,
    "start_time": "2022-02-03T10:32:49.364Z"
   },
   {
    "duration": 6,
    "start_time": "2022-02-03T10:32:49.401Z"
   },
   {
    "duration": 13,
    "start_time": "2022-02-03T10:32:49.408Z"
   },
   {
    "duration": 21,
    "start_time": "2022-02-03T10:32:49.423Z"
   },
   {
    "duration": 6,
    "start_time": "2022-02-03T10:32:49.445Z"
   },
   {
    "duration": 139,
    "start_time": "2022-02-03T10:32:49.453Z"
   },
   {
    "duration": 8,
    "start_time": "2022-02-03T10:32:49.594Z"
   },
   {
    "duration": 10,
    "start_time": "2022-02-03T10:32:49.603Z"
   },
   {
    "duration": 9,
    "start_time": "2022-02-03T10:32:49.614Z"
   },
   {
    "duration": 9,
    "start_time": "2022-02-03T10:32:49.625Z"
   },
   {
    "duration": 8,
    "start_time": "2022-02-03T10:32:49.636Z"
   },
   {
    "duration": 10,
    "start_time": "2022-02-03T10:32:49.646Z"
   },
   {
    "duration": 62,
    "start_time": "2022-02-03T10:32:49.658Z"
   },
   {
    "duration": 30,
    "start_time": "2022-02-03T10:32:49.722Z"
   },
   {
    "duration": 10,
    "start_time": "2022-02-03T10:32:49.754Z"
   },
   {
    "duration": 769,
    "start_time": "2022-02-03T10:32:49.766Z"
   },
   {
    "duration": 793,
    "start_time": "2022-02-03T10:32:50.537Z"
   },
   {
    "duration": 720,
    "start_time": "2022-02-03T10:32:51.332Z"
   },
   {
    "duration": 642,
    "start_time": "2022-02-03T10:32:52.054Z"
   },
   {
    "duration": 350,
    "start_time": "2022-02-03T10:32:52.698Z"
   },
   {
    "duration": 8,
    "start_time": "2022-02-03T10:32:53.050Z"
   },
   {
    "duration": 14,
    "start_time": "2022-02-03T10:32:53.060Z"
   },
   {
    "duration": 4,
    "start_time": "2022-02-03T10:33:47.429Z"
   },
   {
    "duration": 8,
    "start_time": "2022-02-03T10:33:53.086Z"
   },
   {
    "duration": 9,
    "start_time": "2022-02-03T10:33:57.645Z"
   },
   {
    "duration": 801,
    "start_time": "2022-02-03T10:34:13.425Z"
   },
   {
    "duration": 720,
    "start_time": "2022-02-03T10:34:21.487Z"
   },
   {
    "duration": 8,
    "start_time": "2022-02-03T10:34:53.755Z"
   },
   {
    "duration": 2028,
    "start_time": "2022-02-03T10:35:01.711Z"
   },
   {
    "duration": 6,
    "start_time": "2022-02-03T10:56:00.693Z"
   },
   {
    "duration": 7,
    "start_time": "2022-02-03T10:57:10.998Z"
   },
   {
    "duration": 4,
    "start_time": "2022-02-03T10:57:11.913Z"
   },
   {
    "duration": 9,
    "start_time": "2022-02-03T10:57:12.508Z"
   },
   {
    "duration": 9,
    "start_time": "2022-02-03T10:57:22.003Z"
   },
   {
    "duration": 4,
    "start_time": "2022-02-03T10:57:22.959Z"
   },
   {
    "duration": 9,
    "start_time": "2022-02-03T10:57:23.407Z"
   },
   {
    "duration": 126,
    "start_time": "2022-02-03T11:57:46.682Z"
   },
   {
    "duration": 5,
    "start_time": "2022-02-03T11:57:47.072Z"
   },
   {
    "duration": 4,
    "start_time": "2022-02-03T11:57:47.538Z"
   },
   {
    "duration": 8,
    "start_time": "2022-02-03T11:57:47.964Z"
   },
   {
    "duration": 274,
    "start_time": "2022-02-03T11:58:07.997Z"
   },
   {
    "duration": 659,
    "start_time": "2022-02-03T13:15:38.357Z"
   },
   {
    "duration": 742,
    "start_time": "2022-02-03T13:15:48.098Z"
   },
   {
    "duration": 4,
    "start_time": "2022-02-03T13:26:50.935Z"
   },
   {
    "duration": 8,
    "start_time": "2022-02-03T13:29:23.494Z"
   },
   {
    "duration": 8,
    "start_time": "2022-02-03T13:37:07.053Z"
   },
   {
    "duration": 12,
    "start_time": "2022-02-03T13:38:02.764Z"
   },
   {
    "duration": 3,
    "start_time": "2022-02-03T13:38:57.642Z"
   },
   {
    "duration": 11,
    "start_time": "2022-02-03T13:38:58.403Z"
   },
   {
    "duration": 9,
    "start_time": "2022-02-03T13:39:09.551Z"
   },
   {
    "duration": 12,
    "start_time": "2022-02-03T13:39:18.867Z"
   },
   {
    "duration": 11,
    "start_time": "2022-02-03T13:39:27.792Z"
   },
   {
    "duration": 10,
    "start_time": "2022-02-03T13:41:40.837Z"
   },
   {
    "duration": 15,
    "start_time": "2022-02-03T13:41:41.670Z"
   },
   {
    "duration": 5,
    "start_time": "2022-02-03T13:47:36.978Z"
   },
   {
    "duration": 20,
    "start_time": "2022-02-03T13:47:51.881Z"
   },
   {
    "duration": 223,
    "start_time": "2022-02-03T13:48:59.487Z"
   },
   {
    "duration": 11,
    "start_time": "2022-02-03T13:50:36.009Z"
   },
   {
    "duration": 14,
    "start_time": "2022-02-03T13:52:16.228Z"
   },
   {
    "duration": 794,
    "start_time": "2022-02-03T14:12:58.846Z"
   },
   {
    "duration": 778,
    "start_time": "2022-02-03T14:13:09.923Z"
   },
   {
    "duration": 780,
    "start_time": "2022-02-03T14:14:19.202Z"
   },
   {
    "duration": 778,
    "start_time": "2022-02-03T14:14:31.203Z"
   },
   {
    "duration": 764,
    "start_time": "2022-02-03T14:14:45.003Z"
   },
   {
    "duration": 745,
    "start_time": "2022-02-03T14:16:04.624Z"
   },
   {
    "duration": 734,
    "start_time": "2022-02-03T14:19:02.563Z"
   },
   {
    "duration": 650,
    "start_time": "2022-02-03T14:19:14.053Z"
   },
   {
    "duration": 776,
    "start_time": "2022-02-03T14:19:20.195Z"
   },
   {
    "duration": 682,
    "start_time": "2022-02-03T14:19:26.660Z"
   },
   {
    "duration": 638,
    "start_time": "2022-02-03T14:20:44.760Z"
   },
   {
    "duration": 658,
    "start_time": "2022-02-03T14:23:19.172Z"
   },
   {
    "duration": 694,
    "start_time": "2022-02-03T14:23:40.201Z"
   },
   {
    "duration": 914,
    "start_time": "2022-02-03T14:24:06.287Z"
   },
   {
    "duration": 651,
    "start_time": "2022-02-03T14:24:32.688Z"
   },
   {
    "duration": 671,
    "start_time": "2022-02-03T14:24:40.419Z"
   },
   {
    "duration": 647,
    "start_time": "2022-02-03T14:24:51.123Z"
   },
   {
    "duration": 679,
    "start_time": "2022-02-03T14:25:25.923Z"
   },
   {
    "duration": 698,
    "start_time": "2022-02-03T14:25:46.098Z"
   },
   {
    "duration": 877,
    "start_time": "2022-02-03T14:28:17.512Z"
   },
   {
    "duration": 666,
    "start_time": "2022-02-03T14:28:24.568Z"
   },
   {
    "duration": 616,
    "start_time": "2022-02-03T14:28:32.728Z"
   },
   {
    "duration": 739,
    "start_time": "2022-02-03T14:30:43.552Z"
   },
   {
    "duration": 7,
    "start_time": "2022-02-03T14:47:18.703Z"
   },
   {
    "duration": 4,
    "start_time": "2022-02-03T14:47:32.925Z"
   },
   {
    "duration": 9,
    "start_time": "2022-02-03T14:55:45.605Z"
   },
   {
    "duration": 8,
    "start_time": "2022-02-03T14:55:47.855Z"
   },
   {
    "duration": 719,
    "start_time": "2022-02-03T15:23:05.051Z"
   },
   {
    "duration": 825,
    "start_time": "2022-02-03T15:23:06.641Z"
   },
   {
    "duration": 647,
    "start_time": "2022-02-03T15:23:07.909Z"
   },
   {
    "duration": 708,
    "start_time": "2022-02-03T16:55:32.745Z"
   },
   {
    "duration": 633,
    "start_time": "2022-02-03T18:26:40.503Z"
   },
   {
    "duration": 625,
    "start_time": "2022-02-03T18:28:39.665Z"
   },
   {
    "duration": 622,
    "start_time": "2022-02-03T18:28:49.384Z"
   },
   {
    "duration": 737,
    "start_time": "2022-02-03T18:29:14.554Z"
   },
   {
    "duration": 701,
    "start_time": "2022-02-03T18:29:25.541Z"
   },
   {
    "duration": 725,
    "start_time": "2022-02-04T17:30:21.418Z"
   },
   {
    "duration": 168,
    "start_time": "2022-02-04T17:30:22.145Z"
   },
   {
    "duration": 13,
    "start_time": "2022-02-04T17:30:22.316Z"
   },
   {
    "duration": 22,
    "start_time": "2022-02-04T17:30:22.331Z"
   },
   {
    "duration": 149,
    "start_time": "2022-02-04T17:30:22.355Z"
   },
   {
    "duration": 10,
    "start_time": "2022-02-04T17:30:22.505Z"
   },
   {
    "duration": 23,
    "start_time": "2022-02-04T17:30:22.517Z"
   },
   {
    "duration": 108,
    "start_time": "2022-02-04T17:30:22.542Z"
   },
   {
    "duration": 8,
    "start_time": "2022-02-04T17:30:22.652Z"
   },
   {
    "duration": 22,
    "start_time": "2022-02-04T17:30:22.662Z"
   },
   {
    "duration": 20,
    "start_time": "2022-02-04T17:30:22.699Z"
   },
   {
    "duration": 13,
    "start_time": "2022-02-04T17:30:22.721Z"
   },
   {
    "duration": 12,
    "start_time": "2022-02-04T17:30:22.736Z"
   },
   {
    "duration": 44,
    "start_time": "2022-02-04T17:30:22.750Z"
   },
   {
    "duration": 14,
    "start_time": "2022-02-04T17:30:22.796Z"
   },
   {
    "duration": 10,
    "start_time": "2022-02-04T17:30:22.812Z"
   },
   {
    "duration": 8,
    "start_time": "2022-02-04T17:30:22.824Z"
   },
   {
    "duration": 9,
    "start_time": "2022-02-04T17:30:22.834Z"
   },
   {
    "duration": 7,
    "start_time": "2022-02-04T17:30:22.845Z"
   },
   {
    "duration": 46,
    "start_time": "2022-02-04T17:30:22.854Z"
   },
   {
    "duration": 25,
    "start_time": "2022-02-04T17:30:22.902Z"
   },
   {
    "duration": 20,
    "start_time": "2022-02-04T17:30:22.929Z"
   },
   {
    "duration": 16,
    "start_time": "2022-02-04T17:30:22.953Z"
   },
   {
    "duration": 48,
    "start_time": "2022-02-04T17:30:22.972Z"
   },
   {
    "duration": 19,
    "start_time": "2022-02-04T17:30:23.022Z"
   },
   {
    "duration": 17,
    "start_time": "2022-02-04T17:30:23.043Z"
   },
   {
    "duration": 59,
    "start_time": "2022-02-04T17:30:23.063Z"
   },
   {
    "duration": 3,
    "start_time": "2022-02-04T17:30:23.125Z"
   },
   {
    "duration": 23,
    "start_time": "2022-02-04T17:30:23.130Z"
   },
   {
    "duration": 19,
    "start_time": "2022-02-04T17:30:23.155Z"
   },
   {
    "duration": 11,
    "start_time": "2022-02-04T17:30:23.176Z"
   },
   {
    "duration": 26,
    "start_time": "2022-02-04T17:30:23.199Z"
   },
   {
    "duration": 11,
    "start_time": "2022-02-04T17:30:23.226Z"
   },
   {
    "duration": 26,
    "start_time": "2022-02-04T17:30:23.238Z"
   },
   {
    "duration": 23,
    "start_time": "2022-02-04T17:30:23.266Z"
   },
   {
    "duration": 21,
    "start_time": "2022-02-04T17:30:23.291Z"
   },
   {
    "duration": 26,
    "start_time": "2022-02-04T17:30:23.314Z"
   },
   {
    "duration": 10,
    "start_time": "2022-02-04T17:30:23.342Z"
   },
   {
    "duration": 30,
    "start_time": "2022-02-04T17:30:23.354Z"
   },
   {
    "duration": 5,
    "start_time": "2022-02-04T17:30:23.386Z"
   },
   {
    "duration": 34,
    "start_time": "2022-02-04T17:30:23.392Z"
   },
   {
    "duration": 15,
    "start_time": "2022-02-04T17:30:23.428Z"
   },
   {
    "duration": 5,
    "start_time": "2022-02-04T17:30:23.445Z"
   },
   {
    "duration": 8,
    "start_time": "2022-02-04T17:30:23.452Z"
   },
   {
    "duration": 16,
    "start_time": "2022-02-04T17:30:23.462Z"
   },
   {
    "duration": 23,
    "start_time": "2022-02-04T17:30:23.479Z"
   },
   {
    "duration": 8,
    "start_time": "2022-02-04T17:30:23.503Z"
   },
   {
    "duration": 125,
    "start_time": "2022-02-04T17:30:23.513Z"
   },
   {
    "duration": 4,
    "start_time": "2022-02-04T17:30:23.640Z"
   },
   {
    "duration": 11,
    "start_time": "2022-02-04T17:30:23.646Z"
   },
   {
    "duration": 10,
    "start_time": "2022-02-04T17:30:23.659Z"
   },
   {
    "duration": 10,
    "start_time": "2022-02-04T17:30:23.670Z"
   },
   {
    "duration": 20,
    "start_time": "2022-02-04T17:30:23.682Z"
   },
   {
    "duration": 33,
    "start_time": "2022-02-04T17:30:23.704Z"
   },
   {
    "duration": 13,
    "start_time": "2022-02-04T17:30:23.739Z"
   },
   {
    "duration": 56,
    "start_time": "2022-02-04T17:30:23.753Z"
   },
   {
    "duration": 10,
    "start_time": "2022-02-04T17:30:23.811Z"
   },
   {
    "duration": 11,
    "start_time": "2022-02-04T17:30:23.823Z"
   },
   {
    "duration": 809,
    "start_time": "2022-02-04T17:30:23.836Z"
   },
   {
    "duration": 753,
    "start_time": "2022-02-04T17:30:24.647Z"
   },
   {
    "duration": 710,
    "start_time": "2022-02-04T17:30:25.402Z"
   },
   {
    "duration": 632,
    "start_time": "2022-02-04T17:30:26.114Z"
   },
   {
    "duration": 679,
    "start_time": "2022-02-04T17:30:26.748Z"
   },
   {
    "duration": 434,
    "start_time": "2022-02-04T17:30:27.430Z"
   },
   {
    "duration": 8,
    "start_time": "2022-02-04T17:30:27.866Z"
   },
   {
    "duration": 14,
    "start_time": "2022-02-04T17:30:27.875Z"
   },
   {
    "duration": 3,
    "start_time": "2022-02-04T17:37:40.250Z"
   },
   {
    "duration": 341,
    "start_time": "2022-02-04T17:38:10.425Z"
   },
   {
    "duration": 9,
    "start_time": "2022-02-04T17:40:51.569Z"
   },
   {
    "duration": 9,
    "start_time": "2022-02-04T17:40:58.131Z"
   },
   {
    "duration": 5,
    "start_time": "2022-02-04T18:09:57.727Z"
   },
   {
    "duration": 5,
    "start_time": "2022-02-04T18:10:13.852Z"
   },
   {
    "duration": 233,
    "start_time": "2022-02-04T18:25:26.594Z"
   },
   {
    "duration": 227,
    "start_time": "2022-02-04T18:25:34.896Z"
   },
   {
    "duration": 8,
    "start_time": "2022-02-04T18:25:38.742Z"
   },
   {
    "duration": 5,
    "start_time": "2022-02-04T18:31:47.050Z"
   },
   {
    "duration": 4,
    "start_time": "2022-02-04T18:32:05.267Z"
   },
   {
    "duration": 1000,
    "start_time": "2022-02-04T18:48:13.419Z"
   },
   {
    "duration": 985,
    "start_time": "2022-02-04T18:49:06.347Z"
   },
   {
    "duration": 1001,
    "start_time": "2022-02-04T18:51:17.365Z"
   },
   {
    "duration": 662,
    "start_time": "2022-02-12T13:28:50.875Z"
   },
   {
    "duration": 132,
    "start_time": "2022-02-12T13:28:51.539Z"
   },
   {
    "duration": 9,
    "start_time": "2022-02-12T13:28:51.673Z"
   },
   {
    "duration": 18,
    "start_time": "2022-02-12T13:28:51.684Z"
   },
   {
    "duration": 114,
    "start_time": "2022-02-12T13:28:51.703Z"
   },
   {
    "duration": 8,
    "start_time": "2022-02-12T13:28:51.819Z"
   },
   {
    "duration": 16,
    "start_time": "2022-02-12T13:28:51.828Z"
   },
   {
    "duration": 85,
    "start_time": "2022-02-12T13:28:51.846Z"
   },
   {
    "duration": 7,
    "start_time": "2022-02-12T13:28:51.933Z"
   },
   {
    "duration": 28,
    "start_time": "2022-02-12T13:28:51.943Z"
   },
   {
    "duration": 16,
    "start_time": "2022-02-12T13:28:51.974Z"
   },
   {
    "duration": 9,
    "start_time": "2022-02-12T13:28:51.991Z"
   },
   {
    "duration": 6,
    "start_time": "2022-02-12T13:28:52.002Z"
   },
   {
    "duration": 34,
    "start_time": "2022-02-12T13:28:52.009Z"
   },
   {
    "duration": 11,
    "start_time": "2022-02-12T13:28:52.045Z"
   },
   {
    "duration": 6,
    "start_time": "2022-02-12T13:28:52.058Z"
   },
   {
    "duration": 6,
    "start_time": "2022-02-12T13:28:52.065Z"
   },
   {
    "duration": 4,
    "start_time": "2022-02-12T13:28:52.072Z"
   },
   {
    "duration": 7,
    "start_time": "2022-02-12T13:28:52.078Z"
   },
   {
    "duration": 33,
    "start_time": "2022-02-12T13:28:52.086Z"
   },
   {
    "duration": 21,
    "start_time": "2022-02-12T13:28:52.120Z"
   },
   {
    "duration": 18,
    "start_time": "2022-02-12T13:28:52.142Z"
   },
   {
    "duration": 13,
    "start_time": "2022-02-12T13:28:52.172Z"
   },
   {
    "duration": 21,
    "start_time": "2022-02-12T13:28:52.186Z"
   },
   {
    "duration": 16,
    "start_time": "2022-02-12T13:28:52.209Z"
   },
   {
    "duration": 14,
    "start_time": "2022-02-12T13:28:52.227Z"
   },
   {
    "duration": 45,
    "start_time": "2022-02-12T13:28:52.242Z"
   },
   {
    "duration": 2,
    "start_time": "2022-02-12T13:28:52.289Z"
   },
   {
    "duration": 9,
    "start_time": "2022-02-12T13:28:52.293Z"
   },
   {
    "duration": 10,
    "start_time": "2022-02-12T13:28:52.304Z"
   },
   {
    "duration": 9,
    "start_time": "2022-02-12T13:28:52.318Z"
   },
   {
    "duration": 17,
    "start_time": "2022-02-12T13:28:52.328Z"
   },
   {
    "duration": 7,
    "start_time": "2022-02-12T13:28:52.371Z"
   },
   {
    "duration": 8,
    "start_time": "2022-02-12T13:28:52.380Z"
   },
   {
    "duration": 10,
    "start_time": "2022-02-12T13:28:52.389Z"
   },
   {
    "duration": 7,
    "start_time": "2022-02-12T13:28:52.400Z"
   },
   {
    "duration": 13,
    "start_time": "2022-02-12T13:28:52.408Z"
   },
   {
    "duration": 7,
    "start_time": "2022-02-12T13:28:52.422Z"
   },
   {
    "duration": 48,
    "start_time": "2022-02-12T13:28:52.431Z"
   },
   {
    "duration": 6,
    "start_time": "2022-02-12T13:28:52.481Z"
   },
   {
    "duration": 771,
    "start_time": "2022-02-12T13:28:52.488Z"
   },
   {
    "duration": 250,
    "start_time": "2022-02-12T13:28:53.261Z"
   },
   {
    "duration": 389,
    "start_time": "2022-02-12T13:28:53.512Z"
   },
   {
    "duration": 292,
    "start_time": "2022-02-12T13:28:53.902Z"
   },
   {
    "duration": 356,
    "start_time": "2022-02-12T13:28:54.196Z"
   },
   {
    "duration": 434,
    "start_time": "2022-02-12T13:28:54.553Z"
   },
   {
    "duration": 513,
    "start_time": "2022-02-12T13:28:54.989Z"
   },
   {
    "duration": 384,
    "start_time": "2022-02-12T13:28:55.504Z"
   },
   {
    "duration": 185,
    "start_time": "2022-02-12T13:28:55.890Z"
   },
   {
    "duration": 326,
    "start_time": "2022-02-12T13:28:56.077Z"
   },
   {
    "duration": 369,
    "start_time": "2022-02-12T13:28:56.404Z"
   },
   {
    "duration": 513,
    "start_time": "2022-02-12T13:28:56.774Z"
   },
   {
    "duration": 384,
    "start_time": "2022-02-12T13:28:57.289Z"
   },
   {
    "duration": 52,
    "start_time": "2022-02-12T13:28:57.674Z"
   },
   {
    "duration": 17,
    "start_time": "2022-02-12T13:28:57.728Z"
   },
   {
    "duration": 43,
    "start_time": "2022-02-12T13:28:57.747Z"
   },
   {
    "duration": 9,
    "start_time": "2022-02-12T13:28:57.792Z"
   },
   {
    "duration": 32,
    "start_time": "2022-02-12T13:28:57.802Z"
   },
   {
    "duration": 632,
    "start_time": "2022-02-12T13:28:57.835Z"
   },
   {
    "duration": 678,
    "start_time": "2022-02-12T13:28:58.472Z"
   },
   {
    "duration": 546,
    "start_time": "2022-02-12T13:28:59.152Z"
   },
   {
    "duration": 500,
    "start_time": "2022-02-12T13:28:59.700Z"
   },
   {
    "duration": 535,
    "start_time": "2022-02-12T13:29:00.201Z"
   },
   {
    "duration": 422,
    "start_time": "2022-02-12T13:29:00.738Z"
   },
   {
    "duration": 11,
    "start_time": "2022-02-12T13:29:01.162Z"
   },
   {
    "duration": 7,
    "start_time": "2022-02-12T13:29:01.175Z"
   },
   {
    "duration": 4,
    "start_time": "2022-02-12T13:31:42.415Z"
   },
   {
    "duration": 5,
    "start_time": "2022-02-12T13:31:48.480Z"
   },
   {
    "duration": 8,
    "start_time": "2022-02-12T13:32:11.991Z"
   }
  ],
  "kernelspec": {
   "display_name": "Python 3 (ipykernel)",
   "language": "python",
   "name": "python3"
  },
  "language_info": {
   "codemirror_mode": {
    "name": "ipython",
    "version": 3
   },
   "file_extension": ".py",
   "mimetype": "text/x-python",
   "name": "python",
   "nbconvert_exporter": "python",
   "pygments_lexer": "ipython3",
   "version": "3.9.7"
  },
  "toc": {
   "base_numbering": 1,
   "nav_menu": {
    "height": "255px",
    "width": "326px"
   },
   "number_sections": true,
   "sideBar": true,
   "skip_h1_title": true,
   "title_cell": "Table of Contents",
   "title_sidebar": "Contents",
   "toc_cell": false,
   "toc_position": {},
   "toc_section_display": true,
   "toc_window_display": true
  }
 },
 "nbformat": 4,
 "nbformat_minor": 2
}
