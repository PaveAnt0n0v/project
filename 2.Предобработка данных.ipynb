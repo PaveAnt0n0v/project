{
 "cells": [
  {
   "cell_type": "markdown",
   "metadata": {},
   "source": [
    "# Исследование надёжности заёмщиков\n",
    "\n",
    "Заказчик — кредитный отдел банка. Нужно разобраться, влияет ли семейное положение и количество детей клиента на факт погашения кредита в срок. Входные данные от банка — статистика о платёжеспособности клиентов.\n",
    "\n",
    "Результаты исследования будут учтены при построении модели **кредитного скоринга** — специальной системы, которая оценивает способность потенциального заёмщика вернуть кредит банку."
   ]
  },
  {
   "cell_type": "markdown",
   "metadata": {},
   "source": [
    "## Шаг 1. Откройте файл с данными и изучите общую информацию"
   ]
  },
  {
   "cell_type": "code",
   "execution_count": 1,
   "metadata": {},
   "outputs": [],
   "source": [
    "import pandas as pd # импорт библиотеки pandas\n",
    "import seaborn as sns # импорт библиотеки seaborn\n",
    "from pymystem3 import Mystem # импорт библиотеки pymystem3\n",
    "m = Mystem()"
   ]
  },
  {
   "cell_type": "code",
   "execution_count": 2,
   "metadata": {},
   "outputs": [],
   "source": [
    "df = pd.read_csv('/datasets/data.csv') # чтение файла с данными и сохранение в df"
   ]
  },
  {
   "cell_type": "code",
   "execution_count": 3,
   "metadata": {
    "scrolled": true
   },
   "outputs": [
    {
     "data": {
      "text/html": [
       "<div>\n",
       "<style scoped>\n",
       "    .dataframe tbody tr th:only-of-type {\n",
       "        vertical-align: middle;\n",
       "    }\n",
       "\n",
       "    .dataframe tbody tr th {\n",
       "        vertical-align: top;\n",
       "    }\n",
       "\n",
       "    .dataframe thead th {\n",
       "        text-align: right;\n",
       "    }\n",
       "</style>\n",
       "<table border=\"1\" class=\"dataframe\">\n",
       "  <thead>\n",
       "    <tr style=\"text-align: right;\">\n",
       "      <th></th>\n",
       "      <th>children</th>\n",
       "      <th>days_employed</th>\n",
       "      <th>dob_years</th>\n",
       "      <th>education</th>\n",
       "      <th>education_id</th>\n",
       "      <th>family_status</th>\n",
       "      <th>family_status_id</th>\n",
       "      <th>gender</th>\n",
       "      <th>income_type</th>\n",
       "      <th>debt</th>\n",
       "      <th>total_income</th>\n",
       "      <th>purpose</th>\n",
       "    </tr>\n",
       "  </thead>\n",
       "  <tbody>\n",
       "    <tr>\n",
       "      <td>0</td>\n",
       "      <td>1</td>\n",
       "      <td>-8437.673028</td>\n",
       "      <td>42</td>\n",
       "      <td>высшее</td>\n",
       "      <td>0</td>\n",
       "      <td>женат / замужем</td>\n",
       "      <td>0</td>\n",
       "      <td>F</td>\n",
       "      <td>сотрудник</td>\n",
       "      <td>0</td>\n",
       "      <td>253875.639453</td>\n",
       "      <td>покупка жилья</td>\n",
       "    </tr>\n",
       "    <tr>\n",
       "      <td>1</td>\n",
       "      <td>1</td>\n",
       "      <td>-4024.803754</td>\n",
       "      <td>36</td>\n",
       "      <td>среднее</td>\n",
       "      <td>1</td>\n",
       "      <td>женат / замужем</td>\n",
       "      <td>0</td>\n",
       "      <td>F</td>\n",
       "      <td>сотрудник</td>\n",
       "      <td>0</td>\n",
       "      <td>112080.014102</td>\n",
       "      <td>приобретение автомобиля</td>\n",
       "    </tr>\n",
       "    <tr>\n",
       "      <td>2</td>\n",
       "      <td>0</td>\n",
       "      <td>-5623.422610</td>\n",
       "      <td>33</td>\n",
       "      <td>Среднее</td>\n",
       "      <td>1</td>\n",
       "      <td>женат / замужем</td>\n",
       "      <td>0</td>\n",
       "      <td>M</td>\n",
       "      <td>сотрудник</td>\n",
       "      <td>0</td>\n",
       "      <td>145885.952297</td>\n",
       "      <td>покупка жилья</td>\n",
       "    </tr>\n",
       "    <tr>\n",
       "      <td>3</td>\n",
       "      <td>3</td>\n",
       "      <td>-4124.747207</td>\n",
       "      <td>32</td>\n",
       "      <td>среднее</td>\n",
       "      <td>1</td>\n",
       "      <td>женат / замужем</td>\n",
       "      <td>0</td>\n",
       "      <td>M</td>\n",
       "      <td>сотрудник</td>\n",
       "      <td>0</td>\n",
       "      <td>267628.550329</td>\n",
       "      <td>дополнительное образование</td>\n",
       "    </tr>\n",
       "    <tr>\n",
       "      <td>4</td>\n",
       "      <td>0</td>\n",
       "      <td>340266.072047</td>\n",
       "      <td>53</td>\n",
       "      <td>среднее</td>\n",
       "      <td>1</td>\n",
       "      <td>гражданский брак</td>\n",
       "      <td>1</td>\n",
       "      <td>F</td>\n",
       "      <td>пенсионер</td>\n",
       "      <td>0</td>\n",
       "      <td>158616.077870</td>\n",
       "      <td>сыграть свадьбу</td>\n",
       "    </tr>\n",
       "  </tbody>\n",
       "</table>\n",
       "</div>"
      ],
      "text/plain": [
       "   children  days_employed  dob_years education  education_id  \\\n",
       "0         1   -8437.673028         42    высшее             0   \n",
       "1         1   -4024.803754         36   среднее             1   \n",
       "2         0   -5623.422610         33   Среднее             1   \n",
       "3         3   -4124.747207         32   среднее             1   \n",
       "4         0  340266.072047         53   среднее             1   \n",
       "\n",
       "      family_status  family_status_id gender income_type  debt   total_income  \\\n",
       "0   женат / замужем                 0      F   сотрудник     0  253875.639453   \n",
       "1   женат / замужем                 0      F   сотрудник     0  112080.014102   \n",
       "2   женат / замужем                 0      M   сотрудник     0  145885.952297   \n",
       "3   женат / замужем                 0      M   сотрудник     0  267628.550329   \n",
       "4  гражданский брак                 1      F   пенсионер     0  158616.077870   \n",
       "\n",
       "                      purpose  \n",
       "0               покупка жилья  \n",
       "1     приобретение автомобиля  \n",
       "2               покупка жилья  \n",
       "3  дополнительное образование  \n",
       "4             сыграть свадьбу  "
      ]
     },
     "execution_count": 3,
     "metadata": {},
     "output_type": "execute_result"
    }
   ],
   "source": [
    "df.head(5) # получение первых 5 строк таблицы df"
   ]
  },
  {
   "cell_type": "code",
   "execution_count": 4,
   "metadata": {
    "scrolled": true
   },
   "outputs": [
    {
     "name": "stdout",
     "output_type": "stream",
     "text": [
      "<class 'pandas.core.frame.DataFrame'>\n",
      "RangeIndex: 21525 entries, 0 to 21524\n",
      "Data columns (total 12 columns):\n",
      "children            21525 non-null int64\n",
      "days_employed       19351 non-null float64\n",
      "dob_years           21525 non-null int64\n",
      "education           21525 non-null object\n",
      "education_id        21525 non-null int64\n",
      "family_status       21525 non-null object\n",
      "family_status_id    21525 non-null int64\n",
      "gender              21525 non-null object\n",
      "income_type         21525 non-null object\n",
      "debt                21525 non-null int64\n",
      "total_income        19351 non-null float64\n",
      "purpose             21525 non-null object\n",
      "dtypes: float64(2), int64(5), object(5)\n",
      "memory usage: 2.0+ MB\n"
     ]
    }
   ],
   "source": [
    "df.info() # получение общей информации о данных в таблице df"
   ]
  },
  {
   "cell_type": "code",
   "execution_count": 5,
   "metadata": {
    "scrolled": true
   },
   "outputs": [
    {
     "data": {
      "text/html": [
       "<div>\n",
       "<style scoped>\n",
       "    .dataframe tbody tr th:only-of-type {\n",
       "        vertical-align: middle;\n",
       "    }\n",
       "\n",
       "    .dataframe tbody tr th {\n",
       "        vertical-align: top;\n",
       "    }\n",
       "\n",
       "    .dataframe thead th {\n",
       "        text-align: right;\n",
       "    }\n",
       "</style>\n",
       "<table border=\"1\" class=\"dataframe\">\n",
       "  <thead>\n",
       "    <tr style=\"text-align: right;\">\n",
       "      <th></th>\n",
       "      <th>children</th>\n",
       "      <th>days_employed</th>\n",
       "      <th>dob_years</th>\n",
       "      <th>education_id</th>\n",
       "      <th>family_status_id</th>\n",
       "      <th>debt</th>\n",
       "      <th>total_income</th>\n",
       "    </tr>\n",
       "  </thead>\n",
       "  <tbody>\n",
       "    <tr>\n",
       "      <td>count</td>\n",
       "      <td>21525.000000</td>\n",
       "      <td>19351.000000</td>\n",
       "      <td>21525.000000</td>\n",
       "      <td>21525.000000</td>\n",
       "      <td>21525.000000</td>\n",
       "      <td>21525.000000</td>\n",
       "      <td>1.935100e+04</td>\n",
       "    </tr>\n",
       "    <tr>\n",
       "      <td>mean</td>\n",
       "      <td>0.538908</td>\n",
       "      <td>63046.497661</td>\n",
       "      <td>43.293380</td>\n",
       "      <td>0.817236</td>\n",
       "      <td>0.972544</td>\n",
       "      <td>0.080883</td>\n",
       "      <td>1.674223e+05</td>\n",
       "    </tr>\n",
       "    <tr>\n",
       "      <td>std</td>\n",
       "      <td>1.381587</td>\n",
       "      <td>140827.311974</td>\n",
       "      <td>12.574584</td>\n",
       "      <td>0.548138</td>\n",
       "      <td>1.420324</td>\n",
       "      <td>0.272661</td>\n",
       "      <td>1.029716e+05</td>\n",
       "    </tr>\n",
       "    <tr>\n",
       "      <td>min</td>\n",
       "      <td>-1.000000</td>\n",
       "      <td>-18388.949901</td>\n",
       "      <td>0.000000</td>\n",
       "      <td>0.000000</td>\n",
       "      <td>0.000000</td>\n",
       "      <td>0.000000</td>\n",
       "      <td>2.066726e+04</td>\n",
       "    </tr>\n",
       "    <tr>\n",
       "      <td>25%</td>\n",
       "      <td>0.000000</td>\n",
       "      <td>-2747.423625</td>\n",
       "      <td>33.000000</td>\n",
       "      <td>1.000000</td>\n",
       "      <td>0.000000</td>\n",
       "      <td>0.000000</td>\n",
       "      <td>1.030532e+05</td>\n",
       "    </tr>\n",
       "    <tr>\n",
       "      <td>50%</td>\n",
       "      <td>0.000000</td>\n",
       "      <td>-1203.369529</td>\n",
       "      <td>42.000000</td>\n",
       "      <td>1.000000</td>\n",
       "      <td>0.000000</td>\n",
       "      <td>0.000000</td>\n",
       "      <td>1.450179e+05</td>\n",
       "    </tr>\n",
       "    <tr>\n",
       "      <td>75%</td>\n",
       "      <td>1.000000</td>\n",
       "      <td>-291.095954</td>\n",
       "      <td>53.000000</td>\n",
       "      <td>1.000000</td>\n",
       "      <td>1.000000</td>\n",
       "      <td>0.000000</td>\n",
       "      <td>2.034351e+05</td>\n",
       "    </tr>\n",
       "    <tr>\n",
       "      <td>max</td>\n",
       "      <td>20.000000</td>\n",
       "      <td>401755.400475</td>\n",
       "      <td>75.000000</td>\n",
       "      <td>4.000000</td>\n",
       "      <td>4.000000</td>\n",
       "      <td>1.000000</td>\n",
       "      <td>2.265604e+06</td>\n",
       "    </tr>\n",
       "  </tbody>\n",
       "</table>\n",
       "</div>"
      ],
      "text/plain": [
       "           children  days_employed     dob_years  education_id  \\\n",
       "count  21525.000000   19351.000000  21525.000000  21525.000000   \n",
       "mean       0.538908   63046.497661     43.293380      0.817236   \n",
       "std        1.381587  140827.311974     12.574584      0.548138   \n",
       "min       -1.000000  -18388.949901      0.000000      0.000000   \n",
       "25%        0.000000   -2747.423625     33.000000      1.000000   \n",
       "50%        0.000000   -1203.369529     42.000000      1.000000   \n",
       "75%        1.000000    -291.095954     53.000000      1.000000   \n",
       "max       20.000000  401755.400475     75.000000      4.000000   \n",
       "\n",
       "       family_status_id          debt  total_income  \n",
       "count      21525.000000  21525.000000  1.935100e+04  \n",
       "mean           0.972544      0.080883  1.674223e+05  \n",
       "std            1.420324      0.272661  1.029716e+05  \n",
       "min            0.000000      0.000000  2.066726e+04  \n",
       "25%            0.000000      0.000000  1.030532e+05  \n",
       "50%            0.000000      0.000000  1.450179e+05  \n",
       "75%            1.000000      0.000000  2.034351e+05  \n",
       "max            4.000000      1.000000  2.265604e+06  "
      ]
     },
     "execution_count": 5,
     "metadata": {},
     "output_type": "execute_result"
    }
   ],
   "source": [
    "df.describe() # описание столбцов с числовыми данными."
   ]
  },
  {
   "cell_type": "markdown",
   "metadata": {},
   "source": [
    "* В столбце `children` присуствует отрицательные значения, а также максимальное значение составляет 20.\n",
    "* В столбце `days_employed` есть пропущенные значения. Максимальный стаж некорректен.В столбце имеютс отрицательные значения.\n",
    "* В столбце `total_income` имеются вещественные числа. Возможны пропуски и некорректные значения."
   ]
  },
  {
   "cell_type": "markdown",
   "metadata": {},
   "source": [
    "**Вывод**"
   ]
  },
  {
   "cell_type": "markdown",
   "metadata": {},
   "source": [
    "В исходной таблице 12 столбцов и 21525 строк. Тип данных float64(2), int64(5), object(5)."
   ]
  },
  {
   "cell_type": "markdown",
   "metadata": {},
   "source": [
    "Согласно документации к данным:\n",
    "\n",
    "* `children` — количество детей в семье;\n",
    "* `days_employed` — общий трудовой стаж в днях;\n",
    "* `dob_years` — возраст клиента в годах;\n",
    "* `education` — уровень образования клиента;\n",
    "* `education_id` — идентификатор уровня образования;\n",
    "* `family_status` — семейное положение;\n",
    "* `family_status_id` — идентификатор семейного положения;\n",
    "* `gender` — пол клиента;\n",
    "* `income_type` — тип занятости;\n",
    "* `debt` — имел ли задолженность по возврату кредитов;\n",
    "* `total_income` — ежемесячный доход;\n",
    "* `purpose` — цель получения кредита."
   ]
  },
  {
   "cell_type": "markdown",
   "metadata": {},
   "source": [
    "Количество значений в столбцах различается. Значит, в данных есть пропущенные значения."
   ]
  },
  {
   "cell_type": "markdown",
   "metadata": {},
   "source": [
    "В каждой строке таблицы информация о платежеспособности клиента банка. Все колонки рассказывают информацию о клиенте банка.\n",
    "\n",
    "В таблице встречаются пропуски, отрицательные значения , которые могут повлить на проверку гипотез."
   ]
  },
  {
   "cell_type": "markdown",
   "metadata": {},
   "source": [
    "## Шаг 2. Предобработка данных"
   ]
  },
  {
   "cell_type": "markdown",
   "metadata": {},
   "source": [
    "### Обработка пропусков"
   ]
  },
  {
   "cell_type": "code",
   "execution_count": 6,
   "metadata": {
    "scrolled": true
   },
   "outputs": [
    {
     "data": {
      "text/plain": [
       "children               0\n",
       "days_employed       2174\n",
       "dob_years              0\n",
       "education              0\n",
       "education_id           0\n",
       "family_status          0\n",
       "family_status_id       0\n",
       "gender                 0\n",
       "income_type            0\n",
       "debt                   0\n",
       "total_income        2174\n",
       "purpose                0\n",
       "dtype: int64"
      ]
     },
     "execution_count": 6,
     "metadata": {},
     "output_type": "execute_result"
    }
   ],
   "source": [
    "df.isna().sum() # подсчёт пропусков"
   ]
  },
  {
   "cell_type": "markdown",
   "metadata": {},
   "source": [
    "Пропуски имеются в колонках `days_employed` и `total_income`. Количество пропусков от общего количества строк составляет более 10 %."
   ]
  },
  {
   "cell_type": "markdown",
   "metadata": {},
   "source": [
    "Переводим  значения  стоблца `days_employed` из дней в год."
   ]
  },
  {
   "cell_type": "code",
   "execution_count": 7,
   "metadata": {},
   "outputs": [],
   "source": [
    "df['days_employed'] = df['days_employed'] / 365 # перевод значений в столбце 'days_employed' из дней в год "
   ]
  },
  {
   "cell_type": "markdown",
   "metadata": {},
   "source": [
    "В связи с тем ,что в столбце `days_employed` имеются отрицательные значения преводим эти значения в положительные с помощью метода abs()."
   ]
  },
  {
   "cell_type": "code",
   "execution_count": 8,
   "metadata": {},
   "outputs": [],
   "source": [
    "df['days_employed'] = abs(df['days_employed']) # замена отрицательных значений в колонке 'days_employed' методом abs()"
   ]
  },
  {
   "cell_type": "markdown",
   "metadata": {},
   "source": [
    "Выводим значения колонки `days_employed` с фильтром больше 900. Проверяем количество значений в столбце общий трудовой стаж ,которые сосотавляют более 900 лет."
   ]
  },
  {
   "cell_type": "code",
   "execution_count": 9,
   "metadata": {},
   "outputs": [
    {
     "data": {
      "text/plain": [
       "children            3445\n",
       "days_employed       3445\n",
       "dob_years           3445\n",
       "education           3445\n",
       "education_id        3445\n",
       "family_status       3445\n",
       "family_status_id    3445\n",
       "gender              3445\n",
       "income_type         3445\n",
       "debt                3445\n",
       "total_income        3445\n",
       "purpose             3445\n",
       "dtype: int64"
      ]
     },
     "execution_count": 9,
     "metadata": {},
     "output_type": "execute_result"
    }
   ],
   "source": [
    "df[df['days_employed'] >= 900].count() # вывод количества значений колонки 'days_employed' с использованием логического фильтра "
   ]
  },
  {
   "cell_type": "markdown",
   "metadata": {},
   "source": [
    "3445 значений в колонке общий трудовой стаж в годах имеют некорректные значения. Выведенные значения трудовой стажа составляют более 900 лет."
   ]
  },
  {
   "cell_type": "markdown",
   "metadata": {},
   "source": [
    "Некорректные значения обусловлены некоррекном заполнении начала и конец трудового стажа. Указанные значения указаны в днях."
   ]
  },
  {
   "cell_type": "code",
   "execution_count": 10,
   "metadata": {},
   "outputs": [],
   "source": [
    "def correct_employed(row):   # функция, которая переводит некорректные значения стажа в года.\n",
    "    dob_years = row['dob_years']\n",
    "    days_employed = row['days_employed']\n",
    "    if days_employed >= dob_years: \n",
    "        return days_employed / 24\n",
    "    else: \n",
    "        return days_employed \n",
    "    \n",
    "df['days_employed'] = df.apply(correct_employed, axis=1) # с помощью метода apply()  и функции correct_employed(row) заменяем некорректные значения "
   ]
  },
  {
   "cell_type": "markdown",
   "metadata": {},
   "source": [
    "Для заполнения пропушенных значений в колонке `days_employed` используем медиану по типу занятости. "
   ]
  },
  {
   "cell_type": "code",
   "execution_count": 11,
   "metadata": {},
   "outputs": [
    {
     "data": {
      "text/html": [
       "<div>\n",
       "<style scoped>\n",
       "    .dataframe tbody tr th:only-of-type {\n",
       "        vertical-align: middle;\n",
       "    }\n",
       "\n",
       "    .dataframe tbody tr th {\n",
       "        vertical-align: top;\n",
       "    }\n",
       "\n",
       "    .dataframe thead th {\n",
       "        text-align: right;\n",
       "    }\n",
       "</style>\n",
       "<table border=\"1\" class=\"dataframe\">\n",
       "  <thead>\n",
       "    <tr style=\"text-align: right;\">\n",
       "      <th></th>\n",
       "      <th>count</th>\n",
       "    </tr>\n",
       "    <tr>\n",
       "      <th>income_type</th>\n",
       "      <th></th>\n",
       "    </tr>\n",
       "  </thead>\n",
       "  <tbody>\n",
       "    <tr>\n",
       "      <td>безработный</td>\n",
       "      <td>2</td>\n",
       "    </tr>\n",
       "    <tr>\n",
       "      <td>в декрете</td>\n",
       "      <td>1</td>\n",
       "    </tr>\n",
       "    <tr>\n",
       "      <td>госслужащий</td>\n",
       "      <td>1312</td>\n",
       "    </tr>\n",
       "    <tr>\n",
       "      <td>компаньон</td>\n",
       "      <td>4577</td>\n",
       "    </tr>\n",
       "    <tr>\n",
       "      <td>пенсионер</td>\n",
       "      <td>3443</td>\n",
       "    </tr>\n",
       "    <tr>\n",
       "      <td>предприниматель</td>\n",
       "      <td>1</td>\n",
       "    </tr>\n",
       "    <tr>\n",
       "      <td>сотрудник</td>\n",
       "      <td>10014</td>\n",
       "    </tr>\n",
       "    <tr>\n",
       "      <td>студент</td>\n",
       "      <td>1</td>\n",
       "    </tr>\n",
       "  </tbody>\n",
       "</table>\n",
       "</div>"
      ],
      "text/plain": [
       "                 count\n",
       "income_type           \n",
       "безработный          2\n",
       "в декрете            1\n",
       "госслужащий       1312\n",
       "компаньон         4577\n",
       "пенсионер         3443\n",
       "предприниматель      1\n",
       "сотрудник        10014\n",
       "студент              1"
      ]
     },
     "execution_count": 11,
     "metadata": {},
     "output_type": "execute_result"
    }
   ],
   "source": [
    "df.groupby('income_type')['days_employed'].agg(['count']) # вывод группировки данных колонка `income_type` и значения `days_employed`"
   ]
  },
  {
   "cell_type": "markdown",
   "metadata": {},
   "source": [
    "Медиана будет рассчитана для четырех типов занятости `сотрудник`, `пенсионер`, `компаньон`, `госслужащий`."
   ]
  },
  {
   "cell_type": "code",
   "execution_count": 12,
   "metadata": {},
   "outputs": [],
   "source": [
    "for row in df['income_type'].unique(): # заполнение пропусков по одной переменной\n",
    "    mediana = df.loc[df['income_type'] == row, 'days_employed'].median()\n",
    "    df.loc[(df['days_employed'].isna()) & (df['income_type'] == row), 'days_employed'] = mediana"
   ]
  },
  {
   "cell_type": "code",
   "execution_count": 13,
   "metadata": {},
   "outputs": [
    {
     "data": {
      "text/plain": [
       "0"
      ]
     },
     "execution_count": 13,
     "metadata": {},
     "output_type": "execute_result"
    }
   ],
   "source": [
    "df['days_employed'].isna().sum() # подсчет пропусков в  колонке 'days_employed'"
   ]
  },
  {
   "cell_type": "markdown",
   "metadata": {},
   "source": [
    "Пропуски в столбце `days_employed` заменены на медиану по каждому типу занятости.   "
   ]
  },
  {
   "cell_type": "markdown",
   "metadata": {},
   "source": [
    "Замена пропусков в столбце `total_income` на медиану по двум переменным."
   ]
  },
  {
   "cell_type": "code",
   "execution_count": 14,
   "metadata": {},
   "outputs": [],
   "source": [
    "# датафрейм с группированными значениями\n",
    "medians = (df.groupby(['income_type','education']).agg({'total_income': 'median'}).rename(columns = {'total_income' : 'total_income_median'}))\n",
    "# объединение с исходным датафреймом\n",
    "df = df.merge(medians, on = ['income_type','education'])\n",
    "# заполнение пропусков в столбце 'total_income' на 'total_income_median'\n",
    "df.loc[df['total_income'].isna(),'total_income'] = df.loc[df['total_income'].isna(),'total_income_median']"
   ]
  },
  {
   "cell_type": "code",
   "execution_count": 15,
   "metadata": {},
   "outputs": [
    {
     "data": {
      "text/plain": [
       "0"
      ]
     },
     "execution_count": 15,
     "metadata": {},
     "output_type": "execute_result"
    }
   ],
   "source": [
    "df['total_income'].isna().sum() # подсчет пропусков в  колонке 'income_type'"
   ]
  },
  {
   "cell_type": "code",
   "execution_count": 16,
   "metadata": {},
   "outputs": [
    {
     "data": {
      "text/plain": [
       "children               0\n",
       "days_employed          0\n",
       "dob_years              0\n",
       "education              0\n",
       "education_id           0\n",
       "family_status          0\n",
       "family_status_id       0\n",
       "gender                 0\n",
       "income_type            0\n",
       "debt                   0\n",
       "total_income           0\n",
       "purpose                0\n",
       "total_income_median    0\n",
       "dtype: int64"
      ]
     },
     "execution_count": 16,
     "metadata": {},
     "output_type": "execute_result"
    }
   ],
   "source": [
    "df.isna().sum() # подсчёт пропусков после замен"
   ]
  },
  {
   "cell_type": "markdown",
   "metadata": {},
   "source": [
    "**Вывод**"
   ]
  },
  {
   "cell_type": "markdown",
   "metadata": {},
   "source": [
    "Пропуски оказались в колонках `days_employe` , `total_income`. Для дальнейшего анализа гипотез количество пропусков было более 10 % от всех значений. Это могло повлиять на дальшейшее рассмотрение гипотез. С помощью цикла и метода median() произвели замену пропусков в таблице."
   ]
  },
  {
   "cell_type": "markdown",
   "metadata": {},
   "source": [
    "В столбце `days_employed` выявили некорректные данные: отрицательные значения, стаж свыше 1000 лет. Обусловлено , это тем что данные некорректно заносились в таблицу. Данные заменили на корректные значения."
   ]
  },
  {
   "cell_type": "markdown",
   "metadata": {},
   "source": [
    "### Замена типа данных"
   ]
  },
  {
   "cell_type": "code",
   "execution_count": 17,
   "metadata": {},
   "outputs": [
    {
     "name": "stdout",
     "output_type": "stream",
     "text": [
      "<class 'pandas.core.frame.DataFrame'>\n",
      "Int64Index: 21525 entries, 0 to 21524\n",
      "Data columns (total 13 columns):\n",
      "children               21525 non-null int64\n",
      "days_employed          21525 non-null float64\n",
      "dob_years              21525 non-null int64\n",
      "education              21525 non-null object\n",
      "education_id           21525 non-null int64\n",
      "family_status          21525 non-null object\n",
      "family_status_id       21525 non-null int64\n",
      "gender                 21525 non-null object\n",
      "income_type            21525 non-null object\n",
      "debt                   21525 non-null int64\n",
      "total_income           21525 non-null float64\n",
      "purpose                21525 non-null object\n",
      "total_income_median    21525 non-null float64\n",
      "dtypes: float64(3), int64(5), object(5)\n",
      "memory usage: 2.3+ MB\n"
     ]
    }
   ],
   "source": [
    "df.info() # получение общей информации о данных в таблице df"
   ]
  },
  {
   "cell_type": "markdown",
   "metadata": {},
   "source": [
    "Замена  типов данных в столбцах `days_employed` и `total_income` на int."
   ]
  },
  {
   "cell_type": "code",
   "execution_count": 18,
   "metadata": {},
   "outputs": [],
   "source": [
    "df['total_income'] = df['total_income'].astype('int') # замена вещественных типов данных на целочисленные"
   ]
  },
  {
   "cell_type": "code",
   "execution_count": 19,
   "metadata": {},
   "outputs": [],
   "source": [
    "df['days_employed'] = df['days_employed'].astype('int') # замена вещественных типов данных на целочисленные"
   ]
  },
  {
   "cell_type": "code",
   "execution_count": 20,
   "metadata": {},
   "outputs": [],
   "source": [
    "df['debt'] = df['debt'].astype('bool') # замена целочисленный типов данных на булевый тип"
   ]
  },
  {
   "cell_type": "code",
   "execution_count": 21,
   "metadata": {},
   "outputs": [
    {
     "name": "stdout",
     "output_type": "stream",
     "text": [
      "<class 'pandas.core.frame.DataFrame'>\n",
      "Int64Index: 21525 entries, 0 to 21524\n",
      "Data columns (total 13 columns):\n",
      "children               21525 non-null int64\n",
      "days_employed          21525 non-null int64\n",
      "dob_years              21525 non-null int64\n",
      "education              21525 non-null object\n",
      "education_id           21525 non-null int64\n",
      "family_status          21525 non-null object\n",
      "family_status_id       21525 non-null int64\n",
      "gender                 21525 non-null object\n",
      "income_type            21525 non-null object\n",
      "debt                   21525 non-null bool\n",
      "total_income           21525 non-null int64\n",
      "purpose                21525 non-null object\n",
      "total_income_median    21525 non-null float64\n",
      "dtypes: bool(1), float64(1), int64(6), object(5)\n",
      "memory usage: 2.2+ MB\n"
     ]
    }
   ],
   "source": [
    "df.info() # получение общей информации о данных в таблице df"
   ]
  },
  {
   "cell_type": "markdown",
   "metadata": {},
   "source": [
    "**Вывод**"
   ]
  },
  {
   "cell_type": "markdown",
   "metadata": {},
   "source": [
    "В таблице присуствуют данные трех видов : `int` , `object` и `bool`. Замена вещественных типов данных на целочисленные произвели с помощью метода `astype()`."
   ]
  },
  {
   "cell_type": "markdown",
   "metadata": {},
   "source": [
    "### Обработка дубликатов"
   ]
  },
  {
   "cell_type": "code",
   "execution_count": 22,
   "metadata": {},
   "outputs": [
    {
     "data": {
      "text/plain": [
       "array(['ВЫСШЕЕ', 'Высшее', 'НАЧАЛЬНОЕ', 'НЕОКОНЧЕННОЕ ВЫСШЕЕ',\n",
       "       'Начальное', 'Неоконченное высшее', 'СРЕДНЕЕ', 'Среднее',\n",
       "       'УЧЕНАЯ СТЕПЕНЬ', 'Ученая степень', 'высшее', 'начальное',\n",
       "       'неоконченное высшее', 'среднее', 'ученая степень'], dtype=object)"
      ]
     },
     "execution_count": 22,
     "metadata": {},
     "output_type": "execute_result"
    }
   ],
   "source": [
    "df['education'].sort_values().unique() # поиск неявных дубликатов"
   ]
  },
  {
   "cell_type": "code",
   "execution_count": 23,
   "metadata": {},
   "outputs": [
    {
     "data": {
      "text/plain": [
       "array(['высшее', 'начальное', 'неоконченное высшее', 'среднее',\n",
       "       'ученая степень'], dtype=object)"
      ]
     },
     "execution_count": 23,
     "metadata": {},
     "output_type": "execute_result"
    }
   ],
   "source": [
    "df['education'] = df['education'].str.lower() # приведение строк к нижнему регистру\n",
    "df['education'].sort_values().unique()"
   ]
  },
  {
   "cell_type": "code",
   "execution_count": 24,
   "metadata": {},
   "outputs": [
    {
     "data": {
      "text/plain": [
       "54"
      ]
     },
     "execution_count": 24,
     "metadata": {},
     "output_type": "execute_result"
    }
   ],
   "source": [
    "df.duplicated().sum() # поиск явных дубликатов"
   ]
  },
  {
   "cell_type": "code",
   "execution_count": 25,
   "metadata": {},
   "outputs": [],
   "source": [
    "df = df.drop_duplicates().reset_index(drop=True) # удаление явных дубликатов (с удалением старых индексов и формированием новых)"
   ]
  },
  {
   "cell_type": "code",
   "execution_count": 26,
   "metadata": {},
   "outputs": [
    {
     "data": {
      "text/plain": [
       "0"
      ]
     },
     "execution_count": 26,
     "metadata": {},
     "output_type": "execute_result"
    }
   ],
   "source": [
    "df.duplicated().sum() # проверка на отсутствие дубликатов"
   ]
  },
  {
   "cell_type": "markdown",
   "metadata": {},
   "source": [
    "**Вывод**"
   ]
  },
  {
   "cell_type": "markdown",
   "metadata": {},
   "source": [
    "В таблице были обнаружены:\n",
    "* явные дубликаты;\n",
    "* неявные дубликаты.\n"
   ]
  },
  {
   "cell_type": "markdown",
   "metadata": {},
   "source": [
    "Явные дубликаты удалили с помощью метода `drop_duplicates()`, неявные дубликаты привели к нижнему регистру с помощью метода `str.lower()`."
   ]
  },
  {
   "cell_type": "markdown",
   "metadata": {},
   "source": [
    "Появление неявных дубликатов обусловлено тем,что данные заносились в разных стилях."
   ]
  },
  {
   "cell_type": "markdown",
   "metadata": {},
   "source": [
    "### Лемматизация"
   ]
  },
  {
   "cell_type": "markdown",
   "metadata": {},
   "source": [
    "Столбец `purpose` имеет данные различные по написанию , но похожие по смыслу. Использовали процесс приведения словоформы к лемме для дальнейшей категоризации целей получения кредита."
   ]
  },
  {
   "cell_type": "code",
   "execution_count": 27,
   "metadata": {},
   "outputs": [
    {
     "data": {
      "text/html": [
       "<div>\n",
       "<style scoped>\n",
       "    .dataframe tbody tr th:only-of-type {\n",
       "        vertical-align: middle;\n",
       "    }\n",
       "\n",
       "    .dataframe tbody tr th {\n",
       "        vertical-align: top;\n",
       "    }\n",
       "\n",
       "    .dataframe thead th {\n",
       "        text-align: right;\n",
       "    }\n",
       "</style>\n",
       "<table border=\"1\" class=\"dataframe\">\n",
       "  <thead>\n",
       "    <tr style=\"text-align: right;\">\n",
       "      <th></th>\n",
       "      <th>children</th>\n",
       "      <th>days_employed</th>\n",
       "      <th>dob_years</th>\n",
       "      <th>education</th>\n",
       "      <th>education_id</th>\n",
       "      <th>family_status</th>\n",
       "      <th>family_status_id</th>\n",
       "      <th>gender</th>\n",
       "      <th>income_type</th>\n",
       "      <th>debt</th>\n",
       "      <th>total_income</th>\n",
       "      <th>purpose</th>\n",
       "      <th>total_income_median</th>\n",
       "      <th>purpose_lemm</th>\n",
       "    </tr>\n",
       "  </thead>\n",
       "  <tbody>\n",
       "    <tr>\n",
       "      <td>0</td>\n",
       "      <td>1</td>\n",
       "      <td>23</td>\n",
       "      <td>42</td>\n",
       "      <td>высшее</td>\n",
       "      <td>0</td>\n",
       "      <td>женат / замужем</td>\n",
       "      <td>0</td>\n",
       "      <td>F</td>\n",
       "      <td>сотрудник</td>\n",
       "      <td>False</td>\n",
       "      <td>253875</td>\n",
       "      <td>покупка жилья</td>\n",
       "      <td>166164.078024</td>\n",
       "      <td>[покупка,  , жилье, \\n]</td>\n",
       "    </tr>\n",
       "    <tr>\n",
       "      <td>1</td>\n",
       "      <td>0</td>\n",
       "      <td>6</td>\n",
       "      <td>33</td>\n",
       "      <td>высшее</td>\n",
       "      <td>0</td>\n",
       "      <td>гражданский брак</td>\n",
       "      <td>1</td>\n",
       "      <td>M</td>\n",
       "      <td>сотрудник</td>\n",
       "      <td>False</td>\n",
       "      <td>90410</td>\n",
       "      <td>строительство недвижимости</td>\n",
       "      <td>166164.078024</td>\n",
       "      <td>[строительство,  , недвижимость, \\n]</td>\n",
       "    </tr>\n",
       "    <tr>\n",
       "      <td>2</td>\n",
       "      <td>0</td>\n",
       "      <td>0</td>\n",
       "      <td>21</td>\n",
       "      <td>высшее</td>\n",
       "      <td>0</td>\n",
       "      <td>гражданский брак</td>\n",
       "      <td>1</td>\n",
       "      <td>M</td>\n",
       "      <td>сотрудник</td>\n",
       "      <td>False</td>\n",
       "      <td>128265</td>\n",
       "      <td>сыграть свадьбу</td>\n",
       "      <td>166164.078024</td>\n",
       "      <td>[сыграть,  , свадьба, \\n]</td>\n",
       "    </tr>\n",
       "    <tr>\n",
       "      <td>3</td>\n",
       "      <td>0</td>\n",
       "      <td>1</td>\n",
       "      <td>28</td>\n",
       "      <td>высшее</td>\n",
       "      <td>0</td>\n",
       "      <td>женат / замужем</td>\n",
       "      <td>0</td>\n",
       "      <td>M</td>\n",
       "      <td>сотрудник</td>\n",
       "      <td>False</td>\n",
       "      <td>308848</td>\n",
       "      <td>строительство собственной недвижимости</td>\n",
       "      <td>166164.078024</td>\n",
       "      <td>[строительство,  , собственный,  , недвижимост...</td>\n",
       "    </tr>\n",
       "    <tr>\n",
       "      <td>4</td>\n",
       "      <td>1</td>\n",
       "      <td>1</td>\n",
       "      <td>26</td>\n",
       "      <td>высшее</td>\n",
       "      <td>0</td>\n",
       "      <td>женат / замужем</td>\n",
       "      <td>0</td>\n",
       "      <td>F</td>\n",
       "      <td>сотрудник</td>\n",
       "      <td>False</td>\n",
       "      <td>187863</td>\n",
       "      <td>строительство собственной недвижимости</td>\n",
       "      <td>166164.078024</td>\n",
       "      <td>[строительство,  , собственный,  , недвижимост...</td>\n",
       "    </tr>\n",
       "  </tbody>\n",
       "</table>\n",
       "</div>"
      ],
      "text/plain": [
       "   children  days_employed  dob_years education  education_id  \\\n",
       "0         1             23         42    высшее             0   \n",
       "1         0              6         33    высшее             0   \n",
       "2         0              0         21    высшее             0   \n",
       "3         0              1         28    высшее             0   \n",
       "4         1              1         26    высшее             0   \n",
       "\n",
       "      family_status  family_status_id gender income_type   debt  total_income  \\\n",
       "0   женат / замужем                 0      F   сотрудник  False        253875   \n",
       "1  гражданский брак                 1      M   сотрудник  False         90410   \n",
       "2  гражданский брак                 1      M   сотрудник  False        128265   \n",
       "3   женат / замужем                 0      M   сотрудник  False        308848   \n",
       "4   женат / замужем                 0      F   сотрудник  False        187863   \n",
       "\n",
       "                                  purpose  total_income_median  \\\n",
       "0                           покупка жилья        166164.078024   \n",
       "1              строительство недвижимости        166164.078024   \n",
       "2                         сыграть свадьбу        166164.078024   \n",
       "3  строительство собственной недвижимости        166164.078024   \n",
       "4  строительство собственной недвижимости        166164.078024   \n",
       "\n",
       "                                        purpose_lemm  \n",
       "0                            [покупка,  , жилье, \\n]  \n",
       "1               [строительство,  , недвижимость, \\n]  \n",
       "2                          [сыграть,  , свадьба, \\n]  \n",
       "3  [строительство,  , собственный,  , недвижимост...  \n",
       "4  [строительство,  , собственный,  , недвижимост...  "
      ]
     },
     "execution_count": 27,
     "metadata": {},
     "output_type": "execute_result"
    }
   ],
   "source": [
    "df['purpose_lemm'] = df['purpose'].map(m.lemmatize) # с помощью метода apply() находим леммы столбца 'purpose'\n",
    "df.head(5) # вывод первых 5 значений"
   ]
  },
  {
   "cell_type": "code",
   "execution_count": 28,
   "metadata": {},
   "outputs": [
    {
     "data": {
      "text/plain": [
       "[автомобиль, \\n]                                          972\n",
       "[свадьба, \\n]                                             793\n",
       "[на,  , проведение,  , свадьба, \\n]                       773\n",
       "[сыграть,  , свадьба, \\n]                                 769\n",
       "[операция,  , с,  , недвижимость, \\n]                     675\n",
       "[покупка,  , коммерческий,  , недвижимость, \\n]           662\n",
       "[покупка,  , жилье,  , для,  , сдача, \\n]                 652\n",
       "[операция,  , с,  , жилье, \\n]                            652\n",
       "[операция,  , с,  , коммерческий,  , недвижимость, \\n]    650\n",
       "[покупка,  , жилье, \\n]                                   646\n",
       "[жилье, \\n]                                               646\n",
       "[покупка,  , жилье,  , для,  , семья, \\n]                 638\n",
       "[строительство,  , собственный,  , недвижимость, \\n]      635\n",
       "[недвижимость, \\n]                                        633\n",
       "[операция,  , со,  , свой,  , недвижимость, \\n]           627\n",
       "[строительство,  , жилой,  , недвижимость, \\n]            625\n",
       "[покупка,  , недвижимость, \\n]                            621\n",
       "[покупка,  , свой,  , жилье, \\n]                          620\n",
       "[строительство,  , недвижимость, \\n]                      619\n",
       "[ремонт,  , жилье, \\n]                                    607\n",
       "[покупка,  , жилой,  , недвижимость, \\n]                  606\n",
       "[на,  , покупка,  , свой,  , автомобиль, \\n]              505\n",
       "[заниматься,  , высокий,  , образование, \\n]              496\n",
       "[сделка,  , с,  , подержанный,  , автомобиль, \\n]         486\n",
       "[свой,  , автомобиль, \\n]                                 479\n",
       "[на,  , покупка,  , подержать,  , автомобиль, \\n]         478\n",
       "[на,  , покупка,  , автомобиль, \\n]                       472\n",
       "[приобретение,  , автомобиль, \\n]                         461\n",
       "[дополнительный,  , образование, \\n]                      460\n",
       "[сделка,  , с,  , автомобиль, \\n]                         455\n",
       "[высокий,  , образование, \\n]                             452\n",
       "[образование, \\n]                                         447\n",
       "[получение,  , дополнительный,  , образование, \\n]        447\n",
       "[получение,  , образование, \\n]                           442\n",
       "[профильный,  , образование, \\n]                          436\n",
       "[получение,  , высокий,  , образование, \\n]               426\n",
       "[заниматься,  , образование, \\n]                          408\n",
       "Name: purpose_lemm, dtype: int64"
      ]
     },
     "execution_count": 28,
     "metadata": {},
     "output_type": "execute_result"
    }
   ],
   "source": [
    "df['purpose_lemm'].value_counts() # вывод количества уникальных значений"
   ]
  },
  {
   "cell_type": "markdown",
   "metadata": {},
   "source": [
    "<div style=\"border:solid green 2px; padding: 20px\"> \n",
    "    \n",
    "**Комментарий ревьюера**\n",
    "\n",
    "**#ок**\n",
    "    \n",
    "Отлично, леммы выделены правильно. Молодец, что разобрался с этой не простой темой.\n",
    "\n",
    "</div>"
   ]
  },
  {
   "cell_type": "markdown",
   "metadata": {},
   "source": [
    "**Вывод**"
   ]
  },
  {
   "cell_type": "markdown",
   "metadata": {},
   "source": [
    "В столбце `purpose_lemm` указаны леммы. Основные цели для получения кредита - это `автомобиль`, `недвижимость`, `свадьба` , `образование`."
   ]
  },
  {
   "cell_type": "markdown",
   "metadata": {},
   "source": [
    "### Категоризация данных"
   ]
  },
  {
   "cell_type": "code",
   "execution_count": 29,
   "metadata": {
    "scrolled": true
   },
   "outputs": [
    {
     "data": {
      "text/plain": [
       " 0     14107\n",
       " 1      4809\n",
       " 2      2052\n",
       " 3       330\n",
       " 20       76\n",
       "-1        47\n",
       " 4        41\n",
       " 5         9\n",
       "Name: children, dtype: int64"
      ]
     },
     "execution_count": 29,
     "metadata": {},
     "output_type": "execute_result"
    }
   ],
   "source": [
    "df['children'].value_counts() # выводим уникальные значения колонки 'children'"
   ]
  },
  {
   "cell_type": "markdown",
   "metadata": {},
   "source": [
    "В колонке `children` указано количество детей. Уникальные значения получаются `-1` и `20`. Такие данные некорректны. Возможно произошло обогащение данных ,что привело к внесению некорректных значений."
   ]
  },
  {
   "cell_type": "code",
   "execution_count": 30,
   "metadata": {},
   "outputs": [],
   "source": [
    "def children_group(children): # функция по категоризации колонки ['children']\n",
    "    if children == 0:\n",
    "        return 'без детей'\n",
    "    if children == 1 or children == -1:\n",
    "        return 'одни ребенок'\n",
    "    if children == 2  or children == 20:\n",
    "        return 'два ребенка'\n",
    "    return 'более трех детей'"
   ]
  },
  {
   "cell_type": "code",
   "execution_count": 31,
   "metadata": {
    "scrolled": true
   },
   "outputs": [
    {
     "data": {
      "text/html": [
       "<div>\n",
       "<style scoped>\n",
       "    .dataframe tbody tr th:only-of-type {\n",
       "        vertical-align: middle;\n",
       "    }\n",
       "\n",
       "    .dataframe tbody tr th {\n",
       "        vertical-align: top;\n",
       "    }\n",
       "\n",
       "    .dataframe thead th {\n",
       "        text-align: right;\n",
       "    }\n",
       "</style>\n",
       "<table border=\"1\" class=\"dataframe\">\n",
       "  <thead>\n",
       "    <tr style=\"text-align: right;\">\n",
       "      <th></th>\n",
       "      <th>children</th>\n",
       "      <th>days_employed</th>\n",
       "      <th>dob_years</th>\n",
       "      <th>education</th>\n",
       "      <th>education_id</th>\n",
       "      <th>family_status</th>\n",
       "      <th>family_status_id</th>\n",
       "      <th>gender</th>\n",
       "      <th>income_type</th>\n",
       "      <th>debt</th>\n",
       "      <th>total_income</th>\n",
       "      <th>purpose</th>\n",
       "      <th>total_income_median</th>\n",
       "      <th>purpose_lemm</th>\n",
       "      <th>children_group</th>\n",
       "    </tr>\n",
       "  </thead>\n",
       "  <tbody>\n",
       "    <tr>\n",
       "      <td>0</td>\n",
       "      <td>1</td>\n",
       "      <td>23</td>\n",
       "      <td>42</td>\n",
       "      <td>высшее</td>\n",
       "      <td>0</td>\n",
       "      <td>женат / замужем</td>\n",
       "      <td>0</td>\n",
       "      <td>F</td>\n",
       "      <td>сотрудник</td>\n",
       "      <td>False</td>\n",
       "      <td>253875</td>\n",
       "      <td>покупка жилья</td>\n",
       "      <td>166164.078024</td>\n",
       "      <td>[покупка,  , жилье, \\n]</td>\n",
       "      <td>одни ребенок</td>\n",
       "    </tr>\n",
       "    <tr>\n",
       "      <td>1</td>\n",
       "      <td>0</td>\n",
       "      <td>6</td>\n",
       "      <td>33</td>\n",
       "      <td>высшее</td>\n",
       "      <td>0</td>\n",
       "      <td>гражданский брак</td>\n",
       "      <td>1</td>\n",
       "      <td>M</td>\n",
       "      <td>сотрудник</td>\n",
       "      <td>False</td>\n",
       "      <td>90410</td>\n",
       "      <td>строительство недвижимости</td>\n",
       "      <td>166164.078024</td>\n",
       "      <td>[строительство,  , недвижимость, \\n]</td>\n",
       "      <td>без детей</td>\n",
       "    </tr>\n",
       "    <tr>\n",
       "      <td>2</td>\n",
       "      <td>0</td>\n",
       "      <td>0</td>\n",
       "      <td>21</td>\n",
       "      <td>высшее</td>\n",
       "      <td>0</td>\n",
       "      <td>гражданский брак</td>\n",
       "      <td>1</td>\n",
       "      <td>M</td>\n",
       "      <td>сотрудник</td>\n",
       "      <td>False</td>\n",
       "      <td>128265</td>\n",
       "      <td>сыграть свадьбу</td>\n",
       "      <td>166164.078024</td>\n",
       "      <td>[сыграть,  , свадьба, \\n]</td>\n",
       "      <td>без детей</td>\n",
       "    </tr>\n",
       "    <tr>\n",
       "      <td>3</td>\n",
       "      <td>0</td>\n",
       "      <td>1</td>\n",
       "      <td>28</td>\n",
       "      <td>высшее</td>\n",
       "      <td>0</td>\n",
       "      <td>женат / замужем</td>\n",
       "      <td>0</td>\n",
       "      <td>M</td>\n",
       "      <td>сотрудник</td>\n",
       "      <td>False</td>\n",
       "      <td>308848</td>\n",
       "      <td>строительство собственной недвижимости</td>\n",
       "      <td>166164.078024</td>\n",
       "      <td>[строительство,  , собственный,  , недвижимост...</td>\n",
       "      <td>без детей</td>\n",
       "    </tr>\n",
       "    <tr>\n",
       "      <td>4</td>\n",
       "      <td>1</td>\n",
       "      <td>1</td>\n",
       "      <td>26</td>\n",
       "      <td>высшее</td>\n",
       "      <td>0</td>\n",
       "      <td>женат / замужем</td>\n",
       "      <td>0</td>\n",
       "      <td>F</td>\n",
       "      <td>сотрудник</td>\n",
       "      <td>False</td>\n",
       "      <td>187863</td>\n",
       "      <td>строительство собственной недвижимости</td>\n",
       "      <td>166164.078024</td>\n",
       "      <td>[строительство,  , собственный,  , недвижимост...</td>\n",
       "      <td>одни ребенок</td>\n",
       "    </tr>\n",
       "  </tbody>\n",
       "</table>\n",
       "</div>"
      ],
      "text/plain": [
       "   children  days_employed  dob_years education  education_id  \\\n",
       "0         1             23         42    высшее             0   \n",
       "1         0              6         33    высшее             0   \n",
       "2         0              0         21    высшее             0   \n",
       "3         0              1         28    высшее             0   \n",
       "4         1              1         26    высшее             0   \n",
       "\n",
       "      family_status  family_status_id gender income_type   debt  total_income  \\\n",
       "0   женат / замужем                 0      F   сотрудник  False        253875   \n",
       "1  гражданский брак                 1      M   сотрудник  False         90410   \n",
       "2  гражданский брак                 1      M   сотрудник  False        128265   \n",
       "3   женат / замужем                 0      M   сотрудник  False        308848   \n",
       "4   женат / замужем                 0      F   сотрудник  False        187863   \n",
       "\n",
       "                                  purpose  total_income_median  \\\n",
       "0                           покупка жилья        166164.078024   \n",
       "1              строительство недвижимости        166164.078024   \n",
       "2                         сыграть свадьбу        166164.078024   \n",
       "3  строительство собственной недвижимости        166164.078024   \n",
       "4  строительство собственной недвижимости        166164.078024   \n",
       "\n",
       "                                        purpose_lemm children_group  \n",
       "0                            [покупка,  , жилье, \\n]   одни ребенок  \n",
       "1               [строительство,  , недвижимость, \\n]      без детей  \n",
       "2                          [сыграть,  , свадьба, \\n]      без детей  \n",
       "3  [строительство,  , собственный,  , недвижимост...      без детей  \n",
       "4  [строительство,  , собственный,  , недвижимост...   одни ребенок  "
      ]
     },
     "execution_count": 31,
     "metadata": {},
     "output_type": "execute_result"
    }
   ],
   "source": [
    "df['children_group'] = df['children'].apply(children_group) # с помощью метода apply() используем функцию для столбца ['children'] \n",
    "df.head(5) # вывод первых 5 значений"
   ]
  },
  {
   "cell_type": "code",
   "execution_count": 32,
   "metadata": {},
   "outputs": [
    {
     "data": {
      "text/plain": [
       "без детей           14107\n",
       "одни ребенок         4856\n",
       "два ребенка          2128\n",
       "более трех детей      380\n",
       "Name: children_group, dtype: int64"
      ]
     },
     "execution_count": 32,
     "metadata": {},
     "output_type": "execute_result"
    }
   ],
   "source": [
    "df['children_group'].value_counts() # выводим количество уникальных значений колонки 'children'"
   ]
  },
  {
   "cell_type": "markdown",
   "metadata": {},
   "source": [
    "С помощью функции `def children_group(children)` и метода `apply()` категоризировали колонку `children`. Разбили данные на четыре группы - `без детей` , `одни ребенок` , `два ребенка` , `более трех детей`, по признаку наличия детей в семье."
   ]
  },
  {
   "cell_type": "code",
   "execution_count": 33,
   "metadata": {},
   "outputs": [],
   "source": [
    "def income_group(income):  # функция по категоризации колонки ['total_income']\n",
    "    if income < df['total_income'].median():\n",
    "        return 'доход ниже медианы'\n",
    "    if income >= df['total_income'].median():\n",
    "        return 'доход выше медианы'\n",
    "  \n",
    "    "
   ]
  },
  {
   "cell_type": "markdown",
   "metadata": {},
   "source": [
    "Функция `income_group(income)` необходима для категоризации данных столбца с доходами клиентов банка `total_income`"
   ]
  },
  {
   "cell_type": "code",
   "execution_count": 34,
   "metadata": {},
   "outputs": [],
   "source": [
    "df['income_group'] = df['total_income'].apply(income_group) #с помощью метода apply() используем функцию для столбца ['children'] "
   ]
  },
  {
   "cell_type": "code",
   "execution_count": 35,
   "metadata": {},
   "outputs": [
    {
     "data": {
      "text/plain": [
       "доход выше медианы    10736\n",
       "доход ниже медианы    10735\n",
       "Name: income_group, dtype: int64"
      ]
     },
     "execution_count": 35,
     "metadata": {},
     "output_type": "execute_result"
    }
   ],
   "source": [
    "df['income_group'].value_counts() # выводим количество уникальных значений"
   ]
  },
  {
   "cell_type": "markdown",
   "metadata": {},
   "source": [
    "После категоризации получили две группы значений столбца с доходами клиентов - `доход выше медианы` и `доход ниже медианы`. Разделили группы по условию больше или меньше медианого значения."
   ]
  },
  {
   "cell_type": "code",
   "execution_count": 36,
   "metadata": {},
   "outputs": [],
   "source": [
    "def lemm_group(lemm): # функция по категоризации колонки ['purpose_lemm']\n",
    "    for value in lemm:\n",
    "        if 'образование' in value:\n",
    "            return 'образование'\n",
    "        if 'автомобиль' in value:\n",
    "            return 'автомобиль'\n",
    "        if 'жилье' in value or 'недвижимость' in value:\n",
    "            return 'недвижимость'\n",
    "        if 'свадьба' in value:\n",
    "            return 'свадьба'\n",
    "   "
   ]
  },
  {
   "cell_type": "code",
   "execution_count": 37,
   "metadata": {},
   "outputs": [
    {
     "data": {
      "text/plain": [
       "недвижимость    10814\n",
       "автомобиль       4308\n",
       "образование      4014\n",
       "свадьба          2335\n",
       "Name: purpose_group, dtype: int64"
      ]
     },
     "execution_count": 37,
     "metadata": {},
     "output_type": "execute_result"
    }
   ],
   "source": [
    "df['purpose_group'] = df['purpose_lemm'].apply(lemm_group) # с помощью метода apply() используем функцию для столбца ['purpose_lemm'] \n",
    "df['purpose_group'].value_counts() # выводим количество уникальных значений"
   ]
  },
  {
   "cell_type": "markdown",
   "metadata": {},
   "source": [
    "Более 50% целью получения кредита является операции с недвижимостью."
   ]
  },
  {
   "cell_type": "markdown",
   "metadata": {},
   "source": [
    "**Вывод**"
   ]
  },
  {
   "cell_type": "markdown",
   "metadata": {},
   "source": [
    "После лемматизации было выявлено четыре группы значений - `автомобиль`, `недвижимость`, `свадьба` , `образование`. На эти группы произвели категоризацию столбца `purpose_lemm` с помощью функции `lemm_group(lemm)` и метода `apply()`."
   ]
  },
  {
   "cell_type": "markdown",
   "metadata": {},
   "source": [
    "##### Шаг 3. Ответьте на вопросы"
   ]
  },
  {
   "cell_type": "markdown",
   "metadata": {},
   "source": [
    "Для потверждения  четырех гипотез создали функцию `pivot_table(index_group)`."
   ]
  },
  {
   "cell_type": "code",
   "execution_count": 38,
   "metadata": {},
   "outputs": [],
   "source": [
    "def pivot_table(index_group): #функция , для анализа гипотез\n",
    "    pivot_table_total = df.pivot_table(index= [index_group], columns=['debt'], values='children', aggfunc='count') # создание свобной таблице по группировки столбца ['debt']          \n",
    "    pivot_table_total['ratio'] = pivot_table_total[1] /(pivot_table_total[1] + pivot_table_total[0]) # выяление доли от общего кличества задолжности\n",
    "    pivot_table_total = pivot_table_total.sort_values(by='ratio',ascending = False) # сортировка по убыванию\n",
    "    sns.heatmap(pivot_table_total[['ratio']],cmap='RdYlGn') # вывод тепловой карты с помощью библиотеки sns             \n",
    "    return pivot_table_total\n",
    "               "
   ]
  },
  {
   "cell_type": "markdown",
   "metadata": {},
   "source": [
    "- Есть ли зависимость между наличием детей и возвратом кредита в срок?"
   ]
  },
  {
   "cell_type": "code",
   "execution_count": 39,
   "metadata": {
    "scrolled": false
   },
   "outputs": [
    {
     "data": {
      "text/html": [
       "<div>\n",
       "<style scoped>\n",
       "    .dataframe tbody tr th:only-of-type {\n",
       "        vertical-align: middle;\n",
       "    }\n",
       "\n",
       "    .dataframe tbody tr th {\n",
       "        vertical-align: top;\n",
       "    }\n",
       "\n",
       "    .dataframe thead th {\n",
       "        text-align: right;\n",
       "    }\n",
       "</style>\n",
       "<table border=\"1\" class=\"dataframe\">\n",
       "  <thead>\n",
       "    <tr style=\"text-align: right;\">\n",
       "      <th>debt</th>\n",
       "      <th>False</th>\n",
       "      <th>True</th>\n",
       "      <th>ratio</th>\n",
       "    </tr>\n",
       "    <tr>\n",
       "      <th>children_group</th>\n",
       "      <th></th>\n",
       "      <th></th>\n",
       "      <th></th>\n",
       "    </tr>\n",
       "  </thead>\n",
       "  <tbody>\n",
       "    <tr>\n",
       "      <td>два ребенка</td>\n",
       "      <td>1926</td>\n",
       "      <td>202</td>\n",
       "      <td>9.5%</td>\n",
       "    </tr>\n",
       "    <tr>\n",
       "      <td>одни ребенок</td>\n",
       "      <td>4411</td>\n",
       "      <td>445</td>\n",
       "      <td>9.2%</td>\n",
       "    </tr>\n",
       "    <tr>\n",
       "      <td>более трех детей</td>\n",
       "      <td>349</td>\n",
       "      <td>31</td>\n",
       "      <td>8.2%</td>\n",
       "    </tr>\n",
       "    <tr>\n",
       "      <td>без детей</td>\n",
       "      <td>13044</td>\n",
       "      <td>1063</td>\n",
       "      <td>7.5%</td>\n",
       "    </tr>\n",
       "  </tbody>\n",
       "</table>\n",
       "</div>"
      ],
      "text/plain": [
       "debt              False  True ratio\n",
       "children_group                     \n",
       "два ребенка        1926   202  9.5%\n",
       "одни ребенок       4411   445  9.2%\n",
       "более трех детей    349    31  8.2%\n",
       "без детей         13044  1063  7.5%"
      ]
     },
     "execution_count": 39,
     "metadata": {},
     "output_type": "execute_result"
    },
    {
     "data": {
      "image/png": "[encoded data removed]",
      "text/plain": [
       "<Figure size 432x288 with 2 Axes>"
      ]
     },
     "metadata": {
      "needs_background": "light"
     },
     "output_type": "display_data"
    }
   ],
   "source": [
    "data_children = pivot_table('children_group') # выводим результаты функции pivot_table(index_group) с переменной 'children_group'\n",
    "data_children['ratio'] = data_children['ratio'].apply('{:.1%}'.format) #изменяем формат столбца 'ratio' на проценты\n",
    "data_children"
   ]
  },
  {
   "cell_type": "markdown",
   "metadata": {},
   "source": [
    "**Вывод**"
   ]
  },
  {
   "cell_type": "markdown",
   "metadata": {},
   "source": [
    "Возврат кредита в срок меньше в категориях - `два ребенка` и `один ребенок`. Категория `без детей` берет больше всего кредитов, этот показатель больше 60%. Но имеет самый низкий показатель по невозврату кредита в срок. Гипотеза подтвердилась."
   ]
  },
  {
   "cell_type": "markdown",
   "metadata": {},
   "source": [
    "- Есть ли зависимость между семейным положением и возвратом кредита в срок?"
   ]
  },
  {
   "cell_type": "code",
   "execution_count": 40,
   "metadata": {},
   "outputs": [
    {
     "data": {
      "text/html": [
       "<div>\n",
       "<style scoped>\n",
       "    .dataframe tbody tr th:only-of-type {\n",
       "        vertical-align: middle;\n",
       "    }\n",
       "\n",
       "    .dataframe tbody tr th {\n",
       "        vertical-align: top;\n",
       "    }\n",
       "\n",
       "    .dataframe thead th {\n",
       "        text-align: right;\n",
       "    }\n",
       "</style>\n",
       "<table border=\"1\" class=\"dataframe\">\n",
       "  <thead>\n",
       "    <tr style=\"text-align: right;\">\n",
       "      <th>debt</th>\n",
       "      <th>False</th>\n",
       "      <th>True</th>\n",
       "      <th>ratio</th>\n",
       "    </tr>\n",
       "    <tr>\n",
       "      <th>family_status</th>\n",
       "      <th></th>\n",
       "      <th></th>\n",
       "      <th></th>\n",
       "    </tr>\n",
       "  </thead>\n",
       "  <tbody>\n",
       "    <tr>\n",
       "      <td>Не женат / не замужем</td>\n",
       "      <td>2536</td>\n",
       "      <td>274</td>\n",
       "      <td>9.8%</td>\n",
       "    </tr>\n",
       "    <tr>\n",
       "      <td>гражданский брак</td>\n",
       "      <td>3775</td>\n",
       "      <td>388</td>\n",
       "      <td>9.3%</td>\n",
       "    </tr>\n",
       "    <tr>\n",
       "      <td>женат / замужем</td>\n",
       "      <td>11413</td>\n",
       "      <td>931</td>\n",
       "      <td>7.5%</td>\n",
       "    </tr>\n",
       "    <tr>\n",
       "      <td>в разводе</td>\n",
       "      <td>1110</td>\n",
       "      <td>85</td>\n",
       "      <td>7.1%</td>\n",
       "    </tr>\n",
       "    <tr>\n",
       "      <td>вдовец / вдова</td>\n",
       "      <td>896</td>\n",
       "      <td>63</td>\n",
       "      <td>6.6%</td>\n",
       "    </tr>\n",
       "  </tbody>\n",
       "</table>\n",
       "</div>"
      ],
      "text/plain": [
       "debt                   False  True ratio\n",
       "family_status                           \n",
       "Не женат / не замужем   2536   274  9.8%\n",
       "гражданский брак        3775   388  9.3%\n",
       "женат / замужем        11413   931  7.5%\n",
       "в разводе               1110    85  7.1%\n",
       "вдовец / вдова           896    63  6.6%"
      ]
     },
     "execution_count": 40,
     "metadata": {},
     "output_type": "execute_result"
    },
    {
     "data": {
      "image/png": "[encoded data removed]",
      "text/plain": [
       "<Figure size 432x288 with 2 Axes>"
      ]
     },
     "metadata": {
      "needs_background": "light"
     },
     "output_type": "display_data"
    }
   ],
   "source": [
    "data_family = pivot_table('family_status') # выводим результаты функции pivot_table(index_group) с переменной 'family_status'\n",
    "data_family['ratio'] = data_family['ratio'].apply('{:.1%}'.format)# изменяем формат столбца 'ratio' на проценты\n",
    "data_family"
   ]
  },
  {
   "cell_type": "markdown",
   "metadata": {},
   "source": [
    "**Вывод**"
   ]
  },
  {
   "cell_type": "markdown",
   "metadata": {},
   "source": [
    "Самой закредитованной категорией является `женат / замужем`. По невозврату кредита в срок лидируют категории  `Не женат / не замужем` и `гражданский брак` .Они имеют более 9% невозврата кредита в срок. Гипотеза подтвердилась."
   ]
  },
  {
   "cell_type": "markdown",
   "metadata": {},
   "source": [
    "- Есть ли зависимость между уровнем дохода и возвратом кредита в срок?"
   ]
  },
  {
   "cell_type": "code",
   "execution_count": 41,
   "metadata": {},
   "outputs": [
    {
     "data": {
      "text/html": [
       "<div>\n",
       "<style scoped>\n",
       "    .dataframe tbody tr th:only-of-type {\n",
       "        vertical-align: middle;\n",
       "    }\n",
       "\n",
       "    .dataframe tbody tr th {\n",
       "        vertical-align: top;\n",
       "    }\n",
       "\n",
       "    .dataframe thead th {\n",
       "        text-align: right;\n",
       "    }\n",
       "</style>\n",
       "<table border=\"1\" class=\"dataframe\">\n",
       "  <thead>\n",
       "    <tr style=\"text-align: right;\">\n",
       "      <th>debt</th>\n",
       "      <th>False</th>\n",
       "      <th>True</th>\n",
       "      <th>ratio</th>\n",
       "    </tr>\n",
       "    <tr>\n",
       "      <th>income_group</th>\n",
       "      <th></th>\n",
       "      <th></th>\n",
       "      <th></th>\n",
       "    </tr>\n",
       "  </thead>\n",
       "  <tbody>\n",
       "    <tr>\n",
       "      <td>доход ниже медианы</td>\n",
       "      <td>9827</td>\n",
       "      <td>908</td>\n",
       "      <td>8.5%</td>\n",
       "    </tr>\n",
       "    <tr>\n",
       "      <td>доход выше медианы</td>\n",
       "      <td>9903</td>\n",
       "      <td>833</td>\n",
       "      <td>7.8%</td>\n",
       "    </tr>\n",
       "  </tbody>\n",
       "</table>\n",
       "</div>"
      ],
      "text/plain": [
       "debt                False  True ratio\n",
       "income_group                         \n",
       "доход ниже медианы   9827   908  8.5%\n",
       "доход выше медианы   9903   833  7.8%"
      ]
     },
     "execution_count": 41,
     "metadata": {},
     "output_type": "execute_result"
    },
    {
     "data": {
      "image/png": "[encoded data removed]",
      "text/plain": [
       "<Figure size 432x288 with 2 Axes>"
      ]
     },
     "metadata": {
      "needs_background": "light"
     },
     "output_type": "display_data"
    }
   ],
   "source": [
    "data_income = pivot_table('income_group') # выводим результаты функции pivot_table(index_group) с переменной 'income_group'\n",
    "data_income['ratio'] = data_income['ratio'].apply('{:.1%}'.format) # изменяем формат столбца 'ratio' на проценты\n",
    "data_income"
   ]
  },
  {
   "cell_type": "markdown",
   "metadata": {},
   "source": [
    "**Вывод**"
   ]
  },
  {
   "cell_type": "markdown",
   "metadata": {},
   "source": [
    "Зависимость уровня дохода и возврата кредита в срок прослеживается небольшая. В связи с тем ,что данные изначально были в столбце `total_income` пропушены и заменили их на медианное значение. Можно предположить,что  полученный результат недостоверный. Гипотеза частично подтвердилась."
   ]
  },
  {
   "cell_type": "markdown",
   "metadata": {},
   "source": [
    "- Как разные цели кредита влияют на его возврат в срок?"
   ]
  },
  {
   "cell_type": "code",
   "execution_count": 42,
   "metadata": {},
   "outputs": [
    {
     "data": {
      "text/html": [
       "<div>\n",
       "<style scoped>\n",
       "    .dataframe tbody tr th:only-of-type {\n",
       "        vertical-align: middle;\n",
       "    }\n",
       "\n",
       "    .dataframe tbody tr th {\n",
       "        vertical-align: top;\n",
       "    }\n",
       "\n",
       "    .dataframe thead th {\n",
       "        text-align: right;\n",
       "    }\n",
       "</style>\n",
       "<table border=\"1\" class=\"dataframe\">\n",
       "  <thead>\n",
       "    <tr style=\"text-align: right;\">\n",
       "      <th>debt</th>\n",
       "      <th>False</th>\n",
       "      <th>True</th>\n",
       "      <th>ratio</th>\n",
       "    </tr>\n",
       "    <tr>\n",
       "      <th>purpose_group</th>\n",
       "      <th></th>\n",
       "      <th></th>\n",
       "      <th></th>\n",
       "    </tr>\n",
       "  </thead>\n",
       "  <tbody>\n",
       "    <tr>\n",
       "      <td>автомобиль</td>\n",
       "      <td>3905</td>\n",
       "      <td>403</td>\n",
       "      <td>9.4%</td>\n",
       "    </tr>\n",
       "    <tr>\n",
       "      <td>образование</td>\n",
       "      <td>3644</td>\n",
       "      <td>370</td>\n",
       "      <td>9.2%</td>\n",
       "    </tr>\n",
       "    <tr>\n",
       "      <td>свадьба</td>\n",
       "      <td>2149</td>\n",
       "      <td>186</td>\n",
       "      <td>8.0%</td>\n",
       "    </tr>\n",
       "    <tr>\n",
       "      <td>недвижимость</td>\n",
       "      <td>10032</td>\n",
       "      <td>782</td>\n",
       "      <td>7.2%</td>\n",
       "    </tr>\n",
       "  </tbody>\n",
       "</table>\n",
       "</div>"
      ],
      "text/plain": [
       "debt           False  True ratio\n",
       "purpose_group                   \n",
       "автомобиль      3905   403  9.4%\n",
       "образование     3644   370  9.2%\n",
       "свадьба         2149   186  8.0%\n",
       "недвижимость   10032   782  7.2%"
      ]
     },
     "execution_count": 42,
     "metadata": {},
     "output_type": "execute_result"
    },
    {
     "data": {
      "image/png": "[encoded data removed]",
      "text/plain": [
       "<Figure size 432x288 with 2 Axes>"
      ]
     },
     "metadata": {
      "needs_background": "light"
     },
     "output_type": "display_data"
    }
   ],
   "source": [
    "data_purpose = pivot_table('purpose_group') # выводим результаты функции pivot_table(index_group) с переменной 'purpose_group'\n",
    "data_purpose['ratio'] = data_purpose['ratio'].apply('{:.1%}'.format) # изменяем формат столбца 'ratio' на проценты\n",
    "data_purpose"
   ]
  },
  {
   "cell_type": "markdown",
   "metadata": {},
   "source": [
    "**Вывод**"
   ]
  },
  {
   "cell_type": "markdown",
   "metadata": {},
   "source": [
    "Цели кредита влияют на погашение кредита в срок. В категориях `автомобиль` и `образование` невозврат кредита в срок можно увидеть чаще, нежели в категории `недвижимость`. гипотеза подтвердилась."
   ]
  },
  {
   "cell_type": "markdown",
   "metadata": {},
   "source": [
    "## Шаг 4. Общий вывод"
   ]
  },
  {
   "cell_type": "markdown",
   "metadata": {},
   "source": [
    "В данном исследовании проверели четыре гипотезы и установили:\n",
    "\n",
    "1. Есть ли зависимость между наличием детей и возвратом кредита в срок?\n",
    "\n",
    "Наличие детей влияет на выплату кредита в срок.\n",
    "Гипотеза подтвердилась.\n",
    "\n",
    "2. Есть ли зависимость между семейным положением и возвратом кредита в срок?\n",
    "\n",
    "Клиент находящийся или состоял в официальных отношениях возвращает кредит в срок чаще.\n",
    "Гипотеза подтвердилась.\n",
    "\n",
    "3. Есть ли зависимость между уровнем дохода и возвратом кредита в срок?\n",
    "\n",
    "Зависимость прослеживается небольшая. Этот результат мог бы оказаться другим , если бы не было пропусков в даннных.\n",
    "Гипотеза подтвердилась частично.\n",
    "\n",
    "4. Как разные цели кредита влияют на его возврат в срок?\n",
    "\n",
    "Прослеживается зависимость цели кредита и его возврата в срок. Клиенты,взявшие кредит на операции с недвижемостью чаще выплачивают кредит в установленный срок.\n",
    "Гипотеза подтвердилась.\n"
   ]
  },
  {
   "cell_type": "markdown",
   "metadata": {},
   "source": [
    "Оптимальный клиент, при текущих условиях, для банка:\n",
    "* без детей;\n",
    "* женат / замужем / в разводе / вдовец / вдова;\n",
    "* цель кредита: 'недвижимость'."
   ]
  }
 ],
 "metadata": {
  "ExecuteTimeLog": [
   {
    "duration": 3,
    "start_time": "2021-12-21T07:54:20.608Z"
   },
   {
    "duration": 105,
    "start_time": "2021-12-21T07:54:44.982Z"
   },
   {
    "duration": 2187,
    "start_time": "2021-12-21T07:54:58.985Z"
   },
   {
    "duration": 61,
    "start_time": "2021-12-21T07:55:28.790Z"
   },
   {
    "duration": 3,
    "start_time": "2021-12-21T07:56:03.481Z"
   },
   {
    "duration": 53,
    "start_time": "2021-12-21T07:56:03.488Z"
   },
   {
    "duration": 322,
    "start_time": "2021-12-21T07:56:03.543Z"
   },
   {
    "duration": 747,
    "start_time": "2021-12-21T07:56:56.046Z"
   },
   {
    "duration": 521,
    "start_time": "2021-12-21T08:03:48.747Z"
   },
   {
    "duration": 9,
    "start_time": "2021-12-22T11:37:35.506Z"
   },
   {
    "duration": 378,
    "start_time": "2021-12-22T11:37:46.692Z"
   },
   {
    "duration": 330,
    "start_time": "2021-12-22T11:37:58.615Z"
   },
   {
    "duration": 744,
    "start_time": "2021-12-22T11:38:03.939Z"
   },
   {
    "duration": 63,
    "start_time": "2021-12-22T11:38:07.203Z"
   },
   {
    "duration": 4,
    "start_time": "2021-12-22T11:38:11.297Z"
   },
   {
    "duration": 4878,
    "start_time": "2021-12-22T11:38:13.102Z"
   },
   {
    "duration": 323,
    "start_time": "2021-12-22T11:38:48.132Z"
   },
   {
    "duration": 36,
    "start_time": "2021-12-22T11:39:17.663Z"
   },
   {
    "duration": 7,
    "start_time": "2021-12-22T11:42:20.813Z"
   },
   {
    "duration": 5,
    "start_time": "2021-12-22T11:43:24.255Z"
   },
   {
    "duration": 7,
    "start_time": "2021-12-22T11:44:01.465Z"
   },
   {
    "duration": 4,
    "start_time": "2021-12-22T11:50:36.013Z"
   },
   {
    "duration": 299,
    "start_time": "2021-12-22T11:51:49.923Z"
   },
   {
    "duration": 308,
    "start_time": "2021-12-22T11:52:00.979Z"
   },
   {
    "duration": 289,
    "start_time": "2021-12-22T11:52:16.317Z"
   },
   {
    "duration": 4,
    "start_time": "2021-12-22T11:52:30.275Z"
   },
   {
    "duration": 4,
    "start_time": "2021-12-22T11:52:36.138Z"
   },
   {
    "duration": 13,
    "start_time": "2021-12-22T11:52:38.787Z"
   },
   {
    "duration": 36,
    "start_time": "2021-12-22T11:52:51.709Z"
   },
   {
    "duration": 12,
    "start_time": "2021-12-22T11:54:22.983Z"
   },
   {
    "duration": 8,
    "start_time": "2021-12-22T11:54:51.455Z"
   },
   {
    "duration": 7,
    "start_time": "2021-12-22T11:55:06.441Z"
   },
   {
    "duration": 9,
    "start_time": "2021-12-22T11:56:59.736Z"
   },
   {
    "duration": 4,
    "start_time": "2021-12-22T11:57:36.174Z"
   },
   {
    "duration": 31,
    "start_time": "2021-12-22T11:57:41.403Z"
   },
   {
    "duration": 10,
    "start_time": "2021-12-22T11:57:45.033Z"
   },
   {
    "duration": 4,
    "start_time": "2021-12-22T11:58:22.013Z"
   },
   {
    "duration": 33,
    "start_time": "2021-12-22T11:58:24.157Z"
   },
   {
    "duration": 9,
    "start_time": "2021-12-22T11:58:27.260Z"
   },
   {
    "duration": 6,
    "start_time": "2021-12-22T12:12:21.774Z"
   },
   {
    "duration": 3254,
    "start_time": "2021-12-22T12:13:08.164Z"
   },
   {
    "duration": 3289,
    "start_time": "2021-12-22T12:13:25.102Z"
   },
   {
    "duration": 5,
    "start_time": "2021-12-22T12:13:46.853Z"
   },
   {
    "duration": 4239,
    "start_time": "2021-12-22T12:13:49.418Z"
   },
   {
    "duration": 1476,
    "start_time": "2021-12-22T12:14:46.539Z"
   },
   {
    "duration": 100,
    "start_time": "2021-12-22T12:15:17.553Z"
   },
   {
    "duration": 5,
    "start_time": "2021-12-22T12:15:32.829Z"
   },
   {
    "duration": 1621,
    "start_time": "2021-12-22T12:15:35.042Z"
   },
   {
    "duration": 4,
    "start_time": "2021-12-22T12:17:25.504Z"
   },
   {
    "duration": 1559,
    "start_time": "2021-12-22T12:17:28.435Z"
   },
   {
    "duration": 4,
    "start_time": "2021-12-22T12:17:41.472Z"
   },
   {
    "duration": 35,
    "start_time": "2021-12-22T12:17:43.743Z"
   },
   {
    "duration": 3,
    "start_time": "2021-12-22T12:19:34.447Z"
   },
   {
    "duration": 37,
    "start_time": "2021-12-22T12:19:37.933Z"
   },
   {
    "duration": 4,
    "start_time": "2021-12-22T12:21:25.430Z"
   },
   {
    "duration": 40,
    "start_time": "2021-12-22T12:21:27.391Z"
   },
   {
    "duration": 4,
    "start_time": "2021-12-22T12:21:54.891Z"
   },
   {
    "duration": 1469,
    "start_time": "2021-12-22T12:21:56.796Z"
   },
   {
    "duration": 4,
    "start_time": "2021-12-22T12:23:28.365Z"
   },
   {
    "duration": 35,
    "start_time": "2021-12-22T12:23:30.555Z"
   },
   {
    "duration": 5,
    "start_time": "2021-12-22T12:24:22.746Z"
   },
   {
    "duration": 36,
    "start_time": "2021-12-22T12:24:24.482Z"
   },
   {
    "duration": 105,
    "start_time": "2021-12-22T12:25:07.304Z"
   },
   {
    "duration": 7,
    "start_time": "2021-12-22T12:25:14.220Z"
   },
   {
    "duration": 52,
    "start_time": "2021-12-22T12:25:16.043Z"
   },
   {
    "duration": 5,
    "start_time": "2021-12-22T12:26:04.280Z"
   },
   {
    "duration": 32,
    "start_time": "2021-12-22T12:28:10.551Z"
   },
   {
    "duration": 108,
    "start_time": "2021-12-22T12:30:00.838Z"
   },
   {
    "duration": 4,
    "start_time": "2021-12-22T12:30:07.586Z"
   },
   {
    "duration": 13,
    "start_time": "2021-12-22T12:31:19.451Z"
   },
   {
    "duration": 10,
    "start_time": "2021-12-22T12:31:36.565Z"
   },
   {
    "duration": 104,
    "start_time": "2021-12-22T12:31:57.642Z"
   },
   {
    "duration": 4,
    "start_time": "2021-12-22T12:32:05.344Z"
   },
   {
    "duration": 14,
    "start_time": "2021-12-22T12:32:05.726Z"
   },
   {
    "duration": 10,
    "start_time": "2021-12-22T12:32:08.011Z"
   },
   {
    "duration": 13,
    "start_time": "2021-12-22T12:32:10.475Z"
   },
   {
    "duration": 10,
    "start_time": "2021-12-22T12:32:12.688Z"
   },
   {
    "duration": 743,
    "start_time": "2021-12-22T12:33:00.507Z"
   },
   {
    "duration": 311,
    "start_time": "2021-12-22T12:39:26.749Z"
   },
   {
    "duration": 6,
    "start_time": "2021-12-22T12:39:52.613Z"
   },
   {
    "duration": 7,
    "start_time": "2021-12-22T12:40:33.578Z"
   },
   {
    "duration": 796,
    "start_time": "2021-12-22T12:40:49.313Z"
   },
   {
    "duration": 6,
    "start_time": "2021-12-22T12:40:55.257Z"
   },
   {
    "duration": 4,
    "start_time": "2021-12-22T12:42:18.444Z"
   },
   {
    "duration": 12,
    "start_time": "2021-12-22T12:42:20.418Z"
   },
   {
    "duration": 11,
    "start_time": "2021-12-22T12:42:22.232Z"
   },
   {
    "duration": 3,
    "start_time": "2021-12-22T12:43:28.623Z"
   },
   {
    "duration": 13,
    "start_time": "2021-12-22T12:43:31.788Z"
   },
   {
    "duration": 10,
    "start_time": "2021-12-22T12:43:32.261Z"
   },
   {
    "duration": 4,
    "start_time": "2021-12-22T12:44:18.243Z"
   },
   {
    "duration": 13,
    "start_time": "2021-12-22T12:44:19.548Z"
   },
   {
    "duration": 10,
    "start_time": "2021-12-22T12:44:21.085Z"
   },
   {
    "duration": 5,
    "start_time": "2021-12-22T12:44:30.390Z"
   },
   {
    "duration": 15,
    "start_time": "2021-12-22T12:44:31.683Z"
   },
   {
    "duration": 9,
    "start_time": "2021-12-22T12:44:32.021Z"
   },
   {
    "duration": 4,
    "start_time": "2021-12-22T12:49:00.541Z"
   },
   {
    "duration": 33,
    "start_time": "2021-12-22T12:49:02.477Z"
   },
   {
    "duration": 9,
    "start_time": "2021-12-22T12:49:05.649Z"
   },
   {
    "duration": 300,
    "start_time": "2021-12-22T12:52:21.990Z"
   },
   {
    "duration": 55,
    "start_time": "2021-12-22T12:52:40.594Z"
   },
   {
    "duration": 133,
    "start_time": "2021-12-22T12:53:11.173Z"
   },
   {
    "duration": 306,
    "start_time": "2021-12-22T12:53:20.922Z"
   },
   {
    "duration": 301,
    "start_time": "2021-12-22T12:53:28.370Z"
   },
   {
    "duration": 7,
    "start_time": "2021-12-22T12:53:42.169Z"
   },
   {
    "duration": 56,
    "start_time": "2021-12-22T12:53:57.212Z"
   },
   {
    "duration": 295,
    "start_time": "2021-12-22T12:54:23.850Z"
   },
   {
    "duration": 13,
    "start_time": "2021-12-22T12:54:33.851Z"
   },
   {
    "duration": 11,
    "start_time": "2021-12-22T12:55:23.688Z"
   },
   {
    "duration": 4,
    "start_time": "2021-12-22T12:55:47.511Z"
   },
   {
    "duration": 15,
    "start_time": "2021-12-22T12:55:48.959Z"
   },
   {
    "duration": 11,
    "start_time": "2021-12-22T12:55:49.796Z"
   },
   {
    "duration": 5,
    "start_time": "2021-12-22T12:57:02.759Z"
   },
   {
    "duration": 14,
    "start_time": "2021-12-22T12:57:03.915Z"
   },
   {
    "duration": 11,
    "start_time": "2021-12-22T12:57:04.420Z"
   },
   {
    "duration": 10,
    "start_time": "2021-12-22T12:57:54.565Z"
   },
   {
    "duration": 7,
    "start_time": "2021-12-22T12:58:46.606Z"
   },
   {
    "duration": 4,
    "start_time": "2021-12-22T12:59:21.264Z"
   },
   {
    "duration": 13,
    "start_time": "2021-12-22T12:59:22.899Z"
   },
   {
    "duration": 14,
    "start_time": "2021-12-22T12:59:22.915Z"
   },
   {
    "duration": 10,
    "start_time": "2021-12-22T13:00:14.372Z"
   },
   {
    "duration": 12,
    "start_time": "2021-12-22T13:00:26.762Z"
   },
   {
    "duration": 11,
    "start_time": "2021-12-22T13:00:56.732Z"
   },
   {
    "duration": 10,
    "start_time": "2021-12-22T13:02:15.589Z"
   },
   {
    "duration": 4,
    "start_time": "2021-12-22T13:02:36.335Z"
   },
   {
    "duration": 13,
    "start_time": "2021-12-22T13:02:36.777Z"
   },
   {
    "duration": 10,
    "start_time": "2021-12-22T13:02:37.249Z"
   },
   {
    "duration": 9,
    "start_time": "2021-12-22T13:03:23.021Z"
   },
   {
    "duration": 7,
    "start_time": "2021-12-22T13:03:32.121Z"
   },
   {
    "duration": 11,
    "start_time": "2021-12-22T13:04:07.103Z"
   },
   {
    "duration": 10,
    "start_time": "2021-12-22T13:05:07.951Z"
   },
   {
    "duration": 4,
    "start_time": "2021-12-22T13:05:26.009Z"
   },
   {
    "duration": 19,
    "start_time": "2021-12-22T13:05:26.893Z"
   },
   {
    "duration": 9,
    "start_time": "2021-12-22T13:05:27.425Z"
   },
   {
    "duration": 10,
    "start_time": "2021-12-22T13:06:14.618Z"
   },
   {
    "duration": 5,
    "start_time": "2021-12-22T13:06:25.770Z"
   },
   {
    "duration": 13,
    "start_time": "2021-12-22T13:06:26.286Z"
   },
   {
    "duration": 9,
    "start_time": "2021-12-22T13:06:26.775Z"
   },
   {
    "duration": 4,
    "start_time": "2021-12-22T13:06:46.696Z"
   },
   {
    "duration": 13,
    "start_time": "2021-12-22T13:06:47.258Z"
   },
   {
    "duration": 9,
    "start_time": "2021-12-22T13:06:47.788Z"
   },
   {
    "duration": 4,
    "start_time": "2021-12-22T13:07:14.783Z"
   },
   {
    "duration": 12,
    "start_time": "2021-12-22T13:07:15.277Z"
   },
   {
    "duration": 11,
    "start_time": "2021-12-22T13:07:15.759Z"
   },
   {
    "duration": 4,
    "start_time": "2021-12-22T13:08:26.229Z"
   },
   {
    "duration": 13,
    "start_time": "2021-12-22T13:08:26.835Z"
   },
   {
    "duration": 9,
    "start_time": "2021-12-22T13:08:27.354Z"
   },
   {
    "duration": 14,
    "start_time": "2021-12-22T13:11:52.453Z"
   },
   {
    "duration": 7,
    "start_time": "2021-12-22T13:12:06.943Z"
   },
   {
    "duration": 12,
    "start_time": "2021-12-22T13:12:31.049Z"
   },
   {
    "duration": 11,
    "start_time": "2021-12-22T13:12:48.501Z"
   },
   {
    "duration": 10,
    "start_time": "2021-12-22T13:12:57.117Z"
   },
   {
    "duration": 11,
    "start_time": "2021-12-22T13:13:04.422Z"
   },
   {
    "duration": 4,
    "start_time": "2021-12-22T13:13:15.747Z"
   },
   {
    "duration": 13,
    "start_time": "2021-12-22T13:13:16.475Z"
   },
   {
    "duration": 10,
    "start_time": "2021-12-22T13:13:17.019Z"
   },
   {
    "duration": 10,
    "start_time": "2021-12-22T13:13:38.288Z"
   },
   {
    "duration": 11,
    "start_time": "2021-12-22T13:13:52.754Z"
   },
   {
    "duration": 4,
    "start_time": "2021-12-22T13:14:18.120Z"
   },
   {
    "duration": 13,
    "start_time": "2021-12-22T13:14:18.830Z"
   },
   {
    "duration": 9,
    "start_time": "2021-12-22T13:14:19.400Z"
   },
   {
    "duration": 4,
    "start_time": "2021-12-22T13:14:43.326Z"
   },
   {
    "duration": 13,
    "start_time": "2021-12-22T13:14:43.835Z"
   },
   {
    "duration": 10,
    "start_time": "2021-12-22T13:14:44.390Z"
   },
   {
    "duration": 11,
    "start_time": "2021-12-22T13:27:59.191Z"
   },
   {
    "duration": 4,
    "start_time": "2021-12-22T13:28:43.163Z"
   },
   {
    "duration": 71,
    "start_time": "2021-12-22T13:30:08.186Z"
   },
   {
    "duration": 28,
    "start_time": "2021-12-22T13:30:09.540Z"
   },
   {
    "duration": 15,
    "start_time": "2021-12-22T13:30:28.442Z"
   },
   {
    "duration": 13,
    "start_time": "2021-12-22T13:31:44.373Z"
   },
   {
    "duration": 7,
    "start_time": "2021-12-22T13:33:22.940Z"
   },
   {
    "duration": 5,
    "start_time": "2021-12-22T13:33:34.107Z"
   },
   {
    "duration": 13,
    "start_time": "2021-12-22T13:33:49.024Z"
   },
   {
    "duration": 610,
    "start_time": "2021-12-22T13:35:00.151Z"
   },
   {
    "duration": 15,
    "start_time": "2021-12-22T13:35:16.930Z"
   },
   {
    "duration": 159,
    "start_time": "2021-12-22T13:35:34.935Z"
   },
   {
    "duration": 6,
    "start_time": "2021-12-22T13:35:45.655Z"
   },
   {
    "duration": 160,
    "start_time": "2021-12-22T13:35:56.148Z"
   },
   {
    "duration": 6,
    "start_time": "2021-12-22T13:36:07.307Z"
   },
   {
    "duration": 5,
    "start_time": "2021-12-22T13:36:33.202Z"
   },
   {
    "duration": 5,
    "start_time": "2021-12-22T13:36:43.147Z"
   },
   {
    "duration": 17,
    "start_time": "2021-12-22T13:36:57.907Z"
   },
   {
    "duration": 24,
    "start_time": "2021-12-22T13:38:10.972Z"
   },
   {
    "duration": 3,
    "start_time": "2021-12-22T13:38:16.772Z"
   },
   {
    "duration": 4543,
    "start_time": "2021-12-22T13:38:29.292Z"
   },
   {
    "duration": 2150,
    "start_time": "2021-12-22T13:38:56.305Z"
   },
   {
    "duration": 2797,
    "start_time": "2021-12-22T13:39:20.207Z"
   },
   {
    "duration": 4,
    "start_time": "2021-12-22T13:39:34.292Z"
   },
   {
    "duration": 75,
    "start_time": "2021-12-22T13:39:34.298Z"
   },
   {
    "duration": 43,
    "start_time": "2021-12-22T13:39:34.376Z"
   },
   {
    "duration": 15,
    "start_time": "2021-12-22T13:39:34.422Z"
   },
   {
    "duration": 12,
    "start_time": "2021-12-22T13:39:34.439Z"
   },
   {
    "duration": 4,
    "start_time": "2021-12-22T13:39:34.454Z"
   },
   {
    "duration": 4,
    "start_time": "2021-12-22T13:39:34.461Z"
   },
   {
    "duration": 52,
    "start_time": "2021-12-22T13:39:34.467Z"
   },
   {
    "duration": 641,
    "start_time": "2021-12-22T13:39:34.521Z"
   },
   {
    "duration": 14,
    "start_time": "2021-12-22T13:39:35.164Z"
   },
   {
    "duration": 171,
    "start_time": "2021-12-22T13:39:35.180Z"
   },
   {
    "duration": 8,
    "start_time": "2021-12-22T13:39:35.354Z"
   },
   {
    "duration": 194,
    "start_time": "2021-12-22T13:39:35.365Z"
   },
   {
    "duration": 5,
    "start_time": "2021-12-22T13:39:35.562Z"
   },
   {
    "duration": 6,
    "start_time": "2021-12-22T13:39:35.570Z"
   },
   {
    "duration": 7,
    "start_time": "2021-12-22T13:39:35.578Z"
   },
   {
    "duration": 40,
    "start_time": "2021-12-22T13:39:35.587Z"
   },
   {
    "duration": 23,
    "start_time": "2021-12-22T13:39:35.629Z"
   },
   {
    "duration": 24,
    "start_time": "2021-12-22T13:39:35.656Z"
   },
   {
    "duration": 4772,
    "start_time": "2021-12-22T13:39:35.682Z"
   },
   {
    "duration": 95,
    "start_time": "2021-12-22T13:39:40.457Z"
   },
   {
    "duration": -2058,
    "start_time": "2021-12-22T13:39:42.612Z"
   },
   {
    "duration": -2103,
    "start_time": "2021-12-22T13:39:42.659Z"
   },
   {
    "duration": -2119,
    "start_time": "2021-12-22T13:39:42.676Z"
   },
   {
    "duration": -2137,
    "start_time": "2021-12-22T13:39:42.695Z"
   },
   {
    "duration": -2152,
    "start_time": "2021-12-22T13:39:42.712Z"
   },
   {
    "duration": -2167,
    "start_time": "2021-12-22T13:39:42.728Z"
   },
   {
    "duration": -2181,
    "start_time": "2021-12-22T13:39:42.743Z"
   },
   {
    "duration": -2197,
    "start_time": "2021-12-22T13:39:42.760Z"
   },
   {
    "duration": -2204,
    "start_time": "2021-12-22T13:39:42.769Z"
   },
   {
    "duration": -2205,
    "start_time": "2021-12-22T13:39:42.772Z"
   },
   {
    "duration": -2209,
    "start_time": "2021-12-22T13:39:42.777Z"
   },
   {
    "duration": -2221,
    "start_time": "2021-12-22T13:39:42.790Z"
   },
   {
    "duration": 2090,
    "start_time": "2021-12-22T13:39:55.433Z"
   },
   {
    "duration": 2052,
    "start_time": "2021-12-22T13:40:14.463Z"
   },
   {
    "duration": 3,
    "start_time": "2021-12-22T13:40:19.791Z"
   },
   {
    "duration": 64,
    "start_time": "2021-12-22T13:40:19.797Z"
   },
   {
    "duration": 22,
    "start_time": "2021-12-22T13:40:19.864Z"
   },
   {
    "duration": 40,
    "start_time": "2021-12-22T13:40:19.889Z"
   },
   {
    "duration": 12,
    "start_time": "2021-12-22T13:40:19.932Z"
   },
   {
    "duration": 4,
    "start_time": "2021-12-22T13:40:19.946Z"
   },
   {
    "duration": 5,
    "start_time": "2021-12-22T13:40:19.953Z"
   },
   {
    "duration": 57,
    "start_time": "2021-12-22T13:40:19.961Z"
   },
   {
    "duration": 633,
    "start_time": "2021-12-22T13:40:20.021Z"
   },
   {
    "duration": 13,
    "start_time": "2021-12-22T13:40:20.657Z"
   },
   {
    "duration": 177,
    "start_time": "2021-12-22T13:40:20.673Z"
   },
   {
    "duration": 5,
    "start_time": "2021-12-22T13:40:20.852Z"
   },
   {
    "duration": 177,
    "start_time": "2021-12-22T13:40:20.860Z"
   },
   {
    "duration": 6,
    "start_time": "2021-12-22T13:40:21.039Z"
   },
   {
    "duration": 7,
    "start_time": "2021-12-22T13:40:21.047Z"
   },
   {
    "duration": 6,
    "start_time": "2021-12-22T13:40:21.056Z"
   },
   {
    "duration": 22,
    "start_time": "2021-12-22T13:40:21.064Z"
   },
   {
    "duration": 46,
    "start_time": "2021-12-22T13:40:21.088Z"
   },
   {
    "duration": 24,
    "start_time": "2021-12-22T13:40:21.138Z"
   },
   {
    "duration": 21,
    "start_time": "2021-12-22T13:40:21.165Z"
   },
   {
    "duration": 51,
    "start_time": "2021-12-22T13:40:21.188Z"
   },
   {
    "duration": 4915,
    "start_time": "2021-12-22T13:40:21.241Z"
   },
   {
    "duration": 99,
    "start_time": "2021-12-22T13:40:26.159Z"
   },
   {
    "duration": -2060,
    "start_time": "2021-12-22T13:40:28.321Z"
   },
   {
    "duration": -2094,
    "start_time": "2021-12-22T13:40:28.357Z"
   },
   {
    "duration": -2098,
    "start_time": "2021-12-22T13:40:28.362Z"
   },
   {
    "duration": -2101,
    "start_time": "2021-12-22T13:40:28.367Z"
   },
   {
    "duration": -2106,
    "start_time": "2021-12-22T13:40:28.373Z"
   },
   {
    "duration": -2108,
    "start_time": "2021-12-22T13:40:28.377Z"
   },
   {
    "duration": -2111,
    "start_time": "2021-12-22T13:40:28.382Z"
   },
   {
    "duration": -2116,
    "start_time": "2021-12-22T13:40:28.388Z"
   },
   {
    "duration": -2134,
    "start_time": "2021-12-22T13:40:28.408Z"
   },
   {
    "duration": -2140,
    "start_time": "2021-12-22T13:40:28.415Z"
   },
   {
    "duration": -2144,
    "start_time": "2021-12-22T13:40:28.421Z"
   },
   {
    "duration": -2150,
    "start_time": "2021-12-22T13:40:28.428Z"
   },
   {
    "duration": 23,
    "start_time": "2021-12-22T13:40:42.364Z"
   },
   {
    "duration": 17,
    "start_time": "2021-12-22T13:40:53.142Z"
   },
   {
    "duration": 17,
    "start_time": "2021-12-22T13:40:57.672Z"
   },
   {
    "duration": 46,
    "start_time": "2021-12-22T13:41:13.639Z"
   },
   {
    "duration": 36,
    "start_time": "2021-12-22T13:41:28.453Z"
   },
   {
    "duration": 11,
    "start_time": "2021-12-22T13:41:40.076Z"
   },
   {
    "duration": 7,
    "start_time": "2021-12-22T13:41:49.062Z"
   },
   {
    "duration": 7,
    "start_time": "2021-12-22T13:42:32.233Z"
   },
   {
    "duration": 7,
    "start_time": "2021-12-22T13:43:25.978Z"
   },
   {
    "duration": 4,
    "start_time": "2021-12-22T13:43:42.539Z"
   },
   {
    "duration": 13,
    "start_time": "2021-12-22T13:43:43.176Z"
   },
   {
    "duration": 10,
    "start_time": "2021-12-22T13:43:43.678Z"
   },
   {
    "duration": 4,
    "start_time": "2021-12-22T13:44:00.750Z"
   },
   {
    "duration": 12,
    "start_time": "2021-12-22T13:44:01.205Z"
   },
   {
    "duration": 15,
    "start_time": "2021-12-22T13:44:01.648Z"
   },
   {
    "duration": 35,
    "start_time": "2021-12-22T13:44:32.880Z"
   },
   {
    "duration": 32,
    "start_time": "2021-12-22T13:44:47.631Z"
   },
   {
    "duration": 5,
    "start_time": "2021-12-22T13:45:27.666Z"
   },
   {
    "duration": 33,
    "start_time": "2021-12-22T13:45:37.543Z"
   },
   {
    "duration": 63,
    "start_time": "2021-12-22T13:48:19.124Z"
   },
   {
    "duration": 332,
    "start_time": "2021-12-22T13:48:49.886Z"
   },
   {
    "duration": 351,
    "start_time": "2021-12-22T13:48:57.834Z"
   },
   {
    "duration": 308,
    "start_time": "2021-12-22T13:49:13.835Z"
   },
   {
    "duration": 329,
    "start_time": "2021-12-22T13:50:04.685Z"
   },
   {
    "duration": 313,
    "start_time": "2021-12-22T13:50:34.191Z"
   },
   {
    "duration": 4,
    "start_time": "2021-12-22T13:51:53.695Z"
   },
   {
    "duration": 63,
    "start_time": "2021-12-22T13:51:53.701Z"
   },
   {
    "duration": 22,
    "start_time": "2021-12-22T13:51:53.766Z"
   },
   {
    "duration": 42,
    "start_time": "2021-12-22T13:51:53.791Z"
   },
   {
    "duration": 16,
    "start_time": "2021-12-22T13:51:53.835Z"
   },
   {
    "duration": 4,
    "start_time": "2021-12-22T13:51:53.854Z"
   },
   {
    "duration": 9,
    "start_time": "2021-12-22T13:51:53.862Z"
   },
   {
    "duration": 52,
    "start_time": "2021-12-22T13:51:53.874Z"
   },
   {
    "duration": 742,
    "start_time": "2021-12-22T13:51:53.928Z"
   },
   {
    "duration": 13,
    "start_time": "2021-12-22T13:51:54.673Z"
   },
   {
    "duration": 428,
    "start_time": "2021-12-22T13:51:54.689Z"
   },
   {
    "duration": 7,
    "start_time": "2021-12-22T13:51:55.120Z"
   },
   {
    "duration": 195,
    "start_time": "2021-12-22T13:51:55.130Z"
   },
   {
    "duration": 6,
    "start_time": "2021-12-22T13:51:55.328Z"
   },
   {
    "duration": 5,
    "start_time": "2021-12-22T13:51:55.336Z"
   },
   {
    "duration": 4,
    "start_time": "2021-12-22T13:51:55.344Z"
   },
   {
    "duration": 15,
    "start_time": "2021-12-22T13:51:55.351Z"
   },
   {
    "duration": 66,
    "start_time": "2021-12-22T13:51:55.368Z"
   },
   {
    "duration": 25,
    "start_time": "2021-12-22T13:51:55.439Z"
   },
   {
    "duration": 52,
    "start_time": "2021-12-22T13:51:55.467Z"
   },
   {
    "duration": 22,
    "start_time": "2021-12-22T13:51:55.521Z"
   },
   {
    "duration": 46,
    "start_time": "2021-12-22T13:51:55.545Z"
   },
   {
    "duration": 30,
    "start_time": "2021-12-22T13:51:55.618Z"
   },
   {
    "duration": 4518,
    "start_time": "2021-12-22T13:51:55.650Z"
   },
   {
    "duration": 49,
    "start_time": "2021-12-22T13:52:00.170Z"
   },
   {
    "duration": 14,
    "start_time": "2021-12-22T13:52:00.221Z"
   },
   {
    "duration": 5,
    "start_time": "2021-12-22T13:52:00.237Z"
   },
   {
    "duration": 53,
    "start_time": "2021-12-22T13:52:00.244Z"
   },
   {
    "duration": 20,
    "start_time": "2021-12-22T13:52:00.299Z"
   },
   {
    "duration": 10,
    "start_time": "2021-12-22T13:52:00.322Z"
   },
   {
    "duration": 17,
    "start_time": "2021-12-22T13:52:00.334Z"
   },
   {
    "duration": 15,
    "start_time": "2021-12-22T13:52:00.354Z"
   },
   {
    "duration": 14,
    "start_time": "2021-12-22T13:52:00.372Z"
   },
   {
    "duration": 30,
    "start_time": "2021-12-22T13:52:00.389Z"
   },
   {
    "duration": 25,
    "start_time": "2021-12-22T13:52:00.422Z"
   },
   {
    "duration": 6,
    "start_time": "2021-12-22T13:52:00.450Z"
   },
   {
    "duration": 17,
    "start_time": "2021-12-22T13:52:00.458Z"
   },
   {
    "duration": 57,
    "start_time": "2021-12-22T13:52:00.478Z"
   },
   {
    "duration": 338,
    "start_time": "2021-12-22T13:52:00.537Z"
   },
   {
    "duration": 400,
    "start_time": "2021-12-22T13:52:13.446Z"
   },
   {
    "duration": 342,
    "start_time": "2021-12-22T13:52:24.242Z"
   },
   {
    "duration": 325,
    "start_time": "2021-12-22T13:53:17.414Z"
   },
   {
    "duration": 19,
    "start_time": "2021-12-22T13:53:42.445Z"
   },
   {
    "duration": 450,
    "start_time": "2021-12-22T13:54:18.638Z"
   },
   {
    "duration": 43,
    "start_time": "2021-12-22T13:56:19.119Z"
   },
   {
    "duration": 25,
    "start_time": "2021-12-22T13:56:43.779Z"
   },
   {
    "duration": 308,
    "start_time": "2021-12-22T13:57:42.516Z"
   },
   {
    "duration": 26,
    "start_time": "2021-12-22T14:01:05.817Z"
   },
   {
    "duration": 26,
    "start_time": "2021-12-22T14:01:22.843Z"
   },
   {
    "duration": 26,
    "start_time": "2021-12-22T14:02:04.634Z"
   },
   {
    "duration": 58,
    "start_time": "2021-12-22T14:02:14.258Z"
   },
   {
    "duration": 90,
    "start_time": "2021-12-22T14:04:40.935Z"
   },
   {
    "duration": 303,
    "start_time": "2021-12-22T14:04:49.191Z"
   },
   {
    "duration": 279,
    "start_time": "2021-12-22T14:04:57.901Z"
   },
   {
    "duration": 27,
    "start_time": "2021-12-22T14:05:13.298Z"
   },
   {
    "duration": 28,
    "start_time": "2021-12-22T14:05:33.352Z"
   },
   {
    "duration": 305,
    "start_time": "2021-12-22T14:07:29.019Z"
   },
   {
    "duration": 327,
    "start_time": "2021-12-22T14:07:35.027Z"
   },
   {
    "duration": 36,
    "start_time": "2021-12-22T14:07:52.930Z"
   },
   {
    "duration": 28,
    "start_time": "2021-12-22T14:08:02.927Z"
   },
   {
    "duration": 5,
    "start_time": "2021-12-23T06:40:58.430Z"
   },
   {
    "duration": 357,
    "start_time": "2021-12-23T06:41:00.639Z"
   },
   {
    "duration": 778,
    "start_time": "2021-12-23T06:41:05.729Z"
   },
   {
    "duration": 77,
    "start_time": "2021-12-23T06:41:06.509Z"
   },
   {
    "duration": 37,
    "start_time": "2021-12-23T06:41:06.589Z"
   },
   {
    "duration": 15,
    "start_time": "2021-12-23T06:41:06.629Z"
   },
   {
    "duration": 14,
    "start_time": "2021-12-23T06:41:06.646Z"
   },
   {
    "duration": 22,
    "start_time": "2021-12-23T06:41:06.662Z"
   },
   {
    "duration": 12,
    "start_time": "2021-12-23T06:41:06.686Z"
   },
   {
    "duration": 11,
    "start_time": "2021-12-23T06:41:06.719Z"
   },
   {
    "duration": 637,
    "start_time": "2021-12-23T06:41:06.733Z"
   },
   {
    "duration": 14,
    "start_time": "2021-12-23T06:41:07.372Z"
   },
   {
    "duration": 172,
    "start_time": "2021-12-23T06:41:07.388Z"
   },
   {
    "duration": 5,
    "start_time": "2021-12-23T06:41:07.563Z"
   },
   {
    "duration": 180,
    "start_time": "2021-12-23T06:41:07.570Z"
   },
   {
    "duration": 7,
    "start_time": "2021-12-23T06:41:07.752Z"
   },
   {
    "duration": 6,
    "start_time": "2021-12-23T06:41:07.761Z"
   },
   {
    "duration": 6,
    "start_time": "2021-12-23T06:41:07.770Z"
   },
   {
    "duration": 46,
    "start_time": "2021-12-23T06:41:07.778Z"
   },
   {
    "duration": 33,
    "start_time": "2021-12-23T06:41:07.827Z"
   },
   {
    "duration": 25,
    "start_time": "2021-12-23T06:41:07.863Z"
   },
   {
    "duration": 33,
    "start_time": "2021-12-23T06:41:07.917Z"
   },
   {
    "duration": 25,
    "start_time": "2021-12-23T06:41:07.953Z"
   },
   {
    "duration": 74,
    "start_time": "2021-12-23T06:41:07.980Z"
   },
   {
    "duration": 9,
    "start_time": "2021-12-23T06:41:08.061Z"
   },
   {
    "duration": 4822,
    "start_time": "2021-12-23T06:41:08.073Z"
   },
   {
    "duration": 50,
    "start_time": "2021-12-23T06:41:12.899Z"
   },
   {
    "duration": 8,
    "start_time": "2021-12-23T06:41:12.952Z"
   },
   {
    "duration": 5,
    "start_time": "2021-12-23T06:41:12.964Z"
   },
   {
    "duration": 65,
    "start_time": "2021-12-23T06:41:12.971Z"
   },
   {
    "duration": 10,
    "start_time": "2021-12-23T06:41:13.038Z"
   },
   {
    "duration": 5,
    "start_time": "2021-12-23T06:41:13.050Z"
   },
   {
    "duration": 17,
    "start_time": "2021-12-23T06:41:13.057Z"
   },
   {
    "duration": 41,
    "start_time": "2021-12-23T06:41:13.077Z"
   },
   {
    "duration": 7,
    "start_time": "2021-12-23T06:41:13.121Z"
   },
   {
    "duration": 9,
    "start_time": "2021-12-23T06:41:13.131Z"
   },
   {
    "duration": 18,
    "start_time": "2021-12-23T06:41:13.143Z"
   },
   {
    "duration": 5,
    "start_time": "2021-12-23T06:41:13.163Z"
   },
   {
    "duration": 5,
    "start_time": "2021-12-23T06:41:13.218Z"
   },
   {
    "duration": 32,
    "start_time": "2021-12-23T06:41:13.226Z"
   },
   {
    "duration": 26,
    "start_time": "2021-12-23T06:41:13.261Z"
   },
   {
    "duration": 27,
    "start_time": "2021-12-23T06:41:13.317Z"
   },
   {
    "duration": 4,
    "start_time": "2021-12-23T07:12:35.098Z"
   },
   {
    "duration": 1592,
    "start_time": "2021-12-23T07:14:01.297Z"
   },
   {
    "duration": 4,
    "start_time": "2021-12-23T07:14:28.385Z"
   },
   {
    "duration": 1462,
    "start_time": "2021-12-23T07:14:30.970Z"
   },
   {
    "duration": 1691,
    "start_time": "2021-12-23T07:15:09.729Z"
   },
   {
    "duration": 4,
    "start_time": "2021-12-23T07:15:27.809Z"
   },
   {
    "duration": 2023,
    "start_time": "2021-12-23T07:15:30.129Z"
   },
   {
    "duration": 304,
    "start_time": "2021-12-23T07:16:19.872Z"
   },
   {
    "duration": 63,
    "start_time": "2021-12-23T07:16:50.288Z"
   },
   {
    "duration": 5,
    "start_time": "2021-12-23T07:17:26.464Z"
   },
   {
    "duration": 57,
    "start_time": "2021-12-23T07:17:28.696Z"
   },
   {
    "duration": 5,
    "start_time": "2021-12-23T07:19:28.310Z"
   },
   {
    "duration": 8087,
    "start_time": "2021-12-23T07:19:29.518Z"
   },
   {
    "duration": 6,
    "start_time": "2021-12-23T07:19:53.721Z"
   },
   {
    "duration": 8247,
    "start_time": "2021-12-23T07:19:56.206Z"
   },
   {
    "duration": 5,
    "start_time": "2021-12-23T07:20:21.734Z"
   },
   {
    "duration": 638,
    "start_time": "2021-12-23T07:20:23.037Z"
   },
   {
    "duration": 4,
    "start_time": "2021-12-23T07:20:58.654Z"
   },
   {
    "duration": 1279,
    "start_time": "2021-12-23T07:21:00.213Z"
   },
   {
    "duration": 4,
    "start_time": "2021-12-23T07:21:18.653Z"
   },
   {
    "duration": 56,
    "start_time": "2021-12-23T07:21:20.085Z"
   },
   {
    "duration": 764,
    "start_time": "2021-12-23T07:21:42.150Z"
   },
   {
    "duration": 370,
    "start_time": "2021-12-23T07:23:05.252Z"
   },
   {
    "duration": 524,
    "start_time": "2021-12-23T07:23:11.300Z"
   },
   {
    "duration": 57,
    "start_time": "2021-12-23T07:24:16.757Z"
   },
   {
    "duration": 410,
    "start_time": "2021-12-23T07:24:29.565Z"
   },
   {
    "duration": 437,
    "start_time": "2021-12-23T07:29:39.640Z"
   },
   {
    "duration": 308,
    "start_time": "2021-12-23T07:30:57.723Z"
   },
   {
    "duration": 369,
    "start_time": "2021-12-23T07:31:04.280Z"
   },
   {
    "duration": 51,
    "start_time": "2021-12-23T07:31:16.896Z"
   },
   {
    "duration": 107,
    "start_time": "2021-12-23T07:31:24.503Z"
   },
   {
    "duration": 360,
    "start_time": "2021-12-23T07:31:32.215Z"
   },
   {
    "duration": 56,
    "start_time": "2021-12-23T07:31:42.551Z"
   },
   {
    "duration": 7812,
    "start_time": "2021-12-23T07:31:54.751Z"
   },
   {
    "duration": 321,
    "start_time": "2021-12-23T07:32:20.311Z"
   },
   {
    "duration": 327,
    "start_time": "2021-12-23T07:32:36.271Z"
   },
   {
    "duration": 384,
    "start_time": "2021-12-23T07:32:47.087Z"
   },
   {
    "duration": 56,
    "start_time": "2021-12-23T07:34:37.830Z"
   },
   {
    "duration": 311,
    "start_time": "2021-12-23T07:34:55.390Z"
   },
   {
    "duration": 411,
    "start_time": "2021-12-23T07:37:03.973Z"
   },
   {
    "duration": 4,
    "start_time": "2021-12-23T08:24:05.431Z"
   },
   {
    "duration": 781,
    "start_time": "2021-12-23T08:24:05.998Z"
   },
   {
    "duration": 129,
    "start_time": "2021-12-23T08:24:15.591Z"
   },
   {
    "duration": 5,
    "start_time": "2021-12-23T08:26:39.517Z"
   },
   {
    "duration": 57,
    "start_time": "2021-12-23T08:26:41.117Z"
   },
   {
    "duration": 59,
    "start_time": "2021-12-23T08:26:47.621Z"
   },
   {
    "duration": 5,
    "start_time": "2021-12-23T08:27:12.693Z"
   },
   {
    "duration": 28,
    "start_time": "2021-12-23T08:27:13.685Z"
   },
   {
    "duration": 5,
    "start_time": "2021-12-23T08:27:29.885Z"
   },
   {
    "duration": 29,
    "start_time": "2021-12-23T08:27:30.549Z"
   },
   {
    "duration": 6,
    "start_time": "2021-12-23T08:29:09.254Z"
   },
   {
    "duration": 78,
    "start_time": "2021-12-23T08:29:10.008Z"
   },
   {
    "duration": 5,
    "start_time": "2021-12-23T08:29:41.762Z"
   },
   {
    "duration": 392,
    "start_time": "2021-12-23T08:29:55.379Z"
   },
   {
    "duration": 29,
    "start_time": "2021-12-23T08:29:58.884Z"
   },
   {
    "duration": 309,
    "start_time": "2021-12-23T08:30:03.180Z"
   },
   {
    "duration": 4,
    "start_time": "2021-12-23T08:30:05.299Z"
   },
   {
    "duration": 5,
    "start_time": "2021-12-23T08:30:09.469Z"
   },
   {
    "duration": 325,
    "start_time": "2021-12-23T08:30:13.037Z"
   },
   {
    "duration": 27,
    "start_time": "2021-12-23T08:30:28.702Z"
   },
   {
    "duration": 309,
    "start_time": "2021-12-23T08:30:32.620Z"
   },
   {
    "duration": 322,
    "start_time": "2021-12-23T08:31:45.395Z"
   },
   {
    "duration": 301,
    "start_time": "2021-12-23T08:31:50.003Z"
   },
   {
    "duration": 4,
    "start_time": "2021-12-23T08:31:55.320Z"
   },
   {
    "duration": 70,
    "start_time": "2021-12-23T08:31:55.326Z"
   },
   {
    "duration": 22,
    "start_time": "2021-12-23T08:31:55.503Z"
   },
   {
    "duration": 17,
    "start_time": "2021-12-23T08:31:55.528Z"
   },
   {
    "duration": 17,
    "start_time": "2021-12-23T08:31:55.548Z"
   },
   {
    "duration": 6,
    "start_time": "2021-12-23T08:31:55.568Z"
   },
   {
    "duration": 44,
    "start_time": "2021-12-23T08:31:55.576Z"
   },
   {
    "duration": 16,
    "start_time": "2021-12-23T08:31:55.622Z"
   },
   {
    "duration": 679,
    "start_time": "2021-12-23T08:31:55.640Z"
   },
   {
    "duration": 13,
    "start_time": "2021-12-23T08:31:56.323Z"
   },
   {
    "duration": 186,
    "start_time": "2021-12-23T08:31:56.339Z"
   },
   {
    "duration": 6,
    "start_time": "2021-12-23T08:31:56.528Z"
   },
   {
    "duration": 181,
    "start_time": "2021-12-23T08:31:56.536Z"
   },
   {
    "duration": 6,
    "start_time": "2021-12-23T08:31:56.720Z"
   },
   {
    "duration": 6,
    "start_time": "2021-12-23T08:31:56.728Z"
   },
   {
    "duration": 5,
    "start_time": "2021-12-23T08:31:56.736Z"
   },
   {
    "duration": 19,
    "start_time": "2021-12-23T08:31:56.743Z"
   },
   {
    "duration": 59,
    "start_time": "2021-12-23T08:31:56.764Z"
   },
   {
    "duration": 25,
    "start_time": "2021-12-23T08:31:56.826Z"
   },
   {
    "duration": 28,
    "start_time": "2021-12-23T08:31:56.854Z"
   },
   {
    "duration": 50,
    "start_time": "2021-12-23T08:31:56.884Z"
   },
   {
    "duration": 44,
    "start_time": "2021-12-23T08:31:56.937Z"
   },
   {
    "duration": 60,
    "start_time": "2021-12-23T08:31:56.983Z"
   },
   {
    "duration": 4434,
    "start_time": "2021-12-23T08:31:57.046Z"
   },
   {
    "duration": 45,
    "start_time": "2021-12-23T08:32:01.485Z"
   },
   {
    "duration": 7,
    "start_time": "2021-12-23T08:32:01.534Z"
   },
   {
    "duration": 10,
    "start_time": "2021-12-23T08:32:01.544Z"
   },
   {
    "duration": 61,
    "start_time": "2021-12-23T08:32:01.556Z"
   },
   {
    "duration": 11,
    "start_time": "2021-12-23T08:32:01.619Z"
   },
   {
    "duration": 28,
    "start_time": "2021-12-23T08:32:01.632Z"
   },
   {
    "duration": 35,
    "start_time": "2021-12-23T08:32:01.662Z"
   },
   {
    "duration": 35,
    "start_time": "2021-12-23T08:32:01.699Z"
   },
   {
    "duration": 25,
    "start_time": "2021-12-23T08:32:01.736Z"
   },
   {
    "duration": 28,
    "start_time": "2021-12-23T08:32:01.764Z"
   },
   {
    "duration": 37,
    "start_time": "2021-12-23T08:32:01.794Z"
   },
   {
    "duration": 24,
    "start_time": "2021-12-23T08:32:01.833Z"
   },
   {
    "duration": 24,
    "start_time": "2021-12-23T08:32:01.859Z"
   },
   {
    "duration": 80,
    "start_time": "2021-12-23T08:32:01.886Z"
   },
   {
    "duration": 25,
    "start_time": "2021-12-23T08:32:01.968Z"
   },
   {
    "duration": 11,
    "start_time": "2021-12-23T08:32:01.996Z"
   },
   {
    "duration": 52,
    "start_time": "2021-12-23T08:32:02.010Z"
   },
   {
    "duration": 12,
    "start_time": "2021-12-23T08:32:02.064Z"
   },
   {
    "duration": 405,
    "start_time": "2021-12-23T08:32:02.079Z"
   },
   {
    "duration": 5,
    "start_time": "2021-12-23T08:33:01.146Z"
   },
   {
    "duration": 1463,
    "start_time": "2021-12-23T08:33:01.650Z"
   },
   {
    "duration": 6,
    "start_time": "2021-12-23T08:33:08.946Z"
   },
   {
    "duration": 25,
    "start_time": "2021-12-23T08:33:09.818Z"
   },
   {
    "duration": 6,
    "start_time": "2021-12-23T08:36:02.561Z"
   },
   {
    "duration": 1450,
    "start_time": "2021-12-23T08:36:03.064Z"
   },
   {
    "duration": 5,
    "start_time": "2021-12-23T08:36:10.521Z"
   },
   {
    "duration": 6,
    "start_time": "2021-12-23T08:40:03.526Z"
   },
   {
    "duration": 27,
    "start_time": "2021-12-23T08:40:04.510Z"
   },
   {
    "duration": 26,
    "start_time": "2021-12-23T08:40:34.191Z"
   },
   {
    "duration": 5,
    "start_time": "2021-12-23T08:40:39.533Z"
   },
   {
    "duration": 1683,
    "start_time": "2021-12-23T08:40:40.197Z"
   },
   {
    "duration": 7,
    "start_time": "2021-12-23T08:41:35.093Z"
   },
   {
    "duration": 26,
    "start_time": "2021-12-23T08:41:35.629Z"
   },
   {
    "duration": 207,
    "start_time": "2021-12-23T08:41:44.405Z"
   },
   {
    "duration": 5,
    "start_time": "2021-12-23T08:42:23.045Z"
   },
   {
    "duration": 602,
    "start_time": "2021-12-23T08:42:25.213Z"
   },
   {
    "duration": 5,
    "start_time": "2021-12-23T08:44:39.508Z"
   },
   {
    "duration": 28,
    "start_time": "2021-12-23T08:44:40.228Z"
   },
   {
    "duration": 459,
    "start_time": "2021-12-23T08:44:50.964Z"
   },
   {
    "duration": 383,
    "start_time": "2021-12-23T08:45:06.356Z"
   },
   {
    "duration": 403,
    "start_time": "2021-12-23T08:45:39.539Z"
   },
   {
    "duration": 313,
    "start_time": "2021-12-23T08:45:44.979Z"
   },
   {
    "duration": 314,
    "start_time": "2021-12-23T08:46:45.554Z"
   },
   {
    "duration": 369,
    "start_time": "2021-12-23T08:48:06.650Z"
   },
   {
    "duration": 384,
    "start_time": "2021-12-23T08:48:34.866Z"
   },
   {
    "duration": 6,
    "start_time": "2021-12-23T08:55:40.342Z"
   },
   {
    "duration": 1533,
    "start_time": "2021-12-23T08:55:43.295Z"
   },
   {
    "duration": 5,
    "start_time": "2021-12-23T08:55:55.278Z"
   },
   {
    "duration": 29,
    "start_time": "2021-12-23T08:55:55.998Z"
   },
   {
    "duration": 5,
    "start_time": "2021-12-23T08:56:02.390Z"
   },
   {
    "duration": 27,
    "start_time": "2021-12-23T08:56:04.198Z"
   },
   {
    "duration": 309,
    "start_time": "2021-12-23T08:57:03.638Z"
   },
   {
    "duration": 308,
    "start_time": "2021-12-23T08:58:22.572Z"
   },
   {
    "duration": 27,
    "start_time": "2021-12-23T08:58:24.573Z"
   },
   {
    "duration": 376,
    "start_time": "2021-12-23T09:01:39.067Z"
   },
   {
    "duration": 315,
    "start_time": "2021-12-23T09:01:45.139Z"
   },
   {
    "duration": 5,
    "start_time": "2021-12-23T09:07:00.649Z"
   },
   {
    "duration": 658,
    "start_time": "2021-12-23T09:07:01.361Z"
   },
   {
    "duration": 6,
    "start_time": "2021-12-23T09:07:17.264Z"
   },
   {
    "duration": 27,
    "start_time": "2021-12-23T09:07:17.816Z"
   },
   {
    "duration": 308,
    "start_time": "2021-12-23T09:07:29.016Z"
   },
   {
    "duration": 309,
    "start_time": "2021-12-23T09:07:41.976Z"
   },
   {
    "duration": 5,
    "start_time": "2021-12-23T09:09:01.656Z"
   },
   {
    "duration": 397,
    "start_time": "2021-12-23T09:09:04.296Z"
   },
   {
    "duration": 3,
    "start_time": "2021-12-23T09:09:04.767Z"
   },
   {
    "duration": 3,
    "start_time": "2021-12-23T09:09:40.232Z"
   },
   {
    "duration": 5,
    "start_time": "2021-12-23T09:09:42.495Z"
   },
   {
    "duration": 368,
    "start_time": "2021-12-23T09:09:44.200Z"
   },
   {
    "duration": 6,
    "start_time": "2021-12-23T09:10:32.895Z"
   },
   {
    "duration": 401,
    "start_time": "2021-12-23T09:10:35.751Z"
   },
   {
    "duration": 380,
    "start_time": "2021-12-23T09:11:31.271Z"
   },
   {
    "duration": 496,
    "start_time": "2021-12-23T09:11:44.655Z"
   },
   {
    "duration": 370,
    "start_time": "2021-12-23T09:11:54.607Z"
   },
   {
    "duration": 5,
    "start_time": "2021-12-23T09:12:25.686Z"
   },
   {
    "duration": 625,
    "start_time": "2021-12-23T09:12:27.454Z"
   },
   {
    "duration": 3,
    "start_time": "2021-12-23T09:12:34.662Z"
   },
   {
    "duration": 406,
    "start_time": "2021-12-23T09:12:37.623Z"
   },
   {
    "duration": 6,
    "start_time": "2021-12-23T09:14:27.389Z"
   },
   {
    "duration": 379,
    "start_time": "2021-12-23T09:14:29.397Z"
   },
   {
    "duration": 377,
    "start_time": "2021-12-23T09:14:39.717Z"
   },
   {
    "duration": 6,
    "start_time": "2021-12-23T09:15:11.972Z"
   },
   {
    "duration": 648,
    "start_time": "2021-12-23T09:15:12.597Z"
   },
   {
    "duration": 5,
    "start_time": "2021-12-23T09:15:25.765Z"
   },
   {
    "duration": 422,
    "start_time": "2021-12-23T09:15:28.621Z"
   },
   {
    "duration": 6,
    "start_time": "2021-12-23T09:16:00.037Z"
   },
   {
    "duration": 434,
    "start_time": "2021-12-23T09:16:00.941Z"
   },
   {
    "duration": 426,
    "start_time": "2021-12-23T09:16:56.956Z"
   },
   {
    "duration": 5,
    "start_time": "2021-12-23T09:24:19.697Z"
   },
   {
    "duration": 405,
    "start_time": "2021-12-23T09:24:20.864Z"
   },
   {
    "duration": 5,
    "start_time": "2021-12-23T09:24:27.984Z"
   },
   {
    "duration": 431,
    "start_time": "2021-12-23T09:24:28.568Z"
   },
   {
    "duration": 5,
    "start_time": "2021-12-23T09:24:56.352Z"
   },
   {
    "duration": 388,
    "start_time": "2021-12-23T09:24:57.616Z"
   },
   {
    "duration": 5,
    "start_time": "2021-12-23T09:25:09.968Z"
   },
   {
    "duration": 417,
    "start_time": "2021-12-23T09:25:10.721Z"
   },
   {
    "duration": 5,
    "start_time": "2021-12-23T09:28:29.143Z"
   },
   {
    "duration": 416,
    "start_time": "2021-12-23T09:28:34.975Z"
   },
   {
    "duration": 5,
    "start_time": "2021-12-23T09:30:25.374Z"
   },
   {
    "duration": 531,
    "start_time": "2021-12-23T09:30:26.302Z"
   },
   {
    "duration": 7957,
    "start_time": "2021-12-23T09:32:41.101Z"
   },
   {
    "duration": 6,
    "start_time": "2021-12-23T09:32:54.212Z"
   },
   {
    "duration": 8396,
    "start_time": "2021-12-23T09:32:54.828Z"
   },
   {
    "duration": 435,
    "start_time": "2021-12-23T09:33:32.389Z"
   },
   {
    "duration": 396,
    "start_time": "2021-12-23T09:34:06.045Z"
   },
   {
    "duration": 629,
    "start_time": "2021-12-23T09:35:33.179Z"
   },
   {
    "duration": 427,
    "start_time": "2021-12-23T09:35:40.267Z"
   },
   {
    "duration": 1570,
    "start_time": "2021-12-23T09:36:42.387Z"
   },
   {
    "duration": 380,
    "start_time": "2021-12-23T09:36:53.395Z"
   },
   {
    "duration": 393,
    "start_time": "2021-12-23T09:38:17.050Z"
   },
   {
    "duration": 3,
    "start_time": "2021-12-23T09:41:06.248Z"
   },
   {
    "duration": 59,
    "start_time": "2021-12-23T09:41:08.576Z"
   },
   {
    "duration": 21,
    "start_time": "2021-12-23T09:41:10.047Z"
   },
   {
    "duration": 4,
    "start_time": "2021-12-23T09:41:13.428Z"
   },
   {
    "duration": 85,
    "start_time": "2021-12-23T09:41:13.434Z"
   },
   {
    "duration": 20,
    "start_time": "2021-12-23T09:41:13.522Z"
   },
   {
    "duration": 13,
    "start_time": "2021-12-23T09:41:13.545Z"
   },
   {
    "duration": 12,
    "start_time": "2021-12-23T09:41:13.561Z"
   },
   {
    "duration": 4,
    "start_time": "2021-12-23T09:41:13.575Z"
   },
   {
    "duration": 4,
    "start_time": "2021-12-23T09:41:13.618Z"
   },
   {
    "duration": 13,
    "start_time": "2021-12-23T09:41:13.624Z"
   },
   {
    "duration": 637,
    "start_time": "2021-12-23T09:41:13.641Z"
   },
   {
    "duration": 14,
    "start_time": "2021-12-23T09:41:14.281Z"
   },
   {
    "duration": 180,
    "start_time": "2021-12-23T09:41:14.297Z"
   },
   {
    "duration": 6,
    "start_time": "2021-12-23T09:41:14.479Z"
   },
   {
    "duration": 176,
    "start_time": "2021-12-23T09:41:14.487Z"
   },
   {
    "duration": 6,
    "start_time": "2021-12-23T09:41:14.665Z"
   },
   {
    "duration": 6,
    "start_time": "2021-12-23T09:41:14.673Z"
   },
   {
    "duration": 6,
    "start_time": "2021-12-23T09:41:14.681Z"
   },
   {
    "duration": 37,
    "start_time": "2021-12-23T09:41:14.690Z"
   },
   {
    "duration": 25,
    "start_time": "2021-12-23T09:41:14.729Z"
   },
   {
    "duration": 24,
    "start_time": "2021-12-23T09:41:14.757Z"
   },
   {
    "duration": 46,
    "start_time": "2021-12-23T09:41:14.784Z"
   },
   {
    "duration": 21,
    "start_time": "2021-12-23T09:41:14.832Z"
   },
   {
    "duration": 68,
    "start_time": "2021-12-23T09:41:14.855Z"
   },
   {
    "duration": 24,
    "start_time": "2021-12-23T09:41:14.925Z"
   },
   {
    "duration": 4706,
    "start_time": "2021-12-23T09:41:14.952Z"
   },
   {
    "duration": 39,
    "start_time": "2021-12-23T09:41:19.661Z"
   },
   {
    "duration": 8,
    "start_time": "2021-12-23T09:41:19.717Z"
   },
   {
    "duration": 4,
    "start_time": "2021-12-23T09:41:19.730Z"
   },
   {
    "duration": 34,
    "start_time": "2021-12-23T09:41:19.737Z"
   },
   {
    "duration": 46,
    "start_time": "2021-12-23T09:41:19.773Z"
   },
   {
    "duration": 4,
    "start_time": "2021-12-23T09:41:19.822Z"
   },
   {
    "duration": 15,
    "start_time": "2021-12-23T09:41:19.829Z"
   },
   {
    "duration": 10,
    "start_time": "2021-12-23T09:41:19.847Z"
   },
   {
    "duration": 8,
    "start_time": "2021-12-23T09:41:19.859Z"
   },
   {
    "duration": 55,
    "start_time": "2021-12-23T09:41:19.869Z"
   },
   {
    "duration": 22,
    "start_time": "2021-12-23T09:41:19.926Z"
   },
   {
    "duration": 7,
    "start_time": "2021-12-23T09:41:19.950Z"
   },
   {
    "duration": 6,
    "start_time": "2021-12-23T09:41:19.960Z"
   },
   {
    "duration": 80,
    "start_time": "2021-12-23T09:41:19.969Z"
   },
   {
    "duration": 26,
    "start_time": "2021-12-23T09:41:20.052Z"
   },
   {
    "duration": 4,
    "start_time": "2021-12-23T09:41:20.081Z"
   },
   {
    "duration": 6,
    "start_time": "2021-12-23T09:41:20.118Z"
   },
   {
    "duration": 507,
    "start_time": "2021-12-23T09:41:20.127Z"
   },
   {
    "duration": 435,
    "start_time": "2021-12-23T09:41:20.636Z"
   },
   {
    "duration": 399,
    "start_time": "2021-12-23T09:41:21.073Z"
   },
   {
    "duration": 457,
    "start_time": "2021-12-23T09:41:21.475Z"
   },
   {
    "duration": 6,
    "start_time": "2021-12-23T09:43:23.839Z"
   },
   {
    "duration": 11,
    "start_time": "2021-12-23T09:46:03.357Z"
   },
   {
    "duration": 9,
    "start_time": "2021-12-23T09:47:04.845Z"
   },
   {
    "duration": 3,
    "start_time": "2021-12-23T09:47:45.301Z"
   },
   {
    "duration": 11,
    "start_time": "2021-12-23T09:47:47.812Z"
   },
   {
    "duration": 11,
    "start_time": "2021-12-23T09:47:48.989Z"
   },
   {
    "duration": 4,
    "start_time": "2021-12-23T09:48:37.981Z"
   },
   {
    "duration": 11,
    "start_time": "2021-12-23T09:48:38.460Z"
   },
   {
    "duration": 11,
    "start_time": "2021-12-23T09:48:38.988Z"
   },
   {
    "duration": 4,
    "start_time": "2021-12-23T09:48:48.732Z"
   },
   {
    "duration": 11,
    "start_time": "2021-12-23T09:48:49.252Z"
   },
   {
    "duration": 10,
    "start_time": "2021-12-23T09:48:49.708Z"
   },
   {
    "duration": 4,
    "start_time": "2021-12-23T09:49:17.661Z"
   },
   {
    "duration": 16120,
    "start_time": "2021-12-23T09:49:18.347Z"
   },
   {
    "duration": 12,
    "start_time": "2021-12-23T09:49:34.470Z"
   },
   {
    "duration": 4,
    "start_time": "2021-12-23T09:49:43.988Z"
   },
   {
    "duration": 17085,
    "start_time": "2021-12-23T09:49:45.332Z"
   },
   {
    "duration": 10,
    "start_time": "2021-12-23T09:50:02.419Z"
   },
   {
    "duration": 436,
    "start_time": "2021-12-23T09:51:16.362Z"
   },
   {
    "duration": 3,
    "start_time": "2021-12-23T09:51:55.252Z"
   },
   {
    "duration": 15455,
    "start_time": "2021-12-23T09:51:55.794Z"
   },
   {
    "duration": 10,
    "start_time": "2021-12-23T09:52:11.252Z"
   },
   {
    "duration": 4,
    "start_time": "2021-12-23T09:53:19.106Z"
   },
   {
    "duration": 25087,
    "start_time": "2021-12-23T09:53:19.658Z"
   },
   {
    "duration": 10,
    "start_time": "2021-12-23T09:53:44.747Z"
   },
   {
    "duration": 97,
    "start_time": "2021-12-23T09:54:10.354Z"
   },
   {
    "duration": 4,
    "start_time": "2021-12-23T09:54:16.545Z"
   },
   {
    "duration": 31354,
    "start_time": "2021-12-23T09:54:17.202Z"
   },
   {
    "duration": 14,
    "start_time": "2021-12-23T09:54:48.559Z"
   },
   {
    "duration": 5,
    "start_time": "2021-12-23T09:55:11.962Z"
   },
   {
    "duration": 4,
    "start_time": "2021-12-23T09:56:29.481Z"
   },
   {
    "duration": 26664,
    "start_time": "2021-12-23T09:56:30.057Z"
   },
   {
    "duration": 13,
    "start_time": "2021-12-23T09:56:56.724Z"
   },
   {
    "duration": 515,
    "start_time": "2021-12-23T09:57:06.728Z"
   },
   {
    "duration": 6,
    "start_time": "2021-12-23T10:06:26.964Z"
   },
   {
    "duration": 24322,
    "start_time": "2021-12-23T10:06:27.499Z"
   },
   {
    "duration": 10,
    "start_time": "2021-12-23T10:06:51.824Z"
   },
   {
    "duration": 355,
    "start_time": "2021-12-23T10:07:32.012Z"
   },
   {
    "duration": 1452,
    "start_time": "2021-12-23T14:16:21.350Z"
   },
   {
    "duration": 61,
    "start_time": "2021-12-23T14:16:23.385Z"
   },
   {
    "duration": 25,
    "start_time": "2021-12-23T14:16:25.399Z"
   },
   {
    "duration": 11,
    "start_time": "2021-12-23T14:26:00.735Z"
   },
   {
    "duration": 131,
    "start_time": "2021-12-23T14:28:24.142Z"
   },
   {
    "duration": 108,
    "start_time": "2021-12-23T14:28:31.834Z"
   },
   {
    "duration": 101,
    "start_time": "2021-12-23T14:28:44.788Z"
   },
   {
    "duration": 560,
    "start_time": "2021-12-23T14:29:07.859Z"
   },
   {
    "duration": 324,
    "start_time": "2021-12-23T14:29:17.092Z"
   },
   {
    "duration": 316,
    "start_time": "2021-12-23T14:29:23.645Z"
   },
   {
    "duration": 14,
    "start_time": "2021-12-23T14:29:34.537Z"
   },
   {
    "duration": 656,
    "start_time": "2021-12-23T14:32:36.581Z"
   },
   {
    "duration": 15,
    "start_time": "2021-12-23T14:38:41.647Z"
   },
   {
    "duration": 8,
    "start_time": "2021-12-23T14:41:43.117Z"
   },
   {
    "duration": 156,
    "start_time": "2021-12-23T14:41:47.758Z"
   },
   {
    "duration": 6,
    "start_time": "2021-12-23T14:41:49.762Z"
   },
   {
    "duration": 154,
    "start_time": "2021-12-23T14:44:17.763Z"
   },
   {
    "duration": 7,
    "start_time": "2021-12-23T14:44:18.515Z"
   },
   {
    "duration": 12,
    "start_time": "2021-12-23T14:45:35.283Z"
   },
   {
    "duration": 12,
    "start_time": "2021-12-23T14:45:49.931Z"
   },
   {
    "duration": 6,
    "start_time": "2021-12-23T14:50:10.993Z"
   },
   {
    "duration": 5,
    "start_time": "2021-12-23T14:50:11.862Z"
   },
   {
    "duration": 18,
    "start_time": "2021-12-23T14:50:25.708Z"
   },
   {
    "duration": 31,
    "start_time": "2021-12-23T14:51:53.969Z"
   },
   {
    "duration": 25,
    "start_time": "2021-12-23T14:51:56.500Z"
   },
   {
    "duration": 22,
    "start_time": "2021-12-23T14:51:59.877Z"
   },
   {
    "duration": 24,
    "start_time": "2021-12-23T14:52:04.642Z"
   },
   {
    "duration": 45,
    "start_time": "2021-12-23T14:52:09.434Z"
   },
   {
    "duration": 4827,
    "start_time": "2021-12-23T14:58:29.378Z"
   },
   {
    "duration": 36,
    "start_time": "2021-12-23T14:59:31.164Z"
   },
   {
    "duration": 404,
    "start_time": "2021-12-23T15:01:13.679Z"
   },
   {
    "duration": 5,
    "start_time": "2021-12-23T15:01:16.001Z"
   },
   {
    "duration": 9,
    "start_time": "2021-12-23T15:01:18.543Z"
   },
   {
    "duration": 27,
    "start_time": "2021-12-23T15:01:21.802Z"
   },
   {
    "duration": 1367,
    "start_time": "2021-12-23T15:01:38.766Z"
   },
   {
    "duration": 59,
    "start_time": "2021-12-23T15:01:40.136Z"
   },
   {
    "duration": 30,
    "start_time": "2021-12-23T15:01:40.198Z"
   },
   {
    "duration": 15,
    "start_time": "2021-12-23T15:01:40.231Z"
   },
   {
    "duration": 12,
    "start_time": "2021-12-23T15:01:40.248Z"
   },
   {
    "duration": 9,
    "start_time": "2021-12-23T15:01:40.262Z"
   },
   {
    "duration": 4,
    "start_time": "2021-12-23T15:01:40.273Z"
   },
   {
    "duration": 11,
    "start_time": "2021-12-23T15:01:40.322Z"
   },
   {
    "duration": 649,
    "start_time": "2021-12-23T15:01:40.336Z"
   },
   {
    "duration": 14,
    "start_time": "2021-12-23T15:01:40.987Z"
   },
   {
    "duration": 190,
    "start_time": "2021-12-23T15:01:41.003Z"
   },
   {
    "duration": 6,
    "start_time": "2021-12-23T15:01:41.196Z"
   },
   {
    "duration": 196,
    "start_time": "2021-12-23T15:01:41.204Z"
   },
   {
    "duration": 6,
    "start_time": "2021-12-23T15:01:41.403Z"
   },
   {
    "duration": 22,
    "start_time": "2021-12-23T15:01:41.411Z"
   },
   {
    "duration": 6,
    "start_time": "2021-12-23T15:01:41.436Z"
   },
   {
    "duration": 8,
    "start_time": "2021-12-23T15:01:41.445Z"
   },
   {
    "duration": 16,
    "start_time": "2021-12-23T15:01:41.455Z"
   },
   {
    "duration": 64,
    "start_time": "2021-12-23T15:01:41.474Z"
   },
   {
    "duration": 24,
    "start_time": "2021-12-23T15:01:41.540Z"
   },
   {
    "duration": 21,
    "start_time": "2021-12-23T15:01:41.566Z"
   },
   {
    "duration": 45,
    "start_time": "2021-12-23T15:01:41.589Z"
   },
   {
    "duration": 42,
    "start_time": "2021-12-23T15:01:41.640Z"
   },
   {
    "duration": 5396,
    "start_time": "2021-12-23T15:01:41.685Z"
   },
   {
    "duration": 46,
    "start_time": "2021-12-23T15:01:47.087Z"
   },
   {
    "duration": 9,
    "start_time": "2021-12-23T15:01:47.135Z"
   },
   {
    "duration": 6,
    "start_time": "2021-12-23T15:01:47.146Z"
   },
   {
    "duration": 30,
    "start_time": "2021-12-23T15:01:47.155Z"
   },
   {
    "duration": 37,
    "start_time": "2021-12-23T15:01:47.188Z"
   },
   {
    "duration": 20,
    "start_time": "2021-12-23T15:01:47.228Z"
   },
   {
    "duration": 12,
    "start_time": "2021-12-23T15:01:47.251Z"
   },
   {
    "duration": 23389,
    "start_time": "2021-12-23T15:01:47.265Z"
   },
   {
    "duration": 11,
    "start_time": "2021-12-23T15:02:10.657Z"
   },
   {
    "duration": 9,
    "start_time": "2021-12-23T15:02:10.671Z"
   },
   {
    "duration": 9,
    "start_time": "2021-12-23T15:02:10.682Z"
   },
   {
    "duration": 9,
    "start_time": "2021-12-23T15:02:10.724Z"
   },
   {
    "duration": 9,
    "start_time": "2021-12-23T15:02:10.736Z"
   },
   {
    "duration": 19,
    "start_time": "2021-12-23T15:02:10.747Z"
   },
   {
    "duration": 6,
    "start_time": "2021-12-23T15:02:10.769Z"
   },
   {
    "duration": 6,
    "start_time": "2021-12-23T15:02:10.825Z"
   },
   {
    "duration": 33,
    "start_time": "2021-12-23T15:02:10.833Z"
   },
   {
    "duration": 24,
    "start_time": "2021-12-23T15:02:10.868Z"
   },
   {
    "duration": 5,
    "start_time": "2021-12-23T15:02:10.923Z"
   },
   {
    "duration": 485,
    "start_time": "2021-12-23T15:02:10.930Z"
   },
   {
    "duration": 382,
    "start_time": "2021-12-23T15:02:11.417Z"
   },
   {
    "duration": 369,
    "start_time": "2021-12-23T15:02:11.802Z"
   },
   {
    "duration": 385,
    "start_time": "2021-12-23T15:02:12.175Z"
   },
   {
    "duration": 321,
    "start_time": "2021-12-24T08:14:29.403Z"
   },
   {
    "duration": 1513,
    "start_time": "2021-12-24T08:14:38.290Z"
   },
   {
    "duration": 63,
    "start_time": "2021-12-24T08:14:39.805Z"
   },
   {
    "duration": 31,
    "start_time": "2021-12-24T08:14:39.875Z"
   },
   {
    "duration": 67,
    "start_time": "2021-12-24T08:14:39.908Z"
   },
   {
    "duration": 17,
    "start_time": "2021-12-24T08:14:39.979Z"
   },
   {
    "duration": 7,
    "start_time": "2021-12-24T08:14:39.999Z"
   },
   {
    "duration": 5,
    "start_time": "2021-12-24T08:14:40.012Z"
   },
   {
    "duration": 57,
    "start_time": "2021-12-24T08:14:40.021Z"
   },
   {
    "duration": 1095,
    "start_time": "2021-12-24T08:14:40.081Z"
   },
   {
    "duration": 18,
    "start_time": "2021-12-24T08:14:41.179Z"
   },
   {
    "duration": 274,
    "start_time": "2021-12-24T08:14:41.200Z"
   },
   {
    "duration": 8,
    "start_time": "2021-12-24T08:14:41.476Z"
   },
   {
    "duration": 179,
    "start_time": "2021-12-24T08:14:41.487Z"
   },
   {
    "duration": 6,
    "start_time": "2021-12-24T08:14:41.669Z"
   },
   {
    "duration": 21,
    "start_time": "2021-12-24T08:14:41.678Z"
   },
   {
    "duration": 21,
    "start_time": "2021-12-24T08:14:41.702Z"
   },
   {
    "duration": 39,
    "start_time": "2021-12-24T08:14:41.725Z"
   },
   {
    "duration": 5,
    "start_time": "2021-12-24T08:14:41.768Z"
   },
   {
    "duration": 23,
    "start_time": "2021-12-24T08:14:41.776Z"
   },
   {
    "duration": 61,
    "start_time": "2021-12-24T08:14:41.802Z"
   },
   {
    "duration": 33,
    "start_time": "2021-12-24T08:14:41.866Z"
   },
   {
    "duration": 29,
    "start_time": "2021-12-24T08:14:41.906Z"
   },
   {
    "duration": 55,
    "start_time": "2021-12-24T08:14:41.939Z"
   },
   {
    "duration": 91,
    "start_time": "2021-12-24T08:14:41.997Z"
   },
   {
    "duration": 4981,
    "start_time": "2021-12-24T08:14:42.091Z"
   },
   {
    "duration": 37,
    "start_time": "2021-12-24T08:14:47.074Z"
   },
   {
    "duration": 9,
    "start_time": "2021-12-24T08:14:47.114Z"
   },
   {
    "duration": 5,
    "start_time": "2021-12-24T08:14:47.127Z"
   },
   {
    "duration": 29,
    "start_time": "2021-12-24T08:14:47.164Z"
   },
   {
    "duration": 10,
    "start_time": "2021-12-24T08:14:47.196Z"
   },
   {
    "duration": 11,
    "start_time": "2021-12-24T08:14:47.209Z"
   },
   {
    "duration": 5,
    "start_time": "2021-12-24T08:14:47.262Z"
   },
   {
    "duration": 24946,
    "start_time": "2021-12-24T08:14:47.270Z"
   },
   {
    "duration": 10,
    "start_time": "2021-12-24T08:15:12.218Z"
   },
   {
    "duration": 8,
    "start_time": "2021-12-24T08:15:12.230Z"
   },
   {
    "duration": 30,
    "start_time": "2021-12-24T08:15:12.240Z"
   },
   {
    "duration": 7,
    "start_time": "2021-12-24T08:15:12.272Z"
   },
   {
    "duration": 5,
    "start_time": "2021-12-24T08:15:12.282Z"
   },
   {
    "duration": 16,
    "start_time": "2021-12-24T08:15:12.290Z"
   },
   {
    "duration": 5,
    "start_time": "2021-12-24T08:15:12.308Z"
   },
   {
    "duration": 4,
    "start_time": "2021-12-24T08:15:12.364Z"
   },
   {
    "duration": 35,
    "start_time": "2021-12-24T08:15:12.370Z"
   },
   {
    "duration": 28,
    "start_time": "2021-12-24T08:15:12.408Z"
   },
   {
    "duration": 6,
    "start_time": "2021-12-24T08:15:12.464Z"
   },
   {
    "duration": 494,
    "start_time": "2021-12-24T08:15:12.472Z"
   },
   {
    "duration": 422,
    "start_time": "2021-12-24T08:15:12.968Z"
   },
   {
    "duration": 414,
    "start_time": "2021-12-24T08:15:13.392Z"
   },
   {
    "duration": 427,
    "start_time": "2021-12-24T08:15:13.808Z"
   },
   {
    "duration": 44,
    "start_time": "2021-12-24T08:40:21.651Z"
   },
   {
    "duration": 16,
    "start_time": "2021-12-24T08:41:05.695Z"
   },
   {
    "duration": 35,
    "start_time": "2021-12-24T08:45:15.253Z"
   },
   {
    "duration": 1519,
    "start_time": "2021-12-25T08:03:17.775Z"
   },
   {
    "duration": 63,
    "start_time": "2021-12-25T08:03:19.297Z"
   },
   {
    "duration": 21,
    "start_time": "2021-12-25T08:03:19.363Z"
   },
   {
    "duration": 31,
    "start_time": "2021-12-25T08:03:19.387Z"
   },
   {
    "duration": 13,
    "start_time": "2021-12-25T08:03:19.420Z"
   },
   {
    "duration": 6,
    "start_time": "2021-12-25T08:03:19.435Z"
   },
   {
    "duration": 4,
    "start_time": "2021-12-25T08:03:19.443Z"
   },
   {
    "duration": 11,
    "start_time": "2021-12-25T08:03:19.451Z"
   },
   {
    "duration": 639,
    "start_time": "2021-12-25T08:03:19.465Z"
   },
   {
    "duration": 24,
    "start_time": "2021-12-25T08:03:20.106Z"
   },
   {
    "duration": 176,
    "start_time": "2021-12-25T08:03:20.133Z"
   },
   {
    "duration": 6,
    "start_time": "2021-12-25T08:03:20.312Z"
   },
   {
    "duration": 184,
    "start_time": "2021-12-25T08:03:20.320Z"
   },
   {
    "duration": 15,
    "start_time": "2021-12-25T08:03:20.506Z"
   },
   {
    "duration": 45,
    "start_time": "2021-12-25T08:03:20.523Z"
   },
   {
    "duration": 14,
    "start_time": "2021-12-25T08:03:20.570Z"
   },
   {
    "duration": 20,
    "start_time": "2021-12-25T08:03:20.586Z"
   },
   {
    "duration": 9,
    "start_time": "2021-12-25T08:03:20.608Z"
   },
   {
    "duration": 29,
    "start_time": "2021-12-25T08:03:20.619Z"
   },
   {
    "duration": 37,
    "start_time": "2021-12-25T08:03:20.651Z"
   },
   {
    "duration": 30,
    "start_time": "2021-12-25T08:03:20.690Z"
   },
   {
    "duration": 40,
    "start_time": "2021-12-25T08:03:20.722Z"
   },
   {
    "duration": 26,
    "start_time": "2021-12-25T08:03:20.767Z"
   },
   {
    "duration": 62,
    "start_time": "2021-12-25T08:03:20.796Z"
   },
   {
    "duration": 4633,
    "start_time": "2021-12-25T08:03:20.861Z"
   },
   {
    "duration": 49,
    "start_time": "2021-12-25T08:03:25.496Z"
   },
   {
    "duration": 9,
    "start_time": "2021-12-25T08:03:25.548Z"
   },
   {
    "duration": 4,
    "start_time": "2021-12-25T08:03:25.559Z"
   },
   {
    "duration": 61,
    "start_time": "2021-12-25T08:03:25.566Z"
   },
   {
    "duration": 10,
    "start_time": "2021-12-25T08:03:25.630Z"
   },
   {
    "duration": 6,
    "start_time": "2021-12-25T08:03:25.643Z"
   },
   {
    "duration": 28395,
    "start_time": "2021-12-25T08:03:25.652Z"
   },
   {
    "duration": 14,
    "start_time": "2021-12-25T08:03:54.050Z"
   },
   {
    "duration": 6,
    "start_time": "2021-12-25T08:03:54.067Z"
   },
   {
    "duration": 90,
    "start_time": "2021-12-25T08:03:54.076Z"
   },
   {
    "duration": 49,
    "start_time": "2021-12-25T08:03:54.169Z"
   },
   {
    "duration": 5,
    "start_time": "2021-12-25T08:03:54.221Z"
   },
   {
    "duration": 489,
    "start_time": "2021-12-25T08:03:54.228Z"
   },
   {
    "duration": 1835,
    "start_time": "2021-12-25T08:03:54.719Z"
   },
   {
    "duration": -6171,
    "start_time": "2021-12-25T08:04:02.729Z"
   },
   {
    "duration": -6178,
    "start_time": "2021-12-25T08:04:02.738Z"
   },
   {
    "duration": 377,
    "start_time": "2021-12-25T08:04:36.402Z"
   },
   {
    "duration": 326,
    "start_time": "2021-12-25T08:04:47.657Z"
   },
   {
    "duration": 308,
    "start_time": "2021-12-25T08:04:58.771Z"
   },
   {
    "duration": 315,
    "start_time": "2021-12-25T08:05:43.631Z"
   },
   {
    "duration": 5,
    "start_time": "2021-12-25T08:06:07.765Z"
   },
   {
    "duration": 2452,
    "start_time": "2021-12-25T08:06:11.155Z"
   },
   {
    "duration": 394,
    "start_time": "2021-12-25T08:07:22.473Z"
   },
   {
    "duration": 409,
    "start_time": "2021-12-25T08:07:26.081Z"
   },
   {
    "duration": 8,
    "start_time": "2021-12-25T08:08:31.638Z"
   },
   {
    "duration": 13,
    "start_time": "2021-12-25T08:10:52.468Z"
   },
   {
    "duration": 159,
    "start_time": "2021-12-25T08:11:17.691Z"
   },
   {
    "duration": 13,
    "start_time": "2021-12-25T08:13:58.702Z"
   },
   {
    "duration": 2212,
    "start_time": "2021-12-25T08:18:04.815Z"
   },
   {
    "duration": 1611,
    "start_time": "2021-12-25T08:18:36.444Z"
   },
   {
    "duration": 416,
    "start_time": "2021-12-25T08:27:16.851Z"
   },
   {
    "duration": 9,
    "start_time": "2021-12-25T08:27:19.838Z"
   },
   {
    "duration": 17,
    "start_time": "2021-12-25T08:27:25.364Z"
   },
   {
    "duration": 4,
    "start_time": "2021-12-25T08:27:44.369Z"
   },
   {
    "duration": 25412,
    "start_time": "2021-12-25T08:27:45.321Z"
   },
   {
    "duration": 10,
    "start_time": "2021-12-25T08:28:10.736Z"
   },
   {
    "duration": 6,
    "start_time": "2021-12-25T08:28:10.749Z"
   },
   {
    "duration": 7,
    "start_time": "2021-12-25T08:28:37.487Z"
   },
   {
    "duration": 359,
    "start_time": "2021-12-25T08:28:44.481Z"
   },
   {
    "duration": 44,
    "start_time": "2021-12-25T08:31:43.185Z"
   },
   {
    "duration": 7,
    "start_time": "2021-12-25T08:31:44.482Z"
   },
   {
    "duration": 4,
    "start_time": "2021-12-25T08:31:58.255Z"
   },
   {
    "duration": 26373,
    "start_time": "2021-12-25T08:31:58.884Z"
   },
   {
    "duration": 13,
    "start_time": "2021-12-25T08:32:25.260Z"
   },
   {
    "duration": 1432,
    "start_time": "2021-12-25T08:32:53.064Z"
   },
   {
    "duration": 62,
    "start_time": "2021-12-25T08:32:54.498Z"
   },
   {
    "duration": 23,
    "start_time": "2021-12-25T08:32:54.562Z"
   },
   {
    "duration": 31,
    "start_time": "2021-12-25T08:32:54.588Z"
   },
   {
    "duration": 11,
    "start_time": "2021-12-25T08:32:54.622Z"
   },
   {
    "duration": 5,
    "start_time": "2021-12-25T08:32:54.636Z"
   },
   {
    "duration": 8,
    "start_time": "2021-12-25T08:32:54.643Z"
   },
   {
    "duration": 11,
    "start_time": "2021-12-25T08:32:54.655Z"
   },
   {
    "duration": 602,
    "start_time": "2021-12-25T08:32:54.718Z"
   },
   {
    "duration": 13,
    "start_time": "2021-12-25T08:32:55.322Z"
   },
   {
    "duration": 3,
    "start_time": "2021-12-25T08:32:55.337Z"
   },
   {
    "duration": 46,
    "start_time": "2021-12-25T08:32:55.342Z"
   },
   {
    "duration": 31,
    "start_time": "2021-12-25T08:32:55.390Z"
   },
   {
    "duration": 16,
    "start_time": "2021-12-25T08:32:55.424Z"
   },
   {
    "duration": 266,
    "start_time": "2021-12-25T08:32:55.442Z"
   },
   {
    "duration": 11,
    "start_time": "2021-12-25T08:32:55.710Z"
   },
   {
    "duration": 16,
    "start_time": "2021-12-25T08:32:55.724Z"
   },
   {
    "duration": 19,
    "start_time": "2021-12-25T08:32:55.743Z"
   },
   {
    "duration": 471,
    "start_time": "2021-12-25T08:32:55.765Z"
   },
   {
    "duration": -6125,
    "start_time": "2021-12-25T08:33:02.364Z"
   },
   {
    "duration": -6150,
    "start_time": "2021-12-25T08:33:02.391Z"
   },
   {
    "duration": -6157,
    "start_time": "2021-12-25T08:33:02.400Z"
   },
   {
    "duration": -6169,
    "start_time": "2021-12-25T08:33:02.413Z"
   },
   {
    "duration": -6180,
    "start_time": "2021-12-25T08:33:02.426Z"
   },
   {
    "duration": -6184,
    "start_time": "2021-12-25T08:33:02.432Z"
   },
   {
    "duration": -6195,
    "start_time": "2021-12-25T08:33:02.444Z"
   },
   {
    "duration": -6206,
    "start_time": "2021-12-25T08:33:02.457Z"
   },
   {
    "duration": -6209,
    "start_time": "2021-12-25T08:33:02.461Z"
   },
   {
    "duration": -6214,
    "start_time": "2021-12-25T08:33:02.468Z"
   },
   {
    "duration": -6219,
    "start_time": "2021-12-25T08:33:02.475Z"
   },
   {
    "duration": -6224,
    "start_time": "2021-12-25T08:33:02.482Z"
   },
   {
    "duration": -6226,
    "start_time": "2021-12-25T08:33:02.486Z"
   },
   {
    "duration": -6229,
    "start_time": "2021-12-25T08:33:02.491Z"
   },
   {
    "duration": -6232,
    "start_time": "2021-12-25T08:33:02.495Z"
   },
   {
    "duration": -6240,
    "start_time": "2021-12-25T08:33:02.505Z"
   },
   {
    "duration": -6245,
    "start_time": "2021-12-25T08:33:02.512Z"
   },
   {
    "duration": -6248,
    "start_time": "2021-12-25T08:33:02.516Z"
   },
   {
    "duration": -6250,
    "start_time": "2021-12-25T08:33:02.520Z"
   },
   {
    "duration": -6253,
    "start_time": "2021-12-25T08:33:02.524Z"
   },
   {
    "duration": -6255,
    "start_time": "2021-12-25T08:33:02.528Z"
   },
   {
    "duration": -6258,
    "start_time": "2021-12-25T08:33:02.532Z"
   },
   {
    "duration": -6218,
    "start_time": "2021-12-25T08:33:02.535Z"
   },
   {
    "duration": -6221,
    "start_time": "2021-12-25T08:33:02.539Z"
   },
   {
    "duration": 366,
    "start_time": "2021-12-25T14:54:44.049Z"
   },
   {
    "duration": 1578,
    "start_time": "2021-12-25T14:54:55.189Z"
   },
   {
    "duration": 64,
    "start_time": "2021-12-25T14:54:56.770Z"
   },
   {
    "duration": 30,
    "start_time": "2021-12-25T14:54:56.837Z"
   },
   {
    "duration": 16,
    "start_time": "2021-12-25T14:54:56.870Z"
   },
   {
    "duration": 13,
    "start_time": "2021-12-25T14:54:56.888Z"
   },
   {
    "duration": 12,
    "start_time": "2021-12-25T14:54:56.903Z"
   },
   {
    "duration": 5,
    "start_time": "2021-12-25T14:54:56.917Z"
   },
   {
    "duration": 48,
    "start_time": "2021-12-25T14:54:56.926Z"
   },
   {
    "duration": 626,
    "start_time": "2021-12-25T14:54:56.977Z"
   },
   {
    "duration": 13,
    "start_time": "2021-12-25T14:54:57.606Z"
   },
   {
    "duration": 3,
    "start_time": "2021-12-25T14:54:57.622Z"
   },
   {
    "duration": 79,
    "start_time": "2021-12-25T14:54:57.628Z"
   },
   {
    "duration": 6,
    "start_time": "2021-12-25T14:54:57.710Z"
   },
   {
    "duration": 15,
    "start_time": "2021-12-25T14:54:57.718Z"
   },
   {
    "duration": 3,
    "start_time": "2021-12-25T14:54:57.735Z"
   },
   {
    "duration": 62,
    "start_time": "2021-12-25T14:54:57.767Z"
   },
   {
    "duration": 6,
    "start_time": "2021-12-25T14:54:57.831Z"
   },
   {
    "duration": 36,
    "start_time": "2021-12-25T14:54:57.839Z"
   },
   {
    "duration": 15,
    "start_time": "2021-12-25T14:54:57.877Z"
   },
   {
    "duration": 6,
    "start_time": "2021-12-25T14:54:57.894Z"
   },
   {
    "duration": 11,
    "start_time": "2021-12-25T14:54:57.902Z"
   },
   {
    "duration": 19,
    "start_time": "2021-12-25T14:54:57.916Z"
   },
   {
    "duration": 23,
    "start_time": "2021-12-25T14:54:57.970Z"
   },
   {
    "duration": 27,
    "start_time": "2021-12-25T14:54:57.996Z"
   },
   {
    "duration": 53,
    "start_time": "2021-12-25T14:54:58.026Z"
   },
   {
    "duration": 25,
    "start_time": "2021-12-25T14:54:58.081Z"
   },
   {
    "duration": 73,
    "start_time": "2021-12-25T14:54:58.109Z"
   },
   {
    "duration": 4767,
    "start_time": "2021-12-25T14:54:58.185Z"
   },
   {
    "duration": 46,
    "start_time": "2021-12-25T14:55:02.955Z"
   },
   {
    "duration": 16,
    "start_time": "2021-12-25T14:55:03.003Z"
   },
   {
    "duration": 8,
    "start_time": "2021-12-25T14:55:03.022Z"
   },
   {
    "duration": 52,
    "start_time": "2021-12-25T14:55:03.033Z"
   },
   {
    "duration": 15,
    "start_time": "2021-12-25T14:55:03.088Z"
   },
   {
    "duration": 17,
    "start_time": "2021-12-25T14:55:03.105Z"
   },
   {
    "duration": 24021,
    "start_time": "2021-12-25T14:55:03.124Z"
   },
   {
    "duration": 10,
    "start_time": "2021-12-25T14:55:27.147Z"
   },
   {
    "duration": 5,
    "start_time": "2021-12-25T14:55:27.168Z"
   },
   {
    "duration": 37,
    "start_time": "2021-12-25T14:55:27.175Z"
   },
   {
    "duration": 56,
    "start_time": "2021-12-25T14:55:27.215Z"
   },
   {
    "duration": 5,
    "start_time": "2021-12-25T14:55:27.273Z"
   },
   {
    "duration": 490,
    "start_time": "2021-12-25T14:55:27.281Z"
   },
   {
    "duration": 784,
    "start_time": "2021-12-25T14:55:27.773Z"
   },
   {
    "duration": -54,
    "start_time": "2021-12-25T14:55:28.614Z"
   },
   {
    "duration": -58,
    "start_time": "2021-12-25T14:55:28.619Z"
   },
   {
    "duration": 9,
    "start_time": "2021-12-25T14:55:54.721Z"
   },
   {
    "duration": 385,
    "start_time": "2021-12-25T14:56:03.977Z"
   },
   {
    "duration": 54,
    "start_time": "2021-12-25T14:58:41.633Z"
   },
   {
    "duration": 71,
    "start_time": "2021-12-25T14:59:12.928Z"
   },
   {
    "duration": 8,
    "start_time": "2021-12-25T14:59:14.112Z"
   },
   {
    "duration": 1536,
    "start_time": "2021-12-25T14:59:35.776Z"
   },
   {
    "duration": 65,
    "start_time": "2021-12-25T14:59:37.315Z"
   },
   {
    "duration": 23,
    "start_time": "2021-12-25T14:59:37.383Z"
   },
   {
    "duration": 20,
    "start_time": "2021-12-25T14:59:37.408Z"
   },
   {
    "duration": 38,
    "start_time": "2021-12-25T14:59:37.430Z"
   },
   {
    "duration": 6,
    "start_time": "2021-12-25T14:59:37.471Z"
   },
   {
    "duration": 6,
    "start_time": "2021-12-25T14:59:37.480Z"
   },
   {
    "duration": 13,
    "start_time": "2021-12-25T14:59:37.490Z"
   },
   {
    "duration": 650,
    "start_time": "2021-12-25T14:59:37.506Z"
   },
   {
    "duration": 19,
    "start_time": "2021-12-25T14:59:38.159Z"
   },
   {
    "duration": 5,
    "start_time": "2021-12-25T14:59:38.181Z"
   },
   {
    "duration": 89,
    "start_time": "2021-12-25T14:59:38.188Z"
   },
   {
    "duration": 7,
    "start_time": "2021-12-25T14:59:38.280Z"
   },
   {
    "duration": 16,
    "start_time": "2021-12-25T14:59:38.289Z"
   },
   {
    "duration": 3,
    "start_time": "2021-12-25T14:59:38.308Z"
   },
   {
    "duration": 98,
    "start_time": "2021-12-25T14:59:38.313Z"
   },
   {
    "duration": 7,
    "start_time": "2021-12-25T14:59:38.414Z"
   },
   {
    "duration": 43,
    "start_time": "2021-12-25T14:59:38.424Z"
   },
   {
    "duration": 18,
    "start_time": "2021-12-25T14:59:38.470Z"
   },
   {
    "duration": 13,
    "start_time": "2021-12-25T14:59:38.491Z"
   },
   {
    "duration": 7,
    "start_time": "2021-12-25T14:59:38.507Z"
   },
   {
    "duration": 56,
    "start_time": "2021-12-25T14:59:38.517Z"
   },
   {
    "duration": 21,
    "start_time": "2021-12-25T14:59:38.578Z"
   },
   {
    "duration": 25,
    "start_time": "2021-12-25T14:59:38.602Z"
   },
   {
    "duration": 51,
    "start_time": "2021-12-25T14:59:38.630Z"
   },
   {
    "duration": 22,
    "start_time": "2021-12-25T14:59:38.683Z"
   },
   {
    "duration": 66,
    "start_time": "2021-12-25T14:59:38.711Z"
   },
   {
    "duration": 5025,
    "start_time": "2021-12-25T14:59:38.779Z"
   },
   {
    "duration": 40,
    "start_time": "2021-12-25T14:59:43.806Z"
   },
   {
    "duration": 27,
    "start_time": "2021-12-25T14:59:43.849Z"
   },
   {
    "duration": 6,
    "start_time": "2021-12-25T14:59:43.880Z"
   },
   {
    "duration": 47,
    "start_time": "2021-12-25T14:59:43.889Z"
   },
   {
    "duration": 14,
    "start_time": "2021-12-25T14:59:43.969Z"
   },
   {
    "duration": 5,
    "start_time": "2021-12-25T14:59:43.985Z"
   },
   {
    "duration": 25008,
    "start_time": "2021-12-25T14:59:43.992Z"
   },
   {
    "duration": 10,
    "start_time": "2021-12-25T15:00:09.002Z"
   },
   {
    "duration": 7,
    "start_time": "2021-12-25T15:00:09.016Z"
   },
   {
    "duration": 71,
    "start_time": "2021-12-25T15:00:09.026Z"
   },
   {
    "duration": 27,
    "start_time": "2021-12-25T15:00:09.099Z"
   },
   {
    "duration": 5,
    "start_time": "2021-12-25T15:00:09.128Z"
   },
   {
    "duration": 513,
    "start_time": "2021-12-25T15:00:09.136Z"
   },
   {
    "duration": 855,
    "start_time": "2021-12-25T15:00:09.652Z"
   },
   {
    "duration": -56,
    "start_time": "2021-12-25T15:00:10.567Z"
   },
   {
    "duration": -57,
    "start_time": "2021-12-25T15:00:10.570Z"
   },
   {
    "duration": 395,
    "start_time": "2021-12-25T15:01:14.752Z"
   },
   {
    "duration": 1103,
    "start_time": "2021-12-26T15:21:04.255Z"
   },
   {
    "duration": 50,
    "start_time": "2021-12-26T15:21:05.360Z"
   },
   {
    "duration": 14,
    "start_time": "2021-12-26T15:21:05.411Z"
   },
   {
    "duration": 14,
    "start_time": "2021-12-26T15:21:05.427Z"
   },
   {
    "duration": 9,
    "start_time": "2021-12-26T15:21:05.442Z"
   },
   {
    "duration": 6,
    "start_time": "2021-12-26T15:21:05.453Z"
   },
   {
    "duration": 6,
    "start_time": "2021-12-26T15:21:05.460Z"
   },
   {
    "duration": 9,
    "start_time": "2021-12-26T15:21:05.468Z"
   },
   {
    "duration": 341,
    "start_time": "2021-12-26T15:21:05.479Z"
   },
   {
    "duration": 8,
    "start_time": "2021-12-26T15:21:05.822Z"
   },
   {
    "duration": 43,
    "start_time": "2021-12-26T15:21:05.832Z"
   },
   {
    "duration": 27,
    "start_time": "2021-12-26T15:21:05.876Z"
   },
   {
    "duration": 4,
    "start_time": "2021-12-26T15:21:05.904Z"
   },
   {
    "duration": 15,
    "start_time": "2021-12-26T15:21:05.910Z"
   },
   {
    "duration": 38,
    "start_time": "2021-12-26T15:21:05.941Z"
   },
   {
    "duration": 5,
    "start_time": "2021-12-26T15:21:05.980Z"
   },
   {
    "duration": 12,
    "start_time": "2021-12-26T15:21:05.986Z"
   },
   {
    "duration": 13,
    "start_time": "2021-12-26T15:21:06.000Z"
   },
   {
    "duration": 27,
    "start_time": "2021-12-26T15:21:06.014Z"
   },
   {
    "duration": 7,
    "start_time": "2021-12-26T15:21:06.043Z"
   },
   {
    "duration": 14,
    "start_time": "2021-12-26T15:21:06.051Z"
   },
   {
    "duration": 14,
    "start_time": "2021-12-26T15:21:06.067Z"
   },
   {
    "duration": 16,
    "start_time": "2021-12-26T15:21:06.083Z"
   },
   {
    "duration": 15,
    "start_time": "2021-12-26T15:21:06.101Z"
   },
   {
    "duration": 35,
    "start_time": "2021-12-26T15:21:06.117Z"
   },
   {
    "duration": 33,
    "start_time": "2021-12-26T15:21:06.153Z"
   },
   {
    "duration": 3470,
    "start_time": "2021-12-26T15:21:06.187Z"
   },
   {
    "duration": 22,
    "start_time": "2021-12-26T15:21:09.659Z"
   },
   {
    "duration": 27,
    "start_time": "2021-12-26T15:21:09.683Z"
   },
   {
    "duration": 20,
    "start_time": "2021-12-26T15:21:09.711Z"
   },
   {
    "duration": 36,
    "start_time": "2021-12-26T15:21:09.733Z"
   },
   {
    "duration": 27,
    "start_time": "2021-12-26T15:21:09.771Z"
   },
   {
    "duration": 43,
    "start_time": "2021-12-26T15:21:09.799Z"
   },
   {
    "duration": 15120,
    "start_time": "2021-12-26T15:21:09.844Z"
   },
   {
    "duration": 6,
    "start_time": "2021-12-26T15:21:24.966Z"
   },
   {
    "duration": 23,
    "start_time": "2021-12-26T15:21:24.973Z"
   },
   {
    "duration": 48,
    "start_time": "2021-12-26T15:21:24.997Z"
   },
   {
    "duration": 25,
    "start_time": "2021-12-26T15:21:25.047Z"
   },
   {
    "duration": 5,
    "start_time": "2021-12-26T15:21:25.073Z"
   },
   {
    "duration": 377,
    "start_time": "2021-12-26T15:21:25.080Z"
   },
   {
    "duration": 285,
    "start_time": "2021-12-26T15:21:25.459Z"
   },
   {
    "duration": 276,
    "start_time": "2021-12-26T15:21:25.745Z"
   },
   {
    "duration": 273,
    "start_time": "2021-12-26T15:21:26.023Z"
   },
   {
    "duration": 3,
    "start_time": "2021-12-26T15:21:26.863Z"
   },
   {
    "duration": 4,
    "start_time": "2021-12-26T15:21:28.495Z"
   },
   {
    "duration": 12,
    "start_time": "2021-12-26T15:21:30.672Z"
   },
   {
    "duration": 3,
    "start_time": "2021-12-26T15:21:42.920Z"
   },
   {
    "duration": 15075,
    "start_time": "2021-12-26T15:21:43.623Z"
   },
   {
    "duration": 8,
    "start_time": "2021-12-26T15:21:58.700Z"
   },
   {
    "duration": 3,
    "start_time": "2021-12-26T15:22:24.216Z"
   },
   {
    "duration": 15075,
    "start_time": "2021-12-26T15:22:24.671Z"
   },
   {
    "duration": 7,
    "start_time": "2021-12-26T15:22:39.747Z"
   },
   {
    "duration": 381,
    "start_time": "2021-12-26T15:23:15.863Z"
   },
   {
    "duration": 1491,
    "start_time": "2021-12-27T09:23:17.875Z"
   },
   {
    "duration": 63,
    "start_time": "2021-12-27T09:23:19.372Z"
   },
   {
    "duration": 21,
    "start_time": "2021-12-27T09:23:19.439Z"
   },
   {
    "duration": 18,
    "start_time": "2021-12-27T09:23:19.467Z"
   },
   {
    "duration": 13,
    "start_time": "2021-12-27T09:23:19.488Z"
   },
   {
    "duration": 6,
    "start_time": "2021-12-27T09:23:19.504Z"
   },
   {
    "duration": 5,
    "start_time": "2021-12-27T09:23:19.512Z"
   },
   {
    "duration": 65,
    "start_time": "2021-12-27T09:23:19.519Z"
   },
   {
    "duration": 656,
    "start_time": "2021-12-27T09:23:19.588Z"
   },
   {
    "duration": 22,
    "start_time": "2021-12-27T09:23:20.247Z"
   },
   {
    "duration": 62,
    "start_time": "2021-12-27T09:23:20.272Z"
   },
   {
    "duration": 6,
    "start_time": "2021-12-27T09:23:20.337Z"
   },
   {
    "duration": 70,
    "start_time": "2021-12-27T09:23:20.345Z"
   },
   {
    "duration": 6,
    "start_time": "2021-12-27T09:23:20.418Z"
   },
   {
    "duration": 13,
    "start_time": "2021-12-27T09:23:20.426Z"
   },
   {
    "duration": 18,
    "start_time": "2021-12-27T09:23:20.472Z"
   },
   {
    "duration": 5,
    "start_time": "2021-12-27T09:23:20.492Z"
   },
   {
    "duration": 5,
    "start_time": "2021-12-27T09:23:20.499Z"
   },
   {
    "duration": 16,
    "start_time": "2021-12-27T09:23:20.506Z"
   },
   {
    "duration": 57,
    "start_time": "2021-12-27T09:23:20.525Z"
   },
   {
    "duration": 28,
    "start_time": "2021-12-27T09:23:20.585Z"
   },
   {
    "duration": 51,
    "start_time": "2021-12-27T09:23:20.616Z"
   },
   {
    "duration": 28,
    "start_time": "2021-12-27T09:23:20.672Z"
   },
   {
    "duration": 69,
    "start_time": "2021-12-27T09:23:20.702Z"
   },
   {
    "duration": 4781,
    "start_time": "2021-12-27T09:23:20.774Z"
   },
   {
    "duration": 53,
    "start_time": "2021-12-27T09:23:25.557Z"
   },
   {
    "duration": 9,
    "start_time": "2021-12-27T09:23:25.614Z"
   },
   {
    "duration": 4,
    "start_time": "2021-12-27T09:23:25.627Z"
   },
   {
    "duration": 61,
    "start_time": "2021-12-27T09:23:25.633Z"
   },
   {
    "duration": 10,
    "start_time": "2021-12-27T09:23:25.697Z"
   },
   {
    "duration": 8,
    "start_time": "2021-12-27T09:23:25.709Z"
   },
   {
    "duration": 22723,
    "start_time": "2021-12-27T09:23:25.719Z"
   },
   {
    "duration": 10,
    "start_time": "2021-12-27T09:23:48.445Z"
   },
   {
    "duration": 8,
    "start_time": "2021-12-27T09:23:48.467Z"
   },
   {
    "duration": 36,
    "start_time": "2021-12-27T09:23:48.478Z"
   },
   {
    "duration": 58,
    "start_time": "2021-12-27T09:23:48.516Z"
   },
   {
    "duration": 5,
    "start_time": "2021-12-27T09:23:48.582Z"
   },
   {
    "duration": 497,
    "start_time": "2021-12-27T09:23:48.590Z"
   },
   {
    "duration": 446,
    "start_time": "2021-12-27T09:23:49.090Z"
   },
   {
    "duration": 385,
    "start_time": "2021-12-27T09:23:49.539Z"
   },
   {
    "duration": 418,
    "start_time": "2021-12-27T09:23:49.927Z"
   },
   {
    "duration": 4,
    "start_time": "2021-12-27T09:41:49.141Z"
   },
   {
    "duration": 22785,
    "start_time": "2021-12-27T09:41:50.874Z"
   },
   {
    "duration": 8,
    "start_time": "2021-12-27T09:42:38.173Z"
   },
   {
    "duration": 11,
    "start_time": "2021-12-27T09:42:44.049Z"
   },
   {
    "duration": 5,
    "start_time": "2021-12-27T09:54:25.302Z"
   },
   {
    "duration": 37,
    "start_time": "2021-12-27T09:54:26.444Z"
   },
   {
    "duration": 5,
    "start_time": "2021-12-27T09:54:52.277Z"
   },
   {
    "duration": 38,
    "start_time": "2021-12-27T09:54:52.746Z"
   },
   {
    "duration": 5,
    "start_time": "2021-12-27T09:55:28.035Z"
   },
   {
    "duration": 33,
    "start_time": "2021-12-27T09:55:28.613Z"
   },
   {
    "duration": 472,
    "start_time": "2021-12-27T09:58:07.245Z"
   },
   {
    "duration": 6,
    "start_time": "2021-12-27T10:04:23.461Z"
   },
   {
    "duration": 521,
    "start_time": "2021-12-27T10:20:16.696Z"
   },
   {
    "duration": 7,
    "start_time": "2021-12-27T10:33:47.078Z"
   },
   {
    "duration": 1592,
    "start_time": "2021-12-27T10:51:14.165Z"
   },
   {
    "duration": 69,
    "start_time": "2021-12-27T10:51:15.760Z"
   },
   {
    "duration": 43,
    "start_time": "2021-12-27T10:51:15.832Z"
   },
   {
    "duration": 19,
    "start_time": "2021-12-27T10:51:15.878Z"
   },
   {
    "duration": 25,
    "start_time": "2021-12-27T10:51:15.899Z"
   },
   {
    "duration": 16,
    "start_time": "2021-12-27T10:51:15.926Z"
   },
   {
    "duration": 7,
    "start_time": "2021-12-27T10:51:15.968Z"
   },
   {
    "duration": 25,
    "start_time": "2021-12-27T10:51:15.980Z"
   },
   {
    "duration": 672,
    "start_time": "2021-12-27T10:51:16.008Z"
   },
   {
    "duration": 17,
    "start_time": "2021-12-27T10:51:16.683Z"
   },
   {
    "duration": 97,
    "start_time": "2021-12-27T10:51:16.703Z"
   },
   {
    "duration": 6,
    "start_time": "2021-12-27T10:51:16.802Z"
   },
   {
    "duration": 72,
    "start_time": "2021-12-27T10:51:16.811Z"
   },
   {
    "duration": 7,
    "start_time": "2021-12-27T10:51:16.886Z"
   },
   {
    "duration": 20,
    "start_time": "2021-12-27T10:51:16.896Z"
   },
   {
    "duration": 21,
    "start_time": "2021-12-27T10:51:16.918Z"
   },
   {
    "duration": 35,
    "start_time": "2021-12-27T10:51:16.942Z"
   },
   {
    "duration": 11,
    "start_time": "2021-12-27T10:51:16.980Z"
   },
   {
    "duration": 21,
    "start_time": "2021-12-27T10:51:16.994Z"
   },
   {
    "duration": 23,
    "start_time": "2021-12-27T10:51:17.018Z"
   },
   {
    "duration": 34,
    "start_time": "2021-12-27T10:51:17.072Z"
   },
   {
    "duration": 24,
    "start_time": "2021-12-27T10:51:17.109Z"
   },
   {
    "duration": 50,
    "start_time": "2021-12-27T10:51:17.138Z"
   },
   {
    "duration": 52,
    "start_time": "2021-12-27T10:51:17.193Z"
   },
   {
    "duration": 5802,
    "start_time": "2021-12-27T10:51:17.248Z"
   },
   {
    "duration": 67,
    "start_time": "2021-12-27T10:51:23.053Z"
   },
   {
    "duration": 13,
    "start_time": "2021-12-27T10:51:23.123Z"
   },
   {
    "duration": 8,
    "start_time": "2021-12-27T10:51:23.139Z"
   },
   {
    "duration": 52,
    "start_time": "2021-12-27T10:51:23.150Z"
   },
   {
    "duration": 13,
    "start_time": "2021-12-27T10:51:23.205Z"
   },
   {
    "duration": 53,
    "start_time": "2021-12-27T10:51:23.221Z"
   },
   {
    "duration": 23800,
    "start_time": "2021-12-27T10:51:23.279Z"
   },
   {
    "duration": 12,
    "start_time": "2021-12-27T10:51:47.084Z"
   },
   {
    "duration": 6,
    "start_time": "2021-12-27T10:51:47.100Z"
   },
   {
    "duration": 74,
    "start_time": "2021-12-27T10:51:47.109Z"
   },
   {
    "duration": 7,
    "start_time": "2021-12-27T10:51:47.189Z"
   },
   {
    "duration": 493,
    "start_time": "2021-12-27T10:51:47.199Z"
   },
   {
    "duration": 468,
    "start_time": "2021-12-27T10:51:47.695Z"
   },
   {
    "duration": 420,
    "start_time": "2021-12-27T10:51:48.170Z"
   },
   {
    "duration": 435,
    "start_time": "2021-12-27T10:51:48.592Z"
   },
   {
    "duration": 1473,
    "start_time": "2021-12-28T08:40:53.503Z"
   },
   {
    "duration": 66,
    "start_time": "2021-12-28T08:40:54.979Z"
   },
   {
    "duration": 29,
    "start_time": "2021-12-28T08:40:55.048Z"
   },
   {
    "duration": 15,
    "start_time": "2021-12-28T08:40:55.079Z"
   },
   {
    "duration": 12,
    "start_time": "2021-12-28T08:40:55.097Z"
   },
   {
    "duration": 5,
    "start_time": "2021-12-28T08:40:55.111Z"
   },
   {
    "duration": 8,
    "start_time": "2021-12-28T08:40:55.118Z"
   },
   {
    "duration": 12,
    "start_time": "2021-12-28T08:40:55.168Z"
   },
   {
    "duration": 720,
    "start_time": "2021-12-28T08:40:55.183Z"
   },
   {
    "duration": 14,
    "start_time": "2021-12-28T08:40:55.905Z"
   },
   {
    "duration": 81,
    "start_time": "2021-12-28T08:40:55.922Z"
   },
   {
    "duration": 6,
    "start_time": "2021-12-28T08:40:56.006Z"
   },
   {
    "duration": 62,
    "start_time": "2021-12-28T08:40:56.015Z"
   },
   {
    "duration": 7,
    "start_time": "2021-12-28T08:40:56.080Z"
   },
   {
    "duration": 15,
    "start_time": "2021-12-28T08:40:56.089Z"
   },
   {
    "duration": 15,
    "start_time": "2021-12-28T08:40:56.106Z"
   },
   {
    "duration": 5,
    "start_time": "2021-12-28T08:40:56.124Z"
   },
   {
    "duration": 6,
    "start_time": "2021-12-28T08:40:56.168Z"
   },
   {
    "duration": 19,
    "start_time": "2021-12-28T08:40:56.176Z"
   },
   {
    "duration": 22,
    "start_time": "2021-12-28T08:40:56.198Z"
   },
   {
    "duration": 81,
    "start_time": "2021-12-28T08:40:56.222Z"
   },
   {
    "duration": 23,
    "start_time": "2021-12-28T08:40:56.306Z"
   },
   {
    "duration": 53,
    "start_time": "2021-12-28T08:40:56.335Z"
   },
   {
    "duration": 23,
    "start_time": "2021-12-28T08:40:56.392Z"
   },
   {
    "duration": 3,
    "start_time": "2021-12-28T08:40:56.417Z"
   },
   {
    "duration": 9,
    "start_time": "2021-12-28T08:40:56.423Z"
   },
   {
    "duration": 4660,
    "start_time": "2021-12-28T08:40:56.434Z"
   },
   {
    "duration": 38,
    "start_time": "2021-12-28T08:41:01.096Z"
   },
   {
    "duration": 32,
    "start_time": "2021-12-28T08:41:01.136Z"
   },
   {
    "duration": 6,
    "start_time": "2021-12-28T08:41:01.171Z"
   },
   {
    "duration": 43,
    "start_time": "2021-12-28T08:41:01.180Z"
   },
   {
    "duration": 19,
    "start_time": "2021-12-28T08:41:01.226Z"
   },
   {
    "duration": 21,
    "start_time": "2021-12-28T08:41:01.248Z"
   },
   {
    "duration": 22782,
    "start_time": "2021-12-28T08:41:01.272Z"
   },
   {
    "duration": 15,
    "start_time": "2021-12-28T08:41:24.056Z"
   },
   {
    "duration": 6,
    "start_time": "2021-12-28T08:41:24.073Z"
   },
   {
    "duration": 40,
    "start_time": "2021-12-28T08:41:24.081Z"
   },
   {
    "duration": 6,
    "start_time": "2021-12-28T08:41:24.123Z"
   },
   {
    "duration": 539,
    "start_time": "2021-12-28T08:41:24.131Z"
   },
   {
    "duration": 408,
    "start_time": "2021-12-28T08:41:24.672Z"
   },
   {
    "duration": 399,
    "start_time": "2021-12-28T08:41:25.082Z"
   },
   {
    "duration": 394,
    "start_time": "2021-12-28T08:41:25.484Z"
   },
   {
    "duration": 2235,
    "start_time": "2021-12-28T08:42:00.271Z"
   },
   {
    "duration": 1803,
    "start_time": "2021-12-28T08:42:34.693Z"
   },
   {
    "duration": 73,
    "start_time": "2021-12-28T08:42:36.499Z"
   },
   {
    "duration": 31,
    "start_time": "2021-12-28T08:42:36.576Z"
   },
   {
    "duration": 30,
    "start_time": "2021-12-28T08:42:36.610Z"
   },
   {
    "duration": 26,
    "start_time": "2021-12-28T08:42:36.642Z"
   },
   {
    "duration": 25,
    "start_time": "2021-12-28T08:42:36.671Z"
   },
   {
    "duration": 6,
    "start_time": "2021-12-28T08:42:36.699Z"
   },
   {
    "duration": 21,
    "start_time": "2021-12-28T08:42:36.711Z"
   },
   {
    "duration": 788,
    "start_time": "2021-12-28T08:42:36.736Z"
   },
   {
    "duration": 13,
    "start_time": "2021-12-28T08:42:37.527Z"
   },
   {
    "duration": 72,
    "start_time": "2021-12-28T08:42:37.542Z"
   },
   {
    "duration": 7,
    "start_time": "2021-12-28T08:42:37.617Z"
   },
   {
    "duration": 70,
    "start_time": "2021-12-28T08:42:37.626Z"
   },
   {
    "duration": 6,
    "start_time": "2021-12-28T08:42:37.699Z"
   },
   {
    "duration": 19,
    "start_time": "2021-12-28T08:42:37.708Z"
   },
   {
    "duration": 39,
    "start_time": "2021-12-28T08:42:37.730Z"
   },
   {
    "duration": 5,
    "start_time": "2021-12-28T08:42:37.772Z"
   },
   {
    "duration": 15,
    "start_time": "2021-12-28T08:42:37.779Z"
   },
   {
    "duration": 17,
    "start_time": "2021-12-28T08:42:37.797Z"
   },
   {
    "duration": 49,
    "start_time": "2021-12-28T08:42:37.817Z"
   },
   {
    "duration": 48,
    "start_time": "2021-12-28T08:42:37.869Z"
   },
   {
    "duration": 46,
    "start_time": "2021-12-28T08:42:37.920Z"
   },
   {
    "duration": 29,
    "start_time": "2021-12-28T08:42:37.973Z"
   },
   {
    "duration": 23,
    "start_time": "2021-12-28T08:42:38.004Z"
   },
   {
    "duration": 3,
    "start_time": "2021-12-28T08:42:38.030Z"
   },
   {
    "duration": 3,
    "start_time": "2021-12-28T08:42:38.067Z"
   },
   {
    "duration": 5010,
    "start_time": "2021-12-28T08:42:38.073Z"
   },
   {
    "duration": 37,
    "start_time": "2021-12-28T08:42:43.086Z"
   },
   {
    "duration": 10,
    "start_time": "2021-12-28T08:42:43.125Z"
   },
   {
    "duration": 5,
    "start_time": "2021-12-28T08:42:43.137Z"
   },
   {
    "duration": 31,
    "start_time": "2021-12-28T08:42:43.168Z"
   },
   {
    "duration": 11,
    "start_time": "2021-12-28T08:42:43.202Z"
   },
   {
    "duration": 5,
    "start_time": "2021-12-28T08:42:43.216Z"
   },
   {
    "duration": 22938,
    "start_time": "2021-12-28T08:42:43.223Z"
   },
   {
    "duration": 10,
    "start_time": "2021-12-28T08:43:06.164Z"
   },
   {
    "duration": 13,
    "start_time": "2021-12-28T08:43:06.176Z"
   },
   {
    "duration": 43,
    "start_time": "2021-12-28T08:43:06.191Z"
   },
   {
    "duration": 5,
    "start_time": "2021-12-28T08:43:06.236Z"
   },
   {
    "duration": 528,
    "start_time": "2021-12-28T08:43:06.243Z"
   },
   {
    "duration": 426,
    "start_time": "2021-12-28T08:43:06.774Z"
   },
   {
    "duration": 450,
    "start_time": "2021-12-28T08:43:07.203Z"
   },
   {
    "duration": 378,
    "start_time": "2021-12-28T08:43:07.655Z"
   },
   {
    "duration": 1443,
    "start_time": "2021-12-28T08:43:41.917Z"
   },
   {
    "duration": 65,
    "start_time": "2021-12-28T08:43:43.362Z"
   },
   {
    "duration": 22,
    "start_time": "2021-12-28T08:43:43.430Z"
   },
   {
    "duration": 15,
    "start_time": "2021-12-28T08:43:43.467Z"
   },
   {
    "duration": 12,
    "start_time": "2021-12-28T08:43:43.484Z"
   },
   {
    "duration": 5,
    "start_time": "2021-12-28T08:43:43.499Z"
   },
   {
    "duration": 9,
    "start_time": "2021-12-28T08:43:43.506Z"
   },
   {
    "duration": 48,
    "start_time": "2021-12-28T08:43:43.519Z"
   },
   {
    "duration": 633,
    "start_time": "2021-12-28T08:43:43.570Z"
   },
   {
    "duration": 14,
    "start_time": "2021-12-28T08:43:44.205Z"
   },
   {
    "duration": 80,
    "start_time": "2021-12-28T08:43:44.221Z"
   },
   {
    "duration": 8,
    "start_time": "2021-12-28T08:43:44.303Z"
   },
   {
    "duration": 67,
    "start_time": "2021-12-28T08:43:44.314Z"
   },
   {
    "duration": 5,
    "start_time": "2021-12-28T08:43:44.384Z"
   },
   {
    "duration": 27,
    "start_time": "2021-12-28T08:43:44.392Z"
   },
   {
    "duration": 18,
    "start_time": "2021-12-28T08:43:44.421Z"
   },
   {
    "duration": 26,
    "start_time": "2021-12-28T08:43:44.442Z"
   },
   {
    "duration": 9,
    "start_time": "2021-12-28T08:43:44.472Z"
   },
   {
    "duration": 24,
    "start_time": "2021-12-28T08:43:44.484Z"
   },
   {
    "duration": 4,
    "start_time": "2021-12-28T08:43:44.511Z"
   },
   {
    "duration": 6,
    "start_time": "2021-12-28T08:43:44.518Z"
   },
   {
    "duration": 62,
    "start_time": "2021-12-28T08:43:44.527Z"
   },
   {
    "duration": 28,
    "start_time": "2021-12-28T08:43:44.596Z"
   },
   {
    "duration": 63,
    "start_time": "2021-12-28T08:43:44.627Z"
   },
   {
    "duration": 34,
    "start_time": "2021-12-28T08:43:44.693Z"
   },
   {
    "duration": 81,
    "start_time": "2021-12-28T08:43:44.730Z"
   },
   {
    "duration": 4665,
    "start_time": "2021-12-28T08:43:44.814Z"
   },
   {
    "duration": 37,
    "start_time": "2021-12-28T08:43:49.482Z"
   },
   {
    "duration": 18,
    "start_time": "2021-12-28T08:43:49.521Z"
   },
   {
    "duration": 25,
    "start_time": "2021-12-28T08:43:49.542Z"
   },
   {
    "duration": 30,
    "start_time": "2021-12-28T08:43:49.570Z"
   },
   {
    "duration": 10,
    "start_time": "2021-12-28T08:43:49.602Z"
   },
   {
    "duration": 11,
    "start_time": "2021-12-28T08:43:49.614Z"
   },
   {
    "duration": 22453,
    "start_time": "2021-12-28T08:43:49.628Z"
   },
   {
    "duration": 10,
    "start_time": "2021-12-28T08:44:12.083Z"
   },
   {
    "duration": 6,
    "start_time": "2021-12-28T08:44:12.096Z"
   },
   {
    "duration": 65,
    "start_time": "2021-12-28T08:44:12.104Z"
   },
   {
    "duration": 6,
    "start_time": "2021-12-28T08:44:12.171Z"
   },
   {
    "duration": 493,
    "start_time": "2021-12-28T08:44:12.180Z"
   },
   {
    "duration": 426,
    "start_time": "2021-12-28T08:44:12.676Z"
   },
   {
    "duration": 420,
    "start_time": "2021-12-28T08:44:13.105Z"
   },
   {
    "duration": 418,
    "start_time": "2021-12-28T08:44:13.528Z"
   },
   {
    "duration": 2271,
    "start_time": "2021-12-28T08:44:31.434Z"
   },
   {
    "duration": 1954,
    "start_time": "2021-12-28T08:44:56.012Z"
   },
   {
    "duration": 5,
    "start_time": "2021-12-28T08:45:02.282Z"
   },
   {
    "duration": 32,
    "start_time": "2021-12-28T08:45:10.742Z"
   },
   {
    "duration": 66,
    "start_time": "2021-12-28T08:45:12.372Z"
   },
   {
    "duration": 18,
    "start_time": "2021-12-28T08:45:13.779Z"
   },
   {
    "duration": 16,
    "start_time": "2021-12-28T08:45:16.105Z"
   },
   {
    "duration": 15,
    "start_time": "2021-12-28T08:45:19.817Z"
   },
   {
    "duration": 13,
    "start_time": "2021-12-28T08:45:27.340Z"
   },
   {
    "duration": 6,
    "start_time": "2021-12-28T08:45:33.784Z"
   },
   {
    "duration": 139,
    "start_time": "2021-12-28T08:45:35.162Z"
   },
   {
    "duration": 6,
    "start_time": "2021-12-28T08:45:36.390Z"
   },
   {
    "duration": 61,
    "start_time": "2021-12-28T08:45:37.973Z"
   },
   {
    "duration": 7,
    "start_time": "2021-12-28T08:45:40.272Z"
   },
   {
    "duration": 15,
    "start_time": "2021-12-28T08:45:42.985Z"
   },
   {
    "duration": 615,
    "start_time": "2021-12-28T08:45:44.859Z"
   },
   {
    "duration": 12,
    "start_time": "2021-12-28T08:45:47.342Z"
   },
   {
    "duration": 5,
    "start_time": "2021-12-28T08:45:51.310Z"
   },
   {
    "duration": 67,
    "start_time": "2021-12-28T08:45:53.043Z"
   },
   {
    "duration": 18,
    "start_time": "2021-12-28T08:45:54.843Z"
   },
   {
    "duration": 5,
    "start_time": "2021-12-28T08:45:59.558Z"
   },
   {
    "duration": 105,
    "start_time": "2021-12-28T08:45:59.566Z"
   },
   {
    "duration": 19,
    "start_time": "2021-12-28T08:45:59.674Z"
   },
   {
    "duration": 22,
    "start_time": "2021-12-28T08:45:59.696Z"
   },
   {
    "duration": 56,
    "start_time": "2021-12-28T08:45:59.721Z"
   },
   {
    "duration": 7,
    "start_time": "2021-12-28T08:45:59.780Z"
   },
   {
    "duration": 6,
    "start_time": "2021-12-28T08:45:59.789Z"
   },
   {
    "duration": 12,
    "start_time": "2021-12-28T08:45:59.799Z"
   },
   {
    "duration": 686,
    "start_time": "2021-12-28T08:45:59.815Z"
   },
   {
    "duration": 14,
    "start_time": "2021-12-28T08:46:00.503Z"
   },
   {
    "duration": 80,
    "start_time": "2021-12-28T08:46:00.520Z"
   },
   {
    "duration": 6,
    "start_time": "2021-12-28T08:46:00.602Z"
   },
   {
    "duration": 59,
    "start_time": "2021-12-28T08:46:00.611Z"
   },
   {
    "duration": 6,
    "start_time": "2021-12-28T08:46:00.673Z"
   },
   {
    "duration": 21,
    "start_time": "2021-12-28T08:46:00.681Z"
   },
   {
    "duration": 20,
    "start_time": "2021-12-28T08:46:00.704Z"
   },
   {
    "duration": 15,
    "start_time": "2021-12-28T08:46:00.726Z"
   },
   {
    "duration": 25,
    "start_time": "2021-12-28T08:46:00.744Z"
   },
   {
    "duration": 27,
    "start_time": "2021-12-28T08:46:00.771Z"
   },
   {
    "duration": 3,
    "start_time": "2021-12-28T08:46:00.800Z"
   },
   {
    "duration": 16,
    "start_time": "2021-12-28T08:46:00.806Z"
   },
   {
    "duration": 46,
    "start_time": "2021-12-28T08:46:00.824Z"
   },
   {
    "duration": 28,
    "start_time": "2021-12-28T08:46:00.875Z"
   },
   {
    "duration": 25,
    "start_time": "2021-12-28T08:46:00.907Z"
   },
   {
    "duration": 42,
    "start_time": "2021-12-28T08:46:00.934Z"
   },
   {
    "duration": 44,
    "start_time": "2021-12-28T08:46:00.978Z"
   },
   {
    "duration": 51,
    "start_time": "2021-12-28T08:46:01.024Z"
   },
   {
    "duration": 4675,
    "start_time": "2021-12-28T08:46:01.077Z"
   },
   {
    "duration": 46,
    "start_time": "2021-12-28T08:46:05.755Z"
   },
   {
    "duration": 14,
    "start_time": "2021-12-28T08:46:05.803Z"
   },
   {
    "duration": 17,
    "start_time": "2021-12-28T08:46:05.819Z"
   },
   {
    "duration": 49,
    "start_time": "2021-12-28T08:46:05.839Z"
   },
   {
    "duration": 10,
    "start_time": "2021-12-28T08:46:05.891Z"
   },
   {
    "duration": 8,
    "start_time": "2021-12-28T08:46:05.904Z"
   },
   {
    "duration": 22448,
    "start_time": "2021-12-28T08:46:05.915Z"
   },
   {
    "duration": 10,
    "start_time": "2021-12-28T08:46:28.366Z"
   },
   {
    "duration": 7,
    "start_time": "2021-12-28T08:46:28.378Z"
   },
   {
    "duration": 40,
    "start_time": "2021-12-28T08:46:28.387Z"
   },
   {
    "duration": 6,
    "start_time": "2021-12-28T08:46:28.429Z"
   },
   {
    "duration": 505,
    "start_time": "2021-12-28T08:46:28.437Z"
   },
   {
    "duration": 457,
    "start_time": "2021-12-28T08:46:28.944Z"
   },
   {
    "duration": 440,
    "start_time": "2021-12-28T08:46:29.404Z"
   },
   {
    "duration": 411,
    "start_time": "2021-12-28T08:46:29.847Z"
   },
   {
    "duration": 34,
    "start_time": "2021-12-28T08:46:32.688Z"
   },
   {
    "duration": 48,
    "start_time": "2021-12-28T08:46:33.701Z"
   },
   {
    "duration": 2083,
    "start_time": "2021-12-28T08:46:35.097Z"
   },
   {
    "duration": 30,
    "start_time": "2021-12-28T08:46:54.789Z"
   },
   {
    "duration": 71,
    "start_time": "2021-12-28T08:46:54.821Z"
   },
   {
    "duration": 18,
    "start_time": "2021-12-28T08:46:54.895Z"
   },
   {
    "duration": 53,
    "start_time": "2021-12-28T08:46:54.916Z"
   },
   {
    "duration": 13,
    "start_time": "2021-12-28T08:46:54.971Z"
   },
   {
    "duration": 7,
    "start_time": "2021-12-28T08:46:54.987Z"
   },
   {
    "duration": 7,
    "start_time": "2021-12-28T08:46:54.997Z"
   },
   {
    "duration": 18,
    "start_time": "2021-12-28T08:46:55.008Z"
   },
   {
    "duration": 651,
    "start_time": "2021-12-28T08:46:55.029Z"
   },
   {
    "duration": 14,
    "start_time": "2021-12-28T08:46:55.682Z"
   },
   {
    "duration": 85,
    "start_time": "2021-12-28T08:46:55.699Z"
   },
   {
    "duration": 6,
    "start_time": "2021-12-28T08:46:55.787Z"
   },
   {
    "duration": 46,
    "start_time": "2021-12-28T08:46:55.795Z"
   },
   {
    "duration": 26,
    "start_time": "2021-12-28T08:46:55.843Z"
   },
   {
    "duration": 13,
    "start_time": "2021-12-28T08:46:55.872Z"
   },
   {
    "duration": 14,
    "start_time": "2021-12-28T08:46:55.888Z"
   },
   {
    "duration": 5,
    "start_time": "2021-12-28T08:46:55.905Z"
   },
   {
    "duration": 10,
    "start_time": "2021-12-28T08:46:55.912Z"
   },
   {
    "duration": 56,
    "start_time": "2021-12-28T08:46:55.924Z"
   },
   {
    "duration": 21,
    "start_time": "2021-12-28T08:46:55.983Z"
   },
   {
    "duration": 66,
    "start_time": "2021-12-28T08:46:56.006Z"
   },
   {
    "duration": 25,
    "start_time": "2021-12-28T08:46:56.074Z"
   },
   {
    "duration": 29,
    "start_time": "2021-12-28T08:46:56.104Z"
   },
   {
    "duration": 53,
    "start_time": "2021-12-28T08:46:56.136Z"
   },
   {
    "duration": 4861,
    "start_time": "2021-12-28T08:46:56.191Z"
   },
   {
    "duration": 47,
    "start_time": "2021-12-28T08:47:01.056Z"
   },
   {
    "duration": 19,
    "start_time": "2021-12-28T08:47:01.105Z"
   },
   {
    "duration": 5,
    "start_time": "2021-12-28T08:47:01.126Z"
   },
   {
    "duration": 55,
    "start_time": "2021-12-28T08:47:01.133Z"
   },
   {
    "duration": 9,
    "start_time": "2021-12-28T08:47:01.190Z"
   },
   {
    "duration": 17,
    "start_time": "2021-12-28T08:47:01.202Z"
   },
   {
    "duration": 23212,
    "start_time": "2021-12-28T08:47:01.222Z"
   },
   {
    "duration": 9,
    "start_time": "2021-12-28T08:47:24.437Z"
   },
   {
    "duration": 18,
    "start_time": "2021-12-28T08:47:24.449Z"
   },
   {
    "duration": 40,
    "start_time": "2021-12-28T08:47:24.470Z"
   },
   {
    "duration": 7,
    "start_time": "2021-12-28T08:47:24.513Z"
   },
   {
    "duration": 467,
    "start_time": "2021-12-28T08:47:24.524Z"
   },
   {
    "duration": 557,
    "start_time": "2021-12-28T08:47:24.994Z"
   },
   {
    "duration": 384,
    "start_time": "2021-12-28T08:47:25.554Z"
   },
   {
    "duration": 422,
    "start_time": "2021-12-28T08:47:25.940Z"
   },
   {
    "duration": 5,
    "start_time": "2021-12-28T08:47:58.985Z"
   },
   {
    "duration": 28,
    "start_time": "2021-12-28T08:48:02.448Z"
   },
   {
    "duration": 94,
    "start_time": "2021-12-28T08:48:02.479Z"
   },
   {
    "duration": 19,
    "start_time": "2021-12-28T08:48:02.576Z"
   },
   {
    "duration": 18,
    "start_time": "2021-12-28T08:48:02.599Z"
   },
   {
    "duration": 51,
    "start_time": "2021-12-28T08:48:02.619Z"
   },
   {
    "duration": 6,
    "start_time": "2021-12-28T08:48:02.673Z"
   },
   {
    "duration": 17,
    "start_time": "2021-12-28T08:48:02.682Z"
   },
   {
    "duration": 14,
    "start_time": "2021-12-28T08:48:02.704Z"
   },
   {
    "duration": 637,
    "start_time": "2021-12-28T08:48:02.722Z"
   },
   {
    "duration": 19,
    "start_time": "2021-12-28T08:48:03.361Z"
   },
   {
    "duration": 88,
    "start_time": "2021-12-28T08:48:03.382Z"
   },
   {
    "duration": 6,
    "start_time": "2021-12-28T08:48:03.472Z"
   },
   {
    "duration": 45,
    "start_time": "2021-12-28T08:48:03.481Z"
   },
   {
    "duration": 6,
    "start_time": "2021-12-28T08:48:03.529Z"
   },
   {
    "duration": 37,
    "start_time": "2021-12-28T08:48:03.537Z"
   },
   {
    "duration": 14,
    "start_time": "2021-12-28T08:48:03.577Z"
   },
   {
    "duration": 5,
    "start_time": "2021-12-28T08:48:03.593Z"
   },
   {
    "duration": 8,
    "start_time": "2021-12-28T08:48:03.601Z"
   },
   {
    "duration": 7,
    "start_time": "2021-12-28T08:48:03.612Z"
   },
   {
    "duration": 54,
    "start_time": "2021-12-28T08:48:03.622Z"
   },
   {
    "duration": 21,
    "start_time": "2021-12-28T08:48:03.679Z"
   },
   {
    "duration": 69,
    "start_time": "2021-12-28T08:48:03.703Z"
   },
   {
    "duration": 23,
    "start_time": "2021-12-28T08:48:03.777Z"
   },
   {
    "duration": 24,
    "start_time": "2021-12-28T08:48:03.803Z"
   },
   {
    "duration": 54,
    "start_time": "2021-12-28T08:48:03.830Z"
   },
   {
    "duration": 4681,
    "start_time": "2021-12-28T08:48:03.886Z"
   },
   {
    "duration": 38,
    "start_time": "2021-12-28T08:48:08.570Z"
   },
   {
    "duration": 11,
    "start_time": "2021-12-28T08:48:08.610Z"
   },
   {
    "duration": 5,
    "start_time": "2021-12-28T08:48:08.623Z"
   },
   {
    "duration": 65,
    "start_time": "2021-12-28T08:48:08.630Z"
   },
   {
    "duration": 11,
    "start_time": "2021-12-28T08:48:08.697Z"
   },
   {
    "duration": 5,
    "start_time": "2021-12-28T08:48:08.711Z"
   },
   {
    "duration": 23154,
    "start_time": "2021-12-28T08:48:08.718Z"
   },
   {
    "duration": 10,
    "start_time": "2021-12-28T08:48:31.875Z"
   },
   {
    "duration": 8,
    "start_time": "2021-12-28T08:48:31.887Z"
   },
   {
    "duration": 50,
    "start_time": "2021-12-28T08:48:31.897Z"
   },
   {
    "duration": 22,
    "start_time": "2021-12-28T08:48:31.949Z"
   },
   {
    "duration": 507,
    "start_time": "2021-12-28T08:48:31.975Z"
   },
   {
    "duration": 462,
    "start_time": "2021-12-28T08:48:32.485Z"
   },
   {
    "duration": 389,
    "start_time": "2021-12-28T08:48:32.949Z"
   },
   {
    "duration": 413,
    "start_time": "2021-12-28T08:48:33.341Z"
   },
   {
    "duration": 12,
    "start_time": "2021-12-28T08:51:01.446Z"
   },
   {
    "duration": 12,
    "start_time": "2021-12-28T08:51:30.638Z"
   },
   {
    "duration": 12,
    "start_time": "2021-12-28T08:52:11.738Z"
   },
   {
    "duration": 12,
    "start_time": "2021-12-28T08:53:44.123Z"
   },
   {
    "duration": 50,
    "start_time": "2021-12-28T08:55:35.509Z"
   },
   {
    "duration": 28,
    "start_time": "2021-12-28T08:57:37.945Z"
   },
   {
    "duration": 93,
    "start_time": "2021-12-28T08:57:37.976Z"
   },
   {
    "duration": 18,
    "start_time": "2021-12-28T08:57:38.072Z"
   },
   {
    "duration": 18,
    "start_time": "2021-12-28T08:57:38.094Z"
   },
   {
    "duration": 89,
    "start_time": "2021-12-28T08:57:38.116Z"
   },
   {
    "duration": 18,
    "start_time": "2021-12-28T08:57:38.208Z"
   },
   {
    "duration": 6,
    "start_time": "2021-12-28T08:57:38.229Z"
   },
   {
    "duration": 31,
    "start_time": "2021-12-28T08:57:38.239Z"
   },
   {
    "duration": 16,
    "start_time": "2021-12-28T08:57:38.275Z"
   },
   {
    "duration": 631,
    "start_time": "2021-12-28T08:57:38.294Z"
   },
   {
    "duration": 12,
    "start_time": "2021-12-28T08:57:38.928Z"
   },
   {
    "duration": 79,
    "start_time": "2021-12-28T08:57:38.943Z"
   },
   {
    "duration": 6,
    "start_time": "2021-12-28T08:57:39.024Z"
   },
   {
    "duration": 62,
    "start_time": "2021-12-28T08:57:39.033Z"
   },
   {
    "duration": 6,
    "start_time": "2021-12-28T08:57:39.097Z"
   },
   {
    "duration": 16,
    "start_time": "2021-12-28T08:57:39.105Z"
   },
   {
    "duration": 15,
    "start_time": "2021-12-28T08:57:39.123Z"
   },
   {
    "duration": 30,
    "start_time": "2021-12-28T08:57:39.140Z"
   },
   {
    "duration": 6,
    "start_time": "2021-12-28T08:57:39.174Z"
   },
   {
    "duration": 8,
    "start_time": "2021-12-28T08:57:39.183Z"
   },
   {
    "duration": 18,
    "start_time": "2021-12-28T08:57:39.194Z"
   },
   {
    "duration": 63,
    "start_time": "2021-12-28T08:57:39.215Z"
   },
   {
    "duration": 46,
    "start_time": "2021-12-28T08:57:39.285Z"
   },
   {
    "duration": 52,
    "start_time": "2021-12-28T08:57:39.334Z"
   },
   {
    "duration": 24,
    "start_time": "2021-12-28T08:57:39.388Z"
   },
   {
    "duration": 23,
    "start_time": "2021-12-28T08:57:39.415Z"
   },
   {
    "duration": 4773,
    "start_time": "2021-12-28T08:57:39.440Z"
   },
   {
    "duration": 53,
    "start_time": "2021-12-28T08:57:44.216Z"
   },
   {
    "duration": 10,
    "start_time": "2021-12-28T08:57:44.271Z"
   },
   {
    "duration": 4,
    "start_time": "2021-12-28T08:57:44.283Z"
   },
   {
    "duration": 32,
    "start_time": "2021-12-28T08:57:44.289Z"
   },
   {
    "duration": 44,
    "start_time": "2021-12-28T08:57:44.325Z"
   },
   {
    "duration": 8,
    "start_time": "2021-12-28T08:57:44.372Z"
   },
   {
    "duration": 22505,
    "start_time": "2021-12-28T08:57:44.383Z"
   },
   {
    "duration": 10,
    "start_time": "2021-12-28T08:58:06.890Z"
   },
   {
    "duration": 7,
    "start_time": "2021-12-28T08:58:06.903Z"
   },
   {
    "duration": 57,
    "start_time": "2021-12-28T08:58:06.912Z"
   },
   {
    "duration": 5,
    "start_time": "2021-12-28T08:58:06.972Z"
   },
   {
    "duration": 492,
    "start_time": "2021-12-28T08:58:06.979Z"
   },
   {
    "duration": 420,
    "start_time": "2021-12-28T08:58:07.473Z"
   },
   {
    "duration": 411,
    "start_time": "2021-12-28T08:58:07.895Z"
   },
   {
    "duration": 413,
    "start_time": "2021-12-28T08:58:08.308Z"
   },
   {
    "duration": 295,
    "start_time": "2021-12-28T08:58:08.724Z"
   },
   {
    "duration": 1105,
    "start_time": "2021-12-28T12:29:25.207Z"
   },
   {
    "duration": 50,
    "start_time": "2021-12-28T12:29:28.015Z"
   },
   {
    "duration": 15,
    "start_time": "2021-12-28T12:29:28.189Z"
   },
   {
    "duration": 12,
    "start_time": "2021-12-28T12:29:28.351Z"
   },
   {
    "duration": 34,
    "start_time": "2021-12-28T12:29:28.628Z"
   },
   {
    "duration": 10,
    "start_time": "2021-12-28T12:29:30.403Z"
   },
   {
    "duration": 5,
    "start_time": "2021-12-28T12:29:30.835Z"
   },
   {
    "duration": 4,
    "start_time": "2021-12-28T12:29:31.140Z"
   },
   {
    "duration": 8,
    "start_time": "2021-12-28T12:29:31.455Z"
   },
   {
    "duration": 340,
    "start_time": "2021-12-28T12:29:31.899Z"
   },
   {
    "duration": 10,
    "start_time": "2021-12-28T12:29:32.373Z"
   },
   {
    "duration": 41,
    "start_time": "2021-12-28T12:29:32.687Z"
   },
   {
    "duration": 4,
    "start_time": "2021-12-28T12:29:32.853Z"
   },
   {
    "duration": 29,
    "start_time": "2021-12-28T12:29:33.333Z"
   },
   {
    "duration": 5,
    "start_time": "2021-12-28T12:29:33.486Z"
   },
   {
    "duration": 10,
    "start_time": "2021-12-28T12:29:33.651Z"
   },
   {
    "duration": 11,
    "start_time": "2021-12-28T12:29:34.612Z"
   },
   {
    "duration": 3,
    "start_time": "2021-12-28T12:29:34.964Z"
   },
   {
    "duration": 4,
    "start_time": "2021-12-28T12:29:35.148Z"
   },
   {
    "duration": 3,
    "start_time": "2021-12-28T12:29:35.332Z"
   },
   {
    "duration": 12,
    "start_time": "2021-12-28T12:29:35.508Z"
   },
   {
    "duration": 16,
    "start_time": "2021-12-28T12:29:36.403Z"
   },
   {
    "duration": 34,
    "start_time": "2021-12-28T12:29:36.828Z"
   },
   {
    "duration": 16,
    "start_time": "2021-12-28T12:29:37.588Z"
   },
   {
    "duration": 17,
    "start_time": "2021-12-28T12:29:38.100Z"
   },
   {
    "duration": 15,
    "start_time": "2021-12-28T12:29:38.685Z"
   },
   {
    "duration": 357,
    "start_time": "2021-12-28T12:45:56.679Z"
   },
   {
    "duration": 1574,
    "start_time": "2021-12-28T12:46:02.875Z"
   },
   {
    "duration": 64,
    "start_time": "2021-12-28T12:46:04.452Z"
   },
   {
    "duration": 23,
    "start_time": "2021-12-28T12:46:04.519Z"
   },
   {
    "duration": 34,
    "start_time": "2021-12-28T12:46:04.545Z"
   },
   {
    "duration": 49,
    "start_time": "2021-12-28T12:46:04.581Z"
   },
   {
    "duration": 40,
    "start_time": "2021-12-28T12:46:04.632Z"
   },
   {
    "duration": 6,
    "start_time": "2021-12-28T12:46:04.674Z"
   },
   {
    "duration": 6,
    "start_time": "2021-12-28T12:46:04.683Z"
   },
   {
    "duration": 18,
    "start_time": "2021-12-28T12:46:04.694Z"
   },
   {
    "duration": 673,
    "start_time": "2021-12-28T12:46:04.715Z"
   },
   {
    "duration": 15,
    "start_time": "2021-12-28T12:46:05.390Z"
   },
   {
    "duration": 81,
    "start_time": "2021-12-28T12:46:05.407Z"
   },
   {
    "duration": 6,
    "start_time": "2021-12-28T12:46:05.491Z"
   },
   {
    "duration": 70,
    "start_time": "2021-12-28T12:46:05.500Z"
   },
   {
    "duration": 6,
    "start_time": "2021-12-28T12:46:05.573Z"
   },
   {
    "duration": 14,
    "start_time": "2021-12-28T12:46:05.582Z"
   },
   {
    "duration": 15,
    "start_time": "2021-12-28T12:46:05.598Z"
   },
   {
    "duration": 4,
    "start_time": "2021-12-28T12:46:05.616Z"
   },
   {
    "duration": 44,
    "start_time": "2021-12-28T12:46:05.623Z"
   },
   {
    "duration": 5,
    "start_time": "2021-12-28T12:46:05.670Z"
   },
   {
    "duration": 26,
    "start_time": "2021-12-28T12:46:05.678Z"
   },
   {
    "duration": 22,
    "start_time": "2021-12-28T12:46:05.706Z"
   },
   {
    "duration": 78,
    "start_time": "2021-12-28T12:46:05.731Z"
   },
   {
    "duration": 25,
    "start_time": "2021-12-28T12:46:05.812Z"
   },
   {
    "duration": 41,
    "start_time": "2021-12-28T12:46:05.839Z"
   },
   {
    "duration": 23,
    "start_time": "2021-12-28T12:46:05.882Z"
   },
   {
    "duration": 4792,
    "start_time": "2021-12-28T12:46:05.910Z"
   },
   {
    "duration": 38,
    "start_time": "2021-12-28T12:46:10.705Z"
   },
   {
    "duration": 26,
    "start_time": "2021-12-28T12:46:10.746Z"
   },
   {
    "duration": 5,
    "start_time": "2021-12-28T12:46:10.775Z"
   },
   {
    "duration": 32,
    "start_time": "2021-12-28T12:46:10.783Z"
   },
   {
    "duration": 10,
    "start_time": "2021-12-28T12:46:10.818Z"
   },
   {
    "duration": 38,
    "start_time": "2021-12-28T12:46:10.830Z"
   },
   {
    "duration": 22766,
    "start_time": "2021-12-28T12:46:10.871Z"
   },
   {
    "duration": 12,
    "start_time": "2021-12-28T12:46:33.639Z"
   },
   {
    "duration": 6,
    "start_time": "2021-12-28T12:46:33.668Z"
   },
   {
    "duration": 37,
    "start_time": "2021-12-28T12:46:33.677Z"
   },
   {
    "duration": 7,
    "start_time": "2021-12-28T12:46:33.717Z"
   },
   {
    "duration": 489,
    "start_time": "2021-12-28T12:46:33.726Z"
   },
   {
    "duration": 434,
    "start_time": "2021-12-28T12:46:34.218Z"
   },
   {
    "duration": 370,
    "start_time": "2021-12-28T12:46:34.654Z"
   },
   {
    "duration": 399,
    "start_time": "2021-12-28T12:46:35.026Z"
   }
  ],
  "kernelspec": {
   "display_name": "Python 3 (ipykernel)",
   "language": "python",
   "name": "python3"
  },
  "language_info": {
   "codemirror_mode": {
    "name": "ipython",
    "version": 3
   },
   "file_extension": ".py",
   "mimetype": "text/x-python",
   "name": "python",
   "nbconvert_exporter": "python",
   "pygments_lexer": "ipython3",
   "version": "3.9.7"
  },
  "toc": {
   "base_numbering": 1,
   "nav_menu": {},
   "number_sections": true,
   "sideBar": true,
   "skip_h1_title": true,
   "title_cell": "Table of Contents",
   "title_sidebar": "Contents",
   "toc_cell": false,
   "toc_position": {},
   "toc_section_display": true,
   "toc_window_display": true
  }
 },
 "nbformat": 4,
 "nbformat_minor": 2
}
