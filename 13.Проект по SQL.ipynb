{
 "cells": [
  {
   "cell_type": "markdown",
   "metadata": {},
   "source": [
    "# Описание данных"
   ]
  },
  {
   "cell_type": "markdown",
   "metadata": {},
   "source": [
    "Коронавирус застал мир врасплох, изменив привычный порядок вещей. В свободное время жители городов больше не выходят на улицу, не посещают кафе и торговые центры. Зато стало больше времени для книг. Это заметили стартаперы — и бросились создавать приложения для тех, кто любит читать.\n",
    "Ваша компания решила быть на волне и купила крупный сервис для чтения книг по подписке. Ваша первая задача как аналитика — проанализировать базу данных. В ней — информация о книгах, издательствах, авторах, а также пользовательские обзоры книг. Эти данные помогут сформулировать ценностное предложение для нового продукта."
   ]
  },
  {
   "cell_type": "markdown",
   "metadata": {},
   "source": [
    "**ЗАДАНИЕ**"
   ]
  },
  {
   "cell_type": "markdown",
   "metadata": {},
   "source": [
    "* Посчитайте, сколько книг вышло после 1 января 2000 года;\n",
    "* Для каждой книги посчитайте количество обзоров и среднюю оценку;\n",
    "* Определите издательство, которое выпустило наибольшее число книг толще 50 страниц — так вы исключите из анализа брошюры;\n",
    "* Определите автора с самой высокой средней оценкой книг — учитывайте только книги с 50 и более оценками;\n",
    "* Посчитайте среднее количество обзоров от пользователей, которые поставили больше 50 оценок."
   ]
  },
  {
   "cell_type": "code",
   "execution_count": 1,
   "metadata": {},
   "outputs": [],
   "source": [
    "# импортируем библиотеки\n",
    "import pandas as pd \n",
    "from sqlalchemy import create_engine\n",
    "\n",
    "# устанавливаем параметры\n",
    "db_config = {'user': 'praktikum_student', # имя пользователя\n",
    "             'pwd': 'Sdf4$2;d-d30pp', # пароль\n",
    "            'host': 'rc1b-wcoijxj3yxfsf3fs.mdb.yandexcloud.net', \n",
    "            'port': 6432, # порт подключения\n",
    "             'db': 'data-analyst-final-project-db'} # название базы данных\n",
    "\n",
    "connection_string = 'postgresql://{}:{}@{}:{}/{}'.format(db_config['user'], \n",
    "                                                         db_config['pwd'], \n",
    "                                                         db_config['host'], \n",
    "                                                         db_config['port'], \n",
    "                                                         db_config['db']) \n",
    "\n",
    "# сохраняем коннектор\n",
    "engine = create_engine(connection_string, connect_args={'sslmode':'require'})"
   ]
  },
  {
   "cell_type": "code",
   "execution_count": 2,
   "metadata": {},
   "outputs": [],
   "source": [
    "def select(sql):\n",
    "    return pd.io.sql.read_sql(sql, con = engine)"
   ]
  },
  {
   "cell_type": "code",
   "execution_count": 3,
   "metadata": {},
   "outputs": [
    {
     "data": {
      "text/html": [
       "<div>\n",
       "<style scoped>\n",
       "    .dataframe tbody tr th:only-of-type {\n",
       "        vertical-align: middle;\n",
       "    }\n",
       "\n",
       "    .dataframe tbody tr th {\n",
       "        vertical-align: top;\n",
       "    }\n",
       "\n",
       "    .dataframe thead th {\n",
       "        text-align: right;\n",
       "    }\n",
       "</style>\n",
       "<table border=\"1\" class=\"dataframe\">\n",
       "  <thead>\n",
       "    <tr style=\"text-align: right;\">\n",
       "      <th></th>\n",
       "      <th>book_id</th>\n",
       "      <th>author_id</th>\n",
       "      <th>title</th>\n",
       "      <th>num_pages</th>\n",
       "      <th>publication_date</th>\n",
       "      <th>publisher_id</th>\n",
       "    </tr>\n",
       "  </thead>\n",
       "  <tbody>\n",
       "    <tr>\n",
       "      <th>0</th>\n",
       "      <td>1</td>\n",
       "      <td>546</td>\n",
       "      <td>'Salem's Lot</td>\n",
       "      <td>594</td>\n",
       "      <td>2005-11-01</td>\n",
       "      <td>93</td>\n",
       "    </tr>\n",
       "    <tr>\n",
       "      <th>1</th>\n",
       "      <td>2</td>\n",
       "      <td>465</td>\n",
       "      <td>1 000 Places to See Before You Die</td>\n",
       "      <td>992</td>\n",
       "      <td>2003-05-22</td>\n",
       "      <td>336</td>\n",
       "    </tr>\n",
       "    <tr>\n",
       "      <th>2</th>\n",
       "      <td>3</td>\n",
       "      <td>407</td>\n",
       "      <td>13 Little Blue Envelopes (Little Blue Envelope...</td>\n",
       "      <td>322</td>\n",
       "      <td>2010-12-21</td>\n",
       "      <td>135</td>\n",
       "    </tr>\n",
       "    <tr>\n",
       "      <th>3</th>\n",
       "      <td>4</td>\n",
       "      <td>82</td>\n",
       "      <td>1491: New Revelations of the Americas Before C...</td>\n",
       "      <td>541</td>\n",
       "      <td>2006-10-10</td>\n",
       "      <td>309</td>\n",
       "    </tr>\n",
       "    <tr>\n",
       "      <th>4</th>\n",
       "      <td>5</td>\n",
       "      <td>125</td>\n",
       "      <td>1776</td>\n",
       "      <td>386</td>\n",
       "      <td>2006-07-04</td>\n",
       "      <td>268</td>\n",
       "    </tr>\n",
       "  </tbody>\n",
       "</table>\n",
       "</div>"
      ],
      "text/plain": [
       "   book_id  author_id                                              title  \\\n",
       "0        1        546                                       'Salem's Lot   \n",
       "1        2        465                 1 000 Places to See Before You Die   \n",
       "2        3        407  13 Little Blue Envelopes (Little Blue Envelope...   \n",
       "3        4         82  1491: New Revelations of the Americas Before C...   \n",
       "4        5        125                                               1776   \n",
       "\n",
       "   num_pages publication_date  publisher_id  \n",
       "0        594       2005-11-01            93  \n",
       "1        992       2003-05-22           336  \n",
       "2        322       2010-12-21           135  \n",
       "3        541       2006-10-10           309  \n",
       "4        386       2006-07-04           268  "
      ]
     },
     "execution_count": 3,
     "metadata": {},
     "output_type": "execute_result"
    }
   ],
   "source": [
    "books = '''\n",
    "            SELECT * \n",
    "            FROM books\n",
    "            LIMIT 5\n",
    "        '''\n",
    "select(books)"
   ]
  },
  {
   "cell_type": "markdown",
   "metadata": {},
   "source": [
    "Таблица `books`(cодержит данные о книгах):\n",
    "* `book_id` — идентификатор книги;\n",
    "* `author_id` — идентификатор автора;\n",
    "* `title` — название книги;\n",
    "* `num_pages` — количество страниц;\n",
    "* `publication_date` — дата публикации книги;\n",
    "* `publisher_id` — идентификатор издателя."
   ]
  },
  {
   "cell_type": "code",
   "execution_count": 4,
   "metadata": {},
   "outputs": [
    {
     "data": {
      "text/html": [
       "<div>\n",
       "<style scoped>\n",
       "    .dataframe tbody tr th:only-of-type {\n",
       "        vertical-align: middle;\n",
       "    }\n",
       "\n",
       "    .dataframe tbody tr th {\n",
       "        vertical-align: top;\n",
       "    }\n",
       "\n",
       "    .dataframe thead th {\n",
       "        text-align: right;\n",
       "    }\n",
       "</style>\n",
       "<table border=\"1\" class=\"dataframe\">\n",
       "  <thead>\n",
       "    <tr style=\"text-align: right;\">\n",
       "      <th></th>\n",
       "      <th>author_id</th>\n",
       "      <th>author</th>\n",
       "    </tr>\n",
       "  </thead>\n",
       "  <tbody>\n",
       "    <tr>\n",
       "      <th>0</th>\n",
       "      <td>1</td>\n",
       "      <td>A.S. Byatt</td>\n",
       "    </tr>\n",
       "    <tr>\n",
       "      <th>1</th>\n",
       "      <td>2</td>\n",
       "      <td>Aesop/Laura Harris/Laura Gibbs</td>\n",
       "    </tr>\n",
       "    <tr>\n",
       "      <th>2</th>\n",
       "      <td>3</td>\n",
       "      <td>Agatha Christie</td>\n",
       "    </tr>\n",
       "    <tr>\n",
       "      <th>3</th>\n",
       "      <td>4</td>\n",
       "      <td>Alan Brennert</td>\n",
       "    </tr>\n",
       "    <tr>\n",
       "      <th>4</th>\n",
       "      <td>5</td>\n",
       "      <td>Alan Moore/David   Lloyd</td>\n",
       "    </tr>\n",
       "  </tbody>\n",
       "</table>\n",
       "</div>"
      ],
      "text/plain": [
       "   author_id                          author\n",
       "0          1                      A.S. Byatt\n",
       "1          2  Aesop/Laura Harris/Laura Gibbs\n",
       "2          3                 Agatha Christie\n",
       "3          4                   Alan Brennert\n",
       "4          5        Alan Moore/David   Lloyd"
      ]
     },
     "execution_count": 4,
     "metadata": {},
     "output_type": "execute_result"
    }
   ],
   "source": [
    "authors = '''\n",
    "            SELECT * \n",
    "            FROM authors\n",
    "            LIMIT 5\n",
    "          '''\n",
    "select(authors)"
   ]
  },
  {
   "cell_type": "markdown",
   "metadata": {},
   "source": [
    "Таблица `authors`(cодержит данные об авторах):\n",
    "* `author_id` — идентификатор автора;\n",
    "* `author` — имя автора."
   ]
  },
  {
   "cell_type": "code",
   "execution_count": 5,
   "metadata": {},
   "outputs": [
    {
     "data": {
      "text/html": [
       "<div>\n",
       "<style scoped>\n",
       "    .dataframe tbody tr th:only-of-type {\n",
       "        vertical-align: middle;\n",
       "    }\n",
       "\n",
       "    .dataframe tbody tr th {\n",
       "        vertical-align: top;\n",
       "    }\n",
       "\n",
       "    .dataframe thead th {\n",
       "        text-align: right;\n",
       "    }\n",
       "</style>\n",
       "<table border=\"1\" class=\"dataframe\">\n",
       "  <thead>\n",
       "    <tr style=\"text-align: right;\">\n",
       "      <th></th>\n",
       "      <th>publisher_id</th>\n",
       "      <th>publisher</th>\n",
       "    </tr>\n",
       "  </thead>\n",
       "  <tbody>\n",
       "    <tr>\n",
       "      <th>0</th>\n",
       "      <td>1</td>\n",
       "      <td>Ace</td>\n",
       "    </tr>\n",
       "    <tr>\n",
       "      <th>1</th>\n",
       "      <td>2</td>\n",
       "      <td>Ace Book</td>\n",
       "    </tr>\n",
       "    <tr>\n",
       "      <th>2</th>\n",
       "      <td>3</td>\n",
       "      <td>Ace Books</td>\n",
       "    </tr>\n",
       "    <tr>\n",
       "      <th>3</th>\n",
       "      <td>4</td>\n",
       "      <td>Ace Hardcover</td>\n",
       "    </tr>\n",
       "    <tr>\n",
       "      <th>4</th>\n",
       "      <td>5</td>\n",
       "      <td>Addison Wesley Publishing Company</td>\n",
       "    </tr>\n",
       "  </tbody>\n",
       "</table>\n",
       "</div>"
      ],
      "text/plain": [
       "   publisher_id                          publisher\n",
       "0             1                                Ace\n",
       "1             2                           Ace Book\n",
       "2             3                          Ace Books\n",
       "3             4                      Ace Hardcover\n",
       "4             5  Addison Wesley Publishing Company"
      ]
     },
     "execution_count": 5,
     "metadata": {},
     "output_type": "execute_result"
    }
   ],
   "source": [
    "publishers = '''\n",
    "            SELECT * \n",
    "            FROM publishers\n",
    "            LIMIT 5\n",
    "         '''\n",
    "select(publishers)"
   ]
  },
  {
   "cell_type": "markdown",
   "metadata": {},
   "source": [
    "Таблица `publishers` (cодержит данные об издательствах):\n",
    "* publisher_id — идентификатор издательства;\n",
    "* publisher — название издательства."
   ]
  },
  {
   "cell_type": "code",
   "execution_count": 6,
   "metadata": {},
   "outputs": [
    {
     "data": {
      "text/html": [
       "<div>\n",
       "<style scoped>\n",
       "    .dataframe tbody tr th:only-of-type {\n",
       "        vertical-align: middle;\n",
       "    }\n",
       "\n",
       "    .dataframe tbody tr th {\n",
       "        vertical-align: top;\n",
       "    }\n",
       "\n",
       "    .dataframe thead th {\n",
       "        text-align: right;\n",
       "    }\n",
       "</style>\n",
       "<table border=\"1\" class=\"dataframe\">\n",
       "  <thead>\n",
       "    <tr style=\"text-align: right;\">\n",
       "      <th></th>\n",
       "      <th>rating_id</th>\n",
       "      <th>book_id</th>\n",
       "      <th>username</th>\n",
       "      <th>rating</th>\n",
       "    </tr>\n",
       "  </thead>\n",
       "  <tbody>\n",
       "    <tr>\n",
       "      <th>0</th>\n",
       "      <td>1</td>\n",
       "      <td>1</td>\n",
       "      <td>ryanfranco</td>\n",
       "      <td>4</td>\n",
       "    </tr>\n",
       "    <tr>\n",
       "      <th>1</th>\n",
       "      <td>2</td>\n",
       "      <td>1</td>\n",
       "      <td>grantpatricia</td>\n",
       "      <td>2</td>\n",
       "    </tr>\n",
       "    <tr>\n",
       "      <th>2</th>\n",
       "      <td>3</td>\n",
       "      <td>1</td>\n",
       "      <td>brandtandrea</td>\n",
       "      <td>5</td>\n",
       "    </tr>\n",
       "    <tr>\n",
       "      <th>3</th>\n",
       "      <td>4</td>\n",
       "      <td>2</td>\n",
       "      <td>lorichen</td>\n",
       "      <td>3</td>\n",
       "    </tr>\n",
       "    <tr>\n",
       "      <th>4</th>\n",
       "      <td>5</td>\n",
       "      <td>2</td>\n",
       "      <td>mariokeller</td>\n",
       "      <td>2</td>\n",
       "    </tr>\n",
       "  </tbody>\n",
       "</table>\n",
       "</div>"
      ],
      "text/plain": [
       "   rating_id  book_id       username  rating\n",
       "0          1        1     ryanfranco       4\n",
       "1          2        1  grantpatricia       2\n",
       "2          3        1   brandtandrea       5\n",
       "3          4        2       lorichen       3\n",
       "4          5        2    mariokeller       2"
      ]
     },
     "execution_count": 6,
     "metadata": {},
     "output_type": "execute_result"
    }
   ],
   "source": [
    "ratings = '''\n",
    "            SELECT * \n",
    "            FROM ratings\n",
    "            LIMIT 5\n",
    "          '''\n",
    "select(ratings)"
   ]
  },
  {
   "cell_type": "markdown",
   "metadata": {},
   "source": [
    "Таблица `ratings`(cодержит данные о пользовательских оценках книг):\n",
    "* `rating_id` — идентификатор оценки;\n",
    "* `book_id` — идентификатор книги;\n",
    "* `username` — имя пользователя, оставившего оценку;\n",
    "* `rating` — оценка книги."
   ]
  },
  {
   "cell_type": "code",
   "execution_count": 7,
   "metadata": {},
   "outputs": [
    {
     "data": {
      "text/html": [
       "<div>\n",
       "<style scoped>\n",
       "    .dataframe tbody tr th:only-of-type {\n",
       "        vertical-align: middle;\n",
       "    }\n",
       "\n",
       "    .dataframe tbody tr th {\n",
       "        vertical-align: top;\n",
       "    }\n",
       "\n",
       "    .dataframe thead th {\n",
       "        text-align: right;\n",
       "    }\n",
       "</style>\n",
       "<table border=\"1\" class=\"dataframe\">\n",
       "  <thead>\n",
       "    <tr style=\"text-align: right;\">\n",
       "      <th></th>\n",
       "      <th>review_id</th>\n",
       "      <th>book_id</th>\n",
       "      <th>username</th>\n",
       "      <th>text</th>\n",
       "    </tr>\n",
       "  </thead>\n",
       "  <tbody>\n",
       "    <tr>\n",
       "      <th>0</th>\n",
       "      <td>1</td>\n",
       "      <td>1</td>\n",
       "      <td>brandtandrea</td>\n",
       "      <td>Mention society tell send professor analysis. ...</td>\n",
       "    </tr>\n",
       "    <tr>\n",
       "      <th>1</th>\n",
       "      <td>2</td>\n",
       "      <td>1</td>\n",
       "      <td>ryanfranco</td>\n",
       "      <td>Foot glass pretty audience hit themselves. Amo...</td>\n",
       "    </tr>\n",
       "    <tr>\n",
       "      <th>2</th>\n",
       "      <td>3</td>\n",
       "      <td>2</td>\n",
       "      <td>lorichen</td>\n",
       "      <td>Listen treat keep worry. Miss husband tax but ...</td>\n",
       "    </tr>\n",
       "    <tr>\n",
       "      <th>3</th>\n",
       "      <td>4</td>\n",
       "      <td>3</td>\n",
       "      <td>johnsonamanda</td>\n",
       "      <td>Finally month interesting blue could nature cu...</td>\n",
       "    </tr>\n",
       "    <tr>\n",
       "      <th>4</th>\n",
       "      <td>5</td>\n",
       "      <td>3</td>\n",
       "      <td>scotttamara</td>\n",
       "      <td>Nation purpose heavy give wait song will. List...</td>\n",
       "    </tr>\n",
       "  </tbody>\n",
       "</table>\n",
       "</div>"
      ],
      "text/plain": [
       "   review_id  book_id       username  \\\n",
       "0          1        1   brandtandrea   \n",
       "1          2        1     ryanfranco   \n",
       "2          3        2       lorichen   \n",
       "3          4        3  johnsonamanda   \n",
       "4          5        3    scotttamara   \n",
       "\n",
       "                                                text  \n",
       "0  Mention society tell send professor analysis. ...  \n",
       "1  Foot glass pretty audience hit themselves. Amo...  \n",
       "2  Listen treat keep worry. Miss husband tax but ...  \n",
       "3  Finally month interesting blue could nature cu...  \n",
       "4  Nation purpose heavy give wait song will. List...  "
      ]
     },
     "execution_count": 7,
     "metadata": {},
     "output_type": "execute_result"
    }
   ],
   "source": [
    "reviews = '''\n",
    "            SELECT * \n",
    "            FROM reviews\n",
    "            LIMIT 5\n",
    "          '''\n",
    "select(reviews)"
   ]
  },
  {
   "cell_type": "markdown",
   "metadata": {},
   "source": [
    "Таблица `reviews` (cодержит данные о пользовательских обзорах):\n",
    "* `review_id` — идентификатор обзора;\n",
    "* `book_id` — идентификатор книги;\n",
    "* `username` — имя автора обзора;\n",
    "* `text` — текст обзора."
   ]
  },
  {
   "cell_type": "markdown",
   "metadata": {},
   "source": [
    "Найдем, сколько книг вышло после 1 января 2000 года."
   ]
  },
  {
   "cell_type": "code",
   "execution_count": 8,
   "metadata": {},
   "outputs": [
    {
     "data": {
      "text/html": [
       "<div>\n",
       "<style scoped>\n",
       "    .dataframe tbody tr th:only-of-type {\n",
       "        vertical-align: middle;\n",
       "    }\n",
       "\n",
       "    .dataframe tbody tr th {\n",
       "        vertical-align: top;\n",
       "    }\n",
       "\n",
       "    .dataframe thead th {\n",
       "        text-align: right;\n",
       "    }\n",
       "</style>\n",
       "<table border=\"1\" class=\"dataframe\">\n",
       "  <thead>\n",
       "    <tr style=\"text-align: right;\">\n",
       "      <th></th>\n",
       "      <th>books_cnt</th>\n",
       "    </tr>\n",
       "  </thead>\n",
       "  <tbody>\n",
       "    <tr>\n",
       "      <th>0</th>\n",
       "      <td>819</td>\n",
       "    </tr>\n",
       "  </tbody>\n",
       "</table>\n",
       "</div>"
      ],
      "text/plain": [
       "   books_cnt\n",
       "0        819"
      ]
     },
     "execution_count": 8,
     "metadata": {},
     "output_type": "execute_result"
    }
   ],
   "source": [
    "number_books = '''\n",
    "            SELECT COUNT(book_id) AS books_cnt \n",
    "            FROM books \n",
    "            WHERE publication_date > '2000-01-01'\n",
    "'''\n",
    "select(number_books)"
   ]
  },
  {
   "cell_type": "markdown",
   "metadata": {},
   "source": [
    "Было выпущено начиная с 1 января 2000 года 819 книг."
   ]
  },
  {
   "cell_type": "markdown",
   "metadata": {},
   "source": [
    "Для каждой книги посчитаем количество обзоров и среднюю оценку."
   ]
  },
  {
   "cell_type": "code",
   "execution_count": 9,
   "metadata": {},
   "outputs": [
    {
     "data": {
      "text/html": [
       "<div>\n",
       "<style scoped>\n",
       "    .dataframe tbody tr th:only-of-type {\n",
       "        vertical-align: middle;\n",
       "    }\n",
       "\n",
       "    .dataframe tbody tr th {\n",
       "        vertical-align: top;\n",
       "    }\n",
       "\n",
       "    .dataframe thead th {\n",
       "        text-align: right;\n",
       "    }\n",
       "</style>\n",
       "<table border=\"1\" class=\"dataframe\">\n",
       "  <thead>\n",
       "    <tr style=\"text-align: right;\">\n",
       "      <th></th>\n",
       "      <th>book_id</th>\n",
       "      <th>title</th>\n",
       "      <th>cnt_reviews</th>\n",
       "      <th>avg_rating</th>\n",
       "    </tr>\n",
       "  </thead>\n",
       "  <tbody>\n",
       "    <tr>\n",
       "      <th>0</th>\n",
       "      <td>948</td>\n",
       "      <td>Twilight (Twilight  #1)</td>\n",
       "      <td>7</td>\n",
       "      <td>3.662500</td>\n",
       "    </tr>\n",
       "    <tr>\n",
       "      <th>1</th>\n",
       "      <td>854</td>\n",
       "      <td>The Road</td>\n",
       "      <td>6</td>\n",
       "      <td>3.772727</td>\n",
       "    </tr>\n",
       "    <tr>\n",
       "      <th>2</th>\n",
       "      <td>207</td>\n",
       "      <td>Eat  Pray  Love</td>\n",
       "      <td>6</td>\n",
       "      <td>3.395833</td>\n",
       "    </tr>\n",
       "    <tr>\n",
       "      <th>3</th>\n",
       "      <td>656</td>\n",
       "      <td>The Book Thief</td>\n",
       "      <td>6</td>\n",
       "      <td>4.264151</td>\n",
       "    </tr>\n",
       "    <tr>\n",
       "      <th>4</th>\n",
       "      <td>733</td>\n",
       "      <td>The Giver (The Giver  #1)</td>\n",
       "      <td>6</td>\n",
       "      <td>3.750000</td>\n",
       "    </tr>\n",
       "    <tr>\n",
       "      <th>5</th>\n",
       "      <td>779</td>\n",
       "      <td>The Lightning Thief (Percy Jackson and the Oly...</td>\n",
       "      <td>6</td>\n",
       "      <td>4.080645</td>\n",
       "    </tr>\n",
       "    <tr>\n",
       "      <th>6</th>\n",
       "      <td>302</td>\n",
       "      <td>Harry Potter and the Prisoner of Azkaban (Harr...</td>\n",
       "      <td>6</td>\n",
       "      <td>4.414634</td>\n",
       "    </tr>\n",
       "    <tr>\n",
       "      <th>7</th>\n",
       "      <td>299</td>\n",
       "      <td>Harry Potter and the Chamber of Secrets (Harry...</td>\n",
       "      <td>6</td>\n",
       "      <td>4.287500</td>\n",
       "    </tr>\n",
       "    <tr>\n",
       "      <th>8</th>\n",
       "      <td>497</td>\n",
       "      <td>Outlander (Outlander  #1)</td>\n",
       "      <td>6</td>\n",
       "      <td>4.125000</td>\n",
       "    </tr>\n",
       "    <tr>\n",
       "      <th>9</th>\n",
       "      <td>627</td>\n",
       "      <td>The Alchemist</td>\n",
       "      <td>6</td>\n",
       "      <td>3.789474</td>\n",
       "    </tr>\n",
       "    <tr>\n",
       "      <th>10</th>\n",
       "      <td>695</td>\n",
       "      <td>The Curious Incident of the Dog in the Night-Time</td>\n",
       "      <td>6</td>\n",
       "      <td>4.081081</td>\n",
       "    </tr>\n",
       "    <tr>\n",
       "      <th>11</th>\n",
       "      <td>696</td>\n",
       "      <td>The Da Vinci Code (Robert Langdon  #2)</td>\n",
       "      <td>6</td>\n",
       "      <td>3.830508</td>\n",
       "    </tr>\n",
       "    <tr>\n",
       "      <th>12</th>\n",
       "      <td>734</td>\n",
       "      <td>The Glass Castle</td>\n",
       "      <td>6</td>\n",
       "      <td>4.206897</td>\n",
       "    </tr>\n",
       "    <tr>\n",
       "      <th>13</th>\n",
       "      <td>750</td>\n",
       "      <td>The Hobbit  or There and Back Again</td>\n",
       "      <td>6</td>\n",
       "      <td>4.125000</td>\n",
       "    </tr>\n",
       "    <tr>\n",
       "      <th>14</th>\n",
       "      <td>673</td>\n",
       "      <td>The Catcher in the Rye</td>\n",
       "      <td>6</td>\n",
       "      <td>3.825581</td>\n",
       "    </tr>\n",
       "  </tbody>\n",
       "</table>\n",
       "</div>"
      ],
      "text/plain": [
       "    book_id                                              title  cnt_reviews  \\\n",
       "0       948                            Twilight (Twilight  #1)            7   \n",
       "1       854                                           The Road            6   \n",
       "2       207                                    Eat  Pray  Love            6   \n",
       "3       656                                     The Book Thief            6   \n",
       "4       733                          The Giver (The Giver  #1)            6   \n",
       "5       779  The Lightning Thief (Percy Jackson and the Oly...            6   \n",
       "6       302  Harry Potter and the Prisoner of Azkaban (Harr...            6   \n",
       "7       299  Harry Potter and the Chamber of Secrets (Harry...            6   \n",
       "8       497                          Outlander (Outlander  #1)            6   \n",
       "9       627                                      The Alchemist            6   \n",
       "10      695  The Curious Incident of the Dog in the Night-Time            6   \n",
       "11      696             The Da Vinci Code (Robert Langdon  #2)            6   \n",
       "12      734                                   The Glass Castle            6   \n",
       "13      750                The Hobbit  or There and Back Again            6   \n",
       "14      673                             The Catcher in the Rye            6   \n",
       "\n",
       "    avg_rating  \n",
       "0     3.662500  \n",
       "1     3.772727  \n",
       "2     3.395833  \n",
       "3     4.264151  \n",
       "4     3.750000  \n",
       "5     4.080645  \n",
       "6     4.414634  \n",
       "7     4.287500  \n",
       "8     4.125000  \n",
       "9     3.789474  \n",
       "10    4.081081  \n",
       "11    3.830508  \n",
       "12    4.206897  \n",
       "13    4.125000  \n",
       "14    3.825581  "
      ]
     },
     "execution_count": 9,
     "metadata": {},
     "output_type": "execute_result"
    }
   ],
   "source": [
    "review_valuation=  '''\n",
    "            SELECT\n",
    "                books.book_id AS book_id,\n",
    "                books.title AS title,\n",
    "                COUNT(DISTINCT review_id) as cnt_reviews,\n",
    "                AVG(rating) as avg_rating\n",
    "            FROM\n",
    "                books \n",
    "                FULL JOIN reviews \n",
    "                    ON books.book_id = reviews.book_id\n",
    "                FULL JOIN ratings \n",
    "                    ON books.book_id = ratings.book_id\n",
    "            GROUP BY\n",
    "                books.book_id\n",
    "            ORDER BY \n",
    "                cnt_reviews DESC\n",
    "            LIMIT 15\n",
    "\n",
    "         '''\n",
    "select(review_valuation)"
   ]
  },
  {
   "cell_type": "markdown",
   "metadata": {},
   "source": [
    "Больше всего обзоров у книги Twilight (Twilight #1) со средним рейтингом 3.66."
   ]
  },
  {
   "cell_type": "markdown",
   "metadata": {},
   "source": [
    "Определим издательство, которое выпустило наибольшее число книг толще 50 страниц."
   ]
  },
  {
   "cell_type": "code",
   "execution_count": 10,
   "metadata": {},
   "outputs": [
    {
     "data": {
      "text/html": [
       "<div>\n",
       "<style scoped>\n",
       "    .dataframe tbody tr th:only-of-type {\n",
       "        vertical-align: middle;\n",
       "    }\n",
       "\n",
       "    .dataframe tbody tr th {\n",
       "        vertical-align: top;\n",
       "    }\n",
       "\n",
       "    .dataframe thead th {\n",
       "        text-align: right;\n",
       "    }\n",
       "</style>\n",
       "<table border=\"1\" class=\"dataframe\">\n",
       "  <thead>\n",
       "    <tr style=\"text-align: right;\">\n",
       "      <th></th>\n",
       "      <th>publisher_house</th>\n",
       "      <th>cnt_books</th>\n",
       "    </tr>\n",
       "  </thead>\n",
       "  <tbody>\n",
       "    <tr>\n",
       "      <th>0</th>\n",
       "      <td>Penguin Books</td>\n",
       "      <td>42</td>\n",
       "    </tr>\n",
       "    <tr>\n",
       "      <th>1</th>\n",
       "      <td>Vintage</td>\n",
       "      <td>31</td>\n",
       "    </tr>\n",
       "    <tr>\n",
       "      <th>2</th>\n",
       "      <td>Grand Central Publishing</td>\n",
       "      <td>25</td>\n",
       "    </tr>\n",
       "    <tr>\n",
       "      <th>3</th>\n",
       "      <td>Penguin Classics</td>\n",
       "      <td>24</td>\n",
       "    </tr>\n",
       "    <tr>\n",
       "      <th>4</th>\n",
       "      <td>Ballantine Books</td>\n",
       "      <td>19</td>\n",
       "    </tr>\n",
       "    <tr>\n",
       "      <th>5</th>\n",
       "      <td>Bantam</td>\n",
       "      <td>19</td>\n",
       "    </tr>\n",
       "    <tr>\n",
       "      <th>6</th>\n",
       "      <td>Berkley</td>\n",
       "      <td>17</td>\n",
       "    </tr>\n",
       "    <tr>\n",
       "      <th>7</th>\n",
       "      <td>St. Martin's Press</td>\n",
       "      <td>14</td>\n",
       "    </tr>\n",
       "    <tr>\n",
       "      <th>8</th>\n",
       "      <td>Berkley Books</td>\n",
       "      <td>14</td>\n",
       "    </tr>\n",
       "    <tr>\n",
       "      <th>9</th>\n",
       "      <td>Delta</td>\n",
       "      <td>13</td>\n",
       "    </tr>\n",
       "    <tr>\n",
       "      <th>10</th>\n",
       "      <td>William Morrow Paperbacks</td>\n",
       "      <td>13</td>\n",
       "    </tr>\n",
       "    <tr>\n",
       "      <th>11</th>\n",
       "      <td>HarperCollins</td>\n",
       "      <td>12</td>\n",
       "    </tr>\n",
       "    <tr>\n",
       "      <th>12</th>\n",
       "      <td>Little  Brown and Company</td>\n",
       "      <td>12</td>\n",
       "    </tr>\n",
       "    <tr>\n",
       "      <th>13</th>\n",
       "      <td>Harper Perennial</td>\n",
       "      <td>12</td>\n",
       "    </tr>\n",
       "    <tr>\n",
       "      <th>14</th>\n",
       "      <td>Tor Books</td>\n",
       "      <td>11</td>\n",
       "    </tr>\n",
       "  </tbody>\n",
       "</table>\n",
       "</div>"
      ],
      "text/plain": [
       "              publisher_house  cnt_books\n",
       "0               Penguin Books         42\n",
       "1                     Vintage         31\n",
       "2    Grand Central Publishing         25\n",
       "3            Penguin Classics         24\n",
       "4            Ballantine Books         19\n",
       "5                      Bantam         19\n",
       "6                     Berkley         17\n",
       "7          St. Martin's Press         14\n",
       "8               Berkley Books         14\n",
       "9                       Delta         13\n",
       "10  William Morrow Paperbacks         13\n",
       "11              HarperCollins         12\n",
       "12  Little  Brown and Company         12\n",
       "13           Harper Perennial         12\n",
       "14                  Tor Books         11"
      ]
     },
     "execution_count": 10,
     "metadata": {},
     "output_type": "execute_result"
    }
   ],
   "source": [
    "publishing_house = '''\n",
    "            SELECT\n",
    "                publishers.publisher AS publisher_house,\n",
    "                COUNT(book_id) as cnt_books\n",
    "            FROM\n",
    "                publishers \n",
    "                FULL JOIN books \n",
    "                    ON publishers.publisher_id = books.publisher_id\n",
    "            WHERE\n",
    "                books.num_pages > 50\n",
    "            GROUP BY\n",
    "                publishers.publisher\n",
    "            ORDER BY \n",
    "                cnt_books DESC\n",
    "            LIMIT 15 \n",
    "\n",
    "         '''\n",
    "select(publishing_house)"
   ]
  },
  {
   "cell_type": "markdown",
   "metadata": {},
   "source": [
    "Издательство Penguin Books выпустило наибольшее число книг толще 50 страниц."
   ]
  },
  {
   "cell_type": "markdown",
   "metadata": {},
   "source": [
    "Определим автора с самой высокой средней оценкой книг — учитываем только книги с 50 и более оценками."
   ]
  },
  {
   "cell_type": "code",
   "execution_count": 11,
   "metadata": {},
   "outputs": [
    {
     "data": {
      "text/html": [
       "<div>\n",
       "<style scoped>\n",
       "    .dataframe tbody tr th:only-of-type {\n",
       "        vertical-align: middle;\n",
       "    }\n",
       "\n",
       "    .dataframe tbody tr th {\n",
       "        vertical-align: top;\n",
       "    }\n",
       "\n",
       "    .dataframe thead th {\n",
       "        text-align: right;\n",
       "    }\n",
       "</style>\n",
       "<table border=\"1\" class=\"dataframe\">\n",
       "  <thead>\n",
       "    <tr style=\"text-align: right;\">\n",
       "      <th></th>\n",
       "      <th>author</th>\n",
       "      <th>avg_author_rating</th>\n",
       "    </tr>\n",
       "  </thead>\n",
       "  <tbody>\n",
       "    <tr>\n",
       "      <th>0</th>\n",
       "      <td>J.K. Rowling/Mary GrandPré</td>\n",
       "      <td>4.283844</td>\n",
       "    </tr>\n",
       "    <tr>\n",
       "      <th>1</th>\n",
       "      <td>Markus Zusak/Cao Xuân Việt Khương</td>\n",
       "      <td>4.264151</td>\n",
       "    </tr>\n",
       "    <tr>\n",
       "      <th>2</th>\n",
       "      <td>J.R.R. Tolkien</td>\n",
       "      <td>4.258446</td>\n",
       "    </tr>\n",
       "    <tr>\n",
       "      <th>3</th>\n",
       "      <td>Louisa May Alcott</td>\n",
       "      <td>4.192308</td>\n",
       "    </tr>\n",
       "    <tr>\n",
       "      <th>4</th>\n",
       "      <td>Rick Riordan</td>\n",
       "      <td>4.080645</td>\n",
       "    </tr>\n",
       "    <tr>\n",
       "      <th>5</th>\n",
       "      <td>William Golding</td>\n",
       "      <td>3.901408</td>\n",
       "    </tr>\n",
       "    <tr>\n",
       "      <th>6</th>\n",
       "      <td>J.D. Salinger</td>\n",
       "      <td>3.825581</td>\n",
       "    </tr>\n",
       "    <tr>\n",
       "      <th>7</th>\n",
       "      <td>Paulo Coelho/Alan R. Clarke/Özdemir İnce</td>\n",
       "      <td>3.789474</td>\n",
       "    </tr>\n",
       "    <tr>\n",
       "      <th>8</th>\n",
       "      <td>William Shakespeare/Paul Werstine/Barbara A. M...</td>\n",
       "      <td>3.787879</td>\n",
       "    </tr>\n",
       "    <tr>\n",
       "      <th>9</th>\n",
       "      <td>Dan Brown</td>\n",
       "      <td>3.754540</td>\n",
       "    </tr>\n",
       "    <tr>\n",
       "      <th>10</th>\n",
       "      <td>Lois Lowry</td>\n",
       "      <td>3.750000</td>\n",
       "    </tr>\n",
       "    <tr>\n",
       "      <th>11</th>\n",
       "      <td>George Orwell/Boris Grabnar/Peter Škerl</td>\n",
       "      <td>3.729730</td>\n",
       "    </tr>\n",
       "    <tr>\n",
       "      <th>12</th>\n",
       "      <td>Stephenie Meyer</td>\n",
       "      <td>3.662500</td>\n",
       "    </tr>\n",
       "    <tr>\n",
       "      <th>13</th>\n",
       "      <td>John Steinbeck</td>\n",
       "      <td>3.622951</td>\n",
       "    </tr>\n",
       "  </tbody>\n",
       "</table>\n",
       "</div>"
      ],
      "text/plain": [
       "                                               author  avg_author_rating\n",
       "0                          J.K. Rowling/Mary GrandPré           4.283844\n",
       "1                   Markus Zusak/Cao Xuân Việt Khương           4.264151\n",
       "2                                      J.R.R. Tolkien           4.258446\n",
       "3                                   Louisa May Alcott           4.192308\n",
       "4                                        Rick Riordan           4.080645\n",
       "5                                     William Golding           3.901408\n",
       "6                                       J.D. Salinger           3.825581\n",
       "7            Paulo Coelho/Alan R. Clarke/Özdemir İnce           3.789474\n",
       "8   William Shakespeare/Paul Werstine/Barbara A. M...           3.787879\n",
       "9                                           Dan Brown           3.754540\n",
       "10                                         Lois Lowry           3.750000\n",
       "11            George Orwell/Boris Grabnar/Peter Škerl           3.729730\n",
       "12                                    Stephenie Meyer           3.662500\n",
       "13                                     John Steinbeck           3.622951"
      ]
     },
     "execution_count": 11,
     "metadata": {},
     "output_type": "execute_result"
    }
   ],
   "source": [
    "valuation = '''\n",
    "              SELECT\n",
    "                  authors.author AS author,\n",
    "                  AVG(SUBQ.avg_rating) as avg_author_rating\n",
    "              FROM\n",
    "                  authors\n",
    "                  INNER JOIN (\n",
    "                        SELECT\n",
    "                            books.book_id AS book_id,\n",
    "                            books.author_id AS author_id,\n",
    "                            AVG(rating) AS avg_rating,\n",
    "                            COUNT(rating) AS cnt_rating\n",
    "                        FROM   \n",
    "                            books \n",
    "                            INNER JOIN ratings\n",
    "                            ON books.book_id = ratings.book_id\n",
    "                        GROUP BY\n",
    "                            books.book_id\n",
    "                        ORDER BY \n",
    "                            cnt_rating DESC) AS SUBQ ON authors.author_id = SUBQ.author_id\n",
    "\n",
    "              WHERE\n",
    "                  SUBQ.cnt_rating >= 50\n",
    "              GROUP BY\n",
    "                  authors.author\n",
    "              ORDER BY \n",
    "                  avg_author_rating DESC\n",
    "              LIMIT 15\n",
    "                \n",
    "         '''\n",
    "select(valuation)"
   ]
  },
  {
   "cell_type": "markdown",
   "metadata": {},
   "source": [
    "J.K. Rowling/Mary GrandPré\t имеет самую  среднюю высокую оценку."
   ]
  },
  {
   "cell_type": "markdown",
   "metadata": {},
   "source": [
    "Посчитаем среднее количество обзоров от пользователей, которые поставили больше 50 оценок."
   ]
  },
  {
   "cell_type": "code",
   "execution_count": 12,
   "metadata": {},
   "outputs": [
    {
     "data": {
      "text/html": [
       "<div>\n",
       "<style scoped>\n",
       "    .dataframe tbody tr th:only-of-type {\n",
       "        vertical-align: middle;\n",
       "    }\n",
       "\n",
       "    .dataframe tbody tr th {\n",
       "        vertical-align: top;\n",
       "    }\n",
       "\n",
       "    .dataframe thead th {\n",
       "        text-align: right;\n",
       "    }\n",
       "</style>\n",
       "<table border=\"1\" class=\"dataframe\">\n",
       "  <thead>\n",
       "    <tr style=\"text-align: right;\">\n",
       "      <th></th>\n",
       "      <th>round</th>\n",
       "    </tr>\n",
       "  </thead>\n",
       "  <tbody>\n",
       "    <tr>\n",
       "      <th>0</th>\n",
       "      <td>24.0</td>\n",
       "    </tr>\n",
       "  </tbody>\n",
       "</table>\n",
       "</div>"
      ],
      "text/plain": [
       "   round\n",
       "0   24.0"
      ]
     },
     "execution_count": 12,
     "metadata": {},
     "output_type": "execute_result"
    }
   ],
   "source": [
    "avg_reviews = '''\n",
    "            SELECT ROUND(avg(count)) \n",
    "            FROM\n",
    "            (SELECT\n",
    "                COUNT(text)\n",
    "            FROM \n",
    "                reviews\n",
    "            FULL OUTER JOIN (SELECT username,\n",
    "                            COUNT(rating_id) as cnt\n",
    "            FROM \n",
    "                ratings\n",
    "            GROUP BY\n",
    "                    username) AS cnt_rating\n",
    "            ON cnt_rating.username = reviews.username\n",
    "            where cnt > 50\n",
    "            GROUP BY reviews.username) as count;                                  \n",
    "        '''\n",
    "select(avg_reviews)"
   ]
  },
  {
   "cell_type": "markdown",
   "metadata": {},
   "source": [
    "Среднее количество обзоров от пользователей, которые поставили больше 50 оценок равно 24."
   ]
  },
  {
   "cell_type": "markdown",
   "metadata": {},
   "source": [
    "# Общий вывод"
   ]
  },
  {
   "cell_type": "markdown",
   "metadata": {},
   "source": [
    "* Начиная с 1 января 2000 года было выпущено 819 книг;\n",
    "* Больше всего обзоров у книги Twilight (Twilight #1) со средним рейтингом 3.66;\n",
    "* Издательство Penguin Books выпустило наибольшее число книг (42) толще 50 страниц;\n",
    "* Среднее количество обзоров от пользователей, которые поставили больше 50 оценок равно 24."
   ]
  }
 ],
 "metadata": {
  "ExecuteTimeLog": [
   {
    "duration": 5748,
    "start_time": "2022-07-14T20:36:55.723Z"
   },
   {
    "duration": 4,
    "start_time": "2022-07-14T20:38:00.729Z"
   },
   {
    "duration": 3,
    "start_time": "2022-07-14T20:42:30.290Z"
   },
   {
    "duration": 568,
    "start_time": "2022-07-14T20:42:59.633Z"
   },
   {
    "duration": 389,
    "start_time": "2022-07-14T20:44:32.540Z"
   },
   {
    "duration": 79,
    "start_time": "2022-07-14T20:45:06.980Z"
   },
   {
    "duration": 95,
    "start_time": "2022-07-14T21:28:26.562Z"
   },
   {
    "duration": 83,
    "start_time": "2022-07-14T21:30:20.687Z"
   },
   {
    "duration": 68,
    "start_time": "2022-07-14T21:31:27.718Z"
   },
   {
    "duration": 168,
    "start_time": "2022-07-14T21:32:42.108Z"
   },
   {
    "duration": 6306,
    "start_time": "2022-07-14T21:34:42.278Z"
   },
   {
    "duration": 388,
    "start_time": "2022-07-14T21:34:48.586Z"
   },
   {
    "duration": 0,
    "start_time": "2022-07-14T21:34:48.976Z"
   },
   {
    "duration": 0,
    "start_time": "2022-07-14T21:34:48.977Z"
   },
   {
    "duration": 0,
    "start_time": "2022-07-14T21:34:48.978Z"
   },
   {
    "duration": 0,
    "start_time": "2022-07-14T21:34:48.980Z"
   },
   {
    "duration": 0,
    "start_time": "2022-07-14T21:34:48.981Z"
   },
   {
    "duration": 7554,
    "start_time": "2022-07-14T21:35:01.061Z"
   },
   {
    "duration": 247,
    "start_time": "2022-07-14T21:35:08.617Z"
   },
   {
    "duration": 64,
    "start_time": "2022-07-14T21:35:08.865Z"
   },
   {
    "duration": 61,
    "start_time": "2022-07-14T21:35:08.931Z"
   },
   {
    "duration": 98,
    "start_time": "2022-07-14T21:35:08.993Z"
   },
   {
    "duration": 83,
    "start_time": "2022-07-14T21:35:09.092Z"
   },
   {
    "duration": 66,
    "start_time": "2022-07-14T21:35:09.177Z"
   },
   {
    "duration": 3,
    "start_time": "2022-07-14T21:38:37.923Z"
   },
   {
    "duration": 78,
    "start_time": "2022-07-14T21:38:43.053Z"
   },
   {
    "duration": 8,
    "start_time": "2022-07-14T21:44:43.389Z"
   },
   {
    "duration": 3,
    "start_time": "2022-07-14T21:44:47.699Z"
   },
   {
    "duration": 89,
    "start_time": "2022-07-14T21:44:48.150Z"
   },
   {
    "duration": 73,
    "start_time": "2022-07-14T21:44:48.767Z"
   },
   {
    "duration": 66,
    "start_time": "2022-07-14T21:44:49.337Z"
   },
   {
    "duration": 116,
    "start_time": "2022-07-14T21:44:49.718Z"
   },
   {
    "duration": 89,
    "start_time": "2022-07-14T21:44:50.252Z"
   },
   {
    "duration": 182,
    "start_time": "2022-07-14T21:44:51.277Z"
   },
   {
    "duration": 3,
    "start_time": "2022-07-14T21:45:22.239Z"
   },
   {
    "duration": 163,
    "start_time": "2022-07-14T21:45:22.641Z"
   },
   {
    "duration": 73,
    "start_time": "2022-07-14T21:45:32.084Z"
   },
   {
    "duration": 160,
    "start_time": "2022-07-14T21:46:05.514Z"
   },
   {
    "duration": 145,
    "start_time": "2022-07-14T21:46:29.904Z"
   },
   {
    "duration": 136,
    "start_time": "2022-07-14T21:46:54.977Z"
   },
   {
    "duration": 232,
    "start_time": "2022-07-14T21:47:16.277Z"
   },
   {
    "duration": 185,
    "start_time": "2022-07-14T21:47:37.169Z"
   },
   {
    "duration": 6360,
    "start_time": "2022-07-14T21:50:48.768Z"
   },
   {
    "duration": 4,
    "start_time": "2022-07-14T21:50:55.130Z"
   },
   {
    "duration": 374,
    "start_time": "2022-07-14T21:50:55.139Z"
   },
   {
    "duration": 132,
    "start_time": "2022-07-14T21:50:55.514Z"
   },
   {
    "duration": 133,
    "start_time": "2022-07-14T21:50:55.648Z"
   },
   {
    "duration": 166,
    "start_time": "2022-07-14T21:50:55.783Z"
   },
   {
    "duration": 5,
    "start_time": "2022-07-14T21:50:55.951Z"
   },
   {
    "duration": 0,
    "start_time": "2022-07-14T21:50:55.958Z"
   },
   {
    "duration": 0,
    "start_time": "2022-07-14T21:50:55.960Z"
   },
   {
    "duration": 76,
    "start_time": "2022-07-14T21:51:55.877Z"
   },
   {
    "duration": 76,
    "start_time": "2022-07-14T21:52:09.887Z"
   },
   {
    "duration": 77,
    "start_time": "2022-07-14T21:52:16.924Z"
   },
   {
    "duration": 71,
    "start_time": "2022-07-14T21:52:22.579Z"
   },
   {
    "duration": 69,
    "start_time": "2022-07-14T21:52:28.531Z"
   },
   {
    "duration": 6014,
    "start_time": "2022-07-14T21:52:32.908Z"
   },
   {
    "duration": 5,
    "start_time": "2022-07-14T21:52:38.924Z"
   },
   {
    "duration": 250,
    "start_time": "2022-07-14T21:52:38.931Z"
   },
   {
    "duration": 70,
    "start_time": "2022-07-14T21:52:39.183Z"
   },
   {
    "duration": 72,
    "start_time": "2022-07-14T21:52:39.255Z"
   },
   {
    "duration": 72,
    "start_time": "2022-07-14T21:52:39.328Z"
   },
   {
    "duration": 71,
    "start_time": "2022-07-14T21:52:39.402Z"
   },
   {
    "duration": 73,
    "start_time": "2022-07-14T21:52:39.475Z"
   },
   {
    "duration": 47,
    "start_time": "2022-07-14T21:52:39.550Z"
   },
   {
    "duration": 91,
    "start_time": "2022-07-14T21:55:34.845Z"
   },
   {
    "duration": 77,
    "start_time": "2022-07-14T22:00:07.208Z"
   },
   {
    "duration": 72,
    "start_time": "2022-07-14T22:03:38.644Z"
   },
   {
    "duration": 80,
    "start_time": "2022-07-14T22:06:30.145Z"
   },
   {
    "duration": 75,
    "start_time": "2022-07-14T22:06:36.765Z"
   },
   {
    "duration": 71,
    "start_time": "2022-07-14T22:06:41.213Z"
   },
   {
    "duration": 88,
    "start_time": "2022-07-14T22:06:45.211Z"
   },
   {
    "duration": 198,
    "start_time": "2022-07-14T22:10:09.021Z"
   },
   {
    "duration": 74,
    "start_time": "2022-07-14T22:11:38.190Z"
   },
   {
    "duration": 80,
    "start_time": "2022-07-14T22:12:14.382Z"
   },
   {
    "duration": 70,
    "start_time": "2022-07-14T22:15:34.726Z"
   },
   {
    "duration": 5890,
    "start_time": "2022-07-14T22:17:36.433Z"
   },
   {
    "duration": 3,
    "start_time": "2022-07-14T22:17:42.325Z"
   },
   {
    "duration": 230,
    "start_time": "2022-07-14T22:17:42.329Z"
   },
   {
    "duration": 70,
    "start_time": "2022-07-14T22:17:42.561Z"
   },
   {
    "duration": 66,
    "start_time": "2022-07-14T22:17:42.633Z"
   },
   {
    "duration": 66,
    "start_time": "2022-07-14T22:17:42.701Z"
   },
   {
    "duration": 66,
    "start_time": "2022-07-14T22:17:42.768Z"
   },
   {
    "duration": 65,
    "start_time": "2022-07-14T22:17:42.835Z"
   },
   {
    "duration": 84,
    "start_time": "2022-07-14T22:17:42.902Z"
   },
   {
    "duration": 69,
    "start_time": "2022-07-14T22:17:42.989Z"
   },
   {
    "duration": 67,
    "start_time": "2022-07-14T22:17:43.060Z"
   },
   {
    "duration": 12821,
    "start_time": "2022-07-14T22:31:49.950Z"
   },
   {
    "duration": 3,
    "start_time": "2022-07-14T22:32:02.773Z"
   },
   {
    "duration": 76,
    "start_time": "2022-07-14T22:32:02.778Z"
   },
   {
    "duration": 12,
    "start_time": "2022-07-14T22:32:02.856Z"
   },
   {
    "duration": 11,
    "start_time": "2022-07-14T22:32:02.870Z"
   },
   {
    "duration": 15,
    "start_time": "2022-07-14T22:32:02.882Z"
   },
   {
    "duration": 13,
    "start_time": "2022-07-14T22:32:02.899Z"
   },
   {
    "duration": 18,
    "start_time": "2022-07-14T22:32:02.914Z"
   },
   {
    "duration": 31,
    "start_time": "2022-07-14T22:32:02.933Z"
   },
   {
    "duration": 14,
    "start_time": "2022-07-14T22:32:02.967Z"
   },
   {
    "duration": 15,
    "start_time": "2022-07-14T22:32:02.983Z"
   },
   {
    "duration": 12,
    "start_time": "2022-07-14T22:32:03.000Z"
   }
  ],
  "kernelspec": {
   "display_name": "Python 3 (ipykernel)",
   "language": "python",
   "name": "python3"
  },
  "language_info": {
   "codemirror_mode": {
    "name": "ipython",
    "version": 3
   },
   "file_extension": ".py",
   "mimetype": "text/x-python",
   "name": "python",
   "nbconvert_exporter": "python",
   "pygments_lexer": "ipython3",
   "version": "3.9.7"
  },
  "toc": {
   "base_numbering": 1,
   "nav_menu": {},
   "number_sections": true,
   "sideBar": true,
   "skip_h1_title": true,
   "title_cell": "Table of Contents",
   "title_sidebar": "Contents",
   "toc_cell": false,
   "toc_position": {},
   "toc_section_display": true,
   "toc_window_display": false
  }
 },
 "nbformat": 4,
 "nbformat_minor": 2
}
