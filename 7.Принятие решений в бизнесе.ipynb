{
 "cells": [
  {
   "cell_type": "markdown",
   "metadata": {},
   "source": [
    "# Описание проекта"
   ]
  },
  {
   "cell_type": "markdown",
   "metadata": {},
   "source": [
    "Вы — аналитик крупного интернет-магазина. Вместе с отделом маркетинга вы подготовили список гипотез для увеличения выручки.\n",
    "Приоритизируйте гипотезы, запустите A/B-тест и проанализируйте результаты."
   ]
  },
  {
   "cell_type": "markdown",
   "metadata": {},
   "source": [
    "##  Изучение данных из файлов"
   ]
  },
  {
   "cell_type": "code",
   "execution_count": 1,
   "metadata": {},
   "outputs": [],
   "source": [
    "import pandas as pd # импорт библиотеки pandas\n",
    "import matplotlib.pyplot as plt # импорт библиотеки matplotlib.pyplot для работы с графиками\n",
    "import numpy as np # импорт библиотеки numpy\n",
    "from scipy import stats as st # импорт библиотеки scipy\n",
    "import datetime as dt\n",
    "\n",
    "import warnings\n",
    "warnings.filterwarnings(action='ignore') # игнорируем предупреждения \n",
    "\n",
    "from datetime import datetime, timedelta # импорт библиотеки для работы с датой\n",
    "\n",
    "import seaborn as sns # импорт библиотеки seaborn\n",
    "%matplotlib inline\n",
    "\n",
    "plt.style.use('seaborn-pastel')# стиль графиков\n",
    "%config InlineBackend.figure_format = 'retina'# графики сделали лучше"
   ]
  },
  {
   "cell_type": "code",
   "execution_count": 2,
   "metadata": {},
   "outputs": [],
   "source": [
    "hypothesis = pd.read_csv('/datasets/hypothesis.csv') # чтение файла с данными и сохранение в hypothesis\n",
    "orders = pd.read_csv('/datasets/orders.csv') # чтение файла с данными и сохранение в orders\n",
    "visitors = pd.read_csv('/datasets/visitors.csv') # чтение файла с данными и сохранение в visitors"
   ]
  },
  {
   "cell_type": "code",
   "execution_count": 3,
   "metadata": {},
   "outputs": [],
   "source": [
    "def file(title): # функция для изучения таблиц\n",
    "    display(title.info()) # получение общей информации о данных в таблицах\n",
    "    display(title.head()) # получение первых 5 строк таблицы\n",
    "    display(title.describe(include = 'all')) # описание столбцов \n",
    "    return  "
   ]
  },
  {
   "cell_type": "code",
   "execution_count": 4,
   "metadata": {},
   "outputs": [
    {
     "name": "stdout",
     "output_type": "stream",
     "text": [
      "<class 'pandas.core.frame.DataFrame'>\n",
      "RangeIndex: 9 entries, 0 to 8\n",
      "Data columns (total 5 columns):\n",
      " #   Column      Non-Null Count  Dtype \n",
      "---  ------      --------------  ----- \n",
      " 0   Hypothesis  9 non-null      object\n",
      " 1   Reach       9 non-null      int64 \n",
      " 2   Impact      9 non-null      int64 \n",
      " 3   Confidence  9 non-null      int64 \n",
      " 4   Efforts     9 non-null      int64 \n",
      "dtypes: int64(4), object(1)\n",
      "memory usage: 488.0+ bytes\n"
     ]
    },
    {
     "data": {
      "text/plain": [
       "None"
      ]
     },
     "metadata": {},
     "output_type": "display_data"
    },
    {
     "data": {
      "text/html": [
       "<div>\n",
       "<style scoped>\n",
       "    .dataframe tbody tr th:only-of-type {\n",
       "        vertical-align: middle;\n",
       "    }\n",
       "\n",
       "    .dataframe tbody tr th {\n",
       "        vertical-align: top;\n",
       "    }\n",
       "\n",
       "    .dataframe thead th {\n",
       "        text-align: right;\n",
       "    }\n",
       "</style>\n",
       "<table border=\"1\" class=\"dataframe\">\n",
       "  <thead>\n",
       "    <tr style=\"text-align: right;\">\n",
       "      <th></th>\n",
       "      <th>Hypothesis</th>\n",
       "      <th>Reach</th>\n",
       "      <th>Impact</th>\n",
       "      <th>Confidence</th>\n",
       "      <th>Efforts</th>\n",
       "    </tr>\n",
       "  </thead>\n",
       "  <tbody>\n",
       "    <tr>\n",
       "      <th>0</th>\n",
       "      <td>Добавить два новых канала привлечения трафика,...</td>\n",
       "      <td>3</td>\n",
       "      <td>10</td>\n",
       "      <td>8</td>\n",
       "      <td>6</td>\n",
       "    </tr>\n",
       "    <tr>\n",
       "      <th>1</th>\n",
       "      <td>Запустить собственную службу доставки, что сок...</td>\n",
       "      <td>2</td>\n",
       "      <td>5</td>\n",
       "      <td>4</td>\n",
       "      <td>10</td>\n",
       "    </tr>\n",
       "    <tr>\n",
       "      <th>2</th>\n",
       "      <td>Добавить блоки рекомендаций товаров на сайт ин...</td>\n",
       "      <td>8</td>\n",
       "      <td>3</td>\n",
       "      <td>7</td>\n",
       "      <td>3</td>\n",
       "    </tr>\n",
       "    <tr>\n",
       "      <th>3</th>\n",
       "      <td>Изменить структура категорий, что увеличит кон...</td>\n",
       "      <td>8</td>\n",
       "      <td>3</td>\n",
       "      <td>3</td>\n",
       "      <td>8</td>\n",
       "    </tr>\n",
       "    <tr>\n",
       "      <th>4</th>\n",
       "      <td>Изменить цвет фона главной страницы, чтобы уве...</td>\n",
       "      <td>3</td>\n",
       "      <td>1</td>\n",
       "      <td>1</td>\n",
       "      <td>1</td>\n",
       "    </tr>\n",
       "  </tbody>\n",
       "</table>\n",
       "</div>"
      ],
      "text/plain": [
       "                                          Hypothesis  Reach  Impact  \\\n",
       "0  Добавить два новых канала привлечения трафика,...      3      10   \n",
       "1  Запустить собственную службу доставки, что сок...      2       5   \n",
       "2  Добавить блоки рекомендаций товаров на сайт ин...      8       3   \n",
       "3  Изменить структура категорий, что увеличит кон...      8       3   \n",
       "4  Изменить цвет фона главной страницы, чтобы уве...      3       1   \n",
       "\n",
       "   Confidence  Efforts  \n",
       "0           8        6  \n",
       "1           4       10  \n",
       "2           7        3  \n",
       "3           3        8  \n",
       "4           1        1  "
      ]
     },
     "metadata": {},
     "output_type": "display_data"
    },
    {
     "data": {
      "text/html": [
       "<div>\n",
       "<style scoped>\n",
       "    .dataframe tbody tr th:only-of-type {\n",
       "        vertical-align: middle;\n",
       "    }\n",
       "\n",
       "    .dataframe tbody tr th {\n",
       "        vertical-align: top;\n",
       "    }\n",
       "\n",
       "    .dataframe thead th {\n",
       "        text-align: right;\n",
       "    }\n",
       "</style>\n",
       "<table border=\"1\" class=\"dataframe\">\n",
       "  <thead>\n",
       "    <tr style=\"text-align: right;\">\n",
       "      <th></th>\n",
       "      <th>Hypothesis</th>\n",
       "      <th>Reach</th>\n",
       "      <th>Impact</th>\n",
       "      <th>Confidence</th>\n",
       "      <th>Efforts</th>\n",
       "    </tr>\n",
       "  </thead>\n",
       "  <tbody>\n",
       "    <tr>\n",
       "      <th>count</th>\n",
       "      <td>9</td>\n",
       "      <td>9.000000</td>\n",
       "      <td>9.000000</td>\n",
       "      <td>9.000000</td>\n",
       "      <td>9.000000</td>\n",
       "    </tr>\n",
       "    <tr>\n",
       "      <th>unique</th>\n",
       "      <td>9</td>\n",
       "      <td>NaN</td>\n",
       "      <td>NaN</td>\n",
       "      <td>NaN</td>\n",
       "      <td>NaN</td>\n",
       "    </tr>\n",
       "    <tr>\n",
       "      <th>top</th>\n",
       "      <td>Запустить собственную службу доставки, что сок...</td>\n",
       "      <td>NaN</td>\n",
       "      <td>NaN</td>\n",
       "      <td>NaN</td>\n",
       "      <td>NaN</td>\n",
       "    </tr>\n",
       "    <tr>\n",
       "      <th>freq</th>\n",
       "      <td>1</td>\n",
       "      <td>NaN</td>\n",
       "      <td>NaN</td>\n",
       "      <td>NaN</td>\n",
       "      <td>NaN</td>\n",
       "    </tr>\n",
       "    <tr>\n",
       "      <th>mean</th>\n",
       "      <td>NaN</td>\n",
       "      <td>4.777778</td>\n",
       "      <td>4.777778</td>\n",
       "      <td>5.555556</td>\n",
       "      <td>4.888889</td>\n",
       "    </tr>\n",
       "    <tr>\n",
       "      <th>std</th>\n",
       "      <td>NaN</td>\n",
       "      <td>3.153481</td>\n",
       "      <td>3.192874</td>\n",
       "      <td>3.045944</td>\n",
       "      <td>2.803767</td>\n",
       "    </tr>\n",
       "    <tr>\n",
       "      <th>min</th>\n",
       "      <td>NaN</td>\n",
       "      <td>1.000000</td>\n",
       "      <td>1.000000</td>\n",
       "      <td>1.000000</td>\n",
       "      <td>1.000000</td>\n",
       "    </tr>\n",
       "    <tr>\n",
       "      <th>25%</th>\n",
       "      <td>NaN</td>\n",
       "      <td>3.000000</td>\n",
       "      <td>3.000000</td>\n",
       "      <td>3.000000</td>\n",
       "      <td>3.000000</td>\n",
       "    </tr>\n",
       "    <tr>\n",
       "      <th>50%</th>\n",
       "      <td>NaN</td>\n",
       "      <td>3.000000</td>\n",
       "      <td>3.000000</td>\n",
       "      <td>7.000000</td>\n",
       "      <td>5.000000</td>\n",
       "    </tr>\n",
       "    <tr>\n",
       "      <th>75%</th>\n",
       "      <td>NaN</td>\n",
       "      <td>8.000000</td>\n",
       "      <td>7.000000</td>\n",
       "      <td>8.000000</td>\n",
       "      <td>6.000000</td>\n",
       "    </tr>\n",
       "    <tr>\n",
       "      <th>max</th>\n",
       "      <td>NaN</td>\n",
       "      <td>10.000000</td>\n",
       "      <td>10.000000</td>\n",
       "      <td>9.000000</td>\n",
       "      <td>10.000000</td>\n",
       "    </tr>\n",
       "  </tbody>\n",
       "</table>\n",
       "</div>"
      ],
      "text/plain": [
       "                                               Hypothesis      Reach  \\\n",
       "count                                                   9   9.000000   \n",
       "unique                                                  9        NaN   \n",
       "top     Запустить собственную службу доставки, что сок...        NaN   \n",
       "freq                                                    1        NaN   \n",
       "mean                                                  NaN   4.777778   \n",
       "std                                                   NaN   3.153481   \n",
       "min                                                   NaN   1.000000   \n",
       "25%                                                   NaN   3.000000   \n",
       "50%                                                   NaN   3.000000   \n",
       "75%                                                   NaN   8.000000   \n",
       "max                                                   NaN  10.000000   \n",
       "\n",
       "           Impact  Confidence    Efforts  \n",
       "count    9.000000    9.000000   9.000000  \n",
       "unique        NaN         NaN        NaN  \n",
       "top           NaN         NaN        NaN  \n",
       "freq          NaN         NaN        NaN  \n",
       "mean     4.777778    5.555556   4.888889  \n",
       "std      3.192874    3.045944   2.803767  \n",
       "min      1.000000    1.000000   1.000000  \n",
       "25%      3.000000    3.000000   3.000000  \n",
       "50%      3.000000    7.000000   5.000000  \n",
       "75%      7.000000    8.000000   6.000000  \n",
       "max     10.000000    9.000000  10.000000  "
      ]
     },
     "metadata": {},
     "output_type": "display_data"
    }
   ],
   "source": [
    "file(hypothesis) # изучение таблицы hypothesis"
   ]
  },
  {
   "cell_type": "code",
   "execution_count": 5,
   "metadata": {},
   "outputs": [
    {
     "name": "stdout",
     "output_type": "stream",
     "text": [
      "<class 'pandas.core.frame.DataFrame'>\n",
      "RangeIndex: 1197 entries, 0 to 1196\n",
      "Data columns (total 5 columns):\n",
      " #   Column         Non-Null Count  Dtype \n",
      "---  ------         --------------  ----- \n",
      " 0   transactionId  1197 non-null   int64 \n",
      " 1   visitorId      1197 non-null   int64 \n",
      " 2   date           1197 non-null   object\n",
      " 3   revenue        1197 non-null   int64 \n",
      " 4   group          1197 non-null   object\n",
      "dtypes: int64(3), object(2)\n",
      "memory usage: 46.9+ KB\n"
     ]
    },
    {
     "data": {
      "text/plain": [
       "None"
      ]
     },
     "metadata": {},
     "output_type": "display_data"
    },
    {
     "data": {
      "text/html": [
       "<div>\n",
       "<style scoped>\n",
       "    .dataframe tbody tr th:only-of-type {\n",
       "        vertical-align: middle;\n",
       "    }\n",
       "\n",
       "    .dataframe tbody tr th {\n",
       "        vertical-align: top;\n",
       "    }\n",
       "\n",
       "    .dataframe thead th {\n",
       "        text-align: right;\n",
       "    }\n",
       "</style>\n",
       "<table border=\"1\" class=\"dataframe\">\n",
       "  <thead>\n",
       "    <tr style=\"text-align: right;\">\n",
       "      <th></th>\n",
       "      <th>transactionId</th>\n",
       "      <th>visitorId</th>\n",
       "      <th>date</th>\n",
       "      <th>revenue</th>\n",
       "      <th>group</th>\n",
       "    </tr>\n",
       "  </thead>\n",
       "  <tbody>\n",
       "    <tr>\n",
       "      <th>0</th>\n",
       "      <td>3667963787</td>\n",
       "      <td>3312258926</td>\n",
       "      <td>2019-08-15</td>\n",
       "      <td>1650</td>\n",
       "      <td>B</td>\n",
       "    </tr>\n",
       "    <tr>\n",
       "      <th>1</th>\n",
       "      <td>2804400009</td>\n",
       "      <td>3642806036</td>\n",
       "      <td>2019-08-15</td>\n",
       "      <td>730</td>\n",
       "      <td>B</td>\n",
       "    </tr>\n",
       "    <tr>\n",
       "      <th>2</th>\n",
       "      <td>2961555356</td>\n",
       "      <td>4069496402</td>\n",
       "      <td>2019-08-15</td>\n",
       "      <td>400</td>\n",
       "      <td>A</td>\n",
       "    </tr>\n",
       "    <tr>\n",
       "      <th>3</th>\n",
       "      <td>3797467345</td>\n",
       "      <td>1196621759</td>\n",
       "      <td>2019-08-15</td>\n",
       "      <td>9759</td>\n",
       "      <td>B</td>\n",
       "    </tr>\n",
       "    <tr>\n",
       "      <th>4</th>\n",
       "      <td>2282983706</td>\n",
       "      <td>2322279887</td>\n",
       "      <td>2019-08-15</td>\n",
       "      <td>2308</td>\n",
       "      <td>B</td>\n",
       "    </tr>\n",
       "  </tbody>\n",
       "</table>\n",
       "</div>"
      ],
      "text/plain": [
       "   transactionId   visitorId        date  revenue group\n",
       "0     3667963787  3312258926  2019-08-15     1650     B\n",
       "1     2804400009  3642806036  2019-08-15      730     B\n",
       "2     2961555356  4069496402  2019-08-15      400     A\n",
       "3     3797467345  1196621759  2019-08-15     9759     B\n",
       "4     2282983706  2322279887  2019-08-15     2308     B"
      ]
     },
     "metadata": {},
     "output_type": "display_data"
    },
    {
     "data": {
      "text/html": [
       "<div>\n",
       "<style scoped>\n",
       "    .dataframe tbody tr th:only-of-type {\n",
       "        vertical-align: middle;\n",
       "    }\n",
       "\n",
       "    .dataframe tbody tr th {\n",
       "        vertical-align: top;\n",
       "    }\n",
       "\n",
       "    .dataframe thead th {\n",
       "        text-align: right;\n",
       "    }\n",
       "</style>\n",
       "<table border=\"1\" class=\"dataframe\">\n",
       "  <thead>\n",
       "    <tr style=\"text-align: right;\">\n",
       "      <th></th>\n",
       "      <th>transactionId</th>\n",
       "      <th>visitorId</th>\n",
       "      <th>date</th>\n",
       "      <th>revenue</th>\n",
       "      <th>group</th>\n",
       "    </tr>\n",
       "  </thead>\n",
       "  <tbody>\n",
       "    <tr>\n",
       "      <th>count</th>\n",
       "      <td>1.197000e+03</td>\n",
       "      <td>1.197000e+03</td>\n",
       "      <td>1197</td>\n",
       "      <td>1.197000e+03</td>\n",
       "      <td>1197</td>\n",
       "    </tr>\n",
       "    <tr>\n",
       "      <th>unique</th>\n",
       "      <td>NaN</td>\n",
       "      <td>NaN</td>\n",
       "      <td>31</td>\n",
       "      <td>NaN</td>\n",
       "      <td>2</td>\n",
       "    </tr>\n",
       "    <tr>\n",
       "      <th>top</th>\n",
       "      <td>NaN</td>\n",
       "      <td>NaN</td>\n",
       "      <td>2019-08-05</td>\n",
       "      <td>NaN</td>\n",
       "      <td>B</td>\n",
       "    </tr>\n",
       "    <tr>\n",
       "      <th>freq</th>\n",
       "      <td>NaN</td>\n",
       "      <td>NaN</td>\n",
       "      <td>48</td>\n",
       "      <td>NaN</td>\n",
       "      <td>640</td>\n",
       "    </tr>\n",
       "    <tr>\n",
       "      <th>mean</th>\n",
       "      <td>2.155621e+09</td>\n",
       "      <td>2.165960e+09</td>\n",
       "      <td>NaN</td>\n",
       "      <td>8.348006e+03</td>\n",
       "      <td>NaN</td>\n",
       "    </tr>\n",
       "    <tr>\n",
       "      <th>std</th>\n",
       "      <td>1.229085e+09</td>\n",
       "      <td>1.236014e+09</td>\n",
       "      <td>NaN</td>\n",
       "      <td>3.919113e+04</td>\n",
       "      <td>NaN</td>\n",
       "    </tr>\n",
       "    <tr>\n",
       "      <th>min</th>\n",
       "      <td>1.062393e+06</td>\n",
       "      <td>5.114589e+06</td>\n",
       "      <td>NaN</td>\n",
       "      <td>5.000000e+01</td>\n",
       "      <td>NaN</td>\n",
       "    </tr>\n",
       "    <tr>\n",
       "      <th>25%</th>\n",
       "      <td>1.166776e+09</td>\n",
       "      <td>1.111826e+09</td>\n",
       "      <td>NaN</td>\n",
       "      <td>1.220000e+03</td>\n",
       "      <td>NaN</td>\n",
       "    </tr>\n",
       "    <tr>\n",
       "      <th>50%</th>\n",
       "      <td>2.145194e+09</td>\n",
       "      <td>2.217985e+09</td>\n",
       "      <td>NaN</td>\n",
       "      <td>2.978000e+03</td>\n",
       "      <td>NaN</td>\n",
       "    </tr>\n",
       "    <tr>\n",
       "      <th>75%</th>\n",
       "      <td>3.237740e+09</td>\n",
       "      <td>3.177606e+09</td>\n",
       "      <td>NaN</td>\n",
       "      <td>8.290000e+03</td>\n",
       "      <td>NaN</td>\n",
       "    </tr>\n",
       "    <tr>\n",
       "      <th>max</th>\n",
       "      <td>4.293856e+09</td>\n",
       "      <td>4.283872e+09</td>\n",
       "      <td>NaN</td>\n",
       "      <td>1.294500e+06</td>\n",
       "      <td>NaN</td>\n",
       "    </tr>\n",
       "  </tbody>\n",
       "</table>\n",
       "</div>"
      ],
      "text/plain": [
       "        transactionId     visitorId        date       revenue group\n",
       "count    1.197000e+03  1.197000e+03        1197  1.197000e+03  1197\n",
       "unique            NaN           NaN          31           NaN     2\n",
       "top               NaN           NaN  2019-08-05           NaN     B\n",
       "freq              NaN           NaN          48           NaN   640\n",
       "mean     2.155621e+09  2.165960e+09         NaN  8.348006e+03   NaN\n",
       "std      1.229085e+09  1.236014e+09         NaN  3.919113e+04   NaN\n",
       "min      1.062393e+06  5.114589e+06         NaN  5.000000e+01   NaN\n",
       "25%      1.166776e+09  1.111826e+09         NaN  1.220000e+03   NaN\n",
       "50%      2.145194e+09  2.217985e+09         NaN  2.978000e+03   NaN\n",
       "75%      3.237740e+09  3.177606e+09         NaN  8.290000e+03   NaN\n",
       "max      4.293856e+09  4.283872e+09         NaN  1.294500e+06   NaN"
      ]
     },
     "metadata": {},
     "output_type": "display_data"
    }
   ],
   "source": [
    "file(orders) # изучение таблицы orders"
   ]
  },
  {
   "cell_type": "code",
   "execution_count": 6,
   "metadata": {},
   "outputs": [
    {
     "name": "stdout",
     "output_type": "stream",
     "text": [
      "<class 'pandas.core.frame.DataFrame'>\n",
      "RangeIndex: 62 entries, 0 to 61\n",
      "Data columns (total 3 columns):\n",
      " #   Column    Non-Null Count  Dtype \n",
      "---  ------    --------------  ----- \n",
      " 0   date      62 non-null     object\n",
      " 1   group     62 non-null     object\n",
      " 2   visitors  62 non-null     int64 \n",
      "dtypes: int64(1), object(2)\n",
      "memory usage: 1.6+ KB\n"
     ]
    },
    {
     "data": {
      "text/plain": [
       "None"
      ]
     },
     "metadata": {},
     "output_type": "display_data"
    },
    {
     "data": {
      "text/html": [
       "<div>\n",
       "<style scoped>\n",
       "    .dataframe tbody tr th:only-of-type {\n",
       "        vertical-align: middle;\n",
       "    }\n",
       "\n",
       "    .dataframe tbody tr th {\n",
       "        vertical-align: top;\n",
       "    }\n",
       "\n",
       "    .dataframe thead th {\n",
       "        text-align: right;\n",
       "    }\n",
       "</style>\n",
       "<table border=\"1\" class=\"dataframe\">\n",
       "  <thead>\n",
       "    <tr style=\"text-align: right;\">\n",
       "      <th></th>\n",
       "      <th>date</th>\n",
       "      <th>group</th>\n",
       "      <th>visitors</th>\n",
       "    </tr>\n",
       "  </thead>\n",
       "  <tbody>\n",
       "    <tr>\n",
       "      <th>0</th>\n",
       "      <td>2019-08-01</td>\n",
       "      <td>A</td>\n",
       "      <td>719</td>\n",
       "    </tr>\n",
       "    <tr>\n",
       "      <th>1</th>\n",
       "      <td>2019-08-02</td>\n",
       "      <td>A</td>\n",
       "      <td>619</td>\n",
       "    </tr>\n",
       "    <tr>\n",
       "      <th>2</th>\n",
       "      <td>2019-08-03</td>\n",
       "      <td>A</td>\n",
       "      <td>507</td>\n",
       "    </tr>\n",
       "    <tr>\n",
       "      <th>3</th>\n",
       "      <td>2019-08-04</td>\n",
       "      <td>A</td>\n",
       "      <td>717</td>\n",
       "    </tr>\n",
       "    <tr>\n",
       "      <th>4</th>\n",
       "      <td>2019-08-05</td>\n",
       "      <td>A</td>\n",
       "      <td>756</td>\n",
       "    </tr>\n",
       "  </tbody>\n",
       "</table>\n",
       "</div>"
      ],
      "text/plain": [
       "         date group  visitors\n",
       "0  2019-08-01     A       719\n",
       "1  2019-08-02     A       619\n",
       "2  2019-08-03     A       507\n",
       "3  2019-08-04     A       717\n",
       "4  2019-08-05     A       756"
      ]
     },
     "metadata": {},
     "output_type": "display_data"
    },
    {
     "data": {
      "text/html": [
       "<div>\n",
       "<style scoped>\n",
       "    .dataframe tbody tr th:only-of-type {\n",
       "        vertical-align: middle;\n",
       "    }\n",
       "\n",
       "    .dataframe tbody tr th {\n",
       "        vertical-align: top;\n",
       "    }\n",
       "\n",
       "    .dataframe thead th {\n",
       "        text-align: right;\n",
       "    }\n",
       "</style>\n",
       "<table border=\"1\" class=\"dataframe\">\n",
       "  <thead>\n",
       "    <tr style=\"text-align: right;\">\n",
       "      <th></th>\n",
       "      <th>date</th>\n",
       "      <th>group</th>\n",
       "      <th>visitors</th>\n",
       "    </tr>\n",
       "  </thead>\n",
       "  <tbody>\n",
       "    <tr>\n",
       "      <th>count</th>\n",
       "      <td>62</td>\n",
       "      <td>62</td>\n",
       "      <td>62.000000</td>\n",
       "    </tr>\n",
       "    <tr>\n",
       "      <th>unique</th>\n",
       "      <td>31</td>\n",
       "      <td>2</td>\n",
       "      <td>NaN</td>\n",
       "    </tr>\n",
       "    <tr>\n",
       "      <th>top</th>\n",
       "      <td>2019-08-20</td>\n",
       "      <td>A</td>\n",
       "      <td>NaN</td>\n",
       "    </tr>\n",
       "    <tr>\n",
       "      <th>freq</th>\n",
       "      <td>2</td>\n",
       "      <td>31</td>\n",
       "      <td>NaN</td>\n",
       "    </tr>\n",
       "    <tr>\n",
       "      <th>mean</th>\n",
       "      <td>NaN</td>\n",
       "      <td>NaN</td>\n",
       "      <td>607.290323</td>\n",
       "    </tr>\n",
       "    <tr>\n",
       "      <th>std</th>\n",
       "      <td>NaN</td>\n",
       "      <td>NaN</td>\n",
       "      <td>114.400560</td>\n",
       "    </tr>\n",
       "    <tr>\n",
       "      <th>min</th>\n",
       "      <td>NaN</td>\n",
       "      <td>NaN</td>\n",
       "      <td>361.000000</td>\n",
       "    </tr>\n",
       "    <tr>\n",
       "      <th>25%</th>\n",
       "      <td>NaN</td>\n",
       "      <td>NaN</td>\n",
       "      <td>534.000000</td>\n",
       "    </tr>\n",
       "    <tr>\n",
       "      <th>50%</th>\n",
       "      <td>NaN</td>\n",
       "      <td>NaN</td>\n",
       "      <td>624.500000</td>\n",
       "    </tr>\n",
       "    <tr>\n",
       "      <th>75%</th>\n",
       "      <td>NaN</td>\n",
       "      <td>NaN</td>\n",
       "      <td>710.500000</td>\n",
       "    </tr>\n",
       "    <tr>\n",
       "      <th>max</th>\n",
       "      <td>NaN</td>\n",
       "      <td>NaN</td>\n",
       "      <td>770.000000</td>\n",
       "    </tr>\n",
       "  </tbody>\n",
       "</table>\n",
       "</div>"
      ],
      "text/plain": [
       "              date group    visitors\n",
       "count           62    62   62.000000\n",
       "unique          31     2         NaN\n",
       "top     2019-08-20     A         NaN\n",
       "freq             2    31         NaN\n",
       "mean           NaN   NaN  607.290323\n",
       "std            NaN   NaN  114.400560\n",
       "min            NaN   NaN  361.000000\n",
       "25%            NaN   NaN  534.000000\n",
       "50%            NaN   NaN  624.500000\n",
       "75%            NaN   NaN  710.500000\n",
       "max            NaN   NaN  770.000000"
      ]
     },
     "metadata": {},
     "output_type": "display_data"
    }
   ],
   "source": [
    "file(visitors) # изучение таблицы visitors"
   ]
  },
  {
   "cell_type": "markdown",
   "metadata": {},
   "source": [
    "### Вывод"
   ]
  },
  {
   "cell_type": "markdown",
   "metadata": {},
   "source": [
    "Согласно документации к данным: \n",
    "\n",
    "Таблица `hypothesis` (9 гипотез по увеличению выручки интернет-магазина с указанными параметрами):\n",
    "\n",
    "* `Hypothesis` — краткое описание гипотезы;;\n",
    "* `Reach` — охват пользователей по 10-балльной шкале;\n",
    "* `Impact` — влияние на пользователей по 10-балльной шкале;\n",
    "* `Confidence` — уверенность в гипотезе по 10-балльной шкале;\n",
    "* `Efforts` — затраты ресурсов на проверку гипотезы по 10-балльной шкале.\n",
    "\n",
    "Таблица `orders`:\n",
    "\n",
    "* `transactionId` — идентификатор заказа;\n",
    "* `visitorId` — идентификатор пользователя, совершившего заказ;\n",
    "* `date` — дата, когда был совершён заказ;\n",
    "* `revenue` — выручка заказа;\n",
    "* `group` — группа A/B-теста, в которую попал заказ.\n",
    "\n",
    "\n",
    "Таблица `visitors`:\n",
    "\n",
    "* `date` — дата;\n",
    "* `group` — группа A/B-теста;\n",
    "* `visitors` — количество пользователей в указанную дату в указанной группе A/B-теста."
   ]
  },
  {
   "cell_type": "markdown",
   "metadata": {},
   "source": [
    "В таблице `hypothesis` столбцы необходимо привести к нижнему регистру. В таблицах `orders`, `visitors` столбец `date` изменить формат данных. Во всех таблицах отсутвует пропуски."
   ]
  },
  {
   "cell_type": "markdown",
   "metadata": {},
   "source": [
    "## Предобработка данных"
   ]
  },
  {
   "cell_type": "code",
   "execution_count": 7,
   "metadata": {},
   "outputs": [],
   "source": [
    "hypothesis.columns = [x.lower().replace(' ', '_') for x in hypothesis.columns] # название столбцов привели к нижнему регистру"
   ]
  },
  {
   "cell_type": "code",
   "execution_count": 8,
   "metadata": {},
   "outputs": [],
   "source": [
    "visitors['date'] = visitors['date'].map(\n",
    "    lambda x: dt.datetime.strptime(x, '%Y-%m-%d') # изменили  тип данным\n",
    ")"
   ]
  },
  {
   "cell_type": "code",
   "execution_count": 9,
   "metadata": {},
   "outputs": [],
   "source": [
    "orders['date'] = orders['date'].map(\n",
    "    lambda x: dt.datetime.strptime(x, '%Y-%m-%d') #изменили  тип данным\n",
    ")"
   ]
  },
  {
   "cell_type": "code",
   "execution_count": 10,
   "metadata": {},
   "outputs": [
    {
     "name": "stdout",
     "output_type": "stream",
     "text": [
      "Дубликаты таблицы visitors: 0\n",
      "Дубликаты таблицы orders: 0\n",
      "Дубликаты таблицы hypothesis: 0\n"
     ]
    }
   ],
   "source": [
    "visitors.name = 'visitors'\n",
    "orders.name = 'orders'\n",
    "hypothesis.name = 'hypothesis'\n",
    "title = [visitors, orders, hypothesis] # проверка на дубликаты\n",
    "for df in title:\n",
    "    print('Дубликаты таблицы {}:'.format(df.name), df.duplicated().sum())"
   ]
  },
  {
   "cell_type": "code",
   "execution_count": 11,
   "metadata": {},
   "outputs": [
    {
     "name": "stdout",
     "output_type": "stream",
     "text": [
      "Размер таблицы visitors: (62, 3)\n",
      "Размер таблицы orders: (1197, 5)\n",
      "Размер таблицы hypothesis: (9, 5)\n"
     ]
    }
   ],
   "source": [
    "title = [visitors, orders, hypothesis] # проверка на размерность\n",
    "for df in title:\n",
    "    print('Размер таблицы {}:'.format(df.name), df.shape)"
   ]
  },
  {
   "cell_type": "code",
   "execution_count": 12,
   "metadata": {},
   "outputs": [
    {
     "name": "stdout",
     "output_type": "stream",
     "text": [
      "Процент пропусков по столбцам visitors: date        0.0\n",
      "group       0.0\n",
      "visitors    0.0\n",
      "dtype: float64\n",
      "Процент пропусков по столбцам orders: transactionId    0.0\n",
      "visitorId        0.0\n",
      "date             0.0\n",
      "revenue          0.0\n",
      "group            0.0\n",
      "dtype: float64\n",
      "Процент пропусков по столбцам hypothesis: hypothesis    0.0\n",
      "reach         0.0\n",
      "impact        0.0\n",
      "confidence    0.0\n",
      "efforts       0.0\n",
      "dtype: float64\n"
     ]
    }
   ],
   "source": [
    "title = [visitors, orders, hypothesis] # проверка на пропуски\n",
    "for df in title:\n",
    "    print('Процент пропусков по столбцам {}:'.format(df.name), round((df.isna().mean()*100),2))"
   ]
  },
  {
   "cell_type": "markdown",
   "metadata": {},
   "source": [
    "### Вывод"
   ]
  },
  {
   "cell_type": "markdown",
   "metadata": {},
   "source": [
    "В таблицах отсуствуют дубликаты. Заменили в некоторых столбцах типы данных. Также привели название столбцов к единому формату. Пропуски в данных отсуствуют."
   ]
  },
  {
   "cell_type": "markdown",
   "metadata": {},
   "source": [
    "## Приоритизация гипотез"
   ]
  },
  {
   "cell_type": "markdown",
   "metadata": {},
   "source": [
    "### Применяем фреймворк ICE для приоритизации гипотез. Отсортируем их по убыванию приоритета."
   ]
  },
  {
   "cell_type": "markdown",
   "metadata": {},
   "source": [
    "`ICE` (влияние, уверенность, усилия)."
   ]
  },
  {
   "cell_type": "code",
   "execution_count": 13,
   "metadata": {},
   "outputs": [],
   "source": [
    "pd.set_option('display.max_colwidth', 130) # текст в ячейке отражался полностью вне зависимости от длины "
   ]
  },
  {
   "cell_type": "code",
   "execution_count": 14,
   "metadata": {},
   "outputs": [
    {
     "data": {
      "text/html": [
       "<div>\n",
       "<style scoped>\n",
       "    .dataframe tbody tr th:only-of-type {\n",
       "        vertical-align: middle;\n",
       "    }\n",
       "\n",
       "    .dataframe tbody tr th {\n",
       "        vertical-align: top;\n",
       "    }\n",
       "\n",
       "    .dataframe thead th {\n",
       "        text-align: right;\n",
       "    }\n",
       "</style>\n",
       "<table border=\"1\" class=\"dataframe\">\n",
       "  <thead>\n",
       "    <tr style=\"text-align: right;\">\n",
       "      <th></th>\n",
       "      <th>hypothesis</th>\n",
       "      <th>reach</th>\n",
       "      <th>impact</th>\n",
       "      <th>confidence</th>\n",
       "      <th>efforts</th>\n",
       "    </tr>\n",
       "  </thead>\n",
       "  <tbody>\n",
       "    <tr>\n",
       "      <th>0</th>\n",
       "      <td>Добавить два новых канала привлечения трафика, что позволит привлекать на 30% больше пользователей</td>\n",
       "      <td>3</td>\n",
       "      <td>10</td>\n",
       "      <td>8</td>\n",
       "      <td>6</td>\n",
       "    </tr>\n",
       "    <tr>\n",
       "      <th>1</th>\n",
       "      <td>Запустить собственную службу доставки, что сократит срок доставки заказов</td>\n",
       "      <td>2</td>\n",
       "      <td>5</td>\n",
       "      <td>4</td>\n",
       "      <td>10</td>\n",
       "    </tr>\n",
       "    <tr>\n",
       "      <th>2</th>\n",
       "      <td>Добавить блоки рекомендаций товаров на сайт интернет магазина, чтобы повысить конверсию и средний чек заказа</td>\n",
       "      <td>8</td>\n",
       "      <td>3</td>\n",
       "      <td>7</td>\n",
       "      <td>3</td>\n",
       "    </tr>\n",
       "    <tr>\n",
       "      <th>3</th>\n",
       "      <td>Изменить структура категорий, что увеличит конверсию, т.к. пользователи быстрее найдут нужный товар</td>\n",
       "      <td>8</td>\n",
       "      <td>3</td>\n",
       "      <td>3</td>\n",
       "      <td>8</td>\n",
       "    </tr>\n",
       "    <tr>\n",
       "      <th>4</th>\n",
       "      <td>Изменить цвет фона главной страницы, чтобы увеличить вовлеченность пользователей</td>\n",
       "      <td>3</td>\n",
       "      <td>1</td>\n",
       "      <td>1</td>\n",
       "      <td>1</td>\n",
       "    </tr>\n",
       "    <tr>\n",
       "      <th>5</th>\n",
       "      <td>Добавить страницу отзывов клиентов о магазине, что позволит увеличить количество заказов</td>\n",
       "      <td>3</td>\n",
       "      <td>2</td>\n",
       "      <td>2</td>\n",
       "      <td>3</td>\n",
       "    </tr>\n",
       "    <tr>\n",
       "      <th>6</th>\n",
       "      <td>Показать на главной странице баннеры с актуальными акциями и распродажами, чтобы увеличить конверсию</td>\n",
       "      <td>5</td>\n",
       "      <td>3</td>\n",
       "      <td>8</td>\n",
       "      <td>3</td>\n",
       "    </tr>\n",
       "    <tr>\n",
       "      <th>7</th>\n",
       "      <td>Добавить форму подписки на все основные страницы, чтобы собрать базу клиентов для email-рассылок</td>\n",
       "      <td>10</td>\n",
       "      <td>7</td>\n",
       "      <td>8</td>\n",
       "      <td>5</td>\n",
       "    </tr>\n",
       "    <tr>\n",
       "      <th>8</th>\n",
       "      <td>Запустить акцию, дающую скидку на товар в день рождения</td>\n",
       "      <td>1</td>\n",
       "      <td>9</td>\n",
       "      <td>9</td>\n",
       "      <td>5</td>\n",
       "    </tr>\n",
       "  </tbody>\n",
       "</table>\n",
       "</div>"
      ],
      "text/plain": [
       "                                                                                                     hypothesis  \\\n",
       "0            Добавить два новых канала привлечения трафика, что позволит привлекать на 30% больше пользователей   \n",
       "1                                     Запустить собственную службу доставки, что сократит срок доставки заказов   \n",
       "2  Добавить блоки рекомендаций товаров на сайт интернет магазина, чтобы повысить конверсию и средний чек заказа   \n",
       "3           Изменить структура категорий, что увеличит конверсию, т.к. пользователи быстрее найдут нужный товар   \n",
       "4                              Изменить цвет фона главной страницы, чтобы увеличить вовлеченность пользователей   \n",
       "5                      Добавить страницу отзывов клиентов о магазине, что позволит увеличить количество заказов   \n",
       "6          Показать на главной странице баннеры с актуальными акциями и распродажами, чтобы увеличить конверсию   \n",
       "7              Добавить форму подписки на все основные страницы, чтобы собрать базу клиентов для email-рассылок   \n",
       "8                                                       Запустить акцию, дающую скидку на товар в день рождения   \n",
       "\n",
       "   reach  impact  confidence  efforts  \n",
       "0      3      10           8        6  \n",
       "1      2       5           4       10  \n",
       "2      8       3           7        3  \n",
       "3      8       3           3        8  \n",
       "4      3       1           1        1  \n",
       "5      3       2           2        3  \n",
       "6      5       3           8        3  \n",
       "7     10       7           8        5  \n",
       "8      1       9           9        5  "
      ]
     },
     "execution_count": 14,
     "metadata": {},
     "output_type": "execute_result"
    }
   ],
   "source": [
    "hypothesis # вывод всех гипотез"
   ]
  },
  {
   "cell_type": "code",
   "execution_count": 15,
   "metadata": {},
   "outputs": [],
   "source": [
    "ice_score = (hypothesis.impact * hypothesis.confidence) / hypothesis.efforts # расчет приоритизации задач методом ICE"
   ]
  },
  {
   "cell_type": "code",
   "execution_count": 16,
   "metadata": {},
   "outputs": [
    {
     "data": {
      "text/plain": [
       "8    16.200000\n",
       "0    13.333333\n",
       "7    11.200000\n",
       "6     8.000000\n",
       "2     7.000000\n",
       "1     2.000000\n",
       "5     1.333333\n",
       "3     1.125000\n",
       "4     1.000000\n",
       "dtype: float64"
      ]
     },
     "execution_count": 16,
     "metadata": {},
     "output_type": "execute_result"
    }
   ],
   "source": [
    "ice_score.sort_values(ascending = False) # вывод на экран результаты"
   ]
  },
  {
   "cell_type": "markdown",
   "metadata": {},
   "source": [
    "### Применяем фреймворк RICE для приоритизации гипотез. Отсортируем их по убыванию приоритета."
   ]
  },
  {
   "cell_type": "markdown",
   "metadata": {},
   "source": [
    "`RICE` ( влияние, уверенность, усилия)"
   ]
  },
  {
   "cell_type": "code",
   "execution_count": 17,
   "metadata": {},
   "outputs": [],
   "source": [
    "rice_score = (hypothesis.reach * hypothesis.impact * hypothesis.confidence) / hypothesis.efforts # расчет приоритизации задач методом RICE"
   ]
  },
  {
   "cell_type": "code",
   "execution_count": 18,
   "metadata": {},
   "outputs": [
    {
     "data": {
      "text/plain": [
       "7    112.0\n",
       "2     56.0\n",
       "0     40.0\n",
       "6     40.0\n",
       "8     16.2\n",
       "3      9.0\n",
       "1      4.0\n",
       "5      4.0\n",
       "4      3.0\n",
       "dtype: float64"
      ]
     },
     "execution_count": 18,
     "metadata": {},
     "output_type": "execute_result"
    }
   ],
   "source": [
    "rice_score.sort_values(ascending = False) # вывод на экран результаты"
   ]
  },
  {
   "cell_type": "markdown",
   "metadata": {},
   "source": [
    "### Вывод"
   ]
  },
  {
   "cell_type": "markdown",
   "metadata": {},
   "source": [
    "С помощью способов приоритизации задач проанализированы гипотезы. С помощью метода `ICE` самая приоритетная является **8 гипотеза**. Но в методе `RICE` приоритеная **7 гипотеза**. Обусловлено это тем , что  в методе `RICE` учитывается параметр `reach`(охват пользователей по 10-балльной шкале). В **7 гипотезе**  по этому параметру стоит самая высокая оценка. "
   ]
  },
  {
   "cell_type": "markdown",
   "metadata": {},
   "source": [
    "## Анализ A/B-теста"
   ]
  },
  {
   "cell_type": "markdown",
   "metadata": {},
   "source": [
    "### Построем график кумулятивной выручки по группам. Сделаем вывод и предположение."
   ]
  },
  {
   "cell_type": "code",
   "execution_count": 19,
   "metadata": {},
   "outputs": [
    {
     "data": {
      "text/plain": [
       "group\n",
       "A    503\n",
       "B    586\n",
       "Name: visitorId, dtype: int64"
      ]
     },
     "execution_count": 19,
     "metadata": {},
     "output_type": "execute_result"
    }
   ],
   "source": [
    "orders.groupby('group')['visitorId'].nunique() # группируем по  количество id  по группам"
   ]
  },
  {
   "cell_type": "code",
   "execution_count": 20,
   "metadata": {},
   "outputs": [],
   "source": [
    " order_filtred = orders.groupby('visitorId').agg({'group' : 'nunique'}).reset_index() # посморим какое количество visitorId присуствует о обеих группах"
   ]
  },
  {
   "cell_type": "code",
   "execution_count": 21,
   "metadata": {},
   "outputs": [
    {
     "data": {
      "text/html": [
       "<div>\n",
       "<style scoped>\n",
       "    .dataframe tbody tr th:only-of-type {\n",
       "        vertical-align: middle;\n",
       "    }\n",
       "\n",
       "    .dataframe tbody tr th {\n",
       "        vertical-align: top;\n",
       "    }\n",
       "\n",
       "    .dataframe thead th {\n",
       "        text-align: right;\n",
       "    }\n",
       "</style>\n",
       "<table border=\"1\" class=\"dataframe\">\n",
       "  <thead>\n",
       "    <tr style=\"text-align: right;\">\n",
       "      <th></th>\n",
       "      <th>visitorId</th>\n",
       "    </tr>\n",
       "    <tr>\n",
       "      <th>group</th>\n",
       "      <th></th>\n",
       "    </tr>\n",
       "  </thead>\n",
       "  <tbody>\n",
       "    <tr>\n",
       "      <th>1</th>\n",
       "      <td>973</td>\n",
       "    </tr>\n",
       "    <tr>\n",
       "      <th>2</th>\n",
       "      <td>58</td>\n",
       "    </tr>\n",
       "  </tbody>\n",
       "</table>\n",
       "</div>"
      ],
      "text/plain": [
       "       visitorId\n",
       "group           \n",
       "1            973\n",
       "2             58"
      ]
     },
     "execution_count": 21,
     "metadata": {},
     "output_type": "execute_result"
    }
   ],
   "source": [
    " order_filtred.groupby('group').agg({'visitorId' : 'nunique'}) # группируем данные по количеству уникальных значений"
   ]
  },
  {
   "cell_type": "code",
   "execution_count": 22,
   "metadata": {},
   "outputs": [],
   "source": [
    "#ab_list = order_filtred[order_filtred['group']==2]['visitorId'].tolist()\n",
    "#orders = orders.query('visitorId not in @ab_list') # фильтруем  visitorId ,которые присуствуют в обеих группах исследования"
   ]
  },
  {
   "cell_type": "code",
   "execution_count": 23,
   "metadata": {},
   "outputs": [
    {
     "data": {
      "text/plain": [
       "group\n",
       "A    557\n",
       "B    640\n",
       "Name: visitorId, dtype: int64"
      ]
     },
     "execution_count": 23,
     "metadata": {},
     "output_type": "execute_result"
    }
   ],
   "source": [
    "orders.groupby('group')['visitorId'].count() # размер исследуемых групп"
   ]
  },
  {
   "cell_type": "code",
   "execution_count": 24,
   "metadata": {},
   "outputs": [
    {
     "data": {
      "text/html": [
       "<div>\n",
       "<style scoped>\n",
       "    .dataframe tbody tr th:only-of-type {\n",
       "        vertical-align: middle;\n",
       "    }\n",
       "\n",
       "    .dataframe tbody tr th {\n",
       "        vertical-align: top;\n",
       "    }\n",
       "\n",
       "    .dataframe thead th {\n",
       "        text-align: right;\n",
       "    }\n",
       "</style>\n",
       "<table border=\"1\" class=\"dataframe\">\n",
       "  <thead>\n",
       "    <tr style=\"text-align: right;\">\n",
       "      <th></th>\n",
       "      <th>date</th>\n",
       "      <th>group</th>\n",
       "      <th>orders</th>\n",
       "      <th>buyers</th>\n",
       "      <th>revenue</th>\n",
       "      <th>visitors</th>\n",
       "    </tr>\n",
       "  </thead>\n",
       "  <tbody>\n",
       "    <tr>\n",
       "      <th>0</th>\n",
       "      <td>2019-08-01</td>\n",
       "      <td>A</td>\n",
       "      <td>24</td>\n",
       "      <td>20</td>\n",
       "      <td>148579</td>\n",
       "      <td>719</td>\n",
       "    </tr>\n",
       "    <tr>\n",
       "      <th>1</th>\n",
       "      <td>2019-08-01</td>\n",
       "      <td>B</td>\n",
       "      <td>21</td>\n",
       "      <td>20</td>\n",
       "      <td>101217</td>\n",
       "      <td>713</td>\n",
       "    </tr>\n",
       "    <tr>\n",
       "      <th>2</th>\n",
       "      <td>2019-08-02</td>\n",
       "      <td>A</td>\n",
       "      <td>44</td>\n",
       "      <td>38</td>\n",
       "      <td>242401</td>\n",
       "      <td>1338</td>\n",
       "    </tr>\n",
       "    <tr>\n",
       "      <th>3</th>\n",
       "      <td>2019-08-02</td>\n",
       "      <td>B</td>\n",
       "      <td>45</td>\n",
       "      <td>43</td>\n",
       "      <td>266748</td>\n",
       "      <td>1294</td>\n",
       "    </tr>\n",
       "    <tr>\n",
       "      <th>4</th>\n",
       "      <td>2019-08-03</td>\n",
       "      <td>A</td>\n",
       "      <td>68</td>\n",
       "      <td>62</td>\n",
       "      <td>354874</td>\n",
       "      <td>1845</td>\n",
       "    </tr>\n",
       "  </tbody>\n",
       "</table>\n",
       "</div>"
      ],
      "text/plain": [
       "        date group  orders  buyers  revenue  visitors\n",
       "0 2019-08-01     A      24      20   148579       719\n",
       "1 2019-08-01     B      21      20   101217       713\n",
       "2 2019-08-02     A      44      38   242401      1338\n",
       "3 2019-08-02     B      45      43   266748      1294\n",
       "4 2019-08-03     A      68      62   354874      1845"
      ]
     },
     "execution_count": 24,
     "metadata": {},
     "output_type": "execute_result"
    }
   ],
   "source": [
    "# создаем массив уникальных пар значений дат и групп теста\n",
    "datesGroups = orders[['date','group']].drop_duplicates()\n",
    "\n",
    "# получаем агрегированные кумулятивные по дням данные о заказах \n",
    "ordersAggregated = datesGroups.apply(lambda x: orders[np.logical_and(orders['date'] <= x['date'], orders['group'] == x['group'])].agg({'date' : 'max', 'group' : 'max', 'transactionId' : 'nunique', 'visitorId' : 'nunique', 'revenue' : 'sum'}), axis=1).sort_values(by=['date','group'])\n",
    "\n",
    "# получаем агрегированные кумулятивные по дням данные о посетителях интернет-магазина \n",
    "visitorsAggregated = datesGroups.apply(lambda x: visitors[np.logical_and(visitors['date'] <= x['date'], visitors['group'] == x['group'])].agg({'date' : 'max', 'group' : 'max', 'visitors' : 'sum'}), axis=1).sort_values(by=['date','group'])\n",
    "\n",
    "# объединяем кумулятивные данные в одной таблице и присваиваем ее столбцам понятные названия\n",
    "cumulativeData = ordersAggregated.merge(visitorsAggregated, left_on=['date', 'group'], right_on=['date', 'group'])\n",
    "cumulativeData.columns = ['date', 'group', 'orders', 'buyers', 'revenue', 'visitors']\n",
    "\n",
    "cumulativeData.head()"
   ]
  },
  {
   "cell_type": "code",
   "execution_count": 25,
   "metadata": {},
   "outputs": [
    {
     "data": {
      "text/plain": [
       "(62, 6)"
      ]
     },
     "execution_count": 25,
     "metadata": {},
     "output_type": "execute_result"
    }
   ],
   "source": [
    "cumulativeData.shape # размер таблицы"
   ]
  },
  {
   "cell_type": "code",
   "execution_count": 26,
   "metadata": {
    "scrolled": false
   },
   "outputs": [
    {
     "data": {
      "image/png": "[encoded data removed]",
      "text/plain": [
       "<Figure size 864x576 with 1 Axes>"
      ]
     },
     "metadata": {
      "needs_background": "light"
     },
     "output_type": "display_data"
    }
   ],
   "source": [
    "plt.figure(figsize=(12,8)) # размер  графика\n",
    "# датафрейм с кумулятивным количеством заказов и кумулятивной выручкой по дням в группе А\n",
    "\n",
    "cumulativeRevenueA = cumulativeData[cumulativeData['group']=='A'][['date','revenue', 'orders']]\n",
    "\n",
    "# датафрейм с кумулятивным количеством заказов и кумулятивной выручкой по дням в группе B\n",
    "cumulativeRevenueB = cumulativeData[cumulativeData['group']=='B'][['date','revenue', 'orders']]\n",
    "\n",
    "# Строим график выручки группы А\n",
    "plt.plot(cumulativeRevenueA['date'], cumulativeRevenueA['revenue'], label='A')\n",
    "\n",
    "# Строим график выручки группы B\n",
    "plt.plot(cumulativeRevenueB['date'], cumulativeRevenueB['revenue'], label='B')\n",
    "\n",
    "plt.title('График кумулятивной выручки по дням')\n",
    "plt.legend() \n",
    "plt.show();"
   ]
  },
  {
   "cell_type": "markdown",
   "metadata": {},
   "source": [
    "#### Вывод"
   ]
  },
  {
   "cell_type": "markdown",
   "metadata": {},
   "source": [
    "По графику видно,что выручка **растет**. В группе **В** виден  резкий **всплеск** выручки начиная с 2019-08-19. Возможно в этот период пользователи  группы **В** совершили больше заказов либо заказы стали дороже."
   ]
  },
  {
   "cell_type": "markdown",
   "metadata": {},
   "source": [
    "### Построем график кумулятивного среднего чека по группам. Сделаем вывод и предположение."
   ]
  },
  {
   "cell_type": "code",
   "execution_count": 27,
   "metadata": {
    "scrolled": false
   },
   "outputs": [
    {
     "data": {
      "image/png": "[encoded data removed]",
      "text/plain": [
       "<Figure size 864x576 with 1 Axes>"
      ]
     },
     "metadata": {
      "needs_background": "light"
     },
     "output_type": "display_data"
    }
   ],
   "source": [
    "plt.figure(figsize=(12,8)) # размер  графика\n",
    "plt.plot(cumulativeRevenueA['date'], cumulativeRevenueA['revenue']/cumulativeRevenueA['orders'], label='A')\n",
    "\n",
    "plt.plot(cumulativeRevenueB['date'], cumulativeRevenueB['revenue']/cumulativeRevenueB['orders'], label='B')\n",
    "plt.title('График среднего чека по группам')\n",
    "plt.legend();"
   ]
  },
  {
   "cell_type": "markdown",
   "metadata": {},
   "source": [
    "#### Вывод"
   ]
  },
  {
   "cell_type": "markdown",
   "metadata": {},
   "source": [
    "Средний чек группы **В** на 2019-08-19 показывает **резкий подъем**.Также наблюдается подъем среднего чека и в группе **А**, но более **плавно**,в течение 8 дней. Далее к конце теста средний чек  группы В **снижается**. Возможно такого вида всплеки обуславливаются, что в эти дни учитывались **дорогие** заказы."
   ]
  },
  {
   "cell_type": "markdown",
   "metadata": {},
   "source": [
    "### Построем график относительного изменения кумулятивного среднего чека группы B к группе A. Сделаем вывод и предположение."
   ]
  },
  {
   "cell_type": "code",
   "execution_count": 28,
   "metadata": {},
   "outputs": [
    {
     "data": {
      "image/png": "[encoded data removed]",
      "text/plain": [
       "<Figure size 864x576 with 1 Axes>"
      ]
     },
     "metadata": {
      "needs_background": "light"
     },
     "output_type": "display_data"
    }
   ],
   "source": [
    "plt.figure(figsize=(12,8)) # размер  графика\n",
    "# собираем данные в одном датафрейме\n",
    "mergedCumulativeRevenue = cumulativeRevenueA.merge(cumulativeRevenueB, left_on='date', right_on='date', how='left', suffixes=['A', 'B'])\n",
    "\n",
    "# cтроим отношение средних чеков\n",
    "plt.plot(mergedCumulativeRevenue['date'], (mergedCumulativeRevenue['revenueB']/mergedCumulativeRevenue['ordersB'])/(mergedCumulativeRevenue['revenueA']/mergedCumulativeRevenue['ordersA'])-1)\n",
    "\n",
    "# добавляем ось X\n",
    "plt.axhline(y=0, color='black', linestyle='--')\n",
    "plt.title('График относительно различия кумулятивного среднего чека группы B к группе A.');"
   ]
  },
  {
   "cell_type": "markdown",
   "metadata": {},
   "source": [
    "#### Вывод"
   ]
  },
  {
   "cell_type": "markdown",
   "metadata": {},
   "source": [
    "На графике видны резкие всплески ,это свидетельствет об **аномалиях** в данных."
   ]
  },
  {
   "cell_type": "markdown",
   "metadata": {},
   "source": [
    "### Построем график кумулятивной конверсии по группам. Сделаем выводы и предположение."
   ]
  },
  {
   "cell_type": "code",
   "execution_count": 57,
   "metadata": {},
   "outputs": [
    {
     "data": {
      "image/png": "[encoded data removed]",
      "text/plain": [
       "<Figure size 864x576 with 1 Axes>"
      ]
     },
     "metadata": {
      "needs_background": "light"
     },
     "output_type": "display_data"
    }
   ],
   "source": [
    "plt.figure(figsize=(12,8)) # размер  графика\n",
    "# считаем кумулятивную конверсию\n",
    "cumulativeData['conversion'] = cumulativeData['orders']/cumulativeData['visitors']\n",
    "\n",
    "# отделяем данные по группе A\n",
    "cumulativeDataA = cumulativeData[cumulativeData['group']=='A']\n",
    "\n",
    "# отделяем данные по группе B\n",
    "cumulativeDataB = cumulativeData[cumulativeData['group']=='B']\n",
    "\n",
    "# строим графики\n",
    "plt.plot(cumulativeDataA['date'], cumulativeDataA['conversion'], label='A')\n",
    "plt.plot(cumulativeDataB['date'], cumulativeDataB['conversion'], label='B')\n",
    "plt.legend()\n",
    "# задаем масштаб осей\n",
    "plt.axis([dt.datetime(2019, 8, 1), dt.datetime(2019, 9, 1), 0.028, 0.038])\n",
    "plt.title('Графики кумулятивной конверсии по дням по группам');\n"
   ]
  },
  {
   "cell_type": "markdown",
   "metadata": {},
   "source": [
    "#### Вывод"
   ]
  },
  {
   "cell_type": "markdown",
   "metadata": {},
   "source": [
    "Конверсии обеих групп  в начале теста **сильно** колеблятся. Далее обе группы зафиксировались около **одного** значения. При чем группа **В** расположено выше,чем группа **А**."
   ]
  },
  {
   "cell_type": "markdown",
   "metadata": {},
   "source": [
    "### Построем график относительного изменения кумулятивной конверсии группы B к группе A. Сделаем вывод и предположение."
   ]
  },
  {
   "cell_type": "code",
   "execution_count": 30,
   "metadata": {},
   "outputs": [
    {
     "data": {
      "image/png": "[encoded data removed]",
      "text/plain": [
       "<Figure size 864x576 with 1 Axes>"
      ]
     },
     "metadata": {
      "needs_background": "light"
     },
     "output_type": "display_data"
    }
   ],
   "source": [
    "plt.figure(figsize=(12,8)) # размер  графика\n",
    "mergedCumulativeConversions = cumulativeDataA[['date','conversion']].merge(cumulativeDataB[['date','conversion']], left_on='date', right_on='date', how='left', suffixes=['A', 'B'])\n",
    "\n",
    "plt.plot(mergedCumulativeConversions['date'], mergedCumulativeConversions['conversionB']/mergedCumulativeConversions['conversionA']-1, label=\"Относительный прирост конверсии группы B относительно группы A\")\n",
    "plt.legend()\n",
    "\n",
    "plt.axhline(y=0, color='black', linestyle='--')\n",
    "plt.axhline(y=0.2, color='grey', linestyle='--')\n",
    "plt.title('График относительного изменения кумулятивной конверсии группы B к группе A');\n",
    "plt.axis([dt.datetime(2019, 8, 1), dt.datetime(2019, 9, 1), -0.2, 0.25]);"
   ]
  },
  {
   "cell_type": "markdown",
   "metadata": {},
   "source": [
    "#### Вывод"
   ]
  },
  {
   "cell_type": "markdown",
   "metadata": {},
   "source": [
    "В начале теста группа В проигрывала группе А. Но в дальнейшем конверсия была выше у группы В. "
   ]
  },
  {
   "cell_type": "markdown",
   "metadata": {},
   "source": [
    "### Построем точечный график количества заказов по пользователям. Сделаем вывод и предположение."
   ]
  },
  {
   "cell_type": "code",
   "execution_count": 31,
   "metadata": {},
   "outputs": [],
   "source": [
    "ordersByUsers = (\n",
    "    orders.groupby('visitorId', as_index=False)\n",
    "    .agg({'transactionId': 'nunique'})\n",
    ")\n",
    "\n",
    "ordersByUsers.columns = ['userId', 'orders']\n"
   ]
  },
  {
   "cell_type": "code",
   "execution_count": 32,
   "metadata": {},
   "outputs": [
    {
     "data": {
      "image/png": "[encoded data removed]",
      "text/plain": [
       "<Figure size 864x576 with 1 Axes>"
      ]
     },
     "metadata": {
      "needs_background": "light"
     },
     "output_type": "display_data"
    }
   ],
   "source": [
    "plt.figure(figsize=(12,8)) # размер  графика\n",
    "x_values = pd.Series(range(0,len(ordersByUsers['orders'])))# значения по горизонтальной оси\n",
    "plt.title('Точечный график количества заказов по пользователям')\n",
    "plt.scatter(x_values, ordersByUsers['orders']);# точечная диаграмма"
   ]
  },
  {
   "cell_type": "markdown",
   "metadata": {},
   "source": [
    "#### Вывод"
   ]
  },
  {
   "cell_type": "markdown",
   "metadata": {},
   "source": [
    "С помощью графика видим ,что некоторые пользователи совершаю более 4 заказов."
   ]
  },
  {
   "cell_type": "markdown",
   "metadata": {},
   "source": [
    "### Посчитаем 95-й и 99-й перцентили количества заказов на пользователя. Выберем границу для определения аномальных пользователей."
   ]
  },
  {
   "cell_type": "code",
   "execution_count": 33,
   "metadata": {},
   "outputs": [
    {
     "name": "stdout",
     "output_type": "stream",
     "text": [
      "[2. 4.]\n"
     ]
    }
   ],
   "source": [
    "print(np.percentile(ordersByUsers['orders'], [95, 99]))"
   ]
  },
  {
   "cell_type": "markdown",
   "metadata": {},
   "source": [
    "#### Вывод"
   ]
  },
  {
   "cell_type": "markdown",
   "metadata": {},
   "source": [
    "**Менее 1 %** совершают более 4 заказов. Следовательно отбросим  пользователей совершивших  более **2 заказов**."
   ]
  },
  {
   "cell_type": "markdown",
   "metadata": {},
   "source": [
    "### Построем точечный график стоимостей заказов. Сделаем вывод и предположение."
   ]
  },
  {
   "cell_type": "code",
   "execution_count": 59,
   "metadata": {},
   "outputs": [
    {
     "data": {
      "image/png": "[encoded data removed]",
      "text/plain": [
       "<Figure size 864x576 with 1 Axes>"
      ]
     },
     "metadata": {
      "needs_background": "light"
     },
     "output_type": "display_data"
    }
   ],
   "source": [
    "plt.figure(figsize=(12,8)) # размер  графика\n",
    "x_values = pd.Series(range(0,len(orders['revenue'])))# значения по горизонтальной оси\n",
    "plt.title('Точечный график стоимостей заказов');\n",
    "plt.scatter(x_values,orders['revenue'])\n",
    "plt.axis( [0,1000,0, 100000]);# точечная диаграмма\n"
   ]
  },
  {
   "cell_type": "markdown",
   "metadata": {},
   "source": [
    "#### Вывод"
   ]
  },
  {
   "cell_type": "markdown",
   "metadata": {},
   "source": [
    "По графику видим,что аномальные значения находятся в диапозоне от 20000 до 100000."
   ]
  },
  {
   "cell_type": "code",
   "execution_count": 62,
   "metadata": {},
   "outputs": [
    {
     "name": "stdout",
     "output_type": "stream",
     "text": [
      "[28000.  58233.2]\n"
     ]
    }
   ],
   "source": [
    "print(np.percentile(orders['revenue'], [95, 99]))"
   ]
  },
  {
   "cell_type": "markdown",
   "metadata": {},
   "source": [
    "#### Вывод"
   ]
  },
  {
   "cell_type": "markdown",
   "metadata": {},
   "source": [
    "Исключим из исследования значения `revenue` выше **28000**."
   ]
  },
  {
   "cell_type": "markdown",
   "metadata": {},
   "source": [
    "### Посчитаем статистическую значимость различий в конверсии между группами по «сырым» данным. Сделаем выводы и предположение."
   ]
  },
  {
   "cell_type": "code",
   "execution_count": 36,
   "metadata": {
    "scrolled": true
   },
   "outputs": [
    {
     "data": {
      "text/html": [
       "<div>\n",
       "<style scoped>\n",
       "    .dataframe tbody tr th:only-of-type {\n",
       "        vertical-align: middle;\n",
       "    }\n",
       "\n",
       "    .dataframe tbody tr th {\n",
       "        vertical-align: top;\n",
       "    }\n",
       "\n",
       "    .dataframe thead th {\n",
       "        text-align: right;\n",
       "    }\n",
       "</style>\n",
       "<table border=\"1\" class=\"dataframe\">\n",
       "  <thead>\n",
       "    <tr style=\"text-align: right;\">\n",
       "      <th></th>\n",
       "      <th>date</th>\n",
       "      <th>ordersPerDateA</th>\n",
       "      <th>revenuePerDateA</th>\n",
       "      <th>ordersPerDateB</th>\n",
       "      <th>revenuePerDateB</th>\n",
       "      <th>ordersCummulativeA</th>\n",
       "      <th>revenueCummulativeA</th>\n",
       "      <th>ordersCummulativeB</th>\n",
       "      <th>revenueCummulativeB</th>\n",
       "      <th>visitorsPerDateA</th>\n",
       "      <th>visitorsPerDateB</th>\n",
       "      <th>visitorsCummulativeA</th>\n",
       "      <th>visitorsCummulativeB</th>\n",
       "    </tr>\n",
       "  </thead>\n",
       "  <tbody>\n",
       "    <tr>\n",
       "      <th>0</th>\n",
       "      <td>2019-08-01</td>\n",
       "      <td>24</td>\n",
       "      <td>148579</td>\n",
       "      <td>21</td>\n",
       "      <td>101217</td>\n",
       "      <td>24</td>\n",
       "      <td>148579</td>\n",
       "      <td>21</td>\n",
       "      <td>101217</td>\n",
       "      <td>719</td>\n",
       "      <td>713</td>\n",
       "      <td>719</td>\n",
       "      <td>713</td>\n",
       "    </tr>\n",
       "    <tr>\n",
       "      <th>1</th>\n",
       "      <td>2019-08-02</td>\n",
       "      <td>20</td>\n",
       "      <td>93822</td>\n",
       "      <td>24</td>\n",
       "      <td>165531</td>\n",
       "      <td>44</td>\n",
       "      <td>242401</td>\n",
       "      <td>45</td>\n",
       "      <td>266748</td>\n",
       "      <td>619</td>\n",
       "      <td>581</td>\n",
       "      <td>1338</td>\n",
       "      <td>1294</td>\n",
       "    </tr>\n",
       "    <tr>\n",
       "      <th>2</th>\n",
       "      <td>2019-08-03</td>\n",
       "      <td>24</td>\n",
       "      <td>112473</td>\n",
       "      <td>16</td>\n",
       "      <td>114248</td>\n",
       "      <td>68</td>\n",
       "      <td>354874</td>\n",
       "      <td>61</td>\n",
       "      <td>380996</td>\n",
       "      <td>507</td>\n",
       "      <td>509</td>\n",
       "      <td>1845</td>\n",
       "      <td>1803</td>\n",
       "    </tr>\n",
       "    <tr>\n",
       "      <th>3</th>\n",
       "      <td>2019-08-04</td>\n",
       "      <td>16</td>\n",
       "      <td>70825</td>\n",
       "      <td>17</td>\n",
       "      <td>108571</td>\n",
       "      <td>84</td>\n",
       "      <td>425699</td>\n",
       "      <td>78</td>\n",
       "      <td>489567</td>\n",
       "      <td>717</td>\n",
       "      <td>770</td>\n",
       "      <td>2562</td>\n",
       "      <td>2573</td>\n",
       "    </tr>\n",
       "    <tr>\n",
       "      <th>4</th>\n",
       "      <td>2019-08-05</td>\n",
       "      <td>25</td>\n",
       "      <td>124218</td>\n",
       "      <td>23</td>\n",
       "      <td>92428</td>\n",
       "      <td>109</td>\n",
       "      <td>549917</td>\n",
       "      <td>101</td>\n",
       "      <td>581995</td>\n",
       "      <td>756</td>\n",
       "      <td>707</td>\n",
       "      <td>3318</td>\n",
       "      <td>3280</td>\n",
       "    </tr>\n",
       "  </tbody>\n",
       "</table>\n",
       "</div>"
      ],
      "text/plain": [
       "        date  ordersPerDateA  revenuePerDateA  ordersPerDateB  \\\n",
       "0 2019-08-01              24           148579              21   \n",
       "1 2019-08-02              20            93822              24   \n",
       "2 2019-08-03              24           112473              16   \n",
       "3 2019-08-04              16            70825              17   \n",
       "4 2019-08-05              25           124218              23   \n",
       "\n",
       "   revenuePerDateB  ordersCummulativeA  revenueCummulativeA  \\\n",
       "0           101217                  24               148579   \n",
       "1           165531                  44               242401   \n",
       "2           114248                  68               354874   \n",
       "3           108571                  84               425699   \n",
       "4            92428                 109               549917   \n",
       "\n",
       "   ordersCummulativeB  revenueCummulativeB  visitorsPerDateA  \\\n",
       "0                  21               101217               719   \n",
       "1                  45               266748               619   \n",
       "2                  61               380996               507   \n",
       "3                  78               489567               717   \n",
       "4                 101               581995               756   \n",
       "\n",
       "   visitorsPerDateB  visitorsCummulativeA  visitorsCummulativeB  \n",
       "0               713                   719                   713  \n",
       "1               581                  1338                  1294  \n",
       "2               509                  1845                  1803  \n",
       "3               770                  2562                  2573  \n",
       "4               707                  3318                  3280  "
      ]
     },
     "execution_count": 36,
     "metadata": {},
     "output_type": "execute_result"
    }
   ],
   "source": [
    "visitorsADaily = visitors[visitors['group'] == 'A'][['date', 'visitors']]\n",
    "visitorsADaily.columns = ['date', 'visitorsPerDateA']\n",
    "\n",
    "visitorsACummulative = visitorsADaily.apply(\n",
    "    lambda x: visitorsADaily[visitorsADaily['date'] <= x['date']].agg(\n",
    "        {'date': 'max', 'visitorsPerDateA': 'sum'}\n",
    "    ),\n",
    "    axis=1,\n",
    ")\n",
    "visitorsACummulative.columns = ['date', 'visitorsCummulativeA']\n",
    "\n",
    "visitorsBDaily = visitors[visitors['group'] == 'B'][['date', 'visitors']]\n",
    "visitorsBDaily.columns = ['date', 'visitorsPerDateB']\n",
    "\n",
    "visitorsBCummulative = visitorsBDaily.apply(\n",
    "    lambda x: visitorsBDaily[visitorsBDaily['date'] <= x['date']].agg(\n",
    "        {'date': 'max', 'visitorsPerDateB': 'sum'}\n",
    "    ),\n",
    "    axis=1,\n",
    ")\n",
    "visitorsBCummulative.columns = ['date', 'visitorsCummulativeB']\n",
    "\n",
    "ordersADaily = (\n",
    "    orders[orders['group'] == 'A'][['date', 'transactionId', 'visitorId', 'revenue']]\n",
    "    .groupby('date', as_index=False)\n",
    "    .agg({'transactionId': pd.Series.nunique, 'revenue': 'sum'})\n",
    ")\n",
    "ordersADaily.columns = ['date', 'ordersPerDateA', 'revenuePerDateA']\n",
    "\n",
    "ordersACummulative = ordersADaily.apply(\n",
    "    lambda x: ordersADaily[ordersADaily['date'] <= x['date']].agg(\n",
    "        {'date': 'max', 'ordersPerDateA': 'sum', 'revenuePerDateA': 'sum'}\n",
    "    ),\n",
    "    axis=1,\n",
    ").sort_values(by=['date'])\n",
    "ordersACummulative.columns = [\n",
    "    'date',\n",
    "    'ordersCummulativeA',\n",
    "    'revenueCummulativeA',\n",
    "]\n",
    "\n",
    "ordersBDaily = (\n",
    "    orders[orders['group'] == 'B'][['date', 'transactionId', 'visitorId', 'revenue']]\n",
    "    .groupby('date', as_index=False)\n",
    "    .agg({'transactionId': pd.Series.nunique, 'revenue': 'sum'})\n",
    ")\n",
    "ordersBDaily.columns = ['date', 'ordersPerDateB', 'revenuePerDateB']\n",
    "\n",
    "ordersBCummulative = ordersBDaily.apply(\n",
    "    lambda x: ordersBDaily[ordersBDaily['date'] <= x['date']].agg(\n",
    "        {'date': 'max', 'ordersPerDateB': 'sum', 'revenuePerDateB': 'sum'}\n",
    "    ),\n",
    "    axis=1,\n",
    ").sort_values(by=['date'])\n",
    "ordersBCummulative.columns = [\n",
    "    'date',\n",
    "    'ordersCummulativeB',\n",
    "    'revenueCummulativeB',\n",
    "]\n",
    "\n",
    "data = (\n",
    "    ordersADaily.merge(\n",
    "        ordersBDaily, left_on='date', right_on='date', how='left'\n",
    "    )\n",
    "    .merge(ordersACummulative, left_on='date', right_on='date', how='left')\n",
    "    .merge(ordersBCummulative, left_on='date', right_on='date', how='left')\n",
    "    .merge(visitorsADaily, left_on='date', right_on='date', how='left')\n",
    "    .merge(visitorsBDaily, left_on='date', right_on='date', how='left')\n",
    "    .merge(visitorsACummulative, left_on='date', right_on='date', how='left')\n",
    "    .merge(visitorsBCummulative, left_on='date', right_on='date', how='left')\n",
    ")\n",
    "\n",
    "data.head(5)"
   ]
  },
  {
   "cell_type": "markdown",
   "metadata": {},
   "source": [
    "Название столбцов:\n",
    "* `date` — дата;\n",
    "* `ordersPerDateA` — количество заказов в выбранную дату в группе A;\n",
    "* `revenuePerDateA` — суммарная выручка в выбранную дату в группе A;\n",
    "* `ordersPerDateB` — количество заказов в выбранную дату в группе B;\n",
    "* `revenuePerDateB` — суммарная выручка в выбранную дату в группе B;\n",
    "* `ordersCummulativeA` — суммарное число заказов до выбранной даты включительно в группе A;\n",
    "* `revenueCummulativeA` — суммарная выручка до выбранной даты включительно в группе A;\n",
    "* `ordersCummulativeB` — суммарное количество заказов до выбранной даты включительно в группе B;\n",
    "* `revenueCummulativeB` — суммарная выручка до выбранной даты включительно в группе B;\n",
    "* `visitorsPerDateA` — количество пользователей в выбранную дату в группе A;\n",
    "* `visitorsPerDateB` — количество пользователей в выбранную дату в группе B;\n",
    "* `visitorsCummulativeA` — количество пользователей до выбранной даты включительно в группе A;\n",
    "* `visitorsCummulativeB` — количество пользователей до выбранной даты включительно в группе B."
   ]
  },
  {
   "cell_type": "markdown",
   "metadata": {},
   "source": [
    "Создаем переменные `ordersByUsersA` и `ordersByUsersB` со столбцами ['userId', 'orders']. В них для пользователей, которые заказывали хотя бы 1 раз, укажем число совершённых заказов.Объявим переменные `sampleA` и `sampleB`, в которых пользователям из разных групп будет соответствовать количество заказов. "
   ]
  },
  {
   "cell_type": "code",
   "execution_count": 37,
   "metadata": {},
   "outputs": [],
   "source": [
    "ordersByUsersA = (\n",
    "    orders[orders['group'] == 'A']\n",
    "    .groupby('visitorId', as_index=False)\n",
    "    .agg({'transactionId': pd.Series.nunique})\n",
    ")\n",
    "ordersByUsersA.columns = ['userId', 'orders']\n",
    "\n",
    "ordersByUsersB = (\n",
    "    orders[orders['group'] == 'B']\n",
    "    .groupby('visitorId', as_index=False)\n",
    "    .agg({'transactionId': pd.Series.nunique})\n",
    ")\n",
    "ordersByUsersB.columns = ['userId', 'orders'] \n",
    "sampleA = pd.concat(\n",
    "    [\n",
    "        ordersByUsersA['orders'],\n",
    "        pd.Series(\n",
    "            0,\n",
    "            index=np.arange(\n",
    "                data['visitorsPerDateA'].sum() - len(ordersByUsersA['orders'])\n",
    "            ),\n",
    "            name='orders',\n",
    "        ),\n",
    "    ],\n",
    "    axis=0,\n",
    ")\n",
    "\n",
    "sampleB = pd.concat(\n",
    "    [\n",
    "        ordersByUsersB['orders'],\n",
    "        pd.Series(\n",
    "            0,\n",
    "            index=np.arange(\n",
    "                data['visitorsPerDateB'].sum() - len(ordersByUsersB['orders'])\n",
    "            ),\n",
    "            name='orders',\n",
    "        ),\n",
    "    ],\n",
    "    axis=0,\n",
    ")"
   ]
  },
  {
   "cell_type": "markdown",
   "metadata": {},
   "source": [
    "Проверим полученные таблицы на нормальности **методом Шапиро-Уилка**."
   ]
  },
  {
   "cell_type": "code",
   "execution_count": 38,
   "metadata": {},
   "outputs": [
    {
     "name": "stdout",
     "output_type": "stream",
     "text": [
      "p-значение:  0.0\n",
      "Отвергаем нулевую гипотезу: распределение в группе А не нормально\n"
     ]
    }
   ],
   "source": [
    "alpha = 0.05  # критический уровень статистической значимости\n",
    "\n",
    "results = st.shapiro(sampleA)\n",
    "p_value = results[\n",
    "    1\n",
    "]  # второе значение в массиве результатов (с индексом 1) - p-value\n",
    "\n",
    "print('p-значение: ', p_value)\n",
    "\n",
    "if p_value < alpha:\n",
    "    print('Отвергаем нулевую гипотезу: распределение в группе А не нормально')\n",
    "else:\n",
    "    print('Не получилось отвергнуть нулевую гипотезу, всё нормально') "
   ]
  },
  {
   "cell_type": "code",
   "execution_count": 39,
   "metadata": {},
   "outputs": [
    {
     "name": "stdout",
     "output_type": "stream",
     "text": [
      "p-значение:  0.0\n",
      "Отвергаем нулевую гипотезу: распределение в группе В не нормально\n"
     ]
    }
   ],
   "source": [
    "alpha = 0.05  # критический уровень статистической значимости\n",
    "\n",
    "results = st.shapiro(sampleB)\n",
    "p_value = results[\n",
    "    1\n",
    "]  # второе значение в массиве результатов (с индексом 1) - p-value\n",
    "\n",
    "print('p-значение: ', p_value)\n",
    "\n",
    "if p_value < alpha:\n",
    "    print('Отвергаем нулевую гипотезу: распределение в группе В не нормально')\n",
    "else:\n",
    "    print('Не получилось отвергнуть нулевую гипотезу, всё нормально') "
   ]
  },
  {
   "cell_type": "markdown",
   "metadata": {},
   "source": [
    "Гипотезы: \n",
    "* Нулевая гипотеза: **Распределения выборки равны**. \n",
    "* Альтернативная гипотеза: **Распределения выборки не равны**."
   ]
  },
  {
   "cell_type": "markdown",
   "metadata": {},
   "source": [
    "Исследуемые  распределения случайных величин  отличается от нормального распределения , в связи с этим использовали **непараметрический тест Манна-Уитни**\n",
    "\n",
    "Уровень значимости: $\\alpha = 0.05$\n",
    "\n",
    "Если p-value будет меньше выбранного уровня значимости $\\alpha = 0.05$, то нулевую гипотезу о равенстве средних отвергнем. Иначе сделаем вывод, что данные не позволили нам отвергнуть нулевую гипотезу."
   ]
  },
  {
   "cell_type": "code",
   "execution_count": 40,
   "metadata": {},
   "outputs": [
    {
     "name": "stdout",
     "output_type": "stream",
     "text": [
      "p-значение:  0.016792355056752608\n",
      "Отвергаем нулевую гипотезу: разница статистически значима\n"
     ]
    }
   ],
   "source": [
    "alpha = 0.05  # критический уровень статистической значимости\n",
    "\n",
    "results = st.mannwhitneyu(sampleA, sampleB)\n",
    "\n",
    "print('p-значение: ', results.pvalue)\n",
    "\n",
    "if results.pvalue < alpha:\n",
    "    print('Отвергаем нулевую гипотезу: разница статистически значима')\n",
    "else:\n",
    "    print(\n",
    "        'Не получилось отвергнуть нулевую гипотезу, вывод о различии сделать нельзя'\n",
    "    ) "
   ]
  },
  {
   "cell_type": "code",
   "execution_count": 41,
   "metadata": {},
   "outputs": [
    {
     "name": "stdout",
     "output_type": "stream",
     "text": [
      "Относительный прирост конверсии группы В 0.138\n"
     ]
    }
   ],
   "source": [
    "print('Относительный прирост конверсии группы В '\"{0:.3f}\".format(sampleB.mean() / sampleA.mean() - 1))"
   ]
  },
  {
   "cell_type": "markdown",
   "metadata": {},
   "source": [
    "#### Вывод"
   ]
  },
  {
   "cell_type": "markdown",
   "metadata": {},
   "source": [
    "Рассмотренные данные по конверсии по *сырым* данным распределены **не нормально**, что свидетельствует о выбросах. Нулевую гипотезу о равенстве в конверсии между группами  отвергнаем. Статистически значимая разница между двумя группами существует.\n",
    "Относительный прирост конверсии группы В составляет **13,8 %**."
   ]
  },
  {
   "cell_type": "markdown",
   "metadata": {},
   "source": [
    "### Посчитаем статистическую значимость различий в среднем чеке заказа между группами по «сырым» данным. Сделаем выводы и предположение."
   ]
  },
  {
   "cell_type": "markdown",
   "metadata": {},
   "source": [
    "* Нулевая гипотеза **Н0**:  средний чек групп  **А** и **В** не отличаются друг от друга.\n",
    "* Альтернативная гипотеза **Н1** : средний чек групп **А** и **В** значимо различны."
   ]
  },
  {
   "cell_type": "markdown",
   "metadata": {},
   "source": [
    "Проверим полученные таблицы на нормальности **методом Шапиро-Уилка**."
   ]
  },
  {
   "cell_type": "code",
   "execution_count": 42,
   "metadata": {},
   "outputs": [
    {
     "name": "stdout",
     "output_type": "stream",
     "text": [
      "p-значение:  1.739703399801917e-34\n",
      "Отвергаем нулевую гипотезу: распределение в группе А не нормально\n"
     ]
    }
   ],
   "source": [
    "alpha = 0.05  # критический уровень статистической значимости\n",
    "\n",
    "results = st.shapiro(orders[orders['group']=='A']['revenue'])\n",
    "p_value = results[\n",
    "    1\n",
    "]  # второе значение в массиве результатов (с индексом 1) - p-value\n",
    "\n",
    "print('p-значение: ', p_value)\n",
    "\n",
    "if p_value < alpha:\n",
    "    print('Отвергаем нулевую гипотезу: распределение в группе А не нормально')\n",
    "else:\n",
    "    print('Не получилось отвергнуть нулевую гипотезу, всё нормально') "
   ]
  },
  {
   "cell_type": "code",
   "execution_count": 43,
   "metadata": {},
   "outputs": [
    {
     "name": "stdout",
     "output_type": "stream",
     "text": [
      "p-значение:  0.0\n",
      "Отвергаем нулевую гипотезу: распределение в группе B не нормально\n"
     ]
    }
   ],
   "source": [
    "alpha = 0.05  # критический уровень статистической значимости\n",
    "\n",
    "results = st.shapiro(orders[orders['group']=='B']['revenue'])\n",
    "p_value = results[\n",
    "    1\n",
    "]  # второе значение в массиве результатов (с индексом 1) - p-value\n",
    "\n",
    "print('p-значение: ', p_value)\n",
    "\n",
    "if p_value < alpha:\n",
    "    print('Отвергаем нулевую гипотезу: распределение в группе B не нормально')\n",
    "else:\n",
    "    print('Не получилось отвергнуть нулевую гипотезу, всё нормально') "
   ]
  },
  {
   "cell_type": "markdown",
   "metadata": {},
   "source": [
    "Исследуемые  распределения случайных величин  отличается от нормального распределения , в связи с этим использовали **непараметрический тест Манна-Уитни**\n",
    "\n",
    "Уровень значимости: $\\alpha = 0.05$\n",
    "\n",
    "Если p-value будет меньше выбранного уровня значимости $\\alpha = 0.05$, то нулевую гипотезу о равенстве средних отвергнем. Иначе сделаем вывод, что данные не позволили нам отвергнуть нулевую гипотезу."
   ]
  },
  {
   "cell_type": "code",
   "execution_count": 44,
   "metadata": {},
   "outputs": [
    {
     "name": "stdout",
     "output_type": "stream",
     "text": [
      "p-значение:  0.7292909855432458\n",
      "Не получилось отвергнуть нулевую гипотезу, вывод о различии сделать нельзя\n"
     ]
    }
   ],
   "source": [
    "alpha = 0.05  # критический уровень статистической значимости\n",
    "\n",
    "results = st.mannwhitneyu(orders[orders['group']=='A']['revenue'], orders[orders['group']=='B']['revenue'])\n",
    "\n",
    "print('p-значение: ', results.pvalue)\n",
    "\n",
    "if results.pvalue < alpha:\n",
    "    print('Отвергаем нулевую гипотезу: разница статистически значима')\n",
    "else:\n",
    "    print(\n",
    "        'Не получилось отвергнуть нулевую гипотезу, вывод о различии сделать нельзя'\n",
    "    ) "
   ]
  },
  {
   "cell_type": "code",
   "execution_count": 45,
   "metadata": {},
   "outputs": [
    {
     "name": "stdout",
     "output_type": "stream",
     "text": [
      "Относительный прирост конверсии группы В 0.259\n"
     ]
    }
   ],
   "source": [
    "print('Относительный прирост конверсии группы В ''{0:.3f}'.format(orders[orders['group']=='B']['revenue'].mean()/orders[orders['group']=='A']['revenue'].mean()-1)) "
   ]
  },
  {
   "cell_type": "code",
   "execution_count": 63,
   "metadata": {},
   "outputs": [
    {
     "data": {
      "text/plain": [
       "9230.875"
      ]
     },
     "execution_count": 63,
     "metadata": {},
     "output_type": "execute_result"
    }
   ],
   "source": [
    "orders[orders['group']=='B']['revenue'].mean()"
   ]
  },
  {
   "cell_type": "code",
   "execution_count": 64,
   "metadata": {},
   "outputs": [
    {
     "data": {
      "text/plain": [
       "7333.578096947936"
      ]
     },
     "execution_count": 64,
     "metadata": {},
     "output_type": "execute_result"
    }
   ],
   "source": [
    "orders[orders['group']=='A']['revenue'].mean()"
   ]
  },
  {
   "cell_type": "markdown",
   "metadata": {},
   "source": [
    "#### Вывод"
   ]
  },
  {
   "cell_type": "markdown",
   "metadata": {},
   "source": [
    "Рассмотренные данные по среднего чека по *сырым данным* распределены **не нормально**, что свидетельствует о выбросах. Значение *p-value*  получилось достоточно большим ,поэтому оснований отвергнуть нулевую гипотезу о равенстве долей нет. Средний чек по группам  **А** и **В** различается **незначимо**. Средний чек  группы **В** выше на  **25,9 %**, чем у группы **А**.  "
   ]
  },
  {
   "cell_type": "markdown",
   "metadata": {},
   "source": [
    "Это можно обусловить тем,что в данных присуствуют выбросы,которые искажают результат."
   ]
  },
  {
   "cell_type": "markdown",
   "metadata": {},
   "source": [
    "### Посчитаем статистическую значимость различий в конверсии между группами по «очищенным» данным. Сделаем вывод и предположение."
   ]
  },
  {
   "cell_type": "markdown",
   "metadata": {},
   "source": [
    "Выводим количество аномальных пользователей."
   ]
  },
  {
   "cell_type": "code",
   "execution_count": 75,
   "metadata": {},
   "outputs": [
    {
     "name": "stdout",
     "output_type": "stream",
     "text": [
      "1099    148427295\n",
      "18      199603092\n",
      "928     204675465\n",
      "23      237748145\n",
      "37      249864742\n",
      "dtype: int64\n",
      "74\n"
     ]
    }
   ],
   "source": [
    "usersWithManyOrders = pd.concat(\n",
    "    [\n",
    "        ordersByUsersA[ordersByUsersA['orders'] > np.percentile(ordersByUsers['orders'], 95)]['userId'],\n",
    "        ordersByUsersB[ordersByUsersB['orders'] > np.percentile(ordersByUsers['orders'], 95)]['userId'],\n",
    "    ],\n",
    "    axis=0,\n",
    ")\n",
    "usersWithExpensiveOrders = orders[orders['revenue'] > np.percentile(orders['revenue'], 95)]['visitorId']\n",
    "abnormalUsers = (\n",
    "    pd.concat([usersWithManyOrders, usersWithExpensiveOrders], axis=0)\n",
    "    .drop_duplicates()\n",
    "    .sort_values()\n",
    ")\n",
    "print(abnormalUsers.head(5))\n",
    "print(abnormalUsers.shape[0])"
   ]
  },
  {
   "cell_type": "markdown",
   "metadata": {},
   "source": [
    "Всего **74** аномальных пользователей. Далее отбросим эти значения из *сырых* данных."
   ]
  },
  {
   "cell_type": "code",
   "execution_count": 47,
   "metadata": {},
   "outputs": [],
   "source": [
    "sampleAFiltered = pd.concat(\n",
    "    [\n",
    "        ordersByUsersA[\n",
    "            np.logical_not(ordersByUsersA['userId'].isin(abnormalUsers))\n",
    "        ]['orders'],\n",
    "        pd.Series(\n",
    "            0,\n",
    "            index=np.arange(\n",
    "                data['visitorsPerDateA'].sum() - len(ordersByUsersA['orders'])\n",
    "            ),\n",
    "            name='orders',\n",
    "        ),\n",
    "    ],\n",
    "    axis=0,\n",
    ")\n",
    "\n",
    "sampleBFiltered = pd.concat(\n",
    "    [\n",
    "        ordersByUsersB[\n",
    "            np.logical_not(ordersByUsersB['userId'].isin(abnormalUsers))\n",
    "        ]['orders'],\n",
    "        pd.Series(\n",
    "            0,\n",
    "            index=np.arange(\n",
    "                data['visitorsPerDateB'].sum() - len(ordersByUsersB['orders'])\n",
    "            ),\n",
    "            name='orders',\n",
    "        ),\n",
    "    ],\n",
    "    axis=0,\n",
    ")"
   ]
  },
  {
   "cell_type": "markdown",
   "metadata": {},
   "source": [
    "Используем непараметрический тест Манна-Уитни."
   ]
  },
  {
   "cell_type": "markdown",
   "metadata": {},
   "source": [
    "* Нулевая гипотеза **Н0**:  конверсия групп  **А** и **В** не отличаются друг от друга.\n",
    "* Альтернативная гипотеза **Н1** : конверсия групп **А** и **В** значимо различны."
   ]
  },
  {
   "cell_type": "code",
   "execution_count": 48,
   "metadata": {
    "scrolled": true
   },
   "outputs": [
    {
     "name": "stdout",
     "output_type": "stream",
     "text": [
      "p-значение:  0.016354213767939312\n",
      "Отвергаем нулевую гипотезу: разница статистически значима\n"
     ]
    }
   ],
   "source": [
    "alpha = 0.05  # критический уровень статистической значимости\n",
    "\n",
    "results = st.mannwhitneyu(sampleAFiltered, sampleBFiltered)\n",
    "\n",
    "print('p-значение: ', results.pvalue)\n",
    "\n",
    "if results.pvalue < alpha:\n",
    "    print('Отвергаем нулевую гипотезу: разница статистически значима')\n",
    "else:\n",
    "    print(\n",
    "        'Не получилось отвергнуть нулевую гипотезу, вывод о различии сделать нельзя'\n",
    "    ) "
   ]
  },
  {
   "cell_type": "code",
   "execution_count": 49,
   "metadata": {},
   "outputs": [
    {
     "name": "stdout",
     "output_type": "stream",
     "text": [
      "Относительный прирост конверсии группы В 0.168\n"
     ]
    }
   ],
   "source": [
    "print('Относительный прирост конверсии группы В '\"{0:.3f}\".format(sampleBFiltered.mean() / sampleAFiltered.mean() - 1))"
   ]
  },
  {
   "cell_type": "markdown",
   "metadata": {},
   "source": [
    "#### Вывод"
   ]
  },
  {
   "cell_type": "markdown",
   "metadata": {},
   "source": [
    "При *очищенных* данных результат теста **не изменился**.  Но разница между группами увеличилась с **13,8%** до **16,8%**."
   ]
  },
  {
   "cell_type": "markdown",
   "metadata": {},
   "source": [
    "### Посчитаем статистическую значимость различий в среднем чеке заказа между группами по «очищенным» данным. Сделаем выводы и предположение."
   ]
  },
  {
   "cell_type": "markdown",
   "metadata": {},
   "source": [
    "Исключим выбросы из исследуемых данных."
   ]
  },
  {
   "cell_type": "code",
   "execution_count": 50,
   "metadata": {},
   "outputs": [],
   "source": [
    "simple_A_chek = orders[np.logical_and(\n",
    "                    orders['group'] == 'A',\n",
    "                    np.logical_not(orders['visitorId'].isin(abnormalUsers)),\n",
    "                )\n",
    "            ]['revenue']"
   ]
  },
  {
   "cell_type": "code",
   "execution_count": 51,
   "metadata": {},
   "outputs": [],
   "source": [
    "simple_B_chek = orders[np.logical_and(\n",
    "                    orders['group'] == 'B',\n",
    "                    np.logical_not(orders['visitorId'].isin(abnormalUsers)),\n",
    "                )\n",
    "            ]['revenue']\n",
    "        "
   ]
  },
  {
   "cell_type": "markdown",
   "metadata": {},
   "source": [
    "Проверим на нормальность выборки."
   ]
  },
  {
   "cell_type": "code",
   "execution_count": 52,
   "metadata": {},
   "outputs": [
    {
     "name": "stdout",
     "output_type": "stream",
     "text": [
      "p-значение:  7.099930373858212e-24\n",
      "Отвергаем нулевую гипотезу: распределение в группе А не нормально\n"
     ]
    }
   ],
   "source": [
    "alpha = 0.05  # критический уровень статистической значимости\n",
    "\n",
    "results = st.shapiro(simple_A_chek)\n",
    "p_value = results[\n",
    "    1\n",
    "]  # второе значение в массиве результатов (с индексом 1) - p-value\n",
    "\n",
    "print('p-значение: ', p_value)\n",
    "\n",
    "if p_value < alpha:\n",
    "    print('Отвергаем нулевую гипотезу: распределение в группе А не нормально')\n",
    "else:\n",
    "    print('Не получилось отвергнуть нулевую гипотезу, всё нормально') "
   ]
  },
  {
   "cell_type": "code",
   "execution_count": 53,
   "metadata": {},
   "outputs": [
    {
     "name": "stdout",
     "output_type": "stream",
     "text": [
      "p-значение:  5.7144548565685556e-27\n",
      "Отвергаем нулевую гипотезу: распределение в группе В не нормально\n"
     ]
    }
   ],
   "source": [
    "alpha = 0.05  # критический уровень статистической значимости\n",
    "\n",
    "results = st.shapiro(simple_B_chek)\n",
    "p_value = results[\n",
    "    1\n",
    "]  # второе значение в массиве результатов (с индексом 1) - p-value\n",
    "\n",
    "print('p-значение: ', p_value)\n",
    "\n",
    "if p_value < alpha:\n",
    "    print('Отвергаем нулевую гипотезу: распределение в группе В не нормально')\n",
    "else:\n",
    "    print('Не получилось отвергнуть нулевую гипотезу, всё нормально') "
   ]
  },
  {
   "cell_type": "markdown",
   "metadata": {},
   "source": [
    "Исследуемые  распределения случайных величин  отличается от нормального распределения , в связи с этим использовали **непараметрический тест Манна-Уитни**\n",
    "\n",
    "Уровень значимости: $\\alpha = 0.05$\n",
    "\n",
    "Если p-value будет меньше выбранного уровня значимости $\\alpha = 0.05$, то нулевую гипотезу о равенстве средних отвергнем. Иначе сделаем вывод, что данные не позволили нам отвергнуть нулевую гипотезу."
   ]
  },
  {
   "cell_type": "markdown",
   "metadata": {},
   "source": [
    "* Нулевая гипотеза **Н0**:  средний чек групп  **А** и **В** не отличаются друг от друга.\n",
    "* Альтернативная гипотеза **Н1** : средний чек групп **А** и **В** значимо различны."
   ]
  },
  {
   "cell_type": "code",
   "execution_count": 54,
   "metadata": {},
   "outputs": [
    {
     "name": "stdout",
     "output_type": "stream",
     "text": [
      "p-значение:  0.6503271404247081\n",
      "Не получилось отвергнуть нулевую гипотезу, вывод о различии сделать нельзя\n"
     ]
    }
   ],
   "source": [
    "alpha = 0.05  # критический уровень статистической значимости\n",
    "\n",
    "results = st.mannwhitneyu(simple_A_chek, simple_B_chek)\n",
    "\n",
    "print('p-значение: ', results.pvalue)\n",
    "\n",
    "if results.pvalue < alpha:\n",
    "    print('Отвергаем нулевую гипотезу: разница статистически значима')\n",
    "else:\n",
    "    print(\n",
    "        'Не получилось отвергнуть нулевую гипотезу, вывод о различии сделать нельзя'\n",
    "    ) "
   ]
  },
  {
   "cell_type": "code",
   "execution_count": 55,
   "metadata": {},
   "outputs": [
    {
     "name": "stdout",
     "output_type": "stream",
     "text": [
      "Относительный прирост конверсии группы В -0.033\n"
     ]
    }
   ],
   "source": [
    "print('Относительный прирост конверсии группы В '\"{0:.3f}\".format(simple_B_chek.mean() / simple_A_chek.mean() - 1))"
   ]
  },
  {
   "cell_type": "markdown",
   "metadata": {},
   "source": [
    "#### Вывод"
   ]
  },
  {
   "cell_type": "markdown",
   "metadata": {},
   "source": [
    "При *очищенных* данных результат теста **не изменился**.  Но разница между группами соктилась с **25,9%** до практически **0%**."
   ]
  },
  {
   "cell_type": "markdown",
   "metadata": {},
   "source": [
    "## Выводы"
   ]
  },
  {
   "cell_type": "markdown",
   "metadata": {},
   "source": [
    "1. В *сырых* и *очищенных данных* по конверсии существует **статистическая значимая разница** между группами А и В.\n",
    "\n",
    "2. Относительный прирост по конверсии по сырым и очищенным данным выше в группе В и  составляет соответвенно **13,8%** и **16.8%**.\n",
    "\n",
    "2. В свою очередь, по *сырых* и *очищенным данным* по среднему чеку между группами А и В **нет статистически значимого различия**.\n",
    "\n",
    "3. По графику различия конверсии **наилучшем** образом выглядит **группа В**.\n",
    "\n",
    "4. По графику различия среднего чека наблюдаем пиковые значения, что обусловленно **аномальными значениями**(дорогие заказы).\n",
    "\n",
    "6. После *фильтрации* аномальным значений различия между среднем чеком практически **минимальна**. "
   ]
  },
  {
   "cell_type": "markdown",
   "metadata": {},
   "source": [
    "Исходя из этого,можно сделать вывод о том ,что тест был успешным. "
   ]
  }
 ],
 "metadata": {
  "ExecuteTimeLog": [
   {
    "duration": 1355,
    "start_time": "2022-04-15T08:48:47.684Z"
   },
   {
    "duration": 79,
    "start_time": "2022-04-15T08:50:43.878Z"
   },
   {
    "duration": 3,
    "start_time": "2022-04-15T08:50:58.339Z"
   },
   {
    "duration": 79,
    "start_time": "2022-04-15T08:51:19.887Z"
   },
   {
    "duration": 31,
    "start_time": "2022-04-15T08:51:44.250Z"
   },
   {
    "duration": 42,
    "start_time": "2022-04-15T08:52:07.849Z"
   },
   {
    "duration": 27,
    "start_time": "2022-04-15T08:53:09.424Z"
   },
   {
    "duration": 168,
    "start_time": "2022-04-15T08:58:24.717Z"
   },
   {
    "duration": 96,
    "start_time": "2022-04-15T09:04:26.608Z"
   },
   {
    "duration": 4,
    "start_time": "2022-04-15T09:04:34.852Z"
   },
   {
    "duration": 9,
    "start_time": "2022-04-15T09:04:51.898Z"
   },
   {
    "duration": 2,
    "start_time": "2022-04-15T09:05:06.688Z"
   },
   {
    "duration": 3,
    "start_time": "2022-04-15T09:05:07.236Z"
   },
   {
    "duration": 4,
    "start_time": "2022-04-15T09:05:43.327Z"
   },
   {
    "duration": 9,
    "start_time": "2022-04-15T09:06:11.467Z"
   },
   {
    "duration": 8,
    "start_time": "2022-04-15T09:06:23.340Z"
   },
   {
    "duration": 9,
    "start_time": "2022-04-15T09:06:35.550Z"
   },
   {
    "duration": 8,
    "start_time": "2022-04-15T09:06:52.080Z"
   },
   {
    "duration": 3,
    "start_time": "2022-04-15T09:06:54.962Z"
   },
   {
    "duration": 9,
    "start_time": "2022-04-15T09:06:55.410Z"
   },
   {
    "duration": 8,
    "start_time": "2022-04-15T09:07:12.654Z"
   },
   {
    "duration": 2,
    "start_time": "2022-04-15T09:13:21.253Z"
   },
   {
    "duration": 8,
    "start_time": "2022-04-15T09:13:43.041Z"
   },
   {
    "duration": 9,
    "start_time": "2022-04-15T09:13:49.685Z"
   },
   {
    "duration": 14,
    "start_time": "2022-04-15T09:14:26.152Z"
   },
   {
    "duration": 8,
    "start_time": "2022-04-15T09:14:33.951Z"
   },
   {
    "duration": 8,
    "start_time": "2022-04-15T09:15:01.447Z"
   },
   {
    "duration": 4,
    "start_time": "2022-04-15T09:15:09.456Z"
   },
   {
    "duration": 8,
    "start_time": "2022-04-15T09:15:25.131Z"
   },
   {
    "duration": 9,
    "start_time": "2022-04-15T09:15:39.937Z"
   },
   {
    "duration": 9,
    "start_time": "2022-04-15T09:15:50.976Z"
   },
   {
    "duration": 3,
    "start_time": "2022-04-15T09:22:33.013Z"
   },
   {
    "duration": 5,
    "start_time": "2022-04-15T09:22:52.963Z"
   },
   {
    "duration": 6,
    "start_time": "2022-04-15T09:23:13.686Z"
   },
   {
    "duration": 6,
    "start_time": "2022-04-15T09:24:35.565Z"
   },
   {
    "duration": 5,
    "start_time": "2022-04-15T09:28:09.678Z"
   },
   {
    "duration": 3,
    "start_time": "2022-04-15T09:32:03.232Z"
   },
   {
    "duration": 5,
    "start_time": "2022-04-15T09:32:14.189Z"
   },
   {
    "duration": 4,
    "start_time": "2022-04-15T09:33:51.255Z"
   },
   {
    "duration": 3,
    "start_time": "2022-04-15T09:40:40.551Z"
   },
   {
    "duration": 5,
    "start_time": "2022-04-15T09:40:46.138Z"
   },
   {
    "duration": 7,
    "start_time": "2022-04-15T09:42:27.689Z"
   },
   {
    "duration": 9,
    "start_time": "2022-04-15T09:51:02.600Z"
   },
   {
    "duration": 670,
    "start_time": "2022-04-15T09:52:47.760Z"
   },
   {
    "duration": 6,
    "start_time": "2022-04-15T09:53:22.946Z"
   },
   {
    "duration": 819,
    "start_time": "2022-04-15T09:53:27.840Z"
   },
   {
    "duration": 5,
    "start_time": "2022-04-15T09:54:09.534Z"
   },
   {
    "duration": 12,
    "start_time": "2022-04-15T09:54:30.120Z"
   },
   {
    "duration": 6,
    "start_time": "2022-04-15T10:01:50.387Z"
   },
   {
    "duration": 6,
    "start_time": "2022-04-15T10:02:48.226Z"
   },
   {
    "duration": 5,
    "start_time": "2022-04-15T10:02:55.186Z"
   },
   {
    "duration": 6,
    "start_time": "2022-04-15T10:03:05.115Z"
   },
   {
    "duration": 5,
    "start_time": "2022-04-15T10:03:10.785Z"
   },
   {
    "duration": 7,
    "start_time": "2022-04-15T10:03:28.216Z"
   },
   {
    "duration": 10,
    "start_time": "2022-04-15T10:03:46.194Z"
   },
   {
    "duration": 7,
    "start_time": "2022-04-15T10:04:14.381Z"
   },
   {
    "duration": 12,
    "start_time": "2022-04-15T10:04:52.915Z"
   },
   {
    "duration": 11,
    "start_time": "2022-04-15T10:05:04.804Z"
   },
   {
    "duration": 10,
    "start_time": "2022-04-15T10:05:28.241Z"
   },
   {
    "duration": 9,
    "start_time": "2022-04-15T10:05:39.633Z"
   },
   {
    "duration": 2693,
    "start_time": "2022-04-15T10:11:42.586Z"
   },
   {
    "duration": 7,
    "start_time": "2022-04-15T10:11:48.581Z"
   },
   {
    "duration": 7,
    "start_time": "2022-04-15T10:12:04.207Z"
   },
   {
    "duration": 6,
    "start_time": "2022-04-15T10:17:07.416Z"
   },
   {
    "duration": 9,
    "start_time": "2022-04-15T10:17:54.156Z"
   },
   {
    "duration": 6,
    "start_time": "2022-04-15T10:18:02.473Z"
   },
   {
    "duration": 6,
    "start_time": "2022-04-15T10:18:46.424Z"
   },
   {
    "duration": 8,
    "start_time": "2022-04-15T10:19:22.816Z"
   },
   {
    "duration": 6,
    "start_time": "2022-04-15T10:19:28.388Z"
   },
   {
    "duration": 5,
    "start_time": "2022-04-15T10:22:24.770Z"
   },
   {
    "duration": 5,
    "start_time": "2022-04-15T10:22:44.703Z"
   },
   {
    "duration": 1172,
    "start_time": "2022-04-15T10:23:53.147Z"
   },
   {
    "duration": 65,
    "start_time": "2022-04-15T10:23:54.323Z"
   },
   {
    "duration": 3,
    "start_time": "2022-04-15T10:23:54.390Z"
   },
   {
    "duration": 45,
    "start_time": "2022-04-15T10:23:54.395Z"
   },
   {
    "duration": 32,
    "start_time": "2022-04-15T10:23:54.442Z"
   },
   {
    "duration": 23,
    "start_time": "2022-04-15T10:23:54.476Z"
   },
   {
    "duration": 26,
    "start_time": "2022-04-15T10:23:54.500Z"
   },
   {
    "duration": 8,
    "start_time": "2022-04-15T10:23:54.528Z"
   },
   {
    "duration": 14,
    "start_time": "2022-04-15T10:23:54.537Z"
   },
   {
    "duration": 9,
    "start_time": "2022-04-15T10:23:54.553Z"
   },
   {
    "duration": 4,
    "start_time": "2022-04-15T10:23:54.564Z"
   },
   {
    "duration": 14,
    "start_time": "2022-04-15T10:23:54.570Z"
   },
   {
    "duration": 45,
    "start_time": "2022-04-15T10:23:54.586Z"
   },
   {
    "duration": 6,
    "start_time": "2022-04-15T10:23:54.633Z"
   },
   {
    "duration": 7,
    "start_time": "2022-04-15T10:23:54.641Z"
   },
   {
    "duration": 7,
    "start_time": "2022-04-15T10:23:54.649Z"
   },
   {
    "duration": 12,
    "start_time": "2022-04-15T10:23:54.658Z"
   },
   {
    "duration": 8,
    "start_time": "2022-04-15T10:23:54.672Z"
   },
   {
    "duration": 9,
    "start_time": "2022-04-15T10:23:54.682Z"
   },
   {
    "duration": 12,
    "start_time": "2022-04-15T10:23:54.693Z"
   },
   {
    "duration": 21,
    "start_time": "2022-04-15T10:23:54.707Z"
   },
   {
    "duration": 9,
    "start_time": "2022-04-15T10:23:54.731Z"
   },
   {
    "duration": 8,
    "start_time": "2022-04-15T10:23:54.742Z"
   },
   {
    "duration": 10,
    "start_time": "2022-04-15T10:23:54.751Z"
   },
   {
    "duration": 5,
    "start_time": "2022-04-15T10:25:58.730Z"
   },
   {
    "duration": 8,
    "start_time": "2022-04-15T10:26:24.732Z"
   },
   {
    "duration": 5,
    "start_time": "2022-04-15T10:26:54.500Z"
   },
   {
    "duration": 6,
    "start_time": "2022-04-15T10:26:57.673Z"
   },
   {
    "duration": 4,
    "start_time": "2022-04-15T10:27:03.665Z"
   },
   {
    "duration": 4,
    "start_time": "2022-04-15T10:27:49.589Z"
   },
   {
    "duration": 6,
    "start_time": "2022-04-15T10:29:35.785Z"
   },
   {
    "duration": 6,
    "start_time": "2022-04-15T10:29:55.305Z"
   },
   {
    "duration": 12,
    "start_time": "2022-04-15T10:30:15.931Z"
   },
   {
    "duration": 12,
    "start_time": "2022-04-15T10:31:33.819Z"
   },
   {
    "duration": 1203,
    "start_time": "2022-04-15T10:31:40.694Z"
   },
   {
    "duration": 67,
    "start_time": "2022-04-15T10:31:41.899Z"
   },
   {
    "duration": 3,
    "start_time": "2022-04-15T10:31:41.967Z"
   },
   {
    "duration": 36,
    "start_time": "2022-04-15T10:31:41.972Z"
   },
   {
    "duration": 36,
    "start_time": "2022-04-15T10:31:42.009Z"
   },
   {
    "duration": 27,
    "start_time": "2022-04-15T10:31:42.046Z"
   },
   {
    "duration": 2,
    "start_time": "2022-04-15T10:31:42.075Z"
   },
   {
    "duration": 12,
    "start_time": "2022-04-15T10:31:42.079Z"
   },
   {
    "duration": 31,
    "start_time": "2022-04-15T10:31:42.092Z"
   },
   {
    "duration": 15,
    "start_time": "2022-04-15T10:31:42.127Z"
   },
   {
    "duration": 13,
    "start_time": "2022-04-15T10:31:42.144Z"
   },
   {
    "duration": 4,
    "start_time": "2022-04-15T10:31:42.158Z"
   },
   {
    "duration": 10,
    "start_time": "2022-04-15T10:31:42.164Z"
   },
   {
    "duration": 29,
    "start_time": "2022-04-15T10:31:42.177Z"
   },
   {
    "duration": 7,
    "start_time": "2022-04-15T10:31:42.208Z"
   },
   {
    "duration": 24,
    "start_time": "2022-04-15T10:31:42.216Z"
   },
   {
    "duration": 10,
    "start_time": "2022-04-15T10:31:42.246Z"
   },
   {
    "duration": 7,
    "start_time": "2022-04-15T10:31:42.266Z"
   },
   {
    "duration": 14,
    "start_time": "2022-04-15T10:31:42.274Z"
   },
   {
    "duration": 5,
    "start_time": "2022-04-15T10:31:42.289Z"
   },
   {
    "duration": 8,
    "start_time": "2022-04-15T10:31:42.296Z"
   },
   {
    "duration": 10,
    "start_time": "2022-04-15T10:31:42.306Z"
   },
   {
    "duration": 16,
    "start_time": "2022-04-15T10:31:42.317Z"
   },
   {
    "duration": 9,
    "start_time": "2022-04-15T10:31:42.335Z"
   },
   {
    "duration": 12,
    "start_time": "2022-04-15T10:31:42.345Z"
   },
   {
    "duration": 10,
    "start_time": "2022-04-15T10:31:42.359Z"
   },
   {
    "duration": 6,
    "start_time": "2022-04-15T10:32:30.141Z"
   },
   {
    "duration": 4,
    "start_time": "2022-04-15T10:33:24.472Z"
   },
   {
    "duration": 107,
    "start_time": "2022-04-15T10:37:30.673Z"
   },
   {
    "duration": 11,
    "start_time": "2022-04-15T10:37:36.266Z"
   },
   {
    "duration": 4,
    "start_time": "2022-04-15T10:39:27.516Z"
   },
   {
    "duration": 9,
    "start_time": "2022-04-15T10:39:43.896Z"
   },
   {
    "duration": 18,
    "start_time": "2022-04-15T10:39:54.823Z"
   },
   {
    "duration": 8,
    "start_time": "2022-04-15T10:40:02.683Z"
   },
   {
    "duration": 6,
    "start_time": "2022-04-15T10:49:10.485Z"
   },
   {
    "duration": 31,
    "start_time": "2022-04-15T10:50:21.681Z"
   },
   {
    "duration": 257,
    "start_time": "2022-04-15T10:51:50.881Z"
   },
   {
    "duration": 222,
    "start_time": "2022-04-15T10:52:55.456Z"
   },
   {
    "duration": 155,
    "start_time": "2022-04-15T10:54:08.003Z"
   },
   {
    "duration": 160,
    "start_time": "2022-04-15T10:55:26.350Z"
   },
   {
    "duration": 219,
    "start_time": "2022-04-15T10:56:14.971Z"
   },
   {
    "duration": 1353,
    "start_time": "2022-04-20T14:06:52.434Z"
   },
   {
    "duration": 42,
    "start_time": "2022-04-20T14:06:53.789Z"
   },
   {
    "duration": 3,
    "start_time": "2022-04-20T14:06:53.833Z"
   },
   {
    "duration": 38,
    "start_time": "2022-04-20T14:06:53.838Z"
   },
   {
    "duration": 31,
    "start_time": "2022-04-20T14:06:53.878Z"
   },
   {
    "duration": 25,
    "start_time": "2022-04-20T14:06:53.911Z"
   },
   {
    "duration": 3,
    "start_time": "2022-04-20T14:06:53.937Z"
   },
   {
    "duration": 33,
    "start_time": "2022-04-20T14:06:53.941Z"
   },
   {
    "duration": 17,
    "start_time": "2022-04-20T14:06:53.976Z"
   },
   {
    "duration": 21,
    "start_time": "2022-04-20T14:06:53.995Z"
   },
   {
    "duration": 4,
    "start_time": "2022-04-20T14:06:54.018Z"
   },
   {
    "duration": 20,
    "start_time": "2022-04-20T14:06:54.023Z"
   },
   {
    "duration": 8,
    "start_time": "2022-04-20T14:06:54.044Z"
   },
   {
    "duration": 6,
    "start_time": "2022-04-20T14:06:54.053Z"
   },
   {
    "duration": 17,
    "start_time": "2022-04-20T14:06:54.060Z"
   },
   {
    "duration": 5,
    "start_time": "2022-04-20T14:06:54.079Z"
   },
   {
    "duration": 8,
    "start_time": "2022-04-20T14:06:54.086Z"
   },
   {
    "duration": 279,
    "start_time": "2022-04-20T14:06:54.095Z"
   },
   {
    "duration": 242,
    "start_time": "2022-04-20T14:06:54.375Z"
   },
   {
    "duration": 172,
    "start_time": "2022-04-20T14:06:54.619Z"
   },
   {
    "duration": 303,
    "start_time": "2022-04-20T14:06:54.793Z"
   },
   {
    "duration": 7,
    "start_time": "2022-04-20T14:06:55.098Z"
   },
   {
    "duration": 8,
    "start_time": "2022-04-20T14:06:55.106Z"
   },
   {
    "duration": 12,
    "start_time": "2022-04-20T14:06:55.115Z"
   },
   {
    "duration": 7,
    "start_time": "2022-04-20T14:06:55.129Z"
   },
   {
    "duration": 11,
    "start_time": "2022-04-20T14:06:55.137Z"
   },
   {
    "duration": 25,
    "start_time": "2022-04-20T14:06:55.150Z"
   },
   {
    "duration": 6,
    "start_time": "2022-04-20T14:15:12.159Z"
   },
   {
    "duration": 127,
    "start_time": "2022-04-20T14:17:53.448Z"
   },
   {
    "duration": 166,
    "start_time": "2022-04-20T14:19:55.086Z"
   },
   {
    "duration": 294,
    "start_time": "2022-04-20T14:19:59.256Z"
   },
   {
    "duration": 7,
    "start_time": "2022-04-20T14:24:27.317Z"
   },
   {
    "duration": 14,
    "start_time": "2022-04-20T14:25:04.059Z"
   },
   {
    "duration": 6,
    "start_time": "2022-04-20T14:25:18.350Z"
   },
   {
    "duration": 13,
    "start_time": "2022-04-20T14:25:24.776Z"
   },
   {
    "duration": 7,
    "start_time": "2022-04-20T14:27:06.292Z"
   },
   {
    "duration": 7,
    "start_time": "2022-04-20T14:27:28.124Z"
   },
   {
    "duration": 6,
    "start_time": "2022-04-20T14:27:42.590Z"
   },
   {
    "duration": 6,
    "start_time": "2022-04-20T14:27:49.940Z"
   },
   {
    "duration": 6,
    "start_time": "2022-04-20T14:27:51.523Z"
   },
   {
    "duration": 7,
    "start_time": "2022-04-20T14:27:52.049Z"
   },
   {
    "duration": 7,
    "start_time": "2022-04-20T14:27:52.513Z"
   },
   {
    "duration": 9,
    "start_time": "2022-04-20T14:28:23.379Z"
   },
   {
    "duration": 1197,
    "start_time": "2022-04-20T14:28:33.687Z"
   },
   {
    "duration": 42,
    "start_time": "2022-04-20T14:28:34.887Z"
   },
   {
    "duration": 3,
    "start_time": "2022-04-20T14:28:34.931Z"
   },
   {
    "duration": 53,
    "start_time": "2022-04-20T14:28:34.936Z"
   },
   {
    "duration": 37,
    "start_time": "2022-04-20T14:28:34.991Z"
   },
   {
    "duration": 49,
    "start_time": "2022-04-20T14:28:35.029Z"
   },
   {
    "duration": 4,
    "start_time": "2022-04-20T14:28:35.081Z"
   },
   {
    "duration": 19,
    "start_time": "2022-04-20T14:28:35.087Z"
   },
   {
    "duration": 24,
    "start_time": "2022-04-20T14:28:35.108Z"
   },
   {
    "duration": 13,
    "start_time": "2022-04-20T14:28:35.136Z"
   },
   {
    "duration": 7,
    "start_time": "2022-04-20T14:28:35.150Z"
   },
   {
    "duration": 29,
    "start_time": "2022-04-20T14:28:35.158Z"
   },
   {
    "duration": 9,
    "start_time": "2022-04-20T14:28:35.189Z"
   },
   {
    "duration": 12,
    "start_time": "2022-04-20T14:28:35.200Z"
   },
   {
    "duration": 11,
    "start_time": "2022-04-20T14:28:35.214Z"
   },
   {
    "duration": 9,
    "start_time": "2022-04-20T14:28:35.226Z"
   },
   {
    "duration": 10,
    "start_time": "2022-04-20T14:28:35.237Z"
   },
   {
    "duration": 10,
    "start_time": "2022-04-20T14:28:35.248Z"
   },
   {
    "duration": 16,
    "start_time": "2022-04-20T14:28:35.260Z"
   },
   {
    "duration": 9,
    "start_time": "2022-04-20T14:28:35.277Z"
   },
   {
    "duration": 26,
    "start_time": "2022-04-20T14:28:35.288Z"
   },
   {
    "duration": 16,
    "start_time": "2022-04-20T14:28:35.316Z"
   },
   {
    "duration": 111,
    "start_time": "2022-04-20T14:28:35.334Z"
   },
   {
    "duration": 0,
    "start_time": "2022-04-20T14:28:35.447Z"
   },
   {
    "duration": 0,
    "start_time": "2022-04-20T14:28:35.448Z"
   },
   {
    "duration": 0,
    "start_time": "2022-04-20T14:28:35.450Z"
   },
   {
    "duration": 0,
    "start_time": "2022-04-20T14:28:35.451Z"
   },
   {
    "duration": 0,
    "start_time": "2022-04-20T14:28:35.452Z"
   },
   {
    "duration": 0,
    "start_time": "2022-04-20T14:28:35.454Z"
   },
   {
    "duration": 0,
    "start_time": "2022-04-20T14:28:35.455Z"
   },
   {
    "duration": 0,
    "start_time": "2022-04-20T14:28:35.472Z"
   },
   {
    "duration": 0,
    "start_time": "2022-04-20T14:28:35.474Z"
   },
   {
    "duration": 0,
    "start_time": "2022-04-20T14:28:35.476Z"
   },
   {
    "duration": 0,
    "start_time": "2022-04-20T14:28:35.477Z"
   },
   {
    "duration": 0,
    "start_time": "2022-04-20T14:28:35.478Z"
   },
   {
    "duration": 261,
    "start_time": "2022-04-20T14:31:45.700Z"
   },
   {
    "duration": 257,
    "start_time": "2022-04-20T14:31:52.194Z"
   },
   {
    "duration": 262,
    "start_time": "2022-04-20T14:31:57.331Z"
   },
   {
    "duration": 248,
    "start_time": "2022-04-20T14:33:58.187Z"
   },
   {
    "duration": 174,
    "start_time": "2022-04-20T14:34:25.068Z"
   },
   {
    "duration": 307,
    "start_time": "2022-04-20T14:41:28.666Z"
   },
   {
    "duration": 180,
    "start_time": "2022-04-20T14:41:38.592Z"
   },
   {
    "duration": 197,
    "start_time": "2022-04-20T14:41:48.684Z"
   },
   {
    "duration": 201,
    "start_time": "2022-04-20T14:43:56.284Z"
   },
   {
    "duration": 198,
    "start_time": "2022-04-20T14:44:24.604Z"
   },
   {
    "duration": 254,
    "start_time": "2022-04-20T14:51:21.813Z"
   },
   {
    "duration": 189,
    "start_time": "2022-04-20T14:51:35.269Z"
   },
   {
    "duration": 6,
    "start_time": "2022-04-20T14:51:56.795Z"
   },
   {
    "duration": 221,
    "start_time": "2022-04-20T14:52:02.464Z"
   },
   {
    "duration": 205,
    "start_time": "2022-04-20T14:52:05.461Z"
   },
   {
    "duration": 196,
    "start_time": "2022-04-20T14:53:31.611Z"
   },
   {
    "duration": 258,
    "start_time": "2022-04-20T15:03:12.194Z"
   },
   {
    "duration": 290,
    "start_time": "2022-04-20T15:03:25.259Z"
   },
   {
    "duration": 110,
    "start_time": "2022-04-20T15:14:50.543Z"
   },
   {
    "duration": 191,
    "start_time": "2022-04-20T15:16:39.186Z"
   },
   {
    "duration": 173,
    "start_time": "2022-04-20T15:16:44.177Z"
   },
   {
    "duration": 206,
    "start_time": "2022-04-20T15:16:57.294Z"
   },
   {
    "duration": 194,
    "start_time": "2022-04-20T15:19:56.442Z"
   },
   {
    "duration": 305,
    "start_time": "2022-04-20T15:20:10.512Z"
   },
   {
    "duration": 209,
    "start_time": "2022-04-20T15:22:29.078Z"
   },
   {
    "duration": 283,
    "start_time": "2022-04-20T15:24:46.283Z"
   },
   {
    "duration": 226,
    "start_time": "2022-04-20T15:25:19.734Z"
   },
   {
    "duration": 286,
    "start_time": "2022-04-20T15:25:59.124Z"
   },
   {
    "duration": 258,
    "start_time": "2022-04-20T15:26:09.617Z"
   },
   {
    "duration": 323,
    "start_time": "2022-04-20T15:26:22.036Z"
   },
   {
    "duration": 299,
    "start_time": "2022-04-20T15:26:50.831Z"
   },
   {
    "duration": 358,
    "start_time": "2022-04-20T15:27:26.755Z"
   },
   {
    "duration": 324,
    "start_time": "2022-04-20T15:27:54.291Z"
   },
   {
    "duration": 334,
    "start_time": "2022-04-20T15:27:58.368Z"
   },
   {
    "duration": 448,
    "start_time": "2022-04-20T15:28:06.048Z"
   },
   {
    "duration": 326,
    "start_time": "2022-04-20T15:29:58.234Z"
   },
   {
    "duration": 331,
    "start_time": "2022-04-20T15:30:09.184Z"
   },
   {
    "duration": 309,
    "start_time": "2022-04-20T15:43:12.907Z"
   },
   {
    "duration": 9,
    "start_time": "2022-04-20T15:48:10.039Z"
   },
   {
    "duration": 115,
    "start_time": "2022-04-20T15:49:57.853Z"
   },
   {
    "duration": 113,
    "start_time": "2022-04-20T15:50:10.153Z"
   },
   {
    "duration": 110,
    "start_time": "2022-04-20T15:50:24.080Z"
   },
   {
    "duration": 75,
    "start_time": "2022-04-20T15:51:08.555Z"
   },
   {
    "duration": 149,
    "start_time": "2022-04-20T15:51:20.068Z"
   },
   {
    "duration": 6,
    "start_time": "2022-04-20T15:51:53.804Z"
   },
   {
    "duration": 114,
    "start_time": "2022-04-20T15:56:06.641Z"
   },
   {
    "duration": 14,
    "start_time": "2022-04-20T15:58:26.495Z"
   },
   {
    "duration": 9,
    "start_time": "2022-04-20T15:59:35.909Z"
   },
   {
    "duration": 124,
    "start_time": "2022-04-20T16:00:08.310Z"
   },
   {
    "duration": 122,
    "start_time": "2022-04-20T16:03:51.211Z"
   },
   {
    "duration": 118,
    "start_time": "2022-04-20T16:03:58.703Z"
   },
   {
    "duration": 220,
    "start_time": "2022-04-20T16:04:14.185Z"
   },
   {
    "duration": 9,
    "start_time": "2022-04-20T16:04:58.045Z"
   },
   {
    "duration": 164,
    "start_time": "2022-04-20T16:05:10.766Z"
   },
   {
    "duration": 5,
    "start_time": "2022-04-20T16:05:18.730Z"
   },
   {
    "duration": 118,
    "start_time": "2022-04-20T16:08:26.961Z"
   },
   {
    "duration": 118,
    "start_time": "2022-04-20T16:09:02.833Z"
   },
   {
    "duration": 1100,
    "start_time": "2022-04-20T16:09:08.124Z"
   },
   {
    "duration": 43,
    "start_time": "2022-04-20T16:09:09.226Z"
   },
   {
    "duration": 3,
    "start_time": "2022-04-20T16:09:09.270Z"
   },
   {
    "duration": 40,
    "start_time": "2022-04-20T16:09:09.275Z"
   },
   {
    "duration": 32,
    "start_time": "2022-04-20T16:09:09.317Z"
   },
   {
    "duration": 150,
    "start_time": "2022-04-20T16:09:09.350Z"
   },
   {
    "duration": 27,
    "start_time": "2022-04-20T16:09:09.501Z"
   },
   {
    "duration": 3,
    "start_time": "2022-04-20T16:09:09.530Z"
   },
   {
    "duration": 7,
    "start_time": "2022-04-20T16:09:09.535Z"
   },
   {
    "duration": 36,
    "start_time": "2022-04-20T16:09:09.545Z"
   },
   {
    "duration": 19,
    "start_time": "2022-04-20T16:09:09.583Z"
   },
   {
    "duration": 5,
    "start_time": "2022-04-20T16:09:09.604Z"
   },
   {
    "duration": 15,
    "start_time": "2022-04-20T16:09:09.610Z"
   },
   {
    "duration": 8,
    "start_time": "2022-04-20T16:09:09.627Z"
   },
   {
    "duration": 7,
    "start_time": "2022-04-20T16:09:09.636Z"
   },
   {
    "duration": 28,
    "start_time": "2022-04-20T16:09:09.645Z"
   },
   {
    "duration": 4,
    "start_time": "2022-04-20T16:09:09.675Z"
   },
   {
    "duration": 14,
    "start_time": "2022-04-20T16:09:09.681Z"
   },
   {
    "duration": 17,
    "start_time": "2022-04-20T16:09:09.697Z"
   },
   {
    "duration": 38,
    "start_time": "2022-04-20T16:09:09.716Z"
   },
   {
    "duration": 11,
    "start_time": "2022-04-20T16:09:09.756Z"
   },
   {
    "duration": 9,
    "start_time": "2022-04-20T16:09:09.768Z"
   },
   {
    "duration": 9,
    "start_time": "2022-04-20T16:09:09.779Z"
   },
   {
    "duration": 274,
    "start_time": "2022-04-20T16:09:09.790Z"
   },
   {
    "duration": 275,
    "start_time": "2022-04-20T16:09:10.066Z"
   },
   {
    "duration": 212,
    "start_time": "2022-04-20T16:09:10.342Z"
   },
   {
    "duration": 319,
    "start_time": "2022-04-20T16:09:10.556Z"
   },
   {
    "duration": 231,
    "start_time": "2022-04-20T16:09:10.879Z"
   },
   {
    "duration": 311,
    "start_time": "2022-04-20T16:09:11.111Z"
   },
   {
    "duration": 123,
    "start_time": "2022-04-20T16:09:11.424Z"
   },
   {
    "duration": 4,
    "start_time": "2022-04-20T16:09:11.549Z"
   },
   {
    "duration": 23,
    "start_time": "2022-04-20T16:09:11.555Z"
   },
   {
    "duration": 209,
    "start_time": "2022-04-20T16:09:11.580Z"
   },
   {
    "duration": 111,
    "start_time": "2022-04-20T16:10:22.022Z"
   },
   {
    "duration": 116,
    "start_time": "2022-04-20T16:16:00.495Z"
   },
   {
    "duration": 5,
    "start_time": "2022-04-20T16:16:33.863Z"
   },
   {
    "duration": 3,
    "start_time": "2022-04-20T18:23:29.726Z"
   },
   {
    "duration": 9,
    "start_time": "2022-04-20T18:23:30.692Z"
   },
   {
    "duration": 3,
    "start_time": "2022-04-20T18:26:15.548Z"
   },
   {
    "duration": 8,
    "start_time": "2022-04-20T18:26:16.512Z"
   },
   {
    "duration": 150,
    "start_time": "2022-04-20T18:29:30.205Z"
   },
   {
    "duration": 7,
    "start_time": "2022-04-20T18:30:47.511Z"
   },
   {
    "duration": 147,
    "start_time": "2022-04-20T18:30:48.231Z"
   },
   {
    "duration": 143,
    "start_time": "2022-04-20T18:31:15.779Z"
   },
   {
    "duration": 10,
    "start_time": "2022-04-20T18:32:00.560Z"
   },
   {
    "duration": 7,
    "start_time": "2022-04-20T18:32:05.046Z"
   },
   {
    "duration": 5,
    "start_time": "2022-04-20T18:33:41.393Z"
   },
   {
    "duration": 5,
    "start_time": "2022-04-20T18:34:57.067Z"
   },
   {
    "duration": 5,
    "start_time": "2022-04-20T18:36:59.559Z"
   },
   {
    "duration": 103,
    "start_time": "2022-04-20T18:39:44.967Z"
   },
   {
    "duration": 11,
    "start_time": "2022-04-20T18:43:01.876Z"
   },
   {
    "duration": 11,
    "start_time": "2022-04-20T18:43:28.329Z"
   },
   {
    "duration": 1145,
    "start_time": "2022-04-20T18:43:41.323Z"
   },
   {
    "duration": 36,
    "start_time": "2022-04-20T18:43:42.471Z"
   },
   {
    "duration": 3,
    "start_time": "2022-04-20T18:43:42.509Z"
   },
   {
    "duration": 40,
    "start_time": "2022-04-20T18:43:42.514Z"
   },
   {
    "duration": 34,
    "start_time": "2022-04-20T18:43:42.555Z"
   },
   {
    "duration": 26,
    "start_time": "2022-04-20T18:43:42.590Z"
   },
   {
    "duration": 3,
    "start_time": "2022-04-20T18:43:42.618Z"
   },
   {
    "duration": 7,
    "start_time": "2022-04-20T18:43:42.622Z"
   },
   {
    "duration": 14,
    "start_time": "2022-04-20T18:43:42.631Z"
   },
   {
    "duration": 13,
    "start_time": "2022-04-20T18:43:42.673Z"
   },
   {
    "duration": 5,
    "start_time": "2022-04-20T18:43:42.688Z"
   },
   {
    "duration": 12,
    "start_time": "2022-04-20T18:43:42.694Z"
   },
   {
    "duration": 2,
    "start_time": "2022-04-20T18:43:42.708Z"
   },
   {
    "duration": 10,
    "start_time": "2022-04-20T18:43:42.712Z"
   },
   {
    "duration": 5,
    "start_time": "2022-04-20T18:43:42.723Z"
   },
   {
    "duration": 9,
    "start_time": "2022-04-20T18:43:42.730Z"
   },
   {
    "duration": 5,
    "start_time": "2022-04-20T18:43:42.773Z"
   },
   {
    "duration": 10,
    "start_time": "2022-04-20T18:43:42.780Z"
   },
   {
    "duration": 10,
    "start_time": "2022-04-20T18:43:42.792Z"
   },
   {
    "duration": 6,
    "start_time": "2022-04-20T18:43:42.803Z"
   },
   {
    "duration": 8,
    "start_time": "2022-04-20T18:43:42.811Z"
   },
   {
    "duration": 6,
    "start_time": "2022-04-20T18:43:42.821Z"
   },
   {
    "duration": 8,
    "start_time": "2022-04-20T18:43:42.828Z"
   },
   {
    "duration": 295,
    "start_time": "2022-04-20T18:43:42.837Z"
   },
   {
    "duration": 103,
    "start_time": "2022-04-20T18:43:43.133Z"
   },
   {
    "duration": 0,
    "start_time": "2022-04-20T18:43:43.238Z"
   },
   {
    "duration": 0,
    "start_time": "2022-04-20T18:43:43.239Z"
   },
   {
    "duration": 0,
    "start_time": "2022-04-20T18:43:43.240Z"
   },
   {
    "duration": 0,
    "start_time": "2022-04-20T18:43:43.241Z"
   },
   {
    "duration": 0,
    "start_time": "2022-04-20T18:43:43.242Z"
   },
   {
    "duration": 0,
    "start_time": "2022-04-20T18:43:43.244Z"
   },
   {
    "duration": 0,
    "start_time": "2022-04-20T18:43:43.245Z"
   },
   {
    "duration": 0,
    "start_time": "2022-04-20T18:43:43.246Z"
   },
   {
    "duration": 0,
    "start_time": "2022-04-20T18:43:43.248Z"
   },
   {
    "duration": 0,
    "start_time": "2022-04-20T18:43:43.249Z"
   },
   {
    "duration": 3,
    "start_time": "2022-04-20T18:43:53.935Z"
   },
   {
    "duration": 5,
    "start_time": "2022-04-20T18:44:06.537Z"
   },
   {
    "duration": 1227,
    "start_time": "2022-04-20T18:44:15.144Z"
   },
   {
    "duration": 37,
    "start_time": "2022-04-20T18:44:16.373Z"
   },
   {
    "duration": 4,
    "start_time": "2022-04-20T18:44:16.411Z"
   },
   {
    "duration": 41,
    "start_time": "2022-04-20T18:44:16.417Z"
   },
   {
    "duration": 33,
    "start_time": "2022-04-20T18:44:16.460Z"
   },
   {
    "duration": 26,
    "start_time": "2022-04-20T18:44:16.495Z"
   },
   {
    "duration": 3,
    "start_time": "2022-04-20T18:44:16.522Z"
   },
   {
    "duration": 7,
    "start_time": "2022-04-20T18:44:16.527Z"
   },
   {
    "duration": 39,
    "start_time": "2022-04-20T18:44:16.535Z"
   },
   {
    "duration": 13,
    "start_time": "2022-04-20T18:44:16.577Z"
   },
   {
    "duration": 5,
    "start_time": "2022-04-20T18:44:16.592Z"
   },
   {
    "duration": 20,
    "start_time": "2022-04-20T18:44:16.599Z"
   },
   {
    "duration": 3,
    "start_time": "2022-04-20T18:44:16.621Z"
   },
   {
    "duration": 12,
    "start_time": "2022-04-20T18:44:16.626Z"
   },
   {
    "duration": 6,
    "start_time": "2022-04-20T18:44:16.640Z"
   },
   {
    "duration": 30,
    "start_time": "2022-04-20T18:44:16.648Z"
   },
   {
    "duration": 7,
    "start_time": "2022-04-20T18:44:16.679Z"
   },
   {
    "duration": 10,
    "start_time": "2022-04-20T18:44:16.688Z"
   },
   {
    "duration": 23,
    "start_time": "2022-04-20T18:44:16.700Z"
   },
   {
    "duration": 7,
    "start_time": "2022-04-20T18:44:16.725Z"
   },
   {
    "duration": 11,
    "start_time": "2022-04-20T18:44:16.734Z"
   },
   {
    "duration": 15,
    "start_time": "2022-04-20T18:44:16.746Z"
   },
   {
    "duration": 9,
    "start_time": "2022-04-20T18:44:16.763Z"
   },
   {
    "duration": 269,
    "start_time": "2022-04-20T18:44:16.773Z"
   },
   {
    "duration": 3,
    "start_time": "2022-04-20T18:44:17.044Z"
   },
   {
    "duration": 281,
    "start_time": "2022-04-20T18:44:17.049Z"
   },
   {
    "duration": 199,
    "start_time": "2022-04-20T18:44:17.332Z"
   },
   {
    "duration": 281,
    "start_time": "2022-04-20T18:44:17.534Z"
   },
   {
    "duration": 218,
    "start_time": "2022-04-20T18:44:17.817Z"
   },
   {
    "duration": 359,
    "start_time": "2022-04-20T18:44:18.037Z"
   },
   {
    "duration": 7,
    "start_time": "2022-04-20T18:44:18.397Z"
   },
   {
    "duration": 162,
    "start_time": "2022-04-20T18:44:18.405Z"
   },
   {
    "duration": 6,
    "start_time": "2022-04-20T18:44:18.569Z"
   },
   {
    "duration": 147,
    "start_time": "2022-04-20T18:44:18.576Z"
   },
   {
    "duration": 4,
    "start_time": "2022-04-20T18:44:18.725Z"
   },
   {
    "duration": 1918,
    "start_time": "2022-04-26T08:32:35.721Z"
   },
   {
    "duration": 137,
    "start_time": "2022-04-26T08:32:37.645Z"
   },
   {
    "duration": 4,
    "start_time": "2022-04-26T08:32:37.784Z"
   },
   {
    "duration": 90,
    "start_time": "2022-04-26T08:32:37.792Z"
   },
   {
    "duration": 68,
    "start_time": "2022-04-26T08:32:37.885Z"
   },
   {
    "duration": 66,
    "start_time": "2022-04-26T08:32:37.957Z"
   },
   {
    "duration": 12,
    "start_time": "2022-04-26T08:32:38.025Z"
   },
   {
    "duration": 11,
    "start_time": "2022-04-26T08:32:38.039Z"
   },
   {
    "duration": 23,
    "start_time": "2022-04-26T08:32:38.052Z"
   },
   {
    "duration": 50,
    "start_time": "2022-04-26T08:32:38.080Z"
   },
   {
    "duration": 8,
    "start_time": "2022-04-26T08:32:38.132Z"
   },
   {
    "duration": 24,
    "start_time": "2022-04-26T08:32:38.142Z"
   },
   {
    "duration": 6,
    "start_time": "2022-04-26T08:32:38.169Z"
   },
   {
    "duration": 30,
    "start_time": "2022-04-26T08:32:38.178Z"
   },
   {
    "duration": 25,
    "start_time": "2022-04-26T08:32:38.216Z"
   },
   {
    "duration": 15,
    "start_time": "2022-04-26T08:32:38.244Z"
   },
   {
    "duration": 6,
    "start_time": "2022-04-26T08:32:38.261Z"
   },
   {
    "duration": 33,
    "start_time": "2022-04-26T08:32:38.270Z"
   },
   {
    "duration": 25,
    "start_time": "2022-04-26T08:32:38.306Z"
   },
   {
    "duration": 12,
    "start_time": "2022-04-26T08:32:38.333Z"
   },
   {
    "duration": 15,
    "start_time": "2022-04-26T08:32:38.347Z"
   },
   {
    "duration": 43,
    "start_time": "2022-04-26T08:32:38.365Z"
   },
   {
    "duration": 23,
    "start_time": "2022-04-26T08:32:38.411Z"
   },
   {
    "duration": 630,
    "start_time": "2022-04-26T08:32:38.437Z"
   },
   {
    "duration": 6,
    "start_time": "2022-04-26T08:32:39.070Z"
   },
   {
    "duration": 656,
    "start_time": "2022-04-26T08:32:39.100Z"
   },
   {
    "duration": 482,
    "start_time": "2022-04-26T08:32:39.758Z"
   },
   {
    "duration": 566,
    "start_time": "2022-04-26T08:32:40.247Z"
   },
   {
    "duration": 503,
    "start_time": "2022-04-26T08:32:40.816Z"
   },
   {
    "duration": 495,
    "start_time": "2022-04-26T08:32:41.321Z"
   },
   {
    "duration": 12,
    "start_time": "2022-04-26T08:32:41.819Z"
   },
   {
    "duration": 326,
    "start_time": "2022-04-26T08:32:41.834Z"
   },
   {
    "duration": 6,
    "start_time": "2022-04-26T08:32:42.163Z"
   },
   {
    "duration": 303,
    "start_time": "2022-04-26T08:32:42.171Z"
   },
   {
    "duration": 14,
    "start_time": "2022-04-26T08:32:42.479Z"
   },
   {
    "duration": 451,
    "start_time": "2022-04-26T08:38:23.872Z"
   },
   {
    "duration": 191,
    "start_time": "2022-04-26T08:39:12.127Z"
   },
   {
    "duration": 355,
    "start_time": "2022-04-26T08:40:41.445Z"
   },
   {
    "duration": 20,
    "start_time": "2022-04-26T08:41:06.500Z"
   },
   {
    "duration": 257,
    "start_time": "2022-04-26T08:42:44.417Z"
   },
   {
    "duration": 22,
    "start_time": "2022-04-26T08:43:00.396Z"
   },
   {
    "duration": 19,
    "start_time": "2022-04-26T08:43:18.008Z"
   },
   {
    "duration": 36,
    "start_time": "2022-04-26T08:43:54.870Z"
   },
   {
    "duration": 14,
    "start_time": "2022-04-26T08:45:37.680Z"
   },
   {
    "duration": 19,
    "start_time": "2022-04-26T08:45:43.303Z"
   },
   {
    "duration": 0,
    "start_time": "2022-04-27T08:45:01.827Z"
   },
   {
    "duration": 1524,
    "start_time": "2022-04-27T08:45:01.889Z"
   },
   {
    "duration": 120,
    "start_time": "2022-04-27T08:45:03.416Z"
   },
   {
    "duration": 4,
    "start_time": "2022-04-27T08:45:03.538Z"
   },
   {
    "duration": 70,
    "start_time": "2022-04-27T08:45:03.544Z"
   },
   {
    "duration": 53,
    "start_time": "2022-04-27T08:45:03.616Z"
   },
   {
    "duration": 37,
    "start_time": "2022-04-27T08:45:03.671Z"
   },
   {
    "duration": 4,
    "start_time": "2022-04-27T08:45:03.710Z"
   },
   {
    "duration": 29,
    "start_time": "2022-04-27T08:45:03.715Z"
   },
   {
    "duration": 25,
    "start_time": "2022-04-27T08:45:03.746Z"
   },
   {
    "duration": 16,
    "start_time": "2022-04-27T08:45:03.774Z"
   },
   {
    "duration": 13,
    "start_time": "2022-04-27T08:45:03.792Z"
   },
   {
    "duration": 23,
    "start_time": "2022-04-27T08:45:03.807Z"
   },
   {
    "duration": 24,
    "start_time": "2022-04-27T08:45:03.833Z"
   },
   {
    "duration": 14,
    "start_time": "2022-04-27T08:45:03.859Z"
   },
   {
    "duration": 26,
    "start_time": "2022-04-27T08:45:03.875Z"
   },
   {
    "duration": 16,
    "start_time": "2022-04-27T08:45:03.903Z"
   },
   {
    "duration": 9,
    "start_time": "2022-04-27T08:45:03.921Z"
   },
   {
    "duration": 32,
    "start_time": "2022-04-27T08:45:03.932Z"
   },
   {
    "duration": 13,
    "start_time": "2022-04-27T08:45:03.966Z"
   },
   {
    "duration": 17,
    "start_time": "2022-04-27T08:45:03.981Z"
   },
   {
    "duration": 14,
    "start_time": "2022-04-27T08:45:04.001Z"
   },
   {
    "duration": 12,
    "start_time": "2022-04-27T08:45:04.017Z"
   },
   {
    "duration": 31,
    "start_time": "2022-04-27T08:45:04.031Z"
   },
   {
    "duration": 310,
    "start_time": "2022-04-27T08:45:04.064Z"
   },
   {
    "duration": 4,
    "start_time": "2022-04-27T08:45:04.376Z"
   },
   {
    "duration": 374,
    "start_time": "2022-04-27T08:45:04.381Z"
   },
   {
    "duration": 266,
    "start_time": "2022-04-27T08:45:04.757Z"
   },
   {
    "duration": 383,
    "start_time": "2022-04-27T08:45:05.027Z"
   },
   {
    "duration": 264,
    "start_time": "2022-04-27T08:45:05.413Z"
   },
   {
    "duration": 407,
    "start_time": "2022-04-27T08:45:05.680Z"
   },
   {
    "duration": 8,
    "start_time": "2022-04-27T08:45:06.089Z"
   },
   {
    "duration": 208,
    "start_time": "2022-04-27T08:45:06.098Z"
   },
   {
    "duration": 5,
    "start_time": "2022-04-27T08:45:06.307Z"
   },
   {
    "duration": 282,
    "start_time": "2022-04-27T08:45:06.313Z"
   },
   {
    "duration": 5,
    "start_time": "2022-04-27T08:45:06.597Z"
   },
   {
    "duration": 276,
    "start_time": "2022-04-27T08:45:06.603Z"
   },
   {
    "duration": 166,
    "start_time": "2022-04-27T08:45:06.881Z"
   },
   {
    "duration": 32,
    "start_time": "2022-04-27T08:45:07.049Z"
   },
   {
    "duration": 12,
    "start_time": "2022-04-27T08:45:07.084Z"
   },
   {
    "duration": 146,
    "start_time": "2022-04-27T08:56:13.517Z"
   },
   {
    "duration": 5,
    "start_time": "2022-04-27T08:57:59.178Z"
   },
   {
    "duration": 5,
    "start_time": "2022-04-27T08:58:15.130Z"
   },
   {
    "duration": 834,
    "start_time": "2022-04-27T09:01:00.128Z"
   },
   {
    "duration": 309,
    "start_time": "2022-04-27T09:01:55.590Z"
   },
   {
    "duration": 5,
    "start_time": "2022-04-27T09:03:12.774Z"
   },
   {
    "duration": 6,
    "start_time": "2022-04-27T09:04:16.254Z"
   },
   {
    "duration": 5,
    "start_time": "2022-04-27T09:04:44.708Z"
   },
   {
    "duration": 5,
    "start_time": "2022-04-27T09:04:56.282Z"
   },
   {
    "duration": 25,
    "start_time": "2022-04-27T09:06:15.955Z"
   },
   {
    "duration": 4,
    "start_time": "2022-04-27T09:08:27.199Z"
   },
   {
    "duration": 4,
    "start_time": "2022-04-27T09:09:27.708Z"
   },
   {
    "duration": 6,
    "start_time": "2022-04-27T09:18:33.147Z"
   },
   {
    "duration": 6,
    "start_time": "2022-04-27T09:18:52.256Z"
   },
   {
    "duration": 8,
    "start_time": "2022-04-27T09:19:02.028Z"
   },
   {
    "duration": 150,
    "start_time": "2022-04-27T09:19:40.949Z"
   },
   {
    "duration": 10,
    "start_time": "2022-04-27T09:20:43.665Z"
   },
   {
    "duration": 9,
    "start_time": "2022-04-27T09:20:59.675Z"
   },
   {
    "duration": 6,
    "start_time": "2022-04-27T09:21:35.624Z"
   },
   {
    "duration": 158,
    "start_time": "2022-04-27T09:21:56.977Z"
   },
   {
    "duration": 11,
    "start_time": "2022-04-27T09:22:15.928Z"
   },
   {
    "duration": 2759,
    "start_time": "2022-04-27T09:33:14.567Z"
   },
   {
    "duration": 147,
    "start_time": "2022-04-27T09:33:59.461Z"
   },
   {
    "duration": 2892,
    "start_time": "2022-04-27T09:34:05.280Z"
   },
   {
    "duration": 2626,
    "start_time": "2022-04-27T09:34:57.132Z"
   },
   {
    "duration": 6894,
    "start_time": "2022-04-27T09:35:39.962Z"
   },
   {
    "duration": 8,
    "start_time": "2022-04-27T09:35:59.700Z"
   },
   {
    "duration": 5235,
    "start_time": "2022-04-27T09:36:21.662Z"
   },
   {
    "duration": 9,
    "start_time": "2022-04-27T09:37:28.910Z"
   },
   {
    "duration": 10,
    "start_time": "2022-04-27T09:38:11.466Z"
   },
   {
    "duration": 182,
    "start_time": "2022-04-27T09:38:49.730Z"
   },
   {
    "duration": 8,
    "start_time": "2022-04-27T09:39:05.622Z"
   },
   {
    "duration": 7,
    "start_time": "2022-04-27T09:39:34.670Z"
   },
   {
    "duration": 13,
    "start_time": "2022-04-27T09:40:52.235Z"
   },
   {
    "duration": 9,
    "start_time": "2022-04-27T09:42:03.382Z"
   },
   {
    "duration": 13,
    "start_time": "2022-04-27T09:43:37.455Z"
   },
   {
    "duration": 26,
    "start_time": "2022-04-27T09:43:44.288Z"
   },
   {
    "duration": 184,
    "start_time": "2022-04-27T09:44:47.963Z"
   },
   {
    "duration": 158,
    "start_time": "2022-04-27T09:44:57.030Z"
   },
   {
    "duration": 3,
    "start_time": "2022-04-27T09:45:10.183Z"
   },
   {
    "duration": 10,
    "start_time": "2022-04-27T09:45:55.119Z"
   },
   {
    "duration": 2692,
    "start_time": "2022-04-27T09:46:07.990Z"
   },
   {
    "duration": 13,
    "start_time": "2022-04-27T09:47:02.460Z"
   },
   {
    "duration": 11,
    "start_time": "2022-04-27T09:48:09.423Z"
   },
   {
    "duration": 7,
    "start_time": "2022-04-27T11:08:59.160Z"
   },
   {
    "duration": 12,
    "start_time": "2022-04-27T11:16:27.026Z"
   },
   {
    "duration": 29,
    "start_time": "2022-04-27T11:19:30.651Z"
   },
   {
    "duration": 5,
    "start_time": "2022-04-27T11:20:59.902Z"
   },
   {
    "duration": 5,
    "start_time": "2022-04-27T11:21:07.463Z"
   },
   {
    "duration": 5,
    "start_time": "2022-04-27T11:21:36.275Z"
   },
   {
    "duration": 150,
    "start_time": "2022-04-27T11:27:11.159Z"
   },
   {
    "duration": 8,
    "start_time": "2022-04-27T11:27:21.690Z"
   },
   {
    "duration": 2742,
    "start_time": "2022-04-27T11:27:23.170Z"
   },
   {
    "duration": 8,
    "start_time": "2022-04-27T11:27:36.675Z"
   },
   {
    "duration": 6,
    "start_time": "2022-04-27T11:29:58.755Z"
   },
   {
    "duration": 6,
    "start_time": "2022-04-27T11:30:00.969Z"
   },
   {
    "duration": 14,
    "start_time": "2022-04-27T11:30:08.047Z"
   },
   {
    "duration": 6,
    "start_time": "2022-04-27T11:30:36.159Z"
   },
   {
    "duration": 5,
    "start_time": "2022-04-27T11:33:27.697Z"
   },
   {
    "duration": 7,
    "start_time": "2022-04-27T11:34:39.733Z"
   },
   {
    "duration": 8,
    "start_time": "2022-04-27T11:34:58.753Z"
   },
   {
    "duration": 6,
    "start_time": "2022-04-27T11:35:20.678Z"
   },
   {
    "duration": 5,
    "start_time": "2022-04-27T11:37:04.318Z"
   },
   {
    "duration": 8,
    "start_time": "2022-04-27T11:39:17.587Z"
   },
   {
    "duration": 4,
    "start_time": "2022-04-27T11:41:09.597Z"
   },
   {
    "duration": 6,
    "start_time": "2022-04-27T11:41:10.546Z"
   },
   {
    "duration": 5,
    "start_time": "2022-04-27T11:41:12.669Z"
   },
   {
    "duration": 4,
    "start_time": "2022-04-27T11:41:15.567Z"
   },
   {
    "duration": 9,
    "start_time": "2022-04-27T11:41:19.329Z"
   },
   {
    "duration": 4,
    "start_time": "2022-04-27T11:41:22.180Z"
   },
   {
    "duration": 9,
    "start_time": "2022-04-27T11:43:58.601Z"
   },
   {
    "duration": 9,
    "start_time": "2022-04-27T11:44:03.948Z"
   },
   {
    "duration": 26,
    "start_time": "2022-04-27T11:44:09.055Z"
   },
   {
    "duration": 4,
    "start_time": "2022-04-27T11:44:19.194Z"
   },
   {
    "duration": 5,
    "start_time": "2022-04-27T11:44:44.074Z"
   },
   {
    "duration": 7,
    "start_time": "2022-04-27T11:44:46.052Z"
   },
   {
    "duration": 5,
    "start_time": "2022-04-27T11:44:47.569Z"
   },
   {
    "duration": 4,
    "start_time": "2022-04-27T11:44:51.826Z"
   },
   {
    "duration": 6,
    "start_time": "2022-04-27T11:44:55.172Z"
   },
   {
    "duration": 4,
    "start_time": "2022-04-27T11:44:59.612Z"
   },
   {
    "duration": 1292,
    "start_time": "2022-04-27T11:48:18.282Z"
   },
   {
    "duration": 121,
    "start_time": "2022-04-27T11:48:19.576Z"
   },
   {
    "duration": 3,
    "start_time": "2022-04-27T11:48:19.699Z"
   },
   {
    "duration": 53,
    "start_time": "2022-04-27T11:48:19.704Z"
   },
   {
    "duration": 34,
    "start_time": "2022-04-27T11:48:19.759Z"
   },
   {
    "duration": 57,
    "start_time": "2022-04-27T11:48:19.794Z"
   },
   {
    "duration": 4,
    "start_time": "2022-04-27T11:48:19.855Z"
   },
   {
    "duration": 11,
    "start_time": "2022-04-27T11:48:19.862Z"
   },
   {
    "duration": 17,
    "start_time": "2022-04-27T11:48:19.875Z"
   },
   {
    "duration": 12,
    "start_time": "2022-04-27T11:48:19.895Z"
   },
   {
    "duration": 6,
    "start_time": "2022-04-27T11:48:19.909Z"
   },
   {
    "duration": 37,
    "start_time": "2022-04-27T11:48:19.916Z"
   },
   {
    "duration": 15,
    "start_time": "2022-04-27T11:48:19.955Z"
   },
   {
    "duration": 12,
    "start_time": "2022-04-27T11:48:19.974Z"
   },
   {
    "duration": 9,
    "start_time": "2022-04-27T11:48:19.988Z"
   },
   {
    "duration": 16,
    "start_time": "2022-04-27T11:48:19.998Z"
   },
   {
    "duration": 13,
    "start_time": "2022-04-27T11:48:20.016Z"
   },
   {
    "duration": 37,
    "start_time": "2022-04-27T11:48:20.031Z"
   },
   {
    "duration": 10,
    "start_time": "2022-04-27T11:48:20.070Z"
   },
   {
    "duration": 8,
    "start_time": "2022-04-27T11:48:20.082Z"
   },
   {
    "duration": 10,
    "start_time": "2022-04-27T11:48:20.092Z"
   },
   {
    "duration": 8,
    "start_time": "2022-04-27T11:48:20.103Z"
   },
   {
    "duration": 9,
    "start_time": "2022-04-27T11:48:20.112Z"
   },
   {
    "duration": 303,
    "start_time": "2022-04-27T11:48:20.123Z"
   },
   {
    "duration": 4,
    "start_time": "2022-04-27T11:48:20.428Z"
   },
   {
    "duration": 361,
    "start_time": "2022-04-27T11:48:20.433Z"
   },
   {
    "duration": 251,
    "start_time": "2022-04-27T11:48:20.796Z"
   },
   {
    "duration": 331,
    "start_time": "2022-04-27T11:48:21.056Z"
   },
   {
    "duration": 265,
    "start_time": "2022-04-27T11:48:21.389Z"
   },
   {
    "duration": 375,
    "start_time": "2022-04-27T11:48:21.656Z"
   },
   {
    "duration": 17,
    "start_time": "2022-04-27T11:48:22.033Z"
   },
   {
    "duration": 192,
    "start_time": "2022-04-27T11:48:22.051Z"
   },
   {
    "duration": 7,
    "start_time": "2022-04-27T11:48:22.246Z"
   },
   {
    "duration": 176,
    "start_time": "2022-04-27T11:48:22.255Z"
   },
   {
    "duration": 6,
    "start_time": "2022-04-27T11:48:22.433Z"
   },
   {
    "duration": 347,
    "start_time": "2022-04-27T11:48:22.441Z"
   },
   {
    "duration": 135,
    "start_time": "2022-04-27T11:48:22.790Z"
   },
   {
    "duration": 11,
    "start_time": "2022-04-27T11:48:22.927Z"
   },
   {
    "duration": 28,
    "start_time": "2022-04-27T11:48:22.941Z"
   },
   {
    "duration": 26,
    "start_time": "2022-04-27T11:48:22.971Z"
   },
   {
    "duration": 4,
    "start_time": "2022-04-27T11:48:22.998Z"
   },
   {
    "duration": 8,
    "start_time": "2022-04-27T11:48:23.004Z"
   },
   {
    "duration": 10,
    "start_time": "2022-04-27T11:48:23.014Z"
   },
   {
    "duration": 21,
    "start_time": "2022-04-27T11:48:23.026Z"
   },
   {
    "duration": 15,
    "start_time": "2022-04-27T11:48:23.049Z"
   },
   {
    "duration": 16,
    "start_time": "2022-04-27T11:48:23.066Z"
   },
   {
    "duration": 11,
    "start_time": "2022-04-27T11:48:23.084Z"
   },
   {
    "duration": 24,
    "start_time": "2022-04-27T11:48:23.096Z"
   },
   {
    "duration": 11,
    "start_time": "2022-04-27T11:48:23.121Z"
   },
   {
    "duration": 9,
    "start_time": "2022-04-27T11:48:23.140Z"
   },
   {
    "duration": 14,
    "start_time": "2022-04-27T11:48:23.156Z"
   },
   {
    "duration": 6,
    "start_time": "2022-04-27T11:48:23.172Z"
   },
   {
    "duration": 8,
    "start_time": "2022-04-27T11:48:23.180Z"
   },
   {
    "duration": 8,
    "start_time": "2022-04-27T11:48:23.190Z"
   },
   {
    "duration": 7,
    "start_time": "2022-04-27T11:48:23.200Z"
   },
   {
    "duration": 359,
    "start_time": "2022-04-27T12:16:03.424Z"
   },
   {
    "duration": 166,
    "start_time": "2022-04-27T12:50:19.704Z"
   },
   {
    "duration": 110,
    "start_time": "2022-04-28T11:04:26.892Z"
   },
   {
    "duration": 1239,
    "start_time": "2022-04-28T15:41:14.690Z"
   },
   {
    "duration": 36,
    "start_time": "2022-04-28T15:41:15.931Z"
   },
   {
    "duration": 3,
    "start_time": "2022-04-28T15:41:15.971Z"
   },
   {
    "duration": 38,
    "start_time": "2022-04-28T15:41:15.975Z"
   },
   {
    "duration": 39,
    "start_time": "2022-04-28T15:41:16.015Z"
   },
   {
    "duration": 24,
    "start_time": "2022-04-28T15:41:16.056Z"
   },
   {
    "duration": 2,
    "start_time": "2022-04-28T15:41:16.082Z"
   },
   {
    "duration": 6,
    "start_time": "2022-04-28T15:41:16.086Z"
   },
   {
    "duration": 12,
    "start_time": "2022-04-28T15:41:16.094Z"
   },
   {
    "duration": 15,
    "start_time": "2022-04-28T15:41:16.108Z"
   },
   {
    "duration": 4,
    "start_time": "2022-04-28T15:41:16.147Z"
   },
   {
    "duration": 11,
    "start_time": "2022-04-28T15:41:16.152Z"
   },
   {
    "duration": 2,
    "start_time": "2022-04-28T15:41:16.164Z"
   },
   {
    "duration": 9,
    "start_time": "2022-04-28T15:41:16.168Z"
   },
   {
    "duration": 4,
    "start_time": "2022-04-28T15:41:16.178Z"
   },
   {
    "duration": 5,
    "start_time": "2022-04-28T15:41:16.184Z"
   },
   {
    "duration": 10,
    "start_time": "2022-04-28T15:41:16.191Z"
   },
   {
    "duration": 7,
    "start_time": "2022-04-28T15:41:16.202Z"
   },
   {
    "duration": 40,
    "start_time": "2022-04-28T15:41:16.211Z"
   },
   {
    "duration": 7,
    "start_time": "2022-04-28T15:41:16.252Z"
   },
   {
    "duration": 9,
    "start_time": "2022-04-28T15:41:16.260Z"
   },
   {
    "duration": 9,
    "start_time": "2022-04-28T15:41:16.271Z"
   },
   {
    "duration": 6,
    "start_time": "2022-04-28T15:41:16.281Z"
   },
   {
    "duration": 280,
    "start_time": "2022-04-28T15:41:16.289Z"
   },
   {
    "duration": 4,
    "start_time": "2022-04-28T15:41:16.571Z"
   },
   {
    "duration": 266,
    "start_time": "2022-04-28T15:41:16.577Z"
   },
   {
    "duration": 199,
    "start_time": "2022-04-28T15:41:16.850Z"
   },
   {
    "duration": 326,
    "start_time": "2022-04-28T15:41:17.052Z"
   },
   {
    "duration": 202,
    "start_time": "2022-04-28T15:41:17.381Z"
   },
   {
    "duration": 300,
    "start_time": "2022-04-28T15:41:17.585Z"
   },
   {
    "duration": 8,
    "start_time": "2022-04-28T15:41:17.887Z"
   },
   {
    "duration": 154,
    "start_time": "2022-04-28T15:41:17.896Z"
   },
   {
    "duration": 4,
    "start_time": "2022-04-28T15:41:18.052Z"
   },
   {
    "duration": 211,
    "start_time": "2022-04-28T15:41:18.057Z"
   },
   {
    "duration": 4,
    "start_time": "2022-04-28T15:41:18.269Z"
   },
   {
    "duration": 229,
    "start_time": "2022-04-28T15:41:18.275Z"
   },
   {
    "duration": 147,
    "start_time": "2022-04-28T15:41:18.506Z"
   },
   {
    "duration": 6,
    "start_time": "2022-04-28T15:41:18.654Z"
   },
   {
    "duration": 9,
    "start_time": "2022-04-28T15:41:18.662Z"
   },
   {
    "duration": 23,
    "start_time": "2022-04-28T15:41:18.672Z"
   },
   {
    "duration": 4,
    "start_time": "2022-04-28T15:41:18.697Z"
   },
   {
    "duration": 6,
    "start_time": "2022-04-28T15:41:18.703Z"
   },
   {
    "duration": 6,
    "start_time": "2022-04-28T15:41:18.747Z"
   },
   {
    "duration": 10,
    "start_time": "2022-04-28T15:41:18.755Z"
   },
   {
    "duration": 6,
    "start_time": "2022-04-28T15:41:18.766Z"
   },
   {
    "duration": 11,
    "start_time": "2022-04-28T15:41:18.774Z"
   },
   {
    "duration": 8,
    "start_time": "2022-04-28T15:41:18.787Z"
   },
   {
    "duration": 58,
    "start_time": "2022-04-28T15:41:18.797Z"
   },
   {
    "duration": 4,
    "start_time": "2022-04-28T15:41:18.857Z"
   },
   {
    "duration": 8,
    "start_time": "2022-04-28T15:41:18.863Z"
   },
   {
    "duration": 6,
    "start_time": "2022-04-28T15:41:18.872Z"
   },
   {
    "duration": 5,
    "start_time": "2022-04-28T15:41:18.880Z"
   },
   {
    "duration": 6,
    "start_time": "2022-04-28T15:41:18.886Z"
   },
   {
    "duration": 6,
    "start_time": "2022-04-28T15:41:18.894Z"
   },
   {
    "duration": 3,
    "start_time": "2022-04-28T15:41:18.902Z"
   },
   {
    "duration": 3,
    "start_time": "2022-04-28T15:41:40.011Z"
   },
   {
    "duration": 8,
    "start_time": "2022-04-28T15:41:41.377Z"
   },
   {
    "duration": 7,
    "start_time": "2022-04-28T15:41:45.329Z"
   },
   {
    "duration": 1037,
    "start_time": "2022-04-28T15:42:19.892Z"
   },
   {
    "duration": 35,
    "start_time": "2022-04-28T15:42:20.931Z"
   },
   {
    "duration": 3,
    "start_time": "2022-04-28T15:42:20.968Z"
   },
   {
    "duration": 35,
    "start_time": "2022-04-28T15:42:20.973Z"
   },
   {
    "duration": 29,
    "start_time": "2022-04-28T15:42:21.010Z"
   },
   {
    "duration": 27,
    "start_time": "2022-04-28T15:42:21.040Z"
   },
   {
    "duration": 2,
    "start_time": "2022-04-28T15:42:21.069Z"
   },
   {
    "duration": 9,
    "start_time": "2022-04-28T15:42:21.073Z"
   },
   {
    "duration": 26,
    "start_time": "2022-04-28T15:42:21.083Z"
   },
   {
    "duration": 14,
    "start_time": "2022-04-28T15:42:21.112Z"
   },
   {
    "duration": 8,
    "start_time": "2022-04-28T15:42:21.127Z"
   },
   {
    "duration": 21,
    "start_time": "2022-04-28T15:42:21.136Z"
   },
   {
    "duration": 7,
    "start_time": "2022-04-28T15:42:21.159Z"
   },
   {
    "duration": 17,
    "start_time": "2022-04-28T15:42:21.168Z"
   },
   {
    "duration": 6,
    "start_time": "2022-04-28T15:42:21.186Z"
   },
   {
    "duration": 8,
    "start_time": "2022-04-28T15:42:21.193Z"
   },
   {
    "duration": 9,
    "start_time": "2022-04-28T15:42:21.203Z"
   },
   {
    "duration": 7,
    "start_time": "2022-04-28T15:42:21.213Z"
   },
   {
    "duration": 8,
    "start_time": "2022-04-28T15:42:21.221Z"
   },
   {
    "duration": 17,
    "start_time": "2022-04-28T15:42:21.231Z"
   },
   {
    "duration": 8,
    "start_time": "2022-04-28T15:42:21.250Z"
   },
   {
    "duration": 14,
    "start_time": "2022-04-28T15:42:21.259Z"
   },
   {
    "duration": 16,
    "start_time": "2022-04-28T15:42:21.274Z"
   },
   {
    "duration": 263,
    "start_time": "2022-04-28T15:42:21.291Z"
   },
   {
    "duration": 4,
    "start_time": "2022-04-28T15:42:21.555Z"
   },
   {
    "duration": 255,
    "start_time": "2022-04-28T15:42:21.561Z"
   },
   {
    "duration": 187,
    "start_time": "2022-04-28T15:42:21.818Z"
   },
   {
    "duration": 268,
    "start_time": "2022-04-28T15:42:22.009Z"
   },
   {
    "duration": 193,
    "start_time": "2022-04-28T15:42:22.278Z"
   },
   {
    "duration": 304,
    "start_time": "2022-04-28T15:42:22.473Z"
   },
   {
    "duration": 6,
    "start_time": "2022-04-28T15:42:22.779Z"
   },
   {
    "duration": 144,
    "start_time": "2022-04-28T15:42:22.787Z"
   },
   {
    "duration": 5,
    "start_time": "2022-04-28T15:42:22.932Z"
   },
   {
    "duration": 136,
    "start_time": "2022-04-28T15:42:22.948Z"
   },
   {
    "duration": 3,
    "start_time": "2022-04-28T15:42:23.086Z"
   },
   {
    "duration": 286,
    "start_time": "2022-04-28T15:42:23.091Z"
   },
   {
    "duration": 122,
    "start_time": "2022-04-28T15:42:23.379Z"
   },
   {
    "duration": 4,
    "start_time": "2022-04-28T15:42:23.503Z"
   },
   {
    "duration": 10,
    "start_time": "2022-04-28T15:42:23.508Z"
   },
   {
    "duration": 34,
    "start_time": "2022-04-28T15:42:23.520Z"
   },
   {
    "duration": 4,
    "start_time": "2022-04-28T15:42:23.555Z"
   },
   {
    "duration": 7,
    "start_time": "2022-04-28T15:42:23.560Z"
   },
   {
    "duration": 8,
    "start_time": "2022-04-28T15:42:23.568Z"
   },
   {
    "duration": 7,
    "start_time": "2022-04-28T15:42:23.577Z"
   },
   {
    "duration": 5,
    "start_time": "2022-04-28T15:42:23.586Z"
   },
   {
    "duration": 9,
    "start_time": "2022-04-28T15:42:23.592Z"
   },
   {
    "duration": 45,
    "start_time": "2022-04-28T15:42:23.603Z"
   },
   {
    "duration": 21,
    "start_time": "2022-04-28T15:42:23.649Z"
   },
   {
    "duration": 4,
    "start_time": "2022-04-28T15:42:23.671Z"
   },
   {
    "duration": 10,
    "start_time": "2022-04-28T15:42:23.677Z"
   },
   {
    "duration": 6,
    "start_time": "2022-04-28T15:42:23.688Z"
   },
   {
    "duration": 5,
    "start_time": "2022-04-28T15:42:23.695Z"
   },
   {
    "duration": 4,
    "start_time": "2022-04-28T15:42:23.701Z"
   },
   {
    "duration": 5,
    "start_time": "2022-04-28T15:42:23.707Z"
   },
   {
    "duration": 42,
    "start_time": "2022-04-28T15:42:23.714Z"
   },
   {
    "duration": 2,
    "start_time": "2022-04-28T15:42:47.040Z"
   },
   {
    "duration": 10,
    "start_time": "2022-04-28T15:42:48.771Z"
   },
   {
    "duration": 315,
    "start_time": "2022-04-28T15:48:08.339Z"
   },
   {
    "duration": 298,
    "start_time": "2022-04-28T15:48:14.053Z"
   },
   {
    "duration": 227,
    "start_time": "2022-04-28T15:52:33.772Z"
   },
   {
    "duration": 143,
    "start_time": "2022-04-28T15:53:02.235Z"
   },
   {
    "duration": 141,
    "start_time": "2022-04-28T15:53:29.739Z"
   },
   {
    "duration": 161,
    "start_time": "2022-04-28T15:53:41.679Z"
   },
   {
    "duration": 122,
    "start_time": "2022-04-28T15:54:03.376Z"
   },
   {
    "duration": 139,
    "start_time": "2022-04-28T15:54:27.039Z"
   },
   {
    "duration": 92,
    "start_time": "2022-04-28T16:03:05.663Z"
   },
   {
    "duration": 107,
    "start_time": "2022-04-28T16:03:38.209Z"
   },
   {
    "duration": 1296,
    "start_time": "2022-04-30T08:38:53.706Z"
   },
   {
    "duration": 81,
    "start_time": "2022-04-30T08:38:55.004Z"
   },
   {
    "duration": 3,
    "start_time": "2022-04-30T08:38:55.087Z"
   },
   {
    "duration": 34,
    "start_time": "2022-04-30T08:38:55.092Z"
   },
   {
    "duration": 31,
    "start_time": "2022-04-30T08:38:55.128Z"
   },
   {
    "duration": 23,
    "start_time": "2022-04-30T08:38:55.161Z"
   },
   {
    "duration": 4,
    "start_time": "2022-04-30T08:38:55.186Z"
   },
   {
    "duration": 31,
    "start_time": "2022-04-30T08:38:55.192Z"
   },
   {
    "duration": 23,
    "start_time": "2022-04-30T08:38:55.225Z"
   },
   {
    "duration": 11,
    "start_time": "2022-04-30T08:38:55.252Z"
   },
   {
    "duration": 5,
    "start_time": "2022-04-30T08:38:55.265Z"
   },
   {
    "duration": 14,
    "start_time": "2022-04-30T08:38:55.272Z"
   },
   {
    "duration": 3,
    "start_time": "2022-04-30T08:38:55.288Z"
   },
   {
    "duration": 8,
    "start_time": "2022-04-30T08:38:55.323Z"
   },
   {
    "duration": 4,
    "start_time": "2022-04-30T08:38:55.333Z"
   },
   {
    "duration": 6,
    "start_time": "2022-04-30T08:38:55.339Z"
   },
   {
    "duration": 6,
    "start_time": "2022-04-30T08:38:55.346Z"
   },
   {
    "duration": 9,
    "start_time": "2022-04-30T08:38:55.354Z"
   },
   {
    "duration": 11,
    "start_time": "2022-04-30T08:38:55.365Z"
   },
   {
    "duration": 9,
    "start_time": "2022-04-30T08:38:55.378Z"
   },
   {
    "duration": 35,
    "start_time": "2022-04-30T08:38:55.388Z"
   },
   {
    "duration": 7,
    "start_time": "2022-04-30T08:38:55.425Z"
   },
   {
    "duration": 7,
    "start_time": "2022-04-30T08:38:55.434Z"
   },
   {
    "duration": 267,
    "start_time": "2022-04-30T08:38:55.442Z"
   },
   {
    "duration": 12,
    "start_time": "2022-04-30T08:38:55.711Z"
   },
   {
    "duration": 259,
    "start_time": "2022-04-30T08:38:55.725Z"
   },
   {
    "duration": 202,
    "start_time": "2022-04-30T08:38:55.985Z"
   },
   {
    "duration": 353,
    "start_time": "2022-04-30T08:38:56.190Z"
   },
   {
    "duration": 188,
    "start_time": "2022-04-30T08:38:56.545Z"
   },
   {
    "duration": 304,
    "start_time": "2022-04-30T08:38:56.735Z"
   },
   {
    "duration": 6,
    "start_time": "2022-04-30T08:38:57.040Z"
   },
   {
    "duration": 151,
    "start_time": "2022-04-30T08:38:57.048Z"
   },
   {
    "duration": 4,
    "start_time": "2022-04-30T08:38:57.201Z"
   },
   {
    "duration": 154,
    "start_time": "2022-04-30T08:38:57.207Z"
   },
   {
    "duration": 4,
    "start_time": "2022-04-30T08:38:57.362Z"
   },
   {
    "duration": 302,
    "start_time": "2022-04-30T08:38:57.368Z"
   },
   {
    "duration": 125,
    "start_time": "2022-04-30T08:38:57.671Z"
   },
   {
    "duration": 5,
    "start_time": "2022-04-30T08:38:57.798Z"
   },
   {
    "duration": 19,
    "start_time": "2022-04-30T08:38:57.805Z"
   },
   {
    "duration": 22,
    "start_time": "2022-04-30T08:38:57.826Z"
   },
   {
    "duration": 4,
    "start_time": "2022-04-30T08:38:57.850Z"
   },
   {
    "duration": 7,
    "start_time": "2022-04-30T08:38:57.856Z"
   },
   {
    "duration": 6,
    "start_time": "2022-04-30T08:38:57.865Z"
   },
   {
    "duration": 7,
    "start_time": "2022-04-30T08:38:57.873Z"
   },
   {
    "duration": 5,
    "start_time": "2022-04-30T08:38:57.882Z"
   },
   {
    "duration": 41,
    "start_time": "2022-04-30T08:38:57.889Z"
   },
   {
    "duration": 7,
    "start_time": "2022-04-30T08:38:57.932Z"
   },
   {
    "duration": 41,
    "start_time": "2022-04-30T08:38:57.940Z"
   },
   {
    "duration": 4,
    "start_time": "2022-04-30T08:38:57.983Z"
   },
   {
    "duration": 11,
    "start_time": "2022-04-30T08:38:57.988Z"
   },
   {
    "duration": 10,
    "start_time": "2022-04-30T08:38:58.000Z"
   },
   {
    "duration": 12,
    "start_time": "2022-04-30T08:38:58.011Z"
   },
   {
    "duration": 5,
    "start_time": "2022-04-30T08:38:58.024Z"
   },
   {
    "duration": 10,
    "start_time": "2022-04-30T08:38:58.030Z"
   },
   {
    "duration": 12,
    "start_time": "2022-04-30T08:38:58.042Z"
   },
   {
    "duration": 2,
    "start_time": "2022-04-30T08:39:54.162Z"
   },
   {
    "duration": 8,
    "start_time": "2022-04-30T08:39:58.327Z"
   },
   {
    "duration": 3,
    "start_time": "2022-04-30T08:40:05.531Z"
   },
   {
    "duration": 8,
    "start_time": "2022-04-30T08:40:07.109Z"
   },
   {
    "duration": 3,
    "start_time": "2022-04-30T08:40:13.631Z"
   },
   {
    "duration": 8,
    "start_time": "2022-04-30T08:40:15.566Z"
   },
   {
    "duration": 2,
    "start_time": "2022-04-30T08:42:28.972Z"
   },
   {
    "duration": 8,
    "start_time": "2022-04-30T08:42:29.518Z"
   },
   {
    "duration": 1225,
    "start_time": "2022-04-30T08:42:34.487Z"
   },
   {
    "duration": 72,
    "start_time": "2022-04-30T08:42:35.715Z"
   },
   {
    "duration": 2,
    "start_time": "2022-04-30T08:42:35.789Z"
   },
   {
    "duration": 41,
    "start_time": "2022-04-30T08:42:35.793Z"
   },
   {
    "duration": 33,
    "start_time": "2022-04-30T08:42:35.836Z"
   },
   {
    "duration": 26,
    "start_time": "2022-04-30T08:42:35.870Z"
   },
   {
    "duration": 2,
    "start_time": "2022-04-30T08:42:35.898Z"
   },
   {
    "duration": 6,
    "start_time": "2022-04-30T08:42:35.902Z"
   },
   {
    "duration": 15,
    "start_time": "2022-04-30T08:42:35.910Z"
   },
   {
    "duration": 7,
    "start_time": "2022-04-30T08:42:35.928Z"
   },
   {
    "duration": 7,
    "start_time": "2022-04-30T08:42:35.937Z"
   },
   {
    "duration": 10,
    "start_time": "2022-04-30T08:42:35.946Z"
   },
   {
    "duration": 3,
    "start_time": "2022-04-30T08:42:35.958Z"
   },
   {
    "duration": 14,
    "start_time": "2022-04-30T08:42:35.962Z"
   },
   {
    "duration": 12,
    "start_time": "2022-04-30T08:42:35.977Z"
   },
   {
    "duration": 15,
    "start_time": "2022-04-30T08:42:35.991Z"
   },
   {
    "duration": 8,
    "start_time": "2022-04-30T08:42:36.007Z"
   },
   {
    "duration": 15,
    "start_time": "2022-04-30T08:42:36.017Z"
   },
   {
    "duration": 13,
    "start_time": "2022-04-30T08:42:36.034Z"
   },
   {
    "duration": 7,
    "start_time": "2022-04-30T08:42:36.049Z"
   },
   {
    "duration": 15,
    "start_time": "2022-04-30T08:42:36.058Z"
   },
   {
    "duration": 8,
    "start_time": "2022-04-30T08:42:36.075Z"
   },
   {
    "duration": 11,
    "start_time": "2022-04-30T08:42:36.085Z"
   },
   {
    "duration": 282,
    "start_time": "2022-04-30T08:42:36.098Z"
   },
   {
    "duration": 3,
    "start_time": "2022-04-30T08:42:36.382Z"
   },
   {
    "duration": 370,
    "start_time": "2022-04-30T08:42:36.386Z"
   },
   {
    "duration": 311,
    "start_time": "2022-04-30T08:42:36.758Z"
   },
   {
    "duration": 287,
    "start_time": "2022-04-30T08:42:37.073Z"
   },
   {
    "duration": 210,
    "start_time": "2022-04-30T08:42:37.361Z"
   },
   {
    "duration": 384,
    "start_time": "2022-04-30T08:42:37.577Z"
   },
   {
    "duration": 7,
    "start_time": "2022-04-30T08:42:37.963Z"
   },
   {
    "duration": 137,
    "start_time": "2022-04-30T08:42:37.971Z"
   },
   {
    "duration": 12,
    "start_time": "2022-04-30T08:42:38.110Z"
   },
   {
    "duration": 145,
    "start_time": "2022-04-30T08:42:38.124Z"
   },
   {
    "duration": 4,
    "start_time": "2022-04-30T08:42:38.271Z"
   },
   {
    "duration": 281,
    "start_time": "2022-04-30T08:42:38.277Z"
   },
   {
    "duration": 133,
    "start_time": "2022-04-30T08:42:38.559Z"
   },
   {
    "duration": 4,
    "start_time": "2022-04-30T08:42:38.694Z"
   },
   {
    "duration": 7,
    "start_time": "2022-04-30T08:42:38.700Z"
   },
   {
    "duration": 30,
    "start_time": "2022-04-30T08:42:38.709Z"
   },
   {
    "duration": 4,
    "start_time": "2022-04-30T08:42:38.740Z"
   },
   {
    "duration": 7,
    "start_time": "2022-04-30T08:42:38.745Z"
   },
   {
    "duration": 6,
    "start_time": "2022-04-30T08:42:38.754Z"
   },
   {
    "duration": 7,
    "start_time": "2022-04-30T08:42:38.761Z"
   },
   {
    "duration": 7,
    "start_time": "2022-04-30T08:42:38.770Z"
   },
   {
    "duration": 14,
    "start_time": "2022-04-30T08:42:38.778Z"
   },
   {
    "duration": 8,
    "start_time": "2022-04-30T08:42:38.822Z"
   },
   {
    "duration": 22,
    "start_time": "2022-04-30T08:42:38.831Z"
   },
   {
    "duration": 4,
    "start_time": "2022-04-30T08:42:38.854Z"
   },
   {
    "duration": 11,
    "start_time": "2022-04-30T08:42:38.859Z"
   },
   {
    "duration": 10,
    "start_time": "2022-04-30T08:42:38.871Z"
   },
   {
    "duration": 7,
    "start_time": "2022-04-30T08:42:38.883Z"
   },
   {
    "duration": 11,
    "start_time": "2022-04-30T08:42:38.892Z"
   },
   {
    "duration": 6,
    "start_time": "2022-04-30T08:42:38.922Z"
   },
   {
    "duration": 10,
    "start_time": "2022-04-30T08:42:38.929Z"
   },
   {
    "duration": 181,
    "start_time": "2022-04-30T08:45:15.871Z"
   },
   {
    "duration": 179,
    "start_time": "2022-04-30T08:45:21.444Z"
   },
   {
    "duration": 208,
    "start_time": "2022-04-30T08:48:52.915Z"
   },
   {
    "duration": 190,
    "start_time": "2022-04-30T08:48:59.305Z"
   },
   {
    "duration": 5,
    "start_time": "2022-04-30T08:49:54.194Z"
   },
   {
    "duration": 5,
    "start_time": "2022-04-30T08:50:15.281Z"
   },
   {
    "duration": 4,
    "start_time": "2022-04-30T08:50:22.849Z"
   },
   {
    "duration": 6,
    "start_time": "2022-04-30T08:56:16.500Z"
   },
   {
    "duration": 5,
    "start_time": "2022-04-30T08:56:32.828Z"
   },
   {
    "duration": 9,
    "start_time": "2022-04-30T08:58:06.181Z"
   },
   {
    "duration": 11,
    "start_time": "2022-04-30T08:58:28.811Z"
   },
   {
    "duration": 11,
    "start_time": "2022-04-30T08:58:39.708Z"
   },
   {
    "duration": 113,
    "start_time": "2022-04-30T09:02:14.057Z"
   },
   {
    "duration": 5,
    "start_time": "2022-04-30T09:03:12.649Z"
   },
   {
    "duration": 158,
    "start_time": "2022-04-30T09:03:19.342Z"
   },
   {
    "duration": 182,
    "start_time": "2022-04-30T09:03:54.176Z"
   },
   {
    "duration": 163,
    "start_time": "2022-04-30T09:04:24.800Z"
   },
   {
    "duration": 22,
    "start_time": "2022-04-30T09:04:42.425Z"
   },
   {
    "duration": 12,
    "start_time": "2022-04-30T09:04:54.276Z"
   },
   {
    "duration": 10,
    "start_time": "2022-04-30T09:06:01.041Z"
   }
  ],
  "kernelspec": {
   "display_name": "Python 3 (ipykernel)",
   "language": "python",
   "name": "python3"
  },
  "language_info": {
   "codemirror_mode": {
    "name": "ipython",
    "version": 3
   },
   "file_extension": ".py",
   "mimetype": "text/x-python",
   "name": "python",
   "nbconvert_exporter": "python",
   "pygments_lexer": "ipython3",
   "version": "3.9.7"
  },
  "toc": {
   "base_numbering": 1,
   "nav_menu": {},
   "number_sections": true,
   "sideBar": true,
   "skip_h1_title": true,
   "title_cell": "Table of Contents",
   "title_sidebar": "Contents",
   "toc_cell": false,
   "toc_position": {},
   "toc_section_display": true,
   "toc_window_display": false
  }
 },
 "nbformat": 4,
 "nbformat_minor": 2
}
